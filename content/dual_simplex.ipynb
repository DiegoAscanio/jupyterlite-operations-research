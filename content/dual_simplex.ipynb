{
  "metadata": {
    "kernelspec": {
      "name": "python",
      "display_name": "Python (Pyodide)",
      "language": "python"
    },
    "language_info": {
      "codemirror_mode": {
        "name": "python",
        "version": 3
      },
      "file_extension": ".py",
      "mimetype": "text/x-python",
      "name": "python",
      "nbconvert_exporter": "python",
      "pygments_lexer": "ipython3",
      "version": "3.8"
    }
  },
  "nbformat_minor": 4,
  "nbformat": 4,
  "cells": [
    {
      "cell_type": "markdown",
      "source": "# Exemplos Dual Simplex\n\n**Preâmbulo**",
      "metadata": {}
    },
    {
      "cell_type": "code",
      "source": "%load_ext autoreload\n%autoreload 2\n%pip install numpy scipy\nimport numpy as np\nfrom dual_simplex import dual_simplex, _dual_feasible_basis, _is_dual_feasible\nfrom scipy.optimize import linprog",
      "metadata": {
        "trusted": true
      },
      "outputs": [
        {
          "name": "stdout",
          "text": "The autoreload extension is already loaded. To reload it, use:\n  %reload_ext autoreload\n",
          "output_type": "stream"
        }
      ],
      "execution_count": 111
    },
    {
      "cell_type": "markdown",
      "source": "## Exemplo 5.12",
      "metadata": {}
    },
    {
      "cell_type": "code",
      "source": "A = np.array([\n    [ 2, -1,  1, -2, 1, 0,  0,  0,  0],\n    [-1,  2, -1,  1, 0, 1,  0,  0,  0],\n    [ 2,  1, -1,  0, 0, 0, -1,  0,  0],\n    [ 0,  1,  0,  0, 0, 0,  0, -1,  0],\n    [ 0,  0,  0,  1, 0, 0,  0,  0, -1]\n])\nb = np.array([\n    6,\n    8,\n    2,\n    1,\n    2\n])\nc = np.array([\n    1, 2, 3, -1, 0, 0, 0, 0, 0\n])\n\nm, n = A.shape\n\nI = list(\n    range(n - m,  n)\n)\n\nA_aux, b_aux, c_aux, I_aux, J_aux = _dual_feasible_basis(A, b, c, I)\nz_star, x_star, w_star, I_star, iters, solution_type, steps = dual_simplex(A_aux, b_aux, c_aux, I_aux)",
      "metadata": {
        "trusted": true
      },
      "outputs": [],
      "execution_count": 101
    },
    {
      "cell_type": "markdown",
      "source": "**Comparação com o Scipy**",
      "metadata": {}
    },
    {
      "cell_type": "code",
      "source": "res = linprog(c = c, A_eq = A, b_eq = b)\nassert res.fun == z_star",
      "metadata": {
        "trusted": true
      },
      "outputs": [],
      "execution_count": 102
    },
    {
      "cell_type": "markdown",
      "source": "## Exemplo 5.13",
      "metadata": {}
    },
    {
      "cell_type": "code",
      "source": "A = np.array([\n    [ 3, 1, 1, 1, 0, 0],\n    [-1, 1, 0, 0, 1, 0],\n    [ 0, 1, 2, 0, 0, 1]\n])\nb = np.array([\n    12,\n    4,\n    8\n])\nc = np.array([-2, -1, -3, 0, 0, 0])\nm, n = A.shape\nI = list(\n    range(n - m, n)\n)\nA_aux, b_aux, c_aux, I_aux, J_aux = _dual_feasible_basis(A, b, c, I)\nz_star, x_star, w_star, I_star, iters, solution_type, steps = dual_simplex(A_aux, b_aux, c_aux, I_aux)",
      "metadata": {
        "trusted": true
      },
      "outputs": [],
      "execution_count": 114
    },
    {
      "cell_type": "markdown",
      "source": "**Comparação com o scipy**",
      "metadata": {}
    },
    {
      "cell_type": "code",
      "source": "res = linprog(c = c, A_eq = A, b_eq = b)\nassert np.isclose(\n    res.fun,\n    z_star\n)",
      "metadata": {
        "trusted": true
      },
      "outputs": [],
      "execution_count": 124
    },
    {
      "cell_type": "markdown",
      "source": "## Exemplo 5.14",
      "metadata": {}
    },
    {
      "cell_type": "code",
      "source": "A = np.array([\n    [1, 3,  1, 1,  0],\n    [2, 1, -1, 0, -1]\n])\nb = np.array([\n    8,\n    3\n])\nc = np.array([-2, -3, 2, 0, 0])\nm, n = A.shape\nI = list(\n    range(n - m, n)\n)\nA_aux, b_aux, c_aux, I_aux, J_aux = _dual_feasible_basis(A, b, c, I)\nz_star, x_star, w_star, I_star, iters, solution_type, steps = dual_simplex(A_aux, b_aux, c_aux, I_aux)",
      "metadata": {
        "trusted": true
      },
      "outputs": [],
      "execution_count": 125
    },
    {
      "cell_type": "markdown",
      "source": "**Comparação com o scipy**",
      "metadata": {}
    },
    {
      "cell_type": "code",
      "source": "res = linprog(c = c, A_eq = A, b_eq = b)\nassert np.isclose(\n    res.fun,\n    z_star\n)",
      "metadata": {
        "trusted": true
      },
      "outputs": [],
      "execution_count": 126
    }
  ]
}