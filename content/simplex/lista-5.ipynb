{
  "metadata": {
    "kernelspec": {
      "name": "python",
      "display_name": "Python (Pyodide)",
      "language": "python"
    },
    "language_info": {
      "codemirror_mode": {
        "name": "python",
        "version": 3
      },
      "file_extension": ".py",
      "mimetype": "text/x-python",
      "name": "python",
      "nbconvert_exporter": "python",
      "pygments_lexer": "ipython3",
      "version": "3.8"
    }
  },
  "nbformat_minor": 4,
  "nbformat": 4,
  "cells": [
    {
      "cell_type": "code",
      "source": "%pip install numpy\n%pip install sympy\n%pip install scipy\n%load_ext autoreload\n%autoreload 2\nfrom simplex_two_phases import simplex as simplex_two_phases\nfrom simplex_tableau import simplex as simplex_tableau\nfrom simplex_tableau import markdown_repr_T\nfrom simplex import simplex\n\n    \nimport numpy as np\nfrom pprint import pprint\nfrom IPython.display import Markdown, display\nfrom itertools import combinations\nfrom sympy import symbols\n\n\nsolution_types = {\n    -1: 'Unfeasible',\n    1: 'Optimal finite solution found',\n    2: 'Multiple optimal solutions found',\n    3: 'Unbounded'\n}",
      "metadata": {
        "trusted": true
      },
      "outputs": [
        {
          "name": "stdout",
          "text": "The autoreload extension is already loaded. To reload it, use:\n  %reload_ext autoreload\n",
          "output_type": "stream"
        }
      ],
      "execution_count": 2
    },
    {
      "cell_type": "markdown",
      "source": "# Lista 5\n## Exercício 3.22",
      "metadata": {}
    },
    {
      "cell_type": "code",
      "source": "# Instantiate the data for the default minimization\n# problem in the form:\n# z = min C.T @ X\n# subject to:\n#     A @ X = B\n\nC = np.array([\n    -3,\n    -4,\n    -2.5,\n    0,\n    0,\n    0\n])\n\nA = np.array([\n    [3, 4, 2, 1, 0, 0],\n    [2, 1, 2, 0, 1, 0],\n    [1, 3, 3, 0, 0, 1]\n])\n\nB = np.array([\n    500,\n    400,\n    300\n])\n\nm, n = A.shape\nI = [3, 4, 5]\n\nZ_star, x_I, I_star, A_I, A, iterations, solution_type, debug_info = simplex_two_phases(A, B, C, I, debug = True)\n#Z_star, x_star, I_star, iterations, solution_type = simplex(A, b, c, I, debug = True)\nx_star = np.zeros(n)\nx_star[I_star] = x_I\nresult_repr = f'''\nExercicio 3.22):\n\nZ_star = {Z_star}\nx_star = {x_star}\nI_star = {I_star}\niterations = {iterations + 1}\nsolution_type = {solution_type} - {solution_types[solution_type]}\n'''\nprint(result_repr)\ndisplay('Simplex Steps:\\n\\n')\ndisplay(debug_info)",
      "metadata": {
        "trusted": true
      },
      "outputs": [],
      "execution_count": null
    },
    {
      "cell_type": "markdown",
      "source": "## Exercício 3.23",
      "metadata": {}
    },
    {
      "cell_type": "code",
      "source": "# Instantiate the data for the default minimization\n# problem in the form:\n# z = min C.T @ X\n# subject to:\n#     A @ X = B\n\nnp.set_printoptions(suppress=True)\n\nC = np.array([\n    -1, 0, 0, 0, 0, 0, 0, 0, 0, 0, 0\n])\n\nA = np.array([\n       [ 1.0e+00,  0.0e+00, -1.0e+00,  0.0e+00,  1.0e+00,  0.0e+00,\n         0.0e+00,  0.0e+00,  0.0e+00,  0.0e+00,  0.0e+00],\n       [ 1.0e+00,  0.0e+00,  0.0e+00, -1.0e+00,  0.0e+00,  1.0e+00,\n         0.0e+00,  0.0e+00,  0.0e+00,  0.0e+00,  0.0e+00],\n       [ 0.0e+00,  3.0e+01,  4.5e+03,  0.0e+00,  0.0e+00,  0.0e+00,\n         1.0e+00,  0.0e+00,  0.0e+00,  0.0e+00,  0.0e+00],\n       [ 0.0e+00,  4.0e+01,  5.0e+03,  5.0e+03,  0.0e+00,  0.0e+00,\n         0.0e+00,  1.0e+00,  0.0e+00,  0.0e+00,  0.0e+00],\n       [ 0.0e+00,  5.0e-01,  1.5e+02,  1.5e+02,  0.0e+00,  0.0e+00,\n         0.0e+00,  0.0e+00,  1.0e+00,  0.0e+00,  0.0e+00],\n       [ 0.0e+00,  1.0e+00,  0.0e+00,  0.0e+00,  0.0e+00,  0.0e+00,\n         0.0e+00,  0.0e+00,  0.0e+00, -1.0e+00,  0.0e+00],\n       [ 0.0e+00,  1.0e+00,  0.0e+00,  0.0e+00,  0.0e+00,  0.0e+00,\n         0.0e+00,  0.0e+00,  0.0e+00,  0.0e+00,  1.0e+00]\n])\n\nB = np.array([\n    0,\n    0,\n    150e3,\n    100e3,\n    600,\n    600,\n    800\n])\n\nm, n = A.shape\nI = list(range(4,11))\n\nZ_star, x_I, I_star, A_I, A, iterations, solution_type, debug_info = simplex_two_phases(A, B, C, I, debug = True)\n#Z_star, x_star, I_star, iterations, solution_type = simplex(A, b, c, I, debug = True)\nx_star = np.zeros(n)\nx_star[I_star] = x_I\nx_star = {\n    f'x_{i:}': f'{x:.2f}' for i, x in enumerate(x_star)\n}\nresult_repr = f'''\nExercicio 3.23):\n\nZ_star = {Z_star}\nx_star = {str(x_star)}\nI_star = {I_star}\niterations = {iterations + 1}\nsolution_type = {solution_type} - {solution_types[solution_type]}\n'''\nprint(result_repr)\ndisplay('Simplex Steps:\\n\\n')\ndisplay(debug_info)",
      "metadata": {
        "trusted": true
      },
      "outputs": [],
      "execution_count": null
    },
    {
      "cell_type": "markdown",
      "source": "### Estudo dos valores do vetor X nas 2 Únicas Iterações da Fase 1 do Simplex para o Problema em Tela",
      "metadata": {}
    },
    {
      "cell_type": "code",
      "source": "X = list(debug_info['first phase']['first_phase_debug_info'][f'debug_info_iteration_{i:02d}']['x'] for i in range(2))\nfor x in X:\n    display(x)",
      "metadata": {
        "trusted": true
      },
      "outputs": [],
      "execution_count": null
    },
    {
      "cell_type": "markdown",
      "source": "### Estudo dos valores do vetor X nas 4 Únicas Iterações da Fase 2 do Simplex para o Problema em Tela",
      "metadata": {}
    },
    {
      "cell_type": "code",
      "source": "X = list(debug_info['second phase'][f'debug_info_iteration_{i:02d}']['x'] for i in range(4))\nfor x in X:\n    display(x)",
      "metadata": {
        "trusted": true
      },
      "outputs": [],
      "execution_count": null
    },
    {
      "cell_type": "markdown",
      "source": "### Estudo dos valores do vetor I nas 4 Únicas Iterações da Fase 2 do Simplex para o Problema em Tela",
      "metadata": {}
    },
    {
      "cell_type": "code",
      "source": "I = list(debug_info['second phase'][f'debug_info_iteration_{i:02d}']['computed I'] for i in range(4))\nfor i in I:\n    display(i)",
      "metadata": {
        "trusted": true
      },
      "outputs": [],
      "execution_count": null
    },
    {
      "cell_type": "markdown",
      "source": "## Exercício 3.26",
      "metadata": {}
    },
    {
      "cell_type": "code",
      "source": "C = np.array([2, -2, -1, 1, 0, 0, 0, 0])\nA = np.array([\n    [-1,  1,  3, -3, 1, 0, 0, 0],\n    [-2, 2, -1,  1, 0, 1, 0, 0],\n    [2, -2,  3, -3, 0, 0, 1, 0],\n    [3, -3, -2,  2, 0, 0, 0, 1]\n])\nB = np.array([3, 2, 6, 6])\n\nm, n = A.shape\nI = list(range(4,8))\n\nsolution = simplex_tableau(A, B, C, I)\n\n'''\n    Display solution\n'''\nZ_star = solution['Z_star']\nI_star = solution['I_star']\nX_star = np.zeros(n)\nX_star[I_star] = solution['X_star']\nsolution_type = solution_types[\n    solution['solution_type']\n]\nsolution_md = f'''\n## Solution\n\n\\\\\\\\(X^{{*}}\\\\\\\\) = {repr(np.round(X_star, 2))}\n\n\\\\\\\\(Z^{{*}} = {repr(np.round(Z_star, 5))} \\\\\\\\)\n\n\\\\\\\\(\\\\text{{I}}^{{*}}\\\\\\\\) = {repr([\n    '\\\\(X_' + str(i) + '\\\\)' for i in I_star\n])}\n'''\ndisplay(\n    Markdown(\n        solution_md\n    )\n)\n\n'''\n    Display Tableaus\n'''\ntableau_steps = solution['tableaus']\ntableau_md = markdown_repr_T(tableau_steps)\ndisplay(\n    Markdown(\n        tableau_md\n    )\n)\n",
      "metadata": {
        "trusted": true
      },
      "outputs": [],
      "execution_count": null
    },
    {
      "cell_type": "markdown",
      "source": "## Exercício 3.27",
      "metadata": {}
    },
    {
      "cell_type": "code",
      "source": "C = np.array([-2, -1, -6, 4, 0, 0, 0])\nA = np.array([\n    [1, 2,  4, -1, 1, 0, 0],\n    [2, 3, -1,  1, 0, 1, 0],\n    [1, 0,  1,  1, 0, 0, 1]\n])\nB = np.array([6, 12, 2])\n\nm, n = A.shape\nI = [0, 1, 3]\n\nsolution = simplex_tableau(A, B, C, I)\n\n'''\n    Display solution\n'''\nZ_star = solution['Z_star']\nI_star = solution['I_star']\nX_star = np.zeros(n)\nX_star[I_star] = solution['X_star']\nsolution_type = solution_types[\n    solution['solution_type']\n]\nsolution_md = f'''\n## Solution\n\n\\\\\\\\(X^{{*}}\\\\\\\\) = {repr(np.round(X_star, 2))}\n\n\\\\\\\\(Z^{{*}} = {repr(np.round(Z_star, 5))} \\\\\\\\)\n\n\\\\\\\\(\\\\text{{I}}^{{*}}\\\\\\\\) = {repr([\n    '\\\\(X_' + str(i) + '\\\\)' for i in I_star\n])}\n'''\ndisplay(\n    Markdown(\n        solution_md\n    )\n)\n\n'''\n    Display Tableaus\n'''\ntableaus = True\nif tableaus:\n    tableau_steps = solution['tableaus']\n    tableau_md = markdown_repr_T(tableau_steps)\n    display(\n        Markdown(\n            tableau_md\n        )\n    )",
      "metadata": {
        "trusted": true
      },
      "outputs": [],
      "execution_count": null
    },
    {
      "cell_type": "code",
      "source": "from simplex_tableau import _apply_pivot, _markdown_pivot_operations, _markdown_T\nT = np.copy(tableau_steps[0]['previous_T'])\nI = [4, 5, 6]\ndisplay(\n    Markdown(\n        _markdown_T(T, I)\n    )\n)\nr = 4\nk = 0\nT, pivot_operations = _apply_pivot(T, r, k, I)\ndisplay(\n    Markdown(\n        _markdown_pivot_operations(f'X_{k}', f'X_{r}', I, pivot_operations)\n    )\n)\nI = [0, 5, 6]\ndisplay(\n    Markdown(\n        _markdown_T(T, I)\n    )\n)\nr = 5\nk = 1\nT, pivot_operations = _apply_pivot(T, r, k, I)\ndisplay(\n    Markdown(\n        _markdown_pivot_operations(f'X_{k}', f'X_{r}', I, pivot_operations)\n    )\n)\nI = [0, 1, 6]\ndisplay(\n    Markdown(\n        _markdown_T(T, I)\n    )\n)\n# tirar x6, colocar x3\nr = 6\nk = 3\nT, pivot_operations = _apply_pivot(T, r, k, I)\ndisplay(\n    Markdown(\n        _markdown_pivot_operations(f'X_{k}', f'X_{r}', I, pivot_operations)\n    )\n)\nI = [0, 1, 3]\ndisplay(\n    Markdown(\n        _markdown_T(T, I)\n    )\n)",
      "metadata": {
        "trusted": true
      },
      "outputs": [],
      "execution_count": null
    },
    {
      "cell_type": "markdown",
      "source": "Agora, aplicando o algoritmo a partir desta base",
      "metadata": {}
    },
    {
      "cell_type": "code",
      "source": "I = [0, 1, 3]\n\n'''\n    Display solution\n'''\nZ_star = solution['Z_star']\nI_star = solution['I_star']\nX_star = np.zeros(n)\nX_star[I_star] = solution['X_star']\nsolution_type = solution_types[\n    solution['solution_type']\n]\nsolution_md = f'''\n## Solution\n\n\\\\\\\\(X^{{*}}\\\\\\\\) = {repr(np.round(X_star, 2))}\n\n\\\\\\\\(Z^{{*}} = {repr(np.round(Z_star, 5))} \\\\\\\\)\n\n\\\\\\\\(\\\\text{{I}}^{{*}}\\\\\\\\) = {repr([\n    '\\\\(X_' + str(i) + '\\\\)' for i in I_star\n])}\n'''\ndisplay(\n    Markdown(\n        solution_md\n    )\n)\n\n'''\n    Display Tableaus\n'''\ntableaus = True\nif tableaus:\n    tableau_steps = solution['tableaus']\n    tableau_md = markdown_repr_T(tableau_steps)\n    display(\n        Markdown(\n            tableau_md\n        )\n    )",
      "metadata": {
        "trusted": true
      },
      "outputs": [],
      "execution_count": null
    },
    {
      "cell_type": "markdown",
      "source": "## Exercício 3.28",
      "metadata": {}
    },
    {
      "cell_type": "code",
      "source": "C = np.array([3, -2, 1, -1, 0, 0, 0])\nA = np.array([\n    [ 2, -3, -1,  1, 1, 0, 0],\n    [-1,  2,  2, -3, 0, 1, 0],\n    [-1,  1, -4,  1, 0, 0, 1]\n])\nB = np.array([0, 1, 8])\n\nm, n = A.shape\nI = [4, 5, 6]\n\nsolution = simplex_tableau(A, B, C, I)\n\n'''\n    Display solution\n'''\nZ_star = solution['Z_star']\nI_star = solution['I_star']\nX_star = np.zeros(n)\nX_star[I_star] = solution['X_star']\nsolution_type = solution_types[\n    solution['solution_type']\n]\nsolution_md = f'''\n## Solution\n\nSolution type: {solution_type}\n\n\\\\\\\\(X^{{*}}\\\\\\\\) = {repr(np.round(X_star, 2))}\n\n\\\\\\\\(Z^{{*}} = {repr(np.round(Z_star, 5))} \\\\\\\\)\n\n\\\\\\\\(\\\\text{{I}}^{{*}}\\\\\\\\) = {repr([\n    '\\\\(X_' + str(i) + '\\\\)' for i in I_star\n])}\n'''\ndisplay(\n    Markdown(\n        solution_md\n    )\n)\n\n'''\n    Display Tableaus\n'''\ntableaus = True\nif tableaus:\n    tableau_steps = solution['tableaus']\n    tableau_md = markdown_repr_T(tableau_steps)\n    display(\n        Markdown(\n            tableau_md\n        )\n    )",
      "metadata": {
        "trusted": true
      },
      "outputs": [],
      "execution_count": null
    },
    {
      "cell_type": "markdown",
      "source": "Como \\\\(X_2\\\\) é ilimitada, ou seja, nenhuma variável da base limita seu crescimento, é interessante sempre adicionar valores à variável \\\\(X_2\\\\) para que a medida em que \\\\(X_2 \\rightarrow \\infty, \\quad Z^{*} \\rightarrow - \\infty \\\\). Isso pode ser obtido através da base \\\\(I^{*} = [X_4, X_1, X_3]\\\\) como:\n\n\\\\[\n    X_I = {A_I}^{-1} \\overline{b} - \\left[ y_k \\right] x_k\n\\\\]\n\nComo \\\\(k = 2\\\\) e \\\\(b^{T} = \\left[ 12, 5, 3 \\right] \\\\), logo:\n\n\\\\[\n    X^{*} = \\left\\{\n        \\begin{bmatrix}\n            \\underline{{A_I}^{-1} \\overline{b}} \\\\\n            0 \\\\\n            \\vdots \\\\\n            0 \\\\\n            \\vdots \\\\\n            0\n        \\end{bmatrix} + x_k \\ \n        \\begin{bmatrix}\n            \\underline{- y_k} \\\\\n            0 \\\\\n            \\vdots \\\\\n            1 \\\\\n            \\vdots \\\\\n            0\n        \\end{bmatrix} : x_k \\geq 0\n    \\right\\}\n\\\\]\n\nOnde o vetor \\\\( \n    \\begin{bmatrix}\n        \\underline{- y_k} \\\\\n        0 \\\\\n        \\vdots \\\\\n        1 \\\\\n        \\vdots \\\\\n        0\n    \\end{bmatrix}\n\\\\) representa a direção \\\\(d\\\\) do crescimento da variável ilimitada e é composto nos índices básicos pelos valores \\\\(- y_k\\\\) onde \\\\(y_k\\\\) corresponde à coluna \\\\(k\\\\) da matriz de \\\\(A\\\\) de restições — dada por \\\\(A_{\\left[ :, k \\right]}\\\\) — e nos índices básicos por zeros, exceto na k-ésima posição das variáveis não-básicas.\n\nAssim, temos que\n\n\\\\[\n    X^{*} = \\left\\{\n        \\begin{bmatrix}\n            12 \\\\\n             5 \\\\\n             3 \\\\\n             0 \\\\\n             0 \\\\\n             0 \\\\\n             0\n        \\end{bmatrix} + x_2 \\ \n        \\begin{bmatrix}\n             5 \\\\\n             2 \\\\\n             2 \\\\\n             0 \\\\\n             0 \\\\\n             1 \\\\\n             0\n        \\end{bmatrix} = \n        \\begin{bmatrix}\n            12 + 5 x_2 \\\\\n             5 + 2 x_2 \\\\\n             3 + 2 x_2 \\\\\n             0 \\\\\n             0 \\\\\n             x_2 \\\\\n             0\n        \\end{bmatrix}\n    \\right\\}\n\\\\]\n\nConsiderando \\\\(I = [4, 1, 3]\\\\) e \\\\(J = [0, 5, 2, 6]\\\\)\n\n\\\\[\n    X^{*} =\n    \\begin{bmatrix}\n            0 \\\\\n            5 + 2 x_2 \\\\\n            x_2  \\\\\n            3 + 2 x_2 \\\\\n            12 + 5 x_2 \\\\\n            0 \\\\\n            0\n    \\end{bmatrix}\n\\\\]\n\nAgora, o exercício solicita-nos um valor de x2 que garanta que a função objetivo seja maior ou igual a 3500. Com o auxilio da biblioteca sympy (computação simbolica) é possível encontrar de imediato qual valor satisfaz a condição dado que desejamos:\n\n\\\\[\n    C^{T} \\cdot \\begin{bmatrix}\n            0 \\\\\n            5 + 2 x_2 \\\\\n            x_2  \\\\\n            3 + 2 x_2 \\\\\n            12 + 5 x_2 \\\\\n            0 \\\\\n            0\n    \\end{bmatrix} \\geq 3500\n\\\\]",
      "metadata": {}
    },
    {
      "cell_type": "code",
      "source": "from sympy import symbols, Matrix, solve\n\nalpha = symbols('α')\n\nX_unbounded = Matrix([\n    0,\n    5 + 2 * alpha,\n    alpha,\n    3 + 2* alpha,\n    12 + 5 * alpha,\n    0,\n    0\n])\ndisplay(C.dot(X_unbounded))\ndisplay(\n    Markdown(\n        repr(solve(C.dot(X_unbounded) + 3500))\n    )\n)",
      "metadata": {
        "trusted": true
      },
      "outputs": [],
      "execution_count": null
    },
    {
      "cell_type": "code",
      "source": "alpha = 3487/5\n\nX_unbounded = np.array([\n    0,\n    5 + 2 * alpha,\n    alpha,\n    3 + 2* alpha,\n    12 + 5 * alpha,\n    0,\n    0\n])\n\nC @ X_unbounded",
      "metadata": {
        "trusted": true
      },
      "outputs": [],
      "execution_count": null
    },
    {
      "cell_type": "markdown",
      "source": "Portanto, \\\\(X_2 \\geq \\frac{3487}{5}\\\\) faz com que \\\\(Z^{*} \\geq -3500 \\therefore Z^{*} \\geq 3500\\\\), considerando a conversão do problema de minimização adaptado para o problema original de maximização.",
      "metadata": {}
    },
    {
      "cell_type": "code",
      "source": "X_unbounded",
      "metadata": {
        "trusted": true
      },
      "outputs": [],
      "execution_count": null
    },
    {
      "cell_type": "markdown",
      "source": "## Exercício 3.29",
      "metadata": {}
    },
    {
      "cell_type": "code",
      "source": "A = np.array([\n    [  5,   1,   -1,   2, 1, 0, 1,  0, 0,  0, 0, 0],\n    [  5,   1,   -1,   2, 1, 0, 0, -1, 0,  0, 0, 0],\n    [-14,  -3,    3,  -5, 0, 1, 0,  0, 1,  0, 0, 0],\n    [-14,  -3,    3,  -5, 0, 1, 0,  0, 0, -1, 0, 0],\n    [  2, 0.5, -0.5, 0.5, 0, 0, 0,  0, 0,  0, 1, 0],\n    [  3, 0.5,  0.5, 1.5, 0, 0, 0,  0, 0,  0, 0, 1]\n])\nB = np.array([\n     12,\n     12,\n      2,\n      2,\n    2.5,\n      3\n])\nC = np.array([-11, -2, 1, -3, -4, -1, 0, 0, 0, 0, 0, 0])\n\nm, n = A.shape\nI = [6, 4, 8, 5, 10, 11]\n\nsolution = simplex_tableau(A, B, C, I)\n\n'''\n    Display solution\n'''\nZ_star = solution['Z_star']\nI_star = solution['I_star']\nX_star = np.zeros(n)\nX_star[I_star] = solution['X_star']\nsolution_type = solution_types[\n    solution['solution_type']\n]\nsolution_md = f'''\n## Solution\n\nSolution type: {solution_type}\n\n\\\\\\\\(X^{{*}}\\\\\\\\) = {repr(np.round(X_star, 2))}\n\n\\\\\\\\(Z^{{*}} = {repr(np.round(Z_star, 5))} \\\\\\\\)\n\n\\\\\\\\(\\\\text{{I}}^{{*}}\\\\\\\\) = {repr([\n    '\\\\(X_' + str(i) + '\\\\)' for i in I_star\n])}\n'''\ndisplay(\n    Markdown(\n        solution_md\n    )\n)\n\n'''\n    Display Tableaus\n'''\ntableaus = True\nif tableaus:\n    tableau_steps = solution['tableaus']\n    tableau_md = markdown_repr_T(tableau_steps)\n    display(\n        Markdown(\n            tableau_md\n        )\n    )",
      "metadata": {
        "trusted": true
      },
      "outputs": [],
      "execution_count": null
    },
    {
      "cell_type": "code",
      "source": "%pip install scipy\nfrom scipy.optimize import linprog\nresult = linprog(C, A_eq = A, b_eq = B, method='highs')\nprint('Result comparison, we found the optimal solution through our tableaus')\ndisplay(result)",
      "metadata": {
        "trusted": true
      },
      "outputs": [],
      "execution_count": null
    },
    {
      "cell_type": "markdown",
      "source": "## Exercício 3.30\n\nLetra a)",
      "metadata": {}
    },
    {
      "cell_type": "code",
      "source": "A = np.array([\n    [2, 1, 0, 1, 0, 0],\n    [3, 3, 1, 0, 1, 0],\n    [1, 2, 2, 0, 0, 1]\n])\n\nB = np.array([\n    6000,\n    9000,\n    4000\n])\n\nC = np.array([\n    10, 15, 5, 0, 0, 0\n])\n\nmaximum = -float('inf')\nfor i, I in enumerate(combinations(range(6), 3)):\n    if np.linalg.det(A[:,I]) == 0:\n        continue\n    x_I = np.linalg.solve(A[:,I], B)\n    x = np.zeros(6)\n    x[[I]] = x_I\n    if np.all(x >= 0): # solucao valida\n        z = C @ x\n        if z > maximum: # devemos atualizar os valores\n            X_star = x\n            Z_star = z\n            I_star = I\n            maximum = z\n            ith_combination = i + 1\ndisplay(f'I_star: {I_star}')\ndisplay(f'X_star: {X_star}')\ndisplay(f'Z_star: {Z_star}')",
      "metadata": {
        "trusted": true
      },
      "outputs": [],
      "execution_count": null
    },
    {
      "cell_type": "markdown",
      "source": "Letra b)",
      "metadata": {}
    },
    {
      "cell_type": "code",
      "source": "I = list(I_star)\nsolution = simplex_tableau(A, B, -C, I)\n\n'''\n    Display solution\n'''\nm, n = A.shape\nZ_star = solution['Z_star']\nI_star = solution['I_star']\nX_star = np.zeros(n)\nX_star[I_star] = solution['X_star']\nsolution_type = solution_types[\n    solution['solution_type']\n]\nsolution_md = f'''\n## Solution\n\nSolution type: {solution_type}\n\n\\\\\\\\(X^{{*}}\\\\\\\\) = {repr(np.round(X_star, 2))}\n\n\\\\\\\\(Z^{{*}} = {repr(np.round(Z_star, 5))} \\\\\\\\)\n\n\\\\\\\\(\\\\text{{I}}^{{*}}\\\\\\\\) = {repr([\n    '\\\\(X_' + str(i) + '\\\\)' for i in I_star\n])}\n'''\ndisplay(\n    Markdown(\n        solution_md\n    )\n)\n\n'''\n    Display Tableaus\n'''\ntableaus = True\nif tableaus:\n    tableau_steps = solution['tableaus']\n    tableau_md = markdown_repr_T(tableau_steps)\n    display(\n        Markdown(\n            tableau_md\n        )\n    )",
      "metadata": {
        "trusted": true
      },
      "outputs": [],
      "execution_count": null
    },
    {
      "cell_type": "code",
      "source": "A = np.hstack((A[:,:3], np.array([\n    [2],\n    [4],\n    [2]\n]), A[:,3:]))\nC = np.hstack((C[:3],[50003/3000],C[3:]))\n\nI = list([4, 5, 6])\nsolution = simplex_tableau(A, B, -C, I)\n\n'''\n    Display solution\n'''\nm, n = A.shape\nZ_star = solution['Z_star']\nI_star = solution['I_star']\nX_star = np.zeros(n)\nX_star[I_star] = solution['X_star']\nsolution_type = solution_types[\n    solution['solution_type']\n]\nsolution_md = f'''\n## Solution\n\nSolution type: {solution_type}\n\n\\\\\\\\(X^{{*}}\\\\\\\\) = {repr(np.round(X_star, 2))}\n\n\\\\\\\\(Z^{{*}} = {repr(np.round(Z_star, 5))} \\\\\\\\)\n\n\\\\\\\\(\\\\text{{I}}^{{*}}\\\\\\\\) = {repr([\n    '\\\\(X_' + str(i) + '\\\\)' for i in I_star\n])}\n'''\ndisplay(\n    Markdown(\n        solution_md\n    )\n)\n\n'''\n    Display Tableaus\n'''\ntableaus = True\nif tableaus:\n    tableau_steps = solution['tableaus']\n    tableau_md = markdown_repr_T(tableau_steps)\n    display(\n        Markdown(\n            tableau_md\n        )\n    )",
      "metadata": {
        "trusted": true
      },
      "outputs": [],
      "execution_count": null
    },
    {
      "cell_type": "code",
      "source": "A, B, C",
      "metadata": {
        "trusted": true
      },
      "outputs": [],
      "execution_count": null
    },
    {
      "cell_type": "code",
      "source": "%pip install scipy\nfrom scipy.optimize import linprog\nresult = linprog(-C, A_eq = A, b_eq = B, method='highs')\nprint('Result comparison, we found the optimal solution through our tableaus')\ndisplay(result)",
      "metadata": {
        "trusted": true
      },
      "outputs": [],
      "execution_count": null
    },
    {
      "cell_type": "markdown",
      "source": "## Exercício 3.31",
      "metadata": {}
    },
    {
      "cell_type": "code",
      "source": "A = np.array([\n    [20, 15, -1, 1, 0, 0],\n    [1,   0,  0, 0, 1, 0],\n    [0,   1,  0, 0, 0, 1]\n])\nB = np.array([\n    60000,\n     2000,\n     4000\n])\nC = np.array([-60, -30, 14, 0, 0, 0])\n\nm, n = A.shape\nI = [3, 0, 5]\n\nsolution = simplex_tableau(A, B, C, I)\n\n'''\n    Display solution\n'''\nZ_star = solution['Z_star']\nI_star = solution['I_star']\nX_star = np.zeros(n)\nX_star[I_star] = solution['X_star']\nsolution_type = solution_types[\n    solution['solution_type']\n]\nsolution_md = f'''\n## Solution\n\nSolution type: {solution_type}\n\n\\\\\\\\(X^{{*}}\\\\\\\\) = {repr(np.round(X_star, 2))}\n\n\\\\\\\\(Z^{{*}} = {repr(np.round(Z_star, 5))} \\\\\\\\)\n\n\\\\\\\\(\\\\text{{I}}^{{*}}\\\\\\\\) = {repr([\n    '\\\\(X_' + str(i) + '\\\\)' for i in I_star\n])}\n'''\ndisplay(\n    Markdown(\n        solution_md\n    )\n)\n\n'''\n    Display Tableaus\n'''\ntableaus = True\nif tableaus:\n    tableau_steps = solution['tableaus']\n    tableau_md = markdown_repr_T(tableau_steps)\n    display(\n        Markdown(\n            tableau_md\n        )\n    )",
      "metadata": {
        "scrolled": true,
        "trusted": true
      },
      "outputs": [],
      "execution_count": null
    },
    {
      "cell_type": "markdown",
      "source": "## Exercício 5.1",
      "metadata": {}
    },
    {
      "cell_type": "code",
      "source": "from revised_simplex_tableau import markdown_repr_T, revised_simplex_tableau\nfrom simplex_two_phases import _simplex_find_feasible_initial_basis, _simplex_with_feasible_initial_basis\nfrom utils import array_to_markdown\n\nresults_md = ''\n\nC = np.array([1, 4, -7, 1, 5, 0, 0, 0, 0])\nA = np.array([\n    [1, -0.75, 2, -0.25, 0, 1,  0, 0,  0],\n    [1, -0.75, 2, -0.25, 0, 0, -1, 0,  0],\n    [0, -0.25, 3, -0.75, 1, 0,  0, 1,  0],\n    [0, -0.25, 3, -0.75, 1, 0,  0, 0, -1],\n])\nB = np.array([\n    6,\n    6,\n    5,\n    5\n])\nI = [5, 6, 7, 8]\n\nI_sanitized, A_I_sanitized, A_sanitized, B_sanitized, feasible, iters_count, debug_info = _simplex_find_feasible_initial_basis(A, B, C, I)\n\n# We should inspect the results before going into the next phase\n\nmd_A_sanitized = f'''\n### A sanitized\n\n{array_to_markdown(A_sanitized)}\n\n'''\n\nmd_C = f'''\n### C\n\n{array_to_markdown(C)}\n\n'''\n\nmd_inspection = f'''\n### Discussion\n\nAs it is possible to verify, columns 6 and 8 in sanitized restriction matrix\n**A sanitized** are zeroes, therefore, \\\\\\\\(X_6\\\\\\\\) and \\\\\\\\(X_8\\\\\\\\) don't\ncause any effects at constraints. If they had a negative coefficient at vector\nC, the minimization problem would be unbounded by these variables as increasing\ntheir values would decrease (minimize even more) the objective function.\nBut since their coefficient are zeroes, they don't contribute in any way to the\nobjective function, so, it is convenient to remove these variables from the problem\nas they are innefective in order to make the original problem even simpler!\n\n'''\n\n\nresults_md += md_A_sanitized\nresults_md += md_C\nresults_md += md_inspection\n\n# deleting x8 column\nA_sanitized = np.delete(\n    A_sanitized, 8, axis = 1\n)\nC_sanitized = np.delete(\n    C, 8\n)\n\n# deleting x6 column\nA_sanitized = np.delete(\n    A_sanitized, 6, axis = 1\n)\nC_sanitized = np.delete(\n    C, 6\n)\n\nsolution = revised_simplex_tableau(A_sanitized, B_sanitized, C_sanitized, I_sanitized)\nresults_md += markdown_repr_T(solution)\n\ndisplay(\n    Markdown(results_md)\n)",
      "metadata": {
        "trusted": true
      },
      "outputs": [
        {
          "output_type": "display_data",
          "data": {
            "text/plain": "<IPython.core.display.Markdown object>",
            "text/markdown": "\n### A sanitized\n\n| Col 0 | Col 1 | Col 2 | Col 3 | Col 4 | Col 5 | Col 6 | Col 7 | Col 8 |\n| --- | --- | --- | --- | --- | --- | --- | --- | --- |\n| 1.0 | -0.75 | 2.0 | -0.25 | 0.0 | 1.0 | 0.0 | 0.0 | 0.0 |\n| 0.0 | -0.25 | 3.0 | -0.75 | 1.0 | 0.0 | 0.0 | 1.0 | 0.0 |\n\n\n\n### C\n\n| Index | Value |\n| --- | --- |\n| 0 | 1 |\n| 1 | 4 |\n| 2 | -7 |\n| 3 | 1 |\n| 4 | 5 |\n| 5 | 0 |\n| 6 | 0 |\n| 7 | 0 |\n| 8 | 0 |\n\n\n\n### Discussion\n\nAs it is possible to verify, columns 6 and 8 in sanitized restriction matrix\n**A sanitized** are zeroes, therefore, \\\\(X_6\\\\) and \\\\(X_8\\\\) don't\ncause any effects at constraints. If they had a negative coefficient at vector\nC, the minimization problem would be unbounded by these variables as increasing\ntheir values would decrease (minimize even more) the objective function.\nBut since their coefficient are zeroes, they don't contribute in any way to the\nobjective function, so, it is convenient to remove these variables from the problem\nas they are innefective in order to make the original problem even simpler!\n\n\n\n## Iteration 0\n\nStarting Tableau:\n\n|   |  | \\\\(A_I^{-1}\\\\) | RHS |\n|---|---|---|---|\n| Z | 1.000 | -3.000 | -9.000 |\n| \\\\(X_{0}\\\\) | 1.000 | -0.667 | 2.667 |\n| \\\\(X_{2}\\\\) | 0.000 | 0.333 | 1.667 |\n\n\nExtended Tableau\n\n|   |  | \\\\(A_I^{-1}\\\\) | RHS | \\\\(X_{3}\\\\)\n|---|---|---|---|---|\n| Z | 1.000 | -3.000 | -9.000 | 1.000 |\n| \\\\(X_{0}\\\\) | 1.000 | -0.667 | 2.667 | 0.250 |\n| \\\\(X_{2}\\\\) | 0.000 | 0.333 | 1.667 | -0.250 |\n\n\n\\\\(Ĉ_J = \\ \\\\)array([-4.,  1., -8.,  1., -3.])\n\n\n\\\\(J = {[1, 3, 4, 5, 6]}\\\\)\n\n### Pivot Operations\n\nVariable to enter: \\\\(X_{3}\\\\)\nVariable to leave: \\\\(X_{0}\\\\)\n#### Row Operations:\n\n1. \\\\(R_{X_{0}} \\leftarrow \\frac{R_{X_{0}}}{0.250}\\\\)\n1. \\\\(R_{Z} \\leftarrow R_{Z} - 1.000R_{X_{0}}\\\\)\n2. \\\\(R_{X_{2}} \\leftarrow R_{X_{2}} + 0.250R_{X_{0}}\\\\)\n\n\nComputed Tableau:\n\n|   |  | \\\\(A_I^{-1}\\\\) | RHS |\n|---|---|---|---|\n| Z | -3.000 | -0.333 | -19.667 |\n| \\\\(X_{3}\\\\) | 4.000 | -2.667 | 10.667 |\n| \\\\(X_{2}\\\\) | 1.000 | -0.333 | 4.333 |\n\n\n## Iteration 1\n\nStarting Tableau:\n\n|   |  | \\\\(A_I^{-1}\\\\) | RHS |\n|---|---|---|---|\n| Z | -3.000 | -0.333 | -19.667 |\n| \\\\(X_{3}\\\\) | 4.000 | -2.667 | 10.667 |\n| \\\\(X_{2}\\\\) | 1.000 | -0.333 | 4.333 |\n\n\n## Solution for \n\n\\\\[\n    \\begin{aligned}\n    & \\text{Minimize} & C^{T} \\cdot X \\\\\n    & \\text{Subject to} & A \\cdot X & = B \\\\\n    & & X & \\geq 0\n    \\end{aligned}\n    \\\\]\n    where: \n    \\\\[\n    \\begin{aligned}\n    & & A = \\begin{bmatrix}\n1.000 & -0.750 & 2.000 & -0.250 & 0.000 & 1.000 & 0.000 \\\\\n0.000 & -0.250 & 3.000 & -0.750 & 1.000 & 0.000 & 1.000 \\\\\n\\end{bmatrix} \\\\\n    & & B = \\begin{bmatrix}\n6.000\\\\\n5.000\n\\end{bmatrix} \\\\\n    & & C^{T} = \\begin{bmatrix}\n1.000 & 4.000 & -7.000 & 1.000 & 5.000 & 0.000 & 0.000 & 0.000\n\\end{bmatrix} \\\\\n    & & X = \\begin{bmatrix}\nX_{0}\\\\\nX_{1}\\\\\nX_{2}\\\\\nX_{3}\\\\\nX_{4}\\\\\nX_{5}\\\\\nX_{6}\\\\\nX_{7}\n\\end{bmatrix}\n    \\end{aligned}\n    \\\\]\n\nSolution Type: Optimal unique solution\n\nOptimal Solution: \\\\(X^{*} = ['0.000', '0.000', '4.333', '10.667', '0.000', '0.000', '0.000', '0.000']\\\\)\n\nOptimal Value: \\\\(Z^{*} = -19.667\\\\)\n\nOptimal Basis: \\\\([3, 2]\\\\)\n\nNumber of Iterations: 2\n\n"
          },
          "metadata": {}
        }
      ],
      "execution_count": 3
    },
    {
      "cell_type": "markdown",
      "source": "## Result Comparison through scipy",
      "metadata": {}
    },
    {
      "cell_type": "code",
      "source": "from scipy.optimize import linprog\nresult = linprog(C, A_eq = A, b_eq = B, method='highs')\nprint('Result comparison, we found the optimal solution through our tableaus')\ndisplay(result)",
      "metadata": {
        "trusted": true
      },
      "outputs": [
        {
          "name": "stdout",
          "text": "Result comparison, we found the optimal solution through our tableaus\n",
          "output_type": "stream"
        },
        {
          "output_type": "display_data",
          "data": {
            "text/plain": "        message: Optimization terminated successfully. (HiGHS Status 7: Optimal)\n        success: True\n         status: 0\n            fun: -19.666666666666664\n              x: [ 0.000e+00  0.000e+00  4.333e+00  1.067e+01  0.000e+00\n                   0.000e+00  0.000e+00  0.000e+00 -0.000e+00]\n            nit: 3\n          lower:  residual: [ 0.000e+00  0.000e+00  4.333e+00  1.067e+01\n                              0.000e+00  0.000e+00  0.000e+00  0.000e+00\n                             -0.000e+00]\n                 marginals: [ 4.000e+00  1.667e+00  0.000e+00  0.000e+00\n                              5.333e+00  3.000e+00  0.000e+00  3.333e-01\n                              0.000e+00]\n          upper:  residual: [       inf        inf        inf        inf\n                                    inf        inf        inf        inf\n                                    inf]\n                 marginals: [ 0.000e+00  0.000e+00  0.000e+00  0.000e+00\n                              0.000e+00  0.000e+00  0.000e+00  0.000e+00\n                              0.000e+00]\n          eqlin:  residual: [ 0.000e+00  0.000e+00  0.000e+00  0.000e+00]\n                 marginals: [-3.000e+00 -0.000e+00 -3.333e-01 -0.000e+00]\n        ineqlin:  residual: []\n                 marginals: []\n mip_node_count: 0\n mip_dual_bound: 0.0\n        mip_gap: 0.0"
          },
          "metadata": {}
        }
      ],
      "execution_count": 4
    },
    {
      "cell_type": "markdown",
      "source": "## Exercício 5.2",
      "metadata": {}
    },
    {
      "cell_type": "code",
      "source": "A = np.array([\n    [-1,  2, -1, 1, 0, 0],\n    [ 1,  1,  1, 0, 1, 0],\n    [ 2, -1, -1, 0, 0, 1]\n])\nB = np.array([\n    4,\n    7,\n    5\n])\nC = np.array([0, 2, -1, 0, 0, 0])\nI = [3, 4, 5]\nsolution = revised_simplex_tableau(A, B, C, I)\nresults_md = markdown_repr_T(solution)\n\ndisplay(\n    Markdown(results_md)\n)\ndisplay(\n    solution\n)",
      "metadata": {
        "trusted": true
      },
      "outputs": [
        {
          "output_type": "display_data",
          "data": {
            "text/plain": "<IPython.core.display.Markdown object>",
            "text/markdown": "\n\n## Iteration 0\n\nStarting Tableau:\n\n|   |  | \\\\(A_I^{-1}\\\\) |   | RHS |\n|---|---|---|---|---|\n| Z | 0.000 | 0.000 | 0.000 | 0.000 |\n| \\\\(X_{3}\\\\) | 1.000 | 0.000 | 0.000 | 4.000 |\n| \\\\(X_{4}\\\\) | 0.000 | 1.000 | 0.000 | 7.000 |\n| \\\\(X_{5}\\\\) | 0.000 | 0.000 | 1.000 | 5.000 |\n\n\nExtended Tableau\n\n|   |  | \\\\(A_I^{-1}\\\\) |   | RHS | \\\\(X_{2}\\\\)\n|---|---|---|---|---|---|\n| Z | 0.000 | 0.000 | 0.000 | 0.000 | 1.000 |\n| \\\\(X_{3}\\\\) | 1.000 | 0.000 | 0.000 | 4.000 | -1.000 |\n| \\\\(X_{4}\\\\) | 0.000 | 1.000 | 0.000 | 7.000 | 1.000 |\n| \\\\(X_{5}\\\\) | 0.000 | 0.000 | 1.000 | 5.000 | -1.000 |\n\n\n\\\\(Ĉ_J = \\ \\\\)array([ 0., -2.,  1.])\n\n\n\\\\(J = {[0, 1, 2]}\\\\)\n\n### Pivot Operations\n\nVariable to enter: \\\\(X_{2}\\\\)\nVariable to leave: \\\\(X_{4}\\\\)\n#### Row Operations:\n\n1. \\\\(R_{X_{4}} \\leftarrow \\frac{R_{X_{4}}}{1.000}\\\\)\n1. \\\\(R_{Z} \\leftarrow R_{Z} - 1.000R_{X_{4}}\\\\)\n2. \\\\(R_{X_{3}} \\leftarrow R_{X_{3}} + 1.000R_{X_{4}}\\\\)\n3. \\\\(R_{X_{5}} \\leftarrow R_{X_{5}} + 1.000R_{X_{4}}\\\\)\n\n\nComputed Tableau:\n\n|   |  | \\\\(A_I^{-1}\\\\) |   | RHS |\n|---|---|---|---|---|\n| Z | 0.000 | -1.000 | 0.000 | -7.000 |\n| \\\\(X_{3}\\\\) | 1.000 | 1.000 | 0.000 | 11.000 |\n| \\\\(X_{2}\\\\) | 0.000 | 1.000 | 0.000 | 7.000 |\n| \\\\(X_{5}\\\\) | 0.000 | 1.000 | 1.000 | 12.000 |\n\n\n## Iteration 1\n\nStarting Tableau:\n\n|   |  | \\\\(A_I^{-1}\\\\) |   | RHS |\n|---|---|---|---|---|\n| Z | 0.000 | -1.000 | 0.000 | -7.000 |\n| \\\\(X_{3}\\\\) | 1.000 | 1.000 | 0.000 | 11.000 |\n| \\\\(X_{2}\\\\) | 0.000 | 1.000 | 0.000 | 7.000 |\n| \\\\(X_{5}\\\\) | 0.000 | 1.000 | 1.000 | 12.000 |\n\n\n## Solution for \n\n\\\\[\n    \\begin{aligned}\n    & \\text{Minimize} & C^{T} \\cdot X \\\\\n    & \\text{Subject to} & A \\cdot X & = B \\\\\n    & & X & \\geq 0\n    \\end{aligned}\n    \\\\]\n    where: \n    \\\\[\n    \\begin{aligned}\n    & & A = \\begin{bmatrix}\n-1.000 & 2.000 & -1.000 & 1.000 & 0.000 & 0.000 \\\\\n1.000 & 1.000 & 1.000 & 0.000 & 1.000 & 0.000 \\\\\n2.000 & -1.000 & -1.000 & 0.000 & 0.000 & 1.000 \\\\\n\\end{bmatrix} \\\\\n    & & B = \\begin{bmatrix}\n4.000\\\\\n7.000\\\\\n5.000\n\\end{bmatrix} \\\\\n    & & C^{T} = \\begin{bmatrix}\n0.000 & 2.000 & -1.000 & 0.000 & 0.000 & 0.000\n\\end{bmatrix} \\\\\n    & & X = \\begin{bmatrix}\nX_{0}\\\\\nX_{1}\\\\\nX_{2}\\\\\nX_{3}\\\\\nX_{4}\\\\\nX_{5}\n\\end{bmatrix}\n    \\end{aligned}\n    \\\\]\n\nSolution Type: Optimal unique solution\n\nOptimal Solution: \\\\(X^{*} = ['0.000', '0.000', '7.000', '11.000', '0.000', '12.000']\\\\)\n\nOptimal Value: \\\\(Z^{*} = -7.000\\\\)\n\nOptimal Basis: \\\\([3, 2, 5]\\\\)\n\nNumber of Iterations: 2\n\n"
          },
          "metadata": {}
        },
        {
          "output_type": "display_data",
          "data": {
            "text/plain": "{0: {'I': [3, 4, 5],\n  'J': [0, 1, 2],\n  'previous_T': array([[0., 0., 0., 0.],\n         [1., 0., 0., 4.],\n         [0., 1., 0., 7.],\n         [0., 0., 1., 5.]]),\n  'A_I_inv': array([[1., 0., 0.],\n         [0., 1., 0.],\n         [0., 0., 1.]]),\n  'k': 2,\n  'J[k]': 2,\n  'c_hat_k': 1.0,\n  'c_hat_J': array([ 0., -2.,  1.]),\n  'y_k': array([-1.,  1., -1.]),\n  'r': 1,\n  'ratios': array([inf,  7., inf]),\n  'solution_type': None,\n  'T_prime': array([[ 0.,  0.,  0.,  0.,  1.],\n         [ 1.,  0.,  0.,  4., -1.],\n         [ 0.,  1.,  0.,  7.,  1.],\n         [ 0.,  0.,  1.,  5., -1.]]),\n  'Computed I': [3, 2, 5],\n  'Computed J': [0, 1, 4],\n  'pivot_operations': {'row_pivot_operations': (4, 1.0),\n   'column_pivot_operations': [(0, 1.0, 4), (1, -1.0, 4), (3, -1.0, 4)]},\n  'X_I': array([4., 7., 5.]),\n  'X': array([0., 0., 7., 4., 0., 5.]),\n  'T': array([[ 0., -1.,  0., -7.],\n         [ 1.,  1.,  0., 11.],\n         [ 0.,  1.,  0.,  7.],\n         [ 0.,  1.,  1., 12.]]),\n  'proceed': True},\n 1: {'I': [3, 2, 5],\n  'J': [0, 1, 4],\n  'previous_T': array([[ 0., -1.,  0., -7.],\n         [ 1.,  1.,  0., 11.],\n         [ 0.,  1.,  0.,  7.],\n         [ 0.,  1.,  1., 12.]]),\n  'A_I_inv': array([[1., 1., 0.],\n         [0., 1., 0.],\n         [0., 1., 1.]]),\n  'k': 0,\n  'J[k]': 0,\n  'c_hat_k': -1.0,\n  'c_hat_J': array([-1., -3., -1.]),\n  'y_k': array([0., 1., 3.]),\n  'r': 2,\n  'ratios': array([inf,  7.,  4.]),\n  'solution_type': 1,\n  'X_I': array([11.,  7., 12.]),\n  'X': array([ 0.,  0.,  7., 11.,  0., 12.]),\n  'T': array([[ 0., -1.,  0., -7.],\n         [ 1.,  1.,  0., 11.],\n         [ 0.,  1.,  0.,  7.],\n         [ 0.,  1.,  1., 12.]]),\n  'proceed': False,\n  'C': array([ 0,  2, -1,  0,  0,  0]),\n  'B': array([4, 7, 5]),\n  'A': array([[-1,  2, -1,  1,  0,  0],\n         [ 1,  1,  1,  0,  1,  0],\n         [ 2, -1, -1,  0,  0,  1]])}}"
          },
          "metadata": {}
        }
      ],
      "execution_count": 6
    },
    {
      "cell_type": "markdown",
      "source": "## Result Comparison through scipy",
      "metadata": {}
    },
    {
      "cell_type": "code",
      "source": "result = linprog(C, A_eq = A, b_eq = B, method='highs')\nprint('Result comparison, we found the optimal solution through our tableaus')\ndisplay(result)",
      "metadata": {
        "trusted": true
      },
      "outputs": [
        {
          "name": "stdout",
          "text": "Result comparison, we found the optimal solution through our tableaus\n",
          "output_type": "stream"
        },
        {
          "output_type": "display_data",
          "data": {
            "text/plain": "        message: Optimization terminated successfully. (HiGHS Status 7: Optimal)\n        success: True\n         status: 0\n            fun: -7.0\n              x: [ 0.000e+00  0.000e+00  7.000e+00  1.100e+01  0.000e+00\n                   1.200e+01]\n            nit: 4\n          lower:  residual: [ 0.000e+00  0.000e+00  7.000e+00  1.100e+01\n                              0.000e+00  1.200e+01]\n                 marginals: [ 1.000e+00  3.000e+00  0.000e+00  0.000e+00\n                              1.000e+00  0.000e+00]\n          upper:  residual: [       inf        inf        inf        inf\n                                    inf        inf]\n                 marginals: [ 0.000e+00  0.000e+00  0.000e+00  0.000e+00\n                              0.000e+00  0.000e+00]\n          eqlin:  residual: [ 0.000e+00  0.000e+00  0.000e+00]\n                 marginals: [-0.000e+00 -1.000e+00 -0.000e+00]\n        ineqlin:  residual: []\n                 marginals: []\n mip_node_count: 0\n mip_dual_bound: 0.0\n        mip_gap: 0.0"
          },
          "metadata": {}
        }
      ],
      "execution_count": 7
    },
    {
      "cell_type": "code",
      "source": "",
      "metadata": {
        "trusted": true
      },
      "outputs": [],
      "execution_count": null
    }
  ]
}