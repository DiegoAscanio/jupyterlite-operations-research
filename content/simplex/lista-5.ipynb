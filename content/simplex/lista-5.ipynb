{
  "metadata": {
    "kernelspec": {
      "name": "python",
      "display_name": "Python (Pyodide)",
      "language": "python"
    },
    "language_info": {
      "codemirror_mode": {
        "name": "python",
        "version": 3
      },
      "file_extension": ".py",
      "mimetype": "text/x-python",
      "name": "python",
      "nbconvert_exporter": "python",
      "pygments_lexer": "ipython3",
      "version": "3.8"
    }
  },
  "nbformat_minor": 4,
  "nbformat": 4,
  "cells": [
    {
      "cell_type": "code",
      "source": "# letra e\nA = np.array([\n    [3, 4, 2, 1, 0, 0],\n    [2, 1, 2, 0, 1, 0],\n    [1, 3, 3, 0, 0, 1]\n])\nb = np.array([\n    500,\n    400,\n    300\n])\nc = np.array([\n    -3,\n    -4,\n    -2.5,\n    0,\n    0,\n    0\n])\nm, n = A.shape\nI = [4, 5, 6, 7, 8, 9]\nZ_star, x_I, I_star, A_I, A, iterations, solution_type, debug_info = simplex_two_phases(A, b, c, I, debug = True)\n#Z_star, x_star, I_star, iterations, solution_type = simplex(A, b, c, I, debug = True)\nx_star = np.zeros(n)\nx_star[I_star] = x_I\nresult_repr = f'''\nExercicio 3.22:\n\nZ_star = {Z_star}\nx_star = {x_star}\nI_star = {I_star}\niterations = {iterations}\nsolution_type = {solution_type} - {solution_types[solution_type]}\n'''\nprint(result_repr)",
      "metadata": {
        "trusted": true
      },
      "outputs": [
        {
          "ename": "<class 'NameError'>",
          "evalue": "name 'np' is not defined",
          "traceback": [
            "\u001b[0;31m---------------------------------------------------------------------------\u001b[0m",
            "\u001b[0;31mNameError\u001b[0m                                 Traceback (most recent call last)",
            "Cell \u001b[0;32mIn[1], line 2\u001b[0m\n\u001b[1;32m      1\u001b[0m \u001b[38;5;66;03m# letra e\u001b[39;00m\n\u001b[0;32m----> 2\u001b[0m A \u001b[38;5;241m=\u001b[39m \u001b[43mnp\u001b[49m\u001b[38;5;241m.\u001b[39marray([\n\u001b[1;32m      3\u001b[0m     [\u001b[38;5;241m3\u001b[39m, \u001b[38;5;241m4\u001b[39m, \u001b[38;5;241m2\u001b[39m, \u001b[38;5;241m1\u001b[39m, \u001b[38;5;241m0\u001b[39m, \u001b[38;5;241m0\u001b[39m],\n\u001b[1;32m      4\u001b[0m     [\u001b[38;5;241m2\u001b[39m, \u001b[38;5;241m1\u001b[39m, \u001b[38;5;241m2\u001b[39m, \u001b[38;5;241m0\u001b[39m, \u001b[38;5;241m1\u001b[39m, \u001b[38;5;241m0\u001b[39m],\n\u001b[1;32m      5\u001b[0m     [\u001b[38;5;241m1\u001b[39m, \u001b[38;5;241m3\u001b[39m, \u001b[38;5;241m3\u001b[39m, \u001b[38;5;241m0\u001b[39m, \u001b[38;5;241m0\u001b[39m, \u001b[38;5;241m1\u001b[39m]\n\u001b[1;32m      6\u001b[0m ])\n\u001b[1;32m      7\u001b[0m b \u001b[38;5;241m=\u001b[39m np\u001b[38;5;241m.\u001b[39marray([\n\u001b[1;32m      8\u001b[0m     \u001b[38;5;241m500\u001b[39m,\n\u001b[1;32m      9\u001b[0m     \u001b[38;5;241m400\u001b[39m,\n\u001b[1;32m     10\u001b[0m     \u001b[38;5;241m300\u001b[39m\n\u001b[1;32m     11\u001b[0m ])\n\u001b[1;32m     12\u001b[0m c \u001b[38;5;241m=\u001b[39m np\u001b[38;5;241m.\u001b[39marray([\n\u001b[1;32m     13\u001b[0m     \u001b[38;5;241m-\u001b[39m\u001b[38;5;241m3\u001b[39m,\n\u001b[1;32m     14\u001b[0m     \u001b[38;5;241m-\u001b[39m\u001b[38;5;241m4\u001b[39m,\n\u001b[0;32m   (...)\u001b[0m\n\u001b[1;32m     18\u001b[0m     \u001b[38;5;241m0\u001b[39m\n\u001b[1;32m     19\u001b[0m ])\n",
            "\u001b[0;31mNameError\u001b[0m: name 'np' is not defined"
          ],
          "output_type": "error"
        }
      ],
      "execution_count": 1
    },
    {
      "cell_type": "code",
      "source": "%pip install numpy\n%pip install sympy\n%load_ext autoreload\n%autoreload 2\nfrom simplex_two_phases import simplex as simplex_two_phases\nfrom simplex import simplex\n    \nimport numpy as np\nfrom pprint import pprint\n\nsolution_types = {\n    -1: 'Unfeasible',\n    1: 'Optimal finite solution found',\n    2: 'Multiple optimal solutions found',\n    3: 'Unbounded'\n}",
      "metadata": {
        "trusted": true
      },
      "outputs": [
        {
          "name": "stdout",
          "text": "The autoreload extension is already loaded. To reload it, use:\n  %reload_ext autoreload\n",
          "output_type": "stream"
        }
      ],
      "execution_count": 9
    },
    {
      "cell_type": "markdown",
      "source": "# Lista 5\n## Exercício 3.22",
      "metadata": {}
    },
    {
      "cell_type": "code",
      "source": "# Instantiate the data for the default minimization\n# problem in the form:\n# z = min C.T @ X\n# subject to:\n#     A @ X = B\n\nC = np.array([\n    -3,\n    -4,\n    -2.5,\n    0,\n    0,\n    0\n])\n\nA = np.array([\n    [3, 4, 2, 1, 0, 0],\n    [2, 1, 2, 0, 1, 0],\n    [1, 3, 3, 0, 0, 1]\n])\n\nB = np.array([\n    500,\n    400,\n    300\n])\n\nm, n = A.shape\nI = [3, 4, 5]\n\nZ_star, x_I, I_star, A_I, A, iterations, solution_type, debug_info = simplex_two_phases(A, B, C, I, debug = True)\n#Z_star, x_star, I_star, iterations, solution_type = simplex(A, b, c, I, debug = True)\nx_star = np.zeros(n)\nx_star[I_star] = x_I\nresult_repr = f'''\nExercicio 3.22):\n\nZ_star = {Z_star}\nx_star = {x_star}\nI_star = {I_star}\niterations = {iterations + 1}\nsolution_type = {solution_type} - {solution_types[solution_type]}\n'''\nprint(result_repr)\ndisplay('Simplex Steps:\\n\\n')\ndisplay(debug_info)",
      "metadata": {
        "trusted": true
      },
      "outputs": [
        {
          "name": "stdout",
          "text": "\nExercicio 3.22):\n\nZ_star = -528.5714285714286\nx_star = [128.57142857   0.          57.14285714   0.          28.57142857\n   0.        ]\nI_star = [0 4 2]\niterations = 3\nsolution_type = 1 - Optimal finite solution found\n\n",
          "output_type": "stream"
        },
        {
          "output_type": "display_data",
          "data": {
            "text/plain": "'Simplex Steps:\\n\\n'"
          },
          "metadata": {}
        },
        {
          "output_type": "display_data",
          "data": {
            "text/plain": "{'second phase': {'title': 'Simplex method with feasible initial basis for granted',\n  'debug_info_iteration_00': {'A_I': array([[1, 0, 0],\n          [0, 1, 0],\n          [0, 0, 1]]),\n   'A_I_inv': array([[1., 0., 0.],\n          [0., 1., 0.],\n          [0., 0., 1.]]),\n   'J': [0, 5, 2],\n   'A_J': array([[3, 4, 2],\n          [2, 1, 2],\n          [1, 3, 3]]),\n   'x_I': array([500., 400., 300.]),\n   'π': array([0., 0., 0.]),\n   'z_0': 0.0,\n   'c_hat_J': array([3. , 4. , 2.5]),\n   'k': 1,\n   'r': 2,\n   'debug_info_from_r_who_leaves': {'description': 'Finding the variable that leaves the basis',\n    'y_k': array([4., 1., 3.]),\n    'ratios': array([125., 400., 100.]),\n    'r': 2,\n    'I_r': 5},\n   'y_k': array([4., 1., 3.]),\n   'previous I': array([3, 4, 5]),\n   'previous J': [0, 1, 2],\n   'computed I': array([3, 4, 1]),\n   'computed J': [0, 5, 2]},\n  'debug_info_iteration_01': {'A_I': array([[1, 0, 4],\n          [0, 1, 1],\n          [0, 0, 3]]),\n   'A_I_inv': array([[ 1.        ,  0.        , -1.33333333],\n          [ 0.        ,  1.        , -0.33333333],\n          [ 0.        ,  0.        ,  0.33333333]]),\n   'J': [3, 2, 5],\n   'A_J': array([[3, 2, 0],\n          [2, 2, 0],\n          [1, 3, 1]]),\n   'x_I': array([100., 300., 100.]),\n   'π': array([ 0.        ,  0.        , -1.33333333]),\n   'z_0': -400.0,\n   'c_hat_J': array([ 1.66666667, -1.5       , -1.33333333]),\n   'k': 0,\n   'r': 0,\n   'debug_info_from_r_who_leaves': {'description': 'Finding the variable that leaves the basis',\n    'y_k': array([1.66666667, 1.66666667, 0.33333333]),\n    'ratios': array([ 60., 180., 300.]),\n    'r': 0,\n    'I_r': 3},\n   'y_k': array([1.66666667, 1.66666667, 0.33333333]),\n   'previous I': array([3, 4, 1]),\n   'previous J': [0, 2, 5],\n   'computed I': array([0, 4, 1]),\n   'computed J': [3, 2, 5]},\n  'debug_info_iteration_02': {'A_I': array([[3, 0, 4],\n          [2, 1, 1],\n          [1, 0, 3]]),\n   'A_I_inv': array([[ 0.6,  0. , -0.8],\n          [-1. ,  1. ,  1. ],\n          [-0.2,  0. ,  0.6]]),\n   'J': [1, 3, 5],\n   'A_J': array([[2, 1, 0],\n          [2, 0, 0],\n          [3, 0, 1]]),\n   'x_I': array([ 60., 200.,  80.]),\n   'π': array([-1.,  0.,  0.]),\n   'z_0': -499.99999999999994,\n   'c_hat_J': array([ 0.5, -1. ,  0. ]),\n   'k': 0,\n   'r': 2,\n   'debug_info_from_r_who_leaves': {'description': 'Finding the variable that leaves the basis',\n    'y_k': array([-1.2,  3. ,  1.4]),\n    'ratios': array([        inf, 66.66666667, 57.14285714]),\n    'r': 2,\n    'I_r': 1},\n   'y_k': array([-1.2,  3. ,  1.4]),\n   'previous I': array([0, 4, 1]),\n   'previous J': [2, 3, 5],\n   'computed I': array([0, 4, 2]),\n   'computed J': [1, 3, 5]},\n  'debug_info_iteration_03': {'A_I': array([[3, 0, 2],\n          [2, 1, 2],\n          [1, 0, 3]]),\n   'A_I_inv': array([[ 0.42857143,  0.        , -0.28571429],\n          [-0.57142857,  1.        , -0.28571429],\n          [-0.14285714,  0.        ,  0.42857143]]),\n   'J': [1, 3, 5],\n   'A_J': array([[4, 1, 0],\n          [1, 0, 0],\n          [3, 0, 1]]),\n   'x_I': array([128.57142857,  28.57142857,  57.14285714]),\n   'π': array([-0.92857143,  0.        , -0.21428571]),\n   'z_0': -528.5714285714286,\n   'c_hat_J': array([-0.35714286, -0.92857143, -0.21428571]),\n   'k': 2,\n   'r': 2,\n   'debug_info_from_r_who_leaves': {'description': 'Finding the variable that leaves the basis',\n    'y_k': array([-1.2,  3. ,  1.4]),\n    'ratios': array([        inf, 66.66666667, 57.14285714]),\n    'r': 2,\n    'I_r': 1},\n   'y_k': array([-1.2,  3. ,  1.4]),\n   'previous I': array([0, 4, 2]),\n   'previous J': [1, 3, 5],\n   'computed I': array([0, 4, 2]),\n   'computed J': [1, 3, 5]}}}"
          },
          "metadata": {}
        }
      ],
      "execution_count": 17
    },
    {
      "cell_type": "code",
      "source": "",
      "metadata": {
        "trusted": true
      },
      "outputs": [],
      "execution_count": null
    }
  ]
}