{
  "metadata": {
    "kernelspec": {
      "name": "python",
      "display_name": "Python (Pyodide)",
      "language": "python"
    },
    "language_info": {
      "codemirror_mode": {
        "name": "python",
        "version": 3
      },
      "file_extension": ".py",
      "mimetype": "text/x-python",
      "name": "python",
      "nbconvert_exporter": "python",
      "pygments_lexer": "ipython3",
      "version": "3.8"
    }
  },
  "nbformat_minor": 4,
  "nbformat": 4,
  "cells": [
    {
      "cell_type": "code",
      "source": "%pip install numpy\n%pip install sympy\n%load_ext autoreload\n%autoreload 2\nfrom simplex_two_phases import simplex as simplex_two_phases\nfrom simplex import simplex\n    \nimport numpy as np\nfrom pprint import pprint\n\nsolution_types = {\n    -1: 'Unfeasible',\n    1: 'Optimal finite solution found',\n    2: 'Multiple optimal solutions found',\n    3: 'Unbounded'\n}",
      "metadata": {
        "trusted": true
      },
      "outputs": [],
      "execution_count": 1
    },
    {
      "cell_type": "markdown",
      "source": "# Lista 5\n## Exercício 3.22",
      "metadata": {}
    },
    {
      "cell_type": "code",
      "source": "# Instantiate the data for the default minimization\n# problem in the form:\n# z = min C.T @ X\n# subject to:\n#     A @ X = B\n\nC = np.array([\n    -3,\n    -4,\n    -2.5,\n    0,\n    0,\n    0\n])\n\nA = np.array([\n    [3, 4, 2, 1, 0, 0],\n    [2, 1, 2, 0, 1, 0],\n    [1, 3, 3, 0, 0, 1]\n])\n\nB = np.array([\n    500,\n    400,\n    300\n])\n\nm, n = A.shape\nI = [3, 4, 5]\n\nZ_star, x_I, I_star, A_I, A, iterations, solution_type, debug_info = simplex_two_phases(A, B, C, I, debug = True)\n#Z_star, x_star, I_star, iterations, solution_type = simplex(A, b, c, I, debug = True)\nx_star = np.zeros(n)\nx_star[I_star] = x_I\nresult_repr = f'''\nExercicio 3.22):\n\nZ_star = {Z_star}\nx_star = {x_star}\nI_star = {I_star}\niterations = {iterations + 1}\nsolution_type = {solution_type} - {solution_types[solution_type]}\n'''\nprint(result_repr)\ndisplay('Simplex Steps:\\n\\n')\ndisplay(debug_info)",
      "metadata": {
        "trusted": true
      },
      "outputs": [],
      "execution_count": null
    },
    {
      "cell_type": "markdown",
      "source": "## Exercício 3.23",
      "metadata": {}
    },
    {
      "cell_type": "code",
      "source": "# Instantiate the data for the default minimization\n# problem in the form:\n# z = min C.T @ X\n# subject to:\n#     A @ X = B\n\nnp.set_printoptions(suppress=True)\n\nC = np.array([\n    -1, 0, 0, 0, 0, 0, 0, 0, 0, 0, 0\n])\n\nA = np.array([\n       [ 1.0e+00,  0.0e+00, -1.0e+00,  0.0e+00,  1.0e+00,  0.0e+00,\n         0.0e+00,  0.0e+00,  0.0e+00,  0.0e+00,  0.0e+00],\n       [ 1.0e+00,  0.0e+00,  0.0e+00, -1.0e+00,  0.0e+00,  1.0e+00,\n         0.0e+00,  0.0e+00,  0.0e+00,  0.0e+00,  0.0e+00],\n       [ 0.0e+00,  3.0e+01,  4.5e+03,  0.0e+00,  0.0e+00,  0.0e+00,\n         1.0e+00,  0.0e+00,  0.0e+00,  0.0e+00,  0.0e+00],\n       [ 0.0e+00,  4.0e+01,  5.0e+03,  5.0e+03,  0.0e+00,  0.0e+00,\n         0.0e+00,  1.0e+00,  0.0e+00,  0.0e+00,  0.0e+00],\n       [ 0.0e+00,  5.0e-01,  1.5e+02,  1.5e+02,  0.0e+00,  0.0e+00,\n         0.0e+00,  0.0e+00,  1.0e+00,  0.0e+00,  0.0e+00],\n       [ 0.0e+00,  1.0e+00,  0.0e+00,  0.0e+00,  0.0e+00,  0.0e+00,\n         0.0e+00,  0.0e+00,  0.0e+00, -1.0e+00,  0.0e+00],\n       [ 0.0e+00,  1.0e+00,  0.0e+00,  0.0e+00,  0.0e+00,  0.0e+00,\n         0.0e+00,  0.0e+00,  0.0e+00,  0.0e+00,  1.0e+00]\n])\n\nB = np.array([\n    0,\n    0,\n    150e3,\n    100e3,\n    600,\n    600,\n    800\n])\n\nm, n = A.shape\nI = list(range(4,11))\n\nZ_star, x_I, I_star, A_I, A, iterations, solution_type, debug_info = simplex_two_phases(A, B, C, I, debug = True)\n#Z_star, x_star, I_star, iterations, solution_type = simplex(A, b, c, I, debug = True)\nx_star = np.zeros(n)\nx_star[I_star] = x_I\nx_star = {\n    f'x_{i:}': f'{x:.2f}' for i, x in enumerate(x_star)\n}\nresult_repr = f'''\nExercicio 3.23):\n\nZ_star = {Z_star}\nx_star = {str(x_star)}\nI_star = {I_star}\niterations = {iterations + 1}\nsolution_type = {solution_type} - {solution_types[solution_type]}\n'''\nprint(result_repr)\ndisplay('Simplex Steps:\\n\\n')\ndisplay(debug_info)",
      "metadata": {
        "trusted": true
      },
      "outputs": [
        {
          "name": "stdout",
          "text": "\nExercicio 3.23):\n\nZ_star = -0.9999999999999993\nx_star = {'x_0': '1.00', 'x_1': '600.00', 'x_2': '1.00', 'x_3': '1.00', 'x_4': '0.00', 'x_5': '0.00', 'x_6': '127500.00', 'x_7': '66000.00', 'x_8': '0.00', 'x_9': '0.00', 'x_10': '200.00'}\nI_star = [ 0  2  6  7  3  1 10]\niterations = 5\nsolution_type = 1 - Optimal finite solution found\n\n",
          "output_type": "stream"
        },
        {
          "output_type": "display_data",
          "data": {
            "text/plain": "'Simplex Steps:\\n\\n'"
          },
          "metadata": {}
        },
        {
          "output_type": "display_data",
          "data": {
            "text/plain": "{'first phase': {'first_phase_debug_info': {'title': 'Simplex method with feasible initial basis for granted',\n   'debug_info_iteration_00': {'A_I': array([[1., 0., 0., 0., 0., 0., 0.],\n           [0., 1., 0., 0., 0., 0., 0.],\n           [0., 0., 1., 0., 0., 0., 0.],\n           [0., 0., 0., 1., 0., 0., 0.],\n           [0., 0., 0., 0., 1., 0., 0.],\n           [0., 0., 0., 0., 0., 1., 0.],\n           [0., 0., 0., 0., 0., 0., 1.]]),\n    'A_I_inv': array([[1., 0., 0., 0., 0., 0., 0.],\n           [0., 1., 0., 0., 0., 0., 0.],\n           [0., 0., 1., 0., 0., 0., 0.],\n           [0., 0., 0., 1., 0., 0., 0.],\n           [0., 0., 0., 0., 1., 0., 0.],\n           [0., 0., 0., 0., 0., 1., 0.],\n           [0., 0., 0., 0., 0., 0., 1.]]),\n    'J': [0, 11, 2, 3, 9],\n    'A_J': array([[   1. ,    0. ,   -1. ,    0. ,    0. ],\n           [   1. ,    0. ,    0. ,   -1. ,    0. ],\n           [   0. ,   30. , 4500. ,    0. ,    0. ],\n           [   0. ,   40. , 5000. , 5000. ,    0. ],\n           [   0. ,    0.5,  150. ,  150. ,    0. ],\n           [   0. ,    1. ,    0. ,    0. ,   -1. ],\n           [   0. ,    1. ,    0. ,    0. ,    0. ]]),\n    'x_I': array([     0.,      0., 150000., 100000.,    600.,    600.,    800.]),\n    'x': array([     0.,    600.,      0.,      0.,      0.,      0., 150000.,\n           100000.,    600.,      0.,    800.,      0.]),\n    'π': array([0., 0., 0., 0., 0., 1., 0.]),\n    'z_0': 600.0,\n    'c_hat_J': array([ 0.,  1.,  0.,  0., -1.]),\n    'k': 1,\n    'r': 5,\n    'debug_info_from_r_who_leaves': {'description': 'Finding the variable that leaves the basis',\n     'y_k': array([ 0. ,  0. , 30. , 40. ,  0.5,  1. ,  1. ]),\n     'ratios': array([  inf,   inf, 5000., 2500., 1200.,  600.,  800.]),\n     'r': 5,\n     'I_r': 11},\n    'y_k': array([ 0. ,  0. , 30. , 40. ,  0.5,  1. ,  1. ]),\n    'previous I': array([ 4,  5,  6,  7,  8, 11, 10]),\n    'previous J': [0, 1, 2, 3, 9],\n    'computed I': array([ 4,  5,  6,  7,  8,  1, 10]),\n    'computed J': [0, 11, 2, 3, 9]},\n   'debug_info_iteration_01': {'A_I': array([[ 1. ,  0. ,  0. ,  0. ,  0. ,  0. ,  0. ],\n           [ 0. ,  1. ,  0. ,  0. ,  0. ,  0. ,  0. ],\n           [ 0. ,  0. ,  1. ,  0. ,  0. , 30. ,  0. ],\n           [ 0. ,  0. ,  0. ,  1. ,  0. , 40. ,  0. ],\n           [ 0. ,  0. ,  0. ,  0. ,  1. ,  0.5,  0. ],\n           [ 0. ,  0. ,  0. ,  0. ,  0. ,  1. ,  0. ],\n           [ 0. ,  0. ,  0. ,  0. ,  0. ,  1. ,  1. ]]),\n    'A_I_inv': array([[  1. ,   0. ,   0. ,   0. ,   0. ,   0. ,   0. ],\n           [  0. ,   1. ,   0. ,   0. ,   0. ,   0. ,   0. ],\n           [  0. ,   0. ,   1. ,   0. ,   0. , -30. ,   0. ],\n           [  0. ,   0. ,   0. ,   1. ,   0. , -40. ,   0. ],\n           [  0. ,   0. ,   0. ,   0. ,   1. ,  -0.5,   0. ],\n           [  0. ,   0. ,   0. ,   0. ,   0. ,   1. ,   0. ],\n           [  0. ,   0. ,   0. ,   0. ,   0. ,  -1. ,   1. ]]),\n    'J': [0, 11, 2, 3, 9],\n    'A_J': array([[   1.,    0.,   -1.,    0.,    0.],\n           [   1.,    0.,    0.,   -1.,    0.],\n           [   0.,    0., 4500.,    0.,    0.],\n           [   0.,    0., 5000., 5000.,    0.],\n           [   0.,    0.,  150.,  150.,    0.],\n           [   0.,    1.,    0.,    0.,   -1.],\n           [   0.,    0.,    0.,    0.,    0.]]),\n    'x_I': array([     0.,      0., 132000.,  76000.,    300.,    600.,    200.]),\n    'x': array([     0.,    600.,      0.,      0.,      0.,      0., 132000.,\n            76000.,    300.,      0.,    200.,      0.]),\n    'π': array([0., 0., 0., 0., 0., 0., 0.]),\n    'z_0': 0.0,\n    'c_hat_J': array([ 0., -1.,  0.,  0.,  0.]),\n    'k': 0,\n    'r': 5,\n    'debug_info_from_r_who_leaves': {'description': 'Finding the variable that leaves the basis',\n     'y_k': array([ 0. ,  0. , 30. , 40. ,  0.5,  1. ,  1. ]),\n     'ratios': array([  inf,   inf, 5000., 2500., 1200.,  600.,  800.]),\n     'r': 5,\n     'I_r': 11},\n    'y_k': array([ 0. ,  0. , 30. , 40. ,  0.5,  1. ,  1. ]),\n    'previous I': array([ 4,  5,  6,  7,  8,  1, 10]),\n    'previous J': [0, 11, 2, 3, 9],\n    'computed I': array([ 4,  5,  6,  7,  8,  1, 10]),\n    'computed J': [0, 11, 2, 3, 9]}},\n  'φ_star': 0.0,\n  'x_star': array([     0.,      0., 132000.,  76000.,    300.,    600.,    200.]),\n  'I_star': array([ 4,  5,  6,  7,  8,  1, 10]),\n  'A_I_star': array([[ 1. ,  0. ,  0. ,  0. ,  0. ,  0. ,  0. ],\n         [ 0. ,  1. ,  0. ,  0. ,  0. ,  0. ,  0. ],\n         [ 0. ,  0. ,  1. ,  0. ,  0. , 30. ,  0. ],\n         [ 0. ,  0. ,  0. ,  1. ,  0. , 40. ,  0. ],\n         [ 0. ,  0. ,  0. ,  0. ,  1. ,  0.5,  0. ],\n         [ 0. ,  0. ,  0. ,  0. ,  0. ,  1. ,  0. ],\n         [ 0. ,  0. ,  0. ,  0. ,  0. ,  1. ,  1. ]]),\n  'A': array([[   1. ,    0. ,   -1. ,    0. ,    1. ,    0. ,    0. ,    0. ,\n             0. ,    0. ,    0. ,    0. ],\n         [   1. ,    0. ,    0. ,   -1. ,    0. ,    1. ,    0. ,    0. ,\n             0. ,    0. ,    0. ,    0. ],\n         [   0. ,   30. , 4500. ,    0. ,    0. ,    0. ,    1. ,    0. ,\n             0. ,    0. ,    0. ,    0. ],\n         [   0. ,   40. , 5000. , 5000. ,    0. ,    0. ,    0. ,    1. ,\n             0. ,    0. ,    0. ,    0. ],\n         [   0. ,    0.5,  150. ,  150. ,    0. ,    0. ,    0. ,    0. ,\n             1. ,    0. ,    0. ,    0. ],\n         [   0. ,    1. ,    0. ,    0. ,    0. ,    0. ,    0. ,    0. ,\n             0. ,   -1. ,    0. ,    1. ],\n         [   0. ,    1. ,    0. ,    0. ,    0. ,    0. ,    0. ,    0. ,\n             0. ,    0. ,    1. ,    0. ]]),\n  'A_artificial': array([[   1. ,    0. ,   -1. ,    0. ,    1. ,    0. ,    0. ,    0. ,\n             0. ,    0. ,    0. ,    0. ],\n         [   1. ,    0. ,    0. ,   -1. ,    0. ,    1. ,    0. ,    0. ,\n             0. ,    0. ,    0. ,    0. ],\n         [   0. ,   30. , 4500. ,    0. ,    0. ,    0. ,    1. ,    0. ,\n             0. ,    0. ,    0. ,    0. ],\n         [   0. ,   40. , 5000. , 5000. ,    0. ,    0. ,    0. ,    1. ,\n             0. ,    0. ,    0. ,    0. ],\n         [   0. ,    0.5,  150. ,  150. ,    0. ,    0. ,    0. ,    0. ,\n             1. ,    0. ,    0. ,    0. ],\n         [   0. ,    1. ,    0. ,    0. ,    0. ,    0. ,    0. ,    0. ,\n             0. ,   -1. ,    0. ,    1. ],\n         [   0. ,    1. ,    0. ,    0. ,    0. ,    0. ,    0. ,    0. ,\n             0. ,    0. ,    1. ,    0. ]]),\n  'b': array([     0.,      0., 150000., 100000.,    600.,    600.,    800.]),\n  'c_artificial': array([0., 0., 0., 0., 0., 0., 0., 0., 0., 0., 0., 1.]),\n  'I_artificial': array([ 4,  5,  6,  7,  8, 11, 10]),\n  'iterations_count': 1,\n  'solution_type': 2},\n 'second phase': {'title': 'Simplex method with feasible initial basis for granted',\n  'debug_info_iteration_00': {'A_I': array([[ 1. ,  0. ,  0. ,  0. ,  0. ,  0. ,  0. ],\n          [ 0. ,  1. ,  0. ,  0. ,  0. ,  0. ,  0. ],\n          [ 0. ,  0. ,  1. ,  0. ,  0. , 30. ,  0. ],\n          [ 0. ,  0. ,  0. ,  1. ,  0. , 40. ,  0. ],\n          [ 0. ,  0. ,  0. ,  0. ,  1. ,  0.5,  0. ],\n          [ 0. ,  0. ,  0. ,  0. ,  0. ,  1. ,  0. ],\n          [ 0. ,  0. ,  0. ,  0. ,  0. ,  1. ,  1. ]]),\n   'A_I_inv': array([[  1. ,   0. ,   0. ,   0. ,   0. ,   0. ,   0. ],\n          [  0. ,   1. ,   0. ,   0. ,   0. ,   0. ,   0. ],\n          [  0. ,   0. ,   1. ,   0. ,   0. , -30. ,   0. ],\n          [  0. ,   0. ,   0. ,   1. ,   0. , -40. ,   0. ],\n          [  0. ,   0. ,   0. ,   0. ,   1. ,  -0.5,   0. ],\n          [  0. ,   0. ,   0. ,   0. ,   0. ,   1. ,   0. ],\n          [  0. ,   0. ,   0. ,   0. ,   0. ,  -1. ,   1. ]]),\n   'J': [4, 2, 3, 9],\n   'A_J': array([[   1.,   -1.,    0.,    0.],\n          [   1.,    0.,   -1.,    0.],\n          [   0., 4500.,    0.,    0.],\n          [   0., 5000., 5000.,    0.],\n          [   0.,  150.,  150.,    0.],\n          [   0.,    0.,    0.,   -1.],\n          [   0.,    0.,    0.,    0.]]),\n   'x_I': array([     0.,      0., 132000.,  76000.,    300.,    600.,    200.]),\n   'x': array([     0.,    600.,      0.,      0.,      0.,      0., 132000.,\n           76000.,    300.,      0.,    200.]),\n   'π': array([0., 0., 0., 0., 0., 0., 0.]),\n   'z_0': 0.0,\n   'c_hat_J': array([1., 0., 0., 0.]),\n   'k': 0,\n   'r': 0,\n   'debug_info_from_r_who_leaves': {'description': 'Finding the variable that leaves the basis',\n    'y_k': array([1., 1., 0., 0., 0., 0., 0.]),\n    'ratios': array([ 0.,  0., inf, inf, inf, inf, inf]),\n    'r': 0,\n    'I_r': 4},\n   'y_k': array([1., 1., 0., 0., 0., 0., 0.]),\n   'previous I': array([ 4,  5,  6,  7,  8,  1, 10]),\n   'previous J': [0, 2, 3, 9],\n   'computed I': array([ 0,  5,  6,  7,  8,  1, 10]),\n   'computed J': [4, 2, 3, 9]},\n  'debug_info_iteration_01': {'A_I': array([[ 1. ,  0. ,  0. ,  0. ,  0. ,  0. ,  0. ],\n          [ 1. ,  1. ,  0. ,  0. ,  0. ,  0. ,  0. ],\n          [ 0. ,  0. ,  1. ,  0. ,  0. , 30. ,  0. ],\n          [ 0. ,  0. ,  0. ,  1. ,  0. , 40. ,  0. ],\n          [ 0. ,  0. ,  0. ,  0. ,  1. ,  0.5,  0. ],\n          [ 0. ,  0. ,  0. ,  0. ,  0. ,  1. ,  0. ],\n          [ 0. ,  0. ,  0. ,  0. ,  0. ,  1. ,  1. ]]),\n   'A_I_inv': array([[  1. ,   0. ,   0. ,   0. ,   0. ,   0. ,   0. ],\n          [ -1. ,   1. ,   0. ,   0. ,   0. ,   0. ,   0. ],\n          [  0. ,   0. ,   1. ,   0. ,   0. , -30. ,   0. ],\n          [  0. ,   0. ,   0. ,   1. ,   0. , -40. ,   0. ],\n          [  0. ,   0. ,   0. ,   0. ,   1. ,  -0.5,   0. ],\n          [  0. ,   0. ,   0. ,   0. ,   0. ,   1. ,   0. ],\n          [  0. ,   0. ,   0. ,   0. ,   0. ,  -1. ,   1. ]]),\n   'J': [4, 5, 3, 9],\n   'A_J': array([[   1.,   -1.,    0.,    0.],\n          [   0.,    0.,   -1.,    0.],\n          [   0., 4500.,    0.,    0.],\n          [   0., 5000., 5000.,    0.],\n          [   0.,  150.,  150.,    0.],\n          [   0.,    0.,    0.,   -1.],\n          [   0.,    0.,    0.,    0.]]),\n   'x_I': array([     0.,      0., 132000.,  76000.,    300.,    600.,    200.]),\n   'x': array([     0.,    600.,      0.,      0.,      0.,      0., 132000.,\n           76000.,    300.,      0.,    200.]),\n   'π': array([-1.,  0.,  0.,  0.,  0.,  0.,  0.]),\n   'z_0': 0.0,\n   'c_hat_J': array([-1.,  1.,  0.,  0.]),\n   'k': 1,\n   'r': 1,\n   'debug_info_from_r_who_leaves': {'description': 'Finding the variable that leaves the basis',\n    'y_k': array([  -1.,    1., 4500., 5000.,  150.,    0.,    0.]),\n    'ratios': array([        inf,  0.        , 29.33333333, 15.2       ,  2.        ,\n                   inf,         inf]),\n    'r': 1,\n    'I_r': 5},\n   'y_k': array([  -1.,    1., 4500., 5000.,  150.,    0.,    0.]),\n   'previous I': array([ 0,  5,  6,  7,  8,  1, 10]),\n   'previous J': [4, 2, 3, 9],\n   'computed I': array([ 0,  2,  6,  7,  8,  1, 10]),\n   'computed J': [4, 5, 3, 9]},\n  'debug_info_iteration_02': {'A_I': array([[   1. ,   -1. ,    0. ,    0. ,    0. ,    0. ,    0. ],\n          [   1. ,    0. ,    0. ,    0. ,    0. ,    0. ,    0. ],\n          [   0. , 4500. ,    1. ,    0. ,    0. ,   30. ,    0. ],\n          [   0. , 5000. ,    0. ,    1. ,    0. ,   40. ,    0. ],\n          [   0. ,  150. ,    0. ,    0. ,    1. ,    0.5,    0. ],\n          [   0. ,    0. ,    0. ,    0. ,    0. ,    1. ,    0. ],\n          [   0. ,    0. ,    0. ,    0. ,    0. ,    1. ,    1. ]]),\n   'A_I_inv': array([[    0. ,     1. ,     0. ,     0. ,     0. ,     0. ,     0. ],\n          [   -1. ,     1. ,     0. ,     0. ,     0. ,     0. ,     0. ],\n          [ 4500. , -4500. ,     1. ,     0. ,     0. ,   -30. ,     0. ],\n          [ 5000. , -5000. ,     0. ,     1. ,     0. ,   -40. ,     0. ],\n          [  150. ,  -150. ,     0. ,     0. ,     1. ,    -0.5,     0. ],\n          [    0. ,     0. ,     0. ,     0. ,     0. ,     1. ,     0. ],\n          [    0. ,     0. ,     0. ,     0. ,     0. ,    -1. ,     1. ]]),\n   'J': [4, 5, 8, 9],\n   'A_J': array([[   1.,    0.,    0.,    0.],\n          [   0.,    1.,   -1.,    0.],\n          [   0.,    0.,    0.,    0.],\n          [   0.,    0., 5000.,    0.],\n          [   0.,    0.,  150.,    0.],\n          [   0.,    0.,    0.,   -1.],\n          [   0.,    0.,    0.,    0.]]),\n   'x_I': array([     0.,      0., 132000.,  76000.,    300.,    600.,    200.]),\n   'x': array([     0.,    600.,      0.,    300.,      0.,      0., 132000.,\n           76000.,      0.,      0.,    200.]),\n   'π': array([ 0., -1.,  0.,  0.,  0.,  0.,  0.]),\n   'z_0': 0.0,\n   'c_hat_J': array([ 0., -1.,  1.,  0.]),\n   'k': 2,\n   'r': 4,\n   'debug_info_from_r_who_leaves': {'description': 'Finding the variable that leaves the basis',\n    'y_k': array([   -1.,    -1.,  4500., 10000.,   300.,     0.,     0.]),\n    'ratios': array([        inf,         inf, 29.33333333,  7.6       ,  1.        ,\n                   inf,         inf]),\n    'r': 4,\n    'I_r': 8},\n   'y_k': array([   -1.,    -1.,  4500., 10000.,   300.,     0.,     0.]),\n   'previous I': array([ 0,  2,  6,  7,  8,  1, 10]),\n   'previous J': [4, 5, 3, 9],\n   'computed I': array([ 0,  2,  6,  7,  3,  1, 10]),\n   'computed J': [4, 5, 8, 9]},\n  'debug_info_iteration_03': {'A_I': array([[   1. ,   -1. ,    0. ,    0. ,    0. ,    0. ,    0. ],\n          [   1. ,    0. ,    0. ,    0. ,   -1. ,    0. ,    0. ],\n          [   0. , 4500. ,    1. ,    0. ,    0. ,   30. ,    0. ],\n          [   0. , 5000. ,    0. ,    1. , 5000. ,   40. ,    0. ],\n          [   0. ,  150. ,    0. ,    0. ,  150. ,    0.5,    0. ],\n          [   0. ,    0. ,    0. ,    0. ,    0. ,    1. ,    0. ],\n          [   0. ,    0. ,    0. ,    0. ,    0. ,    1. ,    1. ]]),\n   'A_I_inv': array([[    0.5       ,     0.5       ,     0.        ,     0.        ,\n               0.00333333,    -0.00166667,     0.        ],\n          [   -0.5       ,     0.5       ,     0.        ,     0.        ,\n               0.00333333,    -0.00166667,     0.        ],\n          [ 2250.        , -2250.        ,     1.        ,     0.        ,\n             -15.        ,   -22.5       ,     0.        ],\n          [    0.        ,     0.        ,     0.        ,     1.        ,\n             -33.33333333,   -23.33333333,     0.        ],\n          [    0.5       ,    -0.5       ,     0.        ,     0.        ,\n               0.00333333,    -0.00166667,     0.        ],\n          [    0.        ,     0.        ,     0.        ,     0.        ,\n               0.        ,     1.        ,     0.        ],\n          [    0.        ,     0.        ,     0.        ,     0.        ,\n               0.        ,    -1.        ,     1.        ]]),\n   'J': [4, 5, 8, 9],\n   'A_J': array([[ 1.,  0.,  0.,  0.],\n          [ 0.,  1.,  0.,  0.],\n          [ 0.,  0.,  0.,  0.],\n          [ 0.,  0.,  0.,  0.],\n          [ 0.,  0.,  1.,  0.],\n          [ 0.,  0.,  0., -1.],\n          [ 0.,  0.,  0.,  0.]]),\n   'x_I': array([     1.,      1., 127500.,  66000.,      1.,    600.,    200.]),\n   'x': array([     1.,    600.,      1.,      1.,      0.,      0., 127500.,\n           66000.,      0.,      0.,    200.]),\n   'π': array([-0.5       , -0.5       ,  0.        ,  0.        , -0.00333333,\n           0.00166667,  0.        ]),\n   'z_0': -0.9999999999999993,\n   'c_hat_J': array([-0.5       , -0.5       , -0.00333333, -0.00166667]),\n   'k': 3,\n   'r': 4,\n   'debug_info_from_r_who_leaves': {'description': 'Finding the variable that leaves the basis',\n    'y_k': array([   -1.,    -1.,  4500., 10000.,   300.,     0.,     0.]),\n    'ratios': array([        inf,         inf, 29.33333333,  7.6       ,  1.        ,\n                   inf,         inf]),\n    'r': 4,\n    'I_r': 8},\n   'y_k': array([   -1.,    -1.,  4500., 10000.,   300.,     0.,     0.]),\n   'previous I': array([ 0,  2,  6,  7,  3,  1, 10]),\n   'previous J': [4, 5, 8, 9],\n   'computed I': array([ 0,  2,  6,  7,  3,  1, 10]),\n   'computed J': [4, 5, 8, 9]}}}"
          },
          "metadata": {}
        }
      ],
      "execution_count": 24
    },
    {
      "cell_type": "markdown",
      "source": "### Estudo dos valores do vetor X nas 2 Únicas Iterações da Fase 1 do Simplex para o Problema em Tela",
      "metadata": {}
    },
    {
      "cell_type": "code",
      "source": "X = list(debug_info['first phase']['first_phase_debug_info'][f'debug_info_iteration_{i:02d}']['x'] for i in range(2))\nfor x in X:\n    display(x)",
      "metadata": {
        "trusted": true
      },
      "outputs": [
        {
          "output_type": "display_data",
          "data": {
            "text/plain": "array([     0.,    600.,      0.,      0.,      0.,      0., 150000.,\n       100000.,    600.,      0.,    800.,      0.])"
          },
          "metadata": {}
        },
        {
          "output_type": "display_data",
          "data": {
            "text/plain": "array([     0.,    600.,      0.,      0.,      0.,      0., 132000.,\n        76000.,    300.,      0.,    200.,      0.])"
          },
          "metadata": {}
        }
      ],
      "execution_count": 47
    },
    {
      "cell_type": "markdown",
      "source": "### Estudo dos valores do vetor X nas 4 Únicas Iterações da Fase 2 do Simplex para o Problema em Tela",
      "metadata": {}
    },
    {
      "cell_type": "code",
      "source": "X = list(debug_info['second phase'][f'debug_info_iteration_{i:02d}']['x'] for i in range(4))\nfor x in X:\n    display(x)",
      "metadata": {
        "trusted": true
      },
      "outputs": [
        {
          "output_type": "display_data",
          "data": {
            "text/plain": "array([     0.,    600.,      0.,      0.,      0.,      0., 132000.,\n        76000.,    300.,      0.,    200.])"
          },
          "metadata": {}
        },
        {
          "output_type": "display_data",
          "data": {
            "text/plain": "array([     0.,    600.,      0.,      0.,      0.,      0., 132000.,\n        76000.,    300.,      0.,    200.])"
          },
          "metadata": {}
        },
        {
          "output_type": "display_data",
          "data": {
            "text/plain": "array([     0.,    600.,      0.,    300.,      0.,      0., 132000.,\n        76000.,      0.,      0.,    200.])"
          },
          "metadata": {}
        },
        {
          "output_type": "display_data",
          "data": {
            "text/plain": "array([     1.,    600.,      1.,      1.,      0.,      0., 127500.,\n        66000.,      0.,      0.,    200.])"
          },
          "metadata": {}
        }
      ],
      "execution_count": 50
    },
    {
      "cell_type": "markdown",
      "source": "### Estudo dos valores do vetor I nas 4 Únicas Iterações da Fase 2 do Simplex para o Problema em Tela",
      "metadata": {}
    },
    {
      "cell_type": "code",
      "source": "I = list(debug_info['second phase'][f'debug_info_iteration_{i:02d}']['computed I'] for i in range(4))\nfor i in I:\n    display(i)",
      "metadata": {
        "trusted": true
      },
      "outputs": [
        {
          "output_type": "display_data",
          "data": {
            "text/plain": "array([ 0,  5,  6,  7,  8,  1, 10])"
          },
          "metadata": {}
        },
        {
          "output_type": "display_data",
          "data": {
            "text/plain": "array([ 0,  2,  6,  7,  8,  1, 10])"
          },
          "metadata": {}
        },
        {
          "output_type": "display_data",
          "data": {
            "text/plain": "array([ 0,  2,  6,  7,  3,  1, 10])"
          },
          "metadata": {}
        },
        {
          "output_type": "display_data",
          "data": {
            "text/plain": "array([ 0,  2,  6,  7,  3,  1, 10])"
          },
          "metadata": {}
        }
      ],
      "execution_count": 51
    },
    {
      "cell_type": "code",
      "source": "",
      "metadata": {
        "trusted": true
      },
      "outputs": [],
      "execution_count": null
    }
  ]
}