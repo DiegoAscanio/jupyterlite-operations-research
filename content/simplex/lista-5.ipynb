{
  "metadata": {
    "kernelspec": {
      "name": "python",
      "display_name": "Python (Pyodide)",
      "language": "python"
    },
    "language_info": {
      "codemirror_mode": {
        "name": "python",
        "version": 3
      },
      "file_extension": ".py",
      "mimetype": "text/x-python",
      "name": "python",
      "nbconvert_exporter": "python",
      "pygments_lexer": "ipython3",
      "version": "3.8"
    }
  },
  "nbformat_minor": 4,
  "nbformat": 4,
  "cells": [
    {
      "cell_type": "code",
      "source": "%pip install numpy\n%pip install sympy\n%pip install scipy\n%load_ext autoreload\n%autoreload 2\nfrom simplex_two_phases import simplex as simplex_two_phases\nfrom simplex_tableau import simplex as simplex_tableau\nfrom simplex_tableau import markdown_repr_T\nfrom simplex import simplex\n\nimport numpy as np\nfrom pprint import pprint\nfrom IPython.display import Markdown, display\nfrom itertools import combinations\nfrom sympy import symbols, Matrix, solve\nfrom scipy.optimize import linprog\n\n\nsolution_types = {\n    -1: 'Unfeasible',\n    1: 'Optimal finite solution found',\n    2: 'Multiple optimal solutions found',\n    3: 'Unbounded'\n}",
      "metadata": {
        "trusted": true
      },
      "outputs": [],
      "execution_count": 2
    },
    {
      "cell_type": "markdown",
      "source": "# Lista 5\n## Exercício 3.22",
      "metadata": {}
    },
    {
      "cell_type": "code",
      "source": "# Instantiate the data for the default minimization\n# problem in the form:\n# z = min C.T @ X\n# subject to:\n#     A @ X = B\n\nC = np.array([\n    -3,\n    -4,\n    -2.5,\n    0,\n    0,\n    0\n])\n\nA = np.array([\n    [3, 4, 2, 1, 0, 0],\n    [2, 1, 2, 0, 1, 0],\n    [1, 3, 3, 0, 0, 1]\n])\n\nB = np.array([\n    500,\n    400,\n    300\n])\n\nm, n = A.shape\nI = [3, 4, 5]\n\nZ_star, x_I, I_star, A_I, A, iterations, solution_type, debug_info = simplex_two_phases(A, B, C, I, debug = True)\n#Z_star, x_star, I_star, iterations, solution_type = simplex(A, b, c, I, debug = True)\nx_star = np.zeros(n)\nx_star[I_star] = x_I\nresult_repr = f'''\nExercicio 3.22):\n\nZ_star = {Z_star}\nx_star = {x_star}\nI_star = {I_star}\niterations = {iterations + 1}\nsolution_type = {solution_type} - {solution_types[solution_type]}\n'''\n\ndisplay('Simplex Steps:\\n\\n')\ndisplay(debug_info)",
      "metadata": {
        "trusted": true
      },
      "outputs": [],
      "execution_count": null
    },
    {
      "cell_type": "markdown",
      "source": "## Exercício 3.23",
      "metadata": {}
    },
    {
      "cell_type": "code",
      "source": "# Instantiate the data for the default minimization\n# problem in the form:\n# z = min C.T @ X\n# subject to:\n#     A @ X = B\n\nnp.set_printoptions(suppress=True)\n\nC = np.array([\n    -1, 0, 0, 0, 0, 0, 0, 0, 0, 0, 0\n])\n\nA = np.array([\n       [ 1.0e+00,  0.0e+00, -1.0e+00,  0.0e+00,  1.0e+00,  0.0e+00,\n         0.0e+00,  0.0e+00,  0.0e+00,  0.0e+00,  0.0e+00],\n       [ 1.0e+00,  0.0e+00,  0.0e+00, -1.0e+00,  0.0e+00,  1.0e+00,\n         0.0e+00,  0.0e+00,  0.0e+00,  0.0e+00,  0.0e+00],\n       [ 0.0e+00,  3.0e+01,  4.5e+03,  0.0e+00,  0.0e+00,  0.0e+00,\n         1.0e+00,  0.0e+00,  0.0e+00,  0.0e+00,  0.0e+00],\n       [ 0.0e+00,  4.0e+01,  5.0e+03,  5.0e+03,  0.0e+00,  0.0e+00,\n         0.0e+00,  1.0e+00,  0.0e+00,  0.0e+00,  0.0e+00],\n       [ 0.0e+00,  5.0e-01,  1.5e+02,  1.5e+02,  0.0e+00,  0.0e+00,\n         0.0e+00,  0.0e+00,  1.0e+00,  0.0e+00,  0.0e+00],\n       [ 0.0e+00,  1.0e+00,  0.0e+00,  0.0e+00,  0.0e+00,  0.0e+00,\n         0.0e+00,  0.0e+00,  0.0e+00, -1.0e+00,  0.0e+00],\n       [ 0.0e+00,  1.0e+00,  0.0e+00,  0.0e+00,  0.0e+00,  0.0e+00,\n         0.0e+00,  0.0e+00,  0.0e+00,  0.0e+00,  1.0e+00]\n])\n\nB = np.array([\n    0,\n    0,\n    150e3,\n    100e3,\n    600,\n    600,\n    800\n])\n\nm, n = A.shape\nI = list(range(4,11))\n\nZ_star, x_I, I_star, A_I, A, iterations, solution_type, debug_info = simplex_two_phases(A, B, C, I, debug = True)\n#Z_star, x_star, I_star, iterations, solution_type = simplex(A, b, c, I, debug = True)\nx_star = np.zeros(n)\nx_star[I_star] = x_I\nx_star = {\n    f'x_{i:}': f'{x:.2f}' for i, x in enumerate(x_star)\n}\nresult_repr = f'''\nExercicio 3.23):\n\nZ_star = {Z_star}\nx_star = {str(x_star)}\nI_star = {I_star}\niterations = {iterations + 1}\nsolution_type = {solution_type} - {solution_types[solution_type]}\n'''\nprint(result_repr)\ndisplay('Simplex Steps:\\n\\n')\ndisplay(debug_info)",
      "metadata": {
        "trusted": true
      },
      "outputs": [
        {
          "name": "stdout",
          "text": "\nExercicio 3.23):\n\nZ_star = -0.9999999999999993\nx_star = {'x_0': '1.00', 'x_1': '600.00', 'x_2': '1.00', 'x_3': '1.00', 'x_4': '0.00', 'x_5': '0.00', 'x_6': '127500.00', 'x_7': '66000.00', 'x_8': '0.00', 'x_9': '0.00', 'x_10': '200.00'}\nI_star = [ 0  2  6  7  3  1 10]\niterations = 5\nsolution_type = 1 - Optimal finite solution found\n\n",
          "output_type": "stream"
        },
        {
          "output_type": "display_data",
          "data": {
            "text/plain": "'Simplex Steps:\\n\\n'"
          },
          "metadata": {}
        },
        {
          "output_type": "display_data",
          "data": {
            "text/plain": "{'first phase': {'first_phase_debug_info': {'title': 'Simplex method with feasible initial basis for granted',\n   'debug_info_iteration_00': {'A_I': array([[1., 0., 0., 0., 0., 0., 0.],\n           [0., 1., 0., 0., 0., 0., 0.],\n           [0., 0., 1., 0., 0., 0., 0.],\n           [0., 0., 0., 1., 0., 0., 0.],\n           [0., 0., 0., 0., 1., 0., 0.],\n           [0., 0., 0., 0., 0., 1., 0.],\n           [0., 0., 0., 0., 0., 0., 1.]]),\n    'A_I_inv': array([[1., 0., 0., 0., 0., 0., 0.],\n           [0., 1., 0., 0., 0., 0., 0.],\n           [0., 0., 1., 0., 0., 0., 0.],\n           [0., 0., 0., 1., 0., 0., 0.],\n           [0., 0., 0., 0., 1., 0., 0.],\n           [0., 0., 0., 0., 0., 1., 0.],\n           [0., 0., 0., 0., 0., 0., 1.]]),\n    'J': [0, 11, 2, 3, 9],\n    'A_J': array([[   1. ,    0. ,   -1. ,    0. ,    0. ],\n           [   1. ,    0. ,    0. ,   -1. ,    0. ],\n           [   0. ,   30. , 4500. ,    0. ,    0. ],\n           [   0. ,   40. , 5000. , 5000. ,    0. ],\n           [   0. ,    0.5,  150. ,  150. ,    0. ],\n           [   0. ,    1. ,    0. ,    0. ,   -1. ],\n           [   0. ,    1. ,    0. ,    0. ,    0. ]]),\n    'x_I': array([     0.,      0., 150000., 100000.,    600.,    600.,    800.]),\n    'x': array([     0.,    600.,      0.,      0.,      0.,      0., 150000.,\n           100000.,    600.,      0.,    800.,      0.]),\n    'π': array([0., 0., 0., 0., 0., 1., 0.]),\n    'z_0': 600.0,\n    'c_hat_J': array([ 0.,  1.,  0.,  0., -1.]),\n    'k': 1,\n    'r': 5,\n    'debug_info_from_r_who_leaves': {'description': 'Finding the variable that leaves the basis',\n     'y_k': array([ 0. ,  0. , 30. , 40. ,  0.5,  1. ,  1. ]),\n     'ratios': array([  inf,   inf, 5000., 2500., 1200.,  600.,  800.]),\n     'r': 5,\n     'I_r': 11},\n    'y_k': array([ 0. ,  0. , 30. , 40. ,  0.5,  1. ,  1. ]),\n    'previous I': array([ 4,  5,  6,  7,  8, 11, 10]),\n    'previous J': [0, 1, 2, 3, 9],\n    'computed I': array([ 4,  5,  6,  7,  8,  1, 10]),\n    'computed J': [0, 11, 2, 3, 9]},\n   'debug_info_iteration_01': {'A_I': array([[ 1. ,  0. ,  0. ,  0. ,  0. ,  0. ,  0. ],\n           [ 0. ,  1. ,  0. ,  0. ,  0. ,  0. ,  0. ],\n           [ 0. ,  0. ,  1. ,  0. ,  0. , 30. ,  0. ],\n           [ 0. ,  0. ,  0. ,  1. ,  0. , 40. ,  0. ],\n           [ 0. ,  0. ,  0. ,  0. ,  1. ,  0.5,  0. ],\n           [ 0. ,  0. ,  0. ,  0. ,  0. ,  1. ,  0. ],\n           [ 0. ,  0. ,  0. ,  0. ,  0. ,  1. ,  1. ]]),\n    'A_I_inv': array([[  1. ,   0. ,   0. ,   0. ,   0. ,   0. ,   0. ],\n           [  0. ,   1. ,   0. ,   0. ,   0. ,   0. ,   0. ],\n           [  0. ,   0. ,   1. ,   0. ,   0. , -30. ,   0. ],\n           [  0. ,   0. ,   0. ,   1. ,   0. , -40. ,   0. ],\n           [  0. ,   0. ,   0. ,   0. ,   1. ,  -0.5,   0. ],\n           [  0. ,   0. ,   0. ,   0. ,   0. ,   1. ,   0. ],\n           [  0. ,   0. ,   0. ,   0. ,   0. ,  -1. ,   1. ]]),\n    'J': [0, 11, 2, 3, 9],\n    'A_J': array([[   1.,    0.,   -1.,    0.,    0.],\n           [   1.,    0.,    0.,   -1.,    0.],\n           [   0.,    0., 4500.,    0.,    0.],\n           [   0.,    0., 5000., 5000.,    0.],\n           [   0.,    0.,  150.,  150.,    0.],\n           [   0.,    1.,    0.,    0.,   -1.],\n           [   0.,    0.,    0.,    0.,    0.]]),\n    'x_I': array([     0.,      0., 132000.,  76000.,    300.,    600.,    200.]),\n    'x': array([     0.,    600.,      0.,      0.,      0.,      0., 132000.,\n            76000.,    300.,      0.,    200.,      0.]),\n    'π': array([0., 0., 0., 0., 0., 0., 0.]),\n    'z_0': 0.0,\n    'c_hat_J': array([ 0., -1.,  0.,  0.,  0.]),\n    'k': 0,\n    'r': 5,\n    'debug_info_from_r_who_leaves': {'description': 'Finding the variable that leaves the basis',\n     'y_k': array([ 0. ,  0. , 30. , 40. ,  0.5,  1. ,  1. ]),\n     'ratios': array([  inf,   inf, 5000., 2500., 1200.,  600.,  800.]),\n     'r': 5,\n     'I_r': 11},\n    'y_k': array([ 0. ,  0. , 30. , 40. ,  0.5,  1. ,  1. ]),\n    'previous I': array([ 4,  5,  6,  7,  8,  1, 10]),\n    'previous J': [0, 11, 2, 3, 9],\n    'computed I': array([ 4,  5,  6,  7,  8,  1, 10]),\n    'computed J': [0, 11, 2, 3, 9]}},\n  'φ_star': 0.0,\n  'x_star': array([     0.,      0., 132000.,  76000.,    300.,    600.,    200.]),\n  'I_star': array([ 4,  5,  6,  7,  8,  1, 10]),\n  'A_I_star': array([[ 1. ,  0. ,  0. ,  0. ,  0. ,  0. ,  0. ],\n         [ 0. ,  1. ,  0. ,  0. ,  0. ,  0. ,  0. ],\n         [ 0. ,  0. ,  1. ,  0. ,  0. , 30. ,  0. ],\n         [ 0. ,  0. ,  0. ,  1. ,  0. , 40. ,  0. ],\n         [ 0. ,  0. ,  0. ,  0. ,  1. ,  0.5,  0. ],\n         [ 0. ,  0. ,  0. ,  0. ,  0. ,  1. ,  0. ],\n         [ 0. ,  0. ,  0. ,  0. ,  0. ,  1. ,  1. ]]),\n  'A': array([[   1. ,    0. ,   -1. ,    0. ,    1. ,    0. ,    0. ,    0. ,\n             0. ,    0. ,    0. ,    0. ],\n         [   1. ,    0. ,    0. ,   -1. ,    0. ,    1. ,    0. ,    0. ,\n             0. ,    0. ,    0. ,    0. ],\n         [   0. ,   30. , 4500. ,    0. ,    0. ,    0. ,    1. ,    0. ,\n             0. ,    0. ,    0. ,    0. ],\n         [   0. ,   40. , 5000. , 5000. ,    0. ,    0. ,    0. ,    1. ,\n             0. ,    0. ,    0. ,    0. ],\n         [   0. ,    0.5,  150. ,  150. ,    0. ,    0. ,    0. ,    0. ,\n             1. ,    0. ,    0. ,    0. ],\n         [   0. ,    1. ,    0. ,    0. ,    0. ,    0. ,    0. ,    0. ,\n             0. ,   -1. ,    0. ,    1. ],\n         [   0. ,    1. ,    0. ,    0. ,    0. ,    0. ,    0. ,    0. ,\n             0. ,    0. ,    1. ,    0. ]]),\n  'A_artificial': array([[   1. ,    0. ,   -1. ,    0. ,    1. ,    0. ,    0. ,    0. ,\n             0. ,    0. ,    0. ,    0. ],\n         [   1. ,    0. ,    0. ,   -1. ,    0. ,    1. ,    0. ,    0. ,\n             0. ,    0. ,    0. ,    0. ],\n         [   0. ,   30. , 4500. ,    0. ,    0. ,    0. ,    1. ,    0. ,\n             0. ,    0. ,    0. ,    0. ],\n         [   0. ,   40. , 5000. , 5000. ,    0. ,    0. ,    0. ,    1. ,\n             0. ,    0. ,    0. ,    0. ],\n         [   0. ,    0.5,  150. ,  150. ,    0. ,    0. ,    0. ,    0. ,\n             1. ,    0. ,    0. ,    0. ],\n         [   0. ,    1. ,    0. ,    0. ,    0. ,    0. ,    0. ,    0. ,\n             0. ,   -1. ,    0. ,    1. ],\n         [   0. ,    1. ,    0. ,    0. ,    0. ,    0. ,    0. ,    0. ,\n             0. ,    0. ,    1. ,    0. ]]),\n  'b': array([     0.,      0., 150000., 100000.,    600.,    600.,    800.]),\n  'c_artificial': array([0., 0., 0., 0., 0., 0., 0., 0., 0., 0., 0., 1.]),\n  'I_artificial': array([ 4,  5,  6,  7,  8, 11, 10]),\n  'iterations_count': 1,\n  'solution_type': 2},\n 'second phase': {'title': 'Simplex method with feasible initial basis for granted',\n  'debug_info_iteration_00': {'A_I': array([[ 1. ,  0. ,  0. ,  0. ,  0. ,  0. ,  0. ],\n          [ 0. ,  1. ,  0. ,  0. ,  0. ,  0. ,  0. ],\n          [ 0. ,  0. ,  1. ,  0. ,  0. , 30. ,  0. ],\n          [ 0. ,  0. ,  0. ,  1. ,  0. , 40. ,  0. ],\n          [ 0. ,  0. ,  0. ,  0. ,  1. ,  0.5,  0. ],\n          [ 0. ,  0. ,  0. ,  0. ,  0. ,  1. ,  0. ],\n          [ 0. ,  0. ,  0. ,  0. ,  0. ,  1. ,  1. ]]),\n   'A_I_inv': array([[  1. ,   0. ,   0. ,   0. ,   0. ,   0. ,   0. ],\n          [  0. ,   1. ,   0. ,   0. ,   0. ,   0. ,   0. ],\n          [  0. ,   0. ,   1. ,   0. ,   0. , -30. ,   0. ],\n          [  0. ,   0. ,   0. ,   1. ,   0. , -40. ,   0. ],\n          [  0. ,   0. ,   0. ,   0. ,   1. ,  -0.5,   0. ],\n          [  0. ,   0. ,   0. ,   0. ,   0. ,   1. ,   0. ],\n          [  0. ,   0. ,   0. ,   0. ,   0. ,  -1. ,   1. ]]),\n   'J': [4, 2, 3, 9],\n   'A_J': array([[   1.,   -1.,    0.,    0.],\n          [   1.,    0.,   -1.,    0.],\n          [   0., 4500.,    0.,    0.],\n          [   0., 5000., 5000.,    0.],\n          [   0.,  150.,  150.,    0.],\n          [   0.,    0.,    0.,   -1.],\n          [   0.,    0.,    0.,    0.]]),\n   'x_I': array([     0.,      0., 132000.,  76000.,    300.,    600.,    200.]),\n   'x': array([     0.,    600.,      0.,      0.,      0.,      0., 132000.,\n           76000.,    300.,      0.,    200.]),\n   'π': array([0., 0., 0., 0., 0., 0., 0.]),\n   'z_0': 0.0,\n   'c_hat_J': array([1., 0., 0., 0.]),\n   'k': 0,\n   'r': 0,\n   'debug_info_from_r_who_leaves': {'description': 'Finding the variable that leaves the basis',\n    'y_k': array([1., 1., 0., 0., 0., 0., 0.]),\n    'ratios': array([ 0.,  0., inf, inf, inf, inf, inf]),\n    'r': 0,\n    'I_r': 4},\n   'y_k': array([1., 1., 0., 0., 0., 0., 0.]),\n   'previous I': array([ 4,  5,  6,  7,  8,  1, 10]),\n   'previous J': [0, 2, 3, 9],\n   'computed I': array([ 0,  5,  6,  7,  8,  1, 10]),\n   'computed J': [4, 2, 3, 9]},\n  'debug_info_iteration_01': {'A_I': array([[ 1. ,  0. ,  0. ,  0. ,  0. ,  0. ,  0. ],\n          [ 1. ,  1. ,  0. ,  0. ,  0. ,  0. ,  0. ],\n          [ 0. ,  0. ,  1. ,  0. ,  0. , 30. ,  0. ],\n          [ 0. ,  0. ,  0. ,  1. ,  0. , 40. ,  0. ],\n          [ 0. ,  0. ,  0. ,  0. ,  1. ,  0.5,  0. ],\n          [ 0. ,  0. ,  0. ,  0. ,  0. ,  1. ,  0. ],\n          [ 0. ,  0. ,  0. ,  0. ,  0. ,  1. ,  1. ]]),\n   'A_I_inv': array([[  1. ,   0. ,   0. ,   0. ,   0. ,   0. ,   0. ],\n          [ -1. ,   1. ,   0. ,   0. ,   0. ,   0. ,   0. ],\n          [  0. ,   0. ,   1. ,   0. ,   0. , -30. ,   0. ],\n          [  0. ,   0. ,   0. ,   1. ,   0. , -40. ,   0. ],\n          [  0. ,   0. ,   0. ,   0. ,   1. ,  -0.5,   0. ],\n          [  0. ,   0. ,   0. ,   0. ,   0. ,   1. ,   0. ],\n          [  0. ,   0. ,   0. ,   0. ,   0. ,  -1. ,   1. ]]),\n   'J': [4, 5, 3, 9],\n   'A_J': array([[   1.,   -1.,    0.,    0.],\n          [   0.,    0.,   -1.,    0.],\n          [   0., 4500.,    0.,    0.],\n          [   0., 5000., 5000.,    0.],\n          [   0.,  150.,  150.,    0.],\n          [   0.,    0.,    0.,   -1.],\n          [   0.,    0.,    0.,    0.]]),\n   'x_I': array([     0.,      0., 132000.,  76000.,    300.,    600.,    200.]),\n   'x': array([     0.,    600.,      0.,      0.,      0.,      0., 132000.,\n           76000.,    300.,      0.,    200.]),\n   'π': array([-1.,  0.,  0.,  0.,  0.,  0.,  0.]),\n   'z_0': 0.0,\n   'c_hat_J': array([-1.,  1.,  0.,  0.]),\n   'k': 1,\n   'r': 1,\n   'debug_info_from_r_who_leaves': {'description': 'Finding the variable that leaves the basis',\n    'y_k': array([  -1.,    1., 4500., 5000.,  150.,    0.,    0.]),\n    'ratios': array([        inf,  0.        , 29.33333333, 15.2       ,  2.        ,\n                   inf,         inf]),\n    'r': 1,\n    'I_r': 5},\n   'y_k': array([  -1.,    1., 4500., 5000.,  150.,    0.,    0.]),\n   'previous I': array([ 0,  5,  6,  7,  8,  1, 10]),\n   'previous J': [4, 2, 3, 9],\n   'computed I': array([ 0,  2,  6,  7,  8,  1, 10]),\n   'computed J': [4, 5, 3, 9]},\n  'debug_info_iteration_02': {'A_I': array([[   1. ,   -1. ,    0. ,    0. ,    0. ,    0. ,    0. ],\n          [   1. ,    0. ,    0. ,    0. ,    0. ,    0. ,    0. ],\n          [   0. , 4500. ,    1. ,    0. ,    0. ,   30. ,    0. ],\n          [   0. , 5000. ,    0. ,    1. ,    0. ,   40. ,    0. ],\n          [   0. ,  150. ,    0. ,    0. ,    1. ,    0.5,    0. ],\n          [   0. ,    0. ,    0. ,    0. ,    0. ,    1. ,    0. ],\n          [   0. ,    0. ,    0. ,    0. ,    0. ,    1. ,    1. ]]),\n   'A_I_inv': array([[    0. ,     1. ,     0. ,     0. ,     0. ,     0. ,     0. ],\n          [   -1. ,     1. ,     0. ,     0. ,     0. ,     0. ,     0. ],\n          [ 4500. , -4500. ,     1. ,     0. ,     0. ,   -30. ,     0. ],\n          [ 5000. , -5000. ,     0. ,     1. ,     0. ,   -40. ,     0. ],\n          [  150. ,  -150. ,     0. ,     0. ,     1. ,    -0.5,     0. ],\n          [    0. ,     0. ,     0. ,     0. ,     0. ,     1. ,     0. ],\n          [    0. ,     0. ,     0. ,     0. ,     0. ,    -1. ,     1. ]]),\n   'J': [4, 5, 8, 9],\n   'A_J': array([[   1.,    0.,    0.,    0.],\n          [   0.,    1.,   -1.,    0.],\n          [   0.,    0.,    0.,    0.],\n          [   0.,    0., 5000.,    0.],\n          [   0.,    0.,  150.,    0.],\n          [   0.,    0.,    0.,   -1.],\n          [   0.,    0.,    0.,    0.]]),\n   'x_I': array([     0.,      0., 132000.,  76000.,    300.,    600.,    200.]),\n   'x': array([     0.,    600.,      0.,    300.,      0.,      0., 132000.,\n           76000.,      0.,      0.,    200.]),\n   'π': array([ 0., -1.,  0.,  0.,  0.,  0.,  0.]),\n   'z_0': 0.0,\n   'c_hat_J': array([ 0., -1.,  1.,  0.]),\n   'k': 2,\n   'r': 4,\n   'debug_info_from_r_who_leaves': {'description': 'Finding the variable that leaves the basis',\n    'y_k': array([   -1.,    -1.,  4500., 10000.,   300.,     0.,     0.]),\n    'ratios': array([        inf,         inf, 29.33333333,  7.6       ,  1.        ,\n                   inf,         inf]),\n    'r': 4,\n    'I_r': 8},\n   'y_k': array([   -1.,    -1.,  4500., 10000.,   300.,     0.,     0.]),\n   'previous I': array([ 0,  2,  6,  7,  8,  1, 10]),\n   'previous J': [4, 5, 3, 9],\n   'computed I': array([ 0,  2,  6,  7,  3,  1, 10]),\n   'computed J': [4, 5, 8, 9]},\n  'debug_info_iteration_03': {'A_I': array([[   1. ,   -1. ,    0. ,    0. ,    0. ,    0. ,    0. ],\n          [   1. ,    0. ,    0. ,    0. ,   -1. ,    0. ,    0. ],\n          [   0. , 4500. ,    1. ,    0. ,    0. ,   30. ,    0. ],\n          [   0. , 5000. ,    0. ,    1. , 5000. ,   40. ,    0. ],\n          [   0. ,  150. ,    0. ,    0. ,  150. ,    0.5,    0. ],\n          [   0. ,    0. ,    0. ,    0. ,    0. ,    1. ,    0. ],\n          [   0. ,    0. ,    0. ,    0. ,    0. ,    1. ,    1. ]]),\n   'A_I_inv': array([[    0.5       ,     0.5       ,     0.        ,     0.        ,\n               0.00333333,    -0.00166667,     0.        ],\n          [   -0.5       ,     0.5       ,     0.        ,     0.        ,\n               0.00333333,    -0.00166667,     0.        ],\n          [ 2250.        , -2250.        ,     1.        ,     0.        ,\n             -15.        ,   -22.5       ,     0.        ],\n          [    0.        ,     0.        ,     0.        ,     1.        ,\n             -33.33333333,   -23.33333333,     0.        ],\n          [    0.5       ,    -0.5       ,     0.        ,     0.        ,\n               0.00333333,    -0.00166667,     0.        ],\n          [    0.        ,     0.        ,     0.        ,     0.        ,\n               0.        ,     1.        ,     0.        ],\n          [    0.        ,     0.        ,     0.        ,     0.        ,\n               0.        ,    -1.        ,     1.        ]]),\n   'J': [4, 5, 8, 9],\n   'A_J': array([[ 1.,  0.,  0.,  0.],\n          [ 0.,  1.,  0.,  0.],\n          [ 0.,  0.,  0.,  0.],\n          [ 0.,  0.,  0.,  0.],\n          [ 0.,  0.,  1.,  0.],\n          [ 0.,  0.,  0., -1.],\n          [ 0.,  0.,  0.,  0.]]),\n   'x_I': array([     1.,      1., 127500.,  66000.,      1.,    600.,    200.]),\n   'x': array([     1.,    600.,      1.,      1.,      0.,      0., 127500.,\n           66000.,      0.,      0.,    200.]),\n   'π': array([-0.5       , -0.5       ,  0.        ,  0.        , -0.00333333,\n           0.00166667,  0.        ]),\n   'z_0': -0.9999999999999993,\n   'c_hat_J': array([-0.5       , -0.5       , -0.00333333, -0.00166667]),\n   'k': 3,\n   'r': 4,\n   'debug_info_from_r_who_leaves': {'description': 'Finding the variable that leaves the basis',\n    'y_k': array([   -1.,    -1.,  4500., 10000.,   300.,     0.,     0.]),\n    'ratios': array([        inf,         inf, 29.33333333,  7.6       ,  1.        ,\n                   inf,         inf]),\n    'r': 4,\n    'I_r': 8},\n   'y_k': array([   -1.,    -1.,  4500., 10000.,   300.,     0.,     0.]),\n   'previous I': array([ 0,  2,  6,  7,  3,  1, 10]),\n   'previous J': [4, 5, 8, 9],\n   'computed I': array([ 0,  2,  6,  7,  3,  1, 10]),\n   'computed J': [4, 5, 8, 9]}}}"
          },
          "metadata": {}
        }
      ],
      "execution_count": 3
    },
    {
      "cell_type": "markdown",
      "source": "### Estudo dos valores do vetor X nas 2 Únicas Iterações da Fase 1 do Simplex para o Problema em Tela",
      "metadata": {}
    },
    {
      "cell_type": "code",
      "source": "X = list(debug_info['first phase']['first_phase_debug_info'][f'debug_info_iteration_{i:02d}']['x'] for i in range(2))\nfor x in X:\n    display(x)",
      "metadata": {
        "trusted": true
      },
      "outputs": [],
      "execution_count": null
    },
    {
      "cell_type": "markdown",
      "source": "### Estudo dos valores do vetor X nas 4 Únicas Iterações da Fase 2 do Simplex para o Problema em Tela",
      "metadata": {}
    },
    {
      "cell_type": "code",
      "source": "X = list(debug_info['second phase'][f'debug_info_iteration_{i:02d}']['x'] for i in range(4))\nfor x in X:\n    display(x)",
      "metadata": {
        "trusted": true
      },
      "outputs": [],
      "execution_count": null
    },
    {
      "cell_type": "markdown",
      "source": "### Estudo dos valores do vetor I nas 4 Únicas Iterações da Fase 2 do Simplex para o Problema em Tela",
      "metadata": {}
    },
    {
      "cell_type": "code",
      "source": "I = list(debug_info['second phase'][f'debug_info_iteration_{i:02d}']['computed I'] for i in range(4))\nfor i in I:\n    display(i)",
      "metadata": {
        "trusted": true
      },
      "outputs": [],
      "execution_count": null
    },
    {
      "cell_type": "markdown",
      "source": "## Exercício 3.26",
      "metadata": {}
    },
    {
      "cell_type": "code",
      "source": "C = np.array([2, -2, -1, 1, 0, 0, 0, 0])\nA = np.array([\n    [-1,  1,  3, -3, 1, 0, 0, 0],\n    [-2, 2, -1,  1, 0, 1, 0, 0],\n    [2, -2,  3, -3, 0, 0, 1, 0],\n    [3, -3, -2,  2, 0, 0, 0, 1]\n])\nB = np.array([3, 2, 6, 6])\n\nm, n = A.shape\nI = list(range(4,8))\n\nsolution = simplex_tableau(A, B, C, I)\n\n'''\n    Display solution\n'''\nZ_star = solution['Z_star']\nI_star = solution['I_star']\nX_star = np.zeros(n)\nX_star[I_star] = solution['X_star']\nsolution_type = solution_types[\n    solution['solution_type']\n]\nsolution_md = f'''\n## Solution\n\n\\\\\\\\(X^{{*}}\\\\\\\\) = {repr(np.round(X_star, 2))}\n\n\\\\\\\\(Z^{{*}} = {repr(np.round(Z_star, 5))} \\\\\\\\)\n\n\\\\\\\\(\\\\text{{I}}^{{*}}\\\\\\\\) = {repr([\n    '\\\\(X_' + str(i) + '\\\\)' for i in I_star\n])}\n'''\ndisplay(\n    Markdown(\n        solution_md\n    )\n)\n\n'''\n    Display Tableaus\n'''\ntableau_steps = solution['tableaus']\ntableau_md = markdown_repr_T(tableau_steps)\ndisplay(\n    Markdown(\n        tableau_md\n    )\n)\n",
      "metadata": {
        "trusted": true
      },
      "outputs": [
        {
          "output_type": "display_data",
          "data": {
            "text/plain": "<IPython.core.display.Markdown object>",
            "text/markdown": "\n## Solution\n\n\\\\(X^{*}\\\\) = array([ 0.  ,  1.29,  0.57,  0.  ,  0.  ,  0.  ,  6.86, 11.  ])\n\n\\\\(Z^{*} = -3.14286 \\\\)\n\n\\\\(\\text{I}^{*}\\\\) = ['\\\\(X_2\\\\)', '\\\\(X_1\\\\)', '\\\\(X_6\\\\)', '\\\\(X_7\\\\)']\n"
          },
          "metadata": {}
        },
        {
          "output_type": "display_data",
          "data": {
            "text/plain": "<IPython.core.display.Markdown object>",
            "text/markdown": "\n\n## Iteration 1\n\nPrevious Tableau:\n\n|   |\\\\(X_{0}\\\\) | \\\\(X_{1}\\\\) | \\\\(X_{2}\\\\) | \\\\(X_{3}\\\\) | \\\\(X_{4}\\\\) | \\\\(X_{5}\\\\) | \\\\(X_{6}\\\\) | \\\\(X_{7}\\\\) | RHS |\n|---|---|---|---|---|---|---|---|---|---|\n| Cost | -2.000 | 2.000 | 1.000 | -1.000 | 0.000 | 0.000 | 0.000 | 0.000 | 0.000 |\n| \\\\(X_{4}\\\\) | -1.000 | 1.000 | 3.000 | -3.000 | 1.000 | 0.000 | 0.000 | 0.000 | 3.000 |\n| \\\\(X_{5}\\\\) | -2.000 | 2.000 | -1.000 | 1.000 | 0.000 | 1.000 | 0.000 | 0.000 | 2.000 |\n| \\\\(X_{6}\\\\) | 2.000 | -2.000 | 3.000 | -3.000 | 0.000 | 0.000 | 1.000 | 0.000 | 6.000 |\n| \\\\(X_{7}\\\\) | 3.000 | -3.000 | -2.000 | 2.000 | 0.000 | 0.000 | 0.000 | 1.000 | 6.000 |\n### Pivot Operations\n\nVariable to enter: \\\\(X_{1}\\\\)\nVariable to leave: \\\\(X_{5}\\\\)\n#### Row Operations:\n\n1. \\\\(R_{X_{5}} \\leftarrow \\frac{R_{X_{5}}}{2.0}\\\\)\n1. \\\\(R_{C} \\leftarrow R_{C} - 2.0R_{X_{5}}\\\\)\n2. \\\\(R_{X_{4}} \\leftarrow R_{X_{4}} - 1.0R_{X_{5}}\\\\)\n3. \\\\(R_{X_{6}} \\leftarrow R_{X_{6}} + 2.0R_{X_{5}}\\\\)\n4. \\\\(R_{X_{7}} \\leftarrow R_{X_{7}} + 3.0R_{X_{5}}\\\\)\n\n\nComputed Tableau:\n\n|   |\\\\(X_{0}\\\\) | \\\\(X_{1}\\\\) | \\\\(X_{2}\\\\) | \\\\(X_{3}\\\\) | \\\\(X_{4}\\\\) | \\\\(X_{5}\\\\) | \\\\(X_{6}\\\\) | \\\\(X_{7}\\\\) | RHS |\n|---|---|---|---|---|---|---|---|---|---|\n| Cost | 0.000 | 0.000 | 2.000 | -2.000 | 0.000 | -1.000 | 0.000 | 0.000 | -2.000 |\n| \\\\(X_{4}\\\\) | 0.000 | 0.000 | 3.500 | -3.500 | 1.000 | -0.500 | 0.000 | 0.000 | 2.000 |\n| \\\\(X_{1}\\\\) | -1.000 | 1.000 | -0.500 | 0.500 | 0.000 | 0.500 | 0.000 | 0.000 | 1.000 |\n| \\\\(X_{6}\\\\) | 0.000 | 0.000 | 2.000 | -2.000 | 0.000 | 1.000 | 1.000 | 0.000 | 8.000 |\n| \\\\(X_{7}\\\\) | 0.000 | 0.000 | -3.500 | 3.500 | 0.000 | 1.500 | 0.000 | 1.000 | 9.000 |\n\n\n## Iteration 2\n\nPrevious Tableau:\n\n|   |\\\\(X_{0}\\\\) | \\\\(X_{1}\\\\) | \\\\(X_{2}\\\\) | \\\\(X_{3}\\\\) | \\\\(X_{4}\\\\) | \\\\(X_{5}\\\\) | \\\\(X_{6}\\\\) | \\\\(X_{7}\\\\) | RHS |\n|---|---|---|---|---|---|---|---|---|---|\n| Cost | 0.000 | 0.000 | 2.000 | -2.000 | 0.000 | -1.000 | 0.000 | 0.000 | -2.000 |\n| \\\\(X_{4}\\\\) | 0.000 | 0.000 | 3.500 | -3.500 | 1.000 | -0.500 | 0.000 | 0.000 | 2.000 |\n| \\\\(X_{1}\\\\) | -1.000 | 1.000 | -0.500 | 0.500 | 0.000 | 0.500 | 0.000 | 0.000 | 1.000 |\n| \\\\(X_{6}\\\\) | 0.000 | 0.000 | 2.000 | -2.000 | 0.000 | 1.000 | 1.000 | 0.000 | 8.000 |\n| \\\\(X_{7}\\\\) | 0.000 | 0.000 | -3.500 | 3.500 | 0.000 | 1.500 | 0.000 | 1.000 | 9.000 |\n### Pivot Operations\n\nVariable to enter: \\\\(X_{2}\\\\)\nVariable to leave: \\\\(X_{4}\\\\)\n#### Row Operations:\n\n1. \\\\(R_{X_{4}} \\leftarrow \\frac{R_{X_{4}}}{3.5}\\\\)\n1. \\\\(R_{C} \\leftarrow R_{C} - 2.0R_{X_{4}}\\\\)\n2. \\\\(R_{X_{1}} \\leftarrow R_{X_{1}} + 0.5R_{X_{4}}\\\\)\n3. \\\\(R_{X_{6}} \\leftarrow R_{X_{6}} - 2.0R_{X_{4}}\\\\)\n4. \\\\(R_{X_{7}} \\leftarrow R_{X_{7}} + 3.5R_{X_{4}}\\\\)\n\n\nComputed Tableau:\n\n|   |\\\\(X_{0}\\\\) | \\\\(X_{1}\\\\) | \\\\(X_{2}\\\\) | \\\\(X_{3}\\\\) | \\\\(X_{4}\\\\) | \\\\(X_{5}\\\\) | \\\\(X_{6}\\\\) | \\\\(X_{7}\\\\) | RHS |\n|---|---|---|---|---|---|---|---|---|---|\n| Cost | 0.000 | 0.000 | 0.000 | 0.000 | -0.571 | -0.714 | 0.000 | 0.000 | -3.143 |\n| \\\\(X_{2}\\\\) | 0.000 | 0.000 | 1.000 | -1.000 | 0.286 | -0.143 | 0.000 | 0.000 | 0.571 |\n| \\\\(X_{1}\\\\) | -1.000 | 1.000 | 0.000 | 0.000 | 0.143 | 0.429 | 0.000 | 0.000 | 1.286 |\n| \\\\(X_{6}\\\\) | 0.000 | 0.000 | 0.000 | 0.000 | -0.571 | 1.286 | 1.000 | 0.000 | 6.857 |\n| \\\\(X_{7}\\\\) | 0.000 | 0.000 | 0.000 | 0.000 | 1.000 | 1.000 | 0.000 | 1.000 | 11.000 |\n"
          },
          "metadata": {}
        }
      ],
      "execution_count": 11
    },
    {
      "cell_type": "markdown",
      "source": "## Exercício 3.27",
      "metadata": {}
    },
    {
      "cell_type": "code",
      "source": "C = np.array([-2, -1, -6, 4, 0, 0, 0])\nA = np.array([\n    [1, 2,  4, -1, 1, 0, 0],\n    [2, 3, -1,  1, 0, 1, 0],\n    [1, 0,  1,  1, 0, 0, 1]\n])\nB = np.array([6, 12, 2])\n\nm, n = A.shape\nI = [0, 1, 3]\n\nsolution = simplex_tableau(A, B, C, I)\n\n'''\n    Display solution\n'''\nZ_star = solution['Z_star']\nI_star = solution['I_star']\nX_star = np.zeros(n)\nX_star[I_star] = solution['X_star']\nsolution_type = solution_types[\n    solution['solution_type']\n]\nsolution_md = f'''\n## Solution\n\n\\\\\\\\(X^{{*}}\\\\\\\\) = {repr(np.round(X_star, 2))}\n\n\\\\\\\\(Z^{{*}} = {repr(np.round(Z_star, 5))} \\\\\\\\)\n\n\\\\\\\\(\\\\text{{I}}^{{*}}\\\\\\\\) = {repr([\n    '\\\\(X_' + str(i) + '\\\\)' for i in I_star\n])}\n'''\ndisplay(\n    Markdown(\n        solution_md\n    )\n)\n\n'''\n    Display Tableaus\n'''\ntableaus = True\nif tableaus:\n    tableau_steps = solution['tableaus']\n    tableau_md = markdown_repr_T(tableau_steps)\n    display(\n        Markdown(\n            tableau_md\n        )\n    )",
      "metadata": {
        "trusted": true
      },
      "outputs": [
        {
          "output_type": "display_data",
          "data": {
            "text/plain": "<IPython.core.display.Markdown object>",
            "text/markdown": "\n## Solution\n\n\\\\(X^{*}\\\\) = array([ 0.67,  0.  ,  1.33,  0.  ,  0.  , 12.  ,  0.  ])\n\n\\\\(Z^{*} = -9.33333 \\\\)\n\n\\\\(\\text{I}^{*}\\\\) = ['\\\\(X_0\\\\)', '\\\\(X_2\\\\)', '\\\\(X_5\\\\)']\n"
          },
          "metadata": {}
        },
        {
          "output_type": "display_data",
          "data": {
            "text/plain": "<IPython.core.display.Markdown object>",
            "text/markdown": "\n\n## Iteration 1\n\nPrevious Tableau:\n\n|   |\\\\(X_{0}\\\\) | \\\\(X_{1}\\\\) | \\\\(X_{2}\\\\) | \\\\(X_{3}\\\\) | \\\\(X_{4}\\\\) | \\\\(X_{5}\\\\) | \\\\(X_{6}\\\\) | RHS |\n|---|---|---|---|---|---|---|---|---|\n| Cost | 0.000 | 0.000 | -16.250 | 0.000 | -4.250 | 2.500 | -2.750 | -1.000 |\n| \\\\(X_{0}\\\\) | 1.000 | 0.000 | 4.750 | 0.000 | 0.750 | -0.500 | 1.250 | 1.000 |\n| \\\\(X_{1}\\\\) | 0.000 | 1.000 | -2.250 | 0.000 | -0.250 | 0.500 | -0.750 | 3.000 |\n| \\\\(X_{3}\\\\) | 0.000 | 0.000 | -3.750 | 1.000 | -0.750 | 0.500 | -0.250 | 1.000 |\n### Pivot Operations\n\nVariable to enter: \\\\(X_{5}\\\\)\nVariable to leave: \\\\(X_{3}\\\\)\n#### Row Operations:\n\n1. \\\\(R_{X_{3}} \\leftarrow \\frac{R_{X_{3}}}{0.5}\\\\)\n1. \\\\(R_{C} \\leftarrow R_{C} - 2.5R_{X_{3}}\\\\)\n2. \\\\(R_{X_{0}} \\leftarrow R_{X_{0}} + 0.5R_{X_{3}}\\\\)\n3. \\\\(R_{X_{1}} \\leftarrow R_{X_{1}} - 0.5R_{X_{3}}\\\\)\n\n\nComputed Tableau:\n\n|   |\\\\(X_{0}\\\\) | \\\\(X_{1}\\\\) | \\\\(X_{2}\\\\) | \\\\(X_{3}\\\\) | \\\\(X_{4}\\\\) | \\\\(X_{5}\\\\) | \\\\(X_{6}\\\\) | RHS |\n|---|---|---|---|---|---|---|---|---|\n| Cost | 0.000 | 0.000 | 2.500 | -5.000 | -0.500 | 0.000 | -1.500 | -6.000 |\n| \\\\(X_{0}\\\\) | 1.000 | 0.000 | 1.000 | 1.000 | 0.000 | 0.000 | 1.000 | 2.000 |\n| \\\\(X_{1}\\\\) | 0.000 | 1.000 | 1.500 | -1.000 | 0.500 | 0.000 | -0.500 | 2.000 |\n| \\\\(X_{5}\\\\) | 0.000 | 0.000 | -7.500 | 2.000 | -1.500 | 1.000 | -0.500 | 2.000 |\n\n\n## Iteration 2\n\nPrevious Tableau:\n\n|   |\\\\(X_{0}\\\\) | \\\\(X_{1}\\\\) | \\\\(X_{2}\\\\) | \\\\(X_{3}\\\\) | \\\\(X_{4}\\\\) | \\\\(X_{5}\\\\) | \\\\(X_{6}\\\\) | RHS |\n|---|---|---|---|---|---|---|---|---|\n| Cost | 0.000 | 0.000 | 2.500 | -5.000 | -0.500 | 0.000 | -1.500 | -6.000 |\n| \\\\(X_{0}\\\\) | 1.000 | 0.000 | 1.000 | 1.000 | 0.000 | 0.000 | 1.000 | 2.000 |\n| \\\\(X_{1}\\\\) | 0.000 | 1.000 | 1.500 | -1.000 | 0.500 | 0.000 | -0.500 | 2.000 |\n| \\\\(X_{5}\\\\) | 0.000 | 0.000 | -7.500 | 2.000 | -1.500 | 1.000 | -0.500 | 2.000 |\n### Pivot Operations\n\nVariable to enter: \\\\(X_{2}\\\\)\nVariable to leave: \\\\(X_{1}\\\\)\n#### Row Operations:\n\n1. \\\\(R_{X_{1}} \\leftarrow \\frac{R_{X_{1}}}{1.5}\\\\)\n1. \\\\(R_{C} \\leftarrow R_{C} - 2.5R_{X_{1}}\\\\)\n2. \\\\(R_{X_{0}} \\leftarrow R_{X_{0}} - 1.0R_{X_{1}}\\\\)\n3. \\\\(R_{X_{5}} \\leftarrow R_{X_{5}} + 7.5R_{X_{1}}\\\\)\n\n\nComputed Tableau:\n\n|   |\\\\(X_{0}\\\\) | \\\\(X_{1}\\\\) | \\\\(X_{2}\\\\) | \\\\(X_{3}\\\\) | \\\\(X_{4}\\\\) | \\\\(X_{5}\\\\) | \\\\(X_{6}\\\\) | RHS |\n|---|---|---|---|---|---|---|---|---|\n| Cost | 0.000 | -1.667 | 0.000 | -3.333 | -1.333 | 0.000 | -0.667 | -9.333 |\n| \\\\(X_{0}\\\\) | 1.000 | -0.667 | 0.000 | 1.667 | -0.333 | 0.000 | 1.333 | 0.667 |\n| \\\\(X_{2}\\\\) | 0.000 | 0.667 | 1.000 | -0.667 | 0.333 | 0.000 | -0.333 | 1.333 |\n| \\\\(X_{5}\\\\) | 0.000 | 5.000 | 0.000 | -3.000 | 1.000 | 1.000 | -3.000 | 12.000 |\n"
          },
          "metadata": {}
        }
      ],
      "execution_count": 13
    },
    {
      "cell_type": "code",
      "source": "from simplex_tableau import _markdown_T, _apply_pivot, _markdown_pivot_operations\nT = np.copy(tableau_steps[0]['previous_T'])\nI = [4, 5, 6]\ndisplay(\n    Markdown(\n        _markdown_T(T, I)\n    )\n)\nr = 4\nk = 0\nT, pivot_operations = _apply_pivot(T, r, k, I)\ndisplay(\n    Markdown(\n        _markdown_pivot_operations(f'X_{k}', f'X_{r}', I, pivot_operations)\n    )\n)\nI = [0, 5, 6]\ndisplay(\n    Markdown(\n        _markdown_T(T, I)\n    )\n)\nr = 5\nk = 1\nT, pivot_operations = _apply_pivot(T, r, k, I)\ndisplay(\n    Markdown(\n        _markdown_pivot_operations(f'X_{k}', f'X_{r}', I, pivot_operations)\n    )\n)\nI = [0, 1, 6]\ndisplay(\n    Markdown(\n        _markdown_T(T, I)\n    )\n)\n# tirar x6, colocar x3\nr = 6\nk = 3\nT, pivot_operations = _apply_pivot(T, r, k, I)\ndisplay(\n    Markdown(\n        _markdown_pivot_operations(f'X_{k}', f'X_{r}', I, pivot_operations)\n    )\n)\nI = [0, 1, 3]\ndisplay(\n    Markdown(\n        _markdown_T(T, I)\n    )\n)",
      "metadata": {
        "trusted": true
      },
      "outputs": [
        {
          "output_type": "display_data",
          "data": {
            "text/plain": "<IPython.core.display.Markdown object>",
            "text/markdown": "|   |\\\\(X_{0}\\\\) | \\\\(X_{1}\\\\) | \\\\(X_{2}\\\\) | \\\\(X_{3}\\\\) | \\\\(X_{4}\\\\) | \\\\(X_{5}\\\\) | \\\\(X_{6}\\\\) | RHS |\n|---|---|---|---|---|---|---|---|---|\n| Cost | 0.000 | 0.000 | -16.250 | 0.000 | -4.250 | 2.500 | -2.750 | -1.000 |\n| \\\\(X_{4}\\\\) | 1.000 | 0.000 | 4.750 | 0.000 | 0.750 | -0.500 | 1.250 | 1.000 |\n| \\\\(X_{5}\\\\) | 0.000 | 1.000 | -2.250 | 0.000 | -0.250 | 0.500 | -0.750 | 3.000 |\n| \\\\(X_{6}\\\\) | 0.000 | 0.000 | -3.750 | 1.000 | -0.750 | 0.500 | -0.250 | 1.000 |\n"
          },
          "metadata": {}
        },
        {
          "output_type": "display_data",
          "data": {
            "text/plain": "<IPython.core.display.Markdown object>",
            "text/markdown": "### Pivot Operations\n\nVariable to enter: \\\\(X_0\\\\)\nVariable to leave: \\\\(X_4\\\\)\n#### Row Operations:\n\n1. \\\\(R_{X_{4}} \\leftarrow \\frac{R_{X_{4}}}{1.0}\\\\)\n1. \\\\(R_{C} \\leftarrow R_{C} - 0.0R_{X_{4}}\\\\)\n2. \\\\(R_{X_{5}} \\leftarrow R_{X_{5}} - 0.0R_{X_{4}}\\\\)\n3. \\\\(R_{X_{6}} \\leftarrow R_{X_{6}} - 0.0R_{X_{4}}\\\\)\n"
          },
          "metadata": {}
        },
        {
          "output_type": "display_data",
          "data": {
            "text/plain": "<IPython.core.display.Markdown object>",
            "text/markdown": "|   |\\\\(X_{0}\\\\) | \\\\(X_{1}\\\\) | \\\\(X_{2}\\\\) | \\\\(X_{3}\\\\) | \\\\(X_{4}\\\\) | \\\\(X_{5}\\\\) | \\\\(X_{6}\\\\) | RHS |\n|---|---|---|---|---|---|---|---|---|\n| Cost | 0.000 | 0.000 | -16.250 | 0.000 | -4.250 | 2.500 | -2.750 | -1.000 |\n| \\\\(X_{0}\\\\) | 1.000 | 0.000 | 4.750 | 0.000 | 0.750 | -0.500 | 1.250 | 1.000 |\n| \\\\(X_{5}\\\\) | 0.000 | 1.000 | -2.250 | 0.000 | -0.250 | 0.500 | -0.750 | 3.000 |\n| \\\\(X_{6}\\\\) | 0.000 | 0.000 | -3.750 | 1.000 | -0.750 | 0.500 | -0.250 | 1.000 |\n"
          },
          "metadata": {}
        },
        {
          "output_type": "display_data",
          "data": {
            "text/plain": "<IPython.core.display.Markdown object>",
            "text/markdown": "### Pivot Operations\n\nVariable to enter: \\\\(X_1\\\\)\nVariable to leave: \\\\(X_5\\\\)\n#### Row Operations:\n\n1. \\\\(R_{X_{5}} \\leftarrow \\frac{R_{X_{5}}}{1.0}\\\\)\n1. \\\\(R_{C} \\leftarrow R_{C} - 0.0R_{X_{5}}\\\\)\n2. \\\\(R_{X_{0}} \\leftarrow R_{X_{0}} - 0.0R_{X_{5}}\\\\)\n3. \\\\(R_{X_{6}} \\leftarrow R_{X_{6}} - 0.0R_{X_{5}}\\\\)\n"
          },
          "metadata": {}
        },
        {
          "output_type": "display_data",
          "data": {
            "text/plain": "<IPython.core.display.Markdown object>",
            "text/markdown": "|   |\\\\(X_{0}\\\\) | \\\\(X_{1}\\\\) | \\\\(X_{2}\\\\) | \\\\(X_{3}\\\\) | \\\\(X_{4}\\\\) | \\\\(X_{5}\\\\) | \\\\(X_{6}\\\\) | RHS |\n|---|---|---|---|---|---|---|---|---|\n| Cost | 0.000 | 0.000 | -16.250 | 0.000 | -4.250 | 2.500 | -2.750 | -1.000 |\n| \\\\(X_{0}\\\\) | 1.000 | 0.000 | 4.750 | 0.000 | 0.750 | -0.500 | 1.250 | 1.000 |\n| \\\\(X_{1}\\\\) | 0.000 | 1.000 | -2.250 | 0.000 | -0.250 | 0.500 | -0.750 | 3.000 |\n| \\\\(X_{6}\\\\) | 0.000 | 0.000 | -3.750 | 1.000 | -0.750 | 0.500 | -0.250 | 1.000 |\n"
          },
          "metadata": {}
        },
        {
          "output_type": "display_data",
          "data": {
            "text/plain": "<IPython.core.display.Markdown object>",
            "text/markdown": "### Pivot Operations\n\nVariable to enter: \\\\(X_3\\\\)\nVariable to leave: \\\\(X_6\\\\)\n#### Row Operations:\n\n1. \\\\(R_{X_{6}} \\leftarrow \\frac{R_{X_{6}}}{1.0}\\\\)\n1. \\\\(R_{C} \\leftarrow R_{C} - 0.0R_{X_{6}}\\\\)\n2. \\\\(R_{X_{0}} \\leftarrow R_{X_{0}} - 0.0R_{X_{6}}\\\\)\n3. \\\\(R_{X_{1}} \\leftarrow R_{X_{1}} - 0.0R_{X_{6}}\\\\)\n"
          },
          "metadata": {}
        },
        {
          "output_type": "display_data",
          "data": {
            "text/plain": "<IPython.core.display.Markdown object>",
            "text/markdown": "|   |\\\\(X_{0}\\\\) | \\\\(X_{1}\\\\) | \\\\(X_{2}\\\\) | \\\\(X_{3}\\\\) | \\\\(X_{4}\\\\) | \\\\(X_{5}\\\\) | \\\\(X_{6}\\\\) | RHS |\n|---|---|---|---|---|---|---|---|---|\n| Cost | 0.000 | 0.000 | -16.250 | 0.000 | -4.250 | 2.500 | -2.750 | -1.000 |\n| \\\\(X_{0}\\\\) | 1.000 | 0.000 | 4.750 | 0.000 | 0.750 | -0.500 | 1.250 | 1.000 |\n| \\\\(X_{1}\\\\) | 0.000 | 1.000 | -2.250 | 0.000 | -0.250 | 0.500 | -0.750 | 3.000 |\n| \\\\(X_{3}\\\\) | 0.000 | 0.000 | -3.750 | 1.000 | -0.750 | 0.500 | -0.250 | 1.000 |\n"
          },
          "metadata": {}
        }
      ],
      "execution_count": 14
    },
    {
      "cell_type": "markdown",
      "source": "Agora, aplicando o algoritmo a partir desta base",
      "metadata": {}
    },
    {
      "cell_type": "code",
      "source": "I = [0, 1, 3]\n\n'''\n    Display solution\n'''\nZ_star = solution['Z_star']\nI_star = solution['I_star']\nX_star = np.zeros(n)\nX_star[I_star] = solution['X_star']\nsolution_type = solution_types[\n    solution['solution_type']\n]\nsolution_md = f'''\n## Solution\n\n\\\\\\\\(X^{{*}}\\\\\\\\) = {repr(np.round(X_star, 2))}\n\n\\\\\\\\(Z^{{*}} = {repr(np.round(Z_star, 5))} \\\\\\\\)\n\n\\\\\\\\(\\\\text{{I}}^{{*}}\\\\\\\\) = {repr([\n    '\\\\(X_' + str(i) + '\\\\)' for i in I_star\n])}\n'''\ndisplay(\n    Markdown(\n        solution_md\n    )\n)\n\n'''\n    Display Tableaus\n'''\ntableaus = True\nif tableaus:\n    tableau_steps = solution['tableaus']\n    tableau_md = markdown_repr_T(tableau_steps)\n    display(\n        Markdown(\n            tableau_md\n        )\n    )",
      "metadata": {
        "trusted": true
      },
      "outputs": [
        {
          "output_type": "display_data",
          "data": {
            "text/plain": "<IPython.core.display.Markdown object>",
            "text/markdown": "\n## Solution\n\n\\\\(X^{*}\\\\) = array([ 0.67,  0.  ,  1.33,  0.  ,  0.  , 12.  ,  0.  ])\n\n\\\\(Z^{*} = -9.33333 \\\\)\n\n\\\\(\\text{I}^{*}\\\\) = ['\\\\(X_0\\\\)', '\\\\(X_2\\\\)', '\\\\(X_5\\\\)']\n"
          },
          "metadata": {}
        },
        {
          "output_type": "display_data",
          "data": {
            "text/plain": "<IPython.core.display.Markdown object>",
            "text/markdown": "\n\n## Iteration 1\n\nPrevious Tableau:\n\n|   |\\\\(X_{0}\\\\) | \\\\(X_{1}\\\\) | \\\\(X_{2}\\\\) | \\\\(X_{3}\\\\) | \\\\(X_{4}\\\\) | \\\\(X_{5}\\\\) | \\\\(X_{6}\\\\) | RHS |\n|---|---|---|---|---|---|---|---|---|\n| Cost | 0.000 | 0.000 | -16.250 | 0.000 | -4.250 | 2.500 | -2.750 | -1.000 |\n| \\\\(X_{0}\\\\) | 1.000 | 0.000 | 4.750 | 0.000 | 0.750 | -0.500 | 1.250 | 1.000 |\n| \\\\(X_{1}\\\\) | 0.000 | 1.000 | -2.250 | 0.000 | -0.250 | 0.500 | -0.750 | 3.000 |\n| \\\\(X_{3}\\\\) | 0.000 | 0.000 | -3.750 | 1.000 | -0.750 | 0.500 | -0.250 | 1.000 |\n### Pivot Operations\n\nVariable to enter: \\\\(X_{5}\\\\)\nVariable to leave: \\\\(X_{3}\\\\)\n#### Row Operations:\n\n1. \\\\(R_{X_{3}} \\leftarrow \\frac{R_{X_{3}}}{0.5}\\\\)\n1. \\\\(R_{C} \\leftarrow R_{C} - 2.5R_{X_{3}}\\\\)\n2. \\\\(R_{X_{0}} \\leftarrow R_{X_{0}} + 0.5R_{X_{3}}\\\\)\n3. \\\\(R_{X_{1}} \\leftarrow R_{X_{1}} - 0.5R_{X_{3}}\\\\)\n\n\nComputed Tableau:\n\n|   |\\\\(X_{0}\\\\) | \\\\(X_{1}\\\\) | \\\\(X_{2}\\\\) | \\\\(X_{3}\\\\) | \\\\(X_{4}\\\\) | \\\\(X_{5}\\\\) | \\\\(X_{6}\\\\) | RHS |\n|---|---|---|---|---|---|---|---|---|\n| Cost | 0.000 | 0.000 | 2.500 | -5.000 | -0.500 | 0.000 | -1.500 | -6.000 |\n| \\\\(X_{0}\\\\) | 1.000 | 0.000 | 1.000 | 1.000 | 0.000 | 0.000 | 1.000 | 2.000 |\n| \\\\(X_{1}\\\\) | 0.000 | 1.000 | 1.500 | -1.000 | 0.500 | 0.000 | -0.500 | 2.000 |\n| \\\\(X_{5}\\\\) | 0.000 | 0.000 | -7.500 | 2.000 | -1.500 | 1.000 | -0.500 | 2.000 |\n\n\n## Iteration 2\n\nPrevious Tableau:\n\n|   |\\\\(X_{0}\\\\) | \\\\(X_{1}\\\\) | \\\\(X_{2}\\\\) | \\\\(X_{3}\\\\) | \\\\(X_{4}\\\\) | \\\\(X_{5}\\\\) | \\\\(X_{6}\\\\) | RHS |\n|---|---|---|---|---|---|---|---|---|\n| Cost | 0.000 | 0.000 | 2.500 | -5.000 | -0.500 | 0.000 | -1.500 | -6.000 |\n| \\\\(X_{0}\\\\) | 1.000 | 0.000 | 1.000 | 1.000 | 0.000 | 0.000 | 1.000 | 2.000 |\n| \\\\(X_{1}\\\\) | 0.000 | 1.000 | 1.500 | -1.000 | 0.500 | 0.000 | -0.500 | 2.000 |\n| \\\\(X_{5}\\\\) | 0.000 | 0.000 | -7.500 | 2.000 | -1.500 | 1.000 | -0.500 | 2.000 |\n### Pivot Operations\n\nVariable to enter: \\\\(X_{2}\\\\)\nVariable to leave: \\\\(X_{1}\\\\)\n#### Row Operations:\n\n1. \\\\(R_{X_{1}} \\leftarrow \\frac{R_{X_{1}}}{1.5}\\\\)\n1. \\\\(R_{C} \\leftarrow R_{C} - 2.5R_{X_{1}}\\\\)\n2. \\\\(R_{X_{0}} \\leftarrow R_{X_{0}} - 1.0R_{X_{1}}\\\\)\n3. \\\\(R_{X_{5}} \\leftarrow R_{X_{5}} + 7.5R_{X_{1}}\\\\)\n\n\nComputed Tableau:\n\n|   |\\\\(X_{0}\\\\) | \\\\(X_{1}\\\\) | \\\\(X_{2}\\\\) | \\\\(X_{3}\\\\) | \\\\(X_{4}\\\\) | \\\\(X_{5}\\\\) | \\\\(X_{6}\\\\) | RHS |\n|---|---|---|---|---|---|---|---|---|\n| Cost | 0.000 | -1.667 | 0.000 | -3.333 | -1.333 | 0.000 | -0.667 | -9.333 |\n| \\\\(X_{0}\\\\) | 1.000 | -0.667 | 0.000 | 1.667 | -0.333 | 0.000 | 1.333 | 0.667 |\n| \\\\(X_{2}\\\\) | 0.000 | 0.667 | 1.000 | -0.667 | 0.333 | 0.000 | -0.333 | 1.333 |\n| \\\\(X_{5}\\\\) | 0.000 | 5.000 | 0.000 | -3.000 | 1.000 | 1.000 | -3.000 | 12.000 |\n"
          },
          "metadata": {}
        }
      ],
      "execution_count": 15
    },
    {
      "cell_type": "markdown",
      "source": "## Exercício 3.28",
      "metadata": {}
    },
    {
      "cell_type": "code",
      "source": "C = np.array([3, -2, 1, -1, 0, 0, 0])\nA = np.array([\n    [ 2, -3, -1,  1, 1, 0, 0],\n    [-1,  2,  2, -3, 0, 1, 0],\n    [-1,  1, -4,  1, 0, 0, 1]\n])\nB = np.array([0, 1, 8])\n\nm, n = A.shape\nI = [4, 5, 6]\n\nsolution = simplex_tableau(A, B, C, I)\n\n'''\n    Display solution\n'''\nZ_star = solution['Z_star']\nI_star = solution['I_star']\nX_star = np.zeros(n)\nX_star[I_star] = solution['X_star']\nsolution_type = solution_types[\n    solution['solution_type']\n]\nsolution_md = f'''\n## Solution\n\nSolution type: {solution_type}\n\n\\\\\\\\(X^{{*}}\\\\\\\\) = {repr(np.round(X_star, 2))}\n\n\\\\\\\\(Z^{{*}} = {repr(np.round(Z_star, 5))} \\\\\\\\)\n\n\\\\\\\\(\\\\text{{I}}^{{*}}\\\\\\\\) = {repr([\n    '\\\\(X_' + str(i) + '\\\\)' for i in I_star\n])}\n'''\ndisplay(\n    Markdown(\n        solution_md\n    )\n)\n\n'''\n    Display Tableaus\n'''\ntableaus = True\nif tableaus:\n    tableau_steps = solution['tableaus']\n    tableau_md = markdown_repr_T(tableau_steps)\n    display(\n        Markdown(\n            tableau_md\n        )\n    )",
      "metadata": {
        "trusted": true
      },
      "outputs": [],
      "execution_count": null
    },
    {
      "cell_type": "markdown",
      "source": "Como \\\\(X_2\\\\) é ilimitada, ou seja, nenhuma variável da base limita seu crescimento, é interessante sempre adicionar valores à variável \\\\(X_2\\\\) para que a medida em que \\\\(X_2 \\rightarrow \\infty, \\quad Z^{*} \\rightarrow - \\infty \\\\). Isso pode ser obtido através da base \\\\(I^{*} = [X_4, X_1, X_3]\\\\) como:\n\n\\\\[\n    X_I = {A_I}^{-1} \\overline{b} - \\left[ y_k \\right] x_k\n\\\\]\n\nComo \\\\(k = 2\\\\) e \\\\(b^{T} = \\left[ 12, 5, 3 \\right] \\\\), logo:\n\n\\\\[\n    X^{*} = \\left\\{\n        \\begin{bmatrix}\n            \\underline{{A_I}^{-1} \\overline{b}} \\\\\n            0 \\\\\n            \\vdots \\\\\n            0 \\\\\n            \\vdots \\\\\n            0\n        \\end{bmatrix} + x_k \\ \n        \\begin{bmatrix}\n            \\underline{- y_k} \\\\\n            0 \\\\\n            \\vdots \\\\\n            1 \\\\\n            \\vdots \\\\\n            0\n        \\end{bmatrix} : x_k \\geq 0\n    \\right\\}\n\\\\]\n\nOnde o vetor \\\\( \n    \\begin{bmatrix}\n        \\underline{- y_k} \\\\\n        0 \\\\\n        \\vdots \\\\\n        1 \\\\\n        \\vdots \\\\\n        0\n    \\end{bmatrix}\n\\\\) representa a direção \\\\(d\\\\) do crescimento da variável ilimitada e é composto nos índices básicos pelos valores \\\\(- y_k\\\\) onde \\\\(y_k\\\\) corresponde à coluna \\\\(k\\\\) da matriz de \\\\(A\\\\) de restições — dada por \\\\(A_{\\left[ :, k \\right]}\\\\) — e nos índices básicos por zeros, exceto na k-ésima posição das variáveis não-básicas.\n\nAssim, temos que\n\n\\\\[\n    X^{*} = \\left\\{\n        \\begin{bmatrix}\n            12 \\\\\n             5 \\\\\n             3 \\\\\n             0 \\\\\n             0 \\\\\n             0 \\\\\n             0\n        \\end{bmatrix} + x_2 \\ \n        \\begin{bmatrix}\n             5 \\\\\n             2 \\\\\n             2 \\\\\n             0 \\\\\n             0 \\\\\n             1 \\\\\n             0\n        \\end{bmatrix} = \n        \\begin{bmatrix}\n            12 + 5 x_2 \\\\\n             5 + 2 x_2 \\\\\n             3 + 2 x_2 \\\\\n             0 \\\\\n             0 \\\\\n             x_2 \\\\\n             0\n        \\end{bmatrix}\n    \\right\\}\n\\\\]\n\nConsiderando \\\\(I = [4, 1, 3]\\\\) e \\\\(J = [0, 5, 2, 6]\\\\)\n\n\\\\[\n    X^{*} =\n    \\begin{bmatrix}\n            0 \\\\\n            5 + 2 x_2 \\\\\n            x_2  \\\\\n            3 + 2 x_2 \\\\\n            12 + 5 x_2 \\\\\n            0 \\\\\n            0\n    \\end{bmatrix}\n\\\\]\n\nAgora, o exercício solicita-nos um valor de x2 que garanta que a função objetivo seja maior ou igual a 3500. Com o auxilio da biblioteca sympy (computação simbolica) é possível encontrar de imediato qual valor satisfaz a condição dado que desejamos:\n\n\\\\[\n    C^{T} \\cdot \\begin{bmatrix}\n            0 \\\\\n            5 + 2 x_2 \\\\\n            x_2  \\\\\n            3 + 2 x_2 \\\\\n            12 + 5 x_2 \\\\\n            0 \\\\\n            0\n    \\end{bmatrix} \\geq 3500\n\\\\]",
      "metadata": {}
    },
    {
      "cell_type": "code",
      "source": "from sympy import symbols, Matrix, solve\n\nalpha = symbols('α')\n\nX_unbounded = Matrix([\n    0,\n    5 + 2 * alpha,\n    alpha,\n    3 + 2* alpha,\n    12 + 5 * alpha,\n    0,\n    0\n])\ndisplay(C.dot(X_unbounded))\ndisplay(\n    Markdown(\n        repr(solve(C.dot(X_unbounded) + 3500))\n    )\n)",
      "metadata": {
        "trusted": true
      },
      "outputs": [],
      "execution_count": null
    },
    {
      "cell_type": "code",
      "source": "alpha = 3487/5\n\nX_unbounded = np.array([\n    0,\n    5 + 2 * alpha,\n    alpha,\n    3 + 2* alpha,\n    12 + 5 * alpha,\n    0,\n    0\n])\n\nC @ X_unbounded",
      "metadata": {
        "trusted": true
      },
      "outputs": [],
      "execution_count": null
    },
    {
      "cell_type": "markdown",
      "source": "Portanto, \\\\(X_2 \\geq \\frac{3487}{5}\\\\) faz com que \\\\(Z^{*} \\geq -3500 \\therefore Z^{*} \\geq 3500\\\\), considerando a conversão do problema de minimização adaptado para o problema original de maximização.",
      "metadata": {}
    },
    {
      "cell_type": "code",
      "source": "X_unbounded",
      "metadata": {
        "trusted": true
      },
      "outputs": [],
      "execution_count": null
    },
    {
      "cell_type": "markdown",
      "source": "## Exercício 3.29",
      "metadata": {}
    },
    {
      "cell_type": "code",
      "source": "A = np.array([\n    [  5,   1,   -1,   2, 1, 0, 1,  0, 0,  0, 0, 0],\n    [  5,   1,   -1,   2, 1, 0, 0, -1, 0,  0, 0, 0],\n    [-14,  -3,    3,  -5, 0, 1, 0,  0, 1,  0, 0, 0],\n    [-14,  -3,    3,  -5, 0, 1, 0,  0, 0, -1, 0, 0],\n    [  2, 0.5, -0.5, 0.5, 0, 0, 0,  0, 0,  0, 1, 0],\n    [  3, 0.5,  0.5, 1.5, 0, 0, 0,  0, 0,  0, 0, 1]\n])\nB = np.array([\n     12,\n     12,\n      2,\n      2,\n    2.5,\n      3\n])\nC = np.array([-11, -2, 1, -3, -4, -1, 0, 0, 0, 0, 0, 0])\n\nm, n = A.shape\nI = [6, 4, 8, 5, 10, 11]\n\nsolution = simplex_tableau(A, B, C, I)\n\n'''\n    Display solution\n'''\nZ_star = solution['Z_star']\nI_star = solution['I_star']\nX_star = np.zeros(n)\nX_star[I_star] = solution['X_star']\nsolution_type = solution_types[\n    solution['solution_type']\n]\nsolution_md = f'''\n## Solution\n\nSolution type: {solution_type}\n\n\\\\\\\\(X^{{*}}\\\\\\\\) = {repr(np.round(X_star, 2))}\n\n\\\\\\\\(Z^{{*}} = {repr(np.round(Z_star, 5))} \\\\\\\\)\n\n\\\\\\\\(\\\\text{{I}}^{{*}}\\\\\\\\) = {repr([\n    '\\\\(X_' + str(i) + '\\\\)' for i in I_star\n])}\n'''\ndisplay(\n    Markdown(\n        solution_md\n    )\n)\n\n'''\n    Display Tableaus\n'''\ntableaus = True\nif tableaus:\n    tableau_steps = solution['tableaus']\n    tableau_md = markdown_repr_T(tableau_steps)\n    display(\n        Markdown(\n            tableau_md\n        )\n    )",
      "metadata": {
        "trusted": true
      },
      "outputs": [],
      "execution_count": null
    },
    {
      "cell_type": "code",
      "source": "%pip install scipy\nfrom scipy.optimize import linprog\nresult = linprog(C, A_eq = A, b_eq = B, method='highs')\nprint('Result comparison, we found the optimal solution through our tableaus')\ndisplay(result)",
      "metadata": {
        "trusted": true
      },
      "outputs": [],
      "execution_count": null
    },
    {
      "cell_type": "markdown",
      "source": "## Exercício 3.30\n\nLetra a)",
      "metadata": {}
    },
    {
      "cell_type": "code",
      "source": "A = np.array([\n    [2, 1, 0, 1, 0, 0],\n    [3, 3, 1, 0, 1, 0],\n    [1, 2, 2, 0, 0, 1]\n])\n\nB = np.array([\n    6000,\n    9000,\n    4000\n])\n\nC = np.array([\n    10, 15, 5, 0, 0, 0\n])\n\nmaximum = -float('inf')\nfor i, I in enumerate(combinations(range(6), 3)):\n    if np.linalg.det(A[:,I]) == 0:\n        continue\n    x_I = np.linalg.solve(A[:,I], B)\n    x = np.zeros(6)\n    x[[I]] = x_I\n    if np.all(x >= 0): # solucao valida\n        z = C @ x\n        if z > maximum: # devemos atualizar os valores\n            X_star = x\n            Z_star = z\n            I_star = I\n            maximum = z\n            ith_combination = i + 1\ndisplay(f'I_star: {I_star}')\ndisplay(f'X_star: {X_star}')\ndisplay(f'Z_star: {Z_star}')",
      "metadata": {
        "trusted": true
      },
      "outputs": [
        {
          "output_type": "display_data",
          "data": {
            "text/plain": "'I_star: (0, 1, 3)'"
          },
          "metadata": {}
        },
        {
          "output_type": "display_data",
          "data": {
            "text/plain": "'X_star: [2000. 1000.    0. 1000.    0.    0.]'"
          },
          "metadata": {}
        },
        {
          "output_type": "display_data",
          "data": {
            "text/plain": "'Z_star: 35000.0'"
          },
          "metadata": {}
        }
      ],
      "execution_count": 16
    },
    {
      "cell_type": "markdown",
      "source": "Letra b)",
      "metadata": {}
    },
    {
      "cell_type": "code",
      "source": "I = list(I_star)\nsolution = simplex_tableau(A, B, -C, I)\n\n'''\n    Display solution\n'''\nm, n = A.shape\nZ_star = solution['Z_star']\nI_star = solution['I_star']\nX_star = np.zeros(n)\nX_star[I_star] = solution['X_star']\nsolution_type = solution_types[\n    solution['solution_type']\n]\nsolution_md = f'''\n## Solution\n\nSolution type: {solution_type}\n\n\\\\\\\\(X^{{*}}\\\\\\\\) = {repr(np.round(X_star, 2))}\n\n\\\\\\\\(Z^{{*}} = {repr(np.round(Z_star, 5))} \\\\\\\\)\n\n\\\\\\\\(\\\\text{{I}}^{{*}}\\\\\\\\) = {repr([\n    '\\\\(X_' + str(i) + '\\\\)' for i in I_star\n])}\n'''\ndisplay(\n    Markdown(\n        solution_md\n    )\n)\n\n'''\n    Display Tableaus\n'''\ntableaus = True\nif tableaus:\n    tableau_steps = solution['tableaus']\n    tableau_md = markdown_repr_T(tableau_steps)\n    display(\n        Markdown(\n            tableau_md\n        )\n    )",
      "metadata": {
        "trusted": true
      },
      "outputs": [
        {
          "output_type": "display_data",
          "data": {
            "text/plain": "<IPython.core.display.Markdown object>",
            "text/markdown": "\n## Solution\n\nSolution type: Optimal finite solution found\n\n\\\\(X^{*}\\\\) = array([2000., 1000.,    0., 1000.,    0.,    0.])\n\n\\\\(Z^{*} = -35000.0 \\\\)\n\n\\\\(\\text{I}^{*}\\\\) = ['\\\\(X_0\\\\)', '\\\\(X_1\\\\)', '\\\\(X_3\\\\)']\n"
          },
          "metadata": {}
        },
        {
          "output_type": "display_data",
          "data": {
            "text/plain": "<IPython.core.display.Markdown object>",
            "text/markdown": ""
          },
          "metadata": {}
        }
      ],
      "execution_count": 17
    },
    {
      "cell_type": "code",
      "source": "A = np.hstack((A[:,:3], np.array([\n    [2],\n    [4],\n    [2]\n]), A[:,3:]))\nC = np.hstack((C[:3],[50003/3000],C[3:]))\n\nI = list([4, 5, 6])\nsolution = simplex_tableau(A, B, -C, I)\n\n'''\n    Display solution\n'''\nm, n = A.shape\nZ_star = solution['Z_star']\nI_star = solution['I_star']\nX_star = np.zeros(n)\nX_star[I_star] = solution['X_star']\nsolution_type = solution_types[\n    solution['solution_type']\n]\nsolution_md = f'''\n## Solution\n\nSolution type: {solution_type}\n\n\\\\\\\\(X^{{*}}\\\\\\\\) = {repr(np.round(X_star, 2))}\n\n\\\\\\\\(Z^{{*}} = {repr(np.round(Z_star, 5))} \\\\\\\\)\n\n\\\\\\\\(\\\\text{{I}}^{{*}}\\\\\\\\) = {repr([\n    '\\\\(X_' + str(i) + '\\\\)' for i in I_star\n])}\n'''\ndisplay(\n    Markdown(\n        solution_md\n    )\n)\n\n'''\n    Display Tableaus\n'''\ntableaus = True\nif tableaus:\n    tableau_steps = solution['tableaus']\n    tableau_md = markdown_repr_T(tableau_steps)\n    display(\n        Markdown(\n            tableau_md\n        )\n    )",
      "metadata": {
        "trusted": true
      },
      "outputs": [
        {
          "output_type": "display_data",
          "data": {
            "text/plain": "<IPython.core.display.Markdown object>",
            "text/markdown": "\n## Solution\n\nSolution type: Optimal finite solution found\n\n\\\\(X^{*}\\\\) = array([1000.,    0.,    0., 1500., 1000.,    0.,    0.])\n\n\\\\(Z^{*} = -35001.5 \\\\)\n\n\\\\(\\text{I}^{*}\\\\) = ['\\\\(X_4\\\\)', '\\\\(X_0\\\\)', '\\\\(X_3\\\\)']\n"
          },
          "metadata": {}
        },
        {
          "output_type": "display_data",
          "data": {
            "text/plain": "<IPython.core.display.Markdown object>",
            "text/markdown": "\n\n## Iteration 1\n\nPrevious Tableau:\n\n|   |\\\\(X_{0}\\\\) | \\\\(X_{1}\\\\) | \\\\(X_{2}\\\\) | \\\\(X_{3}\\\\) | \\\\(X_{4}\\\\) | \\\\(X_{5}\\\\) | \\\\(X_{6}\\\\) | RHS |\n|---|---|---|---|---|---|---|---|---|\n| Cost | 10.000 | 15.000 | 5.000 | 16.668 | 0.000 | 0.000 | 0.000 | 0.000 |\n| \\\\(X_{4}\\\\) | 2.000 | 1.000 | 0.000 | 2.000 | 1.000 | 0.000 | 0.000 | 6000.000 |\n| \\\\(X_{5}\\\\) | 3.000 | 3.000 | 1.000 | 4.000 | 0.000 | 1.000 | 0.000 | 9000.000 |\n| \\\\(X_{6}\\\\) | 1.000 | 2.000 | 2.000 | 2.000 | 0.000 | 0.000 | 1.000 | 4000.000 |\n### Pivot Operations\n\nVariable to enter: \\\\(X_{3}\\\\)\nVariable to leave: \\\\(X_{6}\\\\)\n#### Row Operations:\n\n1. \\\\(R_{X_{6}} \\leftarrow \\frac{R_{X_{6}}}{2.0}\\\\)\n1. \\\\(R_{C} \\leftarrow R_{C} - 16.667666666666666R_{X_{6}}\\\\)\n2. \\\\(R_{X_{4}} \\leftarrow R_{X_{4}} - 2.0R_{X_{6}}\\\\)\n3. \\\\(R_{X_{5}} \\leftarrow R_{X_{5}} - 4.0R_{X_{6}}\\\\)\n\n\nComputed Tableau:\n\n|   |\\\\(X_{0}\\\\) | \\\\(X_{1}\\\\) | \\\\(X_{2}\\\\) | \\\\(X_{3}\\\\) | \\\\(X_{4}\\\\) | \\\\(X_{5}\\\\) | \\\\(X_{6}\\\\) | RHS |\n|---|---|---|---|---|---|---|---|---|\n| Cost | 1.666 | -1.668 | -11.668 | 0.000 | 0.000 | 0.000 | -8.334 | -33335.333 |\n| \\\\(X_{4}\\\\) | 1.000 | -1.000 | -2.000 | 0.000 | 1.000 | 0.000 | -1.000 | 2000.000 |\n| \\\\(X_{5}\\\\) | 1.000 | -1.000 | -3.000 | 0.000 | 0.000 | 1.000 | -2.000 | 1000.000 |\n| \\\\(X_{3}\\\\) | 0.500 | 1.000 | 1.000 | 1.000 | 0.000 | 0.000 | 0.500 | 2000.000 |\n\n\n## Iteration 2\n\nPrevious Tableau:\n\n|   |\\\\(X_{0}\\\\) | \\\\(X_{1}\\\\) | \\\\(X_{2}\\\\) | \\\\(X_{3}\\\\) | \\\\(X_{4}\\\\) | \\\\(X_{5}\\\\) | \\\\(X_{6}\\\\) | RHS |\n|---|---|---|---|---|---|---|---|---|\n| Cost | 1.666 | -1.668 | -11.668 | 0.000 | 0.000 | 0.000 | -8.334 | -33335.333 |\n| \\\\(X_{4}\\\\) | 1.000 | -1.000 | -2.000 | 0.000 | 1.000 | 0.000 | -1.000 | 2000.000 |\n| \\\\(X_{5}\\\\) | 1.000 | -1.000 | -3.000 | 0.000 | 0.000 | 1.000 | -2.000 | 1000.000 |\n| \\\\(X_{3}\\\\) | 0.500 | 1.000 | 1.000 | 1.000 | 0.000 | 0.000 | 0.500 | 2000.000 |\n### Pivot Operations\n\nVariable to enter: \\\\(X_{0}\\\\)\nVariable to leave: \\\\(X_{5}\\\\)\n#### Row Operations:\n\n1. \\\\(R_{X_{5}} \\leftarrow \\frac{R_{X_{5}}}{1.0}\\\\)\n1. \\\\(R_{C} \\leftarrow R_{C} - 1.6661666666666672R_{X_{5}}\\\\)\n2. \\\\(R_{X_{4}} \\leftarrow R_{X_{4}} - 1.0R_{X_{5}}\\\\)\n3. \\\\(R_{X_{3}} \\leftarrow R_{X_{3}} - 0.5R_{X_{5}}\\\\)\n\n\nComputed Tableau:\n\n|   |\\\\(X_{0}\\\\) | \\\\(X_{1}\\\\) | \\\\(X_{2}\\\\) | \\\\(X_{3}\\\\) | \\\\(X_{4}\\\\) | \\\\(X_{5}\\\\) | \\\\(X_{6}\\\\) | RHS |\n|---|---|---|---|---|---|---|---|---|\n| Cost | 0.000 | -0.001 | -6.669 | 0.000 | 0.000 | -1.666 | -5.001 | -35001.500 |\n| \\\\(X_{4}\\\\) | 0.000 | 0.000 | 1.000 | 0.000 | 1.000 | -1.000 | 1.000 | 1000.000 |\n| \\\\(X_{0}\\\\) | 1.000 | -1.000 | -3.000 | 0.000 | 0.000 | 1.000 | -2.000 | 1000.000 |\n| \\\\(X_{3}\\\\) | 0.000 | 1.500 | 2.500 | 1.000 | 0.000 | -0.500 | 1.500 | 1500.000 |\n"
          },
          "metadata": {}
        }
      ],
      "execution_count": 18
    },
    {
      "cell_type": "code",
      "source": "A, B, C",
      "metadata": {
        "trusted": true
      },
      "outputs": [
        {
          "execution_count": 19,
          "output_type": "execute_result",
          "data": {
            "text/plain": "(array([[2, 1, 0, 2, 1, 0, 0],\n        [3, 3, 1, 4, 0, 1, 0],\n        [1, 2, 2, 2, 0, 0, 1]]),\n array([6000, 9000, 4000]),\n array([10.        , 15.        ,  5.        , 16.66766667,  0.        ,\n         0.        ,  0.        ]))"
          },
          "metadata": {}
        }
      ],
      "execution_count": 19
    },
    {
      "cell_type": "code",
      "source": "%pip install scipy\nfrom scipy.optimize import linprog\nresult = linprog(-C, A_eq = A, b_eq = B, method='highs')\nprint('Result comparison, we found the optimal solution through our tableaus')\ndisplay(result)",
      "metadata": {
        "trusted": true
      },
      "outputs": [
        {
          "name": "stdout",
          "text": "Result comparison, we found the optimal solution through our tableaus\n",
          "output_type": "stream"
        },
        {
          "output_type": "display_data",
          "data": {
            "text/plain": "        message: Optimization terminated successfully. (HiGHS Status 7: Optimal)\n        success: True\n         status: 0\n            fun: -35001.49999999999\n              x: [ 1.000e+03  0.000e+00  0.000e+00  1.500e+03  1.000e+03\n                   0.000e+00  0.000e+00]\n            nit: 4\n          lower:  residual: [ 1.000e+03  0.000e+00  0.000e+00  1.500e+03\n                              1.000e+03  0.000e+00  0.000e+00]\n                 marginals: [ 0.000e+00  1.500e-03  6.669e+00  0.000e+00\n                              0.000e+00  1.666e+00  5.001e+00]\n          upper:  residual: [       inf        inf        inf        inf\n                                    inf        inf        inf]\n                 marginals: [ 0.000e+00  0.000e+00  0.000e+00  0.000e+00\n                              0.000e+00  0.000e+00  0.000e+00]\n          eqlin:  residual: [ 0.000e+00  0.000e+00  0.000e+00]\n                 marginals: [-0.000e+00 -1.666e+00 -5.001e+00]\n        ineqlin:  residual: []\n                 marginals: []\n mip_node_count: 0\n mip_dual_bound: 0.0\n        mip_gap: 0.0"
          },
          "metadata": {}
        }
      ],
      "execution_count": 20
    },
    {
      "cell_type": "markdown",
      "source": "## Exercício 3.31",
      "metadata": {}
    },
    {
      "cell_type": "code",
      "source": "A = np.array([\n    [20, 15, -1, 1, 0, 0],\n    [1,   0,  0, 0, 1, 0],\n    [0,   1,  0, 0, 0, 1]\n])\nB = np.array([\n    60000,\n     2000,\n     4000\n])\nC = np.array([-60, -30, 14, 0, 0, 0])\n\nm, n = A.shape\nI = [3, 0, 5]\n\nsolution = simplex_tableau(A, B, C, I)\n\n'''\n    Display solution\n'''\nZ_star = solution['Z_star']\nI_star = solution['I_star']\nX_star = np.zeros(n)\nX_star[I_star] = solution['X_star']\nsolution_type = solution_types[\n    solution['solution_type']\n]\nsolution_md = f'''\n## Solution\n\nSolution type: {solution_type}\n\n\\\\\\\\(X^{{*}}\\\\\\\\) = {repr(np.round(X_star, 2))}\n\n\\\\\\\\(Z^{{*}} = {repr(np.round(Z_star, 5))} \\\\\\\\)\n\n\\\\\\\\(\\\\text{{I}}^{{*}}\\\\\\\\) = {repr([\n    '\\\\(X_' + str(i) + '\\\\)' for i in I_star\n])}\n'''\ndisplay(\n    Markdown(\n        solution_md\n    )\n)\n\n'''\n    Display Tableaus\n'''\ntableaus = True\nif tableaus:\n    tableau_steps = solution['tableaus']\n    tableau_md = markdown_repr_T(tableau_steps)\n    display(\n        Markdown(\n            tableau_md\n        )\n    )",
      "metadata": {
        "scrolled": true,
        "trusted": true
      },
      "outputs": [
        {
          "output_type": "display_data",
          "data": {
            "text/plain": "<IPython.core.display.Markdown object>",
            "text/markdown": "\n## Solution\n\nSolution type: Optimal finite solution found\n\n\\\\(X^{*}\\\\) = array([2000.  , 1333.33,    0.  ,    0.  ,    0.  , 2666.67])\n\n\\\\(Z^{*} = -160000.0 \\\\)\n\n\\\\(\\text{I}^{*}\\\\) = ['\\\\(X_1\\\\)', '\\\\(X_0\\\\)', '\\\\(X_5\\\\)']\n"
          },
          "metadata": {}
        },
        {
          "output_type": "display_data",
          "data": {
            "text/plain": "<IPython.core.display.Markdown object>",
            "text/markdown": "\n\n## Iteration 1\n\nPrevious Tableau:\n\n|   |\\\\(X_{0}\\\\) | \\\\(X_{1}\\\\) | \\\\(X_{2}\\\\) | \\\\(X_{3}\\\\) | \\\\(X_{4}\\\\) | \\\\(X_{5}\\\\) | RHS |\n|---|---|---|---|---|---|---|---|\n| Cost | 0.000 | 30.000 | -14.000 | 0.000 | -60.000 | 0.000 | -120000.000 |\n| \\\\(X_{3}\\\\) | 0.000 | 15.000 | -1.000 | 1.000 | -20.000 | 0.000 | 20000.000 |\n| \\\\(X_{0}\\\\) | 1.000 | 0.000 | 0.000 | 0.000 | 1.000 | 0.000 | 2000.000 |\n| \\\\(X_{5}\\\\) | 0.000 | 1.000 | 0.000 | 0.000 | 0.000 | 1.000 | 4000.000 |\n### Pivot Operations\n\nVariable to enter: \\\\(X_{1}\\\\)\nVariable to leave: \\\\(X_{3}\\\\)\n#### Row Operations:\n\n1. \\\\(R_{X_{3}} \\leftarrow \\frac{R_{X_{3}}}{15.0}\\\\)\n1. \\\\(R_{C} \\leftarrow R_{C} - 30.0R_{X_{3}}\\\\)\n2. \\\\(R_{X_{0}} \\leftarrow R_{X_{0}} - 0.0R_{X_{3}}\\\\)\n3. \\\\(R_{X_{5}} \\leftarrow R_{X_{5}} - 1.0R_{X_{3}}\\\\)\n\n\nComputed Tableau:\n\n|   |\\\\(X_{0}\\\\) | \\\\(X_{1}\\\\) | \\\\(X_{2}\\\\) | \\\\(X_{3}\\\\) | \\\\(X_{4}\\\\) | \\\\(X_{5}\\\\) | RHS |\n|---|---|---|---|---|---|---|---|\n| Cost | 0.000 | 0.000 | -12.000 | -2.000 | -20.000 | 0.000 | -160000.000 |\n| \\\\(X_{1}\\\\) | 0.000 | 1.000 | -0.067 | 0.067 | -1.333 | 0.000 | 1333.333 |\n| \\\\(X_{0}\\\\) | 1.000 | 0.000 | 0.000 | 0.000 | 1.000 | 0.000 | 2000.000 |\n| \\\\(X_{5}\\\\) | 0.000 | 0.000 | 0.067 | -0.067 | 1.333 | 1.000 | 2666.667 |\n"
          },
          "metadata": {}
        }
      ],
      "execution_count": 21
    },
    {
      "cell_type": "markdown",
      "source": "## Exercício 5.1",
      "metadata": {}
    },
    {
      "cell_type": "code",
      "source": "from simplex_two_phases import _simplex_find_feasible_initial_basis\nfrom revised_simplex_tableau import revised_simplex_tableau, markdown_repr_T\nfrom utils import array_to_markdown\n\nresults_md = ''\n\nC = np.array([1, 4, -7, 1, 5, 0, 0, 0, 0])\nA = np.array([\n    [1, -0.75, 2, -0.25, 0, 1,  0, 0,  0],\n    [1, -0.75, 2, -0.25, 0, 0, -1, 0,  0],\n    [0, -0.25, 3, -0.75, 1, 0,  0, 1,  0],\n    [0, -0.25, 3, -0.75, 1, 0,  0, 0, -1],\n])\nB = np.array([\n    6,\n    6,\n    5,\n    5\n])\nI = [5, 6, 7, 8]\n\nI_sanitized, A_I_sanitized, A_sanitized, B_sanitized, feasible, iters_count, debug_info = _simplex_find_feasible_initial_basis(A, B, C, I)\n\nsolution = revised_simplex_tableau(A, B, C, I_sanitized)\nresults_md += markdown_repr_T(solution)\n\ndisplay(\n    Markdown(results_md)\n)",
      "metadata": {
        "trusted": true
      },
      "outputs": [
        {
          "output_type": "display_data",
          "data": {
            "text/plain": "<IPython.core.display.Markdown object>",
            "text/markdown": "\n\n## Iteration 0\n\nStarting Tableau:\n\n|   |  |   | \\\\(A_I^{-1}\\\\) |   | RHS |\n|---|---|---|---|---|---|\n| Z | 1.000 | 0.000 | -3.000 | 0.000 | -9.000 |\n| \\\\(X_{0}\\\\) | 1.000 | 0.000 | -0.667 | 0.000 | 2.667 |\n| \\\\(X_{6}\\\\) | 1.000 | -1.000 | 0.000 | 0.000 | 0.000 |\n| \\\\(X_{2}\\\\) | 0.000 | 0.000 | 0.333 | 0.000 | 1.667 |\n| \\\\(X_{8}\\\\) | 0.000 | 0.000 | 1.000 | -1.000 | 0.000 |\n\n\nExtended Tableau\n\n|   |  |   | \\\\(A_I^{-1}\\\\) |   | RHS | \\\\(X_{3}\\\\)\n|---|---|---|---|---|---|---|\n| Z | 1.000 | 0.000 | -3.000 | 0.000 | -9.000 | 1.000 |\n| \\\\(X_{0}\\\\) | 1.000 | 0.000 | -0.667 | 0.000 | 2.667 | 0.250 |\n| \\\\(X_{6}\\\\) | 1.000 | -1.000 | 0.000 | 0.000 | 0.000 | 0.000 |\n| \\\\(X_{2}\\\\) | 0.000 | 0.000 | 0.333 | 0.000 | 1.667 | -0.250 |\n| \\\\(X_{8}\\\\) | 0.000 | 0.000 | 1.000 | -1.000 | 0.000 | 0.000 |\n\n\n\\\\(Ĉ_J = \\ \\\\)array([-4.,  1., -8.,  1., -3.])\n\n\n\\\\(J = {[1, 3, 4, 5, 7]}\\\\)\n\n### Pivot Operations\n\nVariable to enter: \\\\(X_{3}\\\\)\nVariable to leave: \\\\(X_{0}\\\\)\n#### Row Operations:\n\n1. \\\\(R_{X_{0}} \\leftarrow \\frac{R_{X_{0}}}{0.250}\\\\)\n1. \\\\(R_{Z} \\leftarrow R_{Z} - 1.000R_{X_{0}}\\\\)\n2. \\\\(R_{X_{6}} \\leftarrow R_{X_{6}} - 0.000R_{X_{0}}\\\\)\n3. \\\\(R_{X_{2}} \\leftarrow R_{X_{2}} + 0.250R_{X_{0}}\\\\)\n4. \\\\(R_{X_{8}} \\leftarrow R_{X_{8}} - 0.000R_{X_{0}}\\\\)\n\n\nComputed Tableau:\n\n|   |  |   | \\\\(A_I^{-1}\\\\) |   | RHS |\n|---|---|---|---|---|---|\n| Z | -3.000 | 0.000 | -0.333 | 0.000 | -19.667 |\n| \\\\(X_{3}\\\\) | 4.000 | 0.000 | -2.667 | 0.000 | 10.667 |\n| \\\\(X_{6}\\\\) | 1.000 | -1.000 | 0.000 | 0.000 | 0.000 |\n| \\\\(X_{2}\\\\) | 1.000 | 0.000 | -0.333 | 0.000 | 4.333 |\n| \\\\(X_{8}\\\\) | 0.000 | 0.000 | 1.000 | -1.000 | 0.000 |\n\n\n## Iteration 1\n\nStarting Tableau:\n\n|   |  |   | \\\\(A_I^{-1}\\\\) |   | RHS |\n|---|---|---|---|---|---|\n| Z | -3.000 | 0.000 | -0.333 | 0.000 | -19.667 |\n| \\\\(X_{3}\\\\) | 4.000 | 0.000 | -2.667 | 0.000 | 10.667 |\n| \\\\(X_{6}\\\\) | 1.000 | -1.000 | 0.000 | 0.000 | 0.000 |\n| \\\\(X_{2}\\\\) | 1.000 | 0.000 | -0.333 | 0.000 | 4.333 |\n| \\\\(X_{8}\\\\) | 0.000 | 0.000 | 1.000 | -1.000 | 0.000 |\n\n\n## Solution for \n\n\\\\[\n    \\begin{aligned}\n    & \\text{Minimize} & C^{T} \\cdot X \\\\\n    & \\text{Subject to} & A \\cdot X & = B \\\\\n    & & X & \\geq 0\n    \\end{aligned}\n    \\\\]\n    where: \n    \\\\[\n    \\begin{aligned}\n    & & A = \\begin{bmatrix}\n1.000 & -0.750 & 2.000 & -0.250 & 0.000 & 1.000 & 0.000 & 0.000 & 0.000 \\\\\n1.000 & -0.750 & 2.000 & -0.250 & 0.000 & 0.000 & -1.000 & 0.000 & 0.000 \\\\\n0.000 & -0.250 & 3.000 & -0.750 & 1.000 & 0.000 & 0.000 & 1.000 & 0.000 \\\\\n0.000 & -0.250 & 3.000 & -0.750 & 1.000 & 0.000 & 0.000 & 0.000 & -1.000 \\\\\n\\end{bmatrix} \\\\\n    & & B = \\begin{bmatrix}\n6.000\\\\\n6.000\\\\\n5.000\\\\\n5.000\n\\end{bmatrix} \\\\\n    & & C^{T} = \\begin{bmatrix}\n1.000 & 4.000 & -7.000 & 1.000 & 5.000 & 0.000 & 0.000 & 0.000 & 0.000\n\\end{bmatrix} \\\\\n    & & X = \\begin{bmatrix}\nX_{0}\\\\\nX_{1}\\\\\nX_{2}\\\\\nX_{3}\\\\\nX_{4}\\\\\nX_{5}\\\\\nX_{6}\\\\\nX_{7}\\\\\nX_{8}\n\\end{bmatrix}\n    \\end{aligned}\n    \\\\]\n\nSolution Type: Optimal unique solution\n\nOptimal Solution: \\\\(X^{*} = ['0.000', '0.000', '4.333', '10.667', '0.000', '0.000', '0.000', '0.000', '0.000']\\\\)\n\nOptimal Value: \\\\(Z^{*} = -19.667\\\\)\n\nOptimal Basis: \\\\([3, 6, 2, 8]\\\\)\n\nFinal non-basic variables set J: \\\\([1, 0, 4, 5, 7]\\\\)\n\n\\\\(\\hat{C}_{J}\\\\): \\\\([-1.666667, -4.0, -5.333333, -3.0, -0.333333]\\\\)\n\nNumber of Iterations: 2\n\n"
          },
          "metadata": {}
        }
      ],
      "execution_count": 22
    },
    {
      "cell_type": "markdown",
      "source": "## Result Comparison through scipy",
      "metadata": {}
    },
    {
      "cell_type": "code",
      "source": "from scipy.optimize import linprog\nresult = linprog(C, A_eq = A, b_eq = B, method='highs')\nprint('Result comparison, we found the optimal solution through our tableaus')\ndisplay(result)",
      "metadata": {
        "trusted": true
      },
      "outputs": [
        {
          "name": "stdout",
          "text": "Result comparison, we found the optimal solution through our tableaus\n",
          "output_type": "stream"
        },
        {
          "output_type": "display_data",
          "data": {
            "text/plain": "        message: Optimization terminated successfully. (HiGHS Status 7: Optimal)\n        success: True\n         status: 0\n            fun: -19.666666666666664\n              x: [ 0.000e+00  0.000e+00  4.333e+00  1.067e+01  0.000e+00\n                   0.000e+00  0.000e+00  0.000e+00 -0.000e+00]\n            nit: 3\n          lower:  residual: [ 0.000e+00  0.000e+00  4.333e+00  1.067e+01\n                              0.000e+00  0.000e+00  0.000e+00  0.000e+00\n                             -0.000e+00]\n                 marginals: [ 4.000e+00  1.667e+00  0.000e+00  0.000e+00\n                              5.333e+00  3.000e+00  0.000e+00  3.333e-01\n                              0.000e+00]\n          upper:  residual: [       inf        inf        inf        inf\n                                    inf        inf        inf        inf\n                                    inf]\n                 marginals: [ 0.000e+00  0.000e+00  0.000e+00  0.000e+00\n                              0.000e+00  0.000e+00  0.000e+00  0.000e+00\n                              0.000e+00]\n          eqlin:  residual: [ 0.000e+00  0.000e+00  0.000e+00  0.000e+00]\n                 marginals: [-3.000e+00 -0.000e+00 -3.333e-01 -0.000e+00]\n        ineqlin:  residual: []\n                 marginals: []\n mip_node_count: 0\n mip_dual_bound: 0.0\n        mip_gap: 0.0"
          },
          "metadata": {}
        }
      ],
      "execution_count": 23
    },
    {
      "cell_type": "markdown",
      "source": "## Exercício 5.2",
      "metadata": {}
    },
    {
      "cell_type": "code",
      "source": "from revised_simplex_tableau import revised_simplex_tableau, markdown_repr_T\nA = np.array([\n    [-1,  2, -1, 1, 0, 0],\n    [ 1,  1,  1, 0, 1, 0],\n    [ 2, -1, -1, 0, 0, 1]\n])\nB = np.array([\n    4,\n    7,\n    5\n])\nC = np.array([0, 2, -1, 0, 0, 0])\nI = [3, 4, 5]\nsolution = revised_simplex_tableau(A, B, C, I)\nresults_md = markdown_repr_T(solution)\n\ndisplay(\n    Markdown(results_md)\n)\ndisplay(\n    solution\n)",
      "metadata": {
        "trusted": true
      },
      "outputs": [],
      "execution_count": null
    },
    {
      "cell_type": "markdown",
      "source": "## Result Comparison through scipy",
      "metadata": {}
    },
    {
      "cell_type": "code",
      "source": "from scipy.optimize import linprog\nresult = linprog(C, A_eq = A, b_eq = B, method='highs')\nprint('Result comparison, we found the optimal solution through our tableaus')\ndisplay(result)",
      "metadata": {
        "trusted": true
      },
      "outputs": [
        {
          "name": "stdout",
          "text": "Result comparison, we found the optimal solution through our tableaus\n",
          "output_type": "stream"
        },
        {
          "output_type": "display_data",
          "data": {
            "text/plain": "        message: Optimization terminated successfully. (HiGHS Status 7: Optimal)\n        success: True\n         status: 0\n            fun: -19.666666666666664\n              x: [ 0.000e+00  0.000e+00  4.333e+00  1.067e+01  0.000e+00\n                   0.000e+00  0.000e+00  0.000e+00 -0.000e+00]\n            nit: 3\n          lower:  residual: [ 0.000e+00  0.000e+00  4.333e+00  1.067e+01\n                              0.000e+00  0.000e+00  0.000e+00  0.000e+00\n                             -0.000e+00]\n                 marginals: [ 4.000e+00  1.667e+00  0.000e+00  0.000e+00\n                              5.333e+00  3.000e+00  0.000e+00  3.333e-01\n                              0.000e+00]\n          upper:  residual: [       inf        inf        inf        inf\n                                    inf        inf        inf        inf\n                                    inf]\n                 marginals: [ 0.000e+00  0.000e+00  0.000e+00  0.000e+00\n                              0.000e+00  0.000e+00  0.000e+00  0.000e+00\n                              0.000e+00]\n          eqlin:  residual: [ 0.000e+00  0.000e+00  0.000e+00  0.000e+00]\n                 marginals: [-3.000e+00 -0.000e+00 -3.333e-01 -0.000e+00]\n        ineqlin:  residual: []\n                 marginals: []\n mip_node_count: 0\n mip_dual_bound: 0.0\n        mip_gap: 0.0"
          },
          "metadata": {}
        }
      ],
      "execution_count": 24
    },
    {
      "cell_type": "markdown",
      "source": "## Exercício 5.3",
      "metadata": {}
    },
    {
      "cell_type": "code",
      "source": "from revised_simplex_tableau import revised_simplex_tableau, markdown_repr_T\nA = np.array([\n    [8, 3, 4, 1, 1, 0, 0],\n    [2, 1, 1, 5, 0, 1, 0],\n    [1, 4, 5, 2, 0, 0, 1]\n])\nB = np.array([\n    7,\n    3,\n    8\n])\nC = np.array([-3, -2, -1, -1, 0, 0, 0])\nI = [4, 5, 6]\nsolution = revised_simplex_tableau(A, B, C, I)\nresults_md = markdown_repr_T(solution)\n\ndisplay(\n    Markdown(results_md)\n)\ndisplay(\n    solution\n)",
      "metadata": {
        "trusted": true
      },
      "outputs": [
        {
          "output_type": "display_data",
          "data": {
            "text/plain": "<IPython.core.display.Markdown object>",
            "text/markdown": "\n\n## Iteration 0\n\nStarting Tableau:\n\n|   |  | \\\\(A_I^{-1}\\\\) |   | RHS |\n|---|---|---|---|---|\n| Z | 0.000 | 0.000 | 0.000 | 0.000 |\n| \\\\(X_{4}\\\\) | 1.000 | 0.000 | 0.000 | 7.000 |\n| \\\\(X_{5}\\\\) | 0.000 | 1.000 | 0.000 | 3.000 |\n| \\\\(X_{6}\\\\) | 0.000 | 0.000 | 1.000 | 8.000 |\n\n\nExtended Tableau\n\n|   |  | \\\\(A_I^{-1}\\\\) |   | RHS | \\\\(X_{0}\\\\)\n|---|---|---|---|---|---|\n| Z | 0.000 | 0.000 | 0.000 | 0.000 | 3.000 |\n| \\\\(X_{4}\\\\) | 1.000 | 0.000 | 0.000 | 7.000 | 8.000 |\n| \\\\(X_{5}\\\\) | 0.000 | 1.000 | 0.000 | 3.000 | 2.000 |\n| \\\\(X_{6}\\\\) | 0.000 | 0.000 | 1.000 | 8.000 | 1.000 |\n\n\n\\\\(Ĉ_J = \\ \\\\)array([3., 2., 1., 1.])\n\n\n\\\\(J = {[0, 1, 2, 3]}\\\\)\n\n### Pivot Operations\n\nVariable to enter: \\\\(X_{0}\\\\)\nVariable to leave: \\\\(X_{4}\\\\)\n#### Row Operations:\n\n1. \\\\(R_{X_{4}} \\leftarrow \\frac{R_{X_{4}}}{8.000}\\\\)\n1. \\\\(R_{Z} \\leftarrow R_{Z} - 3.000R_{X_{4}}\\\\)\n2. \\\\(R_{X_{5}} \\leftarrow R_{X_{5}} - 2.000R_{X_{4}}\\\\)\n3. \\\\(R_{X_{6}} \\leftarrow R_{X_{6}} - 1.000R_{X_{4}}\\\\)\n\n\nComputed Tableau:\n\n|   |  | \\\\(A_I^{-1}\\\\) |   | RHS |\n|---|---|---|---|---|\n| Z | -0.375 | 0.000 | 0.000 | -2.625 |\n| \\\\(X_{0}\\\\) | 0.125 | 0.000 | 0.000 | 0.875 |\n| \\\\(X_{5}\\\\) | -0.250 | 1.000 | 0.000 | 1.250 |\n| \\\\(X_{6}\\\\) | -0.125 | 0.000 | 1.000 | 7.125 |\n\n\n## Iteration 1\n\nStarting Tableau:\n\n|   |  | \\\\(A_I^{-1}\\\\) |   | RHS |\n|---|---|---|---|---|\n| Z | -0.375 | 0.000 | 0.000 | -2.625 |\n| \\\\(X_{0}\\\\) | 0.125 | 0.000 | 0.000 | 0.875 |\n| \\\\(X_{5}\\\\) | -0.250 | 1.000 | 0.000 | 1.250 |\n| \\\\(X_{6}\\\\) | -0.125 | 0.000 | 1.000 | 7.125 |\n\n\nExtended Tableau\n\n|   |  | \\\\(A_I^{-1}\\\\) |   | RHS | \\\\(X_{1}\\\\)\n|---|---|---|---|---|---|\n| Z | -0.375 | 0.000 | 0.000 | -2.625 | 0.875 |\n| \\\\(X_{0}\\\\) | 0.125 | 0.000 | 0.000 | 0.875 | 0.375 |\n| \\\\(X_{5}\\\\) | -0.250 | 1.000 | 0.000 | 1.250 | 0.250 |\n| \\\\(X_{6}\\\\) | -0.125 | 0.000 | 1.000 | 7.125 | 3.625 |\n\n\n\\\\(Ĉ_J = \\ \\\\)array([-0.375,  0.875, -0.5  ,  0.625])\n\n\n\\\\(J = {[4, 1, 2, 3]}\\\\)\n\n### Pivot Operations\n\nVariable to enter: \\\\(X_{1}\\\\)\nVariable to leave: \\\\(X_{6}\\\\)\n#### Row Operations:\n\n1. \\\\(R_{X_{6}} \\leftarrow \\frac{R_{X_{6}}}{3.625}\\\\)\n1. \\\\(R_{Z} \\leftarrow R_{Z} - 0.875R_{X_{6}}\\\\)\n2. \\\\(R_{X_{0}} \\leftarrow R_{X_{0}} - 0.375R_{X_{6}}\\\\)\n3. \\\\(R_{X_{5}} \\leftarrow R_{X_{5}} - 0.250R_{X_{6}}\\\\)\n\n\nComputed Tableau:\n\n|   |  | \\\\(A_I^{-1}\\\\) |   | RHS |\n|---|---|---|---|---|\n| Z | -0.345 | 0.000 | -0.241 | -4.345 |\n| \\\\(X_{0}\\\\) | 0.138 | 0.000 | -0.103 | 0.138 |\n| \\\\(X_{5}\\\\) | -0.241 | 1.000 | -0.069 | 0.759 |\n| \\\\(X_{1}\\\\) | -0.034 | 0.000 | 0.276 | 1.966 |\n\n\n## Iteration 2\n\nStarting Tableau:\n\n|   |  | \\\\(A_I^{-1}\\\\) |   | RHS |\n|---|---|---|---|---|\n| Z | -0.345 | 0.000 | -0.241 | -4.345 |\n| \\\\(X_{0}\\\\) | 0.138 | 0.000 | -0.103 | 0.138 |\n| \\\\(X_{5}\\\\) | -0.241 | 1.000 | -0.069 | 0.759 |\n| \\\\(X_{1}\\\\) | -0.034 | 0.000 | 0.276 | 1.966 |\n\n\nExtended Tableau\n\n|   |  | \\\\(A_I^{-1}\\\\) |   | RHS | \\\\(X_{3}\\\\)\n|---|---|---|---|---|---|\n| Z | -0.345 | 0.000 | -0.241 | -4.345 | 0.172 |\n| \\\\(X_{0}\\\\) | 0.138 | 0.000 | -0.103 | 0.138 | -0.069 |\n| \\\\(X_{5}\\\\) | -0.241 | 1.000 | -0.069 | 0.759 | 4.621 |\n| \\\\(X_{1}\\\\) | -0.034 | 0.000 | 0.276 | 1.966 | 0.517 |\n\n\n\\\\(Ĉ_J = \\ \\\\)array([-0.344828, -0.241379, -1.586207,  0.172414])\n\n\n\\\\(J = {[4, 6, 2, 3]}\\\\)\n\n### Pivot Operations\n\nVariable to enter: \\\\(X_{3}\\\\)\nVariable to leave: \\\\(X_{5}\\\\)\n#### Row Operations:\n\n1. \\\\(R_{X_{5}} \\leftarrow \\frac{R_{X_{5}}}{4.621}\\\\)\n1. \\\\(R_{Z} \\leftarrow R_{Z} - 0.172R_{X_{5}}\\\\)\n2. \\\\(R_{X_{0}} \\leftarrow R_{X_{0}} + 0.069R_{X_{5}}\\\\)\n3. \\\\(R_{X_{1}} \\leftarrow R_{X_{1}} - 0.517R_{X_{5}}\\\\)\n\n\nComputed Tableau:\n\n|   |  | \\\\(A_I^{-1}\\\\) |   | RHS |\n|---|---|---|---|---|\n| Z | -0.336 | -0.037 | -0.239 | -4.373 |\n| \\\\(X_{0}\\\\) | 0.134 | 0.015 | -0.104 | 0.149 |\n| \\\\(X_{3}\\\\) | -0.052 | 0.216 | -0.015 | 0.164 |\n| \\\\(X_{1}\\\\) | -0.007 | -0.112 | 0.284 | 1.881 |\n\n\n## Iteration 3\n\nStarting Tableau:\n\n|   |  | \\\\(A_I^{-1}\\\\) |   | RHS |\n|---|---|---|---|---|\n| Z | -0.336 | -0.037 | -0.239 | -4.373 |\n| \\\\(X_{0}\\\\) | 0.134 | 0.015 | -0.104 | 0.149 |\n| \\\\(X_{3}\\\\) | -0.052 | 0.216 | -0.015 | 0.164 |\n| \\\\(X_{1}\\\\) | -0.007 | -0.112 | 0.284 | 1.881 |\n\n\n## Solution for \n\n\\\\[\n    \\begin{aligned}\n    & \\text{Minimize} & C^{T} \\cdot X \\\\\n    & \\text{Subject to} & A \\cdot X & = B \\\\\n    & & X & \\geq 0\n    \\end{aligned}\n    \\\\]\n    where: \n    \\\\[\n    \\begin{aligned}\n    & & A = \\begin{bmatrix}\n8.000 & 3.000 & 4.000 & 1.000 & 1.000 & 0.000 & 0.000 \\\\\n2.000 & 1.000 & 1.000 & 5.000 & 0.000 & 1.000 & 0.000 \\\\\n1.000 & 4.000 & 5.000 & 2.000 & 0.000 & 0.000 & 1.000 \\\\\n\\end{bmatrix} \\\\\n    & & B = \\begin{bmatrix}\n7.000\\\\\n3.000\\\\\n8.000\n\\end{bmatrix} \\\\\n    & & C^{T} = \\begin{bmatrix}\n-3.000 & -2.000 & -1.000 & -1.000 & 0.000 & 0.000 & 0.000\n\\end{bmatrix} \\\\\n    & & X = \\begin{bmatrix}\nX_{0}\\\\\nX_{1}\\\\\nX_{2}\\\\\nX_{3}\\\\\nX_{4}\\\\\nX_{5}\\\\\nX_{6}\n\\end{bmatrix}\n    \\end{aligned}\n    \\\\]\n\nSolution Type: Optimal unique solution\n\nOptimal Solution: \\\\(X^{*} = ['0.149', '1.881', '0.000', '0.164', '0.000', '0.000', '0.000']\\\\)\n\nOptimal Value: \\\\(Z^{*} = -4.373\\\\)\n\nOptimal Basis: \\\\([0, 3, 1]\\\\)\n\nFinal non-basic variables set J: \\\\([4, 6, 2, 5]\\\\)\n\n\\\\(\\hat{C}_{J}\\\\): \\\\([-0.335821, -0.238806, -1.574627, -0.037313]\\\\)\n\nNumber of Iterations: 4\n\n"
          },
          "metadata": {}
        },
        {
          "output_type": "display_data",
          "data": {
            "text/plain": "{0: {'I': [4, 5, 6],\n  'J': [0, 1, 2, 3],\n  'previous_T': array([[0., 0., 0., 0.],\n         [1., 0., 0., 7.],\n         [0., 1., 0., 3.],\n         [0., 0., 1., 8.]]),\n  'A_I_inv': array([[1., 0., 0.],\n         [0., 1., 0.],\n         [0., 0., 1.]]),\n  'k': 0,\n  'J[k]': 0,\n  'c_hat_k': 3.0,\n  'c_hat_J': array([3., 2., 1., 1.]),\n  'y_k': array([8., 2., 1.]),\n  'r': 0,\n  'ratios': array([0.875, 1.5  , 8.   ]),\n  'solution_type': None,\n  'T_prime': array([[0., 0., 0., 0., 3.],\n         [1., 0., 0., 7., 8.],\n         [0., 1., 0., 3., 2.],\n         [0., 0., 1., 8., 1.]]),\n  'Computed I': [0, 5, 6],\n  'Computed J': [4, 1, 2, 3],\n  'pivot_operations': {'row_pivot_operations': (4, 8.0),\n   'column_pivot_operations': [(0, 3.0, 4), (2, 2.0, 4), (3, 1.0, 4)]},\n  'X_I': array([7., 3., 8.]),\n  'X': array([7., 0., 0., 0., 0., 3., 8.]),\n  'T': array([[-0.375,  0.   ,  0.   , -2.625],\n         [ 0.125,  0.   ,  0.   ,  0.875],\n         [-0.25 ,  1.   ,  0.   ,  1.25 ],\n         [-0.125,  0.   ,  1.   ,  7.125]]),\n  'proceed': True},\n 1: {'I': [0, 5, 6],\n  'J': [4, 1, 2, 3],\n  'previous_T': array([[-0.375,  0.   ,  0.   , -2.625],\n         [ 0.125,  0.   ,  0.   ,  0.875],\n         [-0.25 ,  1.   ,  0.   ,  1.25 ],\n         [-0.125,  0.   ,  1.   ,  7.125]]),\n  'A_I_inv': array([[ 0.125,  0.   ,  0.   ],\n         [-0.25 ,  1.   ,  0.   ],\n         [-0.125,  0.   ,  1.   ]]),\n  'k': 1,\n  'J[k]': 1,\n  'c_hat_k': 0.875,\n  'c_hat_J': array([-0.375,  0.875, -0.5  ,  0.625]),\n  'y_k': array([0.375, 0.25 , 3.625]),\n  'r': 2,\n  'ratios': array([2.33333333, 5.        , 1.96551724]),\n  'solution_type': None,\n  'T_prime': array([[-0.375,  0.   ,  0.   , -2.625,  0.875],\n         [ 0.125,  0.   ,  0.   ,  0.875,  0.375],\n         [-0.25 ,  1.   ,  0.   ,  1.25 ,  0.25 ],\n         [-0.125,  0.   ,  1.   ,  7.125,  3.625]]),\n  'Computed I': [0, 5, 1],\n  'Computed J': [4, 6, 2, 3],\n  'pivot_operations': {'row_pivot_operations': (6, 3.625),\n   'column_pivot_operations': [(0, 0.875, 6), (1, 0.375, 6), (2, 0.25, 6)]},\n  'X_I': array([0.875, 1.25 , 7.125]),\n  'X': array([0.875, 7.125, 0.   , 0.   , 0.   , 1.25 , 0.   ]),\n  'T': array([[-0.34482759,  0.        , -0.24137931, -4.34482759],\n         [ 0.13793103,  0.        , -0.10344828,  0.13793103],\n         [-0.24137931,  1.        , -0.06896552,  0.75862069],\n         [-0.03448276,  0.        ,  0.27586207,  1.96551724]]),\n  'proceed': True},\n 2: {'I': [0, 5, 1],\n  'J': [4, 6, 2, 3],\n  'previous_T': array([[-0.34482759,  0.        , -0.24137931, -4.34482759],\n         [ 0.13793103,  0.        , -0.10344828,  0.13793103],\n         [-0.24137931,  1.        , -0.06896552,  0.75862069],\n         [-0.03448276,  0.        ,  0.27586207,  1.96551724]]),\n  'A_I_inv': array([[ 0.13793103,  0.        , -0.10344828],\n         [-0.24137931,  1.        , -0.06896552],\n         [-0.03448276,  0.        ,  0.27586207]]),\n  'k': 3,\n  'J[k]': 3,\n  'c_hat_k': 0.172414,\n  'c_hat_J': array([-0.344828, -0.241379, -1.586207,  0.172414]),\n  'y_k': array([-0.06896552,  4.62068966,  0.51724138]),\n  'r': 1,\n  'ratios': array([      inf, 0.1641791, 3.8      ]),\n  'solution_type': None,\n  'T_prime': array([[-0.34482759,  0.        , -0.24137931, -4.34482759,  0.172414  ],\n         [ 0.13793103,  0.        , -0.10344828,  0.13793103, -0.06896552],\n         [-0.24137931,  1.        , -0.06896552,  0.75862069,  4.62068966],\n         [-0.03448276,  0.        ,  0.27586207,  1.96551724,  0.51724138]]),\n  'Computed I': [0, 3, 1],\n  'Computed J': [4, 6, 2, 5],\n  'pivot_operations': {'row_pivot_operations': (5, 4.620689655172414),\n   'column_pivot_operations': [(0, 0.172414, 5),\n    (1, -0.06896551724137931, 5),\n    (3, 0.5172413793103449, 5)]},\n  'X_I': array([0.13793103, 0.75862069, 1.96551724]),\n  'X': array([0.13793103, 1.96551724, 0.        , 0.75862069, 0.        ,\n         0.        , 0.        ]),\n  'T': array([[-0.33582088, -0.03731348, -0.23880597, -4.37313436],\n         [ 0.13432836,  0.01492537, -0.10447761,  0.14925373],\n         [-0.05223881,  0.21641791, -0.01492537,  0.1641791 ],\n         [-0.00746269, -0.1119403 ,  0.28358209,  1.88059701]]),\n  'proceed': True},\n 3: {'I': [0, 3, 1],\n  'J': [4, 6, 2, 5],\n  'previous_T': array([[-0.33582088, -0.03731348, -0.23880597, -4.37313436],\n         [ 0.13432836,  0.01492537, -0.10447761,  0.14925373],\n         [-0.05223881,  0.21641791, -0.01492537,  0.1641791 ],\n         [-0.00746269, -0.1119403 ,  0.28358209,  1.88059701]]),\n  'A_I_inv': array([[ 0.13432836,  0.01492537, -0.10447761],\n         [-0.05223881,  0.21641791, -0.01492537],\n         [-0.00746269, -0.1119403 ,  0.28358209]]),\n  'k': 3,\n  'J[k]': 5,\n  'c_hat_k': -0.037313,\n  'c_hat_J': array([-0.335821, -0.238806, -1.574627, -0.037313]),\n  'y_k': array([ 0.01492537,  0.21641791, -0.1119403 ]),\n  'r': 1,\n  'ratios': array([10.        ,  0.75862069,         inf]),\n  'solution_type': 1,\n  'X_I': array([0.14925373, 0.1641791 , 1.88059701]),\n  'X': array([0.14925373, 1.88059701, 0.        , 0.1641791 , 0.        ,\n         0.        , 0.        ]),\n  'T': array([[-0.33582088, -0.03731348, -0.23880597, -4.37313436],\n         [ 0.13432836,  0.01492537, -0.10447761,  0.14925373],\n         [-0.05223881,  0.21641791, -0.01492537,  0.1641791 ],\n         [-0.00746269, -0.1119403 ,  0.28358209,  1.88059701]]),\n  'proceed': False,\n  'C': array([-3, -2, -1, -1,  0,  0,  0]),\n  'B': array([7, 3, 8]),\n  'A': array([[8, 3, 4, 1, 1, 0, 0],\n         [2, 1, 1, 5, 0, 1, 0],\n         [1, 4, 5, 2, 0, 0, 1]])}}"
          },
          "metadata": {}
        }
      ],
      "execution_count": 25
    },
    {
      "cell_type": "markdown",
      "source": "## Result Comparison through scipy",
      "metadata": {}
    },
    {
      "cell_type": "code",
      "source": "from scipy.optimize import linprog\nresult = linprog(C, A_eq = A, b_eq = B, method='highs')\nprint('Result comparison, we found the optimal solution through our tableaus')\ndisplay(result)",
      "metadata": {
        "trusted": true
      },
      "outputs": [
        {
          "name": "stdout",
          "text": "Result comparison, we found the optimal solution through our tableaus\n",
          "output_type": "stream"
        },
        {
          "output_type": "display_data",
          "data": {
            "text/plain": "        message: Optimization terminated successfully. (HiGHS Status 7: Optimal)\n        success: True\n         status: 0\n            fun: -4.373134328358209\n              x: [ 1.493e-01  1.881e+00  0.000e+00  1.642e-01  0.000e+00\n                   0.000e+00  0.000e+00]\n            nit: 3\n          lower:  residual: [ 1.493e-01  1.881e+00  0.000e+00  1.642e-01\n                              0.000e+00  0.000e+00  0.000e+00]\n                 marginals: [ 0.000e+00  0.000e+00  1.575e+00  0.000e+00\n                              3.358e-01  3.731e-02  2.388e-01]\n          upper:  residual: [       inf        inf        inf        inf\n                                    inf        inf        inf]\n                 marginals: [ 0.000e+00  0.000e+00  0.000e+00  0.000e+00\n                              0.000e+00  0.000e+00  0.000e+00]\n          eqlin:  residual: [ 0.000e+00  0.000e+00  0.000e+00]\n                 marginals: [-3.358e-01 -3.731e-02 -2.388e-01]\n        ineqlin:  residual: []\n                 marginals: []\n mip_node_count: 0\n mip_dual_bound: 0.0\n        mip_gap: 0.0"
          },
          "metadata": {}
        }
      ],
      "execution_count": 26
    },
    {
      "cell_type": "markdown",
      "source": "## Exercício 5.7",
      "metadata": {}
    },
    {
      "cell_type": "code",
      "source": "from revised_simplex_tableau import revised_simplex_tableau, markdown_repr_T\nfrom simplex_two_phases import _simplex_find_feasible_initial_basis\nfrom utils import array_to_markdown\n\nslack_excess_matrix = np.eye(9)\nexcess_indices = [1, 3, 4, 5]\nfor excess_index in excess_indices:\n    slack_excess_matrix[\n        excess_index, excess_index\n    ] = -1\n\nA = np.array([\n    [1, 1, 0, 1, 0],\n    [1, 1, 0, 1, 0],\n    [0, 0, 1, 0, 1],\n    [0, 0, 1, 0, 1],\n    [1, 1, 0, 0, 0],\n    [0, 0, 1, 0, 0],\n    [1, 0, 0, 0, 0],\n    [0,12,16, 0, 0],\n    [0, 0, 0,12,16]\n])\n\nA = np.hstack((A, slack_excess_matrix))\n\nB = np.array([\n    400,\n    400,\n    500,\n    500,\n    250,\n    200,\n    200,\n    4500,\n    6000\n])\nC = np.array([\n    450, 420, 560, 480, 640, 0, 0, 0, 0, 0, 0, 0, 0, 0\n])\nI = list(range(5,14))\n\nI_sanitized, A_I_sanitized, A_sanitized, B_sanitized, feasible, iters_count, debug_info = _simplex_find_feasible_initial_basis(A, B, C, I)\n\nsolution = revised_simplex_tableau(A, B, C, list(I_sanitized))\n\nresults_md = markdown_repr_T(solution)\n\ndisplay(\n    Markdown(results_md)\n)",
      "metadata": {
        "trusted": true
      },
      "outputs": [
        {
          "output_type": "display_data",
          "data": {
            "text/plain": "<IPython.core.display.Markdown object>",
            "text/markdown": "\n\n## Iteration 0\n\nStarting Tableau:\n\n|   |  |   |   |   | \\\\(A_I^{-1}\\\\) |   |   |   |   | RHS |\n|---|---|---|---|---|---|---|---|---|---|---|\n| Z | 420.000 | 0.000 | 560.000 | 0.000 | 0.000 | 0.000 | 30.000 | 0.000 | 5.000 | 484000.000 |\n| \\\\(X_{3}\\\\) | 1.000 | 0.000 | 0.000 | 0.000 | -1.000 | 0.000 | 0.000 | 0.000 | 0.000 | 150.000 |\n| \\\\(X_{6}\\\\) | 1.000 | -1.000 | 0.000 | 0.000 | 0.000 | 0.000 | 0.000 | 0.000 | 0.000 | 0.000 |\n| \\\\(X_{10}\\\\) | 0.750 | 0.000 | 1.000 | 0.000 | -0.750 | -1.000 | 0.000 | 0.000 | -0.062 | 37.500 |\n| \\\\(X_{8}\\\\) | 0.000 | 0.000 | 1.000 | -1.000 | 0.000 | 0.000 | 0.000 | 0.000 | 0.000 | 0.000 |\n| \\\\(X_{1}\\\\) | 0.000 | 0.000 | 0.000 | 0.000 | 1.000 | 0.000 | -1.000 | 0.000 | 0.000 | 50.000 |\n| \\\\(X_{2}\\\\) | 0.750 | 0.000 | 1.000 | 0.000 | -0.750 | 0.000 | 0.000 | 0.000 | -0.062 | 237.500 |\n| \\\\(X_{0}\\\\) | 0.000 | 0.000 | 0.000 | 0.000 | 0.000 | 0.000 | 1.000 | 0.000 | 0.000 | 200.000 |\n| \\\\(X_{12}\\\\) | -12.000 | 0.000 | -16.000 | 0.000 | 0.000 | 0.000 | 12.000 | 1.000 | 1.000 | 100.000 |\n| \\\\(X_{4}\\\\) | -0.750 | 0.000 | 0.000 | 0.000 | 0.750 | 0.000 | 0.000 | 0.000 | 0.062 | 262.500 |\n\n\nExtended Tableau\n\n|   |  |   |   |   | \\\\(A_I^{-1}\\\\) |   |   |   |   | RHS | \\\\(X_{5}\\\\)\n|---|---|---|---|---|---|---|---|---|---|---|---|\n| Z | 420.000 | 0.000 | 560.000 | 0.000 | 0.000 | 0.000 | 30.000 | 0.000 | 5.000 | 484000.000 | 420.000 |\n| \\\\(X_{3}\\\\) | 1.000 | 0.000 | 0.000 | 0.000 | -1.000 | 0.000 | 0.000 | 0.000 | 0.000 | 150.000 | 1.000 |\n| \\\\(X_{6}\\\\) | 1.000 | -1.000 | 0.000 | 0.000 | 0.000 | 0.000 | 0.000 | 0.000 | 0.000 | 0.000 | 1.000 |\n| \\\\(X_{10}\\\\) | 0.750 | 0.000 | 1.000 | 0.000 | -0.750 | -1.000 | 0.000 | 0.000 | -0.062 | 37.500 | 0.750 |\n| \\\\(X_{8}\\\\) | 0.000 | 0.000 | 1.000 | -1.000 | 0.000 | 0.000 | 0.000 | 0.000 | 0.000 | 0.000 | 0.000 |\n| \\\\(X_{1}\\\\) | 0.000 | 0.000 | 0.000 | 0.000 | 1.000 | 0.000 | -1.000 | 0.000 | 0.000 | 50.000 | 0.000 |\n| \\\\(X_{2}\\\\) | 0.750 | 0.000 | 1.000 | 0.000 | -0.750 | 0.000 | 0.000 | 0.000 | -0.062 | 237.500 | 0.750 |\n| \\\\(X_{0}\\\\) | 0.000 | 0.000 | 0.000 | 0.000 | 0.000 | 0.000 | 1.000 | 0.000 | 0.000 | 200.000 | 0.000 |\n| \\\\(X_{12}\\\\) | -12.000 | 0.000 | -16.000 | 0.000 | 0.000 | 0.000 | 12.000 | 1.000 | 1.000 | 100.000 | -12.000 |\n| \\\\(X_{4}\\\\) | -0.750 | 0.000 | 0.000 | 0.000 | 0.750 | 0.000 | 0.000 | 0.000 | 0.062 | 262.500 | -0.750 |\n\n\n\\\\(Ĉ_J = \\ \\\\)array([420., 560.,   0.,  30.,   5.])\n\n\n\\\\(J = {[5, 7, 9, 11, 13]}\\\\)\n\n### Pivot Operations\n\nVariable to enter: \\\\(X_{5}\\\\)\nVariable to leave: \\\\(X_{6}\\\\)\n#### Row Operations:\n\n1. \\\\(R_{X_{6}} \\leftarrow \\frac{R_{X_{6}}}{1.000}\\\\)\n1. \\\\(R_{Z} \\leftarrow R_{Z} - 420.000R_{X_{6}}\\\\)\n2. \\\\(R_{X_{3}} \\leftarrow R_{X_{3}} - 1.000R_{X_{6}}\\\\)\n3. \\\\(R_{X_{10}} \\leftarrow R_{X_{10}} - 0.750R_{X_{6}}\\\\)\n4. \\\\(R_{X_{8}} \\leftarrow R_{X_{8}} - 0.000R_{X_{6}}\\\\)\n5. \\\\(R_{X_{1}} \\leftarrow R_{X_{1}} - 0.000R_{X_{6}}\\\\)\n6. \\\\(R_{X_{2}} \\leftarrow R_{X_{2}} - 0.750R_{X_{6}}\\\\)\n7. \\\\(R_{X_{0}} \\leftarrow R_{X_{0}} - 0.000R_{X_{6}}\\\\)\n8. \\\\(R_{X_{12}} \\leftarrow R_{X_{12}} + 12.000R_{X_{6}}\\\\)\n9. \\\\(R_{X_{4}} \\leftarrow R_{X_{4}} + 0.750R_{X_{6}}\\\\)\n\n\nComputed Tableau:\n\n|   |  |   |   |   | \\\\(A_I^{-1}\\\\) |   |   |   |   | RHS |\n|---|---|---|---|---|---|---|---|---|---|---|\n| Z | 0.000 | 420.000 | 560.000 | 0.000 | 0.000 | 0.000 | 30.000 | 0.000 | 5.000 | 484000.000 |\n| \\\\(X_{3}\\\\) | 0.000 | 1.000 | 0.000 | 0.000 | -1.000 | 0.000 | 0.000 | 0.000 | 0.000 | 150.000 |\n| \\\\(X_{5}\\\\) | 1.000 | -1.000 | 0.000 | 0.000 | 0.000 | 0.000 | 0.000 | 0.000 | 0.000 | 0.000 |\n| \\\\(X_{10}\\\\) | 0.000 | 0.750 | 1.000 | 0.000 | -0.750 | -1.000 | 0.000 | 0.000 | -0.062 | 37.500 |\n| \\\\(X_{8}\\\\) | 0.000 | 0.000 | 1.000 | -1.000 | 0.000 | 0.000 | 0.000 | 0.000 | 0.000 | 0.000 |\n| \\\\(X_{1}\\\\) | 0.000 | 0.000 | 0.000 | 0.000 | 1.000 | 0.000 | -1.000 | 0.000 | 0.000 | 50.000 |\n| \\\\(X_{2}\\\\) | 0.000 | 0.750 | 1.000 | 0.000 | -0.750 | 0.000 | 0.000 | 0.000 | -0.062 | 237.500 |\n| \\\\(X_{0}\\\\) | 0.000 | 0.000 | 0.000 | 0.000 | 0.000 | 0.000 | 1.000 | 0.000 | 0.000 | 200.000 |\n| \\\\(X_{12}\\\\) | 0.000 | -12.000 | -16.000 | 0.000 | 0.000 | 0.000 | 12.000 | 1.000 | 1.000 | 100.000 |\n| \\\\(X_{4}\\\\) | 0.000 | -0.750 | 0.000 | 0.000 | 0.750 | 0.000 | 0.000 | 0.000 | 0.062 | 262.500 |\n\n\n## Iteration 1\n\nStarting Tableau:\n\n|   |  |   |   |   | \\\\(A_I^{-1}\\\\) |   |   |   |   | RHS |\n|---|---|---|---|---|---|---|---|---|---|---|\n| Z | 0.000 | 420.000 | 560.000 | 0.000 | 0.000 | 0.000 | 30.000 | 0.000 | 5.000 | 484000.000 |\n| \\\\(X_{3}\\\\) | 0.000 | 1.000 | 0.000 | 0.000 | -1.000 | 0.000 | 0.000 | 0.000 | 0.000 | 150.000 |\n| \\\\(X_{5}\\\\) | 1.000 | -1.000 | 0.000 | 0.000 | 0.000 | 0.000 | 0.000 | 0.000 | 0.000 | 0.000 |\n| \\\\(X_{10}\\\\) | 0.000 | 0.750 | 1.000 | 0.000 | -0.750 | -1.000 | 0.000 | 0.000 | -0.062 | 37.500 |\n| \\\\(X_{8}\\\\) | 0.000 | 0.000 | 1.000 | -1.000 | 0.000 | 0.000 | 0.000 | 0.000 | 0.000 | 0.000 |\n| \\\\(X_{1}\\\\) | 0.000 | 0.000 | 0.000 | 0.000 | 1.000 | 0.000 | -1.000 | 0.000 | 0.000 | 50.000 |\n| \\\\(X_{2}\\\\) | 0.000 | 0.750 | 1.000 | 0.000 | -0.750 | 0.000 | 0.000 | 0.000 | -0.062 | 237.500 |\n| \\\\(X_{0}\\\\) | 0.000 | 0.000 | 0.000 | 0.000 | 0.000 | 0.000 | 1.000 | 0.000 | 0.000 | 200.000 |\n| \\\\(X_{12}\\\\) | 0.000 | -12.000 | -16.000 | 0.000 | 0.000 | 0.000 | 12.000 | 1.000 | 1.000 | 100.000 |\n| \\\\(X_{4}\\\\) | 0.000 | -0.750 | 0.000 | 0.000 | 0.750 | 0.000 | 0.000 | 0.000 | 0.062 | 262.500 |\n\n\nExtended Tableau\n\n|   |  |   |   |   | \\\\(A_I^{-1}\\\\) |   |   |   |   | RHS | \\\\(X_{7}\\\\)\n|---|---|---|---|---|---|---|---|---|---|---|---|\n| Z | 0.000 | 420.000 | 560.000 | 0.000 | 0.000 | 0.000 | 30.000 | 0.000 | 5.000 | 484000.000 | 560.000 |\n| \\\\(X_{3}\\\\) | 0.000 | 1.000 | 0.000 | 0.000 | -1.000 | 0.000 | 0.000 | 0.000 | 0.000 | 150.000 | 0.000 |\n| \\\\(X_{5}\\\\) | 1.000 | -1.000 | 0.000 | 0.000 | 0.000 | 0.000 | 0.000 | 0.000 | 0.000 | 0.000 | 0.000 |\n| \\\\(X_{10}\\\\) | 0.000 | 0.750 | 1.000 | 0.000 | -0.750 | -1.000 | 0.000 | 0.000 | -0.062 | 37.500 | 1.000 |\n| \\\\(X_{8}\\\\) | 0.000 | 0.000 | 1.000 | -1.000 | 0.000 | 0.000 | 0.000 | 0.000 | 0.000 | 0.000 | 1.000 |\n| \\\\(X_{1}\\\\) | 0.000 | 0.000 | 0.000 | 0.000 | 1.000 | 0.000 | -1.000 | 0.000 | 0.000 | 50.000 | 0.000 |\n| \\\\(X_{2}\\\\) | 0.000 | 0.750 | 1.000 | 0.000 | -0.750 | 0.000 | 0.000 | 0.000 | -0.062 | 237.500 | 1.000 |\n| \\\\(X_{0}\\\\) | 0.000 | 0.000 | 0.000 | 0.000 | 0.000 | 0.000 | 1.000 | 0.000 | 0.000 | 200.000 | 0.000 |\n| \\\\(X_{12}\\\\) | 0.000 | -12.000 | -16.000 | 0.000 | 0.000 | 0.000 | 12.000 | 1.000 | 1.000 | 100.000 | -16.000 |\n| \\\\(X_{4}\\\\) | 0.000 | -0.750 | 0.000 | 0.000 | 0.750 | 0.000 | 0.000 | 0.000 | 0.062 | 262.500 | 0.000 |\n\n\n\\\\(Ĉ_J = \\ \\\\)array([-420.,  560.,    0.,   30.,    5.])\n\n\n\\\\(J = {[6, 7, 9, 11, 13]}\\\\)\n\n### Pivot Operations\n\nVariable to enter: \\\\(X_{7}\\\\)\nVariable to leave: \\\\(X_{8}\\\\)\n#### Row Operations:\n\n1. \\\\(R_{X_{8}} \\leftarrow \\frac{R_{X_{8}}}{1.000}\\\\)\n1. \\\\(R_{Z} \\leftarrow R_{Z} - 560.000R_{X_{8}}\\\\)\n2. \\\\(R_{X_{3}} \\leftarrow R_{X_{3}} - 0.000R_{X_{8}}\\\\)\n3. \\\\(R_{X_{5}} \\leftarrow R_{X_{5}} - 0.000R_{X_{8}}\\\\)\n4. \\\\(R_{X_{10}} \\leftarrow R_{X_{10}} - 1.000R_{X_{8}}\\\\)\n5. \\\\(R_{X_{1}} \\leftarrow R_{X_{1}} - 0.000R_{X_{8}}\\\\)\n6. \\\\(R_{X_{2}} \\leftarrow R_{X_{2}} - 1.000R_{X_{8}}\\\\)\n7. \\\\(R_{X_{0}} \\leftarrow R_{X_{0}} - 0.000R_{X_{8}}\\\\)\n8. \\\\(R_{X_{12}} \\leftarrow R_{X_{12}} + 16.000R_{X_{8}}\\\\)\n9. \\\\(R_{X_{4}} \\leftarrow R_{X_{4}} - 0.000R_{X_{8}}\\\\)\n\n\nComputed Tableau:\n\n|   |  |   |   |   | \\\\(A_I^{-1}\\\\) |   |   |   |   | RHS |\n|---|---|---|---|---|---|---|---|---|---|---|\n| Z | 0.000 | 420.000 | 0.000 | 560.000 | 0.000 | 0.000 | 30.000 | 0.000 | 5.000 | 484000.000 |\n| \\\\(X_{3}\\\\) | 0.000 | 1.000 | 0.000 | 0.000 | -1.000 | 0.000 | 0.000 | 0.000 | 0.000 | 150.000 |\n| \\\\(X_{5}\\\\) | 1.000 | -1.000 | 0.000 | 0.000 | 0.000 | 0.000 | 0.000 | 0.000 | 0.000 | 0.000 |\n| \\\\(X_{10}\\\\) | 0.000 | 0.750 | 0.000 | 1.000 | -0.750 | -1.000 | 0.000 | 0.000 | -0.062 | 37.500 |\n| \\\\(X_{7}\\\\) | 0.000 | 0.000 | 1.000 | -1.000 | 0.000 | 0.000 | 0.000 | 0.000 | 0.000 | 0.000 |\n| \\\\(X_{1}\\\\) | 0.000 | 0.000 | 0.000 | 0.000 | 1.000 | 0.000 | -1.000 | 0.000 | 0.000 | 50.000 |\n| \\\\(X_{2}\\\\) | 0.000 | 0.750 | 0.000 | 1.000 | -0.750 | 0.000 | 0.000 | 0.000 | -0.062 | 237.500 |\n| \\\\(X_{0}\\\\) | 0.000 | 0.000 | 0.000 | 0.000 | 0.000 | 0.000 | 1.000 | 0.000 | 0.000 | 200.000 |\n| \\\\(X_{12}\\\\) | 0.000 | -12.000 | 0.000 | -16.000 | 0.000 | 0.000 | 12.000 | 1.000 | 1.000 | 100.000 |\n| \\\\(X_{4}\\\\) | 0.000 | -0.750 | 0.000 | 0.000 | 0.750 | 0.000 | 0.000 | 0.000 | 0.062 | 262.500 |\n\n\n## Iteration 2\n\nStarting Tableau:\n\n|   |  |   |   |   | \\\\(A_I^{-1}\\\\) |   |   |   |   | RHS |\n|---|---|---|---|---|---|---|---|---|---|---|\n| Z | 0.000 | 420.000 | 0.000 | 560.000 | 0.000 | 0.000 | 30.000 | 0.000 | 5.000 | 484000.000 |\n| \\\\(X_{3}\\\\) | 0.000 | 1.000 | 0.000 | 0.000 | -1.000 | 0.000 | 0.000 | 0.000 | 0.000 | 150.000 |\n| \\\\(X_{5}\\\\) | 1.000 | -1.000 | 0.000 | 0.000 | 0.000 | 0.000 | 0.000 | 0.000 | 0.000 | 0.000 |\n| \\\\(X_{10}\\\\) | 0.000 | 0.750 | 0.000 | 1.000 | -0.750 | -1.000 | 0.000 | 0.000 | -0.062 | 37.500 |\n| \\\\(X_{7}\\\\) | 0.000 | 0.000 | 1.000 | -1.000 | 0.000 | 0.000 | 0.000 | 0.000 | 0.000 | 0.000 |\n| \\\\(X_{1}\\\\) | 0.000 | 0.000 | 0.000 | 0.000 | 1.000 | 0.000 | -1.000 | 0.000 | 0.000 | 50.000 |\n| \\\\(X_{2}\\\\) | 0.000 | 0.750 | 0.000 | 1.000 | -0.750 | 0.000 | 0.000 | 0.000 | -0.062 | 237.500 |\n| \\\\(X_{0}\\\\) | 0.000 | 0.000 | 0.000 | 0.000 | 0.000 | 0.000 | 1.000 | 0.000 | 0.000 | 200.000 |\n| \\\\(X_{12}\\\\) | 0.000 | -12.000 | 0.000 | -16.000 | 0.000 | 0.000 | 12.000 | 1.000 | 1.000 | 100.000 |\n| \\\\(X_{4}\\\\) | 0.000 | -0.750 | 0.000 | 0.000 | 0.750 | 0.000 | 0.000 | 0.000 | 0.062 | 262.500 |\n\n\nExtended Tableau\n\n|   |  |   |   |   | \\\\(A_I^{-1}\\\\) |   |   |   |   | RHS | \\\\(X_{11}\\\\)\n|---|---|---|---|---|---|---|---|---|---|---|---|\n| Z | 0.000 | 420.000 | 0.000 | 560.000 | 0.000 | 0.000 | 30.000 | 0.000 | 5.000 | 484000.000 | 30.000 |\n| \\\\(X_{3}\\\\) | 0.000 | 1.000 | 0.000 | 0.000 | -1.000 | 0.000 | 0.000 | 0.000 | 0.000 | 150.000 | 0.000 |\n| \\\\(X_{5}\\\\) | 1.000 | -1.000 | 0.000 | 0.000 | 0.000 | 0.000 | 0.000 | 0.000 | 0.000 | 0.000 | 0.000 |\n| \\\\(X_{10}\\\\) | 0.000 | 0.750 | 0.000 | 1.000 | -0.750 | -1.000 | 0.000 | 0.000 | -0.062 | 37.500 | 0.000 |\n| \\\\(X_{7}\\\\) | 0.000 | 0.000 | 1.000 | -1.000 | 0.000 | 0.000 | 0.000 | 0.000 | 0.000 | 0.000 | 0.000 |\n| \\\\(X_{1}\\\\) | 0.000 | 0.000 | 0.000 | 0.000 | 1.000 | 0.000 | -1.000 | 0.000 | 0.000 | 50.000 | -1.000 |\n| \\\\(X_{2}\\\\) | 0.000 | 0.750 | 0.000 | 1.000 | -0.750 | 0.000 | 0.000 | 0.000 | -0.062 | 237.500 | 0.000 |\n| \\\\(X_{0}\\\\) | 0.000 | 0.000 | 0.000 | 0.000 | 0.000 | 0.000 | 1.000 | 0.000 | 0.000 | 200.000 | 1.000 |\n| \\\\(X_{12}\\\\) | 0.000 | -12.000 | 0.000 | -16.000 | 0.000 | 0.000 | 12.000 | 1.000 | 1.000 | 100.000 | 12.000 |\n| \\\\(X_{4}\\\\) | 0.000 | -0.750 | 0.000 | 0.000 | 0.750 | 0.000 | 0.000 | 0.000 | 0.062 | 262.500 | 0.000 |\n\n\n\\\\(Ĉ_J = \\ \\\\)array([-420., -560.,    0.,   30.,    5.])\n\n\n\\\\(J = {[6, 8, 9, 11, 13]}\\\\)\n\n### Pivot Operations\n\nVariable to enter: \\\\(X_{11}\\\\)\nVariable to leave: \\\\(X_{12}\\\\)\n#### Row Operations:\n\n1. \\\\(R_{X_{12}} \\leftarrow \\frac{R_{X_{12}}}{12.000}\\\\)\n1. \\\\(R_{Z} \\leftarrow R_{Z} - 30.000R_{X_{12}}\\\\)\n2. \\\\(R_{X_{3}} \\leftarrow R_{X_{3}} - 0.000R_{X_{12}}\\\\)\n3. \\\\(R_{X_{5}} \\leftarrow R_{X_{5}} - 0.000R_{X_{12}}\\\\)\n4. \\\\(R_{X_{10}} \\leftarrow R_{X_{10}} - 0.000R_{X_{12}}\\\\)\n5. \\\\(R_{X_{7}} \\leftarrow R_{X_{7}} - 0.000R_{X_{12}}\\\\)\n6. \\\\(R_{X_{1}} \\leftarrow R_{X_{1}} + 1.000R_{X_{12}}\\\\)\n7. \\\\(R_{X_{2}} \\leftarrow R_{X_{2}} - 0.000R_{X_{12}}\\\\)\n8. \\\\(R_{X_{0}} \\leftarrow R_{X_{0}} - 1.000R_{X_{12}}\\\\)\n9. \\\\(R_{X_{4}} \\leftarrow R_{X_{4}} - 0.000R_{X_{12}}\\\\)\n\n\nComputed Tableau:\n\n|   |  |   |   |   | \\\\(A_I^{-1}\\\\) |   |   |   |   | RHS |\n|---|---|---|---|---|---|---|---|---|---|---|\n| Z | 0.000 | 450.000 | 0.000 | 600.000 | 0.000 | 0.000 | 0.000 | -2.500 | 2.500 | 483750.000 |\n| \\\\(X_{3}\\\\) | 0.000 | 1.000 | 0.000 | 0.000 | -1.000 | 0.000 | 0.000 | 0.000 | 0.000 | 150.000 |\n| \\\\(X_{5}\\\\) | 1.000 | -1.000 | 0.000 | 0.000 | 0.000 | 0.000 | 0.000 | 0.000 | 0.000 | 0.000 |\n| \\\\(X_{10}\\\\) | 0.000 | 0.750 | 0.000 | 1.000 | -0.750 | -1.000 | 0.000 | 0.000 | -0.062 | 37.500 |\n| \\\\(X_{7}\\\\) | 0.000 | 0.000 | 1.000 | -1.000 | 0.000 | 0.000 | 0.000 | 0.000 | 0.000 | 0.000 |\n| \\\\(X_{1}\\\\) | 0.000 | -1.000 | 0.000 | -1.333 | 1.000 | 0.000 | 0.000 | 0.083 | 0.083 | 58.333 |\n| \\\\(X_{2}\\\\) | 0.000 | 0.750 | 0.000 | 1.000 | -0.750 | 0.000 | 0.000 | 0.000 | -0.062 | 237.500 |\n| \\\\(X_{0}\\\\) | 0.000 | 1.000 | 0.000 | 1.333 | 0.000 | 0.000 | 0.000 | -0.083 | -0.083 | 191.667 |\n| \\\\(X_{11}\\\\) | 0.000 | -1.000 | 0.000 | -1.333 | 0.000 | 0.000 | 1.000 | 0.083 | 0.083 | 8.333 |\n| \\\\(X_{4}\\\\) | 0.000 | -0.750 | 0.000 | 0.000 | 0.750 | 0.000 | 0.000 | 0.000 | 0.062 | 262.500 |\n\n\n## Iteration 3\n\nStarting Tableau:\n\n|   |  |   |   |   | \\\\(A_I^{-1}\\\\) |   |   |   |   | RHS |\n|---|---|---|---|---|---|---|---|---|---|---|\n| Z | 0.000 | 450.000 | 0.000 | 600.000 | 0.000 | 0.000 | 0.000 | -2.500 | 2.500 | 483750.000 |\n| \\\\(X_{3}\\\\) | 0.000 | 1.000 | 0.000 | 0.000 | -1.000 | 0.000 | 0.000 | 0.000 | 0.000 | 150.000 |\n| \\\\(X_{5}\\\\) | 1.000 | -1.000 | 0.000 | 0.000 | 0.000 | 0.000 | 0.000 | 0.000 | 0.000 | 0.000 |\n| \\\\(X_{10}\\\\) | 0.000 | 0.750 | 0.000 | 1.000 | -0.750 | -1.000 | 0.000 | 0.000 | -0.062 | 37.500 |\n| \\\\(X_{7}\\\\) | 0.000 | 0.000 | 1.000 | -1.000 | 0.000 | 0.000 | 0.000 | 0.000 | 0.000 | 0.000 |\n| \\\\(X_{1}\\\\) | 0.000 | -1.000 | 0.000 | -1.333 | 1.000 | 0.000 | 0.000 | 0.083 | 0.083 | 58.333 |\n| \\\\(X_{2}\\\\) | 0.000 | 0.750 | 0.000 | 1.000 | -0.750 | 0.000 | 0.000 | 0.000 | -0.062 | 237.500 |\n| \\\\(X_{0}\\\\) | 0.000 | 1.000 | 0.000 | 1.333 | 0.000 | 0.000 | 0.000 | -0.083 | -0.083 | 191.667 |\n| \\\\(X_{11}\\\\) | 0.000 | -1.000 | 0.000 | -1.333 | 0.000 | 0.000 | 1.000 | 0.083 | 0.083 | 8.333 |\n| \\\\(X_{4}\\\\) | 0.000 | -0.750 | 0.000 | 0.000 | 0.750 | 0.000 | 0.000 | 0.000 | 0.062 | 262.500 |\n\n\nExtended Tableau\n\n|   |  |   |   |   | \\\\(A_I^{-1}\\\\) |   |   |   |   | RHS | \\\\(X_{13}\\\\)\n|---|---|---|---|---|---|---|---|---|---|---|---|\n| Z | 0.000 | 450.000 | 0.000 | 600.000 | 0.000 | 0.000 | 0.000 | -2.500 | 2.500 | 483750.000 | 2.500 |\n| \\\\(X_{3}\\\\) | 0.000 | 1.000 | 0.000 | 0.000 | -1.000 | 0.000 | 0.000 | 0.000 | 0.000 | 150.000 | 0.000 |\n| \\\\(X_{5}\\\\) | 1.000 | -1.000 | 0.000 | 0.000 | 0.000 | 0.000 | 0.000 | 0.000 | 0.000 | 0.000 | 0.000 |\n| \\\\(X_{10}\\\\) | 0.000 | 0.750 | 0.000 | 1.000 | -0.750 | -1.000 | 0.000 | 0.000 | -0.062 | 37.500 | -0.062 |\n| \\\\(X_{7}\\\\) | 0.000 | 0.000 | 1.000 | -1.000 | 0.000 | 0.000 | 0.000 | 0.000 | 0.000 | 0.000 | 0.000 |\n| \\\\(X_{1}\\\\) | 0.000 | -1.000 | 0.000 | -1.333 | 1.000 | 0.000 | 0.000 | 0.083 | 0.083 | 58.333 | 0.083 |\n| \\\\(X_{2}\\\\) | 0.000 | 0.750 | 0.000 | 1.000 | -0.750 | 0.000 | 0.000 | 0.000 | -0.062 | 237.500 | -0.062 |\n| \\\\(X_{0}\\\\) | 0.000 | 1.000 | 0.000 | 1.333 | 0.000 | 0.000 | 0.000 | -0.083 | -0.083 | 191.667 | -0.083 |\n| \\\\(X_{11}\\\\) | 0.000 | -1.000 | 0.000 | -1.333 | 0.000 | 0.000 | 1.000 | 0.083 | 0.083 | 8.333 | 0.083 |\n| \\\\(X_{4}\\\\) | 0.000 | -0.750 | 0.000 | 0.000 | 0.750 | 0.000 | 0.000 | 0.000 | 0.062 | 262.500 | 0.062 |\n\n\n\\\\(Ĉ_J = \\ \\\\)array([-450. , -600. ,    0. ,   -2.5,    2.5])\n\n\n\\\\(J = {[6, 8, 9, 12, 13]}\\\\)\n\n### Pivot Operations\n\nVariable to enter: \\\\(X_{13}\\\\)\nVariable to leave: \\\\(X_{11}\\\\)\n#### Row Operations:\n\n1. \\\\(R_{X_{11}} \\leftarrow \\frac{R_{X_{11}}}{0.083}\\\\)\n1. \\\\(R_{Z} \\leftarrow R_{Z} - 2.500R_{X_{11}}\\\\)\n2. \\\\(R_{X_{3}} \\leftarrow R_{X_{3}} - 0.000R_{X_{11}}\\\\)\n3. \\\\(R_{X_{5}} \\leftarrow R_{X_{5}} - 0.000R_{X_{11}}\\\\)\n4. \\\\(R_{X_{10}} \\leftarrow R_{X_{10}} + 0.062R_{X_{11}}\\\\)\n5. \\\\(R_{X_{7}} \\leftarrow R_{X_{7}} - 0.000R_{X_{11}}\\\\)\n6. \\\\(R_{X_{1}} \\leftarrow R_{X_{1}} - 0.083R_{X_{11}}\\\\)\n7. \\\\(R_{X_{2}} \\leftarrow R_{X_{2}} + 0.062R_{X_{11}}\\\\)\n8. \\\\(R_{X_{0}} \\leftarrow R_{X_{0}} + 0.083R_{X_{11}}\\\\)\n9. \\\\(R_{X_{4}} \\leftarrow R_{X_{4}} - 0.062R_{X_{11}}\\\\)\n\n\nComputed Tableau:\n\n|   |  |   |   |   | \\\\(A_I^{-1}\\\\) |   |   |   |   | RHS |\n|---|---|---|---|---|---|---|---|---|---|---|\n| Z | 0.000 | 480.000 | 0.000 | 640.000 | 0.000 | 0.000 | -30.000 | -5.000 | 0.000 | 483500.000 |\n| \\\\(X_{3}\\\\) | 0.000 | 1.000 | 0.000 | 0.000 | -1.000 | 0.000 | 0.000 | 0.000 | 0.000 | 150.000 |\n| \\\\(X_{5}\\\\) | 1.000 | -1.000 | 0.000 | 0.000 | 0.000 | 0.000 | 0.000 | 0.000 | 0.000 | 0.000 |\n| \\\\(X_{10}\\\\) | 0.000 | 0.000 | 0.000 | 0.000 | -0.750 | -1.000 | 0.750 | 0.062 | 0.000 | 43.750 |\n| \\\\(X_{7}\\\\) | 0.000 | 0.000 | 1.000 | -1.000 | 0.000 | 0.000 | 0.000 | 0.000 | 0.000 | 0.000 |\n| \\\\(X_{1}\\\\) | 0.000 | 0.000 | 0.000 | 0.000 | 1.000 | 0.000 | -1.000 | 0.000 | 0.000 | 50.000 |\n| \\\\(X_{2}\\\\) | 0.000 | 0.000 | 0.000 | 0.000 | -0.750 | 0.000 | 0.750 | 0.062 | 0.000 | 243.750 |\n| \\\\(X_{0}\\\\) | 0.000 | 0.000 | 0.000 | 0.000 | 0.000 | 0.000 | 1.000 | 0.000 | 0.000 | 200.000 |\n| \\\\(X_{13}\\\\) | 0.000 | -12.000 | 0.000 | -16.000 | 0.000 | 0.000 | 12.000 | 1.000 | 1.000 | 100.000 |\n| \\\\(X_{4}\\\\) | 0.000 | 0.000 | 0.000 | 1.000 | 0.750 | 0.000 | -0.750 | -0.062 | 0.000 | 256.250 |\n\n\n## Iteration 4\n\nStarting Tableau:\n\n|   |  |   |   |   | \\\\(A_I^{-1}\\\\) |   |   |   |   | RHS |\n|---|---|---|---|---|---|---|---|---|---|---|\n| Z | 0.000 | 480.000 | 0.000 | 640.000 | 0.000 | 0.000 | -30.000 | -5.000 | 0.000 | 483500.000 |\n| \\\\(X_{3}\\\\) | 0.000 | 1.000 | 0.000 | 0.000 | -1.000 | 0.000 | 0.000 | 0.000 | 0.000 | 150.000 |\n| \\\\(X_{5}\\\\) | 1.000 | -1.000 | 0.000 | 0.000 | 0.000 | 0.000 | 0.000 | 0.000 | 0.000 | 0.000 |\n| \\\\(X_{10}\\\\) | 0.000 | 0.000 | 0.000 | 0.000 | -0.750 | -1.000 | 0.750 | 0.062 | 0.000 | 43.750 |\n| \\\\(X_{7}\\\\) | 0.000 | 0.000 | 1.000 | -1.000 | 0.000 | 0.000 | 0.000 | 0.000 | 0.000 | 0.000 |\n| \\\\(X_{1}\\\\) | 0.000 | 0.000 | 0.000 | 0.000 | 1.000 | 0.000 | -1.000 | 0.000 | 0.000 | 50.000 |\n| \\\\(X_{2}\\\\) | 0.000 | 0.000 | 0.000 | 0.000 | -0.750 | 0.000 | 0.750 | 0.062 | 0.000 | 243.750 |\n| \\\\(X_{0}\\\\) | 0.000 | 0.000 | 0.000 | 0.000 | 0.000 | 0.000 | 1.000 | 0.000 | 0.000 | 200.000 |\n| \\\\(X_{13}\\\\) | 0.000 | -12.000 | 0.000 | -16.000 | 0.000 | 0.000 | 12.000 | 1.000 | 1.000 | 100.000 |\n| \\\\(X_{4}\\\\) | 0.000 | 0.000 | 0.000 | 1.000 | 0.750 | 0.000 | -0.750 | -0.062 | 0.000 | 256.250 |\n\n\n## Solution for \n\n\\\\[\n    \\begin{aligned}\n    & \\text{Minimize} & C^{T} \\cdot X \\\\\n    & \\text{Subject to} & A \\cdot X & = B \\\\\n    & & X & \\geq 0\n    \\end{aligned}\n    \\\\]\n    where: \n    \\\\[\n    \\begin{aligned}\n    & & A = \\begin{bmatrix}\n1.000 & 1.000 & 0.000 & 1.000 & 0.000 & 1.000 & 0.000 & 0.000 & 0.000 & 0.000 & 0.000 & 0.000 & 0.000 & 0.000 \\\\\n1.000 & 1.000 & 0.000 & 1.000 & 0.000 & 0.000 & -1.000 & 0.000 & 0.000 & 0.000 & 0.000 & 0.000 & 0.000 & 0.000 \\\\\n0.000 & 0.000 & 1.000 & 0.000 & 1.000 & 0.000 & 0.000 & 1.000 & 0.000 & 0.000 & 0.000 & 0.000 & 0.000 & 0.000 \\\\\n0.000 & 0.000 & 1.000 & 0.000 & 1.000 & 0.000 & 0.000 & 0.000 & -1.000 & 0.000 & 0.000 & 0.000 & 0.000 & 0.000 \\\\\n1.000 & 1.000 & 0.000 & 0.000 & 0.000 & 0.000 & 0.000 & 0.000 & 0.000 & -1.000 & 0.000 & 0.000 & 0.000 & 0.000 \\\\\n0.000 & 0.000 & 1.000 & 0.000 & 0.000 & 0.000 & 0.000 & 0.000 & 0.000 & 0.000 & -1.000 & 0.000 & 0.000 & 0.000 \\\\\n1.000 & 0.000 & 0.000 & 0.000 & 0.000 & 0.000 & 0.000 & 0.000 & 0.000 & 0.000 & 0.000 & 1.000 & 0.000 & 0.000 \\\\\n0.000 & 12.000 & 16.000 & 0.000 & 0.000 & 0.000 & 0.000 & 0.000 & 0.000 & 0.000 & 0.000 & 0.000 & 1.000 & 0.000 \\\\\n0.000 & 0.000 & 0.000 & 12.000 & 16.000 & 0.000 & 0.000 & 0.000 & 0.000 & 0.000 & 0.000 & 0.000 & 0.000 & 1.000 \\\\\n\\end{bmatrix} \\\\\n    & & B = \\begin{bmatrix}\n400.000\\\\\n400.000\\\\\n500.000\\\\\n500.000\\\\\n250.000\\\\\n200.000\\\\\n200.000\\\\\n4500.000\\\\\n6000.000\n\\end{bmatrix} \\\\\n    & & C^{T} = \\begin{bmatrix}\n450.000 & 420.000 & 560.000 & 480.000 & 640.000 & 0.000 & 0.000 & 0.000 & 0.000 & 0.000 & 0.000 & 0.000 & 0.000 & 0.000\n\\end{bmatrix} \\\\\n    & & X = \\begin{bmatrix}\nX_{0}\\\\\nX_{1}\\\\\nX_{2}\\\\\nX_{3}\\\\\nX_{4}\\\\\nX_{5}\\\\\nX_{6}\\\\\nX_{7}\\\\\nX_{8}\\\\\nX_{9}\\\\\nX_{10}\\\\\nX_{11}\\\\\nX_{12}\\\\\nX_{13}\n\\end{bmatrix}\n    \\end{aligned}\n    \\\\]\n\nSolution Type: Optimal multiple solutions\n\nOptimal Solution: \\\\(X^{*} = ['200.000', '50.000', '243.750', '150.000', '256.250', '0.000', '0.000', '0.000', '0.000', '0.000', '43.750', '0.000', '0.000', '100.000']\\\\)\n\nOptimal Value: \\\\(Z^{*} = 483500.000\\\\)\n\nOptimal Basis: \\\\([3, 5, 10, 7, 1, 2, 0, 13, 4]\\\\)\n\nFinal non-basic variables set J: \\\\([6, 8, 9, 12, 11]\\\\)\n\n\\\\(\\hat{C}_{J}\\\\): \\\\([-480.0, -640.0, 0.0, -5.0, -30.0]\\\\)\n\nNumber of Iterations: 5\n\n"
          },
          "metadata": {}
        }
      ],
      "execution_count": 27
    },
    {
      "cell_type": "markdown",
      "source": "## Result Comparison through scipy",
      "metadata": {}
    },
    {
      "cell_type": "code",
      "source": "from scipy.optimize import linprog\nresult = linprog(C, A_eq = A, b_eq = B, method='highs')\nprint('Result comparison, we found the optimal solution through our tableaus')\ndisplay(result)\ndisplay(result['x'])",
      "metadata": {
        "trusted": true
      },
      "outputs": [
        {
          "name": "stdout",
          "text": "Result comparison, we found the optimal solution through our tableaus\n",
          "output_type": "stream"
        },
        {
          "output_type": "display_data",
          "data": {
            "text/plain": "        message: Optimization terminated successfully. (HiGHS Status 7: Optimal)\n        success: True\n         status: 0\n            fun: 483500.0\n              x: [ 2.000e+02  1.083e+02 ...  0.000e+00  1.000e+02]\n            nit: 7\n          lower:  residual: [ 2.000e+02  1.083e+02 ...  0.000e+00\n                              1.000e+02]\n                 marginals: [ 0.000e+00  0.000e+00 ...  5.000e+00\n                              0.000e+00]\n          upper:  residual: [       inf        inf ...        inf\n                                    inf]\n                 marginals: [ 0.000e+00  0.000e+00 ...  0.000e+00\n                              0.000e+00]\n          eqlin:  residual: [ 0.000e+00  0.000e+00  0.000e+00  0.000e+00\n                              0.000e+00  0.000e+00  0.000e+00  0.000e+00\n                              0.000e+00]\n                 marginals: [-0.000e+00  4.800e+02 -0.000e+00  6.400e+02\n                             -0.000e+00 -0.000e+00 -3.000e+01 -5.000e+00\n                             -0.000e+00]\n        ineqlin:  residual: []\n                 marginals: []\n mip_node_count: 0\n mip_dual_bound: 0.0\n        mip_gap: 0.0"
          },
          "metadata": {}
        },
        {
          "output_type": "display_data",
          "data": {
            "text/plain": "array([200.        , 108.33333333, 200.        ,  91.66666667,\n       300.        ,  -0.        ,   0.        ,  -0.        ,\n         0.        ,  58.33333333,   0.        ,   0.        ,\n         0.        , 100.        ])"
          },
          "metadata": {}
        }
      ],
      "execution_count": 28
    },
    {
      "cell_type": "markdown",
      "source": "### Showing that the problem admits multiple optimal solutions through different solutions that respects the same constraints and retrieves the same optimal value through different X values",
      "metadata": {}
    },
    {
      "cell_type": "code",
      "source": "print('Same constraints?', np.all(A @ result['x'] == A @ solution[4]['X']))\nprint('Same optimal cost?', np.isclose(C @ result['x'], C @ solution[4]['X']))\nprint('Same values for variables?', np.all(result['x'] == solution[4]['X']))",
      "metadata": {
        "trusted": true
      },
      "outputs": [
        {
          "name": "stdout",
          "text": "Same constraints? True\nSame optimal cost? True\nSame values for variables? False\n",
          "output_type": "stream"
        }
      ],
      "execution_count": 29
    },
    {
      "cell_type": "markdown",
      "source": "### Building the solution in function of \\\\(x_9\\\\)",
      "metadata": {}
    },
    {
      "cell_type": "code",
      "source": "from sympy import symbols, Matrix, latex\nI = solution[4]['I']\nJ = solution[4]['J']\nk = J [\n    solution[4]['k']\n]\nA_k = A[:,k]\n_, n = A.shape\nA_I_inv = solution[4]['T'][1:,:-1]\nx_k = symbols(f'x_{k}')\nx_I = A_I_inv @ B - A_I_inv @ A_k * x_k\nx = np.zeros(n, dtype=object)\nx[k] = x_k\nx[I] = x_I.flatten()\nx = Matrix(x)\ndisplay(\n    x\n)\ndisplay(\n    Markdown(\n        f'Does A @ x for any \\\\\\\\(x_{{{k}}}\\\\\\\\) respects the constraints? {'Yes' if A @ x == Matrix(B) else 'No'}'\n    )\n)",
      "metadata": {
        "trusted": true
      },
      "outputs": [
        {
          "output_type": "display_data",
          "data": {
            "text/plain": "Matrix([\n[            200.0],\n[   1.0*x_9 + 50.0],\n[243.75 - 0.75*x_9],\n[  150.0 - 1.0*x_9],\n[0.75*x_9 + 256.25],\n[                0],\n[                0],\n[                0],\n[                0],\n[              x_9],\n[ 43.75 - 0.75*x_9],\n[                0],\n[                0],\n[            100.0]])",
            "text/latex": "$\\displaystyle \\left[\\begin{matrix}200.0\\\\1.0 x_{9} + 50.0\\\\243.75 - 0.75 x_{9}\\\\150.0 - 1.0 x_{9}\\\\0.75 x_{9} + 256.25\\\\0\\\\0\\\\0\\\\0\\\\x_{9}\\\\43.75 - 0.75 x_{9}\\\\0\\\\0\\\\100.0\\end{matrix}\\right]$"
          },
          "metadata": {}
        },
        {
          "output_type": "display_data",
          "data": {
            "text/plain": "<IPython.core.display.Markdown object>",
            "text/markdown": "Does A @ x for any \\\\(x_{9}\\\\) respects the constraints? Yes"
          },
          "metadata": {}
        }
      ],
      "execution_count": 31
    },
    {
      "cell_type": "markdown",
      "source": "### Finding upper limits for \\\\(x_9\\\\) that will keep non negativity constraints",
      "metadata": {}
    },
    {
      "cell_type": "code",
      "source": "upper_limit = solve(43.75 - 0.75*x_k).pop()\n\nanswer = f'''\n$$\n\\\\begin{{aligned}}\n& {latex(x)}, \\\\\\\\\n& 0 \\\\leq x_{{{k}}} \\\\leq {f'{upper_limit:.2f}'}\n\\\\end{{aligned}}\n$$\n'''\n\ndisplay(\n    Markdown(\n        answer\n    )\n)",
      "metadata": {
        "trusted": true
      },
      "outputs": [
        {
          "output_type": "display_data",
          "data": {
            "text/plain": "<IPython.core.display.Markdown object>",
            "text/markdown": "\n$$\n\\begin{aligned}\n& \\left[\\begin{matrix}200.0\\\\1.0 x_{9} + 50.0\\\\243.75 - 0.75 x_{9}\\\\150.0 - 1.0 x_{9}\\\\0.75 x_{9} + 256.25\\\\0\\\\0\\\\0\\\\0\\\\x_{9}\\\\43.75 - 0.75 x_{9}\\\\0\\\\0\\\\100.0\\end{matrix}\\right], \\\\\n& 0 \\leq x_{9} \\leq 58.33\n\\end{aligned}\n$$\n"
          },
          "metadata": {}
        }
      ],
      "execution_count": 32
    },
    {
      "cell_type": "markdown",
      "source": "### Testing $x_9$ limits",
      "metadata": {}
    },
    {
      "cell_type": "code",
      "source": "domain = np.linspace(0, 58.5, int(1/0.001 - 1))\npoints_greater_than_upper_limit = len(domain[ domain > upper_limit])\nnon_negativity_constraints_violated = 0\nfor d in domain:\n    if np.any(np.array(x.subs(x_k, d)) < 0):\n        non_negativity_constraints_violated += 1\ndisplay(f'Points greater than {upper_limit:.2f} in our linspace: {points_greater_than_upper_limit}')\ndisplay(f'Non negativity constraints violated for x in that same linspace: {non_negativity_constraints_violated}')",
      "metadata": {
        "trusted": true
      },
      "outputs": [
        {
          "output_type": "display_data",
          "data": {
            "text/plain": "'Points greater than 58.33 in our linspace: 3'"
          },
          "metadata": {}
        },
        {
          "output_type": "display_data",
          "data": {
            "text/plain": "'Non negativity constraints violated for x in that same linspace: 3'"
          },
          "metadata": {}
        }
      ],
      "execution_count": 33
    },
    {
      "cell_type": "markdown",
      "source": "## Exemplo com ciclos tableau revisado - critério lexicográfico",
      "metadata": {}
    },
    {
      "cell_type": "code",
      "source": "from revised_simplex_tableau import revised_simplex_tableau, markdown_repr_T\nfrom utils import array_to_markdown\n\nresults_md = ''\n\nC = np.array([0, 0, 0, -3/4, 20, -1/2, 6])\nA = np.array([\n    [1, 0, 0, 1/4,  -8,   -1, 9],\n    [0, 1, 0, 1/2, -12, -1/2, 3],\n    [0, 0, 1,   0,   0,    1, 0]\n])\nB = np.array([\n    0,\n    0,\n    1\n])\nI = [0, 1, 2]\n\nsolution = revised_simplex_tableau(A, B, C, I, cycle_proof = True)\n\nresults_md += markdown_repr_T(solution)\n\ndisplay(\n    Markdown(results_md)\n)",
      "metadata": {
        "trusted": true
      },
      "outputs": [
        {
          "name": "stdout",
          "text": "[0 1]\n[1]\n\n[2]\n\n[0 1 2]\n[1 2]\n[1]\n\n",
          "output_type": "stream"
        },
        {
          "output_type": "display_data",
          "data": {
            "text/plain": "<IPython.core.display.Markdown object>",
            "text/markdown": "\n\n## Iteration 0\n\nStarting Tableau:\n\n|   |  | \\\\(A_I^{-1}\\\\) |   | RHS |\n|---|---|---|---|---|\n| Z | 0.000 | 0.000 | 0.000 | 0.000 |\n| \\\\(X_{0}\\\\) | 1.000 | 0.000 | 0.000 | 0.000 |\n| \\\\(X_{1}\\\\) | 0.000 | 1.000 | 0.000 | 0.000 |\n| \\\\(X_{2}\\\\) | 0.000 | 0.000 | 1.000 | 1.000 |\n\n\nExtended Tableau\n\n|   |  | \\\\(A_I^{-1}\\\\) |   | RHS | \\\\(X_{3}\\\\)\n|---|---|---|---|---|---|\n| Z | 0.000 | 0.000 | 0.000 | 0.000 | 0.750 |\n| \\\\(X_{0}\\\\) | 1.000 | 0.000 | 0.000 | 0.000 | 0.250 |\n| \\\\(X_{1}\\\\) | 0.000 | 1.000 | 0.000 | 0.000 | 0.500 |\n| \\\\(X_{2}\\\\) | 0.000 | 0.000 | 1.000 | 1.000 | 0.000 |\n\n\n\\\\(Ĉ_J = \\ \\\\)array([  0.75, -20.  ,   0.5 ,  -6.  ])\n\n\n\\\\(J = {[3, 4, 5, 6]}\\\\)\n\n### Pivot Operations\n\nVariable to enter: \\\\(X_{3}\\\\)\nVariable to leave: \\\\(X_{1}\\\\)\n#### Row Operations:\n\n1. \\\\(R_{X_{1}} \\leftarrow \\frac{R_{X_{1}}}{0.500}\\\\)\n1. \\\\(R_{Z} \\leftarrow R_{Z} - 0.750R_{X_{1}}\\\\)\n2. \\\\(R_{X_{0}} \\leftarrow R_{X_{0}} - 0.250R_{X_{1}}\\\\)\n3. \\\\(R_{X_{2}} \\leftarrow R_{X_{2}} - 0.000R_{X_{1}}\\\\)\n\n\nComputed Tableau:\n\n|   |  | \\\\(A_I^{-1}\\\\) |   | RHS |\n|---|---|---|---|---|\n| Z | 0.000 | -1.500 | 0.000 | 0.000 |\n| \\\\(X_{0}\\\\) | 1.000 | -0.500 | 0.000 | 0.000 |\n| \\\\(X_{3}\\\\) | 0.000 | 2.000 | 0.000 | 0.000 |\n| \\\\(X_{2}\\\\) | 0.000 | 0.000 | 1.000 | 1.000 |\n\n\n## Iteration 1\n\nStarting Tableau:\n\n|   |  | \\\\(A_I^{-1}\\\\) |   | RHS |\n|---|---|---|---|---|\n| Z | 0.000 | -1.500 | 0.000 | 0.000 |\n| \\\\(X_{0}\\\\) | 1.000 | -0.500 | 0.000 | 0.000 |\n| \\\\(X_{3}\\\\) | 0.000 | 2.000 | 0.000 | 0.000 |\n| \\\\(X_{2}\\\\) | 0.000 | 0.000 | 1.000 | 1.000 |\n\n\nExtended Tableau\n\n|   |  | \\\\(A_I^{-1}\\\\) |   | RHS | \\\\(X_{5}\\\\)\n|---|---|---|---|---|---|\n| Z | 0.000 | -1.500 | 0.000 | 0.000 | 1.250 |\n| \\\\(X_{0}\\\\) | 1.000 | -0.500 | 0.000 | 0.000 | -0.750 |\n| \\\\(X_{3}\\\\) | 0.000 | 2.000 | 0.000 | 0.000 | -1.000 |\n| \\\\(X_{2}\\\\) | 0.000 | 0.000 | 1.000 | 1.000 | 1.000 |\n\n\n\\\\(Ĉ_J = \\ \\\\)array([ -1.5 ,  -2.  ,   1.25, -10.5 ])\n\n\n\\\\(J = {[1, 4, 5, 6]}\\\\)\n\n### Pivot Operations\n\nVariable to enter: \\\\(X_{5}\\\\)\nVariable to leave: \\\\(X_{2}\\\\)\n#### Row Operations:\n\n1. \\\\(R_{X_{2}} \\leftarrow \\frac{R_{X_{2}}}{1.000}\\\\)\n1. \\\\(R_{Z} \\leftarrow R_{Z} - 1.250R_{X_{2}}\\\\)\n2. \\\\(R_{X_{0}} \\leftarrow R_{X_{0}} + 0.750R_{X_{2}}\\\\)\n3. \\\\(R_{X_{3}} \\leftarrow R_{X_{3}} + 1.000R_{X_{2}}\\\\)\n\n\nComputed Tableau:\n\n|   |  | \\\\(A_I^{-1}\\\\) |   | RHS |\n|---|---|---|---|---|\n| Z | 0.000 | -1.500 | -1.250 | -1.250 |\n| \\\\(X_{0}\\\\) | 1.000 | -0.500 | 0.750 | 0.750 |\n| \\\\(X_{3}\\\\) | 0.000 | 2.000 | 1.000 | 1.000 |\n| \\\\(X_{5}\\\\) | 0.000 | 0.000 | 1.000 | 1.000 |\n\n\n## Iteration 2\n\nStarting Tableau:\n\n|   |  | \\\\(A_I^{-1}\\\\) |   | RHS |\n|---|---|---|---|---|\n| Z | 0.000 | -1.500 | -1.250 | -1.250 |\n| \\\\(X_{0}\\\\) | 1.000 | -0.500 | 0.750 | 0.750 |\n| \\\\(X_{3}\\\\) | 0.000 | 2.000 | 1.000 | 1.000 |\n| \\\\(X_{5}\\\\) | 0.000 | 0.000 | 1.000 | 1.000 |\n\n\n## Solution for \n\n\\\\[\n    \\begin{aligned}\n    & \\text{Minimize} & C^{T} \\cdot X \\\\\n    & \\text{Subject to} & A \\cdot X & = B \\\\\n    & & X & \\geq 0\n    \\end{aligned}\n    \\\\]\n    where: \n    \\\\[\n    \\begin{aligned}\n    & & A = \\begin{bmatrix}\n1.000 & 0.000 & 0.000 & 0.250 & -8.000 & -1.000 & 9.000 \\\\\n0.000 & 1.000 & 0.000 & 0.500 & -12.000 & -0.500 & 3.000 \\\\\n0.000 & 0.000 & 1.000 & 0.000 & 0.000 & 1.000 & 0.000 \\\\\n\\end{bmatrix} \\\\\n    & & B = \\begin{bmatrix}\n0.000\\\\\n0.000\\\\\n1.000\n\\end{bmatrix} \\\\\n    & & C^{T} = \\begin{bmatrix}\n0.000 & 0.000 & 0.000 & -0.750 & 20.000 & -0.500 & 6.000\n\\end{bmatrix} \\\\\n    & & X = \\begin{bmatrix}\nX_{0}\\\\\nX_{1}\\\\\nX_{2}\\\\\nX_{3}\\\\\nX_{4}\\\\\nX_{5}\\\\\nX_{6}\n\\end{bmatrix}\n    \\end{aligned}\n    \\\\]\n\nSolution Type: Optimal unique solution\n\nOptimal Solution: \\\\(X^{*} = ['0.750', '0.000', '0.000', '1.000', '0.000', '1.000', '0.000']\\\\)\n\nOptimal Value: \\\\(Z^{*} = -1.250\\\\)\n\nOptimal Basis: \\\\([0, 3, 5]\\\\)\n\nFinal non-basic variables set J: \\\\([1, 4, 2, 6]\\\\)\n\n\\\\(\\hat{C}_{J}\\\\): \\\\([-1.5, -2.0, -1.25, -10.5]\\\\)\n\nNumber of Iterations: 3\n\n"
          },
          "metadata": {}
        }
      ],
      "execution_count": 6
    },
    {
      "cell_type": "markdown",
      "source": "# Exemplo com ciclos - tableau convencional com critério lexicográfico para escolha de variável de saída",
      "metadata": {}
    },
    {
      "cell_type": "code",
      "source": "from simplex_tableau import simplex_tableau, markdown_repr_T\nfrom utils import array_to_markdown\n\nresults_md = ''\n\nC = np.array([0, 0, 0, -3/4, 20, -1/2, 6])\nA = np.array([\n    [1, 0, 0, 1/4,  -8,   -1, 9],\n    [0, 1, 0, 1/2, -12, -1/2, 3],\n    [0, 0, 1,   0,   0,    1, 0]\n])\nB = np.array([\n    0,\n    0,\n    1\n])\nI = [0, 1, 2]\n\nsolution = simplex_tableau(A, B, C, I, cycles_allowed = False)\nresults_md += markdown_repr_T(solution['tableaus'])\n\ndisplay(\n    Markdown(results_md)\n)",
      "metadata": {
        "trusted": true
      },
      "outputs": [
        {
          "output_type": "display_data",
          "data": {
            "text/plain": "<IPython.core.display.Markdown object>",
            "text/markdown": "\n\n## Iteration 1\n\nPrevious Tableau:\n\n|   |\\\\(X_{0}\\\\) | \\\\(X_{1}\\\\) | \\\\(X_{2}\\\\) | \\\\(X_{3}\\\\) | \\\\(X_{4}\\\\) | \\\\(X_{5}\\\\) | \\\\(X_{6}\\\\) | RHS |\n|---|---|---|---|---|---|---|---|---|\n| Cost | 0.000 | 0.000 | 0.000 | 0.750 | -20.000 | 0.500 | -6.000 | 0.000 |\n| \\\\(X_{0}\\\\) | 1.000 | 0.000 | 0.000 | 0.250 | -8.000 | -1.000 | 9.000 | 0.000 |\n| \\\\(X_{1}\\\\) | 0.000 | 1.000 | 0.000 | 0.500 | -12.000 | -0.500 | 3.000 | 0.000 |\n| \\\\(X_{2}\\\\) | 0.000 | 0.000 | 1.000 | 0.000 | 0.000 | 1.000 | 0.000 | 1.000 |\n### Pivot Operations\n\nVariable to enter: \\\\(X_{3}\\\\)\nVariable to leave: \\\\(X_{1}\\\\)\n#### Row Operations:\n\n1. \\\\(R_{X_{1}} \\leftarrow \\frac{R_{X_{1}}}{0.5}\\\\)\n1. \\\\(R_{C} \\leftarrow R_{C} - 0.75R_{X_{1}}\\\\)\n2. \\\\(R_{X_{0}} \\leftarrow R_{X_{0}} - 0.25R_{X_{1}}\\\\)\n3. \\\\(R_{X_{2}} \\leftarrow R_{X_{2}} - 0.0R_{X_{1}}\\\\)\n\n\nComputed Tableau:\n\n|   |\\\\(X_{0}\\\\) | \\\\(X_{1}\\\\) | \\\\(X_{2}\\\\) | \\\\(X_{3}\\\\) | \\\\(X_{4}\\\\) | \\\\(X_{5}\\\\) | \\\\(X_{6}\\\\) | RHS |\n|---|---|---|---|---|---|---|---|---|\n| Cost | 0.000 | -1.500 | 0.000 | 0.000 | -2.000 | 1.250 | -10.500 | 0.000 |\n| \\\\(X_{0}\\\\) | 1.000 | -0.500 | 0.000 | 0.000 | -2.000 | -0.750 | 7.500 | 0.000 |\n| \\\\(X_{3}\\\\) | 0.000 | 2.000 | 0.000 | 1.000 | -24.000 | -1.000 | 6.000 | 0.000 |\n| \\\\(X_{2}\\\\) | 0.000 | 0.000 | 1.000 | 0.000 | 0.000 | 1.000 | 0.000 | 1.000 |\n\n\n## Iteration 2\n\nPrevious Tableau:\n\n|   |\\\\(X_{0}\\\\) | \\\\(X_{1}\\\\) | \\\\(X_{2}\\\\) | \\\\(X_{3}\\\\) | \\\\(X_{4}\\\\) | \\\\(X_{5}\\\\) | \\\\(X_{6}\\\\) | RHS |\n|---|---|---|---|---|---|---|---|---|\n| Cost | 0.000 | -1.500 | 0.000 | 0.000 | -2.000 | 1.250 | -10.500 | 0.000 |\n| \\\\(X_{0}\\\\) | 1.000 | -0.500 | 0.000 | 0.000 | -2.000 | -0.750 | 7.500 | 0.000 |\n| \\\\(X_{3}\\\\) | 0.000 | 2.000 | 0.000 | 1.000 | -24.000 | -1.000 | 6.000 | 0.000 |\n| \\\\(X_{2}\\\\) | 0.000 | 0.000 | 1.000 | 0.000 | 0.000 | 1.000 | 0.000 | 1.000 |\n### Pivot Operations\n\nVariable to enter: \\\\(X_{5}\\\\)\nVariable to leave: \\\\(X_{2}\\\\)\n#### Row Operations:\n\n1. \\\\(R_{X_{2}} \\leftarrow \\frac{R_{X_{2}}}{1.0}\\\\)\n1. \\\\(R_{C} \\leftarrow R_{C} - 1.25R_{X_{2}}\\\\)\n2. \\\\(R_{X_{0}} \\leftarrow R_{X_{0}} + 0.75R_{X_{2}}\\\\)\n3. \\\\(R_{X_{3}} \\leftarrow R_{X_{3}} + 1.0R_{X_{2}}\\\\)\n\n\nComputed Tableau:\n\n|   |\\\\(X_{0}\\\\) | \\\\(X_{1}\\\\) | \\\\(X_{2}\\\\) | \\\\(X_{3}\\\\) | \\\\(X_{4}\\\\) | \\\\(X_{5}\\\\) | \\\\(X_{6}\\\\) | RHS |\n|---|---|---|---|---|---|---|---|---|\n| Cost | 0.000 | -1.500 | -1.250 | 0.000 | -2.000 | 0.000 | -10.500 | -1.250 |\n| \\\\(X_{0}\\\\) | 1.000 | -0.500 | 0.750 | 0.000 | -2.000 | 0.000 | 7.500 | 0.750 |\n| \\\\(X_{3}\\\\) | 0.000 | 2.000 | 1.000 | 1.000 | -24.000 | 0.000 | 6.000 | 1.000 |\n| \\\\(X_{5}\\\\) | 0.000 | 0.000 | 1.000 | 0.000 | 0.000 | 1.000 | 0.000 | 1.000 |\n"
          },
          "metadata": {}
        }
      ],
      "execution_count": 2
    },
    {
      "cell_type": "markdown",
      "source": "# Exemplo com ciclos no simplex duas fases",
      "metadata": {}
    },
    {
      "cell_type": "code",
      "source": "I = [0, 1, 2]\n_, n = A.shape\nX = np.zeros(n)\nz_star, x_star, I_star, A_I_star, A, iterations_count, solution_type, debug_info  = simplex_two_phases(A, B, C, I, debug=True)\nX[I_star] = x_star\n\nresult_md = f'''\nSolution Type: {solution_types[solution_type]}\n\n$ Z^{{*}} = {z_star} $\n\n$ X^{{*}} = \\\\begin{{bmatrix}}\n    { '\\n'.join([f'{x:.2f} \\\\\\\\' for x in X]) }\n\\\\end{{bmatrix}}\n$\n\n$ I^{{*}} = $ {I_star}\n\n'''\ndisplay(\n    Markdown(\n        result_md\n    )\n)",
      "metadata": {
        "trusted": true
      },
      "outputs": [
        {
          "output_type": "display_data",
          "data": {
            "text/plain": "<IPython.core.display.Markdown object>",
            "text/markdown": "\nSolution Type: Optimal finite solution found\n\n$ Z^{*} = -1.25 $\n\n$ X^{*} = \\begin{bmatrix}\n    0.75 \\\\\n0.00 \\\\\n0.00 \\\\\n1.00 \\\\\n0.00 \\\\\n1.00 \\\\\n0.00 \\\\\n\\end{bmatrix}\n$\n\n$ I^{*} = $ [5 0 3]\n\n"
          },
          "metadata": {}
        }
      ],
      "execution_count": 3
    },
    {
      "cell_type": "markdown",
      "source": "# Trying techniques to properly drive artificials out of the base",
      "metadata": {}
    },
    {
      "cell_type": "code",
      "source": "from simplex_two_phases import _simplex_find_feasible_initial_basis\n\nA = np.array([\n    [ 1, 1, 1, -1,  0,  0, 0],\n    [-1, 1, 2,  0, -1,  0, 0],\n    [ 0, 2, 3,  0,  0, -1, 0],\n    [ 0, 0, 1,  0,  0,  0, 1]\n])\nB = np.array([\n    6,\n    4,\n    10,\n    2\n])\nC = np.array([-1, 2, -3, 0, 0, 0, 0])\nI = list(range(3,7))\nI_star, A_I, A, b, feasible, iters, debug_info = _simplex_find_feasible_initial_basis(A, B, C, I)",
      "metadata": {
        "trusted": true
      },
      "outputs": [
        {
          "name": "stdout",
          "text": "[7 8 9 6]\n[1 2 3 0]\n",
          "output_type": "stream"
        }
      ],
      "execution_count": 20
    },
    {
      "cell_type": "code",
      "source": "I_star",
      "metadata": {
        "trusted": true
      },
      "outputs": [
        {
          "execution_count": 21,
          "output_type": "execute_result",
          "data": {
            "text/plain": "array([1, 2, 3, 0])"
          },
          "metadata": {}
        }
      ],
      "execution_count": 21
    },
    {
      "cell_type": "code",
      "source": "",
      "metadata": {
        "trusted": true
      },
      "outputs": [
        {
          "execution_count": 23,
          "output_type": "execute_result",
          "data": {
            "text/plain": "array([ 2, 12, 24,  4])"
          },
          "metadata": {}
        }
      ],
      "execution_count": 23
    },
    {
      "cell_type": "code",
      "source": "",
      "metadata": {
        "trusted": true
      },
      "outputs": [],
      "execution_count": null
    }
  ]
}