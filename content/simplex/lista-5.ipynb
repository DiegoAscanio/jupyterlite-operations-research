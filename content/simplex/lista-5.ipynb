{
  "metadata": {
    "kernelspec": {
      "name": "python",
      "display_name": "Python (Pyodide)",
      "language": "python"
    },
    "language_info": {
      "codemirror_mode": {
        "name": "python",
        "version": 3
      },
      "file_extension": ".py",
      "mimetype": "text/x-python",
      "name": "python",
      "nbconvert_exporter": "python",
      "pygments_lexer": "ipython3",
      "version": "3.8"
    }
  },
  "nbformat_minor": 4,
  "nbformat": 4,
  "cells": [
    {
      "cell_type": "code",
      "source": "%pip install numpy\n%pip install sympy\n%load_ext autoreload\n%autoreload 2\nfrom simplex_two_phases import simplex as simplex_two_phases\nfrom simplex_tableau import simplex as simplex_tableau\nfrom simplex import simplex\n    \nimport numpy as np\nfrom pprint import pprint\n\nsolution_types = {\n    -1: 'Unfeasible',\n    1: 'Optimal finite solution found',\n    2: 'Multiple optimal solutions found',\n    3: 'Unbounded'\n}",
      "metadata": {
        "trusted": true
      },
      "outputs": [],
      "execution_count": 2
    },
    {
      "cell_type": "markdown",
      "source": "# Lista 5\n## Exercício 3.22",
      "metadata": {}
    },
    {
      "cell_type": "code",
      "source": "# Instantiate the data for the default minimization\n# problem in the form:\n# z = min C.T @ X\n# subject to:\n#     A @ X = B\n\nC = np.array([\n    -3,\n    -4,\n    -2.5,\n    0,\n    0,\n    0\n])\n\nA = np.array([\n    [3, 4, 2, 1, 0, 0],\n    [2, 1, 2, 0, 1, 0],\n    [1, 3, 3, 0, 0, 1]\n])\n\nB = np.array([\n    500,\n    400,\n    300\n])\n\nm, n = A.shape\nI = [3, 4, 5]\n\nZ_star, x_I, I_star, A_I, A, iterations, solution_type, debug_info = simplex_two_phases(A, B, C, I, debug = True)\n#Z_star, x_star, I_star, iterations, solution_type = simplex(A, b, c, I, debug = True)\nx_star = np.zeros(n)\nx_star[I_star] = x_I\nresult_repr = f'''\nExercicio 3.22):\n\nZ_star = {Z_star}\nx_star = {x_star}\nI_star = {I_star}\niterations = {iterations + 1}\nsolution_type = {solution_type} - {solution_types[solution_type]}\n'''\nprint(result_repr)\ndisplay('Simplex Steps:\\n\\n')\ndisplay(debug_info)",
      "metadata": {
        "trusted": true
      },
      "outputs": [],
      "execution_count": null
    },
    {
      "cell_type": "markdown",
      "source": "## Exercício 3.23",
      "metadata": {}
    },
    {
      "cell_type": "code",
      "source": "# Instantiate the data for the default minimization\n# problem in the form:\n# z = min C.T @ X\n# subject to:\n#     A @ X = B\n\nnp.set_printoptions(suppress=True)\n\nC = np.array([\n    -1, 0, 0, 0, 0, 0, 0, 0, 0, 0, 0\n])\n\nA = np.array([\n       [ 1.0e+00,  0.0e+00, -1.0e+00,  0.0e+00,  1.0e+00,  0.0e+00,\n         0.0e+00,  0.0e+00,  0.0e+00,  0.0e+00,  0.0e+00],\n       [ 1.0e+00,  0.0e+00,  0.0e+00, -1.0e+00,  0.0e+00,  1.0e+00,\n         0.0e+00,  0.0e+00,  0.0e+00,  0.0e+00,  0.0e+00],\n       [ 0.0e+00,  3.0e+01,  4.5e+03,  0.0e+00,  0.0e+00,  0.0e+00,\n         1.0e+00,  0.0e+00,  0.0e+00,  0.0e+00,  0.0e+00],\n       [ 0.0e+00,  4.0e+01,  5.0e+03,  5.0e+03,  0.0e+00,  0.0e+00,\n         0.0e+00,  1.0e+00,  0.0e+00,  0.0e+00,  0.0e+00],\n       [ 0.0e+00,  5.0e-01,  1.5e+02,  1.5e+02,  0.0e+00,  0.0e+00,\n         0.0e+00,  0.0e+00,  1.0e+00,  0.0e+00,  0.0e+00],\n       [ 0.0e+00,  1.0e+00,  0.0e+00,  0.0e+00,  0.0e+00,  0.0e+00,\n         0.0e+00,  0.0e+00,  0.0e+00, -1.0e+00,  0.0e+00],\n       [ 0.0e+00,  1.0e+00,  0.0e+00,  0.0e+00,  0.0e+00,  0.0e+00,\n         0.0e+00,  0.0e+00,  0.0e+00,  0.0e+00,  1.0e+00]\n])\n\nB = np.array([\n    0,\n    0,\n    150e3,\n    100e3,\n    600,\n    600,\n    800\n])\n\nm, n = A.shape\nI = list(range(4,11))\n\nZ_star, x_I, I_star, A_I, A, iterations, solution_type, debug_info = simplex_two_phases(A, B, C, I, debug = True)\n#Z_star, x_star, I_star, iterations, solution_type = simplex(A, b, c, I, debug = True)\nx_star = np.zeros(n)\nx_star[I_star] = x_I\nx_star = {\n    f'x_{i:}': f'{x:.2f}' for i, x in enumerate(x_star)\n}\nresult_repr = f'''\nExercicio 3.23):\n\nZ_star = {Z_star}\nx_star = {str(x_star)}\nI_star = {I_star}\niterations = {iterations + 1}\nsolution_type = {solution_type} - {solution_types[solution_type]}\n'''\nprint(result_repr)\ndisplay('Simplex Steps:\\n\\n')\ndisplay(debug_info)",
      "metadata": {
        "trusted": true
      },
      "outputs": [
        {
          "name": "stdout",
          "text": "\nExercicio 3.23):\n\nZ_star = -0.9999999999999993\nx_star = {'x_0': '1.00', 'x_1': '600.00', 'x_2': '1.00', 'x_3': '1.00', 'x_4': '0.00', 'x_5': '0.00', 'x_6': '127500.00', 'x_7': '66000.00', 'x_8': '0.00', 'x_9': '0.00', 'x_10': '200.00'}\nI_star = [ 0  2  6  7  3  1 10]\niterations = 5\nsolution_type = 1 - Optimal finite solution found\n\n",
          "output_type": "stream"
        },
        {
          "output_type": "display_data",
          "data": {
            "text/plain": "'Simplex Steps:\\n\\n'"
          },
          "metadata": {}
        },
        {
          "output_type": "display_data",
          "data": {
            "text/plain": "{'first phase': {'first_phase_debug_info': {'title': 'Simplex method with feasible initial basis for granted',\n   'debug_info_iteration_00': {'A_I': array([[1., 0., 0., 0., 0., 0., 0.],\n           [0., 1., 0., 0., 0., 0., 0.],\n           [0., 0., 1., 0., 0., 0., 0.],\n           [0., 0., 0., 1., 0., 0., 0.],\n           [0., 0., 0., 0., 1., 0., 0.],\n           [0., 0., 0., 0., 0., 1., 0.],\n           [0., 0., 0., 0., 0., 0., 1.]]),\n    'A_I_inv': array([[1., 0., 0., 0., 0., 0., 0.],\n           [0., 1., 0., 0., 0., 0., 0.],\n           [0., 0., 1., 0., 0., 0., 0.],\n           [0., 0., 0., 1., 0., 0., 0.],\n           [0., 0., 0., 0., 1., 0., 0.],\n           [0., 0., 0., 0., 0., 1., 0.],\n           [0., 0., 0., 0., 0., 0., 1.]]),\n    'J': [0, 11, 2, 3, 9],\n    'A_J': array([[   1. ,    0. ,   -1. ,    0. ,    0. ],\n           [   1. ,    0. ,    0. ,   -1. ,    0. ],\n           [   0. ,   30. , 4500. ,    0. ,    0. ],\n           [   0. ,   40. , 5000. , 5000. ,    0. ],\n           [   0. ,    0.5,  150. ,  150. ,    0. ],\n           [   0. ,    1. ,    0. ,    0. ,   -1. ],\n           [   0. ,    1. ,    0. ,    0. ,    0. ]]),\n    'x_I': array([     0.,      0., 150000., 100000.,    600.,    600.,    800.]),\n    'x': array([     0.,    600.,      0.,      0.,      0.,      0., 150000.,\n           100000.,    600.,      0.,    800.,      0.]),\n    'π': array([0., 0., 0., 0., 0., 1., 0.]),\n    'z_0': 600.0,\n    'c_hat_J': array([ 0.,  1.,  0.,  0., -1.]),\n    'k': 1,\n    'r': 5,\n    'debug_info_from_r_who_leaves': {'description': 'Finding the variable that leaves the basis',\n     'y_k': array([ 0. ,  0. , 30. , 40. ,  0.5,  1. ,  1. ]),\n     'ratios': array([  inf,   inf, 5000., 2500., 1200.,  600.,  800.]),\n     'r': 5,\n     'I_r': 11},\n    'y_k': array([ 0. ,  0. , 30. , 40. ,  0.5,  1. ,  1. ]),\n    'previous I': array([ 4,  5,  6,  7,  8, 11, 10]),\n    'previous J': [0, 1, 2, 3, 9],\n    'computed I': array([ 4,  5,  6,  7,  8,  1, 10]),\n    'computed J': [0, 11, 2, 3, 9]},\n   'debug_info_iteration_01': {'A_I': array([[ 1. ,  0. ,  0. ,  0. ,  0. ,  0. ,  0. ],\n           [ 0. ,  1. ,  0. ,  0. ,  0. ,  0. ,  0. ],\n           [ 0. ,  0. ,  1. ,  0. ,  0. , 30. ,  0. ],\n           [ 0. ,  0. ,  0. ,  1. ,  0. , 40. ,  0. ],\n           [ 0. ,  0. ,  0. ,  0. ,  1. ,  0.5,  0. ],\n           [ 0. ,  0. ,  0. ,  0. ,  0. ,  1. ,  0. ],\n           [ 0. ,  0. ,  0. ,  0. ,  0. ,  1. ,  1. ]]),\n    'A_I_inv': array([[  1. ,   0. ,   0. ,   0. ,   0. ,   0. ,   0. ],\n           [  0. ,   1. ,   0. ,   0. ,   0. ,   0. ,   0. ],\n           [  0. ,   0. ,   1. ,   0. ,   0. , -30. ,   0. ],\n           [  0. ,   0. ,   0. ,   1. ,   0. , -40. ,   0. ],\n           [  0. ,   0. ,   0. ,   0. ,   1. ,  -0.5,   0. ],\n           [  0. ,   0. ,   0. ,   0. ,   0. ,   1. ,   0. ],\n           [  0. ,   0. ,   0. ,   0. ,   0. ,  -1. ,   1. ]]),\n    'J': [0, 11, 2, 3, 9],\n    'A_J': array([[   1.,    0.,   -1.,    0.,    0.],\n           [   1.,    0.,    0.,   -1.,    0.],\n           [   0.,    0., 4500.,    0.,    0.],\n           [   0.,    0., 5000., 5000.,    0.],\n           [   0.,    0.,  150.,  150.,    0.],\n           [   0.,    1.,    0.,    0.,   -1.],\n           [   0.,    0.,    0.,    0.,    0.]]),\n    'x_I': array([     0.,      0., 132000.,  76000.,    300.,    600.,    200.]),\n    'x': array([     0.,    600.,      0.,      0.,      0.,      0., 132000.,\n            76000.,    300.,      0.,    200.,      0.]),\n    'π': array([0., 0., 0., 0., 0., 0., 0.]),\n    'z_0': 0.0,\n    'c_hat_J': array([ 0., -1.,  0.,  0.,  0.]),\n    'k': 0,\n    'r': 5,\n    'debug_info_from_r_who_leaves': {'description': 'Finding the variable that leaves the basis',\n     'y_k': array([ 0. ,  0. , 30. , 40. ,  0.5,  1. ,  1. ]),\n     'ratios': array([  inf,   inf, 5000., 2500., 1200.,  600.,  800.]),\n     'r': 5,\n     'I_r': 11},\n    'y_k': array([ 0. ,  0. , 30. , 40. ,  0.5,  1. ,  1. ]),\n    'previous I': array([ 4,  5,  6,  7,  8,  1, 10]),\n    'previous J': [0, 11, 2, 3, 9],\n    'computed I': array([ 4,  5,  6,  7,  8,  1, 10]),\n    'computed J': [0, 11, 2, 3, 9]}},\n  'φ_star': 0.0,\n  'x_star': array([     0.,      0., 132000.,  76000.,    300.,    600.,    200.]),\n  'I_star': array([ 4,  5,  6,  7,  8,  1, 10]),\n  'A_I_star': array([[ 1. ,  0. ,  0. ,  0. ,  0. ,  0. ,  0. ],\n         [ 0. ,  1. ,  0. ,  0. ,  0. ,  0. ,  0. ],\n         [ 0. ,  0. ,  1. ,  0. ,  0. , 30. ,  0. ],\n         [ 0. ,  0. ,  0. ,  1. ,  0. , 40. ,  0. ],\n         [ 0. ,  0. ,  0. ,  0. ,  1. ,  0.5,  0. ],\n         [ 0. ,  0. ,  0. ,  0. ,  0. ,  1. ,  0. ],\n         [ 0. ,  0. ,  0. ,  0. ,  0. ,  1. ,  1. ]]),\n  'A': array([[   1. ,    0. ,   -1. ,    0. ,    1. ,    0. ,    0. ,    0. ,\n             0. ,    0. ,    0. ,    0. ],\n         [   1. ,    0. ,    0. ,   -1. ,    0. ,    1. ,    0. ,    0. ,\n             0. ,    0. ,    0. ,    0. ],\n         [   0. ,   30. , 4500. ,    0. ,    0. ,    0. ,    1. ,    0. ,\n             0. ,    0. ,    0. ,    0. ],\n         [   0. ,   40. , 5000. , 5000. ,    0. ,    0. ,    0. ,    1. ,\n             0. ,    0. ,    0. ,    0. ],\n         [   0. ,    0.5,  150. ,  150. ,    0. ,    0. ,    0. ,    0. ,\n             1. ,    0. ,    0. ,    0. ],\n         [   0. ,    1. ,    0. ,    0. ,    0. ,    0. ,    0. ,    0. ,\n             0. ,   -1. ,    0. ,    1. ],\n         [   0. ,    1. ,    0. ,    0. ,    0. ,    0. ,    0. ,    0. ,\n             0. ,    0. ,    1. ,    0. ]]),\n  'A_artificial': array([[   1. ,    0. ,   -1. ,    0. ,    1. ,    0. ,    0. ,    0. ,\n             0. ,    0. ,    0. ,    0. ],\n         [   1. ,    0. ,    0. ,   -1. ,    0. ,    1. ,    0. ,    0. ,\n             0. ,    0. ,    0. ,    0. ],\n         [   0. ,   30. , 4500. ,    0. ,    0. ,    0. ,    1. ,    0. ,\n             0. ,    0. ,    0. ,    0. ],\n         [   0. ,   40. , 5000. , 5000. ,    0. ,    0. ,    0. ,    1. ,\n             0. ,    0. ,    0. ,    0. ],\n         [   0. ,    0.5,  150. ,  150. ,    0. ,    0. ,    0. ,    0. ,\n             1. ,    0. ,    0. ,    0. ],\n         [   0. ,    1. ,    0. ,    0. ,    0. ,    0. ,    0. ,    0. ,\n             0. ,   -1. ,    0. ,    1. ],\n         [   0. ,    1. ,    0. ,    0. ,    0. ,    0. ,    0. ,    0. ,\n             0. ,    0. ,    1. ,    0. ]]),\n  'b': array([     0.,      0., 150000., 100000.,    600.,    600.,    800.]),\n  'c_artificial': array([0., 0., 0., 0., 0., 0., 0., 0., 0., 0., 0., 1.]),\n  'I_artificial': array([ 4,  5,  6,  7,  8, 11, 10]),\n  'iterations_count': 1,\n  'solution_type': 2},\n 'second phase': {'title': 'Simplex method with feasible initial basis for granted',\n  'debug_info_iteration_00': {'A_I': array([[ 1. ,  0. ,  0. ,  0. ,  0. ,  0. ,  0. ],\n          [ 0. ,  1. ,  0. ,  0. ,  0. ,  0. ,  0. ],\n          [ 0. ,  0. ,  1. ,  0. ,  0. , 30. ,  0. ],\n          [ 0. ,  0. ,  0. ,  1. ,  0. , 40. ,  0. ],\n          [ 0. ,  0. ,  0. ,  0. ,  1. ,  0.5,  0. ],\n          [ 0. ,  0. ,  0. ,  0. ,  0. ,  1. ,  0. ],\n          [ 0. ,  0. ,  0. ,  0. ,  0. ,  1. ,  1. ]]),\n   'A_I_inv': array([[  1. ,   0. ,   0. ,   0. ,   0. ,   0. ,   0. ],\n          [  0. ,   1. ,   0. ,   0. ,   0. ,   0. ,   0. ],\n          [  0. ,   0. ,   1. ,   0. ,   0. , -30. ,   0. ],\n          [  0. ,   0. ,   0. ,   1. ,   0. , -40. ,   0. ],\n          [  0. ,   0. ,   0. ,   0. ,   1. ,  -0.5,   0. ],\n          [  0. ,   0. ,   0. ,   0. ,   0. ,   1. ,   0. ],\n          [  0. ,   0. ,   0. ,   0. ,   0. ,  -1. ,   1. ]]),\n   'J': [4, 2, 3, 9],\n   'A_J': array([[   1.,   -1.,    0.,    0.],\n          [   1.,    0.,   -1.,    0.],\n          [   0., 4500.,    0.,    0.],\n          [   0., 5000., 5000.,    0.],\n          [   0.,  150.,  150.,    0.],\n          [   0.,    0.,    0.,   -1.],\n          [   0.,    0.,    0.,    0.]]),\n   'x_I': array([     0.,      0., 132000.,  76000.,    300.,    600.,    200.]),\n   'x': array([     0.,    600.,      0.,      0.,      0.,      0., 132000.,\n           76000.,    300.,      0.,    200.]),\n   'π': array([0., 0., 0., 0., 0., 0., 0.]),\n   'z_0': 0.0,\n   'c_hat_J': array([1., 0., 0., 0.]),\n   'k': 0,\n   'r': 0,\n   'debug_info_from_r_who_leaves': {'description': 'Finding the variable that leaves the basis',\n    'y_k': array([1., 1., 0., 0., 0., 0., 0.]),\n    'ratios': array([ 0.,  0., inf, inf, inf, inf, inf]),\n    'r': 0,\n    'I_r': 4},\n   'y_k': array([1., 1., 0., 0., 0., 0., 0.]),\n   'previous I': array([ 4,  5,  6,  7,  8,  1, 10]),\n   'previous J': [0, 2, 3, 9],\n   'computed I': array([ 0,  5,  6,  7,  8,  1, 10]),\n   'computed J': [4, 2, 3, 9]},\n  'debug_info_iteration_01': {'A_I': array([[ 1. ,  0. ,  0. ,  0. ,  0. ,  0. ,  0. ],\n          [ 1. ,  1. ,  0. ,  0. ,  0. ,  0. ,  0. ],\n          [ 0. ,  0. ,  1. ,  0. ,  0. , 30. ,  0. ],\n          [ 0. ,  0. ,  0. ,  1. ,  0. , 40. ,  0. ],\n          [ 0. ,  0. ,  0. ,  0. ,  1. ,  0.5,  0. ],\n          [ 0. ,  0. ,  0. ,  0. ,  0. ,  1. ,  0. ],\n          [ 0. ,  0. ,  0. ,  0. ,  0. ,  1. ,  1. ]]),\n   'A_I_inv': array([[  1. ,   0. ,   0. ,   0. ,   0. ,   0. ,   0. ],\n          [ -1. ,   1. ,   0. ,   0. ,   0. ,   0. ,   0. ],\n          [  0. ,   0. ,   1. ,   0. ,   0. , -30. ,   0. ],\n          [  0. ,   0. ,   0. ,   1. ,   0. , -40. ,   0. ],\n          [  0. ,   0. ,   0. ,   0. ,   1. ,  -0.5,   0. ],\n          [  0. ,   0. ,   0. ,   0. ,   0. ,   1. ,   0. ],\n          [  0. ,   0. ,   0. ,   0. ,   0. ,  -1. ,   1. ]]),\n   'J': [4, 5, 3, 9],\n   'A_J': array([[   1.,   -1.,    0.,    0.],\n          [   0.,    0.,   -1.,    0.],\n          [   0., 4500.,    0.,    0.],\n          [   0., 5000., 5000.,    0.],\n          [   0.,  150.,  150.,    0.],\n          [   0.,    0.,    0.,   -1.],\n          [   0.,    0.,    0.,    0.]]),\n   'x_I': array([     0.,      0., 132000.,  76000.,    300.,    600.,    200.]),\n   'x': array([     0.,    600.,      0.,      0.,      0.,      0., 132000.,\n           76000.,    300.,      0.,    200.]),\n   'π': array([-1.,  0.,  0.,  0.,  0.,  0.,  0.]),\n   'z_0': 0.0,\n   'c_hat_J': array([-1.,  1.,  0.,  0.]),\n   'k': 1,\n   'r': 1,\n   'debug_info_from_r_who_leaves': {'description': 'Finding the variable that leaves the basis',\n    'y_k': array([  -1.,    1., 4500., 5000.,  150.,    0.,    0.]),\n    'ratios': array([        inf,  0.        , 29.33333333, 15.2       ,  2.        ,\n                   inf,         inf]),\n    'r': 1,\n    'I_r': 5},\n   'y_k': array([  -1.,    1., 4500., 5000.,  150.,    0.,    0.]),\n   'previous I': array([ 0,  5,  6,  7,  8,  1, 10]),\n   'previous J': [4, 2, 3, 9],\n   'computed I': array([ 0,  2,  6,  7,  8,  1, 10]),\n   'computed J': [4, 5, 3, 9]},\n  'debug_info_iteration_02': {'A_I': array([[   1. ,   -1. ,    0. ,    0. ,    0. ,    0. ,    0. ],\n          [   1. ,    0. ,    0. ,    0. ,    0. ,    0. ,    0. ],\n          [   0. , 4500. ,    1. ,    0. ,    0. ,   30. ,    0. ],\n          [   0. , 5000. ,    0. ,    1. ,    0. ,   40. ,    0. ],\n          [   0. ,  150. ,    0. ,    0. ,    1. ,    0.5,    0. ],\n          [   0. ,    0. ,    0. ,    0. ,    0. ,    1. ,    0. ],\n          [   0. ,    0. ,    0. ,    0. ,    0. ,    1. ,    1. ]]),\n   'A_I_inv': array([[    0. ,     1. ,     0. ,     0. ,     0. ,     0. ,     0. ],\n          [   -1. ,     1. ,     0. ,     0. ,     0. ,     0. ,     0. ],\n          [ 4500. , -4500. ,     1. ,     0. ,     0. ,   -30. ,     0. ],\n          [ 5000. , -5000. ,     0. ,     1. ,     0. ,   -40. ,     0. ],\n          [  150. ,  -150. ,     0. ,     0. ,     1. ,    -0.5,     0. ],\n          [    0. ,     0. ,     0. ,     0. ,     0. ,     1. ,     0. ],\n          [    0. ,     0. ,     0. ,     0. ,     0. ,    -1. ,     1. ]]),\n   'J': [4, 5, 8, 9],\n   'A_J': array([[   1.,    0.,    0.,    0.],\n          [   0.,    1.,   -1.,    0.],\n          [   0.,    0.,    0.,    0.],\n          [   0.,    0., 5000.,    0.],\n          [   0.,    0.,  150.,    0.],\n          [   0.,    0.,    0.,   -1.],\n          [   0.,    0.,    0.,    0.]]),\n   'x_I': array([     0.,      0., 132000.,  76000.,    300.,    600.,    200.]),\n   'x': array([     0.,    600.,      0.,    300.,      0.,      0., 132000.,\n           76000.,      0.,      0.,    200.]),\n   'π': array([ 0., -1.,  0.,  0.,  0.,  0.,  0.]),\n   'z_0': 0.0,\n   'c_hat_J': array([ 0., -1.,  1.,  0.]),\n   'k': 2,\n   'r': 4,\n   'debug_info_from_r_who_leaves': {'description': 'Finding the variable that leaves the basis',\n    'y_k': array([   -1.,    -1.,  4500., 10000.,   300.,     0.,     0.]),\n    'ratios': array([        inf,         inf, 29.33333333,  7.6       ,  1.        ,\n                   inf,         inf]),\n    'r': 4,\n    'I_r': 8},\n   'y_k': array([   -1.,    -1.,  4500., 10000.,   300.,     0.,     0.]),\n   'previous I': array([ 0,  2,  6,  7,  8,  1, 10]),\n   'previous J': [4, 5, 3, 9],\n   'computed I': array([ 0,  2,  6,  7,  3,  1, 10]),\n   'computed J': [4, 5, 8, 9]},\n  'debug_info_iteration_03': {'A_I': array([[   1. ,   -1. ,    0. ,    0. ,    0. ,    0. ,    0. ],\n          [   1. ,    0. ,    0. ,    0. ,   -1. ,    0. ,    0. ],\n          [   0. , 4500. ,    1. ,    0. ,    0. ,   30. ,    0. ],\n          [   0. , 5000. ,    0. ,    1. , 5000. ,   40. ,    0. ],\n          [   0. ,  150. ,    0. ,    0. ,  150. ,    0.5,    0. ],\n          [   0. ,    0. ,    0. ,    0. ,    0. ,    1. ,    0. ],\n          [   0. ,    0. ,    0. ,    0. ,    0. ,    1. ,    1. ]]),\n   'A_I_inv': array([[    0.5       ,     0.5       ,     0.        ,     0.        ,\n               0.00333333,    -0.00166667,     0.        ],\n          [   -0.5       ,     0.5       ,     0.        ,     0.        ,\n               0.00333333,    -0.00166667,     0.        ],\n          [ 2250.        , -2250.        ,     1.        ,     0.        ,\n             -15.        ,   -22.5       ,     0.        ],\n          [    0.        ,     0.        ,     0.        ,     1.        ,\n             -33.33333333,   -23.33333333,     0.        ],\n          [    0.5       ,    -0.5       ,     0.        ,     0.        ,\n               0.00333333,    -0.00166667,     0.        ],\n          [    0.        ,     0.        ,     0.        ,     0.        ,\n               0.        ,     1.        ,     0.        ],\n          [    0.        ,     0.        ,     0.        ,     0.        ,\n               0.        ,    -1.        ,     1.        ]]),\n   'J': [4, 5, 8, 9],\n   'A_J': array([[ 1.,  0.,  0.,  0.],\n          [ 0.,  1.,  0.,  0.],\n          [ 0.,  0.,  0.,  0.],\n          [ 0.,  0.,  0.,  0.],\n          [ 0.,  0.,  1.,  0.],\n          [ 0.,  0.,  0., -1.],\n          [ 0.,  0.,  0.,  0.]]),\n   'x_I': array([     1.,      1., 127500.,  66000.,      1.,    600.,    200.]),\n   'x': array([     1.,    600.,      1.,      1.,      0.,      0., 127500.,\n           66000.,      0.,      0.,    200.]),\n   'π': array([-0.5       , -0.5       ,  0.        ,  0.        , -0.00333333,\n           0.00166667,  0.        ]),\n   'z_0': -0.9999999999999993,\n   'c_hat_J': array([-0.5       , -0.5       , -0.00333333, -0.00166667]),\n   'k': 3,\n   'r': 4,\n   'debug_info_from_r_who_leaves': {'description': 'Finding the variable that leaves the basis',\n    'y_k': array([   -1.,    -1.,  4500., 10000.,   300.,     0.,     0.]),\n    'ratios': array([        inf,         inf, 29.33333333,  7.6       ,  1.        ,\n                   inf,         inf]),\n    'r': 4,\n    'I_r': 8},\n   'y_k': array([   -1.,    -1.,  4500., 10000.,   300.,     0.,     0.]),\n   'previous I': array([ 0,  2,  6,  7,  3,  1, 10]),\n   'previous J': [4, 5, 8, 9],\n   'computed I': array([ 0,  2,  6,  7,  3,  1, 10]),\n   'computed J': [4, 5, 8, 9]}}}"
          },
          "metadata": {}
        }
      ],
      "execution_count": 24
    },
    {
      "cell_type": "markdown",
      "source": "### Estudo dos valores do vetor X nas 2 Únicas Iterações da Fase 1 do Simplex para o Problema em Tela",
      "metadata": {}
    },
    {
      "cell_type": "code",
      "source": "X = list(debug_info['first phase']['first_phase_debug_info'][f'debug_info_iteration_{i:02d}']['x'] for i in range(2))\nfor x in X:\n    display(x)",
      "metadata": {
        "trusted": true
      },
      "outputs": [
        {
          "output_type": "display_data",
          "data": {
            "text/plain": "array([     0.,    600.,      0.,      0.,      0.,      0., 150000.,\n       100000.,    600.,      0.,    800.,      0.])"
          },
          "metadata": {}
        },
        {
          "output_type": "display_data",
          "data": {
            "text/plain": "array([     0.,    600.,      0.,      0.,      0.,      0., 132000.,\n        76000.,    300.,      0.,    200.,      0.])"
          },
          "metadata": {}
        }
      ],
      "execution_count": 47
    },
    {
      "cell_type": "markdown",
      "source": "### Estudo dos valores do vetor X nas 4 Únicas Iterações da Fase 2 do Simplex para o Problema em Tela",
      "metadata": {}
    },
    {
      "cell_type": "code",
      "source": "X = list(debug_info['second phase'][f'debug_info_iteration_{i:02d}']['x'] for i in range(4))\nfor x in X:\n    display(x)",
      "metadata": {
        "trusted": true
      },
      "outputs": [
        {
          "output_type": "display_data",
          "data": {
            "text/plain": "array([     0.,    600.,      0.,      0.,      0.,      0., 132000.,\n        76000.,    300.,      0.,    200.])"
          },
          "metadata": {}
        },
        {
          "output_type": "display_data",
          "data": {
            "text/plain": "array([     0.,    600.,      0.,      0.,      0.,      0., 132000.,\n        76000.,    300.,      0.,    200.])"
          },
          "metadata": {}
        },
        {
          "output_type": "display_data",
          "data": {
            "text/plain": "array([     0.,    600.,      0.,    300.,      0.,      0., 132000.,\n        76000.,      0.,      0.,    200.])"
          },
          "metadata": {}
        },
        {
          "output_type": "display_data",
          "data": {
            "text/plain": "array([     1.,    600.,      1.,      1.,      0.,      0., 127500.,\n        66000.,      0.,      0.,    200.])"
          },
          "metadata": {}
        }
      ],
      "execution_count": 50
    },
    {
      "cell_type": "markdown",
      "source": "### Estudo dos valores do vetor I nas 4 Únicas Iterações da Fase 2 do Simplex para o Problema em Tela",
      "metadata": {}
    },
    {
      "cell_type": "code",
      "source": "I = list(debug_info['second phase'][f'debug_info_iteration_{i:02d}']['computed I'] for i in range(4))\nfor i in I:\n    display(i)",
      "metadata": {
        "trusted": true
      },
      "outputs": [
        {
          "output_type": "display_data",
          "data": {
            "text/plain": "array([ 0,  5,  6,  7,  8,  1, 10])"
          },
          "metadata": {}
        },
        {
          "output_type": "display_data",
          "data": {
            "text/plain": "array([ 0,  2,  6,  7,  8,  1, 10])"
          },
          "metadata": {}
        },
        {
          "output_type": "display_data",
          "data": {
            "text/plain": "array([ 0,  2,  6,  7,  3,  1, 10])"
          },
          "metadata": {}
        },
        {
          "output_type": "display_data",
          "data": {
            "text/plain": "array([ 0,  2,  6,  7,  3,  1, 10])"
          },
          "metadata": {}
        }
      ],
      "execution_count": 51
    },
    {
      "cell_type": "markdown",
      "source": "## Exercício 3.26",
      "metadata": {}
    },
    {
      "cell_type": "code",
      "source": "C = np.array([2, -2, -1, 1, 0, 0, 0, 0])\nA = np.array([\n    [1,  1,  3, -3, 1, 0, 0, 0],\n    [-2, 2, -1,  1, 0, 1, 0, 0],\n    [2, -2,  3, -3, 0, 0, 1, 0],\n    [3, -3, -2,  2, 0, 0, 0, 1]\n])\nB = np.array([3, 2, 6, 6])\n\nm, n = A.shape\nI = list(range(4,8))\n\nZ_star, x_I, I_star, A_I, A, iterations, solution_type, debug_info = simplex_two_phases(A, B, C, I, debug = True)\n#Z_star, x_star, I_star, iterations, solution_type = simplex(A, b, c, I, debug = True)\nx_star = np.zeros(n)\nx_star[I_star] = x_I\nx_star = {\n    f'x_{i:}': f'{x:.2f}' for i, x in enumerate(x_star)\n}\nresult_repr = f'''\nExercicio 3.26):\n\nZ_star = {Z_star}\nx_star = {str(x_star)}\nI_star = {I_star}\niterations = {iterations + 1}\nsolution_type = {solution_type} - {solution_types[solution_type]}\n'''\nprint(result_repr)",
      "metadata": {
        "trusted": true
      },
      "outputs": [
        {
          "ename": "<class 'NameError'>",
          "evalue": "name 'np' is not defined",
          "traceback": [
            "\u001b[0;31m---------------------------------------------------------------------------\u001b[0m",
            "\u001b[0;31mNameError\u001b[0m                                 Traceback (most recent call last)",
            "Cell \u001b[0;32mIn[16], line 1\u001b[0m\n\u001b[0;32m----> 1\u001b[0m C \u001b[38;5;241m=\u001b[39m \u001b[43mnp\u001b[49m\u001b[38;5;241m.\u001b[39marray([\u001b[38;5;241m2\u001b[39m, \u001b[38;5;241m-\u001b[39m\u001b[38;5;241m2\u001b[39m, \u001b[38;5;241m-\u001b[39m\u001b[38;5;241m1\u001b[39m, \u001b[38;5;241m1\u001b[39m, \u001b[38;5;241m0\u001b[39m, \u001b[38;5;241m0\u001b[39m, \u001b[38;5;241m0\u001b[39m, \u001b[38;5;241m0\u001b[39m])\n\u001b[1;32m      2\u001b[0m A \u001b[38;5;241m=\u001b[39m np\u001b[38;5;241m.\u001b[39marray([\n\u001b[1;32m      3\u001b[0m     [\u001b[38;5;241m1\u001b[39m,  \u001b[38;5;241m1\u001b[39m,  \u001b[38;5;241m3\u001b[39m, \u001b[38;5;241m-\u001b[39m\u001b[38;5;241m3\u001b[39m, \u001b[38;5;241m1\u001b[39m, \u001b[38;5;241m0\u001b[39m, \u001b[38;5;241m0\u001b[39m, \u001b[38;5;241m0\u001b[39m],\n\u001b[1;32m      4\u001b[0m     [\u001b[38;5;241m-\u001b[39m\u001b[38;5;241m2\u001b[39m, \u001b[38;5;241m2\u001b[39m, \u001b[38;5;241m-\u001b[39m\u001b[38;5;241m1\u001b[39m,  \u001b[38;5;241m1\u001b[39m, \u001b[38;5;241m0\u001b[39m, \u001b[38;5;241m1\u001b[39m, \u001b[38;5;241m0\u001b[39m, \u001b[38;5;241m0\u001b[39m],\n\u001b[1;32m      5\u001b[0m     [\u001b[38;5;241m2\u001b[39m, \u001b[38;5;241m-\u001b[39m\u001b[38;5;241m2\u001b[39m,  \u001b[38;5;241m3\u001b[39m, \u001b[38;5;241m-\u001b[39m\u001b[38;5;241m3\u001b[39m, \u001b[38;5;241m0\u001b[39m, \u001b[38;5;241m0\u001b[39m, \u001b[38;5;241m1\u001b[39m, \u001b[38;5;241m0\u001b[39m],\n\u001b[1;32m      6\u001b[0m     [\u001b[38;5;241m3\u001b[39m, \u001b[38;5;241m-\u001b[39m\u001b[38;5;241m3\u001b[39m, \u001b[38;5;241m-\u001b[39m\u001b[38;5;241m2\u001b[39m,  \u001b[38;5;241m2\u001b[39m, \u001b[38;5;241m0\u001b[39m, \u001b[38;5;241m0\u001b[39m, \u001b[38;5;241m0\u001b[39m, \u001b[38;5;241m1\u001b[39m]\n\u001b[1;32m      7\u001b[0m ])\n\u001b[1;32m      8\u001b[0m B \u001b[38;5;241m=\u001b[39m np\u001b[38;5;241m.\u001b[39marray([\u001b[38;5;241m3\u001b[39m, \u001b[38;5;241m2\u001b[39m, \u001b[38;5;241m6\u001b[39m, \u001b[38;5;241m6\u001b[39m])\n",
            "\u001b[0;31mNameError\u001b[0m: name 'np' is not defined"
          ],
          "output_type": "error"
        }
      ],
      "execution_count": 16
    },
    {
      "cell_type": "code",
      "source": "import numpy as np\n\ndef find_t_limits(B, b, a_j):\n    # Calcula B^-1\n    B_inv = np.linalg.inv(B)\n    \n    # Calcula B^-1 * b e B^-1 * a_j\n    B_inv_b = np.dot(B_inv, b)\n    B_inv_a_j = np.dot(B_inv, a_j)\n    \n    # Inicializa os limites\n    t_min = -np.inf\n    t_max = np.inf\n    \n    # Itera pelas componentes das desigualdades\n    for i in range(len(B_inv_b)):\n        if B_inv_a_j[i] > 0:  # Limite superior\n            t_max = min(t_max, B_inv_b[i] / B_inv_a_j[i])\n        elif B_inv_a_j[i] < 0:  # Limite inferior\n            t_min = max(t_min, B_inv_b[i] / B_inv_a_j[i])\n        elif B_inv_a_j[i] == 0:  # Caso especial: t não afeta a viabilidade dessa variável\n            if B_inv_b[i] < 0:\n                # Inviável, sem solução\n                return None, None\n    \n    return t_min, t_max\nt_min, t_max = find_t_limits(\n    np.linalg.inv(A_I), B, A[:,3]\n)\nt_min, t_max",
      "metadata": {
        "trusted": true
      },
      "outputs": [
        {
          "execution_count": 51,
          "output_type": "execute_result",
          "data": {
            "text/plain": "(-0.7857142857142857, -1.1999999999999997)"
          },
          "metadata": {}
        }
      ],
      "execution_count": 51
    },
    {
      "cell_type": "code",
      "source": "%pip install sympy\nfrom sympy import *\nt = symbols('t')\nx_star_deg = Matrix(np.linalg.inv(A_I)) * Matrix(B - t * A[:,3])\nx_star_deg",
      "metadata": {
        "trusted": true
      },
      "outputs": [
        {
          "execution_count": 73,
          "output_type": "execute_result",
          "data": {
            "text/plain": "Matrix([\n[                1.0*t + 0.571428571428572],\n[1.28571428571429 - 5.55111512312578e-17*t],\n[                         6.85714285714286],\n[            11.0 - 4.44089209850063e-16*t]])",
            "text/latex": "$\\displaystyle \\left[\\begin{matrix}1.0 t + 0.571428571428572\\\\1.28571428571429 - 5.55111512312578 \\cdot 10^{-17} t\\\\6.85714285714286\\\\11.0 - 4.44089209850063 \\cdot 10^{-16} t\\end{matrix}\\right]$"
          },
          "metadata": {}
        }
      ],
      "execution_count": 73
    },
    {
      "cell_type": "code",
      "source": "x_star = Matrix(np.zeros(A.shape[1]))",
      "metadata": {
        "trusted": true
      },
      "outputs": [],
      "execution_count": 68
    },
    {
      "cell_type": "code",
      "source": "for _, i in enumerate(I_star):\n    x_star[i] = x_star_deg[_]\nx_star[3] = t\nx_star\nx_1 = np.array(x_star.replace(t, 1e12))\nprint(x_1)\nprint(C)\nC.dot(x_1)",
      "metadata": {
        "trusted": true
      },
      "outputs": [
        {
          "name": "stdout",
          "text": "[[0]\n [1.28565877456305]\n [1000000000000.57]\n [1000000000000.00]\n [0]\n [0]\n [6.85714285714286]\n [10.9995559107901]]\n[ 2 -2 -1  1  0  0  0  0]\n",
          "output_type": "stream"
        },
        {
          "execution_count": 76,
          "output_type": "execute_result",
          "data": {
            "text/plain": "array([-3.14270019531250], dtype=object)"
          },
          "metadata": {}
        }
      ],
      "execution_count": 76
    },
    {
      "cell_type": "code",
      "source": "from IPython.display import display, Markdown\nmarkdown_repr='''\n\n## Iteration 1\n\nPrevious Tableau:\n\n|   |\\\\\\\\(X_0\\\\\\\\) | \\\\\\\\(X_1\\\\\\\\) | \\\\\\\\(X_2\\\\\\\\) | \\\\\\\\(X_3\\\\\\\\) | \\\\\\\\(X_4\\\\\\\\) | \\\\\\\\(X_5\\\\\\\\) | \\\\\\\\(X_6\\\\\\\\) | \\\\\\\\(X_7\\\\\\\\) | RHS |\n|---|---|---|---|---|---|---|---|---|---|\n| Cost | -2.000 | 2.000 | 1.000 | -1.000 | 0.000 | 0.000 | 0.000 | 0.000 | 0.000 |\n| \\\\\\\\(X_4\\\\\\\\) | -1.000 | 1.000 | 3.000 | -3.000 | 1.000 | 0.000 | 0.000 | 0.000 | 3.000 |\n| \\\\\\\\(X_5\\\\\\\\) | -2.000 | 2.000 | -1.000 | 1.000 | 0.000 | 1.000 | 0.000 | 0.000 | 2.000 |\n| \\\\\\\\(X_6\\\\\\\\) | 2.000 | -2.000 | 3.000 | -3.000 | 0.000 | 0.000 | 1.000 | 0.000 | 6.000 |\n| \\\\\\\\(X_7\\\\\\\\) | 3.000 | -3.000 | -2.000 | 2.000 | 0.000 | 0.000 | 0.000 | 1.000 | 6.000 |\n### Pivot Operations\n\nVariable to enter: \\\\\\\\(X_1\\\\\\\\)\nVariable to leave: \\\\\\\\(X_5\\\\\\\\)\n#### Row Operations:\n\n1. \\\\\\\\(R_{X_5} = \\\\frac{R_{X_5}}{2.0}\\\\\\\\)\n1. \\\\\\\\(R_{C} = R_{C} - 2.0R_{X_5}\\\\\\\\)\n2. \\\\\\\\(R_{X_4} = R_{X_4} - 1.0R_{X_5}\\\\\\\\)\n3. \\\\\\\\(R_{X_6} = R_{X_6} + 2.0R_{X_5}\\\\\\\\)\n4. \\\\\\\\(R_{X_7} = R_{X_7} + 3.0R_{X_5}\\\\\\\\)\n\n\nComputed Tableau:\n\n|   |\\\\\\\\(X_0\\\\\\\\) | \\\\\\\\(X_1\\\\\\\\) | \\\\\\\\(X_2\\\\\\\\) | \\\\\\\\(X_3\\\\\\\\) | \\\\\\\\(X_4\\\\\\\\) | \\\\\\\\(X_5\\\\\\\\) | \\\\\\\\(X_6\\\\\\\\) | \\\\\\\\(X_7\\\\\\\\) | RHS |\n|---|---|---|---|---|---|---|---|---|---|\n| Cost | 0.000 | 0.000 | 2.000 | -2.000 | 0.000 | -1.000 | 0.000 | 0.000 | -2.000 |\n| \\\\\\\\(X_4\\\\\\\\) | 0.000 | 0.000 | 3.500 | -3.500 | 1.000 | -0.500 | 0.000 | 0.000 | 2.000 |\n| \\\\\\\\(X_1\\\\\\\\) | -1.000 | 1.000 | -0.500 | 0.500 | 0.000 | 0.500 | 0.000 | 0.000 | 1.000 |\n| \\\\\\\\(X_6\\\\\\\\) | 0.000 | 0.000 | 2.000 | -2.000 | 0.000 | 1.000 | 1.000 | 0.000 | 8.000 |\n| \\\\\\\\(X_7\\\\\\\\) | 0.000 | 0.000 | -3.500 | 3.500 | 0.000 | 1.500 | 0.000 | 1.000 | 9.000 |\n\n\n## Iteration 2\n\nPrevious Tableau:\n\n|   |\\\\\\\\(X_0\\\\\\\\) | \\\\\\\\(X_1\\\\\\\\) | \\\\\\\\(X_2\\\\\\\\) | \\\\\\\\(X_3\\\\\\\\) | \\\\\\\\(X_4\\\\\\\\) | \\\\\\\\(X_5\\\\\\\\) | \\\\\\\\(X_6\\\\\\\\) | \\\\\\\\(X_7\\\\\\\\) | RHS |\n|---|---|---|---|---|---|---|---|---|---|\n| Cost | 0.000 | 0.000 | 2.000 | -2.000 | 0.000 | -1.000 | 0.000 | 0.000 | -2.000 |\n| \\\\\\\\(X_4\\\\\\\\) | 0.000 | 0.000 | 3.500 | -3.500 | 1.000 | -0.500 | 0.000 | 0.000 | 2.000 |\n| \\\\\\\\(X_1\\\\\\\\) | -1.000 | 1.000 | -0.500 | 0.500 | 0.000 | 0.500 | 0.000 | 0.000 | 1.000 |\n| \\\\\\\\(X_6\\\\\\\\) | 0.000 | 0.000 | 2.000 | -2.000 | 0.000 | 1.000 | 1.000 | 0.000 | 8.000 |\n| \\\\\\\\(X_7\\\\\\\\) | 0.000 | 0.000 | -3.500 | 3.500 | 0.000 | 1.500 | 0.000 | 1.000 | 9.000 |\n### Pivot Operations\n\nVariable to enter: \\\\\\\\(X_2\\\\\\\\)\nVariable to leave: \\\\\\\\(X_4\\\\\\\\)\n#### Row Operations:\n\n1. \\\\\\\\(R_{X_4} = \\\\frac{R_{X_4}}{3.5}\\\\\\\\)\n1. \\\\\\\\(R_{C} = R_{C} - 2.0R_{X_4}\\\\\\\\)\n2. \\\\\\\\(R_{X_1} = R_{X_1} + 0.5R_{X_4}\\\\\\\\)\n3. \\\\\\\\(R_{X_6} = R_{X_6} - 2.0R_{X_4}\\\\\\\\)\n4. \\\\\\\\(R_{X_7} = R_{X_7} + 3.5R_{X_4}\\\\\\\\)\n\n\nComputed Tableau:\n\n|   |\\\\\\\\(X_0\\\\\\\\) | \\\\\\\\(X_1\\\\\\\\) | \\\\\\\\(X_2\\\\\\\\) | \\\\\\\\(X_3\\\\\\\\) | \\\\\\\\(X_4\\\\\\\\) | \\\\\\\\(X_5\\\\\\\\) | \\\\\\\\(X_6\\\\\\\\) | \\\\\\\\(X_7\\\\\\\\) | RHS |\n|---|---|---|---|---|---|---|---|---|---|\n| Cost | 0.000 | 0.000 | 0.000 | 0.000 | -0.571 | -0.714 | 0.000 | 0.000 | -3.143 |\n| \\\\\\\\(X_2\\\\\\\\) | 0.000 | 0.000 | 1.000 | -1.000 | 0.286 | -0.143 | 0.000 | 0.000 | 0.571 |\n| \\\\\\\\(X_1\\\\\\\\) | -1.000 | 1.000 | 0.000 | 0.000 | 0.143 | 0.429 | 0.000 | 0.000 | 1.286 |\n| \\\\\\\\(X_6\\\\\\\\) | 0.000 | 0.000 | 0.000 | 0.000 | -0.571 | 1.286 | 1.000 | 0.000 | 6.857 |\n| \\\\\\\\(X_7\\\\\\\\) | 0.000 | 0.000 | 0.000 | 0.000 | 1.000 | 1.000 | 0.000 | 1.000 | 11.000 |\n\n'''\ndisplay(Markdown(markdown_repr))",
      "metadata": {
        "trusted": true
      },
      "outputs": [
        {
          "output_type": "display_data",
          "data": {
            "text/plain": "<IPython.core.display.Markdown object>",
            "text/markdown": "\n\n## Iteration 1\n\nPrevious Tableau:\n\n|   |\\\\(X_0\\\\) | \\\\(X_1\\\\) | \\\\(X_2\\\\) | \\\\(X_3\\\\) | \\\\(X_4\\\\) | \\\\(X_5\\\\) | \\\\(X_6\\\\) | \\\\(X_7\\\\) | RHS |\n|---|---|---|---|---|---|---|---|---|---|\n| Cost | -2.000 | 2.000 | 1.000 | -1.000 | 0.000 | 0.000 | 0.000 | 0.000 | 0.000 |\n| \\\\(X_4\\\\) | -1.000 | 1.000 | 3.000 | -3.000 | 1.000 | 0.000 | 0.000 | 0.000 | 3.000 |\n| \\\\(X_5\\\\) | -2.000 | 2.000 | -1.000 | 1.000 | 0.000 | 1.000 | 0.000 | 0.000 | 2.000 |\n| \\\\(X_6\\\\) | 2.000 | -2.000 | 3.000 | -3.000 | 0.000 | 0.000 | 1.000 | 0.000 | 6.000 |\n| \\\\(X_7\\\\) | 3.000 | -3.000 | -2.000 | 2.000 | 0.000 | 0.000 | 0.000 | 1.000 | 6.000 |\n### Pivot Operations\n\nVariable to enter: \\\\(X_1\\\\)\nVariable to leave: \\\\(X_5\\\\)\n#### Row Operations:\n\n1. \\\\(R_{X_5} = \\frac{R_{X_5}}{2.0}\\\\)\n1. \\\\(R_{C} = R_{C} - 2.0R_{X_5}\\\\)\n2. \\\\(R_{X_4} = R_{X_4} - 1.0R_{X_5}\\\\)\n3. \\\\(R_{X_6} = R_{X_6} + 2.0R_{X_5}\\\\)\n4. \\\\(R_{X_7} = R_{X_7} + 3.0R_{X_5}\\\\)\n\n\nComputed Tableau:\n\n|   |\\\\(X_0\\\\) | \\\\(X_1\\\\) | \\\\(X_2\\\\) | \\\\(X_3\\\\) | \\\\(X_4\\\\) | \\\\(X_5\\\\) | \\\\(X_6\\\\) | \\\\(X_7\\\\) | RHS |\n|---|---|---|---|---|---|---|---|---|---|\n| Cost | 0.000 | 0.000 | 2.000 | -2.000 | 0.000 | -1.000 | 0.000 | 0.000 | -2.000 |\n| \\\\(X_4\\\\) | 0.000 | 0.000 | 3.500 | -3.500 | 1.000 | -0.500 | 0.000 | 0.000 | 2.000 |\n| \\\\(X_1\\\\) | -1.000 | 1.000 | -0.500 | 0.500 | 0.000 | 0.500 | 0.000 | 0.000 | 1.000 |\n| \\\\(X_6\\\\) | 0.000 | 0.000 | 2.000 | -2.000 | 0.000 | 1.000 | 1.000 | 0.000 | 8.000 |\n| \\\\(X_7\\\\) | 0.000 | 0.000 | -3.500 | 3.500 | 0.000 | 1.500 | 0.000 | 1.000 | 9.000 |\n\n\n## Iteration 2\n\nPrevious Tableau:\n\n|   |\\\\(X_0\\\\) | \\\\(X_1\\\\) | \\\\(X_2\\\\) | \\\\(X_3\\\\) | \\\\(X_4\\\\) | \\\\(X_5\\\\) | \\\\(X_6\\\\) | \\\\(X_7\\\\) | RHS |\n|---|---|---|---|---|---|---|---|---|---|\n| Cost | 0.000 | 0.000 | 2.000 | -2.000 | 0.000 | -1.000 | 0.000 | 0.000 | -2.000 |\n| \\\\(X_4\\\\) | 0.000 | 0.000 | 3.500 | -3.500 | 1.000 | -0.500 | 0.000 | 0.000 | 2.000 |\n| \\\\(X_1\\\\) | -1.000 | 1.000 | -0.500 | 0.500 | 0.000 | 0.500 | 0.000 | 0.000 | 1.000 |\n| \\\\(X_6\\\\) | 0.000 | 0.000 | 2.000 | -2.000 | 0.000 | 1.000 | 1.000 | 0.000 | 8.000 |\n| \\\\(X_7\\\\) | 0.000 | 0.000 | -3.500 | 3.500 | 0.000 | 1.500 | 0.000 | 1.000 | 9.000 |\n### Pivot Operations\n\nVariable to enter: \\\\(X_2\\\\)\nVariable to leave: \\\\(X_4\\\\)\n#### Row Operations:\n\n1. \\\\(R_{X_4} = \\frac{R_{X_4}}{3.5}\\\\)\n1. \\\\(R_{C} = R_{C} - 2.0R_{X_4}\\\\)\n2. \\\\(R_{X_1} = R_{X_1} + 0.5R_{X_4}\\\\)\n3. \\\\(R_{X_6} = R_{X_6} - 2.0R_{X_4}\\\\)\n4. \\\\(R_{X_7} = R_{X_7} + 3.5R_{X_4}\\\\)\n\n\nComputed Tableau:\n\n|   |\\\\(X_0\\\\) | \\\\(X_1\\\\) | \\\\(X_2\\\\) | \\\\(X_3\\\\) | \\\\(X_4\\\\) | \\\\(X_5\\\\) | \\\\(X_6\\\\) | \\\\(X_7\\\\) | RHS |\n|---|---|---|---|---|---|---|---|---|---|\n| Cost | 0.000 | 0.000 | 0.000 | 0.000 | -0.571 | -0.714 | 0.000 | 0.000 | -3.143 |\n| \\\\(X_2\\\\) | 0.000 | 0.000 | 1.000 | -1.000 | 0.286 | -0.143 | 0.000 | 0.000 | 0.571 |\n| \\\\(X_1\\\\) | -1.000 | 1.000 | 0.000 | 0.000 | 0.143 | 0.429 | 0.000 | 0.000 | 1.286 |\n| \\\\(X_6\\\\) | 0.000 | 0.000 | 0.000 | 0.000 | -0.571 | 1.286 | 1.000 | 0.000 | 6.857 |\n| \\\\(X_7\\\\) | 0.000 | 0.000 | 0.000 | 0.000 | 1.000 | 1.000 | 0.000 | 1.000 | 11.000 |\n\n"
          },
          "metadata": {}
        }
      ],
      "execution_count": 15
    },
    {
      "cell_type": "code",
      "source": "",
      "metadata": {
        "trusted": true
      },
      "outputs": [],
      "execution_count": null
    }
  ]
}