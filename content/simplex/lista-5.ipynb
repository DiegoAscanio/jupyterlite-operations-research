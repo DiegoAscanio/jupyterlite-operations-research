{
 "cells": [
  {
   "cell_type": "code",
   "execution_count": null,
   "metadata": {},
   "outputs": [],
   "source": [
    "%pip install numpy\n",
    "%pip install sympy\n",
    "%load_ext autoreload\n",
    "%autoreload 2\n",
    "from simplex_two_phases import simplex as simplex_two_phases\n",
    "from simplex_tableau import simplex as simplex_tableau\n",
    "from simplex_tableau import markdown_repr_T\n",
    "from simplex import simplex\n",
    "    \n",
    "import numpy as np\n",
    "from pprint import pprint\n",
    "from IPython.display import Markdown, display\n",
    "\n",
    "solution_types = {\n",
    "    -1: 'Unfeasible',\n",
    "    1: 'Optimal finite solution found',\n",
    "    2: 'Multiple optimal solutions found',\n",
    "    3: 'Unbounded'\n",
    "}"
   ]
  },
  {
   "cell_type": "markdown",
   "metadata": {},
   "source": [
    "# Lista 5\n",
    "## Exercício 3.22"
   ]
  },
  {
   "cell_type": "code",
   "execution_count": null,
   "metadata": {},
   "outputs": [],
   "source": [
    "# Instantiate the data for the default minimization\n",
    "# problem in the form:\n",
    "# z = min C.T @ X\n",
    "# subject to:\n",
    "#     A @ X = B\n",
    "\n",
    "C = np.array([\n",
    "    -3,\n",
    "    -4,\n",
    "    -2.5,\n",
    "    0,\n",
    "    0,\n",
    "    0\n",
    "])\n",
    "\n",
    "A = np.array([\n",
    "    [3, 4, 2, 1, 0, 0],\n",
    "    [2, 1, 2, 0, 1, 0],\n",
    "    [1, 3, 3, 0, 0, 1]\n",
    "])\n",
    "\n",
    "B = np.array([\n",
    "    500,\n",
    "    400,\n",
    "    300\n",
    "])\n",
    "\n",
    "m, n = A.shape\n",
    "I = [3, 4, 5]\n",
    "\n",
    "Z_star, x_I, I_star, A_I, A, iterations, solution_type, debug_info = simplex_two_phases(A, B, C, I, debug = True)\n",
    "#Z_star, x_star, I_star, iterations, solution_type = simplex(A, b, c, I, debug = True)\n",
    "x_star = np.zeros(n)\n",
    "x_star[I_star] = x_I\n",
    "result_repr = f'''\n",
    "Exercicio 3.22):\n",
    "\n",
    "Z_star = {Z_star}\n",
    "x_star = {x_star}\n",
    "I_star = {I_star}\n",
    "iterations = {iterations + 1}\n",
    "solution_type = {solution_type} - {solution_types[solution_type]}\n",
    "'''\n",
    "print(result_repr)\n",
    "display('Simplex Steps:\\n\\n')\n",
    "display(debug_info)"
   ]
  },
  {
   "cell_type": "markdown",
   "metadata": {},
   "source": [
    "## Exercício 3.23"
   ]
  },
  {
   "cell_type": "code",
   "execution_count": null,
   "metadata": {},
   "outputs": [],
   "source": [
    "# Instantiate the data for the default minimization\n",
    "# problem in the form:\n",
    "# z = min C.T @ X\n",
    "# subject to:\n",
    "#     A @ X = B\n",
    "\n",
    "np.set_printoptions(suppress=True)\n",
    "\n",
    "C = np.array([\n",
    "    -1, 0, 0, 0, 0, 0, 0, 0, 0, 0, 0\n",
    "])\n",
    "\n",
    "A = np.array([\n",
    "       [ 1.0e+00,  0.0e+00, -1.0e+00,  0.0e+00,  1.0e+00,  0.0e+00,\n",
    "         0.0e+00,  0.0e+00,  0.0e+00,  0.0e+00,  0.0e+00],\n",
    "       [ 1.0e+00,  0.0e+00,  0.0e+00, -1.0e+00,  0.0e+00,  1.0e+00,\n",
    "         0.0e+00,  0.0e+00,  0.0e+00,  0.0e+00,  0.0e+00],\n",
    "       [ 0.0e+00,  3.0e+01,  4.5e+03,  0.0e+00,  0.0e+00,  0.0e+00,\n",
    "         1.0e+00,  0.0e+00,  0.0e+00,  0.0e+00,  0.0e+00],\n",
    "       [ 0.0e+00,  4.0e+01,  5.0e+03,  5.0e+03,  0.0e+00,  0.0e+00,\n",
    "         0.0e+00,  1.0e+00,  0.0e+00,  0.0e+00,  0.0e+00],\n",
    "       [ 0.0e+00,  5.0e-01,  1.5e+02,  1.5e+02,  0.0e+00,  0.0e+00,\n",
    "         0.0e+00,  0.0e+00,  1.0e+00,  0.0e+00,  0.0e+00],\n",
    "       [ 0.0e+00,  1.0e+00,  0.0e+00,  0.0e+00,  0.0e+00,  0.0e+00,\n",
    "         0.0e+00,  0.0e+00,  0.0e+00, -1.0e+00,  0.0e+00],\n",
    "       [ 0.0e+00,  1.0e+00,  0.0e+00,  0.0e+00,  0.0e+00,  0.0e+00,\n",
    "         0.0e+00,  0.0e+00,  0.0e+00,  0.0e+00,  1.0e+00]\n",
    "])\n",
    "\n",
    "B = np.array([\n",
    "    0,\n",
    "    0,\n",
    "    150e3,\n",
    "    100e3,\n",
    "    600,\n",
    "    600,\n",
    "    800\n",
    "])\n",
    "\n",
    "m, n = A.shape\n",
    "I = list(range(4,11))\n",
    "\n",
    "Z_star, x_I, I_star, A_I, A, iterations, solution_type, debug_info = simplex_two_phases(A, B, C, I, debug = True)\n",
    "#Z_star, x_star, I_star, iterations, solution_type = simplex(A, b, c, I, debug = True)\n",
    "x_star = np.zeros(n)\n",
    "x_star[I_star] = x_I\n",
    "x_star = {\n",
    "    f'x_{i:}': f'{x:.2f}' for i, x in enumerate(x_star)\n",
    "}\n",
    "result_repr = f'''\n",
    "Exercicio 3.23):\n",
    "\n",
    "Z_star = {Z_star}\n",
    "x_star = {str(x_star)}\n",
    "I_star = {I_star}\n",
    "iterations = {iterations + 1}\n",
    "solution_type = {solution_type} - {solution_types[solution_type]}\n",
    "'''\n",
    "print(result_repr)\n",
    "display('Simplex Steps:\\n\\n')\n",
    "display(debug_info)"
   ]
  },
  {
   "cell_type": "markdown",
   "metadata": {},
   "source": [
    "### Estudo dos valores do vetor X nas 2 Únicas Iterações da Fase 1 do Simplex para o Problema em Tela"
   ]
  },
  {
   "cell_type": "code",
   "execution_count": null,
   "metadata": {},
   "outputs": [],
   "source": [
    "X = list(debug_info['first phase']['first_phase_debug_info'][f'debug_info_iteration_{i:02d}']['x'] for i in range(2))\n",
    "for x in X:\n",
    "    display(x)"
   ]
  },
  {
   "cell_type": "markdown",
   "metadata": {},
   "source": [
    "### Estudo dos valores do vetor X nas 4 Únicas Iterações da Fase 2 do Simplex para o Problema em Tela"
   ]
  },
  {
   "cell_type": "code",
   "execution_count": null,
   "metadata": {},
   "outputs": [],
   "source": [
    "X = list(debug_info['second phase'][f'debug_info_iteration_{i:02d}']['x'] for i in range(4))\n",
    "for x in X:\n",
    "    display(x)"
   ]
  },
  {
   "cell_type": "markdown",
   "metadata": {},
   "source": [
    "### Estudo dos valores do vetor I nas 4 Únicas Iterações da Fase 2 do Simplex para o Problema em Tela"
   ]
  },
  {
   "cell_type": "code",
   "execution_count": null,
   "metadata": {},
   "outputs": [],
   "source": [
    "I = list(debug_info['second phase'][f'debug_info_iteration_{i:02d}']['computed I'] for i in range(4))\n",
    "for i in I:\n",
    "    display(i)"
   ]
  },
  {
   "cell_type": "markdown",
   "metadata": {},
   "source": [
    "## Exercício 3.26"
   ]
  },
  {
   "cell_type": "code",
   "execution_count": null,
   "metadata": {},
   "outputs": [],
   "source": [
    "C = np.array([2, -2, -1, 1, 0, 0, 0, 0])\n",
    "A = np.array([\n",
    "    [-1,  1,  3, -3, 1, 0, 0, 0],\n",
    "    [-2, 2, -1,  1, 0, 1, 0, 0],\n",
    "    [2, -2,  3, -3, 0, 0, 1, 0],\n",
    "    [3, -3, -2,  2, 0, 0, 0, 1]\n",
    "])\n",
    "B = np.array([3, 2, 6, 6])\n",
    "\n",
    "m, n = A.shape\n",
    "I = list(range(4,8))\n",
    "\n",
    "solution = simplex_tableau(A, B, C, I)\n",
    "\n",
    "'''\n",
    "    Display solution\n",
    "'''\n",
    "Z_star = solution['Z_star']\n",
    "I_star = solution['I_star']\n",
    "X_star = np.zeros(n)\n",
    "X_star[I_star] = solution['X_star']\n",
    "solution_type = solution_types[\n",
    "    solution['solution_type']\n",
    "]\n",
    "solution_md = f'''\n",
    "## Solution\n",
    "\n",
    "\\\\\\\\(X^{{*}}\\\\\\\\) = {repr(np.round(X_star, 2))}\n",
    "\n",
    "\\\\\\\\(Z^{{*}} = {repr(np.round(Z_star, 5))} \\\\\\\\)\n",
    "\n",
    "\\\\\\\\(\\\\text{{I}}^{{*}}\\\\\\\\) = {repr([\n",
    "    '\\\\(X_' + str(i) + '\\\\)' for i in I_star\n",
    "])}\n",
    "'''\n",
    "display(\n",
    "    Markdown(\n",
    "        solution_md\n",
    "    )\n",
    ")\n",
    "\n",
    "'''\n",
    "    Display Tableaus\n",
    "'''\n",
    "tableau_steps = solution['tableaus']\n",
    "tableau_md = markdown_repr_T(tableau_steps)\n",
    "display(\n",
    "    Markdown(\n",
    "        tableau_md\n",
    "    )\n",
    ")\n"
   ]
  },
  {
   "cell_type": "markdown",
   "metadata": {},
   "source": [
    "## Exercício 3.27"
   ]
  },
  {
   "cell_type": "code",
   "execution_count": 7,
   "metadata": {},
   "outputs": [
    {
     "data": {
      "text/markdown": [
       "\n",
       "## Solution\n",
       "\n",
       "\\\\(X^{*}\\\\) = array([ 0.67,  0.  ,  1.33,  0.  ,  0.  , 12.  ,  0.  ])\n",
       "\n",
       "\\\\(Z^{*} = np.float64(-9.33333) \\\\)\n",
       "\n",
       "\\\\(\\text{I}^{*}\\\\) = ['\\\\(X_0\\\\)', '\\\\(X_2\\\\)', '\\\\(X_5\\\\)']\n"
      ],
      "text/plain": [
       "<IPython.core.display.Markdown object>"
      ]
     },
     "metadata": {},
     "output_type": "display_data"
    },
    {
     "data": {
      "text/markdown": [
       "\n",
       "\n",
       "## Iteration 1\n",
       "\n",
       "Previous Tableau:\n",
       "\n",
       "|   |\\\\(X_0\\\\) | \\\\(X_1\\\\) | \\\\(X_2\\\\) | \\\\(X_3\\\\) | \\\\(X_4\\\\) | \\\\(X_5\\\\) | \\\\(X_6\\\\) | RHS |\n",
       "|---|---|---|---|---|---|---|---|---|\n",
       "| Cost | 0.000 | 0.000 | -16.250 | 0.000 | -4.250 | 2.500 | -2.750 | -1.000 |\n",
       "| \\\\(X_0\\\\) | 1.000 | 0.000 | 4.750 | 0.000 | 0.750 | -0.500 | 1.250 | 1.000 |\n",
       "| \\\\(X_1\\\\) | 0.000 | 1.000 | -2.250 | 0.000 | -0.250 | 0.500 | -0.750 | 3.000 |\n",
       "| \\\\(X_3\\\\) | 0.000 | 0.000 | -3.750 | 1.000 | -0.750 | 0.500 | -0.250 | 1.000 |\n",
       "### Pivot Operations\n",
       "\n",
       "Variable to enter: \\\\(X_5\\\\)\n",
       "Variable to leave: \\\\(X_3\\\\)\n",
       "#### Row Operations:\n",
       "\n",
       "1. \\\\(R_{X_3} = \\frac{R_{X_3}}{0.5}\\\\)\n",
       "1. \\\\(R_{C} = R_{C} - 2.5R_{X_3}\\\\)\n",
       "2. \\\\(R_{X_0} = R_{X_0} + 0.5R_{X_3}\\\\)\n",
       "3. \\\\(R_{X_1} = R_{X_1} - 0.5R_{X_3}\\\\)\n",
       "\n",
       "\n",
       "Computed Tableau:\n",
       "\n",
       "|   |\\\\(X_0\\\\) | \\\\(X_1\\\\) | \\\\(X_2\\\\) | \\\\(X_3\\\\) | \\\\(X_4\\\\) | \\\\(X_5\\\\) | \\\\(X_6\\\\) | RHS |\n",
       "|---|---|---|---|---|---|---|---|---|\n",
       "| Cost | 0.000 | 0.000 | 2.500 | -5.000 | -0.500 | 0.000 | -1.500 | -6.000 |\n",
       "| \\\\(X_0\\\\) | 1.000 | 0.000 | 1.000 | 1.000 | 0.000 | 0.000 | 1.000 | 2.000 |\n",
       "| \\\\(X_1\\\\) | 0.000 | 1.000 | 1.500 | -1.000 | 0.500 | 0.000 | -0.500 | 2.000 |\n",
       "| \\\\(X_5\\\\) | 0.000 | 0.000 | -7.500 | 2.000 | -1.500 | 1.000 | -0.500 | 2.000 |\n",
       "\n",
       "\n",
       "## Iteration 2\n",
       "\n",
       "Previous Tableau:\n",
       "\n",
       "|   |\\\\(X_0\\\\) | \\\\(X_1\\\\) | \\\\(X_2\\\\) | \\\\(X_3\\\\) | \\\\(X_4\\\\) | \\\\(X_5\\\\) | \\\\(X_6\\\\) | RHS |\n",
       "|---|---|---|---|---|---|---|---|---|\n",
       "| Cost | 0.000 | 0.000 | 2.500 | -5.000 | -0.500 | 0.000 | -1.500 | -6.000 |\n",
       "| \\\\(X_0\\\\) | 1.000 | 0.000 | 1.000 | 1.000 | 0.000 | 0.000 | 1.000 | 2.000 |\n",
       "| \\\\(X_1\\\\) | 0.000 | 1.000 | 1.500 | -1.000 | 0.500 | 0.000 | -0.500 | 2.000 |\n",
       "| \\\\(X_5\\\\) | 0.000 | 0.000 | -7.500 | 2.000 | -1.500 | 1.000 | -0.500 | 2.000 |\n",
       "### Pivot Operations\n",
       "\n",
       "Variable to enter: \\\\(X_2\\\\)\n",
       "Variable to leave: \\\\(X_1\\\\)\n",
       "#### Row Operations:\n",
       "\n",
       "1. \\\\(R_{X_1} = \\frac{R_{X_1}}{1.5}\\\\)\n",
       "1. \\\\(R_{C} = R_{C} - 2.5R_{X_1}\\\\)\n",
       "2. \\\\(R_{X_0} = R_{X_0} - 1.0R_{X_1}\\\\)\n",
       "3. \\\\(R_{X_5} = R_{X_5} + 7.5R_{X_1}\\\\)\n",
       "\n",
       "\n",
       "Computed Tableau:\n",
       "\n",
       "|   |\\\\(X_0\\\\) | \\\\(X_1\\\\) | \\\\(X_2\\\\) | \\\\(X_3\\\\) | \\\\(X_4\\\\) | \\\\(X_5\\\\) | \\\\(X_6\\\\) | RHS |\n",
       "|---|---|---|---|---|---|---|---|---|\n",
       "| Cost | 0.000 | -1.667 | 0.000 | -3.333 | -1.333 | 0.000 | -0.667 | -9.333 |\n",
       "| \\\\(X_0\\\\) | 1.000 | -0.667 | 0.000 | 1.667 | -0.333 | 0.000 | 1.333 | 0.667 |\n",
       "| \\\\(X_2\\\\) | 0.000 | 0.667 | 1.000 | -0.667 | 0.333 | 0.000 | -0.333 | 1.333 |\n",
       "| \\\\(X_5\\\\) | 0.000 | 5.000 | 0.000 | -3.000 | 1.000 | 1.000 | -3.000 | 12.000 |\n"
      ],
      "text/plain": [
       "<IPython.core.display.Markdown object>"
      ]
     },
     "metadata": {},
     "output_type": "display_data"
    }
   ],
   "source": [
    "C = np.array([-2, -1, -6, 4, 0, 0, 0])\n",
    "A = np.array([\n",
    "    [1, 2,  4, -1, 1, 0, 0],\n",
    "    [2, 3, -1,  1, 0, 1, 0],\n",
    "    [1, 0,  1,  1, 0, 0, 1]\n",
    "])\n",
    "B = np.array([6, 12, 2])\n",
    "\n",
    "m, n = A.shape\n",
    "I = [0, 1, 3]\n",
    "\n",
    "solution = simplex_tableau(A, B, C, I)\n",
    "\n",
    "'''\n",
    "    Display solution\n",
    "'''\n",
    "Z_star = solution['Z_star']\n",
    "I_star = solution['I_star']\n",
    "X_star = np.zeros(n)\n",
    "X_star[I_star] = solution['X_star']\n",
    "solution_type = solution_types[\n",
    "    solution['solution_type']\n",
    "]\n",
    "solution_md = f'''\n",
    "## Solution\n",
    "\n",
    "\\\\\\\\(X^{{*}}\\\\\\\\) = {repr(np.round(X_star, 2))}\n",
    "\n",
    "\\\\\\\\(Z^{{*}} = {repr(np.round(Z_star, 5))} \\\\\\\\)\n",
    "\n",
    "\\\\\\\\(\\\\text{{I}}^{{*}}\\\\\\\\) = {repr([\n",
    "    '\\\\(X_' + str(i) + '\\\\)' for i in I_star\n",
    "])}\n",
    "'''\n",
    "display(\n",
    "    Markdown(\n",
    "        solution_md\n",
    "    )\n",
    ")\n",
    "\n",
    "'''\n",
    "    Display Tableaus\n",
    "'''\n",
    "tableaus = True\n",
    "if tableaus:\n",
    "    tableau_steps = solution['tableaus']\n",
    "    tableau_md = markdown_repr_T(tableau_steps)\n",
    "    display(\n",
    "        Markdown(\n",
    "            tableau_md\n",
    "        )\n",
    "    )"
   ]
  },
  {
   "cell_type": "code",
   "execution_count": 8,
   "metadata": {},
   "outputs": [
    {
     "data": {
      "text/markdown": [
       "|   |\\\\(X_0\\\\) | \\\\(X_1\\\\) | \\\\(X_2\\\\) | \\\\(X_3\\\\) | \\\\(X_4\\\\) | \\\\(X_5\\\\) | \\\\(X_6\\\\) | RHS |\n",
       "|---|---|---|---|---|---|---|---|---|\n",
       "| Cost | 0.000 | 0.000 | -16.250 | 0.000 | -4.250 | 2.500 | -2.750 | -1.000 |\n",
       "| \\\\(X_4\\\\) | 1.000 | 0.000 | 4.750 | 0.000 | 0.750 | -0.500 | 1.250 | 1.000 |\n",
       "| \\\\(X_5\\\\) | 0.000 | 1.000 | -2.250 | 0.000 | -0.250 | 0.500 | -0.750 | 3.000 |\n",
       "| \\\\(X_6\\\\) | 0.000 | 0.000 | -3.750 | 1.000 | -0.750 | 0.500 | -0.250 | 1.000 |\n"
      ],
      "text/plain": [
       "<IPython.core.display.Markdown object>"
      ]
     },
     "metadata": {},
     "output_type": "display_data"
    },
    {
     "data": {
      "text/markdown": [
       "### Pivot Operations\n",
       "\n",
       "Variable to enter: \\\\(X_0\\\\)\n",
       "Variable to leave: \\\\(X_4\\\\)\n",
       "#### Row Operations:\n",
       "\n",
       "1. \\\\(R_{X_4} = \\frac{R_{X_4}}{1.0}\\\\)\n",
       "1. \\\\(R_{C} = R_{C} - 0.0R_{X_4}\\\\)\n",
       "2. \\\\(R_{X_5} = R_{X_5} - 0.0R_{X_4}\\\\)\n",
       "3. \\\\(R_{X_6} = R_{X_6} - 0.0R_{X_4}\\\\)\n"
      ],
      "text/plain": [
       "<IPython.core.display.Markdown object>"
      ]
     },
     "metadata": {},
     "output_type": "display_data"
    },
    {
     "data": {
      "text/markdown": [
       "|   |\\\\(X_0\\\\) | \\\\(X_1\\\\) | \\\\(X_2\\\\) | \\\\(X_3\\\\) | \\\\(X_4\\\\) | \\\\(X_5\\\\) | \\\\(X_6\\\\) | RHS |\n",
       "|---|---|---|---|---|---|---|---|---|\n",
       "| Cost | 0.000 | 0.000 | -16.250 | 0.000 | -4.250 | 2.500 | -2.750 | -1.000 |\n",
       "| \\\\(X_0\\\\) | 1.000 | 0.000 | 4.750 | 0.000 | 0.750 | -0.500 | 1.250 | 1.000 |\n",
       "| \\\\(X_5\\\\) | 0.000 | 1.000 | -2.250 | 0.000 | -0.250 | 0.500 | -0.750 | 3.000 |\n",
       "| \\\\(X_6\\\\) | 0.000 | 0.000 | -3.750 | 1.000 | -0.750 | 0.500 | -0.250 | 1.000 |\n"
      ],
      "text/plain": [
       "<IPython.core.display.Markdown object>"
      ]
     },
     "metadata": {},
     "output_type": "display_data"
    },
    {
     "data": {
      "text/markdown": [
       "### Pivot Operations\n",
       "\n",
       "Variable to enter: \\\\(X_1\\\\)\n",
       "Variable to leave: \\\\(X_5\\\\)\n",
       "#### Row Operations:\n",
       "\n",
       "1. \\\\(R_{X_5} = \\frac{R_{X_5}}{1.0}\\\\)\n",
       "1. \\\\(R_{C} = R_{C} - 0.0R_{X_5}\\\\)\n",
       "2. \\\\(R_{X_0} = R_{X_0} - 0.0R_{X_5}\\\\)\n",
       "3. \\\\(R_{X_6} = R_{X_6} - 0.0R_{X_5}\\\\)\n"
      ],
      "text/plain": [
       "<IPython.core.display.Markdown object>"
      ]
     },
     "metadata": {},
     "output_type": "display_data"
    },
    {
     "data": {
      "text/markdown": [
       "|   |\\\\(X_0\\\\) | \\\\(X_1\\\\) | \\\\(X_2\\\\) | \\\\(X_3\\\\) | \\\\(X_4\\\\) | \\\\(X_5\\\\) | \\\\(X_6\\\\) | RHS |\n",
       "|---|---|---|---|---|---|---|---|---|\n",
       "| Cost | 0.000 | 0.000 | -16.250 | 0.000 | -4.250 | 2.500 | -2.750 | -1.000 |\n",
       "| \\\\(X_0\\\\) | 1.000 | 0.000 | 4.750 | 0.000 | 0.750 | -0.500 | 1.250 | 1.000 |\n",
       "| \\\\(X_1\\\\) | 0.000 | 1.000 | -2.250 | 0.000 | -0.250 | 0.500 | -0.750 | 3.000 |\n",
       "| \\\\(X_6\\\\) | 0.000 | 0.000 | -3.750 | 1.000 | -0.750 | 0.500 | -0.250 | 1.000 |\n"
      ],
      "text/plain": [
       "<IPython.core.display.Markdown object>"
      ]
     },
     "metadata": {},
     "output_type": "display_data"
    },
    {
     "data": {
      "text/markdown": [
       "### Pivot Operations\n",
       "\n",
       "Variable to enter: \\\\(X_3\\\\)\n",
       "Variable to leave: \\\\(X_6\\\\)\n",
       "#### Row Operations:\n",
       "\n",
       "1. \\\\(R_{X_6} = \\frac{R_{X_6}}{1.0}\\\\)\n",
       "1. \\\\(R_{C} = R_{C} - 0.0R_{X_6}\\\\)\n",
       "2. \\\\(R_{X_0} = R_{X_0} - 0.0R_{X_6}\\\\)\n",
       "3. \\\\(R_{X_1} = R_{X_1} - 0.0R_{X_6}\\\\)\n"
      ],
      "text/plain": [
       "<IPython.core.display.Markdown object>"
      ]
     },
     "metadata": {},
     "output_type": "display_data"
    },
    {
     "data": {
      "text/markdown": [
       "|   |\\\\(X_0\\\\) | \\\\(X_1\\\\) | \\\\(X_2\\\\) | \\\\(X_3\\\\) | \\\\(X_4\\\\) | \\\\(X_5\\\\) | \\\\(X_6\\\\) | RHS |\n",
       "|---|---|---|---|---|---|---|---|---|\n",
       "| Cost | 0.000 | 0.000 | -16.250 | 0.000 | -4.250 | 2.500 | -2.750 | -1.000 |\n",
       "| \\\\(X_0\\\\) | 1.000 | 0.000 | 4.750 | 0.000 | 0.750 | -0.500 | 1.250 | 1.000 |\n",
       "| \\\\(X_1\\\\) | 0.000 | 1.000 | -2.250 | 0.000 | -0.250 | 0.500 | -0.750 | 3.000 |\n",
       "| \\\\(X_3\\\\) | 0.000 | 0.000 | -3.750 | 1.000 | -0.750 | 0.500 | -0.250 | 1.000 |\n"
      ],
      "text/plain": [
       "<IPython.core.display.Markdown object>"
      ]
     },
     "metadata": {},
     "output_type": "display_data"
    }
   ],
   "source": [
    "from simplex_tableau import _apply_pivot, _markdown_pivot_operations, _markdown_T\n",
    "T = np.copy(tableau_steps[0]['previous_T'])\n",
    "I = [4, 5, 6]\n",
    "display(\n",
    "    Markdown(\n",
    "        _markdown_T(T, I)\n",
    "    )\n",
    ")\n",
    "r = 4\n",
    "k = 0\n",
    "T, pivot_operations = _apply_pivot(T, r, k, I)\n",
    "display(\n",
    "    Markdown(\n",
    "        _markdown_pivot_operations(f'X_{k}', f'X_{r}', I, pivot_operations)\n",
    "    )\n",
    ")\n",
    "I = [0, 5, 6]\n",
    "display(\n",
    "    Markdown(\n",
    "        _markdown_T(T, I)\n",
    "    )\n",
    ")\n",
    "r = 5\n",
    "k = 1\n",
    "T, pivot_operations = _apply_pivot(T, r, k, I)\n",
    "display(\n",
    "    Markdown(\n",
    "        _markdown_pivot_operations(f'X_{k}', f'X_{r}', I, pivot_operations)\n",
    "    )\n",
    ")\n",
    "I = [0, 1, 6]\n",
    "display(\n",
    "    Markdown(\n",
    "        _markdown_T(T, I)\n",
    "    )\n",
    ")\n",
    "# tirar x6, colocar x3\n",
    "r = 6\n",
    "k = 3\n",
    "T, pivot_operations = _apply_pivot(T, r, k, I)\n",
    "display(\n",
    "    Markdown(\n",
    "        _markdown_pivot_operations(f'X_{k}', f'X_{r}', I, pivot_operations)\n",
    "    )\n",
    ")\n",
    "I = [0, 1, 3]\n",
    "display(\n",
    "    Markdown(\n",
    "        _markdown_T(T, I)\n",
    "    )\n",
    ")"
   ]
  },
  {
   "cell_type": "markdown",
   "metadata": {},
   "source": [
    "Agora, aplicando o algoritmo a partir desta base"
   ]
  },
  {
   "cell_type": "code",
   "execution_count": 9,
   "metadata": {},
   "outputs": [
    {
     "data": {
      "text/markdown": [
       "\n",
       "## Solution\n",
       "\n",
       "\\\\(X^{*}\\\\) = array([ 0.67,  0.  ,  1.33,  0.  ,  0.  , 12.  ,  0.  ])\n",
       "\n",
       "\\\\(Z^{*} = np.float64(-9.33333) \\\\)\n",
       "\n",
       "\\\\(\\text{I}^{*}\\\\) = ['\\\\(X_0\\\\)', '\\\\(X_2\\\\)', '\\\\(X_5\\\\)']\n"
      ],
      "text/plain": [
       "<IPython.core.display.Markdown object>"
      ]
     },
     "metadata": {},
     "output_type": "display_data"
    },
    {
     "data": {
      "text/markdown": [
       "\n",
       "\n",
       "## Iteration 1\n",
       "\n",
       "Previous Tableau:\n",
       "\n",
       "|   |\\\\(X_0\\\\) | \\\\(X_1\\\\) | \\\\(X_2\\\\) | \\\\(X_3\\\\) | \\\\(X_4\\\\) | \\\\(X_5\\\\) | \\\\(X_6\\\\) | RHS |\n",
       "|---|---|---|---|---|---|---|---|---|\n",
       "| Cost | 0.000 | 0.000 | -16.250 | 0.000 | -4.250 | 2.500 | -2.750 | -1.000 |\n",
       "| \\\\(X_0\\\\) | 1.000 | 0.000 | 4.750 | 0.000 | 0.750 | -0.500 | 1.250 | 1.000 |\n",
       "| \\\\(X_1\\\\) | 0.000 | 1.000 | -2.250 | 0.000 | -0.250 | 0.500 | -0.750 | 3.000 |\n",
       "| \\\\(X_3\\\\) | 0.000 | 0.000 | -3.750 | 1.000 | -0.750 | 0.500 | -0.250 | 1.000 |\n",
       "### Pivot Operations\n",
       "\n",
       "Variable to enter: \\\\(X_5\\\\)\n",
       "Variable to leave: \\\\(X_3\\\\)\n",
       "#### Row Operations:\n",
       "\n",
       "1. \\\\(R_{X_3} = \\frac{R_{X_3}}{0.5}\\\\)\n",
       "1. \\\\(R_{C} = R_{C} - 2.5R_{X_3}\\\\)\n",
       "2. \\\\(R_{X_0} = R_{X_0} + 0.5R_{X_3}\\\\)\n",
       "3. \\\\(R_{X_1} = R_{X_1} - 0.5R_{X_3}\\\\)\n",
       "\n",
       "\n",
       "Computed Tableau:\n",
       "\n",
       "|   |\\\\(X_0\\\\) | \\\\(X_1\\\\) | \\\\(X_2\\\\) | \\\\(X_3\\\\) | \\\\(X_4\\\\) | \\\\(X_5\\\\) | \\\\(X_6\\\\) | RHS |\n",
       "|---|---|---|---|---|---|---|---|---|\n",
       "| Cost | 0.000 | 0.000 | 2.500 | -5.000 | -0.500 | 0.000 | -1.500 | -6.000 |\n",
       "| \\\\(X_0\\\\) | 1.000 | 0.000 | 1.000 | 1.000 | 0.000 | 0.000 | 1.000 | 2.000 |\n",
       "| \\\\(X_1\\\\) | 0.000 | 1.000 | 1.500 | -1.000 | 0.500 | 0.000 | -0.500 | 2.000 |\n",
       "| \\\\(X_5\\\\) | 0.000 | 0.000 | -7.500 | 2.000 | -1.500 | 1.000 | -0.500 | 2.000 |\n",
       "\n",
       "\n",
       "## Iteration 2\n",
       "\n",
       "Previous Tableau:\n",
       "\n",
       "|   |\\\\(X_0\\\\) | \\\\(X_1\\\\) | \\\\(X_2\\\\) | \\\\(X_3\\\\) | \\\\(X_4\\\\) | \\\\(X_5\\\\) | \\\\(X_6\\\\) | RHS |\n",
       "|---|---|---|---|---|---|---|---|---|\n",
       "| Cost | 0.000 | 0.000 | 2.500 | -5.000 | -0.500 | 0.000 | -1.500 | -6.000 |\n",
       "| \\\\(X_0\\\\) | 1.000 | 0.000 | 1.000 | 1.000 | 0.000 | 0.000 | 1.000 | 2.000 |\n",
       "| \\\\(X_1\\\\) | 0.000 | 1.000 | 1.500 | -1.000 | 0.500 | 0.000 | -0.500 | 2.000 |\n",
       "| \\\\(X_5\\\\) | 0.000 | 0.000 | -7.500 | 2.000 | -1.500 | 1.000 | -0.500 | 2.000 |\n",
       "### Pivot Operations\n",
       "\n",
       "Variable to enter: \\\\(X_2\\\\)\n",
       "Variable to leave: \\\\(X_1\\\\)\n",
       "#### Row Operations:\n",
       "\n",
       "1. \\\\(R_{X_1} = \\frac{R_{X_1}}{1.5}\\\\)\n",
       "1. \\\\(R_{C} = R_{C} - 2.5R_{X_1}\\\\)\n",
       "2. \\\\(R_{X_0} = R_{X_0} - 1.0R_{X_1}\\\\)\n",
       "3. \\\\(R_{X_5} = R_{X_5} + 7.5R_{X_1}\\\\)\n",
       "\n",
       "\n",
       "Computed Tableau:\n",
       "\n",
       "|   |\\\\(X_0\\\\) | \\\\(X_1\\\\) | \\\\(X_2\\\\) | \\\\(X_3\\\\) | \\\\(X_4\\\\) | \\\\(X_5\\\\) | \\\\(X_6\\\\) | RHS |\n",
       "|---|---|---|---|---|---|---|---|---|\n",
       "| Cost | 0.000 | -1.667 | 0.000 | -3.333 | -1.333 | 0.000 | -0.667 | -9.333 |\n",
       "| \\\\(X_0\\\\) | 1.000 | -0.667 | 0.000 | 1.667 | -0.333 | 0.000 | 1.333 | 0.667 |\n",
       "| \\\\(X_2\\\\) | 0.000 | 0.667 | 1.000 | -0.667 | 0.333 | 0.000 | -0.333 | 1.333 |\n",
       "| \\\\(X_5\\\\) | 0.000 | 5.000 | 0.000 | -3.000 | 1.000 | 1.000 | -3.000 | 12.000 |\n"
      ],
      "text/plain": [
       "<IPython.core.display.Markdown object>"
      ]
     },
     "metadata": {},
     "output_type": "display_data"
    }
   ],
   "source": [
    "I = [0, 1, 3]\n",
    "\n",
    "'''\n",
    "    Display solution\n",
    "'''\n",
    "Z_star = solution['Z_star']\n",
    "I_star = solution['I_star']\n",
    "X_star = np.zeros(n)\n",
    "X_star[I_star] = solution['X_star']\n",
    "solution_type = solution_types[\n",
    "    solution['solution_type']\n",
    "]\n",
    "solution_md = f'''\n",
    "## Solution\n",
    "\n",
    "\\\\\\\\(X^{{*}}\\\\\\\\) = {repr(np.round(X_star, 2))}\n",
    "\n",
    "\\\\\\\\(Z^{{*}} = {repr(np.round(Z_star, 5))} \\\\\\\\)\n",
    "\n",
    "\\\\\\\\(\\\\text{{I}}^{{*}}\\\\\\\\) = {repr([\n",
    "    '\\\\(X_' + str(i) + '\\\\)' for i in I_star\n",
    "])}\n",
    "'''\n",
    "display(\n",
    "    Markdown(\n",
    "        solution_md\n",
    "    )\n",
    ")\n",
    "\n",
    "'''\n",
    "    Display Tableaus\n",
    "'''\n",
    "tableaus = True\n",
    "if tableaus:\n",
    "    tableau_steps = solution['tableaus']\n",
    "    tableau_md = markdown_repr_T(tableau_steps)\n",
    "    display(\n",
    "        Markdown(\n",
    "            tableau_md\n",
    "        )\n",
    "    )"
   ]
  },
  {
   "cell_type": "markdown",
   "metadata": {},
   "source": [
    "## Exercício 3.28"
   ]
  },
  {
   "cell_type": "code",
   "execution_count": 10,
   "metadata": {},
   "outputs": [
    {
     "data": {
      "text/markdown": [
       "\n",
       "## Solution\n",
       "\n",
       "Solution type: Unbounded\n",
       "\n",
       "\\\\(X^{*}\\\\) = array([ 0.,  5.,  0.,  3., 12.,  0.,  0.])\n",
       "\n",
       "\\\\(Z^{*} = np.float64(-13.0) \\\\)\n",
       "\n",
       "\\\\(\\text{I}^{*}\\\\) = ['\\\\(X_4\\\\)', '\\\\(X_1\\\\)', '\\\\(X_3\\\\)']\n"
      ],
      "text/plain": [
       "<IPython.core.display.Markdown object>"
      ]
     },
     "metadata": {},
     "output_type": "display_data"
    },
    {
     "data": {
      "text/markdown": [
       "\n",
       "\n",
       "## Iteration 1\n",
       "\n",
       "Previous Tableau:\n",
       "\n",
       "|   |\\\\(X_0\\\\) | \\\\(X_1\\\\) | \\\\(X_2\\\\) | \\\\(X_3\\\\) | \\\\(X_4\\\\) | \\\\(X_5\\\\) | \\\\(X_6\\\\) | RHS |\n",
       "|---|---|---|---|---|---|---|---|---|\n",
       "| Cost | -3.000 | 2.000 | -1.000 | 1.000 | 0.000 | 0.000 | 0.000 | 0.000 |\n",
       "| \\\\(X_4\\\\) | 2.000 | -3.000 | -1.000 | 1.000 | 1.000 | 0.000 | 0.000 | 0.000 |\n",
       "| \\\\(X_5\\\\) | -1.000 | 2.000 | 2.000 | -3.000 | 0.000 | 1.000 | 0.000 | 1.000 |\n",
       "| \\\\(X_6\\\\) | -1.000 | 1.000 | -4.000 | 1.000 | 0.000 | 0.000 | 1.000 | 8.000 |\n",
       "### Pivot Operations\n",
       "\n",
       "Variable to enter: \\\\(X_1\\\\)\n",
       "Variable to leave: \\\\(X_5\\\\)\n",
       "#### Row Operations:\n",
       "\n",
       "1. \\\\(R_{X_5} = \\frac{R_{X_5}}{2.0}\\\\)\n",
       "1. \\\\(R_{C} = R_{C} - 2.0R_{X_5}\\\\)\n",
       "2. \\\\(R_{X_4} = R_{X_4} + 3.0R_{X_5}\\\\)\n",
       "3. \\\\(R_{X_6} = R_{X_6} - 1.0R_{X_5}\\\\)\n",
       "\n",
       "\n",
       "Computed Tableau:\n",
       "\n",
       "|   |\\\\(X_0\\\\) | \\\\(X_1\\\\) | \\\\(X_2\\\\) | \\\\(X_3\\\\) | \\\\(X_4\\\\) | \\\\(X_5\\\\) | \\\\(X_6\\\\) | RHS |\n",
       "|---|---|---|---|---|---|---|---|---|\n",
       "| Cost | -2.000 | 0.000 | -3.000 | 4.000 | 0.000 | -1.000 | 0.000 | -1.000 |\n",
       "| \\\\(X_4\\\\) | 0.500 | 0.000 | 2.000 | -3.500 | 1.000 | 1.500 | 0.000 | 1.500 |\n",
       "| \\\\(X_1\\\\) | -0.500 | 1.000 | 1.000 | -1.500 | 0.000 | 0.500 | 0.000 | 0.500 |\n",
       "| \\\\(X_6\\\\) | -0.500 | 0.000 | -5.000 | 2.500 | 0.000 | -0.500 | 1.000 | 7.500 |\n",
       "\n",
       "\n",
       "## Iteration 2\n",
       "\n",
       "Previous Tableau:\n",
       "\n",
       "|   |\\\\(X_0\\\\) | \\\\(X_1\\\\) | \\\\(X_2\\\\) | \\\\(X_3\\\\) | \\\\(X_4\\\\) | \\\\(X_5\\\\) | \\\\(X_6\\\\) | RHS |\n",
       "|---|---|---|---|---|---|---|---|---|\n",
       "| Cost | -2.000 | 0.000 | -3.000 | 4.000 | 0.000 | -1.000 | 0.000 | -1.000 |\n",
       "| \\\\(X_4\\\\) | 0.500 | 0.000 | 2.000 | -3.500 | 1.000 | 1.500 | 0.000 | 1.500 |\n",
       "| \\\\(X_1\\\\) | -0.500 | 1.000 | 1.000 | -1.500 | 0.000 | 0.500 | 0.000 | 0.500 |\n",
       "| \\\\(X_6\\\\) | -0.500 | 0.000 | -5.000 | 2.500 | 0.000 | -0.500 | 1.000 | 7.500 |\n",
       "### Pivot Operations\n",
       "\n",
       "Variable to enter: \\\\(X_3\\\\)\n",
       "Variable to leave: \\\\(X_6\\\\)\n",
       "#### Row Operations:\n",
       "\n",
       "1. \\\\(R_{X_6} = \\frac{R_{X_6}}{2.5}\\\\)\n",
       "1. \\\\(R_{C} = R_{C} - 4.0R_{X_6}\\\\)\n",
       "2. \\\\(R_{X_4} = R_{X_4} + 3.5R_{X_6}\\\\)\n",
       "3. \\\\(R_{X_1} = R_{X_1} + 1.5R_{X_6}\\\\)\n",
       "\n",
       "\n",
       "Computed Tableau:\n",
       "\n",
       "|   |\\\\(X_0\\\\) | \\\\(X_1\\\\) | \\\\(X_2\\\\) | \\\\(X_3\\\\) | \\\\(X_4\\\\) | \\\\(X_5\\\\) | \\\\(X_6\\\\) | RHS |\n",
       "|---|---|---|---|---|---|---|---|---|\n",
       "| Cost | -1.200 | 0.000 | 5.000 | 0.000 | 0.000 | -0.200 | -1.600 | -13.000 |\n",
       "| \\\\(X_4\\\\) | -0.200 | 0.000 | -5.000 | 0.000 | 1.000 | 0.800 | 1.400 | 12.000 |\n",
       "| \\\\(X_1\\\\) | -0.800 | 1.000 | -2.000 | 0.000 | 0.000 | 0.200 | 0.600 | 5.000 |\n",
       "| \\\\(X_3\\\\) | -0.200 | 0.000 | -2.000 | 1.000 | 0.000 | -0.200 | 0.400 | 3.000 |\n"
      ],
      "text/plain": [
       "<IPython.core.display.Markdown object>"
      ]
     },
     "metadata": {},
     "output_type": "display_data"
    }
   ],
   "source": [
    "C = np.array([3, -2, 1, -1, 0, 0, 0])\n",
    "A = np.array([\n",
    "    [ 2, -3, -1,  1, 1, 0, 0],\n",
    "    [-1,  2,  2, -3, 0, 1, 0],\n",
    "    [-1,  1, -4,  1, 0, 0, 1]\n",
    "])\n",
    "B = np.array([0, 1, 8])\n",
    "\n",
    "m, n = A.shape\n",
    "I = [4, 5, 6]\n",
    "\n",
    "solution = simplex_tableau(A, B, C, I)\n",
    "\n",
    "'''\n",
    "    Display solution\n",
    "'''\n",
    "Z_star = solution['Z_star']\n",
    "I_star = solution['I_star']\n",
    "X_star = np.zeros(n)\n",
    "X_star[I_star] = solution['X_star']\n",
    "solution_type = solution_types[\n",
    "    solution['solution_type']\n",
    "]\n",
    "solution_md = f'''\n",
    "## Solution\n",
    "\n",
    "Solution type: {solution_type}\n",
    "\n",
    "\\\\\\\\(X^{{*}}\\\\\\\\) = {repr(np.round(X_star, 2))}\n",
    "\n",
    "\\\\\\\\(Z^{{*}} = {repr(np.round(Z_star, 5))} \\\\\\\\)\n",
    "\n",
    "\\\\\\\\(\\\\text{{I}}^{{*}}\\\\\\\\) = {repr([\n",
    "    '\\\\(X_' + str(i) + '\\\\)' for i in I_star\n",
    "])}\n",
    "'''\n",
    "display(\n",
    "    Markdown(\n",
    "        solution_md\n",
    "    )\n",
    ")\n",
    "\n",
    "'''\n",
    "    Display Tableaus\n",
    "'''\n",
    "tableaus = True\n",
    "if tableaus:\n",
    "    tableau_steps = solution['tableaus']\n",
    "    tableau_md = markdown_repr_T(tableau_steps)\n",
    "    display(\n",
    "        Markdown(\n",
    "            tableau_md\n",
    "        )\n",
    "    )"
   ]
  }
 ],
 "metadata": {
  "kernelspec": {
   "display_name": "Python 3 (ipykernel)",
   "language": "python",
   "name": "python3"
  },
  "language_info": {
   "codemirror_mode": {
    "name": "ipython",
    "version": 3
   },
   "file_extension": ".py",
   "mimetype": "text/x-python",
   "name": "python",
   "nbconvert_exporter": "python",
   "pygments_lexer": "ipython3",
   "version": "3.12.7"
  }
 },
 "nbformat": 4,
 "nbformat_minor": 4
}
