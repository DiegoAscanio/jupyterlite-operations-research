{
  "metadata": {
    "kernelspec": {
      "name": "python",
      "display_name": "Python (Pyodide)",
      "language": "python"
    },
    "language_info": {
      "codemirror_mode": {
        "name": "python",
        "version": 3
      },
      "file_extension": ".py",
      "mimetype": "text/x-python",
      "name": "python",
      "nbconvert_exporter": "python",
      "pygments_lexer": "ipython3",
      "version": "3.8"
    }
  },
  "nbformat_minor": 4,
  "nbformat": 4,
  "cells": [
    {
      "cell_type": "code",
      "source": "%pip install numpy\n%pip install sympy\n%load_ext autoreload\n%autoreload 2\nfrom simplex_two_phases import simplex as simplex_two_phases\nfrom simplex_tableau import simplex as simplex_tableau\nfrom simplex_tableau import markdown_repr_T\nfrom simplex import simplex\n    \nimport numpy as np\nfrom pprint import pprint\nfrom IPython.display import Markdown, display\n\nsolution_types = {\n    -1: 'Unfeasible',\n    1: 'Optimal finite solution found',\n    2: 'Multiple optimal solutions found',\n    3: 'Unbounded'\n}",
      "metadata": {
        "trusted": true
      },
      "outputs": [
        {
          "name": "stdout",
          "text": "The autoreload extension is already loaded. To reload it, use:\n  %reload_ext autoreload\n",
          "output_type": "stream"
        }
      ],
      "execution_count": 2
    },
    {
      "cell_type": "markdown",
      "source": "# Lista 5\n## Exercício 3.22",
      "metadata": {}
    },
    {
      "cell_type": "code",
      "source": "# Instantiate the data for the default minimization\n# problem in the form:\n# z = min C.T @ X\n# subject to:\n#     A @ X = B\n\nC = np.array([\n    -3,\n    -4,\n    -2.5,\n    0,\n    0,\n    0\n])\n\nA = np.array([\n    [3, 4, 2, 1, 0, 0],\n    [2, 1, 2, 0, 1, 0],\n    [1, 3, 3, 0, 0, 1]\n])\n\nB = np.array([\n    500,\n    400,\n    300\n])\n\nm, n = A.shape\nI = [3, 4, 5]\n\nZ_star, x_I, I_star, A_I, A, iterations, solution_type, debug_info = simplex_two_phases(A, B, C, I, debug = True)\n#Z_star, x_star, I_star, iterations, solution_type = simplex(A, b, c, I, debug = True)\nx_star = np.zeros(n)\nx_star[I_star] = x_I\nresult_repr = f'''\nExercicio 3.22):\n\nZ_star = {Z_star}\nx_star = {x_star}\nI_star = {I_star}\niterations = {iterations + 1}\nsolution_type = {solution_type} - {solution_types[solution_type]}\n'''\nprint(result_repr)\ndisplay('Simplex Steps:\\n\\n')\ndisplay(debug_info)",
      "metadata": {
        "trusted": true
      },
      "outputs": [],
      "execution_count": null
    },
    {
      "cell_type": "markdown",
      "source": "## Exercício 3.23",
      "metadata": {}
    },
    {
      "cell_type": "code",
      "source": "# Instantiate the data for the default minimization\n# problem in the form:\n# z = min C.T @ X\n# subject to:\n#     A @ X = B\n\nnp.set_printoptions(suppress=True)\n\nC = np.array([\n    -1, 0, 0, 0, 0, 0, 0, 0, 0, 0, 0\n])\n\nA = np.array([\n       [ 1.0e+00,  0.0e+00, -1.0e+00,  0.0e+00,  1.0e+00,  0.0e+00,\n         0.0e+00,  0.0e+00,  0.0e+00,  0.0e+00,  0.0e+00],\n       [ 1.0e+00,  0.0e+00,  0.0e+00, -1.0e+00,  0.0e+00,  1.0e+00,\n         0.0e+00,  0.0e+00,  0.0e+00,  0.0e+00,  0.0e+00],\n       [ 0.0e+00,  3.0e+01,  4.5e+03,  0.0e+00,  0.0e+00,  0.0e+00,\n         1.0e+00,  0.0e+00,  0.0e+00,  0.0e+00,  0.0e+00],\n       [ 0.0e+00,  4.0e+01,  5.0e+03,  5.0e+03,  0.0e+00,  0.0e+00,\n         0.0e+00,  1.0e+00,  0.0e+00,  0.0e+00,  0.0e+00],\n       [ 0.0e+00,  5.0e-01,  1.5e+02,  1.5e+02,  0.0e+00,  0.0e+00,\n         0.0e+00,  0.0e+00,  1.0e+00,  0.0e+00,  0.0e+00],\n       [ 0.0e+00,  1.0e+00,  0.0e+00,  0.0e+00,  0.0e+00,  0.0e+00,\n         0.0e+00,  0.0e+00,  0.0e+00, -1.0e+00,  0.0e+00],\n       [ 0.0e+00,  1.0e+00,  0.0e+00,  0.0e+00,  0.0e+00,  0.0e+00,\n         0.0e+00,  0.0e+00,  0.0e+00,  0.0e+00,  1.0e+00]\n])\n\nB = np.array([\n    0,\n    0,\n    150e3,\n    100e3,\n    600,\n    600,\n    800\n])\n\nm, n = A.shape\nI = list(range(4,11))\n\nZ_star, x_I, I_star, A_I, A, iterations, solution_type, debug_info = simplex_two_phases(A, B, C, I, debug = True)\n#Z_star, x_star, I_star, iterations, solution_type = simplex(A, b, c, I, debug = True)\nx_star = np.zeros(n)\nx_star[I_star] = x_I\nx_star = {\n    f'x_{i:}': f'{x:.2f}' for i, x in enumerate(x_star)\n}\nresult_repr = f'''\nExercicio 3.23):\n\nZ_star = {Z_star}\nx_star = {str(x_star)}\nI_star = {I_star}\niterations = {iterations + 1}\nsolution_type = {solution_type} - {solution_types[solution_type]}\n'''\nprint(result_repr)\ndisplay('Simplex Steps:\\n\\n')\ndisplay(debug_info)",
      "metadata": {
        "trusted": true
      },
      "outputs": [],
      "execution_count": null
    },
    {
      "cell_type": "markdown",
      "source": "### Estudo dos valores do vetor X nas 2 Únicas Iterações da Fase 1 do Simplex para o Problema em Tela",
      "metadata": {}
    },
    {
      "cell_type": "code",
      "source": "X = list(debug_info['first phase']['first_phase_debug_info'][f'debug_info_iteration_{i:02d}']['x'] for i in range(2))\nfor x in X:\n    display(x)",
      "metadata": {
        "trusted": true
      },
      "outputs": [],
      "execution_count": null
    },
    {
      "cell_type": "markdown",
      "source": "### Estudo dos valores do vetor X nas 4 Únicas Iterações da Fase 2 do Simplex para o Problema em Tela",
      "metadata": {}
    },
    {
      "cell_type": "code",
      "source": "X = list(debug_info['second phase'][f'debug_info_iteration_{i:02d}']['x'] for i in range(4))\nfor x in X:\n    display(x)",
      "metadata": {
        "trusted": true
      },
      "outputs": [],
      "execution_count": null
    },
    {
      "cell_type": "markdown",
      "source": "### Estudo dos valores do vetor I nas 4 Únicas Iterações da Fase 2 do Simplex para o Problema em Tela",
      "metadata": {}
    },
    {
      "cell_type": "code",
      "source": "I = list(debug_info['second phase'][f'debug_info_iteration_{i:02d}']['computed I'] for i in range(4))\nfor i in I:\n    display(i)",
      "metadata": {
        "trusted": true
      },
      "outputs": [],
      "execution_count": null
    },
    {
      "cell_type": "markdown",
      "source": "## Exercício 3.26",
      "metadata": {}
    },
    {
      "cell_type": "code",
      "source": "C = np.array([2, -2, -1, 1, 0, 0, 0, 0])\nA = np.array([\n    [-1,  1,  3, -3, 1, 0, 0, 0],\n    [-2, 2, -1,  1, 0, 1, 0, 0],\n    [2, -2,  3, -3, 0, 0, 1, 0],\n    [3, -3, -2,  2, 0, 0, 0, 1]\n])\nB = np.array([3, 2, 6, 6])\n\nm, n = A.shape\nI = list(range(4,8))\n\nsolution = simplex_tableau(A, B, C, I)\n\n'''\n    Display solution\n'''\nZ_star = solution['Z_star']\nI_star = solution['I_star']\nX_star = np.zeros(n)\nX_star[I_star] = solution['X_star']\nsolution_type = solution_types[\n    solution['solution_type']\n]\nsolution_md = f'''\n## Solution\n\n\\\\\\\\(X^{{*}}\\\\\\\\) = {repr(np.round(X_star, 2))}\n\n\\\\\\\\(Z^{{*}} = {repr(np.round(Z_star, 5))} \\\\\\\\)\n\n\\\\\\\\(\\\\text{{I}}^{{*}}\\\\\\\\) = {repr([\n    '\\\\(X_' + str(i) + '\\\\)' for i in I_star\n])}\n'''\ndisplay(\n    Markdown(\n        solution_md\n    )\n)\n\n'''\n    Display Tableaus\n'''\ntableau_steps = solution['tableaus']\ntableau_md = markdown_repr_T(tableau_steps)\ndisplay(\n    Markdown(\n        tableau_md\n    )\n)\n",
      "metadata": {
        "trusted": true
      },
      "outputs": [
        {
          "output_type": "display_data",
          "data": {
            "text/plain": "<IPython.core.display.Markdown object>",
            "text/markdown": "\n## Solution\n\n\\\\(X^{*}\\\\) = array([ 0.  ,  1.29,  0.57,  0.  ,  0.  ,  0.  ,  6.86, 11.  ])\n\n\\\\(Z^{*} = -3.14286 \\\\)\n\n\\\\(\\text{I}^{*}\\\\) = ['\\\\(X_2\\\\)', '\\\\(X_1\\\\)', '\\\\(X_6\\\\)', '\\\\(X_7\\\\)']\n"
          },
          "metadata": {}
        },
        {
          "output_type": "display_data",
          "data": {
            "text/plain": "<IPython.core.display.Markdown object>",
            "text/markdown": "\n\n## Iteration 1\n\nPrevious Tableau:\n\n|   |\\\\(X_0\\\\) | \\\\(X_1\\\\) | \\\\(X_2\\\\) | \\\\(X_3\\\\) | \\\\(X_4\\\\) | \\\\(X_5\\\\) | \\\\(X_6\\\\) | \\\\(X_7\\\\) | RHS |\n|---|---|---|---|---|---|---|---|---|---|\n| Cost | -2.000 | 2.000 | 1.000 | -1.000 | 0.000 | 0.000 | 0.000 | 0.000 | 0.000 |\n| \\\\(X_4\\\\) | -1.000 | 1.000 | 3.000 | -3.000 | 1.000 | 0.000 | 0.000 | 0.000 | 3.000 |\n| \\\\(X_5\\\\) | -2.000 | 2.000 | -1.000 | 1.000 | 0.000 | 1.000 | 0.000 | 0.000 | 2.000 |\n| \\\\(X_6\\\\) | 2.000 | -2.000 | 3.000 | -3.000 | 0.000 | 0.000 | 1.000 | 0.000 | 6.000 |\n| \\\\(X_7\\\\) | 3.000 | -3.000 | -2.000 | 2.000 | 0.000 | 0.000 | 0.000 | 1.000 | 6.000 |\n### Pivot Operations\n\nVariable to enter: \\\\(X_1\\\\)\nVariable to leave: \\\\(X_5\\\\)\n#### Row Operations:\n\n1. \\\\(R_{X_5} = \\frac{R_{X_5}}{2.0}\\\\)\n1. \\\\(R_{C} = R_{C} - 2.0R_{X_5}\\\\)\n2. \\\\(R_{X_4} = R_{X_4} - 1.0R_{X_5}\\\\)\n3. \\\\(R_{X_6} = R_{X_6} + 2.0R_{X_5}\\\\)\n4. \\\\(R_{X_7} = R_{X_7} + 3.0R_{X_5}\\\\)\n\n\nComputed Tableau:\n\n|   |\\\\(X_0\\\\) | \\\\(X_1\\\\) | \\\\(X_2\\\\) | \\\\(X_3\\\\) | \\\\(X_4\\\\) | \\\\(X_5\\\\) | \\\\(X_6\\\\) | \\\\(X_7\\\\) | RHS |\n|---|---|---|---|---|---|---|---|---|---|\n| Cost | 0.000 | 0.000 | 2.000 | -2.000 | 0.000 | -1.000 | 0.000 | 0.000 | -2.000 |\n| \\\\(X_4\\\\) | 0.000 | 0.000 | 3.500 | -3.500 | 1.000 | -0.500 | 0.000 | 0.000 | 2.000 |\n| \\\\(X_1\\\\) | -1.000 | 1.000 | -0.500 | 0.500 | 0.000 | 0.500 | 0.000 | 0.000 | 1.000 |\n| \\\\(X_6\\\\) | 0.000 | 0.000 | 2.000 | -2.000 | 0.000 | 1.000 | 1.000 | 0.000 | 8.000 |\n| \\\\(X_7\\\\) | 0.000 | 0.000 | -3.500 | 3.500 | 0.000 | 1.500 | 0.000 | 1.000 | 9.000 |\n\n\n## Iteration 2\n\nPrevious Tableau:\n\n|   |\\\\(X_0\\\\) | \\\\(X_1\\\\) | \\\\(X_2\\\\) | \\\\(X_3\\\\) | \\\\(X_4\\\\) | \\\\(X_5\\\\) | \\\\(X_6\\\\) | \\\\(X_7\\\\) | RHS |\n|---|---|---|---|---|---|---|---|---|---|\n| Cost | 0.000 | 0.000 | 2.000 | -2.000 | 0.000 | -1.000 | 0.000 | 0.000 | -2.000 |\n| \\\\(X_4\\\\) | 0.000 | 0.000 | 3.500 | -3.500 | 1.000 | -0.500 | 0.000 | 0.000 | 2.000 |\n| \\\\(X_1\\\\) | -1.000 | 1.000 | -0.500 | 0.500 | 0.000 | 0.500 | 0.000 | 0.000 | 1.000 |\n| \\\\(X_6\\\\) | 0.000 | 0.000 | 2.000 | -2.000 | 0.000 | 1.000 | 1.000 | 0.000 | 8.000 |\n| \\\\(X_7\\\\) | 0.000 | 0.000 | -3.500 | 3.500 | 0.000 | 1.500 | 0.000 | 1.000 | 9.000 |\n### Pivot Operations\n\nVariable to enter: \\\\(X_2\\\\)\nVariable to leave: \\\\(X_4\\\\)\n#### Row Operations:\n\n1. \\\\(R_{X_4} = \\frac{R_{X_4}}{3.5}\\\\)\n1. \\\\(R_{C} = R_{C} - 2.0R_{X_4}\\\\)\n2. \\\\(R_{X_1} = R_{X_1} + 0.5R_{X_4}\\\\)\n3. \\\\(R_{X_6} = R_{X_6} - 2.0R_{X_4}\\\\)\n4. \\\\(R_{X_7} = R_{X_7} + 3.5R_{X_4}\\\\)\n\n\nComputed Tableau:\n\n|   |\\\\(X_0\\\\) | \\\\(X_1\\\\) | \\\\(X_2\\\\) | \\\\(X_3\\\\) | \\\\(X_4\\\\) | \\\\(X_5\\\\) | \\\\(X_6\\\\) | \\\\(X_7\\\\) | RHS |\n|---|---|---|---|---|---|---|---|---|---|\n| Cost | 0.000 | 0.000 | 0.000 | 0.000 | -0.571 | -0.714 | 0.000 | 0.000 | -3.143 |\n| \\\\(X_2\\\\) | 0.000 | 0.000 | 1.000 | -1.000 | 0.286 | -0.143 | 0.000 | 0.000 | 0.571 |\n| \\\\(X_1\\\\) | -1.000 | 1.000 | 0.000 | 0.000 | 0.143 | 0.429 | 0.000 | 0.000 | 1.286 |\n| \\\\(X_6\\\\) | 0.000 | 0.000 | 0.000 | 0.000 | -0.571 | 1.286 | 1.000 | 0.000 | 6.857 |\n| \\\\(X_7\\\\) | 0.000 | 0.000 | 0.000 | 0.000 | 1.000 | 1.000 | 0.000 | 1.000 | 11.000 |\n"
          },
          "metadata": {}
        }
      ],
      "execution_count": 31
    },
    {
      "cell_type": "code",
      "source": "",
      "metadata": {
        "trusted": true
      },
      "outputs": [],
      "execution_count": null
    }
  ]
}