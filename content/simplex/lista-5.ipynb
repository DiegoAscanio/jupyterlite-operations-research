{
  "metadata": {
    "kernelspec": {
      "name": "python",
      "display_name": "Python (Pyodide)",
      "language": "python"
    },
    "language_info": {
      "codemirror_mode": {
        "name": "python",
        "version": 3
      },
      "file_extension": ".py",
      "mimetype": "text/x-python",
      "name": "python",
      "nbconvert_exporter": "python",
      "pygments_lexer": "ipython3",
      "version": "3.8"
    }
  },
  "nbformat_minor": 4,
  "nbformat": 4,
  "cells": [
    {
      "cell_type": "code",
      "source": "%pip install numpy\n%pip install sympy\n%pip install scipy\n%load_ext autoreload\n%autoreload 2\nfrom simplex_two_phases import simplex as simplex_two_phases\nfrom simplex_tableau import simplex as simplex_tableau\nfrom simplex_tableau import markdown_repr_T\nfrom simplex import simplex\n\n    \nimport numpy as np\nfrom pprint import pprint\nfrom IPython.display import Markdown, display\nfrom itertools import combinations\nfrom sympy import symbols, Matrix, solve\nfrom scipy.optimize import linprog\n\n\nsolution_types = {\n    -1: 'Unfeasible',\n    1: 'Optimal finite solution found',\n    2: 'Multiple optimal solutions found',\n    3: 'Unbounded'\n}",
      "metadata": {
        "trusted": true
      },
      "outputs": [
        {
          "name": "stdout",
          "text": "The autoreload extension is already loaded. To reload it, use:\n  %reload_ext autoreload\n",
          "output_type": "stream"
        }
      ],
      "execution_count": 2
    },
    {
      "cell_type": "markdown",
      "source": "# Lista 5\n## Exercício 3.22",
      "metadata": {}
    },
    {
      "cell_type": "code",
      "source": "# Instantiate the data for the default minimization\n# problem in the form:\n# z = min C.T @ X\n# subject to:\n#     A @ X = B\n\nC = np.array([\n    -3,\n    -4,\n    -2.5,\n    0,\n    0,\n    0\n])\n\nA = np.array([\n    [3, 4, 2, 1, 0, 0],\n    [2, 1, 2, 0, 1, 0],\n    [1, 3, 3, 0, 0, 1]\n])\n\nB = np.array([\n    500,\n    400,\n    300\n])\n\nm, n = A.shape\nI = [3, 4, 5]\n\nZ_star, x_I, I_star, A_I, A, iterations, solution_type, debug_info = simplex_two_phases(A, B, C, I, debug = True)\n#Z_star, x_star, I_star, iterations, solution_type = simplex(A, b, c, I, debug = True)\nx_star = np.zeros(n)\nx_star[I_star] = x_I\nresult_repr = f'''\nExercicio 3.22):\n\nZ_star = {Z_star}\nx_star = {x_star}\nI_star = {I_star}\niterations = {iterations + 1}\nsolution_type = {solution_type} - {solution_types[solution_type]}\n'''\nprint(result_repr)\ndisplay('Simplex Steps:\\n\\n')\ndisplay(debug_info)",
      "metadata": {
        "trusted": true
      },
      "outputs": [
        {
          "name": "stdout",
          "text": "\nExercicio 3.22):\n\nZ_star = -528.5714285714286\nx_star = [128.57142857   0.          57.14285714   0.          28.57142857\n   0.        ]\nI_star = [0 4 2]\niterations = 4\nsolution_type = 1 - Optimal finite solution found\n\n",
          "output_type": "stream"
        },
        {
          "output_type": "display_data",
          "data": {
            "text/plain": "'Simplex Steps:\\n\\n'"
          },
          "metadata": {}
        },
        {
          "output_type": "display_data",
          "data": {
            "text/plain": "{'second phase': {'title': 'Simplex method with feasible initial basis for granted',\n  'debug_info_iteration_00': {'A_I': array([[1, 0, 0],\n          [0, 1, 0],\n          [0, 0, 1]]),\n   'A_I_inv': array([[1., 0., 0.],\n          [0., 1., 0.],\n          [0., 0., 1.]]),\n   'J': [0, 5, 2],\n   'A_J': array([[3, 4, 2],\n          [2, 1, 2],\n          [1, 3, 3]]),\n   'x_I': array([500., 400., 300.]),\n   'x': array([  0., 300.,   0., 500., 400.,   0.]),\n   'π': array([0., 0., 0.]),\n   'z_0': 0.0,\n   'c_hat_J': array([3. , 4. , 2.5]),\n   'k': 1,\n   'r': 2,\n   'debug_info_from_r_who_leaves': {'description': 'Finding the variable that leaves the basis',\n    'y_k': array([4., 1., 3.]),\n    'ratios': array([125., 400., 100.]),\n    'r': 2,\n    'I_r': 5},\n   'y_k': array([4., 1., 3.]),\n   'previous I': array([3, 4, 5]),\n   'previous J': [0, 1, 2],\n   'computed I': array([3, 4, 1]),\n   'computed J': [0, 5, 2]},\n  'debug_info_iteration_01': {'A_I': array([[1, 0, 4],\n          [0, 1, 1],\n          [0, 0, 3]]),\n   'A_I_inv': array([[ 1.        ,  0.        , -1.33333333],\n          [ 0.        ,  1.        , -0.33333333],\n          [ 0.        ,  0.        ,  0.33333333]]),\n   'J': [3, 5, 2],\n   'A_J': array([[3, 0, 2],\n          [2, 0, 2],\n          [1, 1, 3]]),\n   'x_I': array([100., 300., 100.]),\n   'x': array([100., 100.,   0.,   0., 300.,   0.]),\n   'π': array([ 0.        ,  0.        , -1.33333333]),\n   'z_0': -400.0,\n   'c_hat_J': array([ 1.66666667, -1.33333333, -1.5       ]),\n   'k': 0,\n   'r': 0,\n   'debug_info_from_r_who_leaves': {'description': 'Finding the variable that leaves the basis',\n    'y_k': array([1.66666667, 1.66666667, 0.33333333]),\n    'ratios': array([ 60., 180., 300.]),\n    'r': 0,\n    'I_r': 3},\n   'y_k': array([1.66666667, 1.66666667, 0.33333333]),\n   'previous I': array([3, 4, 1]),\n   'previous J': [0, 5, 2],\n   'computed I': array([0, 4, 1]),\n   'computed J': [3, 5, 2]},\n  'debug_info_iteration_02': {'A_I': array([[3, 0, 4],\n          [2, 1, 1],\n          [1, 0, 3]]),\n   'A_I_inv': array([[ 0.6,  0. , -0.8],\n          [-1. ,  1. ,  1. ],\n          [-0.2,  0. ,  0.6]]),\n   'J': [3, 5, 1],\n   'A_J': array([[1, 0, 2],\n          [0, 0, 2],\n          [0, 1, 3]]),\n   'x_I': array([ 60., 200.,  80.]),\n   'x': array([ 60.,   0.,  80.,   0., 200.,   0.]),\n   'π': array([-1.,  0.,  0.]),\n   'z_0': -499.99999999999994,\n   'c_hat_J': array([-1. ,  0. ,  0.5]),\n   'k': 2,\n   'r': 2,\n   'debug_info_from_r_who_leaves': {'description': 'Finding the variable that leaves the basis',\n    'y_k': array([-1.2,  3. ,  1.4]),\n    'ratios': array([        inf, 66.66666667, 57.14285714]),\n    'r': 2,\n    'I_r': 1},\n   'y_k': array([-1.2,  3. ,  1.4]),\n   'previous I': array([0, 4, 1]),\n   'previous J': [3, 5, 2],\n   'computed I': array([0, 4, 2]),\n   'computed J': [3, 5, 1]},\n  'debug_info_iteration_03': {'A_I': array([[3, 0, 2],\n          [2, 1, 2],\n          [1, 0, 3]]),\n   'A_I_inv': array([[ 0.42857143,  0.        , -0.28571429],\n          [-0.57142857,  1.        , -0.28571429],\n          [-0.14285714,  0.        ,  0.42857143]]),\n   'J': [3, 5, 1],\n   'A_J': array([[1, 0, 4],\n          [0, 0, 1],\n          [0, 1, 3]]),\n   'x_I': array([128.57142857,  28.57142857,  57.14285714]),\n   'x': array([128.57142857,   0.        ,  57.14285714,   0.        ,\n           28.57142857,   0.        ]),\n   'π': array([-0.92857143,  0.        , -0.21428571]),\n   'z_0': -528.5714285714286,\n   'c_hat_J': array([-0.92857143, -0.21428571, -0.35714286]),\n   'k': 1,\n   'r': 2,\n   'debug_info_from_r_who_leaves': {'description': 'Finding the variable that leaves the basis',\n    'y_k': array([-1.2,  3. ,  1.4]),\n    'ratios': array([        inf, 66.66666667, 57.14285714]),\n    'r': 2,\n    'I_r': 1},\n   'y_k': array([-1.2,  3. ,  1.4]),\n   'previous I': array([0, 4, 2]),\n   'previous J': [3, 5, 1],\n   'computed I': array([0, 4, 2]),\n   'computed J': [3, 5, 1]}}}"
          },
          "metadata": {}
        }
      ],
      "execution_count": 2
    },
    {
      "cell_type": "markdown",
      "source": "## Exercício 3.23",
      "metadata": {}
    },
    {
      "cell_type": "code",
      "source": "# Instantiate the data for the default minimization\n# problem in the form:\n# z = min C.T @ X\n# subject to:\n#     A @ X = B\n\nnp.set_printoptions(suppress=True)\n\nC = np.array([\n    -1, 0, 0, 0, 0, 0, 0, 0, 0, 0, 0\n])\n\nA = np.array([\n       [ 1.0e+00,  0.0e+00, -1.0e+00,  0.0e+00,  1.0e+00,  0.0e+00,\n         0.0e+00,  0.0e+00,  0.0e+00,  0.0e+00,  0.0e+00],\n       [ 1.0e+00,  0.0e+00,  0.0e+00, -1.0e+00,  0.0e+00,  1.0e+00,\n         0.0e+00,  0.0e+00,  0.0e+00,  0.0e+00,  0.0e+00],\n       [ 0.0e+00,  3.0e+01,  4.5e+03,  0.0e+00,  0.0e+00,  0.0e+00,\n         1.0e+00,  0.0e+00,  0.0e+00,  0.0e+00,  0.0e+00],\n       [ 0.0e+00,  4.0e+01,  5.0e+03,  5.0e+03,  0.0e+00,  0.0e+00,\n         0.0e+00,  1.0e+00,  0.0e+00,  0.0e+00,  0.0e+00],\n       [ 0.0e+00,  5.0e-01,  1.5e+02,  1.5e+02,  0.0e+00,  0.0e+00,\n         0.0e+00,  0.0e+00,  1.0e+00,  0.0e+00,  0.0e+00],\n       [ 0.0e+00,  1.0e+00,  0.0e+00,  0.0e+00,  0.0e+00,  0.0e+00,\n         0.0e+00,  0.0e+00,  0.0e+00, -1.0e+00,  0.0e+00],\n       [ 0.0e+00,  1.0e+00,  0.0e+00,  0.0e+00,  0.0e+00,  0.0e+00,\n         0.0e+00,  0.0e+00,  0.0e+00,  0.0e+00,  1.0e+00]\n])\n\nB = np.array([\n    0,\n    0,\n    150e3,\n    100e3,\n    600,\n    600,\n    800\n])\n\nm, n = A.shape\nI = list(range(4,11))\n\nZ_star, x_I, I_star, A_I, A, iterations, solution_type, debug_info = simplex_two_phases(A, B, C, I, debug = True)\n#Z_star, x_star, I_star, iterations, solution_type = simplex(A, b, c, I, debug = True)\nx_star = np.zeros(n)\nx_star[I_star] = x_I\nx_star = {\n    f'x_{i:}': f'{x:.2f}' for i, x in enumerate(x_star)\n}\nresult_repr = f'''\nExercicio 3.23):\n\nZ_star = {Z_star}\nx_star = {str(x_star)}\nI_star = {I_star}\niterations = {iterations + 1}\nsolution_type = {solution_type} - {solution_types[solution_type]}\n'''\nprint(result_repr)\ndisplay('Simplex Steps:\\n\\n')\ndisplay(debug_info)",
      "metadata": {
        "trusted": true
      },
      "outputs": [
        {
          "name": "stdout",
          "text": "\nExercicio 3.23):\n\nZ_star = -0.9999999999999993\nx_star = {'x_0': '1.00', 'x_1': '600.00', 'x_2': '1.00', 'x_3': '1.00', 'x_4': '0.00', 'x_5': '0.00', 'x_6': '127500.00', 'x_7': '66000.00', 'x_8': '0.00', 'x_9': '0.00', 'x_10': '200.00'}\nI_star = [ 0  2  6  7  3  1 10]\niterations = 5\nsolution_type = 1 - Optimal finite solution found\n\n",
          "output_type": "stream"
        },
        {
          "output_type": "display_data",
          "data": {
            "text/plain": "'Simplex Steps:\\n\\n'"
          },
          "metadata": {}
        },
        {
          "output_type": "display_data",
          "data": {
            "text/plain": "{'first phase': {'first_phase_debug_info': {'title': 'Simplex method with feasible initial basis for granted',\n   'debug_info_iteration_00': {'A_I': array([[1., 0., 0., 0., 0., 0., 0.],\n           [0., 1., 0., 0., 0., 0., 0.],\n           [0., 0., 1., 0., 0., 0., 0.],\n           [0., 0., 0., 1., 0., 0., 0.],\n           [0., 0., 0., 0., 1., 0., 0.],\n           [0., 0., 0., 0., 0., 1., 0.],\n           [0., 0., 0., 0., 0., 0., 1.]]),\n    'A_I_inv': array([[1., 0., 0., 0., 0., 0., 0.],\n           [0., 1., 0., 0., 0., 0., 0.],\n           [0., 0., 1., 0., 0., 0., 0.],\n           [0., 0., 0., 1., 0., 0., 0.],\n           [0., 0., 0., 0., 1., 0., 0.],\n           [0., 0., 0., 0., 0., 1., 0.],\n           [0., 0., 0., 0., 0., 0., 1.]]),\n    'J': [0, 11, 2, 3, 9],\n    'A_J': array([[   1. ,    0. ,   -1. ,    0. ,    0. ],\n           [   1. ,    0. ,    0. ,   -1. ,    0. ],\n           [   0. ,   30. , 4500. ,    0. ,    0. ],\n           [   0. ,   40. , 5000. , 5000. ,    0. ],\n           [   0. ,    0.5,  150. ,  150. ,    0. ],\n           [   0. ,    1. ,    0. ,    0. ,   -1. ],\n           [   0. ,    1. ,    0. ,    0. ,    0. ]]),\n    'x_I': array([     0.,      0., 150000., 100000.,    600.,    600.,    800.]),\n    'x': array([     0.,    600.,      0.,      0.,      0.,      0., 150000.,\n           100000.,    600.,      0.,    800.,      0.]),\n    'π': array([0., 0., 0., 0., 0., 1., 0.]),\n    'z_0': 600.0,\n    'c_hat_J': array([ 0.,  1.,  0.,  0., -1.]),\n    'k': 1,\n    'r': 5,\n    'debug_info_from_r_who_leaves': {'description': 'Finding the variable that leaves the basis',\n     'y_k': array([ 0. ,  0. , 30. , 40. ,  0.5,  1. ,  1. ]),\n     'ratios': array([  inf,   inf, 5000., 2500., 1200.,  600.,  800.]),\n     'r': 5,\n     'I_r': 11},\n    'y_k': array([ 0. ,  0. , 30. , 40. ,  0.5,  1. ,  1. ]),\n    'previous I': array([ 4,  5,  6,  7,  8, 11, 10]),\n    'previous J': [0, 1, 2, 3, 9],\n    'computed I': array([ 4,  5,  6,  7,  8,  1, 10]),\n    'computed J': [0, 11, 2, 3, 9]},\n   'debug_info_iteration_01': {'A_I': array([[ 1. ,  0. ,  0. ,  0. ,  0. ,  0. ,  0. ],\n           [ 0. ,  1. ,  0. ,  0. ,  0. ,  0. ,  0. ],\n           [ 0. ,  0. ,  1. ,  0. ,  0. , 30. ,  0. ],\n           [ 0. ,  0. ,  0. ,  1. ,  0. , 40. ,  0. ],\n           [ 0. ,  0. ,  0. ,  0. ,  1. ,  0.5,  0. ],\n           [ 0. ,  0. ,  0. ,  0. ,  0. ,  1. ,  0. ],\n           [ 0. ,  0. ,  0. ,  0. ,  0. ,  1. ,  1. ]]),\n    'A_I_inv': array([[  1. ,   0. ,   0. ,   0. ,   0. ,   0. ,   0. ],\n           [  0. ,   1. ,   0. ,   0. ,   0. ,   0. ,   0. ],\n           [  0. ,   0. ,   1. ,   0. ,   0. , -30. ,   0. ],\n           [  0. ,   0. ,   0. ,   1. ,   0. , -40. ,   0. ],\n           [  0. ,   0. ,   0. ,   0. ,   1. ,  -0.5,   0. ],\n           [  0. ,   0. ,   0. ,   0. ,   0. ,   1. ,   0. ],\n           [  0. ,   0. ,   0. ,   0. ,   0. ,  -1. ,   1. ]]),\n    'J': [0, 11, 2, 3, 9],\n    'A_J': array([[   1.,    0.,   -1.,    0.,    0.],\n           [   1.,    0.,    0.,   -1.,    0.],\n           [   0.,    0., 4500.,    0.,    0.],\n           [   0.,    0., 5000., 5000.,    0.],\n           [   0.,    0.,  150.,  150.,    0.],\n           [   0.,    1.,    0.,    0.,   -1.],\n           [   0.,    0.,    0.,    0.,    0.]]),\n    'x_I': array([     0.,      0., 132000.,  76000.,    300.,    600.,    200.]),\n    'x': array([     0.,    600.,      0.,      0.,      0.,      0., 132000.,\n            76000.,    300.,      0.,    200.,      0.]),\n    'π': array([0., 0., 0., 0., 0., 0., 0.]),\n    'z_0': 0.0,\n    'c_hat_J': array([ 0., -1.,  0.,  0.,  0.]),\n    'k': 0,\n    'r': 5,\n    'debug_info_from_r_who_leaves': {'description': 'Finding the variable that leaves the basis',\n     'y_k': array([ 0. ,  0. , 30. , 40. ,  0.5,  1. ,  1. ]),\n     'ratios': array([  inf,   inf, 5000., 2500., 1200.,  600.,  800.]),\n     'r': 5,\n     'I_r': 11},\n    'y_k': array([ 0. ,  0. , 30. , 40. ,  0.5,  1. ,  1. ]),\n    'previous I': array([ 4,  5,  6,  7,  8,  1, 10]),\n    'previous J': [0, 11, 2, 3, 9],\n    'computed I': array([ 4,  5,  6,  7,  8,  1, 10]),\n    'computed J': [0, 11, 2, 3, 9]}},\n  'φ_star': 0.0,\n  'x_star': array([     0.,      0., 132000.,  76000.,    300.,    600.,    200.]),\n  'I_star': array([ 4,  5,  6,  7,  8,  1, 10]),\n  'A_I_star': array([[ 1. ,  0. ,  0. ,  0. ,  0. ,  0. ,  0. ],\n         [ 0. ,  1. ,  0. ,  0. ,  0. ,  0. ,  0. ],\n         [ 0. ,  0. ,  1. ,  0. ,  0. , 30. ,  0. ],\n         [ 0. ,  0. ,  0. ,  1. ,  0. , 40. ,  0. ],\n         [ 0. ,  0. ,  0. ,  0. ,  1. ,  0.5,  0. ],\n         [ 0. ,  0. ,  0. ,  0. ,  0. ,  1. ,  0. ],\n         [ 0. ,  0. ,  0. ,  0. ,  0. ,  1. ,  1. ]]),\n  'A': array([[   1. ,    0. ,   -1. ,    0. ,    1. ,    0. ,    0. ,    0. ,\n             0. ,    0. ,    0. ,    0. ],\n         [   1. ,    0. ,    0. ,   -1. ,    0. ,    1. ,    0. ,    0. ,\n             0. ,    0. ,    0. ,    0. ],\n         [   0. ,   30. , 4500. ,    0. ,    0. ,    0. ,    1. ,    0. ,\n             0. ,    0. ,    0. ,    0. ],\n         [   0. ,   40. , 5000. , 5000. ,    0. ,    0. ,    0. ,    1. ,\n             0. ,    0. ,    0. ,    0. ],\n         [   0. ,    0.5,  150. ,  150. ,    0. ,    0. ,    0. ,    0. ,\n             1. ,    0. ,    0. ,    0. ],\n         [   0. ,    1. ,    0. ,    0. ,    0. ,    0. ,    0. ,    0. ,\n             0. ,   -1. ,    0. ,    1. ],\n         [   0. ,    1. ,    0. ,    0. ,    0. ,    0. ,    0. ,    0. ,\n             0. ,    0. ,    1. ,    0. ]]),\n  'A_artificial': array([[   1. ,    0. ,   -1. ,    0. ,    1. ,    0. ,    0. ,    0. ,\n             0. ,    0. ,    0. ,    0. ],\n         [   1. ,    0. ,    0. ,   -1. ,    0. ,    1. ,    0. ,    0. ,\n             0. ,    0. ,    0. ,    0. ],\n         [   0. ,   30. , 4500. ,    0. ,    0. ,    0. ,    1. ,    0. ,\n             0. ,    0. ,    0. ,    0. ],\n         [   0. ,   40. , 5000. , 5000. ,    0. ,    0. ,    0. ,    1. ,\n             0. ,    0. ,    0. ,    0. ],\n         [   0. ,    0.5,  150. ,  150. ,    0. ,    0. ,    0. ,    0. ,\n             1. ,    0. ,    0. ,    0. ],\n         [   0. ,    1. ,    0. ,    0. ,    0. ,    0. ,    0. ,    0. ,\n             0. ,   -1. ,    0. ,    1. ],\n         [   0. ,    1. ,    0. ,    0. ,    0. ,    0. ,    0. ,    0. ,\n             0. ,    0. ,    1. ,    0. ]]),\n  'b': array([     0.,      0., 150000., 100000.,    600.,    600.,    800.]),\n  'c_artificial': array([0., 0., 0., 0., 0., 0., 0., 0., 0., 0., 0., 1.]),\n  'I_artificial': array([ 4,  5,  6,  7,  8, 11, 10]),\n  'iterations_count': 1,\n  'solution_type': 2},\n 'second phase': {'title': 'Simplex method with feasible initial basis for granted',\n  'debug_info_iteration_00': {'A_I': array([[ 1. ,  0. ,  0. ,  0. ,  0. ,  0. ,  0. ],\n          [ 0. ,  1. ,  0. ,  0. ,  0. ,  0. ,  0. ],\n          [ 0. ,  0. ,  1. ,  0. ,  0. , 30. ,  0. ],\n          [ 0. ,  0. ,  0. ,  1. ,  0. , 40. ,  0. ],\n          [ 0. ,  0. ,  0. ,  0. ,  1. ,  0.5,  0. ],\n          [ 0. ,  0. ,  0. ,  0. ,  0. ,  1. ,  0. ],\n          [ 0. ,  0. ,  0. ,  0. ,  0. ,  1. ,  1. ]]),\n   'A_I_inv': array([[  1. ,   0. ,   0. ,   0. ,   0. ,   0. ,   0. ],\n          [  0. ,   1. ,   0. ,   0. ,   0. ,   0. ,   0. ],\n          [  0. ,   0. ,   1. ,   0. ,   0. , -30. ,   0. ],\n          [  0. ,   0. ,   0. ,   1. ,   0. , -40. ,   0. ],\n          [  0. ,   0. ,   0. ,   0. ,   1. ,  -0.5,   0. ],\n          [  0. ,   0. ,   0. ,   0. ,   0. ,   1. ,   0. ],\n          [  0. ,   0. ,   0. ,   0. ,   0. ,  -1. ,   1. ]]),\n   'J': [4, 2, 3, 9],\n   'A_J': array([[   1.,   -1.,    0.,    0.],\n          [   1.,    0.,   -1.,    0.],\n          [   0., 4500.,    0.,    0.],\n          [   0., 5000., 5000.,    0.],\n          [   0.,  150.,  150.,    0.],\n          [   0.,    0.,    0.,   -1.],\n          [   0.,    0.,    0.,    0.]]),\n   'x_I': array([     0.,      0., 132000.,  76000.,    300.,    600.,    200.]),\n   'x': array([     0.,    600.,      0.,      0.,      0.,      0., 132000.,\n           76000.,    300.,      0.,    200.]),\n   'π': array([0., 0., 0., 0., 0., 0., 0.]),\n   'z_0': 0.0,\n   'c_hat_J': array([1., 0., 0., 0.]),\n   'k': 0,\n   'r': 0,\n   'debug_info_from_r_who_leaves': {'description': 'Finding the variable that leaves the basis',\n    'y_k': array([1., 1., 0., 0., 0., 0., 0.]),\n    'ratios': array([ 0.,  0., inf, inf, inf, inf, inf]),\n    'r': 0,\n    'I_r': 4},\n   'y_k': array([1., 1., 0., 0., 0., 0., 0.]),\n   'previous I': array([ 4,  5,  6,  7,  8,  1, 10]),\n   'previous J': [0, 2, 3, 9],\n   'computed I': array([ 0,  5,  6,  7,  8,  1, 10]),\n   'computed J': [4, 2, 3, 9]},\n  'debug_info_iteration_01': {'A_I': array([[ 1. ,  0. ,  0. ,  0. ,  0. ,  0. ,  0. ],\n          [ 1. ,  1. ,  0. ,  0. ,  0. ,  0. ,  0. ],\n          [ 0. ,  0. ,  1. ,  0. ,  0. , 30. ,  0. ],\n          [ 0. ,  0. ,  0. ,  1. ,  0. , 40. ,  0. ],\n          [ 0. ,  0. ,  0. ,  0. ,  1. ,  0.5,  0. ],\n          [ 0. ,  0. ,  0. ,  0. ,  0. ,  1. ,  0. ],\n          [ 0. ,  0. ,  0. ,  0. ,  0. ,  1. ,  1. ]]),\n   'A_I_inv': array([[  1. ,   0. ,   0. ,   0. ,   0. ,   0. ,   0. ],\n          [ -1. ,   1. ,   0. ,   0. ,   0. ,   0. ,   0. ],\n          [  0. ,   0. ,   1. ,   0. ,   0. , -30. ,   0. ],\n          [  0. ,   0. ,   0. ,   1. ,   0. , -40. ,   0. ],\n          [  0. ,   0. ,   0. ,   0. ,   1. ,  -0.5,   0. ],\n          [  0. ,   0. ,   0. ,   0. ,   0. ,   1. ,   0. ],\n          [  0. ,   0. ,   0. ,   0. ,   0. ,  -1. ,   1. ]]),\n   'J': [4, 5, 3, 9],\n   'A_J': array([[   1.,   -1.,    0.,    0.],\n          [   0.,    0.,   -1.,    0.],\n          [   0., 4500.,    0.,    0.],\n          [   0., 5000., 5000.,    0.],\n          [   0.,  150.,  150.,    0.],\n          [   0.,    0.,    0.,   -1.],\n          [   0.,    0.,    0.,    0.]]),\n   'x_I': array([     0.,      0., 132000.,  76000.,    300.,    600.,    200.]),\n   'x': array([     0.,    600.,      0.,      0.,      0.,      0., 132000.,\n           76000.,    300.,      0.,    200.]),\n   'π': array([-1.,  0.,  0.,  0.,  0.,  0.,  0.]),\n   'z_0': 0.0,\n   'c_hat_J': array([-1.,  1.,  0.,  0.]),\n   'k': 1,\n   'r': 1,\n   'debug_info_from_r_who_leaves': {'description': 'Finding the variable that leaves the basis',\n    'y_k': array([  -1.,    1., 4500., 5000.,  150.,    0.,    0.]),\n    'ratios': array([        inf,  0.        , 29.33333333, 15.2       ,  2.        ,\n                   inf,         inf]),\n    'r': 1,\n    'I_r': 5},\n   'y_k': array([  -1.,    1., 4500., 5000.,  150.,    0.,    0.]),\n   'previous I': array([ 0,  5,  6,  7,  8,  1, 10]),\n   'previous J': [4, 2, 3, 9],\n   'computed I': array([ 0,  2,  6,  7,  8,  1, 10]),\n   'computed J': [4, 5, 3, 9]},\n  'debug_info_iteration_02': {'A_I': array([[   1. ,   -1. ,    0. ,    0. ,    0. ,    0. ,    0. ],\n          [   1. ,    0. ,    0. ,    0. ,    0. ,    0. ,    0. ],\n          [   0. , 4500. ,    1. ,    0. ,    0. ,   30. ,    0. ],\n          [   0. , 5000. ,    0. ,    1. ,    0. ,   40. ,    0. ],\n          [   0. ,  150. ,    0. ,    0. ,    1. ,    0.5,    0. ],\n          [   0. ,    0. ,    0. ,    0. ,    0. ,    1. ,    0. ],\n          [   0. ,    0. ,    0. ,    0. ,    0. ,    1. ,    1. ]]),\n   'A_I_inv': array([[    0. ,     1. ,     0. ,     0. ,     0. ,     0. ,     0. ],\n          [   -1. ,     1. ,     0. ,     0. ,     0. ,     0. ,     0. ],\n          [ 4500. , -4500. ,     1. ,     0. ,     0. ,   -30. ,     0. ],\n          [ 5000. , -5000. ,     0. ,     1. ,     0. ,   -40. ,     0. ],\n          [  150. ,  -150. ,     0. ,     0. ,     1. ,    -0.5,     0. ],\n          [    0. ,     0. ,     0. ,     0. ,     0. ,     1. ,     0. ],\n          [    0. ,     0. ,     0. ,     0. ,     0. ,    -1. ,     1. ]]),\n   'J': [4, 5, 8, 9],\n   'A_J': array([[   1.,    0.,    0.,    0.],\n          [   0.,    1.,   -1.,    0.],\n          [   0.,    0.,    0.,    0.],\n          [   0.,    0., 5000.,    0.],\n          [   0.,    0.,  150.,    0.],\n          [   0.,    0.,    0.,   -1.],\n          [   0.,    0.,    0.,    0.]]),\n   'x_I': array([     0.,      0., 132000.,  76000.,    300.,    600.,    200.]),\n   'x': array([     0.,    600.,      0.,    300.,      0.,      0., 132000.,\n           76000.,      0.,      0.,    200.]),\n   'π': array([ 0., -1.,  0.,  0.,  0.,  0.,  0.]),\n   'z_0': 0.0,\n   'c_hat_J': array([ 0., -1.,  1.,  0.]),\n   'k': 2,\n   'r': 4,\n   'debug_info_from_r_who_leaves': {'description': 'Finding the variable that leaves the basis',\n    'y_k': array([   -1.,    -1.,  4500., 10000.,   300.,     0.,     0.]),\n    'ratios': array([        inf,         inf, 29.33333333,  7.6       ,  1.        ,\n                   inf,         inf]),\n    'r': 4,\n    'I_r': 8},\n   'y_k': array([   -1.,    -1.,  4500., 10000.,   300.,     0.,     0.]),\n   'previous I': array([ 0,  2,  6,  7,  8,  1, 10]),\n   'previous J': [4, 5, 3, 9],\n   'computed I': array([ 0,  2,  6,  7,  3,  1, 10]),\n   'computed J': [4, 5, 8, 9]},\n  'debug_info_iteration_03': {'A_I': array([[   1. ,   -1. ,    0. ,    0. ,    0. ,    0. ,    0. ],\n          [   1. ,    0. ,    0. ,    0. ,   -1. ,    0. ,    0. ],\n          [   0. , 4500. ,    1. ,    0. ,    0. ,   30. ,    0. ],\n          [   0. , 5000. ,    0. ,    1. , 5000. ,   40. ,    0. ],\n          [   0. ,  150. ,    0. ,    0. ,  150. ,    0.5,    0. ],\n          [   0. ,    0. ,    0. ,    0. ,    0. ,    1. ,    0. ],\n          [   0. ,    0. ,    0. ,    0. ,    0. ,    1. ,    1. ]]),\n   'A_I_inv': array([[    0.5       ,     0.5       ,     0.        ,     0.        ,\n               0.00333333,    -0.00166667,     0.        ],\n          [   -0.5       ,     0.5       ,     0.        ,     0.        ,\n               0.00333333,    -0.00166667,     0.        ],\n          [ 2250.        , -2250.        ,     1.        ,     0.        ,\n             -15.        ,   -22.5       ,     0.        ],\n          [    0.        ,     0.        ,     0.        ,     1.        ,\n             -33.33333333,   -23.33333333,     0.        ],\n          [    0.5       ,    -0.5       ,     0.        ,     0.        ,\n               0.00333333,    -0.00166667,     0.        ],\n          [    0.        ,     0.        ,     0.        ,     0.        ,\n               0.        ,     1.        ,     0.        ],\n          [    0.        ,     0.        ,     0.        ,     0.        ,\n               0.        ,    -1.        ,     1.        ]]),\n   'J': [4, 5, 8, 9],\n   'A_J': array([[ 1.,  0.,  0.,  0.],\n          [ 0.,  1.,  0.,  0.],\n          [ 0.,  0.,  0.,  0.],\n          [ 0.,  0.,  0.,  0.],\n          [ 0.,  0.,  1.,  0.],\n          [ 0.,  0.,  0., -1.],\n          [ 0.,  0.,  0.,  0.]]),\n   'x_I': array([     1.,      1., 127500.,  66000.,      1.,    600.,    200.]),\n   'x': array([     1.,    600.,      1.,      1.,      0.,      0., 127500.,\n           66000.,      0.,      0.,    200.]),\n   'π': array([-0.5       , -0.5       ,  0.        ,  0.        , -0.00333333,\n           0.00166667,  0.        ]),\n   'z_0': -0.9999999999999993,\n   'c_hat_J': array([-0.5       , -0.5       , -0.00333333, -0.00166667]),\n   'k': 3,\n   'r': 4,\n   'debug_info_from_r_who_leaves': {'description': 'Finding the variable that leaves the basis',\n    'y_k': array([   -1.,    -1.,  4500., 10000.,   300.,     0.,     0.]),\n    'ratios': array([        inf,         inf, 29.33333333,  7.6       ,  1.        ,\n                   inf,         inf]),\n    'r': 4,\n    'I_r': 8},\n   'y_k': array([   -1.,    -1.,  4500., 10000.,   300.,     0.,     0.]),\n   'previous I': array([ 0,  2,  6,  7,  3,  1, 10]),\n   'previous J': [4, 5, 8, 9],\n   'computed I': array([ 0,  2,  6,  7,  3,  1, 10]),\n   'computed J': [4, 5, 8, 9]}}}"
          },
          "metadata": {}
        }
      ],
      "execution_count": 3
    },
    {
      "cell_type": "markdown",
      "source": "### Estudo dos valores do vetor X nas 2 Únicas Iterações da Fase 1 do Simplex para o Problema em Tela",
      "metadata": {}
    },
    {
      "cell_type": "code",
      "source": "X = list(debug_info['first phase']['first_phase_debug_info'][f'debug_info_iteration_{i:02d}']['x'] for i in range(2))\nfor x in X:\n    display(x)",
      "metadata": {
        "trusted": true
      },
      "outputs": [
        {
          "output_type": "display_data",
          "data": {
            "text/plain": "array([     0.,    600.,      0.,      0.,      0.,      0., 150000.,\n       100000.,    600.,      0.,    800.,      0.])"
          },
          "metadata": {}
        },
        {
          "output_type": "display_data",
          "data": {
            "text/plain": "array([     0.,    600.,      0.,      0.,      0.,      0., 132000.,\n        76000.,    300.,      0.,    200.,      0.])"
          },
          "metadata": {}
        }
      ],
      "execution_count": 4
    },
    {
      "cell_type": "markdown",
      "source": "### Estudo dos valores do vetor X nas 4 Únicas Iterações da Fase 2 do Simplex para o Problema em Tela",
      "metadata": {}
    },
    {
      "cell_type": "code",
      "source": "X = list(debug_info['second phase'][f'debug_info_iteration_{i:02d}']['x'] for i in range(4))\nfor x in X:\n    display(x)",
      "metadata": {
        "trusted": true
      },
      "outputs": [
        {
          "output_type": "display_data",
          "data": {
            "text/plain": "array([     0.,    600.,      0.,      0.,      0.,      0., 132000.,\n        76000.,    300.,      0.,    200.])"
          },
          "metadata": {}
        },
        {
          "output_type": "display_data",
          "data": {
            "text/plain": "array([     0.,    600.,      0.,      0.,      0.,      0., 132000.,\n        76000.,    300.,      0.,    200.])"
          },
          "metadata": {}
        },
        {
          "output_type": "display_data",
          "data": {
            "text/plain": "array([     0.,    600.,      0.,    300.,      0.,      0., 132000.,\n        76000.,      0.,      0.,    200.])"
          },
          "metadata": {}
        },
        {
          "output_type": "display_data",
          "data": {
            "text/plain": "array([     1.,    600.,      1.,      1.,      0.,      0., 127500.,\n        66000.,      0.,      0.,    200.])"
          },
          "metadata": {}
        }
      ],
      "execution_count": 5
    },
    {
      "cell_type": "markdown",
      "source": "### Estudo dos valores do vetor I nas 4 Únicas Iterações da Fase 2 do Simplex para o Problema em Tela",
      "metadata": {}
    },
    {
      "cell_type": "code",
      "source": "I = list(debug_info['second phase'][f'debug_info_iteration_{i:02d}']['computed I'] for i in range(4))\nfor i in I:\n    display(i)",
      "metadata": {
        "trusted": true
      },
      "outputs": [
        {
          "output_type": "display_data",
          "data": {
            "text/plain": "array([ 0,  5,  6,  7,  8,  1, 10])"
          },
          "metadata": {}
        },
        {
          "output_type": "display_data",
          "data": {
            "text/plain": "array([ 0,  2,  6,  7,  8,  1, 10])"
          },
          "metadata": {}
        },
        {
          "output_type": "display_data",
          "data": {
            "text/plain": "array([ 0,  2,  6,  7,  3,  1, 10])"
          },
          "metadata": {}
        },
        {
          "output_type": "display_data",
          "data": {
            "text/plain": "array([ 0,  2,  6,  7,  3,  1, 10])"
          },
          "metadata": {}
        }
      ],
      "execution_count": 6
    },
    {
      "cell_type": "markdown",
      "source": "## Exercício 3.26",
      "metadata": {}
    },
    {
      "cell_type": "code",
      "source": "C = np.array([2, -2, -1, 1, 0, 0, 0, 0])\nA = np.array([\n    [-1,  1,  3, -3, 1, 0, 0, 0],\n    [-2, 2, -1,  1, 0, 1, 0, 0],\n    [2, -2,  3, -3, 0, 0, 1, 0],\n    [3, -3, -2,  2, 0, 0, 0, 1]\n])\nB = np.array([3, 2, 6, 6])\n\nm, n = A.shape\nI = list(range(4,8))\n\nsolution = simplex_tableau(A, B, C, I)\n\n'''\n    Display solution\n'''\nZ_star = solution['Z_star']\nI_star = solution['I_star']\nX_star = np.zeros(n)\nX_star[I_star] = solution['X_star']\nsolution_type = solution_types[\n    solution['solution_type']\n]\nsolution_md = f'''\n## Solution\n\n\\\\\\\\(X^{{*}}\\\\\\\\) = {repr(np.round(X_star, 2))}\n\n\\\\\\\\(Z^{{*}} = {repr(np.round(Z_star, 5))} \\\\\\\\)\n\n\\\\\\\\(\\\\text{{I}}^{{*}}\\\\\\\\) = {repr([\n    '\\\\(X_' + str(i) + '\\\\)' for i in I_star\n])}\n'''\ndisplay(\n    Markdown(\n        solution_md\n    )\n)\n\n'''\n    Display Tableaus\n'''\ntableau_steps = solution['tableaus']\ntableau_md = markdown_repr_T(tableau_steps)\ndisplay(\n    Markdown(\n        tableau_md\n    )\n)\n",
      "metadata": {
        "trusted": true
      },
      "outputs": [
        {
          "output_type": "display_data",
          "data": {
            "text/plain": "<IPython.core.display.Markdown object>",
            "text/markdown": "\n## Solution\n\n\\\\(X^{*}\\\\) = array([ 0.  ,  1.29,  0.57,  0.  ,  0.  ,  0.  ,  6.86, 11.  ])\n\n\\\\(Z^{*} = -3.14286 \\\\)\n\n\\\\(\\text{I}^{*}\\\\) = ['\\\\(X_2\\\\)', '\\\\(X_1\\\\)', '\\\\(X_6\\\\)', '\\\\(X_7\\\\)']\n"
          },
          "metadata": {}
        },
        {
          "output_type": "display_data",
          "data": {
            "text/plain": "<IPython.core.display.Markdown object>",
            "text/markdown": "\n\n## Iteration 1\n\nPrevious Tableau:\n\n|   |\\\\(X_{0}\\\\) | \\\\(X_{1}\\\\) | \\\\(X_{2}\\\\) | \\\\(X_{3}\\\\) | \\\\(X_{4}\\\\) | \\\\(X_{5}\\\\) | \\\\(X_{6}\\\\) | \\\\(X_{7}\\\\) | RHS |\n|---|---|---|---|---|---|---|---|---|---|\n| Cost | -2.000 | 2.000 | 1.000 | -1.000 | 0.000 | 0.000 | 0.000 | 0.000 | 0.000 |\n| \\\\(X_{4}\\\\) | -1.000 | 1.000 | 3.000 | -3.000 | 1.000 | 0.000 | 0.000 | 0.000 | 3.000 |\n| \\\\(X_{5}\\\\) | -2.000 | 2.000 | -1.000 | 1.000 | 0.000 | 1.000 | 0.000 | 0.000 | 2.000 |\n| \\\\(X_{6}\\\\) | 2.000 | -2.000 | 3.000 | -3.000 | 0.000 | 0.000 | 1.000 | 0.000 | 6.000 |\n| \\\\(X_{7}\\\\) | 3.000 | -3.000 | -2.000 | 2.000 | 0.000 | 0.000 | 0.000 | 1.000 | 6.000 |\n### Pivot Operations\n\nVariable to enter: \\\\(X_{1}\\\\)\nVariable to leave: \\\\(X_{5}\\\\)\n#### Row Operations:\n\n1. \\\\(R_{X_{5}} \\leftarrow \\frac{R_{X_{5}}}{2.0}\\\\)\n1. \\\\(R_{C} \\leftarrow R_{C} - 2.0R_{X_{5}}\\\\)\n2. \\\\(R_{X_{4}} \\leftarrow R_{X_{4}} - 1.0R_{X_{5}}\\\\)\n3. \\\\(R_{X_{6}} \\leftarrow R_{X_{6}} + 2.0R_{X_{5}}\\\\)\n4. \\\\(R_{X_{7}} \\leftarrow R_{X_{7}} + 3.0R_{X_{5}}\\\\)\n\n\nComputed Tableau:\n\n|   |\\\\(X_{0}\\\\) | \\\\(X_{1}\\\\) | \\\\(X_{2}\\\\) | \\\\(X_{3}\\\\) | \\\\(X_{4}\\\\) | \\\\(X_{5}\\\\) | \\\\(X_{6}\\\\) | \\\\(X_{7}\\\\) | RHS |\n|---|---|---|---|---|---|---|---|---|---|\n| Cost | 0.000 | 0.000 | 2.000 | -2.000 | 0.000 | -1.000 | 0.000 | 0.000 | -2.000 |\n| \\\\(X_{4}\\\\) | 0.000 | 0.000 | 3.500 | -3.500 | 1.000 | -0.500 | 0.000 | 0.000 | 2.000 |\n| \\\\(X_{1}\\\\) | -1.000 | 1.000 | -0.500 | 0.500 | 0.000 | 0.500 | 0.000 | 0.000 | 1.000 |\n| \\\\(X_{6}\\\\) | 0.000 | 0.000 | 2.000 | -2.000 | 0.000 | 1.000 | 1.000 | 0.000 | 8.000 |\n| \\\\(X_{7}\\\\) | 0.000 | 0.000 | -3.500 | 3.500 | 0.000 | 1.500 | 0.000 | 1.000 | 9.000 |\n\n\n## Iteration 2\n\nPrevious Tableau:\n\n|   |\\\\(X_{0}\\\\) | \\\\(X_{1}\\\\) | \\\\(X_{2}\\\\) | \\\\(X_{3}\\\\) | \\\\(X_{4}\\\\) | \\\\(X_{5}\\\\) | \\\\(X_{6}\\\\) | \\\\(X_{7}\\\\) | RHS |\n|---|---|---|---|---|---|---|---|---|---|\n| Cost | 0.000 | 0.000 | 2.000 | -2.000 | 0.000 | -1.000 | 0.000 | 0.000 | -2.000 |\n| \\\\(X_{4}\\\\) | 0.000 | 0.000 | 3.500 | -3.500 | 1.000 | -0.500 | 0.000 | 0.000 | 2.000 |\n| \\\\(X_{1}\\\\) | -1.000 | 1.000 | -0.500 | 0.500 | 0.000 | 0.500 | 0.000 | 0.000 | 1.000 |\n| \\\\(X_{6}\\\\) | 0.000 | 0.000 | 2.000 | -2.000 | 0.000 | 1.000 | 1.000 | 0.000 | 8.000 |\n| \\\\(X_{7}\\\\) | 0.000 | 0.000 | -3.500 | 3.500 | 0.000 | 1.500 | 0.000 | 1.000 | 9.000 |\n### Pivot Operations\n\nVariable to enter: \\\\(X_{2}\\\\)\nVariable to leave: \\\\(X_{4}\\\\)\n#### Row Operations:\n\n1. \\\\(R_{X_{4}} \\leftarrow \\frac{R_{X_{4}}}{3.5}\\\\)\n1. \\\\(R_{C} \\leftarrow R_{C} - 2.0R_{X_{4}}\\\\)\n2. \\\\(R_{X_{1}} \\leftarrow R_{X_{1}} + 0.5R_{X_{4}}\\\\)\n3. \\\\(R_{X_{6}} \\leftarrow R_{X_{6}} - 2.0R_{X_{4}}\\\\)\n4. \\\\(R_{X_{7}} \\leftarrow R_{X_{7}} + 3.5R_{X_{4}}\\\\)\n\n\nComputed Tableau:\n\n|   |\\\\(X_{0}\\\\) | \\\\(X_{1}\\\\) | \\\\(X_{2}\\\\) | \\\\(X_{3}\\\\) | \\\\(X_{4}\\\\) | \\\\(X_{5}\\\\) | \\\\(X_{6}\\\\) | \\\\(X_{7}\\\\) | RHS |\n|---|---|---|---|---|---|---|---|---|---|\n| Cost | 0.000 | 0.000 | 0.000 | 0.000 | -0.571 | -0.714 | 0.000 | 0.000 | -3.143 |\n| \\\\(X_{2}\\\\) | 0.000 | 0.000 | 1.000 | -1.000 | 0.286 | -0.143 | 0.000 | 0.000 | 0.571 |\n| \\\\(X_{1}\\\\) | -1.000 | 1.000 | 0.000 | 0.000 | 0.143 | 0.429 | 0.000 | 0.000 | 1.286 |\n| \\\\(X_{6}\\\\) | 0.000 | 0.000 | 0.000 | 0.000 | -0.571 | 1.286 | 1.000 | 0.000 | 6.857 |\n| \\\\(X_{7}\\\\) | 0.000 | 0.000 | 0.000 | 0.000 | 1.000 | 1.000 | 0.000 | 1.000 | 11.000 |\n"
          },
          "metadata": {}
        }
      ],
      "execution_count": 7
    },
    {
      "cell_type": "markdown",
      "source": "## Exercício 3.27",
      "metadata": {}
    },
    {
      "cell_type": "code",
      "source": "C = np.array([-2, -1, -6, 4, 0, 0, 0])\nA = np.array([\n    [1, 2,  4, -1, 1, 0, 0],\n    [2, 3, -1,  1, 0, 1, 0],\n    [1, 0,  1,  1, 0, 0, 1]\n])\nB = np.array([6, 12, 2])\n\nm, n = A.shape\nI = [0, 1, 3]\n\nsolution = simplex_tableau(A, B, C, I)\n\n'''\n    Display solution\n'''\nZ_star = solution['Z_star']\nI_star = solution['I_star']\nX_star = np.zeros(n)\nX_star[I_star] = solution['X_star']\nsolution_type = solution_types[\n    solution['solution_type']\n]\nsolution_md = f'''\n## Solution\n\n\\\\\\\\(X^{{*}}\\\\\\\\) = {repr(np.round(X_star, 2))}\n\n\\\\\\\\(Z^{{*}} = {repr(np.round(Z_star, 5))} \\\\\\\\)\n\n\\\\\\\\(\\\\text{{I}}^{{*}}\\\\\\\\) = {repr([\n    '\\\\(X_' + str(i) + '\\\\)' for i in I_star\n])}\n'''\ndisplay(\n    Markdown(\n        solution_md\n    )\n)\n\n'''\n    Display Tableaus\n'''\ntableaus = True\nif tableaus:\n    tableau_steps = solution['tableaus']\n    tableau_md = markdown_repr_T(tableau_steps)\n    display(\n        Markdown(\n            tableau_md\n        )\n    )",
      "metadata": {
        "trusted": true
      },
      "outputs": [
        {
          "output_type": "display_data",
          "data": {
            "text/plain": "<IPython.core.display.Markdown object>",
            "text/markdown": "\n## Solution\n\n\\\\(X^{*}\\\\) = array([ 0.67,  0.  ,  1.33,  0.  ,  0.  , 12.  ,  0.  ])\n\n\\\\(Z^{*} = -9.33333 \\\\)\n\n\\\\(\\text{I}^{*}\\\\) = ['\\\\(X_0\\\\)', '\\\\(X_2\\\\)', '\\\\(X_5\\\\)']\n"
          },
          "metadata": {}
        },
        {
          "output_type": "display_data",
          "data": {
            "text/plain": "<IPython.core.display.Markdown object>",
            "text/markdown": "\n\n## Iteration 1\n\nPrevious Tableau:\n\n|   |\\\\(X_{0}\\\\) | \\\\(X_{1}\\\\) | \\\\(X_{2}\\\\) | \\\\(X_{3}\\\\) | \\\\(X_{4}\\\\) | \\\\(X_{5}\\\\) | \\\\(X_{6}\\\\) | RHS |\n|---|---|---|---|---|---|---|---|---|\n| Cost | 0.000 | 0.000 | -16.250 | 0.000 | -4.250 | 2.500 | -2.750 | -1.000 |\n| \\\\(X_{0}\\\\) | 1.000 | 0.000 | 4.750 | 0.000 | 0.750 | -0.500 | 1.250 | 1.000 |\n| \\\\(X_{1}\\\\) | 0.000 | 1.000 | -2.250 | 0.000 | -0.250 | 0.500 | -0.750 | 3.000 |\n| \\\\(X_{3}\\\\) | 0.000 | 0.000 | -3.750 | 1.000 | -0.750 | 0.500 | -0.250 | 1.000 |\n### Pivot Operations\n\nVariable to enter: \\\\(X_{5}\\\\)\nVariable to leave: \\\\(X_{3}\\\\)\n#### Row Operations:\n\n1. \\\\(R_{X_{3}} \\leftarrow \\frac{R_{X_{3}}}{0.5}\\\\)\n1. \\\\(R_{C} \\leftarrow R_{C} - 2.5R_{X_{3}}\\\\)\n2. \\\\(R_{X_{0}} \\leftarrow R_{X_{0}} + 0.5R_{X_{3}}\\\\)\n3. \\\\(R_{X_{1}} \\leftarrow R_{X_{1}} - 0.5R_{X_{3}}\\\\)\n\n\nComputed Tableau:\n\n|   |\\\\(X_{0}\\\\) | \\\\(X_{1}\\\\) | \\\\(X_{2}\\\\) | \\\\(X_{3}\\\\) | \\\\(X_{4}\\\\) | \\\\(X_{5}\\\\) | \\\\(X_{6}\\\\) | RHS |\n|---|---|---|---|---|---|---|---|---|\n| Cost | 0.000 | 0.000 | 2.500 | -5.000 | -0.500 | 0.000 | -1.500 | -6.000 |\n| \\\\(X_{0}\\\\) | 1.000 | 0.000 | 1.000 | 1.000 | 0.000 | 0.000 | 1.000 | 2.000 |\n| \\\\(X_{1}\\\\) | 0.000 | 1.000 | 1.500 | -1.000 | 0.500 | 0.000 | -0.500 | 2.000 |\n| \\\\(X_{5}\\\\) | 0.000 | 0.000 | -7.500 | 2.000 | -1.500 | 1.000 | -0.500 | 2.000 |\n\n\n## Iteration 2\n\nPrevious Tableau:\n\n|   |\\\\(X_{0}\\\\) | \\\\(X_{1}\\\\) | \\\\(X_{2}\\\\) | \\\\(X_{3}\\\\) | \\\\(X_{4}\\\\) | \\\\(X_{5}\\\\) | \\\\(X_{6}\\\\) | RHS |\n|---|---|---|---|---|---|---|---|---|\n| Cost | 0.000 | 0.000 | 2.500 | -5.000 | -0.500 | 0.000 | -1.500 | -6.000 |\n| \\\\(X_{0}\\\\) | 1.000 | 0.000 | 1.000 | 1.000 | 0.000 | 0.000 | 1.000 | 2.000 |\n| \\\\(X_{1}\\\\) | 0.000 | 1.000 | 1.500 | -1.000 | 0.500 | 0.000 | -0.500 | 2.000 |\n| \\\\(X_{5}\\\\) | 0.000 | 0.000 | -7.500 | 2.000 | -1.500 | 1.000 | -0.500 | 2.000 |\n### Pivot Operations\n\nVariable to enter: \\\\(X_{2}\\\\)\nVariable to leave: \\\\(X_{1}\\\\)\n#### Row Operations:\n\n1. \\\\(R_{X_{1}} \\leftarrow \\frac{R_{X_{1}}}{1.5}\\\\)\n1. \\\\(R_{C} \\leftarrow R_{C} - 2.5R_{X_{1}}\\\\)\n2. \\\\(R_{X_{0}} \\leftarrow R_{X_{0}} - 1.0R_{X_{1}}\\\\)\n3. \\\\(R_{X_{5}} \\leftarrow R_{X_{5}} + 7.5R_{X_{1}}\\\\)\n\n\nComputed Tableau:\n\n|   |\\\\(X_{0}\\\\) | \\\\(X_{1}\\\\) | \\\\(X_{2}\\\\) | \\\\(X_{3}\\\\) | \\\\(X_{4}\\\\) | \\\\(X_{5}\\\\) | \\\\(X_{6}\\\\) | RHS |\n|---|---|---|---|---|---|---|---|---|\n| Cost | 0.000 | -1.667 | 0.000 | -3.333 | -1.333 | 0.000 | -0.667 | -9.333 |\n| \\\\(X_{0}\\\\) | 1.000 | -0.667 | 0.000 | 1.667 | -0.333 | 0.000 | 1.333 | 0.667 |\n| \\\\(X_{2}\\\\) | 0.000 | 0.667 | 1.000 | -0.667 | 0.333 | 0.000 | -0.333 | 1.333 |\n| \\\\(X_{5}\\\\) | 0.000 | 5.000 | 0.000 | -3.000 | 1.000 | 1.000 | -3.000 | 12.000 |\n"
          },
          "metadata": {}
        }
      ],
      "execution_count": 8
    },
    {
      "cell_type": "code",
      "source": "from simplex_tableau import _markdown_T, _apply_pivot, _markdown_pivot_operations\nT = np.copy(tableau_steps[0]['previous_T'])\nI = [4, 5, 6]\ndisplay(\n    Markdown(\n        _markdown_T(T, I)\n    )\n)\nr = 4\nk = 0\nT, pivot_operations = _apply_pivot(T, r, k, I)\ndisplay(\n    Markdown(\n        _markdown_pivot_operations(f'X_{k}', f'X_{r}', I, pivot_operations)\n    )\n)\nI = [0, 5, 6]\ndisplay(\n    Markdown(\n        _markdown_T(T, I)\n    )\n)\nr = 5\nk = 1\nT, pivot_operations = _apply_pivot(T, r, k, I)\ndisplay(\n    Markdown(\n        _markdown_pivot_operations(f'X_{k}', f'X_{r}', I, pivot_operations)\n    )\n)\nI = [0, 1, 6]\ndisplay(\n    Markdown(\n        _markdown_T(T, I)\n    )\n)\n# tirar x6, colocar x3\nr = 6\nk = 3\nT, pivot_operations = _apply_pivot(T, r, k, I)\ndisplay(\n    Markdown(\n        _markdown_pivot_operations(f'X_{k}', f'X_{r}', I, pivot_operations)\n    )\n)\nI = [0, 1, 3]\ndisplay(\n    Markdown(\n        _markdown_T(T, I)\n    )\n)",
      "metadata": {
        "trusted": true
      },
      "outputs": [
        {
          "output_type": "display_data",
          "data": {
            "text/plain": "<IPython.core.display.Markdown object>",
            "text/markdown": "|   |\\\\(X_{0}\\\\) | \\\\(X_{1}\\\\) | \\\\(X_{2}\\\\) | \\\\(X_{3}\\\\) | \\\\(X_{4}\\\\) | \\\\(X_{5}\\\\) | \\\\(X_{6}\\\\) | RHS |\n|---|---|---|---|---|---|---|---|---|\n| Cost | 0.000 | 0.000 | -16.250 | 0.000 | -4.250 | 2.500 | -2.750 | -1.000 |\n| \\\\(X_{4}\\\\) | 1.000 | 0.000 | 4.750 | 0.000 | 0.750 | -0.500 | 1.250 | 1.000 |\n| \\\\(X_{5}\\\\) | 0.000 | 1.000 | -2.250 | 0.000 | -0.250 | 0.500 | -0.750 | 3.000 |\n| \\\\(X_{6}\\\\) | 0.000 | 0.000 | -3.750 | 1.000 | -0.750 | 0.500 | -0.250 | 1.000 |\n"
          },
          "metadata": {}
        },
        {
          "output_type": "display_data",
          "data": {
            "text/plain": "<IPython.core.display.Markdown object>",
            "text/markdown": "### Pivot Operations\n\nVariable to enter: \\\\(X_0\\\\)\nVariable to leave: \\\\(X_4\\\\)\n#### Row Operations:\n\n1. \\\\(R_{X_{4}} \\leftarrow \\frac{R_{X_{4}}}{1.0}\\\\)\n1. \\\\(R_{C} \\leftarrow R_{C} - 0.0R_{X_{4}}\\\\)\n2. \\\\(R_{X_{5}} \\leftarrow R_{X_{5}} - 0.0R_{X_{4}}\\\\)\n3. \\\\(R_{X_{6}} \\leftarrow R_{X_{6}} - 0.0R_{X_{4}}\\\\)\n"
          },
          "metadata": {}
        },
        {
          "output_type": "display_data",
          "data": {
            "text/plain": "<IPython.core.display.Markdown object>",
            "text/markdown": "|   |\\\\(X_{0}\\\\) | \\\\(X_{1}\\\\) | \\\\(X_{2}\\\\) | \\\\(X_{3}\\\\) | \\\\(X_{4}\\\\) | \\\\(X_{5}\\\\) | \\\\(X_{6}\\\\) | RHS |\n|---|---|---|---|---|---|---|---|---|\n| Cost | 0.000 | 0.000 | -16.250 | 0.000 | -4.250 | 2.500 | -2.750 | -1.000 |\n| \\\\(X_{0}\\\\) | 1.000 | 0.000 | 4.750 | 0.000 | 0.750 | -0.500 | 1.250 | 1.000 |\n| \\\\(X_{5}\\\\) | 0.000 | 1.000 | -2.250 | 0.000 | -0.250 | 0.500 | -0.750 | 3.000 |\n| \\\\(X_{6}\\\\) | 0.000 | 0.000 | -3.750 | 1.000 | -0.750 | 0.500 | -0.250 | 1.000 |\n"
          },
          "metadata": {}
        },
        {
          "output_type": "display_data",
          "data": {
            "text/plain": "<IPython.core.display.Markdown object>",
            "text/markdown": "### Pivot Operations\n\nVariable to enter: \\\\(X_1\\\\)\nVariable to leave: \\\\(X_5\\\\)\n#### Row Operations:\n\n1. \\\\(R_{X_{5}} \\leftarrow \\frac{R_{X_{5}}}{1.0}\\\\)\n1. \\\\(R_{C} \\leftarrow R_{C} - 0.0R_{X_{5}}\\\\)\n2. \\\\(R_{X_{0}} \\leftarrow R_{X_{0}} - 0.0R_{X_{5}}\\\\)\n3. \\\\(R_{X_{6}} \\leftarrow R_{X_{6}} - 0.0R_{X_{5}}\\\\)\n"
          },
          "metadata": {}
        },
        {
          "output_type": "display_data",
          "data": {
            "text/plain": "<IPython.core.display.Markdown object>",
            "text/markdown": "|   |\\\\(X_{0}\\\\) | \\\\(X_{1}\\\\) | \\\\(X_{2}\\\\) | \\\\(X_{3}\\\\) | \\\\(X_{4}\\\\) | \\\\(X_{5}\\\\) | \\\\(X_{6}\\\\) | RHS |\n|---|---|---|---|---|---|---|---|---|\n| Cost | 0.000 | 0.000 | -16.250 | 0.000 | -4.250 | 2.500 | -2.750 | -1.000 |\n| \\\\(X_{0}\\\\) | 1.000 | 0.000 | 4.750 | 0.000 | 0.750 | -0.500 | 1.250 | 1.000 |\n| \\\\(X_{1}\\\\) | 0.000 | 1.000 | -2.250 | 0.000 | -0.250 | 0.500 | -0.750 | 3.000 |\n| \\\\(X_{6}\\\\) | 0.000 | 0.000 | -3.750 | 1.000 | -0.750 | 0.500 | -0.250 | 1.000 |\n"
          },
          "metadata": {}
        },
        {
          "output_type": "display_data",
          "data": {
            "text/plain": "<IPython.core.display.Markdown object>",
            "text/markdown": "### Pivot Operations\n\nVariable to enter: \\\\(X_3\\\\)\nVariable to leave: \\\\(X_6\\\\)\n#### Row Operations:\n\n1. \\\\(R_{X_{6}} \\leftarrow \\frac{R_{X_{6}}}{1.0}\\\\)\n1. \\\\(R_{C} \\leftarrow R_{C} - 0.0R_{X_{6}}\\\\)\n2. \\\\(R_{X_{0}} \\leftarrow R_{X_{0}} - 0.0R_{X_{6}}\\\\)\n3. \\\\(R_{X_{1}} \\leftarrow R_{X_{1}} - 0.0R_{X_{6}}\\\\)\n"
          },
          "metadata": {}
        },
        {
          "output_type": "display_data",
          "data": {
            "text/plain": "<IPython.core.display.Markdown object>",
            "text/markdown": "|   |\\\\(X_{0}\\\\) | \\\\(X_{1}\\\\) | \\\\(X_{2}\\\\) | \\\\(X_{3}\\\\) | \\\\(X_{4}\\\\) | \\\\(X_{5}\\\\) | \\\\(X_{6}\\\\) | RHS |\n|---|---|---|---|---|---|---|---|---|\n| Cost | 0.000 | 0.000 | -16.250 | 0.000 | -4.250 | 2.500 | -2.750 | -1.000 |\n| \\\\(X_{0}\\\\) | 1.000 | 0.000 | 4.750 | 0.000 | 0.750 | -0.500 | 1.250 | 1.000 |\n| \\\\(X_{1}\\\\) | 0.000 | 1.000 | -2.250 | 0.000 | -0.250 | 0.500 | -0.750 | 3.000 |\n| \\\\(X_{3}\\\\) | 0.000 | 0.000 | -3.750 | 1.000 | -0.750 | 0.500 | -0.250 | 1.000 |\n"
          },
          "metadata": {}
        }
      ],
      "execution_count": 9
    },
    {
      "cell_type": "markdown",
      "source": "Agora, aplicando o algoritmo a partir desta base",
      "metadata": {}
    },
    {
      "cell_type": "code",
      "source": "I = [0, 1, 3]\n\n'''\n    Display solution\n'''\nZ_star = solution['Z_star']\nI_star = solution['I_star']\nX_star = np.zeros(n)\nX_star[I_star] = solution['X_star']\nsolution_type = solution_types[\n    solution['solution_type']\n]\nsolution_md = f'''\n## Solution\n\n\\\\\\\\(X^{{*}}\\\\\\\\) = {repr(np.round(X_star, 2))}\n\n\\\\\\\\(Z^{{*}} = {repr(np.round(Z_star, 5))} \\\\\\\\)\n\n\\\\\\\\(\\\\text{{I}}^{{*}}\\\\\\\\) = {repr([\n    '\\\\(X_' + str(i) + '\\\\)' for i in I_star\n])}\n'''\ndisplay(\n    Markdown(\n        solution_md\n    )\n)\n\n'''\n    Display Tableaus\n'''\ntableaus = True\nif tableaus:\n    tableau_steps = solution['tableaus']\n    tableau_md = markdown_repr_T(tableau_steps)\n    display(\n        Markdown(\n            tableau_md\n        )\n    )",
      "metadata": {
        "trusted": true
      },
      "outputs": [
        {
          "output_type": "display_data",
          "data": {
            "text/plain": "<IPython.core.display.Markdown object>",
            "text/markdown": "\n## Solution\n\n\\\\(X^{*}\\\\) = array([ 0.67,  0.  ,  1.33,  0.  ,  0.  , 12.  ,  0.  ])\n\n\\\\(Z^{*} = -9.33333 \\\\)\n\n\\\\(\\text{I}^{*}\\\\) = ['\\\\(X_0\\\\)', '\\\\(X_2\\\\)', '\\\\(X_5\\\\)']\n"
          },
          "metadata": {}
        },
        {
          "output_type": "display_data",
          "data": {
            "text/plain": "<IPython.core.display.Markdown object>",
            "text/markdown": "\n\n## Iteration 1\n\nPrevious Tableau:\n\n|   |\\\\(X_{0}\\\\) | \\\\(X_{1}\\\\) | \\\\(X_{2}\\\\) | \\\\(X_{3}\\\\) | \\\\(X_{4}\\\\) | \\\\(X_{5}\\\\) | \\\\(X_{6}\\\\) | RHS |\n|---|---|---|---|---|---|---|---|---|\n| Cost | 0.000 | 0.000 | -16.250 | 0.000 | -4.250 | 2.500 | -2.750 | -1.000 |\n| \\\\(X_{0}\\\\) | 1.000 | 0.000 | 4.750 | 0.000 | 0.750 | -0.500 | 1.250 | 1.000 |\n| \\\\(X_{1}\\\\) | 0.000 | 1.000 | -2.250 | 0.000 | -0.250 | 0.500 | -0.750 | 3.000 |\n| \\\\(X_{3}\\\\) | 0.000 | 0.000 | -3.750 | 1.000 | -0.750 | 0.500 | -0.250 | 1.000 |\n### Pivot Operations\n\nVariable to enter: \\\\(X_{5}\\\\)\nVariable to leave: \\\\(X_{3}\\\\)\n#### Row Operations:\n\n1. \\\\(R_{X_{3}} \\leftarrow \\frac{R_{X_{3}}}{0.5}\\\\)\n1. \\\\(R_{C} \\leftarrow R_{C} - 2.5R_{X_{3}}\\\\)\n2. \\\\(R_{X_{0}} \\leftarrow R_{X_{0}} + 0.5R_{X_{3}}\\\\)\n3. \\\\(R_{X_{1}} \\leftarrow R_{X_{1}} - 0.5R_{X_{3}}\\\\)\n\n\nComputed Tableau:\n\n|   |\\\\(X_{0}\\\\) | \\\\(X_{1}\\\\) | \\\\(X_{2}\\\\) | \\\\(X_{3}\\\\) | \\\\(X_{4}\\\\) | \\\\(X_{5}\\\\) | \\\\(X_{6}\\\\) | RHS |\n|---|---|---|---|---|---|---|---|---|\n| Cost | 0.000 | 0.000 | 2.500 | -5.000 | -0.500 | 0.000 | -1.500 | -6.000 |\n| \\\\(X_{0}\\\\) | 1.000 | 0.000 | 1.000 | 1.000 | 0.000 | 0.000 | 1.000 | 2.000 |\n| \\\\(X_{1}\\\\) | 0.000 | 1.000 | 1.500 | -1.000 | 0.500 | 0.000 | -0.500 | 2.000 |\n| \\\\(X_{5}\\\\) | 0.000 | 0.000 | -7.500 | 2.000 | -1.500 | 1.000 | -0.500 | 2.000 |\n\n\n## Iteration 2\n\nPrevious Tableau:\n\n|   |\\\\(X_{0}\\\\) | \\\\(X_{1}\\\\) | \\\\(X_{2}\\\\) | \\\\(X_{3}\\\\) | \\\\(X_{4}\\\\) | \\\\(X_{5}\\\\) | \\\\(X_{6}\\\\) | RHS |\n|---|---|---|---|---|---|---|---|---|\n| Cost | 0.000 | 0.000 | 2.500 | -5.000 | -0.500 | 0.000 | -1.500 | -6.000 |\n| \\\\(X_{0}\\\\) | 1.000 | 0.000 | 1.000 | 1.000 | 0.000 | 0.000 | 1.000 | 2.000 |\n| \\\\(X_{1}\\\\) | 0.000 | 1.000 | 1.500 | -1.000 | 0.500 | 0.000 | -0.500 | 2.000 |\n| \\\\(X_{5}\\\\) | 0.000 | 0.000 | -7.500 | 2.000 | -1.500 | 1.000 | -0.500 | 2.000 |\n### Pivot Operations\n\nVariable to enter: \\\\(X_{2}\\\\)\nVariable to leave: \\\\(X_{1}\\\\)\n#### Row Operations:\n\n1. \\\\(R_{X_{1}} \\leftarrow \\frac{R_{X_{1}}}{1.5}\\\\)\n1. \\\\(R_{C} \\leftarrow R_{C} - 2.5R_{X_{1}}\\\\)\n2. \\\\(R_{X_{0}} \\leftarrow R_{X_{0}} - 1.0R_{X_{1}}\\\\)\n3. \\\\(R_{X_{5}} \\leftarrow R_{X_{5}} + 7.5R_{X_{1}}\\\\)\n\n\nComputed Tableau:\n\n|   |\\\\(X_{0}\\\\) | \\\\(X_{1}\\\\) | \\\\(X_{2}\\\\) | \\\\(X_{3}\\\\) | \\\\(X_{4}\\\\) | \\\\(X_{5}\\\\) | \\\\(X_{6}\\\\) | RHS |\n|---|---|---|---|---|---|---|---|---|\n| Cost | 0.000 | -1.667 | 0.000 | -3.333 | -1.333 | 0.000 | -0.667 | -9.333 |\n| \\\\(X_{0}\\\\) | 1.000 | -0.667 | 0.000 | 1.667 | -0.333 | 0.000 | 1.333 | 0.667 |\n| \\\\(X_{2}\\\\) | 0.000 | 0.667 | 1.000 | -0.667 | 0.333 | 0.000 | -0.333 | 1.333 |\n| \\\\(X_{5}\\\\) | 0.000 | 5.000 | 0.000 | -3.000 | 1.000 | 1.000 | -3.000 | 12.000 |\n"
          },
          "metadata": {}
        }
      ],
      "execution_count": 10
    },
    {
      "cell_type": "markdown",
      "source": "## Exercício 3.28",
      "metadata": {}
    },
    {
      "cell_type": "code",
      "source": "C = np.array([3, -2, 1, -1, 0, 0, 0])\nA = np.array([\n    [ 2, -3, -1,  1, 1, 0, 0],\n    [-1,  2,  2, -3, 0, 1, 0],\n    [-1,  1, -4,  1, 0, 0, 1]\n])\nB = np.array([0, 1, 8])\n\nm, n = A.shape\nI = [4, 5, 6]\n\nsolution = simplex_tableau(A, B, C, I)\n\n'''\n    Display solution\n'''\nZ_star = solution['Z_star']\nI_star = solution['I_star']\nX_star = np.zeros(n)\nX_star[I_star] = solution['X_star']\nsolution_type = solution_types[\n    solution['solution_type']\n]\nsolution_md = f'''\n## Solution\n\nSolution type: {solution_type}\n\n\\\\\\\\(X^{{*}}\\\\\\\\) = {repr(np.round(X_star, 2))}\n\n\\\\\\\\(Z^{{*}} = {repr(np.round(Z_star, 5))} \\\\\\\\)\n\n\\\\\\\\(\\\\text{{I}}^{{*}}\\\\\\\\) = {repr([\n    '\\\\(X_' + str(i) + '\\\\)' for i in I_star\n])}\n'''\ndisplay(\n    Markdown(\n        solution_md\n    )\n)\n\n'''\n    Display Tableaus\n'''\ntableaus = True\nif tableaus:\n    tableau_steps = solution['tableaus']\n    tableau_md = markdown_repr_T(tableau_steps)\n    display(\n        Markdown(\n            tableau_md\n        )\n    )",
      "metadata": {
        "trusted": true
      },
      "outputs": [
        {
          "output_type": "display_data",
          "data": {
            "text/plain": "<IPython.core.display.Markdown object>",
            "text/markdown": "\n## Solution\n\nSolution type: Unbounded\n\n\\\\(X^{*}\\\\) = array([ 0.,  5.,  0.,  3., 12.,  0.,  0.])\n\n\\\\(Z^{*} = -13.0 \\\\)\n\n\\\\(\\text{I}^{*}\\\\) = ['\\\\(X_4\\\\)', '\\\\(X_1\\\\)', '\\\\(X_3\\\\)']\n"
          },
          "metadata": {}
        },
        {
          "output_type": "display_data",
          "data": {
            "text/plain": "<IPython.core.display.Markdown object>",
            "text/markdown": "\n\n## Iteration 1\n\nPrevious Tableau:\n\n|   |\\\\(X_{0}\\\\) | \\\\(X_{1}\\\\) | \\\\(X_{2}\\\\) | \\\\(X_{3}\\\\) | \\\\(X_{4}\\\\) | \\\\(X_{5}\\\\) | \\\\(X_{6}\\\\) | RHS |\n|---|---|---|---|---|---|---|---|---|\n| Cost | -3.000 | 2.000 | -1.000 | 1.000 | 0.000 | 0.000 | 0.000 | 0.000 |\n| \\\\(X_{4}\\\\) | 2.000 | -3.000 | -1.000 | 1.000 | 1.000 | 0.000 | 0.000 | 0.000 |\n| \\\\(X_{5}\\\\) | -1.000 | 2.000 | 2.000 | -3.000 | 0.000 | 1.000 | 0.000 | 1.000 |\n| \\\\(X_{6}\\\\) | -1.000 | 1.000 | -4.000 | 1.000 | 0.000 | 0.000 | 1.000 | 8.000 |\n### Pivot Operations\n\nVariable to enter: \\\\(X_{1}\\\\)\nVariable to leave: \\\\(X_{5}\\\\)\n#### Row Operations:\n\n1. \\\\(R_{X_{5}} \\leftarrow \\frac{R_{X_{5}}}{2.0}\\\\)\n1. \\\\(R_{C} \\leftarrow R_{C} - 2.0R_{X_{5}}\\\\)\n2. \\\\(R_{X_{4}} \\leftarrow R_{X_{4}} + 3.0R_{X_{5}}\\\\)\n3. \\\\(R_{X_{6}} \\leftarrow R_{X_{6}} - 1.0R_{X_{5}}\\\\)\n\n\nComputed Tableau:\n\n|   |\\\\(X_{0}\\\\) | \\\\(X_{1}\\\\) | \\\\(X_{2}\\\\) | \\\\(X_{3}\\\\) | \\\\(X_{4}\\\\) | \\\\(X_{5}\\\\) | \\\\(X_{6}\\\\) | RHS |\n|---|---|---|---|---|---|---|---|---|\n| Cost | -2.000 | 0.000 | -3.000 | 4.000 | 0.000 | -1.000 | 0.000 | -1.000 |\n| \\\\(X_{4}\\\\) | 0.500 | 0.000 | 2.000 | -3.500 | 1.000 | 1.500 | 0.000 | 1.500 |\n| \\\\(X_{1}\\\\) | -0.500 | 1.000 | 1.000 | -1.500 | 0.000 | 0.500 | 0.000 | 0.500 |\n| \\\\(X_{6}\\\\) | -0.500 | 0.000 | -5.000 | 2.500 | 0.000 | -0.500 | 1.000 | 7.500 |\n\n\n## Iteration 2\n\nPrevious Tableau:\n\n|   |\\\\(X_{0}\\\\) | \\\\(X_{1}\\\\) | \\\\(X_{2}\\\\) | \\\\(X_{3}\\\\) | \\\\(X_{4}\\\\) | \\\\(X_{5}\\\\) | \\\\(X_{6}\\\\) | RHS |\n|---|---|---|---|---|---|---|---|---|\n| Cost | -2.000 | 0.000 | -3.000 | 4.000 | 0.000 | -1.000 | 0.000 | -1.000 |\n| \\\\(X_{4}\\\\) | 0.500 | 0.000 | 2.000 | -3.500 | 1.000 | 1.500 | 0.000 | 1.500 |\n| \\\\(X_{1}\\\\) | -0.500 | 1.000 | 1.000 | -1.500 | 0.000 | 0.500 | 0.000 | 0.500 |\n| \\\\(X_{6}\\\\) | -0.500 | 0.000 | -5.000 | 2.500 | 0.000 | -0.500 | 1.000 | 7.500 |\n### Pivot Operations\n\nVariable to enter: \\\\(X_{3}\\\\)\nVariable to leave: \\\\(X_{6}\\\\)\n#### Row Operations:\n\n1. \\\\(R_{X_{6}} \\leftarrow \\frac{R_{X_{6}}}{2.5}\\\\)\n1. \\\\(R_{C} \\leftarrow R_{C} - 4.0R_{X_{6}}\\\\)\n2. \\\\(R_{X_{4}} \\leftarrow R_{X_{4}} + 3.5R_{X_{6}}\\\\)\n3. \\\\(R_{X_{1}} \\leftarrow R_{X_{1}} + 1.5R_{X_{6}}\\\\)\n\n\nComputed Tableau:\n\n|   |\\\\(X_{0}\\\\) | \\\\(X_{1}\\\\) | \\\\(X_{2}\\\\) | \\\\(X_{3}\\\\) | \\\\(X_{4}\\\\) | \\\\(X_{5}\\\\) | \\\\(X_{6}\\\\) | RHS |\n|---|---|---|---|---|---|---|---|---|\n| Cost | -1.200 | 0.000 | 5.000 | 0.000 | 0.000 | -0.200 | -1.600 | -13.000 |\n| \\\\(X_{4}\\\\) | -0.200 | 0.000 | -5.000 | 0.000 | 1.000 | 0.800 | 1.400 | 12.000 |\n| \\\\(X_{1}\\\\) | -0.800 | 1.000 | -2.000 | 0.000 | 0.000 | 0.200 | 0.600 | 5.000 |\n| \\\\(X_{3}\\\\) | -0.200 | 0.000 | -2.000 | 1.000 | 0.000 | -0.200 | 0.400 | 3.000 |\n"
          },
          "metadata": {}
        }
      ],
      "execution_count": 11
    },
    {
      "cell_type": "markdown",
      "source": "Como \\\\(X_2\\\\) é ilimitada, ou seja, nenhuma variável da base limita seu crescimento, é interessante sempre adicionar valores à variável \\\\(X_2\\\\) para que a medida em que \\\\(X_2 \\rightarrow \\infty, \\quad Z^{*} \\rightarrow - \\infty \\\\). Isso pode ser obtido através da base \\\\(I^{*} = [X_4, X_1, X_3]\\\\) como:\n\n\\\\[\n    X_I = {A_I}^{-1} \\overline{b} - \\left[ y_k \\right] x_k\n\\\\]\n\nComo \\\\(k = 2\\\\) e \\\\(b^{T} = \\left[ 12, 5, 3 \\right] \\\\), logo:\n\n\\\\[\n    X^{*} = \\left\\{\n        \\begin{bmatrix}\n            \\underline{{A_I}^{-1} \\overline{b}} \\\\\n            0 \\\\\n            \\vdots \\\\\n            0 \\\\\n            \\vdots \\\\\n            0\n        \\end{bmatrix} + x_k \\ \n        \\begin{bmatrix}\n            \\underline{- y_k} \\\\\n            0 \\\\\n            \\vdots \\\\\n            1 \\\\\n            \\vdots \\\\\n            0\n        \\end{bmatrix} : x_k \\geq 0\n    \\right\\}\n\\\\]\n\nOnde o vetor \\\\( \n    \\begin{bmatrix}\n        \\underline{- y_k} \\\\\n        0 \\\\\n        \\vdots \\\\\n        1 \\\\\n        \\vdots \\\\\n        0\n    \\end{bmatrix}\n\\\\) representa a direção \\\\(d\\\\) do crescimento da variável ilimitada e é composto nos índices básicos pelos valores \\\\(- y_k\\\\) onde \\\\(y_k\\\\) corresponde à coluna \\\\(k\\\\) da matriz de \\\\(A\\\\) de restições — dada por \\\\(A_{\\left[ :, k \\right]}\\\\) — e nos índices básicos por zeros, exceto na k-ésima posição das variáveis não-básicas.\n\nAssim, temos que\n\n\\\\[\n    X^{*} = \\left\\{\n        \\begin{bmatrix}\n            12 \\\\\n             5 \\\\\n             3 \\\\\n             0 \\\\\n             0 \\\\\n             0 \\\\\n             0\n        \\end{bmatrix} + x_2 \\ \n        \\begin{bmatrix}\n             5 \\\\\n             2 \\\\\n             2 \\\\\n             0 \\\\\n             0 \\\\\n             1 \\\\\n             0\n        \\end{bmatrix} = \n        \\begin{bmatrix}\n            12 + 5 x_2 \\\\\n             5 + 2 x_2 \\\\\n             3 + 2 x_2 \\\\\n             0 \\\\\n             0 \\\\\n             x_2 \\\\\n             0\n        \\end{bmatrix}\n    \\right\\}\n\\\\]\n\nConsiderando \\\\(I = [4, 1, 3]\\\\) e \\\\(J = [0, 5, 2, 6]\\\\)\n\n\\\\[\n    X^{*} =\n    \\begin{bmatrix}\n            0 \\\\\n            5 + 2 x_2 \\\\\n            x_2  \\\\\n            3 + 2 x_2 \\\\\n            12 + 5 x_2 \\\\\n            0 \\\\\n            0\n    \\end{bmatrix}\n\\\\]\n\nAgora, o exercício solicita-nos um valor de x2 que garanta que a função objetivo seja maior ou igual a 3500. Com o auxilio da biblioteca sympy (computação simbolica) é possível encontrar de imediato qual valor satisfaz a condição dado que desejamos:\n\n\\\\[\n    C^{T} \\cdot \\begin{bmatrix}\n            0 \\\\\n            5 + 2 x_2 \\\\\n            x_2  \\\\\n            3 + 2 x_2 \\\\\n            12 + 5 x_2 \\\\\n            0 \\\\\n            0\n    \\end{bmatrix} \\geq 3500\n\\\\]",
      "metadata": {}
    },
    {
      "cell_type": "code",
      "source": "from sympy import symbols, Matrix, solve\n\nalpha = symbols('α')\n\nX_unbounded = Matrix([\n    0,\n    5 + 2 * alpha,\n    alpha,\n    3 + 2* alpha,\n    12 + 5 * alpha,\n    0,\n    0\n])\ndisplay(C.dot(X_unbounded))\ndisplay(\n    Markdown(\n        repr(solve(C.dot(X_unbounded) + 3500))\n    )\n)",
      "metadata": {
        "trusted": true
      },
      "outputs": [
        {
          "output_type": "display_data",
          "data": {
            "text/plain": "array([-5*α - 13], dtype=object)"
          },
          "metadata": {}
        },
        {
          "output_type": "display_data",
          "data": {
            "text/plain": "<IPython.core.display.Markdown object>",
            "text/markdown": "{α: 3487/5}"
          },
          "metadata": {}
        }
      ],
      "execution_count": 12
    },
    {
      "cell_type": "code",
      "source": "alpha = 3487/5\n\nX_unbounded = np.array([\n    0,\n    5 + 2 * alpha,\n    alpha,\n    3 + 2* alpha,\n    12 + 5 * alpha,\n    0,\n    0\n])\n\nC @ X_unbounded",
      "metadata": {
        "trusted": true
      },
      "outputs": [
        {
          "execution_count": 13,
          "output_type": "execute_result",
          "data": {
            "text/plain": "-3500.0"
          },
          "metadata": {}
        }
      ],
      "execution_count": 13
    },
    {
      "cell_type": "markdown",
      "source": "Portanto, \\\\(X_2 \\geq \\frac{3487}{5}\\\\) faz com que \\\\(Z^{*} \\geq -3500 \\therefore Z^{*} \\geq 3500\\\\), considerando a conversão do problema de minimização adaptado para o problema original de maximização.",
      "metadata": {}
    },
    {
      "cell_type": "code",
      "source": "X_unbounded",
      "metadata": {
        "trusted": true
      },
      "outputs": [],
      "execution_count": null
    },
    {
      "cell_type": "markdown",
      "source": "## Exercício 3.29",
      "metadata": {}
    },
    {
      "cell_type": "code",
      "source": "A = np.array([\n    [  5,   1,   -1,   2, 1, 0, 1,  0, 0,  0, 0, 0],\n    [  5,   1,   -1,   2, 1, 0, 0, -1, 0,  0, 0, 0],\n    [-14,  -3,    3,  -5, 0, 1, 0,  0, 1,  0, 0, 0],\n    [-14,  -3,    3,  -5, 0, 1, 0,  0, 0, -1, 0, 0],\n    [  2, 0.5, -0.5, 0.5, 0, 0, 0,  0, 0,  0, 1, 0],\n    [  3, 0.5,  0.5, 1.5, 0, 0, 0,  0, 0,  0, 0, 1]\n])\nB = np.array([\n     12,\n     12,\n      2,\n      2,\n    2.5,\n      3\n])\nC = np.array([-11, -2, 1, -3, -4, -1, 0, 0, 0, 0, 0, 0])\n\nm, n = A.shape\nI = [6, 4, 8, 5, 10, 11]\n\nsolution = simplex_tableau(A, B, C, I)\n\n'''\n    Display solution\n'''\nZ_star = solution['Z_star']\nI_star = solution['I_star']\nX_star = np.zeros(n)\nX_star[I_star] = solution['X_star']\nsolution_type = solution_types[\n    solution['solution_type']\n]\nsolution_md = f'''\n## Solution\n\nSolution type: {solution_type}\n\n\\\\\\\\(X^{{*}}\\\\\\\\) = {repr(np.round(X_star, 2))}\n\n\\\\\\\\(Z^{{*}} = {repr(np.round(Z_star, 5))} \\\\\\\\)\n\n\\\\\\\\(\\\\text{{I}}^{{*}}\\\\\\\\) = {repr([\n    '\\\\(X_' + str(i) + '\\\\)' for i in I_star\n])}\n'''\ndisplay(\n    Markdown(\n        solution_md\n    )\n)\n\n'''\n    Display Tableaus\n'''\ntableaus = True\nif tableaus:\n    tableau_steps = solution['tableaus']\n    tableau_md = markdown_repr_T(tableau_steps)\n    display(\n        Markdown(\n            tableau_md\n        )\n    )",
      "metadata": {
        "trusted": true
      },
      "outputs": [],
      "execution_count": null
    },
    {
      "cell_type": "code",
      "source": "%pip install scipy\nfrom scipy.optimize import linprog\nresult = linprog(C, A_eq = A, b_eq = B, method='highs')\nprint('Result comparison, we found the optimal solution through our tableaus')\ndisplay(result)",
      "metadata": {
        "trusted": true
      },
      "outputs": [],
      "execution_count": null
    },
    {
      "cell_type": "markdown",
      "source": "## Exercício 3.30\n\nLetra a)",
      "metadata": {}
    },
    {
      "cell_type": "code",
      "source": "A = np.array([\n    [2, 1, 0, 1, 0, 0],\n    [3, 3, 1, 0, 1, 0],\n    [1, 2, 2, 0, 0, 1]\n])\n\nB = np.array([\n    6000,\n    9000,\n    4000\n])\n\nC = np.array([\n    10, 15, 5, 0, 0, 0\n])\n\nmaximum = -float('inf')\nfor i, I in enumerate(combinations(range(6), 3)):\n    if np.linalg.det(A[:,I]) == 0:\n        continue\n    x_I = np.linalg.solve(A[:,I], B)\n    x = np.zeros(6)\n    x[[I]] = x_I\n    if np.all(x >= 0): # solucao valida\n        z = C @ x\n        if z > maximum: # devemos atualizar os valores\n            X_star = x\n            Z_star = z\n            I_star = I\n            maximum = z\n            ith_combination = i + 1\ndisplay(f'I_star: {I_star}')\ndisplay(f'X_star: {X_star}')\ndisplay(f'Z_star: {Z_star}')",
      "metadata": {
        "trusted": true
      },
      "outputs": [],
      "execution_count": null
    },
    {
      "cell_type": "markdown",
      "source": "Letra b)",
      "metadata": {}
    },
    {
      "cell_type": "code",
      "source": "I = list(I_star)\nsolution = simplex_tableau(A, B, -C, I)\n\n'''\n    Display solution\n'''\nm, n = A.shape\nZ_star = solution['Z_star']\nI_star = solution['I_star']\nX_star = np.zeros(n)\nX_star[I_star] = solution['X_star']\nsolution_type = solution_types[\n    solution['solution_type']\n]\nsolution_md = f'''\n## Solution\n\nSolution type: {solution_type}\n\n\\\\\\\\(X^{{*}}\\\\\\\\) = {repr(np.round(X_star, 2))}\n\n\\\\\\\\(Z^{{*}} = {repr(np.round(Z_star, 5))} \\\\\\\\)\n\n\\\\\\\\(\\\\text{{I}}^{{*}}\\\\\\\\) = {repr([\n    '\\\\(X_' + str(i) + '\\\\)' for i in I_star\n])}\n'''\ndisplay(\n    Markdown(\n        solution_md\n    )\n)\n\n'''\n    Display Tableaus\n'''\ntableaus = True\nif tableaus:\n    tableau_steps = solution['tableaus']\n    tableau_md = markdown_repr_T(tableau_steps)\n    display(\n        Markdown(\n            tableau_md\n        )\n    )",
      "metadata": {
        "trusted": true
      },
      "outputs": [],
      "execution_count": null
    },
    {
      "cell_type": "code",
      "source": "A = np.hstack((A[:,:3], np.array([\n    [2],\n    [4],\n    [2]\n]), A[:,3:]))\nC = np.hstack((C[:3],[50003/3000],C[3:]))\n\nI = list([4, 5, 6])\nsolution = simplex_tableau(A, B, -C, I)\n\n'''\n    Display solution\n'''\nm, n = A.shape\nZ_star = solution['Z_star']\nI_star = solution['I_star']\nX_star = np.zeros(n)\nX_star[I_star] = solution['X_star']\nsolution_type = solution_types[\n    solution['solution_type']\n]\nsolution_md = f'''\n## Solution\n\nSolution type: {solution_type}\n\n\\\\\\\\(X^{{*}}\\\\\\\\) = {repr(np.round(X_star, 2))}\n\n\\\\\\\\(Z^{{*}} = {repr(np.round(Z_star, 5))} \\\\\\\\)\n\n\\\\\\\\(\\\\text{{I}}^{{*}}\\\\\\\\) = {repr([\n    '\\\\(X_' + str(i) + '\\\\)' for i in I_star\n])}\n'''\ndisplay(\n    Markdown(\n        solution_md\n    )\n)\n\n'''\n    Display Tableaus\n'''\ntableaus = True\nif tableaus:\n    tableau_steps = solution['tableaus']\n    tableau_md = markdown_repr_T(tableau_steps)\n    display(\n        Markdown(\n            tableau_md\n        )\n    )",
      "metadata": {
        "trusted": true
      },
      "outputs": [],
      "execution_count": null
    },
    {
      "cell_type": "code",
      "source": "A, B, C",
      "metadata": {
        "trusted": true
      },
      "outputs": [],
      "execution_count": null
    },
    {
      "cell_type": "code",
      "source": "%pip install scipy\nfrom scipy.optimize import linprog\nresult = linprog(-C, A_eq = A, b_eq = B, method='highs')\nprint('Result comparison, we found the optimal solution through our tableaus')\ndisplay(result)",
      "metadata": {
        "trusted": true
      },
      "outputs": [],
      "execution_count": null
    },
    {
      "cell_type": "markdown",
      "source": "## Exercício 3.31",
      "metadata": {}
    },
    {
      "cell_type": "code",
      "source": "A = np.array([\n    [20, 15, -1, 1, 0, 0],\n    [1,   0,  0, 0, 1, 0],\n    [0,   1,  0, 0, 0, 1]\n])\nB = np.array([\n    60000,\n     2000,\n     4000\n])\nC = np.array([-60, -30, 14, 0, 0, 0])\n\nm, n = A.shape\nI = [3, 0, 5]\n\nsolution = simplex_tableau(A, B, C, I)\n\n'''\n    Display solution\n'''\nZ_star = solution['Z_star']\nI_star = solution['I_star']\nX_star = np.zeros(n)\nX_star[I_star] = solution['X_star']\nsolution_type = solution_types[\n    solution['solution_type']\n]\nsolution_md = f'''\n## Solution\n\nSolution type: {solution_type}\n\n\\\\\\\\(X^{{*}}\\\\\\\\) = {repr(np.round(X_star, 2))}\n\n\\\\\\\\(Z^{{*}} = {repr(np.round(Z_star, 5))} \\\\\\\\)\n\n\\\\\\\\(\\\\text{{I}}^{{*}}\\\\\\\\) = {repr([\n    '\\\\(X_' + str(i) + '\\\\)' for i in I_star\n])}\n'''\ndisplay(\n    Markdown(\n        solution_md\n    )\n)\n\n'''\n    Display Tableaus\n'''\ntableaus = True\nif tableaus:\n    tableau_steps = solution['tableaus']\n    tableau_md = markdown_repr_T(tableau_steps)\n    display(\n        Markdown(\n            tableau_md\n        )\n    )",
      "metadata": {
        "scrolled": true,
        "trusted": true
      },
      "outputs": [],
      "execution_count": null
    },
    {
      "cell_type": "markdown",
      "source": "## Exercício 5.1",
      "metadata": {}
    },
    {
      "cell_type": "code",
      "source": "from simplex_two_phases import _simplex_find_feasible_initial_basis\nfrom revised_simplex_tableau import revised_simplex_tableau, markdown_repr_T\nfrom utils import array_to_markdown\n\nresults_md = ''\n\nC = np.array([1, 4, -7, 1, 5, 0, 0, 0, 0])\nA = np.array([\n    [1, -0.75, 2, -0.25, 0, 1,  0, 0,  0],\n    [1, -0.75, 2, -0.25, 0, 0, -1, 0,  0],\n    [0, -0.25, 3, -0.75, 1, 0,  0, 1,  0],\n    [0, -0.25, 3, -0.75, 1, 0,  0, 0, -1],\n])\nB = np.array([\n    6,\n    6,\n    5,\n    5\n])\nI = [5, 6, 7, 8]\n\nI_sanitized, A_I_sanitized, A_sanitized, B_sanitized, feasible, iters_count, debug_info = _simplex_find_feasible_initial_basis(A, B, C, I)\n\nsolution = revised_simplex_tableau(A, B, C, I_sanitized)\nresults_md += markdown_repr_T(solution)\n\ndisplay(\n    Markdown(results_md)\n)",
      "metadata": {
        "trusted": true
      },
      "outputs": [],
      "execution_count": null
    },
    {
      "cell_type": "markdown",
      "source": "## Result Comparison through scipy",
      "metadata": {}
    },
    {
      "cell_type": "code",
      "source": "from scipy.optimize import linprog\nresult = linprog(C, A_eq = A, b_eq = B, method='highs')\nprint('Result comparison, we found the optimal solution through our tableaus')\ndisplay(result)",
      "metadata": {
        "trusted": true
      },
      "outputs": [],
      "execution_count": null
    },
    {
      "cell_type": "markdown",
      "source": "## Exercício 5.2",
      "metadata": {}
    },
    {
      "cell_type": "code",
      "source": "from revised_simplex_tableau import revised_simplex_tableau, markdown_repr_T\nA = np.array([\n    [-1,  2, -1, 1, 0, 0],\n    [ 1,  1,  1, 0, 1, 0],\n    [ 2, -1, -1, 0, 0, 1]\n])\nB = np.array([\n    4,\n    7,\n    5\n])\nC = np.array([0, 2, -1, 0, 0, 0])\nI = [3, 4, 5]\nsolution = revised_simplex_tableau(A, B, C, I)\nresults_md = markdown_repr_T(solution)\n\ndisplay(\n    Markdown(results_md)\n)\ndisplay(\n    solution\n)",
      "metadata": {
        "trusted": true
      },
      "outputs": [],
      "execution_count": null
    },
    {
      "cell_type": "markdown",
      "source": "## Result Comparison through scipy",
      "metadata": {}
    },
    {
      "cell_type": "code",
      "source": "from scipy.optimize import linprog\nresult = linprog(C, A_eq = A, b_eq = B, method='highs')\nprint('Result comparison, we found the optimal solution through our tableaus')\ndisplay(result)",
      "metadata": {
        "trusted": true
      },
      "outputs": [],
      "execution_count": null
    },
    {
      "cell_type": "markdown",
      "source": "## Exercício 5.3",
      "metadata": {}
    },
    {
      "cell_type": "code",
      "source": "from revised_simplex_tableau import revised_simplex_tableau, markdown_repr_T\nA = np.array([\n    [8, 3, 4, 1, 1, 0, 0],\n    [2, 1, 1, 5, 0, 1, 0],\n    [1, 4, 5, 2, 0, 0, 1]\n])\nB = np.array([\n    7,\n    3,\n    8\n])\nC = np.array([-3, -2, -1, -1, 0, 0, 0])\nI = [4, 5, 6]\nsolution = revised_simplex_tableau(A, B, C, I)\nresults_md = markdown_repr_T(solution)\n\ndisplay(\n    Markdown(results_md)\n)\ndisplay(\n    solution\n)",
      "metadata": {
        "trusted": true
      },
      "outputs": [],
      "execution_count": null
    },
    {
      "cell_type": "markdown",
      "source": "## Result Comparison through scipy",
      "metadata": {}
    },
    {
      "cell_type": "code",
      "source": "from scipy.optimize import linprog\nresult = linprog(C, A_eq = A, b_eq = B, method='highs')\nprint('Result comparison, we found the optimal solution through our tableaus')\ndisplay(result)",
      "metadata": {
        "trusted": true
      },
      "outputs": [],
      "execution_count": null
    },
    {
      "cell_type": "markdown",
      "source": "## Exercício 5.7",
      "metadata": {}
    },
    {
      "cell_type": "code",
      "source": "from revised_simplex_tableau import revised_simplex_tableau, markdown_repr_T\nfrom simplex_two_phases import _simplex_find_feasible_initial_basis\nfrom utils import array_to_markdown\n\nslack_excess_matrix = np.eye(9)\nexcess_indices = [1, 3, 4, 5]\nfor excess_index in excess_indices:\n    slack_excess_matrix[\n        excess_index, excess_index\n    ] = -1\n\nA = np.array([\n    [1, 1, 0, 1, 0],\n    [1, 1, 0, 1, 0],\n    [0, 0, 1, 0, 1],\n    [0, 0, 1, 0, 1],\n    [1, 1, 0, 0, 0],\n    [0, 0, 1, 0, 0],\n    [1, 0, 0, 0, 0],\n    [0,12,16, 0, 0],\n    [0, 0, 0,12,16]\n])\n\nA = np.hstack((A, slack_excess_matrix))\n\nB = np.array([\n    400,\n    400,\n    500,\n    500,\n    250,\n    200,\n    200,\n    4500,\n    6000\n])\nC = np.array([\n    450, 420, 560, 480, 640, 0, 0, 0, 0, 0, 0, 0, 0, 0\n])\nI = list(range(5,14))\n\nI_sanitized, A_I_sanitized, A_sanitized, B_sanitized, feasible, iters_count, debug_info = _simplex_find_feasible_initial_basis(A, B, C, I)\n\nsolution = revised_simplex_tableau(A, B, C, list(I_sanitized))\n\nresults_md = markdown_repr_T(solution)\n\ndisplay(\n    Markdown(results_md)\n)",
      "metadata": {
        "trusted": true
      },
      "outputs": [],
      "execution_count": null
    },
    {
      "cell_type": "markdown",
      "source": "## Result Comparison through scipy",
      "metadata": {}
    },
    {
      "cell_type": "code",
      "source": "from scipy.optimize import linprog\nresult = linprog(C, A_eq = A, b_eq = B, method='highs')\nprint('Result comparison, we found the optimal solution through our tableaus')\ndisplay(result)\ndisplay(result['x'])",
      "metadata": {
        "trusted": true
      },
      "outputs": [],
      "execution_count": null
    },
    {
      "cell_type": "markdown",
      "source": "### Showing that the problem admits multiple optimal solutions through different solutions that respects the same constraints and retrieves the same optimal value through different X values",
      "metadata": {}
    },
    {
      "cell_type": "code",
      "source": "print('Same constraints?', np.all(A @ result['x'] == A @ solution[4]['X']))\nprint('Same optimal cost?', np.isclose(C @ result['x'], C @ solution[4]['X']))\nprint('Same values for variables?', np.all(result['x'] == solution[4]['X']))",
      "metadata": {
        "trusted": true
      },
      "outputs": [],
      "execution_count": null
    },
    {
      "cell_type": "markdown",
      "source": "### Building the solution in function of \\\\(x_9\\\\)",
      "metadata": {}
    },
    {
      "cell_type": "code",
      "source": "from sympy import symbols, Matrix, latex\nI = solution[4]['I']\nJ = solution[4]['J']\nk = J [\n    solution[4]['k']\n]\n_, n = A.shape\nA_I_inv = solution[4]['T'][1:,:-1]\nx_k = symbols(f'x_{k}')\nx_I = A_I_inv @ B - A_I_inv @ A_k * x_k\nx = np.zeros(n, dtype=object)\nx[k] = x_k\nx[I] = x_I.flatten()\nx = Matrix(x)\ndisplay(\n    x\n)\ndisplay(\n    Markdown(\n        f'Does A @ x for any \\\\\\\\(x_{{{k}}}\\\\\\\\) respects the constraints? {'Yes' if A @ x == Matrix(B) else 'No'}'\n    )\n)",
      "metadata": {
        "trusted": true
      },
      "outputs": [],
      "execution_count": null
    },
    {
      "cell_type": "markdown",
      "source": "### Finding upper limits for \\\\(x_9\\\\) that will keep non negativity constraints",
      "metadata": {}
    },
    {
      "cell_type": "code",
      "source": "upper_limit = solve(43.75 - 0.75*x_k).pop()\n\nanswer = f'''\n$$\n\\\\begin{{aligned}}\n& {latex(x)}, \\\\\\\\\n& 0 \\\\leq x_{{{k}}} \\\\leq {f'{upper_limit:.2f}'}\n\\\\end{{aligned}}\n$$\n'''\n\ndisplay(\n    Markdown(\n        answer\n    )\n)",
      "metadata": {
        "trusted": true
      },
      "outputs": [],
      "execution_count": null
    },
    {
      "cell_type": "markdown",
      "source": "### Testing $x_9$ limits",
      "metadata": {}
    },
    {
      "cell_type": "code",
      "source": "domain = np.linspace(0, 58.5, int(1/0.001 - 1))\npoints_greater_than_upper_limit = len(domain[ domain > upper_limit])\nnon_negativity_constraints_violated = 0\nfor d in domain:\n    if np.any(np.array(x.subs(x_k, d)) < 0):\n        non_negativity_constraints_violated += 1\ndisplay(f'Points greater than {upper_limit:.2f} in our linspace: {points_greater_than_upper_limit}')\ndisplay(f'Non negativity constraints violated for x in that same linspace: {non_negativity_constraints_violated}')",
      "metadata": {
        "trusted": true
      },
      "outputs": [
        {
          "ename": "<class 'NameError'>",
          "evalue": "name 'np' is not defined",
          "traceback": [
            "\u001b[0;31m---------------------------------------------------------------------------\u001b[0m",
            "\u001b[0;31mNameError\u001b[0m                                 Traceback (most recent call last)",
            "Cell \u001b[0;32mIn[1], line 1\u001b[0m\n\u001b[0;32m----> 1\u001b[0m domain \u001b[38;5;241m=\u001b[39m \u001b[43mnp\u001b[49m\u001b[38;5;241m.\u001b[39mlinspace(\u001b[38;5;241m0\u001b[39m, \u001b[38;5;241m58.5\u001b[39m, \u001b[38;5;28mint\u001b[39m(\u001b[38;5;241m1\u001b[39m\u001b[38;5;241m/\u001b[39m\u001b[38;5;241m0.001\u001b[39m \u001b[38;5;241m-\u001b[39m \u001b[38;5;241m1\u001b[39m))\n\u001b[1;32m      2\u001b[0m points_greater_than_upper_limit \u001b[38;5;241m=\u001b[39m \u001b[38;5;28mlen\u001b[39m(domain[ domain \u001b[38;5;241m>\u001b[39m upper_limit])\n\u001b[1;32m      3\u001b[0m non_negativity_constraints_violated \u001b[38;5;241m=\u001b[39m \u001b[38;5;241m0\u001b[39m\n",
            "\u001b[0;31mNameError\u001b[0m: name 'np' is not defined"
          ],
          "output_type": "error"
        }
      ],
      "execution_count": 1
    },
    {
      "cell_type": "markdown",
      "source": "## Exemplo com ciclos",
      "metadata": {}
    },
    {
      "cell_type": "code",
      "source": "#from revised_simplex_tableau import revised_simplex_tableau, markdown_repr_T\nfrom simplex_tableau import simplex_tableau, markdown_repr_T\nfrom utils import array_to_markdown\n\nresults_md = ''\n\nC = np.array([0, 0, 0, -3/4, 20, -1/2, 6])\nA = np.array([\n    [1, 0, 0, 1/4,  -8,   -1, 9],\n    [0, 1, 0, 1/2, -12, -1/2, 3],\n    [0, 0, 1,   0,   0,    1, 0]\n])\nB = np.array([\n    0,\n    0,\n    1\n])\nI = [0, 1, 2]\n\nsolution = simplex_tableau(A, B, C, I, cycles_allowed = False)\nresults_md += markdown_repr_T(solution['tableaus'])\n\ndisplay(\n    Markdown(results_md)\n)",
      "metadata": {
        "trusted": true
      },
      "outputs": [
        {
          "output_type": "display_data",
          "data": {
            "text/plain": "<IPython.core.display.Markdown object>",
            "text/markdown": "\n\n## Iteration 1\n\nPrevious Tableau:\n\n|   |\\\\(X_{0}\\\\) | \\\\(X_{1}\\\\) | \\\\(X_{2}\\\\) | \\\\(X_{3}\\\\) | \\\\(X_{4}\\\\) | \\\\(X_{5}\\\\) | \\\\(X_{6}\\\\) | RHS |\n|---|---|---|---|---|---|---|---|---|\n| Cost | 0.000 | 0.000 | 0.000 | 0.750 | -20.000 | 0.500 | -6.000 | 0.000 |\n| \\\\(X_{0}\\\\) | 1.000 | 0.000 | 0.000 | 0.250 | -8.000 | -1.000 | 9.000 | 0.000 |\n| \\\\(X_{1}\\\\) | 0.000 | 1.000 | 0.000 | 0.500 | -12.000 | -0.500 | 3.000 | 0.000 |\n| \\\\(X_{2}\\\\) | 0.000 | 0.000 | 1.000 | 0.000 | 0.000 | 1.000 | 0.000 | 1.000 |\n### Pivot Operations\n\nVariable to enter: \\\\(X_{3}\\\\)\nVariable to leave: \\\\(X_{1}\\\\)\n#### Row Operations:\n\n1. \\\\(R_{X_{1}} \\leftarrow \\frac{R_{X_{1}}}{0.5}\\\\)\n1. \\\\(R_{C} \\leftarrow R_{C} - 0.75R_{X_{1}}\\\\)\n2. \\\\(R_{X_{0}} \\leftarrow R_{X_{0}} - 0.25R_{X_{1}}\\\\)\n3. \\\\(R_{X_{2}} \\leftarrow R_{X_{2}} - 0.0R_{X_{1}}\\\\)\n\n\nComputed Tableau:\n\n|   |\\\\(X_{0}\\\\) | \\\\(X_{1}\\\\) | \\\\(X_{2}\\\\) | \\\\(X_{3}\\\\) | \\\\(X_{4}\\\\) | \\\\(X_{5}\\\\) | \\\\(X_{6}\\\\) | RHS |\n|---|---|---|---|---|---|---|---|---|\n| Cost | 0.000 | -1.500 | 0.000 | 0.000 | -2.000 | 1.250 | -10.500 | 0.000 |\n| \\\\(X_{0}\\\\) | 1.000 | -0.500 | 0.000 | 0.000 | -2.000 | -0.750 | 7.500 | 0.000 |\n| \\\\(X_{3}\\\\) | 0.000 | 2.000 | 0.000 | 1.000 | -24.000 | -1.000 | 6.000 | 0.000 |\n| \\\\(X_{2}\\\\) | 0.000 | 0.000 | 1.000 | 0.000 | 0.000 | 1.000 | 0.000 | 1.000 |\n\n\n## Iteration 2\n\nPrevious Tableau:\n\n|   |\\\\(X_{0}\\\\) | \\\\(X_{1}\\\\) | \\\\(X_{2}\\\\) | \\\\(X_{3}\\\\) | \\\\(X_{4}\\\\) | \\\\(X_{5}\\\\) | \\\\(X_{6}\\\\) | RHS |\n|---|---|---|---|---|---|---|---|---|\n| Cost | 0.000 | -1.500 | 0.000 | 0.000 | -2.000 | 1.250 | -10.500 | 0.000 |\n| \\\\(X_{0}\\\\) | 1.000 | -0.500 | 0.000 | 0.000 | -2.000 | -0.750 | 7.500 | 0.000 |\n| \\\\(X_{3}\\\\) | 0.000 | 2.000 | 0.000 | 1.000 | -24.000 | -1.000 | 6.000 | 0.000 |\n| \\\\(X_{2}\\\\) | 0.000 | 0.000 | 1.000 | 0.000 | 0.000 | 1.000 | 0.000 | 1.000 |\n### Pivot Operations\n\nVariable to enter: \\\\(X_{5}\\\\)\nVariable to leave: \\\\(X_{2}\\\\)\n#### Row Operations:\n\n1. \\\\(R_{X_{2}} \\leftarrow \\frac{R_{X_{2}}}{1.0}\\\\)\n1. \\\\(R_{C} \\leftarrow R_{C} - 1.25R_{X_{2}}\\\\)\n2. \\\\(R_{X_{0}} \\leftarrow R_{X_{0}} + 0.75R_{X_{2}}\\\\)\n3. \\\\(R_{X_{3}} \\leftarrow R_{X_{3}} + 1.0R_{X_{2}}\\\\)\n\n\nComputed Tableau:\n\n|   |\\\\(X_{0}\\\\) | \\\\(X_{1}\\\\) | \\\\(X_{2}\\\\) | \\\\(X_{3}\\\\) | \\\\(X_{4}\\\\) | \\\\(X_{5}\\\\) | \\\\(X_{6}\\\\) | RHS |\n|---|---|---|---|---|---|---|---|---|\n| Cost | 0.000 | -1.500 | -1.250 | 0.000 | -2.000 | 0.000 | -10.500 | -1.250 |\n| \\\\(X_{0}\\\\) | 1.000 | -0.500 | 0.750 | 0.000 | -2.000 | 0.000 | 7.500 | 0.750 |\n| \\\\(X_{3}\\\\) | 0.000 | 2.000 | 1.000 | 1.000 | -24.000 | 0.000 | 6.000 | 1.000 |\n| \\\\(X_{5}\\\\) | 0.000 | 0.000 | 1.000 | 0.000 | 0.000 | 1.000 | 0.000 | 1.000 |\n"
          },
          "metadata": {}
        }
      ],
      "execution_count": 12
    }
  ]
}