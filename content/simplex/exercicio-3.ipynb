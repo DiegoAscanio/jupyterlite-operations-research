{
  "metadata": {
    "kernelspec": {
      "name": "python",
      "display_name": "Python (Pyodide)",
      "language": "python"
    },
    "language_info": {
      "codemirror_mode": {
        "name": "python",
        "version": 3
      },
      "file_extension": ".py",
      "mimetype": "text/x-python",
      "name": "python",
      "nbconvert_exporter": "python",
      "pygments_lexer": "ipython3",
      "version": "3.8"
    }
  },
  "nbformat_minor": 4,
  "nbformat": 4,
  "cells": [
    {
      "cell_type": "markdown",
      "source": "# Exercício 3",
      "metadata": {}
    },
    {
      "cell_type": "code",
      "source": "%pip install numpy\nfrom simplex import simplex\nimport numpy as np\n\nsolution_types = {\n    -1: 'Unfeasible',\n    1: 'Optimal finite solution found',\n    2: 'Multiple optimal solutions found',\n    3: 'Unbounded'\n}\n\nA = np.array([\n    [1, 7, 4, 1, 0, 0],\n    [2, 1, 7, 0, 1, 0],\n    [8, 4, 1, 0, 0, 1]\n])\nb = np.array([\n    200,\n    100,\n    120\n])\nc = np.array([\n    -4,\n    -4,\n    -7,\n     0,\n     0,\n     0\n])\nI = [3, 4, 5]\nZ_star, x_star, I_star, iterations, solution_type = simplex(A, b, c, I, debug = True)\nresult_repr = f'''\nExercício 3:\n\nZ_star = {Z_star}\nx_star = {x_star}\nI_star = {I_star}\niterations = {iterations}\nsolution_type = {solution_type} - {solution_types[solution_type]}\n'''\nprint(result_repr)",
      "metadata": {
        "trusted": true
      },
      "outputs": [
        {
          "name": "stdout",
          "text": "\n--------------------------------------------------------------------------------\nSolution for:\n\nmin cᵀx\nsubject to:\nAx = b\n\nwhere \n\nc=[-4 -4 -7  0  0  0],\nx=['x_0' 'x_1' 'x_2' 'x_3' 'x_4' 'x_5'],\nA=\n[[1 7 4 1 0 0]\n [2 1 7 0 1 0]\n [8 4 1 0 0 1]],\nb=\n[[200]\n [100]\n [120]]\n\n\nAfter Iteration 1:\nBasic variables indices before: [3 4 5]\nNon-basic variables indices before: [0 1 2]\nBasic variables indices after: [3, 2, 5]\nNon-basic variables indices after: [0, 1, 4]\nx_I = [200. 100. 120.]\nA_I =\n[[1 0 0]\n [0 1 0]\n [0 0 1]]\nA_I^-1 =\n[[1. 0. 0.]\n [0. 1. 0.]\n [0. 0. 1.]]\nA_J =\n[[1 7 4]\n [2 1 7]\n [8 4 1]]\nπ = [0. 0. 0.]\nz_0 = 0.0\nc_hat_J = [4. 4. 7.]\ny_k = [4. 7. 1.]\nVariable to enter the basis: x_2\nVariable to leave the basis: x_4\n\nAfter Iteration 2:\nBasic variables indices before: [3 2 5]\nNon-basic variables indices before: [0 1 4]\nBasic variables indices after: [1, 2, 5]\nNon-basic variables indices after: [0, 3, 4]\nx_I = [142.85714286  14.28571429 105.71428571]\nA_I =\n[[1 4 0]\n [0 7 0]\n [0 1 1]]\nA_I^-1 =\n[[ 1.         -0.57142857  0.        ]\n [ 0.          0.14285714  0.        ]\n [ 0.         -0.14285714  1.        ]]\nA_J =\n[[1 7 0]\n [2 1 1]\n [8 4 0]]\nπ = [ 0. -1.  0.]\nz_0 = -100.0\nc_hat_J = [ 2.  3. -1.]\ny_k = [6.42857143 0.14285714 3.85714286]\nVariable to enter the basis: x_1\nVariable to leave the basis: x_3\n\nAfter Iteration 3:\nBasic variables indices before: [1 2 5]\nNon-basic variables indices before: [0 3 4]\nBasic variables indices after: [1, 2, 0]\nNon-basic variables indices after: [5, 3, 4]\nx_I = [22.22222222 11.11111111 20.        ]\nA_I =\n[[7 4 0]\n [1 7 0]\n [4 1 1]]\nA_I^-1 =\n[[ 0.15555556 -0.08888889  0.        ]\n [-0.02222222  0.15555556  0.        ]\n [-0.6         0.2         1.        ]]\nA_J =\n[[1 1 0]\n [2 0 1]\n [8 0 0]]\nπ = [-0.46666667 -0.73333333  0.        ]\nz_0 = -166.66666666666666\nc_hat_J = [ 2.06666667 -0.46666667 -0.73333333]\ny_k = [-0.02222222  0.28888889  7.8       ]\nVariable to enter the basis: x_0\nVariable to leave the basis: x_5\n\nAfter Iteration 4:\nBasic variables indices before: [1 2 0]\nNon-basic variables indices before: [5 3 4]\nBasic variables indices after: [1, 2, 0]\nNon-basic variables indices after: [5, 3, 4]\nx_I = [22.27920228 10.37037037  2.56410256]\nA_I =\n[[7 4 1]\n [1 7 2]\n [4 1 8]]\nA_I^-1 =\n[[ 1.53846154e-01 -8.83190883e-02  2.84900285e-03]\n [ 4.31753398e-18  1.48148148e-01 -3.70370370e-02]\n [-7.69230769e-02  2.56410256e-02  1.28205128e-01]]\nA_J =\n[[0 1 0]\n [0 0 1]\n [1 0 0]]\nπ = [-0.30769231 -0.78632479 -0.26495726]\nz_0 = -171.96581196581195\nc_hat_J = [-0.26495726 -0.30769231 -0.78632479]\ny_k = [-0.02222222  0.28888889  7.8       ]\nVariable to enter the basis: x_None\nVariable to leave the basis: x_None\n\n\nExercício 3:\n\nZ_star = -171.96581196581195\nx_star = [ 2.56410256 22.27920228 10.37037037  0.          0.          0.        ]\nI_star = [1, 2, 0]\niterations = 4\nsolution_type = 1 - Optimal finite solution found\n\n",
          "output_type": "stream"
        }
      ],
      "execution_count": 2
    },
    {
      "cell_type": "code",
      "source": "",
      "metadata": {
        "trusted": true
      },
      "outputs": [],
      "execution_count": null
    }
  ]
}