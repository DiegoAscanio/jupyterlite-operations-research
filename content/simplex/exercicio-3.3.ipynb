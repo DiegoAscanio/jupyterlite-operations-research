{
  "metadata": {
    "kernelspec": {
      "name": "python",
      "display_name": "Python (Pyodide)",
      "language": "python"
    },
    "language_info": {
      "codemirror_mode": {
        "name": "python",
        "version": 3
      },
      "file_extension": ".py",
      "mimetype": "text/x-python",
      "name": "python",
      "nbconvert_exporter": "python",
      "pygments_lexer": "ipython3",
      "version": "3.8"
    }
  },
  "nbformat_minor": 4,
  "nbformat": 4,
  "cells": [
    {
      "cell_type": "markdown",
      "source": "# Exercício 3.3",
      "metadata": {}
    },
    {
      "cell_type": "code",
      "source": "%pip install numpy\nfrom simplex import simplex\nimport numpy as np\nfrom fractions import Fraction\n\nsolution_types = {\n    -1: 'Unfeasible',\n    1: 'Optimal finite solution found',\n    2: 'Multiple optimal solutions found',\n    3: 'Unbounded'\n}",
      "metadata": {
        "trusted": true
      },
      "outputs": [],
      "execution_count": 4
    },
    {
      "cell_type": "markdown",
      "source": "## letra a)",
      "metadata": {}
    },
    {
      "cell_type": "code",
      "source": "# resolução do sistema de equações lineares obtido pela solução gráfica do ponto de máximo\nA = np.array([\n    [-2, 1],\n    [5, 3]\n])\nB = np.array([\n    [4],\n    [15]\n])\nx_star = np.linalg.solve(A,B).ravel()\nfraction = lambda x: str(Fraction(str(x)).limit_denominator())\ndisplay(\n    list(\n        map(fraction, x_star)\n    )\n)",
      "metadata": {
        "trusted": true
      },
      "outputs": [
        {
          "output_type": "display_data",
          "data": {
            "text/plain": "['3/11', '50/11']"
          },
          "metadata": {}
        }
      ],
      "execution_count": 14
    },
    {
      "cell_type": "markdown",
      "source": "## letra b)",
      "metadata": {}
    },
    {
      "cell_type": "code",
      "source": "A = np.array([\n    [ 1,-2, 1, 0, 0],\n    [-2, 1, 0, 1, 0],\n    [ 5, 3, 0, 0, 1]\n])\nb = np.array([\n    0,\n    4,\n    15\n])\nc = np.array([\n    -1,\n    -3,\n     0,\n     0,\n     0\n])\nI = [2, 3, 4]\nZ_star, x_star, I_star, iterations, solution_type = simplex(A, b, c, I, debug = True)\nresult_repr = f'''\nExercício 3:\n\nZ_star = {Z_star}\nx_star = {x_star}\nI_star = {I_star}\niterations = {iterations}\nsolution_type = {solution_type} - {solution_types[solution_type]}\n'''\nprint(result_repr)",
      "metadata": {
        "trusted": true
      },
      "outputs": [
        {
          "name": "stdout",
          "text": "\n--------------------------------------------------------------------------------\nSolution for:\n\nmin cᵀx\nsubject to:\nAx = b\n\nwhere \n\nc=[-1 -3  0  0  0],\nx=['x_0' 'x_1' 'x_2' 'x_3' 'x_4'],\nA=\n[[ 1 -2  1  0  0]\n [-2  1  0  1  0]\n [ 5  3  0  0  1]],\nb=\n[[ 0]\n [ 4]\n [15]]\n\n\nAfter Iteration 1:\nBasic variables indices before: [2 3 4]\nNon-basic variables indices before: [0 1]\nBasic variables indices after: [2, 1, 4]\nNon-basic variables indices after: [0, 3]\nx_I = [ 0.  4. 15.]\nA_I =\n[[1 0 0]\n [0 1 0]\n [0 0 1]]\nA_I^-1 =\n[[1. 0. 0.]\n [0. 1. 0.]\n [0. 0. 1.]]\nA_J =\n[[ 1 -2]\n [-2  1]\n [ 5  3]]\nπ = [0. 0. 0.]\nz_0 = 0.0\nc_hat_J = [1. 3.]\ny_k = [-2.  1.  3.]\nVariable to enter the basis: x_1\nVariable to leave the basis: x_3\n\nAfter Iteration 2:\nBasic variables indices before: [2 1 4]\nNon-basic variables indices before: [0 3]\nBasic variables indices after: [2, 1, 0]\nNon-basic variables indices after: [4, 3]\nx_I = [8. 4. 3.]\nA_I =\n[[ 1 -2  0]\n [ 0  1  0]\n [ 0  3  1]]\nA_I^-1 =\n[[ 1.  2.  0.]\n [ 0.  1.  0.]\n [ 0. -3.  1.]]\nA_J =\n[[ 1  0]\n [-2  1]\n [ 5  0]]\nπ = [ 0. -3.  0.]\nz_0 = -12.0\nc_hat_J = [ 7. -3.]\ny_k = [-3. -2. 11.]\nVariable to enter the basis: x_0\nVariable to leave the basis: x_4\n\nAfter Iteration 3:\nBasic variables indices before: [2 1 0]\nNon-basic variables indices before: [4 3]\nBasic variables indices after: [2, 1, 0]\nNon-basic variables indices after: [4, 3]\nx_I = [8.81818182 4.54545455 0.27272727]\nA_I =\n[[ 1 -2  1]\n [ 0  1 -2]\n [ 0  3  5]]\nA_I^-1 =\n[[ 1.          1.18181818  0.27272727]\n [ 0.          0.45454545  0.18181818]\n [ 0.         -0.27272727  0.09090909]]\nA_J =\n[[0 0]\n [0 1]\n [1 0]]\nπ = [ 0.         -1.09090909 -0.63636364]\nz_0 = -13.90909090909091\nc_hat_J = [-0.63636364 -1.09090909]\ny_k = [-3. -2. 11.]\nVariable to enter the basis: x_None\nVariable to leave the basis: x_None\n\n\nExercício 3:\n\nZ_star = -13.909090909090908\nx_star = [0.27272727 4.54545455 8.81818182 0.         0.        ]\nI_star = [2, 1, 0]\niterations = 3\nsolution_type = 1 - Optimal finite solution found\n\n",
          "output_type": "stream"
        }
      ],
      "execution_count": 15
    },
    {
      "cell_type": "code",
      "source": "Fraction(Z_star).limit_denominator()",
      "metadata": {
        "trusted": true
      },
      "outputs": [
        {
          "execution_count": 16,
          "output_type": "execute_result",
          "data": {
            "text/plain": "Fraction(-153, 11)"
          },
          "metadata": {}
        }
      ],
      "execution_count": 16
    },
    {
      "cell_type": "code",
      "source": "",
      "metadata": {
        "trusted": true
      },
      "outputs": [],
      "execution_count": null
    }
  ]
}