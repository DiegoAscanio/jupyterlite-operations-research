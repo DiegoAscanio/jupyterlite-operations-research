{
 "cells": [
  {
   "cell_type": "markdown",
   "metadata": {},
   "source": [
    "# Exercício 3.3"
   ]
  },
  {
   "cell_type": "code",
   "execution_count": 4,
   "metadata": {},
   "outputs": [],
   "source": [
    "%pip install numpy\n",
    "from simplex import simplex\n",
    "import numpy as np\n",
    "from fractions import Fraction\n",
    "\n",
    "solution_types = {\n",
    "    -1: 'Unfeasible',\n",
    "    1: 'Optimal finite solution found',\n",
    "    2: 'Multiple optimal solutions found',\n",
    "    3: 'Unbounded'\n",
    "}"
   ]
  },
  {
   "cell_type": "markdown",
   "metadata": {},
   "source": [
    "## letra a)"
   ]
  },
  {
   "cell_type": "code",
   "execution_count": 14,
   "metadata": {},
   "outputs": [
    {
     "data": {
      "text/plain": [
       "['3/11', '50/11']"
      ]
     },
     "metadata": {},
     "output_type": "display_data"
    }
   ],
   "source": [
    "# resolução do sistema de equações lineares obtido pela solução gráfica do ponto de máximo\n",
    "A = np.array([\n",
    "    [-2, 1],\n",
    "    [5, 3]\n",
    "])\n",
    "B = np.array([\n",
    "    [4],\n",
    "    [15]\n",
    "])\n",
    "x_star = np.linalg.solve(A,B).ravel()\n",
    "fraction = lambda x: str(Fraction(str(x)).limit_denominator())\n",
    "display(\n",
    "    list(\n",
    "        map(fraction, x_star)\n",
    "    )\n",
    ")"
   ]
  },
  {
   "cell_type": "markdown",
   "metadata": {},
   "source": [
    "## letra b)"
   ]
  },
  {
   "cell_type": "code",
   "execution_count": 15,
   "metadata": {},
   "outputs": [
    {
     "name": "stdout",
     "output_type": "stream",
     "text": [
      "\n",
      "--------------------------------------------------------------------------------\n",
      "Solution for:\n",
      "\n",
      "min cᵀx\n",
      "subject to:\n",
      "Ax = b\n",
      "\n",
      "where \n",
      "\n",
      "c=[-1 -3  0  0  0],\n",
      "x=['x_0' 'x_1' 'x_2' 'x_3' 'x_4'],\n",
      "A=\n",
      "[[ 1 -2  1  0  0]\n",
      " [-2  1  0  1  0]\n",
      " [ 5  3  0  0  1]],\n",
      "b=\n",
      "[[ 0]\n",
      " [ 4]\n",
      " [15]]\n",
      "\n",
      "\n",
      "After Iteration 1:\n",
      "Basic variables indices before: [2 3 4]\n",
      "Non-basic variables indices before: [0 1]\n",
      "Basic variables indices after: [2, 1, 4]\n",
      "Non-basic variables indices after: [0, 3]\n",
      "x_I = [ 0.  4. 15.]\n",
      "A_I =\n",
      "[[1 0 0]\n",
      " [0 1 0]\n",
      " [0 0 1]]\n",
      "A_I^-1 =\n",
      "[[1. 0. 0.]\n",
      " [0. 1. 0.]\n",
      " [0. 0. 1.]]\n",
      "A_J =\n",
      "[[ 1 -2]\n",
      " [-2  1]\n",
      " [ 5  3]]\n",
      "π = [0. 0. 0.]\n",
      "z_0 = 0.0\n",
      "c_hat_J = [1. 3.]\n",
      "y_k = [-2.  1.  3.]\n",
      "Variable to enter the basis: x_1\n",
      "Variable to leave the basis: x_3\n",
      "\n",
      "After Iteration 2:\n",
      "Basic variables indices before: [2 1 4]\n",
      "Non-basic variables indices before: [0 3]\n",
      "Basic variables indices after: [2, 1, 0]\n",
      "Non-basic variables indices after: [4, 3]\n",
      "x_I = [8. 4. 3.]\n",
      "A_I =\n",
      "[[ 1 -2  0]\n",
      " [ 0  1  0]\n",
      " [ 0  3  1]]\n",
      "A_I^-1 =\n",
      "[[ 1.  2.  0.]\n",
      " [ 0.  1.  0.]\n",
      " [ 0. -3.  1.]]\n",
      "A_J =\n",
      "[[ 1  0]\n",
      " [-2  1]\n",
      " [ 5  0]]\n",
      "π = [ 0. -3.  0.]\n",
      "z_0 = -12.0\n",
      "c_hat_J = [ 7. -3.]\n",
      "y_k = [-3. -2. 11.]\n",
      "Variable to enter the basis: x_0\n",
      "Variable to leave the basis: x_4\n",
      "\n",
      "After Iteration 3:\n",
      "Basic variables indices before: [2 1 0]\n",
      "Non-basic variables indices before: [4 3]\n",
      "Basic variables indices after: [2, 1, 0]\n",
      "Non-basic variables indices after: [4, 3]\n",
      "x_I = [8.81818182 4.54545455 0.27272727]\n",
      "A_I =\n",
      "[[ 1 -2  1]\n",
      " [ 0  1 -2]\n",
      " [ 0  3  5]]\n",
      "A_I^-1 =\n",
      "[[ 1.          1.18181818  0.27272727]\n",
      " [ 0.          0.45454545  0.18181818]\n",
      " [ 0.         -0.27272727  0.09090909]]\n",
      "A_J =\n",
      "[[0 0]\n",
      " [0 1]\n",
      " [1 0]]\n",
      "π = [ 0.         -1.09090909 -0.63636364]\n",
      "z_0 = -13.90909090909091\n",
      "c_hat_J = [-0.63636364 -1.09090909]\n",
      "y_k = [-3. -2. 11.]\n",
      "Variable to enter the basis: x_None\n",
      "Variable to leave the basis: x_None\n",
      "\n",
      "\n",
      "Exercício 3:\n",
      "\n",
      "Z_star = -13.909090909090908\n",
      "x_star = [0.27272727 4.54545455 8.81818182 0.         0.        ]\n",
      "I_star = [2, 1, 0]\n",
      "iterations = 3\n",
      "solution_type = 1 - Optimal finite solution found\n",
      "\n"
     ]
    }
   ],
   "source": [
    "A = np.array([\n",
    "    [ 1,-2, 1, 0, 0],\n",
    "    [-2, 1, 0, 1, 0],\n",
    "    [ 5, 3, 0, 0, 1]\n",
    "])\n",
    "b = np.array([\n",
    "    0,\n",
    "    4,\n",
    "    15\n",
    "])\n",
    "c = np.array([\n",
    "    -1,\n",
    "    -3,\n",
    "     0,\n",
    "     0,\n",
    "     0\n",
    "])\n",
    "I = [2, 3, 4]\n",
    "Z_star, x_star, I_star, iterations, solution_type = simplex(A, b, c, I, debug = True)\n",
    "result_repr = f'''\n",
    "Exercício 3:\n",
    "\n",
    "Z_star = {Z_star}\n",
    "x_star = {x_star}\n",
    "I_star = {I_star}\n",
    "iterations = {iterations}\n",
    "solution_type = {solution_type} - {solution_types[solution_type]}\n",
    "'''\n",
    "print(result_repr)"
   ]
  },
  {
   "cell_type": "code",
   "execution_count": 16,
   "metadata": {},
   "outputs": [
    {
     "data": {
      "text/plain": [
       "Fraction(-153, 11)"
      ]
     },
     "execution_count": 16,
     "metadata": {},
     "output_type": "execute_result"
    }
   ],
   "source": [
    "Fraction(Z_star).limit_denominator()"
   ]
  },
  {
   "cell_type": "code",
   "execution_count": null,
   "metadata": {},
   "outputs": [],
   "source": []
  }
 ],
 "metadata": {
  "kernelspec": {
   "display_name": "Python 3 (ipykernel)",
   "language": "python",
   "name": "python3"
  },
  "language_info": {
   "codemirror_mode": {
    "name": "ipython",
    "version": 3
   },
   "file_extension": ".py",
   "mimetype": "text/x-python",
   "name": "python",
   "nbconvert_exporter": "python",
   "pygments_lexer": "ipython3",
   "version": "3.12.7"
  }
 },
 "nbformat": 4,
 "nbformat_minor": 4
}
