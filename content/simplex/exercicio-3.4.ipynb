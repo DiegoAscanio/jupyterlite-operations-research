{
  "metadata": {
    "kernelspec": {
      "name": "python",
      "display_name": "Python (Pyodide)",
      "language": "python"
    },
    "language_info": {
      "codemirror_mode": {
        "name": "python",
        "version": 3
      },
      "file_extension": ".py",
      "mimetype": "text/x-python",
      "name": "python",
      "nbconvert_exporter": "python",
      "pygments_lexer": "ipython3",
      "version": "3.8"
    }
  },
  "nbformat_minor": 4,
  "nbformat": 4,
  "cells": [
    {
      "cell_type": "markdown",
      "source": "# Exercício 3.4",
      "metadata": {}
    },
    {
      "cell_type": "code",
      "source": "%pip install numpy\nfrom simplex import simplex\nimport numpy as np\nfrom fractions import Fraction\n\nsolution_types = {\n    -1: 'Unfeasible',\n    1: 'Optimal finite solution found',\n    2: 'Multiple optimal solutions found',\n    3: 'Unbounded'\n}\n\nA = np.array([\n    [2, 3, 0, 0],\n    [1,-2, 0, 1],\n])\nb = np.array([\n    6,\n    0\n])\nc = np.array([\n    -2,\n     1,\n     0,\n     0,\n])\nI = [1, 3]\nZ_star, x_star, I_star, iterations, solution_type = simplex(A, b, c, I, debug = True)\nresult_repr = f'''\nExercício 3.4:\n\nZ_star = {Z_star}\nx_star = {x_star}\nI_star = {I_star}\niterations = {iterations}\nsolution_type = {solution_type} - {solution_types[solution_type]}\n'''\nprint(result_repr)",
      "metadata": {
        "trusted": true
      },
      "outputs": [
        {
          "name": "stdout",
          "text": "\n--------------------------------------------------------------------------------\nSolution for:\n\nmin cᵀx\nsubject to:\nAx = b\n\nwhere \n\nc=[-2  1  0  0],\nx=['x_0' 'x_1' 'x_2' 'x_3'],\nA=\n[[ 2  3  0  0]\n [ 1 -2  0  1]],\nb=\n[[6]\n [0]]\n\n\nAfter Iteration 1:\nBasic variables indices before: [1 3]\nNon-basic variables indices before: [0 2]\nBasic variables indices after: [1, 0]\nNon-basic variables indices after: [3, 2]\nx_I = [2. 4.]\nA_I =\n[[ 3  0]\n [-2  1]]\nA_I^-1 =\n[[0.33333333 0.        ]\n [0.66666667 1.        ]]\nA_J =\n[[2 0]\n [1 0]]\nπ = [0.33333333 0.        ]\nz_0 = 2.0\nc_hat_J = [2.66666667 0.        ]\ny_k = [0.66666667 2.33333333]\nVariable to enter the basis: x_0\nVariable to leave the basis: x_3\n\nAfter Iteration 2:\nBasic variables indices before: [1 0]\nNon-basic variables indices before: [3 2]\nBasic variables indices after: [1, 0]\nNon-basic variables indices after: [3, 2]\nx_I = [0.85714286 1.71428571]\nA_I =\n[[ 3  2]\n [-2  1]]\nA_I^-1 =\n[[ 0.14285714 -0.28571429]\n [ 0.28571429  0.42857143]]\nA_J =\n[[0 0]\n [1 0]]\nπ = [-0.42857143 -1.14285714]\nz_0 = -2.571428571428572\nc_hat_J = [-1.14285714  0.        ]\ny_k = [0.66666667 2.33333333]\nVariable to enter the basis: x_None\nVariable to leave the basis: x_None\n\n\nExercício 3.4:\n\nZ_star = -2.571428571428572\nx_star = [1.71428571 0.85714286 0.         0.        ]\nI_star = [1, 0]\niterations = 2\nsolution_type = 2 - Multiple optimal solutions found\n\n",
          "output_type": "stream"
        }
      ],
      "execution_count": 5
    },
    {
      "cell_type": "code",
      "source": "",
      "metadata": {
        "trusted": true
      },
      "outputs": [],
      "execution_count": null
    }
  ]
}