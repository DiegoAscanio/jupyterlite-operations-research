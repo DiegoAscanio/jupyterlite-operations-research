{
  "metadata": {
    "kernelspec": {
      "name": "python",
      "display_name": "Python (Pyodide)",
      "language": "python"
    },
    "language_info": {
      "codemirror_mode": {
        "name": "python",
        "version": 3
      },
      "file_extension": ".py",
      "mimetype": "text/x-python",
      "name": "python",
      "nbconvert_exporter": "python",
      "pygments_lexer": "ipython3",
      "version": "3.8"
    }
  },
  "nbformat_minor": 4,
  "nbformat": 4,
  "cells": [
    {
      "cell_type": "code",
      "source": "%pip install numpy\n%pip install sympy\n%pip install scipy\n%load_ext autoreload\n%autoreload 2\nfrom simplex_two_phases import simplex as simplex_two_phases, _simplex_find_feasible_initial_basis\nfrom simplex_tableau import simplex as simplex_tableau\n#from simplex_tableau import markdown_repr_T\nfrom simplex import simplex\nfrom revised_simplex_tableau import revised_simplex_tableau, markdown_repr_T\nfrom utils import array_to_markdown\n\n    \nimport numpy as np\nfrom pprint import pprint\nfrom IPython.display import Markdown, display\nfrom itertools import combinations\nfrom sympy import symbols, Matrix, solve\nfrom scipy.optimize import linprog\n\n\nsolution_types = {\n    -1: 'Unfeasible',\n    1: 'Optimal finite solution found',\n    2: 'Multiple optimal solutions found',\n    3: 'Unbounded'\n}",
      "metadata": {
        "trusted": true
      },
      "outputs": [
        {
          "name": "stdout",
          "text": "The autoreload extension is already loaded. To reload it, use:\n  %reload_ext autoreload\n",
          "output_type": "stream"
        }
      ],
      "execution_count": 66
    },
    {
      "cell_type": "markdown",
      "source": "# Exercicio 4.1\n\nVerificando se as restrições de não negatividade para $ {A_{I}}^{-1} $ são violadas",
      "metadata": {}
    },
    {
      "cell_type": "code",
      "source": "A = np.array([\n    [ 1, 1, -1, 0, 0],\n    [-2, 3,  0, 1, 0],\n    [ 0, 1,  0, 0, 1]\n])\n\nB = np.array([\n    1,\n    6,\n    2\n])\n\nC = np.array([1, -3, 0, 0, 0])\n\nI = [2, 3, 4]\n\nA_I = A[:,I] # definição da matriz básica\nA_I_inv = np.linalg.inv(A_I)\n\nresult = f'Restrições de negatividade{\n    ' não ' if np.all(A_I_inv @ B >= 0) else ' '\n}violadas'\n\ndisplay(\n    Markdown(\n        result\n    )\n)",
      "metadata": {
        "trusted": true
      },
      "outputs": [
        {
          "output_type": "display_data",
          "data": {
            "text/plain": "<IPython.core.display.Markdown object>",
            "text/markdown": "Restrições de negatividade violadas"
          },
          "metadata": {}
        }
      ],
      "execution_count": 67
    },
    {
      "cell_type": "markdown",
      "source": "Como as restrições de negatividade foram violadas, devemos criar um problema artificial e resolvê-lo para:\n\n1. Verificar a factibilidade do problema original\n2. Encontrar uma base inicial factível para o problema original que seja capaz de resolvê-lo\n\nO problema artificial é do tipo:\n\n$$\n\\begin{aligned}\n    & \\text{min} \\quad \\phi = & \\textbf{1} \\: x_a \\\\\n    & \\text{s. t.} & A x + x_a &= b \\\\\n    &              &       x   &\\geq 0 \\\\\n    &              &       x_a &\\geq 0 \\\\\n\\end{aligned}\n$$\n\nVamos resolvê-lo abaixo:",
      "metadata": {}
    },
    {
      "cell_type": "code",
      "source": "\nm, n = A.shape\n\n# adicionando variaveis artificiais à matriz de restricoes do problema\n# para substituir variaveis de excesso\n\np = n - m\ncolunas_variaveis_folga_excesso = range(p, n)\nvariaveis_artificiais = []\nfor c in colunas_variaveis_folga_excesso:\n    if np.any(A[:,c] < 0):\n        # estamos diante de uma variavel de excesso que demanda adicao de\n        # variavel artificial\n        variavel_artificial = -1 * np.copy(A[:,c])\n        variaveis_artificiais.append(variavel_artificial)\n\n# montando array de variaveis artificiais para concatenacao em A\nto_stack = np.zeros((m, len(variaveis_artificiais)))\nfor c, variavel_artificial in enumerate(variaveis_artificiais):\n    to_stack[:, c] = np.copy(variavel_artificial)\n# montando matriz de restricoes com variaveis artificiais\nA_artificial = np.hstack((A, to_stack))\n\n# construindo vetor C artificial\nC_artificial = np.zeros(n + len(variaveis_artificiais))\nfor i in range(n, n + len(variaveis_artificiais)):\n    C_artificial[i] = 1\n\nI = [5, 3, 4]\n\n# resolvendo problema artificial com o simplex tableau revisado\nsolution = revised_simplex_tableau(A_artificial, B, C_artificial, I)\nresults_md = markdown_repr_T(solution)\n\ndisplay(\n    Markdown(results_md)\n)",
      "metadata": {
        "trusted": true
      },
      "outputs": [
        {
          "output_type": "display_data",
          "data": {
            "text/plain": "<IPython.core.display.Markdown object>",
            "text/markdown": "\n\n## Iteration 0\n\nStarting Tableau:\n\n|   |  | \\\\(A_I^{-1}\\\\) |   | RHS |\n|---|---|---|---|---|\n| Z | 1.000 | 0.000 | 0.000 | 1.000 |\n| \\\\(X_{5}\\\\) | 1.000 | 0.000 | 0.000 | 1.000 |\n| \\\\(X_{3}\\\\) | 0.000 | 1.000 | 0.000 | 6.000 |\n| \\\\(X_{4}\\\\) | 0.000 | 0.000 | 1.000 | 2.000 |\n\n\nExtended Tableau\n\n|   |  | \\\\(A_I^{-1}\\\\) |   | RHS | \\\\(X_{0}\\\\)\n|---|---|---|---|---|---|\n| Z | 1.000 | 0.000 | 0.000 | 1.000 | 1.000 |\n| \\\\(X_{5}\\\\) | 1.000 | 0.000 | 0.000 | 1.000 | 1.000 |\n| \\\\(X_{3}\\\\) | 0.000 | 1.000 | 0.000 | 6.000 | -2.000 |\n| \\\\(X_{4}\\\\) | 0.000 | 0.000 | 1.000 | 2.000 | 0.000 |\n\n\n\\\\(Ĉ_J = \\ \\\\)array([ 1.,  1., -1.])\n\n\n\\\\(J = {[0, 1, 2]}\\\\)\n\n### Pivot Operations\n\nVariable to enter: \\\\(X_{0}\\\\)\nVariable to leave: \\\\(X_{5}\\\\)\n#### Row Operations:\n\n1. \\\\(R_{X_{5}} \\leftarrow \\frac{R_{X_{5}}}{1.000}\\\\)\n1. \\\\(R_{Z} \\leftarrow R_{Z} - 1.000R_{X_{5}}\\\\)\n2. \\\\(R_{X_{3}} \\leftarrow R_{X_{3}} + 2.000R_{X_{5}}\\\\)\n3. \\\\(R_{X_{4}} \\leftarrow R_{X_{4}} - 0.000R_{X_{5}}\\\\)\n\n\nComputed Tableau:\n\n|   |  | \\\\(A_I^{-1}\\\\) |   | RHS |\n|---|---|---|---|---|\n| Z | 0.000 | 0.000 | 0.000 | 0.000 |\n| \\\\(X_{0}\\\\) | 1.000 | 0.000 | 0.000 | 1.000 |\n| \\\\(X_{3}\\\\) | 2.000 | 1.000 | 0.000 | 8.000 |\n| \\\\(X_{4}\\\\) | 0.000 | 0.000 | 1.000 | 2.000 |\n\n\n## Iteration 1\n\nStarting Tableau:\n\n|   |  | \\\\(A_I^{-1}\\\\) |   | RHS |\n|---|---|---|---|---|\n| Z | 0.000 | 0.000 | 0.000 | 0.000 |\n| \\\\(X_{0}\\\\) | 1.000 | 0.000 | 0.000 | 1.000 |\n| \\\\(X_{3}\\\\) | 2.000 | 1.000 | 0.000 | 8.000 |\n| \\\\(X_{4}\\\\) | 0.000 | 0.000 | 1.000 | 2.000 |\n\n\n## Solution for \n\n\\\\[\n    \\begin{aligned}\n    & \\text{Minimize} & C^{T} \\cdot X \\\\\n    & \\text{Subject to} & A \\cdot X & = B \\\\\n    & & X & \\geq 0\n    \\end{aligned}\n    \\\\]\n    where: \n    \\\\[\n    \\begin{aligned}\n    & & A = \\begin{bmatrix}\n1.000 & 1.000 & -1.000 & 0.000 & 0.000 & 1.000 \\\\\n-2.000 & 3.000 & 0.000 & 1.000 & 0.000 & 0.000 \\\\\n0.000 & 1.000 & 0.000 & 0.000 & 1.000 & 0.000 \\\\\n\\end{bmatrix} \\\\\n    & & B = \\begin{bmatrix}\n1.000\\\\\n6.000\\\\\n2.000\n\\end{bmatrix} \\\\\n    & & C^{T} = \\begin{bmatrix}\n0.000 & 0.000 & 0.000 & 0.000 & 0.000 & 1.000\n\\end{bmatrix} \\\\\n    & & X = \\begin{bmatrix}\nX_{0}\\\\\nX_{1}\\\\\nX_{2}\\\\\nX_{3}\\\\\nX_{4}\\\\\nX_{5}\n\\end{bmatrix}\n    \\end{aligned}\n    \\\\]\n\nSolution Type: Optimal multiple solutions\n\nOptimal Solution: \\\\(X^{*} = ['1.000', '0.000', '0.000', '8.000', '2.000', '0.000']\\\\)\n\nOptimal Value: \\\\(Z^{*} = 0.000\\\\)\n\nOptimal Basis: \\\\([0, 3, 4]\\\\)\n\nFinal non-basic variables set J: \\\\([5, 1, 2]\\\\)\n\n\\\\(\\hat{C}_{J}\\\\): \\\\([-1.0, 0.0, 0.0]\\\\)\n\nNumber of Iterations: 2\n\n"
          },
          "metadata": {}
        }
      ],
      "execution_count": 68
    },
    {
      "cell_type": "markdown",
      "source": "Verificamos que $ \\phi^{*} = 0 $, o que caracteriza o problema original como factível.\n\nPortanto, vamos resolvê-lo à partir da base inicial facítvel obtida na resolução do artificial $ I = [0, 3, 4] $",
      "metadata": {}
    },
    {
      "cell_type": "code",
      "source": "I = [0, 3, 4]\n\n# resolvendo problema original com o simplex tableau revisado\nsolution = revised_simplex_tableau(A, B, C, I)\nresults_md = markdown_repr_T(solution)\n\ndisplay(\n    Markdown(results_md)\n)",
      "metadata": {
        "trusted": true
      },
      "outputs": [
        {
          "output_type": "display_data",
          "data": {
            "text/plain": "<IPython.core.display.Markdown object>",
            "text/markdown": "\n\n## Iteration 0\n\nStarting Tableau:\n\n|   |  | \\\\(A_I^{-1}\\\\) |   | RHS |\n|---|---|---|---|---|\n| Z | 1.000 | 0.000 | 0.000 | 1.000 |\n| \\\\(X_{0}\\\\) | 1.000 | 0.000 | 0.000 | 1.000 |\n| \\\\(X_{3}\\\\) | 2.000 | 1.000 | 0.000 | 8.000 |\n| \\\\(X_{4}\\\\) | 0.000 | 0.000 | 1.000 | 2.000 |\n\n\nExtended Tableau\n\n|   |  | \\\\(A_I^{-1}\\\\) |   | RHS | \\\\(X_{1}\\\\)\n|---|---|---|---|---|---|\n| Z | 1.000 | 0.000 | 0.000 | 1.000 | 4.000 |\n| \\\\(X_{0}\\\\) | 1.000 | 0.000 | 0.000 | 1.000 | 1.000 |\n| \\\\(X_{3}\\\\) | 2.000 | 1.000 | 0.000 | 8.000 | 5.000 |\n| \\\\(X_{4}\\\\) | 0.000 | 0.000 | 1.000 | 2.000 | 1.000 |\n\n\n\\\\(Ĉ_J = \\ \\\\)array([ 4., -1.])\n\n\n\\\\(J = {[1, 2]}\\\\)\n\n### Pivot Operations\n\nVariable to enter: \\\\(X_{1}\\\\)\nVariable to leave: \\\\(X_{0}\\\\)\n#### Row Operations:\n\n1. \\\\(R_{X_{0}} \\leftarrow \\frac{R_{X_{0}}}{1.000}\\\\)\n1. \\\\(R_{Z} \\leftarrow R_{Z} - 4.000R_{X_{0}}\\\\)\n2. \\\\(R_{X_{3}} \\leftarrow R_{X_{3}} - 5.000R_{X_{0}}\\\\)\n3. \\\\(R_{X_{4}} \\leftarrow R_{X_{4}} - 1.000R_{X_{0}}\\\\)\n\n\nComputed Tableau:\n\n|   |  | \\\\(A_I^{-1}\\\\) |   | RHS |\n|---|---|---|---|---|\n| Z | -3.000 | 0.000 | 0.000 | -3.000 |\n| \\\\(X_{1}\\\\) | 1.000 | 0.000 | 0.000 | 1.000 |\n| \\\\(X_{3}\\\\) | -3.000 | 1.000 | 0.000 | 3.000 |\n| \\\\(X_{4}\\\\) | -1.000 | 0.000 | 1.000 | 1.000 |\n\n\n## Iteration 1\n\nStarting Tableau:\n\n|   |  | \\\\(A_I^{-1}\\\\) |   | RHS |\n|---|---|---|---|---|\n| Z | -3.000 | 0.000 | 0.000 | -3.000 |\n| \\\\(X_{1}\\\\) | 1.000 | 0.000 | 0.000 | 1.000 |\n| \\\\(X_{3}\\\\) | -3.000 | 1.000 | 0.000 | 3.000 |\n| \\\\(X_{4}\\\\) | -1.000 | 0.000 | 1.000 | 1.000 |\n\n\nExtended Tableau\n\n|   |  | \\\\(A_I^{-1}\\\\) |   | RHS | \\\\(X_{2}\\\\)\n|---|---|---|---|---|---|\n| Z | -3.000 | 0.000 | 0.000 | -3.000 | 3.000 |\n| \\\\(X_{1}\\\\) | 1.000 | 0.000 | 0.000 | 1.000 | -1.000 |\n| \\\\(X_{3}\\\\) | -3.000 | 1.000 | 0.000 | 3.000 | 3.000 |\n| \\\\(X_{4}\\\\) | -1.000 | 0.000 | 1.000 | 1.000 | 1.000 |\n\n\n\\\\(Ĉ_J = \\ \\\\)array([-4.,  3.])\n\n\n\\\\(J = {[0, 2]}\\\\)\n\n### Pivot Operations\n\nVariable to enter: \\\\(X_{2}\\\\)\nVariable to leave: \\\\(X_{3}\\\\)\n#### Row Operations:\n\n1. \\\\(R_{X_{3}} \\leftarrow \\frac{R_{X_{3}}}{3.000}\\\\)\n1. \\\\(R_{Z} \\leftarrow R_{Z} - 3.000R_{X_{3}}\\\\)\n2. \\\\(R_{X_{1}} \\leftarrow R_{X_{1}} + 1.000R_{X_{3}}\\\\)\n3. \\\\(R_{X_{4}} \\leftarrow R_{X_{4}} - 1.000R_{X_{3}}\\\\)\n\n\nComputed Tableau:\n\n|   |  | \\\\(A_I^{-1}\\\\) |   | RHS |\n|---|---|---|---|---|\n| Z | 0.000 | -1.000 | 0.000 | -6.000 |\n| \\\\(X_{1}\\\\) | 0.000 | 0.333 | 0.000 | 2.000 |\n| \\\\(X_{2}\\\\) | -1.000 | 0.333 | 0.000 | 1.000 |\n| \\\\(X_{4}\\\\) | 0.000 | -0.333 | 1.000 | 0.000 |\n\n\n## Iteration 2\n\nStarting Tableau:\n\n|   |  | \\\\(A_I^{-1}\\\\) |   | RHS |\n|---|---|---|---|---|\n| Z | 0.000 | -1.000 | 0.000 | -6.000 |\n| \\\\(X_{1}\\\\) | 0.000 | 0.333 | 0.000 | 2.000 |\n| \\\\(X_{2}\\\\) | -1.000 | 0.333 | 0.000 | 1.000 |\n| \\\\(X_{4}\\\\) | 0.000 | -0.333 | 1.000 | 0.000 |\n\n\nExtended Tableau\n\n|   |  | \\\\(A_I^{-1}\\\\) |   | RHS | \\\\(X_{0}\\\\)\n|---|---|---|---|---|---|\n| Z | 0.000 | -1.000 | 0.000 | -6.000 | 1.000 |\n| \\\\(X_{1}\\\\) | 0.000 | 0.333 | 0.000 | 2.000 | -0.667 |\n| \\\\(X_{2}\\\\) | -1.000 | 0.333 | 0.000 | 1.000 | -1.667 |\n| \\\\(X_{4}\\\\) | 0.000 | -0.333 | 1.000 | 0.000 | 0.667 |\n\n\n\\\\(Ĉ_J = \\ \\\\)array([ 1., -1.])\n\n\n\\\\(J = {[0, 3]}\\\\)\n\n### Pivot Operations\n\nVariable to enter: \\\\(X_{0}\\\\)\nVariable to leave: \\\\(X_{4}\\\\)\n#### Row Operations:\n\n1. \\\\(R_{X_{4}} \\leftarrow \\frac{R_{X_{4}}}{0.667}\\\\)\n1. \\\\(R_{Z} \\leftarrow R_{Z} - 1.000R_{X_{4}}\\\\)\n2. \\\\(R_{X_{1}} \\leftarrow R_{X_{1}} + 0.667R_{X_{4}}\\\\)\n3. \\\\(R_{X_{2}} \\leftarrow R_{X_{2}} + 1.667R_{X_{4}}\\\\)\n\n\nComputed Tableau:\n\n|   |  | \\\\(A_I^{-1}\\\\) |   | RHS |\n|---|---|---|---|---|\n| Z | 0.000 | -0.500 | -1.500 | -6.000 |\n| \\\\(X_{1}\\\\) | 0.000 | 0.000 | 1.000 | 2.000 |\n| \\\\(X_{2}\\\\) | -1.000 | -0.500 | 2.500 | 1.000 |\n| \\\\(X_{0}\\\\) | 0.000 | -0.500 | 1.500 | 0.000 |\n\n\n## Iteration 3\n\nStarting Tableau:\n\n|   |  | \\\\(A_I^{-1}\\\\) |   | RHS |\n|---|---|---|---|---|\n| Z | 0.000 | -0.500 | -1.500 | -6.000 |\n| \\\\(X_{1}\\\\) | 0.000 | 0.000 | 1.000 | 2.000 |\n| \\\\(X_{2}\\\\) | -1.000 | -0.500 | 2.500 | 1.000 |\n| \\\\(X_{0}\\\\) | 0.000 | -0.500 | 1.500 | 0.000 |\n\n\n## Solution for \n\n\\\\[\n    \\begin{aligned}\n    & \\text{Minimize} & C^{T} \\cdot X \\\\\n    & \\text{Subject to} & A \\cdot X & = B \\\\\n    & & X & \\geq 0\n    \\end{aligned}\n    \\\\]\n    where: \n    \\\\[\n    \\begin{aligned}\n    & & A = \\begin{bmatrix}\n1.000 & 1.000 & -1.000 & 0.000 & 0.000 \\\\\n-2.000 & 3.000 & 0.000 & 1.000 & 0.000 \\\\\n0.000 & 1.000 & 0.000 & 0.000 & 1.000 \\\\\n\\end{bmatrix} \\\\\n    & & B = \\begin{bmatrix}\n1.000\\\\\n6.000\\\\\n2.000\n\\end{bmatrix} \\\\\n    & & C^{T} = \\begin{bmatrix}\n1.000 & -3.000 & 0.000 & 0.000 & 0.000\n\\end{bmatrix} \\\\\n    & & X = \\begin{bmatrix}\nX_{0}\\\\\nX_{1}\\\\\nX_{2}\\\\\nX_{3}\\\\\nX_{4}\n\\end{bmatrix}\n    \\end{aligned}\n    \\\\]\n\nSolution Type: Optimal unique solution\n\nOptimal Solution: \\\\(X^{*} = ['0.000', '2.000', '1.000', '0.000', '0.000']\\\\)\n\nOptimal Value: \\\\(Z^{*} = -6.000\\\\)\n\nOptimal Basis: \\\\([1, 2, 0]\\\\)\n\nFinal non-basic variables set J: \\\\([4, 3]\\\\)\n\n\\\\(\\hat{C}_{J}\\\\): \\\\([-1.5, -0.5]\\\\)\n\nNumber of Iterations: 4\n\n"
          },
          "metadata": {}
        }
      ],
      "execution_count": 69
    },
    {
      "cell_type": "markdown",
      "source": "## Result Comparison through scipy",
      "metadata": {}
    },
    {
      "cell_type": "code",
      "source": "result = linprog(C, A_eq = A, b_eq = B, method='highs')\nprint('Result comparison, we found the optimal solution through our tableaus')\ndisplay(result)",
      "metadata": {
        "trusted": true
      },
      "outputs": [
        {
          "name": "stdout",
          "text": "Result comparison, we found the optimal solution through our tableaus\n",
          "output_type": "stream"
        },
        {
          "output_type": "display_data",
          "data": {
            "text/plain": "        message: Optimization terminated successfully. (HiGHS Status 7: Optimal)\n        success: True\n         status: 0\n            fun: -6.0\n              x: [ 0.000e+00  2.000e+00  1.000e+00 -0.000e+00  0.000e+00]\n            nit: 0\n          lower:  residual: [ 0.000e+00  2.000e+00  1.000e+00 -0.000e+00\n                              0.000e+00]\n                 marginals: [ 1.000e+00  0.000e+00  0.000e+00  0.000e+00\n                              3.000e+00]\n          upper:  residual: [       inf        inf        inf        inf\n                                    inf]\n                 marginals: [ 0.000e+00  0.000e+00  0.000e+00  0.000e+00\n                              0.000e+00]\n          eqlin:  residual: [ 0.000e+00  0.000e+00  0.000e+00]\n                 marginals: [-0.000e+00 -0.000e+00 -3.000e+00]\n        ineqlin:  residual: []\n                 marginals: []\n mip_node_count: 0\n mip_dual_bound: 0.0\n        mip_gap: 0.0"
          },
          "metadata": {}
        }
      ],
      "execution_count": 70
    },
    {
      "cell_type": "markdown",
      "source": "## Result Comparison through Simplex Two Phases (without tableaus)",
      "metadata": {}
    },
    {
      "cell_type": "code",
      "source": "I = [2, 3, 4]\n_, n = A.shape\nX = np.zeros(n)\nz_star, x_star, I_star, A_I_star, A, iterations_count, solution_type, debug_info  = simplex_two_phases(A, B, C, I, debug=True)\nX[I_star] = x_star\n\nresult_md = f'''\nSolution Type: {solution_types[solution_type]}\n\n$ Z^{{*}} = {z_star} $\n\n$ X^{{*}} = \\\\begin{{bmatrix}}\n    { '\\n'.join([f'{x:.2f} \\\\\\\\' for x in X]) }\n\\\\end{{bmatrix}}\n$\n\n$ I^{{*}} = $ {I_star.tolist()}\n\n'''\ndisplay(\n    Markdown(\n        result_md\n    )\n)",
      "metadata": {
        "trusted": true
      },
      "outputs": [
        {
          "output_type": "display_data",
          "data": {
            "text/plain": "<IPython.core.display.Markdown object>",
            "text/markdown": "\nSolution Type: Optimal finite solution found\n\n$ Z^{*} = -6.0 $\n\n$ X^{*} = \\begin{bmatrix}\n    0.00 \\\\\n2.00 \\\\\n1.00 \\\\\n0.00 \\\\\n0.00 \\\\\n\\end{bmatrix}\n$\n\n$ I^{*} = $ [1, 2, 0]\n\n"
          },
          "metadata": {}
        }
      ],
      "execution_count": 71
    }
  ]
}