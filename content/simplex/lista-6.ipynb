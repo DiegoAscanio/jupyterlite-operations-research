{
  "metadata": {
    "kernelspec": {
      "name": "python",
      "display_name": "Python (Pyodide)",
      "language": "python"
    },
    "language_info": {
      "codemirror_mode": {
        "name": "python",
        "version": 3
      },
      "file_extension": ".py",
      "mimetype": "text/x-python",
      "name": "python",
      "nbconvert_exporter": "python",
      "pygments_lexer": "ipython3",
      "version": "3.8"
    }
  },
  "nbformat_minor": 4,
  "nbformat": 4,
  "cells": [
    {
      "cell_type": "code",
      "source": "%pip install numpy\n%pip install sympy\n%pip install scipy\n%load_ext autoreload\n%autoreload 2\nfrom simplex_two_phases import simplex as simplex_two_phases, _simplex_find_feasible_initial_basis\nfrom simplex_tableau import simplex as simplex_tableau\n#from simplex_tableau import markdown_repr_T\nfrom simplex import simplex\nfrom revised_simplex_tableau import revised_simplex_tableau, markdown_repr_T\nfrom utils import array_to_markdown\n\n    \nimport numpy as np\nfrom pprint import pprint\nfrom IPython.display import Markdown, display\nfrom itertools import combinations\nfrom sympy import symbols, Matrix, solve\nfrom scipy.optimize import linprog\n\n\nsolution_types = {\n    -1: 'Unfeasible',\n    1: 'Optimal finite solution found',\n    2: 'Multiple optimal solutions found',\n    3: 'Unbounded'\n}",
      "metadata": {
        "trusted": true
      },
      "outputs": [
        {
          "name": "stdout",
          "text": "The autoreload extension is already loaded. To reload it, use:\n  %reload_ext autoreload\n",
          "output_type": "stream"
        }
      ],
      "execution_count": 35
    },
    {
      "cell_type": "markdown",
      "source": "# Exercicio 4.1\n\nVerificando se as restrições de não negatividade para $ {A_{I}}^{-1} $ são violadas",
      "metadata": {}
    },
    {
      "cell_type": "code",
      "source": "A = np.array([\n    [ 1, 1, -1, 0, 0],\n    [-2, 3,  0, 1, 0],\n    [ 0, 1,  0, 0, 1]\n])\n\nB = np.array([\n    1,\n    6,\n    2\n])\n\nC = np.array([1, -3, 0, 0, 0])\n\nI = [2, 3, 4]\n\nA_I = A[:,I] # definição da matriz básica\nA_I_inv = np.linalg.inv(A_I)\n\nresult = f'Restrições de negatividade{\n    ' não ' if np.all(A_I_inv @ B >= 0) else ' '\n}violadas'\n\ndisplay(\n    Markdown(\n        result\n    )\n)",
      "metadata": {
        "trusted": true
      },
      "outputs": [
        {
          "output_type": "display_data",
          "data": {
            "text/plain": "<IPython.core.display.Markdown object>",
            "text/markdown": "Restrições de negatividade violadas"
          },
          "metadata": {}
        }
      ],
      "execution_count": 36
    },
    {
      "cell_type": "markdown",
      "source": "Como as restrições de negatividade foram violadas, devemos criar um problema artificial e resolvê-lo para:\n\n1. Verificar a factibilidade do problema original\n2. Encontrar uma base inicial factível para o problema original que seja capaz de resolvê-lo\n\nO problema artificial é do tipo:\n\n$$\n\\begin{aligned}\n    & \\text{min} \\quad \\phi = & \\textbf{1} \\: x_a \\\\\n    & \\text{s. t.} & A x + x_a &= b \\\\\n    &              &       x   &\\geq 0 \\\\\n    &              &       x_a &\\geq 0 \\\\\n\\end{aligned}\n$$\n\nVamos resolvê-lo abaixo:",
      "metadata": {}
    },
    {
      "cell_type": "code",
      "source": "\nm, n = A.shape\n\n# adicionando variaveis artificiais à matriz de restricoes do problema\n# para substituir variaveis de excesso\n\np = n - m\ncolunas_variaveis_folga_excesso = range(p, n)\nvariaveis_artificiais = []\nfor c in colunas_variaveis_folga_excesso:\n    if np.any(A[:,c] < 0):\n        # estamos diante de uma variavel de excesso que demanda adicao de\n        # variavel artificial\n        variavel_artificial = -1 * np.copy(A[:,c])\n        variaveis_artificiais.append(variavel_artificial)\n\n# montando array de variaveis artificiais para concatenacao em A\nto_stack = np.zeros((m, len(variaveis_artificiais)))\nfor c, variavel_artificial in enumerate(variaveis_artificiais):\n    to_stack[:, c] = np.copy(variavel_artificial)\n# montando matriz de restricoes com variaveis artificiais\nA_artificial = np.hstack((A, to_stack))\n\n# construindo vetor C artificial\nC_artificial = np.zeros(n + len(variaveis_artificiais))\nfor i in range(n, n + len(variaveis_artificiais)):\n    C_artificial[i] = 1\n\nI = [5, 3, 4]\n\n# resolvendo problema artificial com o simplex tableau revisado\nsolution = revised_simplex_tableau(A_artificial, B, C_artificial, I)\nresults_md = markdown_repr_T(solution)\n\ndisplay(\n    Markdown(results_md)\n)",
      "metadata": {
        "trusted": true,
        "scrolled": true
      },
      "outputs": [
        {
          "output_type": "display_data",
          "data": {
            "text/plain": "<IPython.core.display.Markdown object>",
            "text/markdown": "\n\n## Iteration 0\n\nStarting Tableau:\n\n|   |  | \\\\(A_I^{-1}\\\\) |   | RHS |\n|---|---|---|---|---|\n| Z | 1.000 | 0.000 | 0.000 | 1.000 |\n| \\\\(X_{5}\\\\) | 1.000 | 0.000 | 0.000 | 1.000 |\n| \\\\(X_{3}\\\\) | 0.000 | 1.000 | 0.000 | 6.000 |\n| \\\\(X_{4}\\\\) | 0.000 | 0.000 | 1.000 | 2.000 |\n\n\nExtended Tableau\n\n|   |  | \\\\(A_I^{-1}\\\\) |   | RHS | \\\\(X_{0}\\\\)\n|---|---|---|---|---|---|\n| Z | 1.000 | 0.000 | 0.000 | 1.000 | 1.000 |\n| \\\\(X_{5}\\\\) | 1.000 | 0.000 | 0.000 | 1.000 | 1.000 |\n| \\\\(X_{3}\\\\) | 0.000 | 1.000 | 0.000 | 6.000 | -2.000 |\n| \\\\(X_{4}\\\\) | 0.000 | 0.000 | 1.000 | 2.000 | 0.000 |\n\n\n\\\\(Ĉ_J = \\ \\\\)array([ 1.,  1., -1.])\n\n\n\\\\(J = {[0, 1, 2]}\\\\)\n\n### Pivot Operations\n\nVariable to enter: \\\\(X_{0}\\\\)\nVariable to leave: \\\\(X_{5}\\\\)\n#### Row Operations:\n\n1. \\\\(R_{X_{5}} \\leftarrow \\frac{R_{X_{5}}}{1.000}\\\\)\n1. \\\\(R_{Z} \\leftarrow R_{Z} - 1.000R_{X_{5}}\\\\)\n2. \\\\(R_{X_{3}} \\leftarrow R_{X_{3}} + 2.000R_{X_{5}}\\\\)\n3. \\\\(R_{X_{4}} \\leftarrow R_{X_{4}} - 0.000R_{X_{5}}\\\\)\n\n\nComputed Tableau:\n\n|   |  | \\\\(A_I^{-1}\\\\) |   | RHS |\n|---|---|---|---|---|\n| Z | 0.000 | 0.000 | 0.000 | 0.000 |\n| \\\\(X_{0}\\\\) | 1.000 | 0.000 | 0.000 | 1.000 |\n| \\\\(X_{3}\\\\) | 2.000 | 1.000 | 0.000 | 8.000 |\n| \\\\(X_{4}\\\\) | 0.000 | 0.000 | 1.000 | 2.000 |\n\n\n## Iteration 1\n\nStarting Tableau:\n\n|   |  | \\\\(A_I^{-1}\\\\) |   | RHS |\n|---|---|---|---|---|\n| Z | 0.000 | 0.000 | 0.000 | 0.000 |\n| \\\\(X_{0}\\\\) | 1.000 | 0.000 | 0.000 | 1.000 |\n| \\\\(X_{3}\\\\) | 2.000 | 1.000 | 0.000 | 8.000 |\n| \\\\(X_{4}\\\\) | 0.000 | 0.000 | 1.000 | 2.000 |\n\n\n## Solution for \n\n\\\\[\n    \\begin{aligned}\n    & \\text{Minimize} & C^{T} \\cdot X \\\\\n    & \\text{Subject to} & A \\cdot X & = B \\\\\n    & & X & \\geq 0\n    \\end{aligned}\n    \\\\]\n    where: \n    \\\\[\n    \\begin{aligned}\n    & & A = \\begin{bmatrix}\n1.000 & 1.000 & -1.000 & 0.000 & 0.000 & 1.000 \\\\\n-2.000 & 3.000 & 0.000 & 1.000 & 0.000 & 0.000 \\\\\n0.000 & 1.000 & 0.000 & 0.000 & 1.000 & 0.000 \\\\\n\\end{bmatrix} \\\\\n    & & B = \\begin{bmatrix}\n1.000\\\\\n6.000\\\\\n2.000\n\\end{bmatrix} \\\\\n    & & C^{T} = \\begin{bmatrix}\n0.000 & 0.000 & 0.000 & 0.000 & 0.000 & 1.000\n\\end{bmatrix} \\\\\n    & & X = \\begin{bmatrix}\nX_{0}\\\\\nX_{1}\\\\\nX_{2}\\\\\nX_{3}\\\\\nX_{4}\\\\\nX_{5}\n\\end{bmatrix}\n    \\end{aligned}\n    \\\\]\n\nSolution Type: Optimal multiple solutions\n\nOptimal Solution: \\\\(X^{*} = ['1.000', '0.000', '0.000', '8.000', '2.000', '0.000']\\\\)\n\nOptimal Value: \\\\(Z^{*} = 0.000\\\\)\n\nOptimal Basis: \\\\([0, 3, 4]\\\\)\n\nFinal non-basic variables set J: \\\\([5, 1, 2]\\\\)\n\n\\\\(\\hat{C}_{J}\\\\): \\\\([-1.0, 0.0, 0.0]\\\\)\n\nNumber of Iterations: 2\n\n"
          },
          "metadata": {}
        }
      ],
      "execution_count": 37
    },
    {
      "cell_type": "markdown",
      "source": "Verificamos que $ \\phi^{*} = 0 $, o que caracteriza o problema original como factível.\n\nPortanto, vamos resolvê-lo à partir da base inicial facítvel obtida na resolução do artificial $ I = [0, 3, 4] $",
      "metadata": {}
    },
    {
      "cell_type": "code",
      "source": "I = [0, 3, 4]\n\n# resolvendo problema original com o simplex tableau revisado\nsolution = revised_simplex_tableau(A, B, C, I, cycle_proof = True)\nresults_md = markdown_repr_T(solution)\n\ndisplay(\n    Markdown(results_md)\n)",
      "metadata": {
        "trusted": true
      },
      "outputs": [
        {
          "name": "stdout",
          "text": "[1]\n",
          "output_type": "stream"
        },
        {
          "output_type": "display_data",
          "data": {
            "text/plain": "<IPython.core.display.Markdown object>",
            "text/markdown": "\n\n## Iteration 0\n\nStarting Tableau:\n\n|   |  | \\\\(A_I^{-1}\\\\) |   | RHS |\n|---|---|---|---|---|\n| Z | 1.000 | 0.000 | 0.000 | 1.000 |\n| \\\\(X_{0}\\\\) | 1.000 | 0.000 | 0.000 | 1.000 |\n| \\\\(X_{3}\\\\) | 2.000 | 1.000 | 0.000 | 8.000 |\n| \\\\(X_{4}\\\\) | 0.000 | 0.000 | 1.000 | 2.000 |\n\n\nExtended Tableau\n\n|   |  | \\\\(A_I^{-1}\\\\) |   | RHS | \\\\(X_{1}\\\\)\n|---|---|---|---|---|---|\n| Z | 1.000 | 0.000 | 0.000 | 1.000 | 4.000 |\n| \\\\(X_{0}\\\\) | 1.000 | 0.000 | 0.000 | 1.000 | 1.000 |\n| \\\\(X_{3}\\\\) | 2.000 | 1.000 | 0.000 | 8.000 | 5.000 |\n| \\\\(X_{4}\\\\) | 0.000 | 0.000 | 1.000 | 2.000 | 1.000 |\n\n\n\\\\(Ĉ_J = \\ \\\\)array([ 4., -1.])\n\n\n\\\\(J = {[1, 2]}\\\\)\n\n### Pivot Operations\n\nVariable to enter: \\\\(X_{1}\\\\)\nVariable to leave: \\\\(X_{0}\\\\)\n#### Row Operations:\n\n1. \\\\(R_{X_{0}} \\leftarrow \\frac{R_{X_{0}}}{1.000}\\\\)\n1. \\\\(R_{Z} \\leftarrow R_{Z} - 4.000R_{X_{0}}\\\\)\n2. \\\\(R_{X_{3}} \\leftarrow R_{X_{3}} - 5.000R_{X_{0}}\\\\)\n3. \\\\(R_{X_{4}} \\leftarrow R_{X_{4}} - 1.000R_{X_{0}}\\\\)\n\n\nComputed Tableau:\n\n|   |  | \\\\(A_I^{-1}\\\\) |   | RHS |\n|---|---|---|---|---|\n| Z | -3.000 | 0.000 | 0.000 | -3.000 |\n| \\\\(X_{1}\\\\) | 1.000 | 0.000 | 0.000 | 1.000 |\n| \\\\(X_{3}\\\\) | -3.000 | 1.000 | 0.000 | 3.000 |\n| \\\\(X_{4}\\\\) | -1.000 | 0.000 | 1.000 | 1.000 |\n\n\n## Iteration 1\n\nStarting Tableau:\n\n|   |  | \\\\(A_I^{-1}\\\\) |   | RHS |\n|---|---|---|---|---|\n| Z | -3.000 | 0.000 | 0.000 | -3.000 |\n| \\\\(X_{1}\\\\) | 1.000 | 0.000 | 0.000 | 1.000 |\n| \\\\(X_{3}\\\\) | -3.000 | 1.000 | 0.000 | 3.000 |\n| \\\\(X_{4}\\\\) | -1.000 | 0.000 | 1.000 | 1.000 |\n\n\nExtended Tableau\n\n|   |  | \\\\(A_I^{-1}\\\\) |   | RHS | \\\\(X_{2}\\\\)\n|---|---|---|---|---|---|\n| Z | -3.000 | 0.000 | 0.000 | -3.000 | 3.000 |\n| \\\\(X_{1}\\\\) | 1.000 | 0.000 | 0.000 | 1.000 | -1.000 |\n| \\\\(X_{3}\\\\) | -3.000 | 1.000 | 0.000 | 3.000 | 3.000 |\n| \\\\(X_{4}\\\\) | -1.000 | 0.000 | 1.000 | 1.000 | 1.000 |\n\n\n\\\\(Ĉ_J = \\ \\\\)array([-4.,  3.])\n\n\n\\\\(J = {[0, 2]}\\\\)\n\n### Pivot Operations\n\nVariable to enter: \\\\(X_{2}\\\\)\nVariable to leave: \\\\(X_{3}\\\\)\n#### Row Operations:\n\n1. \\\\(R_{X_{3}} \\leftarrow \\frac{R_{X_{3}}}{3.000}\\\\)\n1. \\\\(R_{Z} \\leftarrow R_{Z} - 3.000R_{X_{3}}\\\\)\n2. \\\\(R_{X_{1}} \\leftarrow R_{X_{1}} + 1.000R_{X_{3}}\\\\)\n3. \\\\(R_{X_{4}} \\leftarrow R_{X_{4}} - 1.000R_{X_{3}}\\\\)\n\n\nComputed Tableau:\n\n|   |  | \\\\(A_I^{-1}\\\\) |   | RHS |\n|---|---|---|---|---|\n| Z | 0.000 | -1.000 | 0.000 | -6.000 |\n| \\\\(X_{1}\\\\) | 0.000 | 0.333 | 0.000 | 2.000 |\n| \\\\(X_{2}\\\\) | -1.000 | 0.333 | 0.000 | 1.000 |\n| \\\\(X_{4}\\\\) | 0.000 | -0.333 | 1.000 | 0.000 |\n\n\n## Iteration 2\n\nStarting Tableau:\n\n|   |  | \\\\(A_I^{-1}\\\\) |   | RHS |\n|---|---|---|---|---|\n| Z | 0.000 | -1.000 | 0.000 | -6.000 |\n| \\\\(X_{1}\\\\) | 0.000 | 0.333 | 0.000 | 2.000 |\n| \\\\(X_{2}\\\\) | -1.000 | 0.333 | 0.000 | 1.000 |\n| \\\\(X_{4}\\\\) | 0.000 | -0.333 | 1.000 | 0.000 |\n\n\nExtended Tableau\n\n|   |  | \\\\(A_I^{-1}\\\\) |   | RHS | \\\\(X_{0}\\\\)\n|---|---|---|---|---|---|\n| Z | 0.000 | -1.000 | 0.000 | -6.000 | 1.000 |\n| \\\\(X_{1}\\\\) | 0.000 | 0.333 | 0.000 | 2.000 | -0.667 |\n| \\\\(X_{2}\\\\) | -1.000 | 0.333 | 0.000 | 1.000 | -1.667 |\n| \\\\(X_{4}\\\\) | 0.000 | -0.333 | 1.000 | 0.000 | 0.667 |\n\n\n\\\\(Ĉ_J = \\ \\\\)array([ 1., -1.])\n\n\n\\\\(J = {[0, 3]}\\\\)\n\n### Pivot Operations\n\nVariable to enter: \\\\(X_{0}\\\\)\nVariable to leave: \\\\(X_{4}\\\\)\n#### Row Operations:\n\n1. \\\\(R_{X_{4}} \\leftarrow \\frac{R_{X_{4}}}{0.667}\\\\)\n1. \\\\(R_{Z} \\leftarrow R_{Z} - 1.000R_{X_{4}}\\\\)\n2. \\\\(R_{X_{1}} \\leftarrow R_{X_{1}} + 0.667R_{X_{4}}\\\\)\n3. \\\\(R_{X_{2}} \\leftarrow R_{X_{2}} + 1.667R_{X_{4}}\\\\)\n\n\nComputed Tableau:\n\n|   |  | \\\\(A_I^{-1}\\\\) |   | RHS |\n|---|---|---|---|---|\n| Z | 0.000 | -0.500 | -1.500 | -6.000 |\n| \\\\(X_{1}\\\\) | 0.000 | 0.000 | 1.000 | 2.000 |\n| \\\\(X_{2}\\\\) | -1.000 | -0.500 | 2.500 | 1.000 |\n| \\\\(X_{0}\\\\) | 0.000 | -0.500 | 1.500 | 0.000 |\n\n\n## Iteration 3\n\nStarting Tableau:\n\n|   |  | \\\\(A_I^{-1}\\\\) |   | RHS |\n|---|---|---|---|---|\n| Z | 0.000 | -0.500 | -1.500 | -6.000 |\n| \\\\(X_{1}\\\\) | 0.000 | 0.000 | 1.000 | 2.000 |\n| \\\\(X_{2}\\\\) | -1.000 | -0.500 | 2.500 | 1.000 |\n| \\\\(X_{0}\\\\) | 0.000 | -0.500 | 1.500 | 0.000 |\n\n\n## Solution for \n\n\\\\[\n    \\begin{aligned}\n    & \\text{Minimize} & C^{T} \\cdot X \\\\\n    & \\text{Subject to} & A \\cdot X & = B \\\\\n    & & X & \\geq 0\n    \\end{aligned}\n    \\\\]\n    where: \n    \\\\[\n    \\begin{aligned}\n    & & A = \\begin{bmatrix}\n1.000 & 1.000 & -1.000 & 0.000 & 0.000 \\\\\n-2.000 & 3.000 & 0.000 & 1.000 & 0.000 \\\\\n0.000 & 1.000 & 0.000 & 0.000 & 1.000 \\\\\n\\end{bmatrix} \\\\\n    & & B = \\begin{bmatrix}\n1.000\\\\\n6.000\\\\\n2.000\n\\end{bmatrix} \\\\\n    & & C^{T} = \\begin{bmatrix}\n1.000 & -3.000 & 0.000 & 0.000 & 0.000\n\\end{bmatrix} \\\\\n    & & X = \\begin{bmatrix}\nX_{0}\\\\\nX_{1}\\\\\nX_{2}\\\\\nX_{3}\\\\\nX_{4}\n\\end{bmatrix}\n    \\end{aligned}\n    \\\\]\n\nSolution Type: Optimal unique solution\n\nOptimal Solution: \\\\(X^{*} = ['0.000', '2.000', '1.000', '0.000', '0.000']\\\\)\n\nOptimal Value: \\\\(Z^{*} = -6.000\\\\)\n\nOptimal Basis: \\\\([1, 2, 0]\\\\)\n\nFinal non-basic variables set J: \\\\([4, 3]\\\\)\n\n\\\\(\\hat{C}_{J}\\\\): \\\\([-1.5, -0.5]\\\\)\n\nNumber of Iterations: 4\n\n"
          },
          "metadata": {}
        }
      ],
      "execution_count": 38
    },
    {
      "cell_type": "markdown",
      "source": "## Result Comparison through scipy",
      "metadata": {}
    },
    {
      "cell_type": "code",
      "source": "result = linprog(C, A_eq = A, b_eq = B, method='highs')\nprint('Result comparison, we found the optimal solution through our tableaus')\ndisplay(result)",
      "metadata": {
        "trusted": true
      },
      "outputs": [
        {
          "name": "stdout",
          "text": "Result comparison, we found the optimal solution through our tableaus\n",
          "output_type": "stream"
        },
        {
          "output_type": "display_data",
          "data": {
            "text/plain": "        message: Optimization terminated successfully. (HiGHS Status 7: Optimal)\n        success: True\n         status: 0\n            fun: -6.0\n              x: [ 0.000e+00  2.000e+00  1.000e+00 -0.000e+00  0.000e+00]\n            nit: 0\n          lower:  residual: [ 0.000e+00  2.000e+00  1.000e+00 -0.000e+00\n                              0.000e+00]\n                 marginals: [ 1.000e+00  0.000e+00  0.000e+00  0.000e+00\n                              3.000e+00]\n          upper:  residual: [       inf        inf        inf        inf\n                                    inf]\n                 marginals: [ 0.000e+00  0.000e+00  0.000e+00  0.000e+00\n                              0.000e+00]\n          eqlin:  residual: [ 0.000e+00  0.000e+00  0.000e+00]\n                 marginals: [-0.000e+00 -0.000e+00 -3.000e+00]\n        ineqlin:  residual: []\n                 marginals: []\n mip_node_count: 0\n mip_dual_bound: 0.0\n        mip_gap: 0.0"
          },
          "metadata": {}
        }
      ],
      "execution_count": 6
    },
    {
      "cell_type": "markdown",
      "source": "## Result Comparison through Simplex Two Phases (without tableaus)",
      "metadata": {}
    },
    {
      "cell_type": "code",
      "source": "I = [2, 3, 4]\n_, n = A.shape\nX = np.zeros(n)\nz_star, x_star, I_star, A_I_star, A, iterations_count, solution_type, debug_info  = simplex_two_phases(A, B, C, I, debug=True)\nX[I_star] = x_star\n\nresult_md = f'''\nSolution Type: {solution_types[solution_type]}\n\n$ Z^{{*}} = {z_star} $\n\n$ X^{{*}} = \\\\begin{{bmatrix}}\n    { '\\n'.join([f'{x:.2f} \\\\\\\\' for x in X]) }\n\\\\end{{bmatrix}}\n$\n\n$ I^{{*}} = $ {I_star.tolist()}\n\n'''\ndisplay(\n    Markdown(\n        result_md\n    )\n)",
      "metadata": {
        "trusted": true
      },
      "outputs": [],
      "execution_count": null
    },
    {
      "cell_type": "markdown",
      "source": "# Exercicio 4.2\n\nVerificando se as restrições de não negatividade para $ {A_{I}}^{-1} $ são violadas",
      "metadata": {}
    },
    {
      "cell_type": "code",
      "source": "A = np.array([\n    [ 2,  1, 3, -1,  0, 0],\n    [-1,  1, 0,  0, -1, 0],\n    [-1, -5, 1,  0,  0, 1]\n])\n\nB = np.array([\n    3,\n    1,\n    4\n])\n\nC = np.array([1, 3, -1, 0, 0, 0])\n\nI = [3, 4, 5]\n\nA_I = A[:,I] # definição da matriz básica\nA_I_inv = np.linalg.inv(A_I)\n\nresult = f'Restrições de negatividade{\n    ' não ' if np.all(A_I_inv @ B >= 0) else ' '\n}violadas'\n\ndisplay(\n    Markdown(\n        result\n    )\n)",
      "metadata": {
        "trusted": true
      },
      "outputs": [],
      "execution_count": null
    },
    {
      "cell_type": "markdown",
      "source": "Como as restrições de negatividade foram violadas, devemos criar um problema artificial e resolvê-lo para:\n\n1. Verificar a factibilidade do problema original\n2. Encontrar uma base inicial factível para o problema original que seja capaz de resolvê-lo\n\nO problema artificial é do tipo:\n\n$$\n\\begin{aligned}\n    & \\text{min} \\quad \\phi = & \\textbf{1} \\: x_a \\\\\n    & \\text{s. t.} & A x + x_a &= b \\\\\n    &              &       x   &\\geq 0 \\\\\n    &              &       x_a &\\geq 0 \\\\\n\\end{aligned}\n$$\n\nVamos resolvê-lo abaixo:",
      "metadata": {}
    },
    {
      "cell_type": "code",
      "source": "\nm, n = A.shape\n\n# adicionando variaveis artificiais à matriz de restricoes do problema\n# para substituir variaveis de excesso\n\np = n - m\ncolunas_variaveis_folga_excesso = range(p, n)\nvariaveis_artificiais = []\nfor c in colunas_variaveis_folga_excesso:\n    if np.any(A[:,c] < 0):\n        # estamos diante de uma variavel de excesso que demanda adicao de\n        # variavel artificial\n        variavel_artificial = -1 * np.copy(A[:,c])\n        variaveis_artificiais.append(variavel_artificial)\n\n# montando array de variaveis artificiais para concatenacao em A\nto_stack = np.zeros((m, len(variaveis_artificiais)))\nfor c, variavel_artificial in enumerate(variaveis_artificiais):\n    to_stack[:, c] = np.copy(variavel_artificial)\n# montando matriz de restricoes com variaveis artificiais\nA_artificial = np.hstack((A, to_stack))\n\n# construindo vetor C artificial\nC_artificial = np.zeros(n + len(variaveis_artificiais))\nfor i in range(n, n + len(variaveis_artificiais)):\n    C_artificial[i] = 1\n\nI = [6, 7, 5]\n\n# resolvendo problema artificial com o simplex tableau revisado\nsolution = revised_simplex_tableau(A_artificial, B, C_artificial, I)\nresults_md = markdown_repr_T(solution)\n\ndisplay(\n    Markdown(results_md)\n)",
      "metadata": {
        "trusted": true,
        "scrolled": true
      },
      "outputs": [],
      "execution_count": null
    },
    {
      "cell_type": "markdown",
      "source": "Verificamos que $ \\phi^{*} = 0 $, o que caracteriza o problema original como factível.\n\nPortanto, vamos resolvê-lo à partir da base inicial facítvel obtida na resolução do artificial $ I = [2, 1, 5] $ já que nessa base não existem variáveis artificiais",
      "metadata": {}
    },
    {
      "cell_type": "code",
      "source": "I = [2, 1, 5]\n\n# resolvendo problema original com o simplex tableau revisado\nsolution = revised_simplex_tableau(A, B, C, I)\nresults_md = markdown_repr_T(solution)\n\ndisplay(\n    Markdown(results_md)\n)",
      "metadata": {
        "trusted": true
      },
      "outputs": [],
      "execution_count": null
    },
    {
      "cell_type": "markdown",
      "source": "## Result Comparison through scipy",
      "metadata": {}
    },
    {
      "cell_type": "code",
      "source": "result = linprog(C, A_eq = A, b_eq = B, method='highs')\nprint('Result comparison, we found the optimal solution through our tableaus')\ndisplay(result)",
      "metadata": {
        "trusted": true
      },
      "outputs": [],
      "execution_count": null
    },
    {
      "cell_type": "markdown",
      "source": "## Result Comparison through Simplex Two Phases (without tableaus)",
      "metadata": {}
    },
    {
      "cell_type": "code",
      "source": "# I = [3, 4, 5]\n_, n = A.shape\nX = np.zeros(n)\nz_star, x_star, I_star, A_I_star, A, iterations_count, solution_type, debug_info  = simplex_two_phases(A, B, C, I, debug=True)\nX[I_star] = x_star\n\nresult_md = f'''\nSolution Type: {solution_types[solution_type]}\n\n$ Z^{{*}} = {z_star} $\n\n$ X^{{*}} = \\\\begin{{bmatrix}}\n    { '\\n'.join([f'{x:.2f} \\\\\\\\' for x in X]) }\n\\\\end{{bmatrix}}\n$\n\n$ I^{{*}} = $ {I_star.tolist()}\n\n'''\ndisplay(\n    Markdown(\n        result_md\n    )\n)",
      "metadata": {
        "trusted": true
      },
      "outputs": [],
      "execution_count": null
    },
    {
      "cell_type": "markdown",
      "source": "# Exercicio 4.3\n\nVerificando se as restrições de não negatividade para $ {A_{I}}^{-1} $ são violadas",
      "metadata": {}
    },
    {
      "cell_type": "code",
      "source": "A = np.array([\n    [3,  1, -1, 1,  0,  0],\n    [4, -1,  2, 0, -1,  0],\n    [2,  3, -2, 0,  0, -1]\n])\n\nB = np.array([\n    8,\n    2,\n    4\n])\n\nC = np.array([-2, 1, -1, 0, 0, 0])\n\nI = [3, 4, 5]\n\nA_I = A[:,I] # definição da matriz básica\nA_I_inv = np.linalg.inv(A_I)\n\nresult = f'Restrições de negatividade{\n    ' não ' if np.all(A_I_inv @ B >= 0) else ' '\n}violadas'\n\ndisplay(\n    Markdown(\n        result\n    )\n)",
      "metadata": {
        "trusted": true
      },
      "outputs": [],
      "execution_count": null
    },
    {
      "cell_type": "markdown",
      "source": "Como as restrições de negatividade foram violadas, devemos criar um problema artificial e resolvê-lo para:\n\n1. Verificar a factibilidade do problema original\n2. Encontrar uma base inicial factível para o problema original que seja capaz de resolvê-lo\n\nO problema artificial é do tipo:\n\n$$\n\\begin{aligned}\n    & \\text{min} \\quad \\phi = & \\textbf{1} \\: x_a \\\\\n    & \\text{s. t.} & A x + x_a &= b \\\\\n    &              &       x   &\\geq 0 \\\\\n    &              &       x_a &\\geq 0 \\\\\n\\end{aligned}\n$$\n\nVamos resolvê-lo abaixo:",
      "metadata": {}
    },
    {
      "cell_type": "code",
      "source": "\nm, n = A.shape\n\n# adicionando variaveis artificiais à matriz de restricoes do problema\n# para substituir variaveis de excesso\n\np = n - m\ncolunas_variaveis_folga_excesso = range(p, n)\nvariaveis_artificiais = []\nfor c in colunas_variaveis_folga_excesso:\n    if np.any(A[:,c] < 0):\n        # estamos diante de uma variavel de excesso que demanda adicao de\n        # variavel artificial\n        variavel_artificial = -1 * np.copy(A[:,c])\n        variaveis_artificiais.append(variavel_artificial)\n\n# montando array de variaveis artificiais para concatenacao em A\nto_stack = np.zeros((m, len(variaveis_artificiais)))\nfor c, variavel_artificial in enumerate(variaveis_artificiais):\n    to_stack[:, c] = np.copy(variavel_artificial)\n# montando matriz de restricoes com variaveis artificiais\nA_artificial = np.hstack((A, to_stack))\n\n# construindo vetor C artificial\nC_artificial = np.zeros(n + len(variaveis_artificiais))\nfor i in range(n, n + len(variaveis_artificiais)):\n    C_artificial[i] = 1\n\nI = [3, 6, 7]\n\n# resolvendo problema artificial com o simplex tableau revisado\nsolution = revised_simplex_tableau(A_artificial, B, C_artificial, I)\nresults_md = markdown_repr_T(solution)\n\ndisplay(\n    Markdown(results_md)\n)",
      "metadata": {
        "trusted": true,
        "scrolled": true
      },
      "outputs": [],
      "execution_count": null
    },
    {
      "cell_type": "markdown",
      "source": "Verificamos que $ \\phi^{*} = 0 $, o que caracteriza o problema original como factível.\n\nPortanto, vamos resolvê-lo à partir da base inicial facítvel obtida na resolução do artificial $ I = [3, 0, 1] $ já que nessa base não existem variáveis artificiais",
      "metadata": {}
    },
    {
      "cell_type": "code",
      "source": "I = [3, 0, 1]\n\n# resolvendo problema original com o simplex tableau revisado\nsolution = revised_simplex_tableau(A, B, C, I)\nresults_md = markdown_repr_T(solution)\n\ndisplay(\n    Markdown(results_md)\n)",
      "metadata": {
        "trusted": true
      },
      "outputs": [],
      "execution_count": null
    },
    {
      "cell_type": "markdown",
      "source": "## Result Comparison through scipy",
      "metadata": {}
    },
    {
      "cell_type": "code",
      "source": "result = linprog(C, A_eq = A, b_eq = B, method='highs')\nprint('Result comparison, we found the optimal solution through our tableaus')\ndisplay(result)",
      "metadata": {
        "trusted": true
      },
      "outputs": [],
      "execution_count": null
    },
    {
      "cell_type": "markdown",
      "source": "## Result Comparison through Simplex Two Phases (without tableaus)",
      "metadata": {}
    },
    {
      "cell_type": "code",
      "source": "I = [3, 4, 5]\n_, n = A.shape\nX = np.zeros(n)\nz_star, x_star, I_star, A_I_star, A, iterations_count, solution_type, debug_info  = simplex_two_phases(A, B, C, I, debug=True)\nX[I_star] = x_star\n\nresult_md = f'''\nSolution Type: {solution_types[solution_type]}\n\n$ Z^{{*}} = {z_star} $\n\n$ X^{{*}} = \\\\begin{{bmatrix}}\n    { '\\n'.join([f'{x:.2f} \\\\\\\\' for x in X]) }\n\\\\end{{bmatrix}}\n$\n\n$ I^{{*}} = $ {I_star.tolist()}\n\n'''\ndisplay(\n    Markdown(\n        result_md\n    )\n)",
      "metadata": {
        "trusted": true,
        "scrolled": true
      },
      "outputs": [],
      "execution_count": null
    },
    {
      "cell_type": "markdown",
      "source": "# Exercicio 4.4\n\nVerificando se as restrições de não negatividade para $ {A_{I}}^{-1} $ são violadas",
      "metadata": {}
    },
    {
      "cell_type": "code",
      "source": "A = np.array([\n    [1,  2, 1, 1,  0,  0, 0],\n    [1, -1, 0, 0, -1,  0, 0],\n    [1, -1, 0, 0,  0, -1, 0],\n    [1,  3, 1, 0,  0,  0, 1]\n])\n\nB = np.array([\n    10,\n    10,\n    6,\n    14\n])\n\nC = np.array([-4, -5, 3, 0, 0, 0, 0])\n\nI = list(range(3,7))\n\nA_I = A[:,I] # definição da matriz básica\nA_I_inv = np.linalg.inv(A_I)\n\nresult = f'Restrições de negatividade{\n    ' não ' if np.all(A_I_inv @ B >= 0) else ' '\n}violadas'\n\ndisplay(\n    Markdown(\n        result\n    )\n)",
      "metadata": {
        "trusted": true
      },
      "outputs": [],
      "execution_count": null
    },
    {
      "cell_type": "markdown",
      "source": "Como as restrições de negatividade foram violadas, devemos criar um problema artificial e resolvê-lo para:\n\n1. Verificar a factibilidade do problema original\n2. Encontrar uma base inicial factível para o problema original que seja capaz de resolvê-lo\n\nO problema artificial é do tipo:\n\n$$\n\\begin{aligned}\n    & \\text{min} \\quad \\phi = & \\textbf{1} \\: x_a \\\\\n    & \\text{s. t.} & A x + x_a &= b \\\\\n    &              &       x   &\\geq 0 \\\\\n    &              &       x_a &\\geq 0 \\\\\n\\end{aligned}\n$$\n\nVamos resolvê-lo abaixo:",
      "metadata": {}
    },
    {
      "cell_type": "code",
      "source": "\nm, n = A.shape\n\n# adicionando variaveis artificiais à matriz de restricoes do problema\n# para substituir variaveis de excesso\n\np = n - m\ncolunas_variaveis_folga_excesso = range(p, n)\nvariaveis_artificiais = []\nfor c in colunas_variaveis_folga_excesso:\n    if np.any(A[:,c] < 0):\n        # estamos diante de uma variavel de excesso que demanda adicao de\n        # variavel artificial\n        variavel_artificial = -1 * np.copy(A[:,c])\n        variaveis_artificiais.append(variavel_artificial)\n\n# montando array de variaveis artificiais para concatenacao em A\nto_stack = np.zeros((m, len(variaveis_artificiais)))\nfor c, variavel_artificial in enumerate(variaveis_artificiais):\n    to_stack[:, c] = np.copy(variavel_artificial)\n# montando matriz de restricoes com variaveis artificiais\nA_artificial = np.hstack((A, to_stack))\n\n# construindo vetor C artificial\nC_artificial = np.zeros(n + len(variaveis_artificiais))\nfor i in range(n, n + len(variaveis_artificiais)):\n    C_artificial[i] = 1\n\nI = [3, 7, 8, 6]\n\n# resolvendo problema artificial com o simplex tableau revisado\nsolution = revised_simplex_tableau(A_artificial, B, C_artificial, I)\nresults_md = markdown_repr_T(solution)\n\ndisplay(\n    Markdown(results_md)\n)",
      "metadata": {
        "trusted": true,
        "scrolled": true
      },
      "outputs": [],
      "execution_count": null
    },
    {
      "cell_type": "markdown",
      "source": "Verificamos que $ \\phi^{*} = 0 $, o que caracteriza o problema original como factível.\n\nVemos ainda que uma variável artificial está na base — $ x_7 $ — o que implica a necessidade de sua troca (ou remoção, se impossível, a partir da retirada de sua restrição equivalente) para resolver o problema original.\n\nVamos avaliar o conjunto $J$ das variáveis não básicas originais onde $ J = [1, 2, 3, 4] $ e seu respectivo $ \\hat{C_{J}} = [-3, -1, -1, -1] $\n\nApesar de todo $\\hat{C_{J}}$ ser negativo, podemos inserir uma variável não básica original que piore a solução do problema desde que o conjunto base $I$ resultante mantenha as restrições de factibilidade adequadas.\n\nPelo critério de entrada, do indice mais à esquerda (critério de bland) do maior valor de $\\hat{C_{J}}$, $k = 2$\n\nLogo, vamos tentar substituir $x_7$ artificial por $x_2$ não básica original.\n\nCritérios:\n\n1. $ {A_{\\text{artificial}}}_{[7,k]} \\neq 0 $\n\nLembrando que a linha da matriz de restrições correspondente à variável básica $x_7$ neste momento é a linha 2",
      "metadata": {}
    },
    {
      "cell_type": "code",
      "source": "md = f'''\n$x_2$ { 'pode' if A_artificial[1,2] else 'não pode '} entrar na base.\n\n$ {{A_{{\\\\text{{artificial}}}}}}_{{[7,2]}} = {A_artificial[1,2]}\n$ '''\ndisplay(Markdown(md))",
      "metadata": {
        "trusted": true
      },
      "outputs": [],
      "execution_count": null
    },
    {
      "cell_type": "markdown",
      "source": "Vamos testar agora com o próximo valor de $\\hat{C_J}$ que corresponde ao 3º índice, $k = 3$",
      "metadata": {}
    },
    {
      "cell_type": "code",
      "source": "md = f'''\n$x_3$ { 'pode' if A_artificial[1,3] else 'não pode '} entrar na base.\n\n$ {{A_{{\\\\text{{artificial}}}}}}_{{[7,3]}} = {A_artificial[1,3]}\n$ '''\ndisplay(Markdown(md))",
      "metadata": {
        "trusted": true,
        "scrolled": true
      },
      "outputs": [],
      "execution_count": null
    },
    {
      "cell_type": "markdown",
      "source": "Vamos testar agora com o último valor possível de $\\hat{C_J}$ que corresponde ao 4º índice, $k = 4$",
      "metadata": {}
    },
    {
      "cell_type": "code",
      "source": "md = f'''\n$x_4$ { 'pode' if A_artificial[1,4] else 'não pode '} entrar na base.\n\n$ {{A_{{\\\\text{{artificial}}}}}}_{{[7,4]}} = {A_artificial[1,4]}\n$ '''\ndisplay(Markdown(md))",
      "metadata": {
        "trusted": true,
        "scrolled": true
      },
      "outputs": [],
      "execution_count": null
    },
    {
      "cell_type": "markdown",
      "source": "Ainda existem mais critérios que devem ser levados em consideração:\n\n2. Se a matriz $A_I$ resultante é não-singular (invertível)",
      "metadata": {}
    },
    {
      "cell_type": "code",
      "source": "I = [5, 4, 0, 6]\nA_I = A_artificial[:,I]\n\nmd = f'''\n$A_I$ resultante é {\n    'singular.' if np.linalg.det(A_I) == 0 else 'não singular.'\n}\n'''\ndisplay(Markdown(md))",
      "metadata": {
        "trusted": true
      },
      "outputs": [],
      "execution_count": null
    },
    {
      "cell_type": "markdown",
      "source": "3. Por fim, se os critérios de não negatividade — $ X_I \\geq 0 $ — são respeitados, onde:\n\n$$\n    X_I = {A_I}^{-1} B\n$$",
      "metadata": {}
    },
    {
      "cell_type": "code",
      "source": "md = f'''\nOs critérios de negatividade{\n    ' não ' if np.any(np.linalg.inv(A_I).dot(B) < 0) else ' '\n}foram respeitados\n'''\ndisplay(Markdown(md))\ndisplay(np.linalg.inv(A_I).dot(B))",
      "metadata": {
        "trusted": true
      },
      "outputs": [],
      "execution_count": null
    },
    {
      "cell_type": "markdown",
      "source": "Então, a substituição é de $x_7$ por $x_4$ é válida e vamos utilizar $ I = [5, 4, 0, 6] $ como base inicial factível para o simplex tableau revisto de forma a solucionar o problema original:",
      "metadata": {}
    },
    {
      "cell_type": "code",
      "source": "I = [5, 4, 0, 6]\n\n# resolvendo problema original com o simplex tableau revisado\nsolution = revised_simplex_tableau(A, B, C, I)\nresults_md = markdown_repr_T(solution)\n\ndisplay(\n    Markdown(results_md)\n)",
      "metadata": {
        "trusted": true
      },
      "outputs": [],
      "execution_count": null
    },
    {
      "cell_type": "markdown",
      "source": "## Result Comparison through scipy",
      "metadata": {}
    },
    {
      "cell_type": "code",
      "source": "result = linprog(C, A_eq = A, b_eq = B, method='highs')\nprint('Result comparison, we found the optimal solution through our tableaus')\ndisplay(result)",
      "metadata": {
        "trusted": true,
        "scrolled": true
      },
      "outputs": [],
      "execution_count": null
    },
    {
      "cell_type": "markdown",
      "source": "## Result Comparison through Simplex Two Phases (without tableaus)",
      "metadata": {}
    },
    {
      "cell_type": "code",
      "source": "I = [3, 4, 5, 6]\n_, n = A.shape\nX = np.zeros(n)\nz_star, x_star, I_star, A_I_star, A, iterations_count, solution_type, debug_info  = simplex_two_phases(A, B, C, I, debug=True)\nX[I_star] = x_star\n\nresult_md = f'''\nSolution Type: {solution_types[solution_type]}\n\n$ Z^{{*}} = {z_star} $\n\n$ X^{{*}} = \\\\begin{{bmatrix}}\n    { '\\n'.join([f'{x:.2f} \\\\\\\\' for x in X]) }\n\\\\end{{bmatrix}}\n$\n\n$ I^{{*}} = $ {I_star}\n\n'''\ndisplay(\n    Markdown(\n        result_md\n    )\n)",
      "metadata": {
        "trusted": true
      },
      "outputs": [],
      "execution_count": null
    },
    {
      "cell_type": "markdown",
      "source": "# Exercicio 4.5\n\nVerificando se as restrições de não negatividade para $ {A_{I}}^{-1} $ são violadas",
      "metadata": {}
    },
    {
      "cell_type": "code",
      "source": "A = np.array([\n    [3,  4, 1,  0],\n    [1, -1, 0, -1]\n])\n\nB = np.array([\n    12,\n    2\n])\n\nC = np.array([1, 2, 0, 0])\n\nI = list(range(2, 4))\n\nA_I = A[:,I] # definição da matriz básica\nA_I_inv = np.linalg.inv(A_I)\n\nresult = f'Restrições de negatividade{\n    ' não ' if np.all(A_I_inv @ B >= 0) else ' '\n}violadas'\n\ndisplay(\n    Markdown(\n        result\n    )\n)",
      "metadata": {
        "trusted": true
      },
      "outputs": [],
      "execution_count": null
    },
    {
      "cell_type": "markdown",
      "source": "Como as restrições de negatividade foram violadas, devemos criar um problema artificial e resolvê-lo para:\n\n1. Verificar a factibilidade do problema original\n2. Encontrar uma base inicial factível para o problema original que seja capaz de resolvê-lo\n\nO problema artificial é do tipo:\n\n$$\n\\begin{aligned}\n    & \\text{min} \\quad \\phi = & \\textbf{1} \\: x_a \\\\\n    & \\text{s. t.} & A x + x_a &= b \\\\\n    &              &       x   &\\geq 0 \\\\\n    &              &       x_a &\\geq 0 \\\\\n\\end{aligned}\n$$\n\nVamos resolvê-lo abaixo:",
      "metadata": {}
    },
    {
      "cell_type": "code",
      "source": "\nm, n = A.shape\n\n# adicionando variaveis artificiais à matriz de restricoes do problema\n# para substituir variaveis de excesso\n\np = n - m\ncolunas_variaveis_folga_excesso = range(p, n)\nvariaveis_artificiais = []\nfor c in colunas_variaveis_folga_excesso:\n    if np.any(A[:,c] < 0):\n        # estamos diante de uma variavel de excesso que demanda adicao de\n        # variavel artificial\n        variavel_artificial = -1 * np.copy(A[:,c])\n        variaveis_artificiais.append(variavel_artificial)\n\n# montando array de variaveis artificiais para concatenacao em A\nto_stack = np.zeros((m, len(variaveis_artificiais)))\nfor c, variavel_artificial in enumerate(variaveis_artificiais):\n    to_stack[:, c] = np.copy(variavel_artificial)\n# montando matriz de restricoes com variaveis artificiais\nA_artificial = np.hstack((A, to_stack))\n\n# construindo vetor C artificial\nC_artificial = np.zeros(n + len(variaveis_artificiais))\nfor i in range(n, n + len(variaveis_artificiais)):\n    C_artificial[i] = 1\n\nI = [2, 4]\n\n# resolvendo problema artificial com o simplex tableau revisado\nsolution = revised_simplex_tableau(A_artificial, B, C_artificial, I)\nresults_md = markdown_repr_T(solution)\n\ndisplay(\n    Markdown(results_md)\n)",
      "metadata": {
        "trusted": true,
        "scrolled": true
      },
      "outputs": [],
      "execution_count": null
    },
    {
      "cell_type": "markdown",
      "source": "Verificamos que $ \\phi^{*} = 0 $ e $x_4 $ (artificial) $ = 0$, o que caracteriza o problema original como factível.\n\nE na base ótima inexistem variáveis artificiais, portanto $ I = [2, 0] $ é base inicial para o problema original",
      "metadata": {}
    },
    {
      "cell_type": "code",
      "source": "I = [2, 0]\n\n# resolvendo problema original com o simplex tableau revisado\nsolution = revised_simplex_tableau(A, B, C, I)\nresults_md = markdown_repr_T(solution)\n\ndisplay(\n    Markdown(results_md)\n)",
      "metadata": {
        "trusted": true,
        "scrolled": true
      },
      "outputs": [],
      "execution_count": null
    },
    {
      "cell_type": "markdown",
      "source": "## Result Comparison through scipy",
      "metadata": {}
    },
    {
      "cell_type": "code",
      "source": "result = linprog(C, A_eq = A, b_eq = B, method='highs')\nprint('Result comparison, we found the optimal solution through our tableaus')\ndisplay(result)",
      "metadata": {
        "trusted": true
      },
      "outputs": [],
      "execution_count": null
    },
    {
      "cell_type": "markdown",
      "source": "## Result Comparison through Simplex Two Phases (without tableaus)",
      "metadata": {}
    },
    {
      "cell_type": "code",
      "source": "I = [2, 0]\n_, n = A.shape\nX = np.zeros(n)\nz_star, x_star, I_star, A_I_star, A, iterations_count, solution_type, debug_info  = simplex_two_phases(A, B, C, I, debug=True)\nX[I_star] = x_star\n\nresult_md = f'''\nSolution Type: {solution_types[solution_type]}\n\n$ Z^{{*}} = {z_star} $\n\n$ X^{{*}} = \\\\begin{{bmatrix}}\n    { '\\n'.join([f'{x:.2f} \\\\\\\\' for x in X]) }\n\\\\end{{bmatrix}}\n$\n\n$ I^{{*}} = $ {I_star}\n\n'''\ndisplay(\n    Markdown(\n        result_md\n    )\n)",
      "metadata": {
        "trusted": true
      },
      "outputs": [],
      "execution_count": null
    },
    {
      "cell_type": "markdown",
      "source": "# Exercicio 4.6\n\nVerificando se as restrições de não negatividade para $ {A_{I}}^{-1} $ são violadas",
      "metadata": {}
    },
    {
      "cell_type": "code",
      "source": "A = np.array([\n    [2, 4, 1, -1, 1,  0],\n    [2, 2, 3, -3, 0, -1]\n])\n\nB = np.array([\n    6,\n    2\n])\n\nC = np.array([-5, 2, -2, 1, 0, 0])\n\nI = list(range(4, 6))\n\nA_I = A[:,I] # definição da matriz básica\nA_I_inv = np.linalg.inv(A_I)\n\nresult = f'Restrições de negatividade{\n    ' não ' if np.all(A_I_inv @ B >= 0) else ' '\n}violadas'\n\ndisplay(\n    Markdown(\n        result\n    )\n)",
      "metadata": {
        "trusted": true
      },
      "outputs": [],
      "execution_count": null
    },
    {
      "cell_type": "markdown",
      "source": "Como as restrições de negatividade foram violadas, devemos criar um problema artificial e resolvê-lo para:\n\n1. Verificar a factibilidade do problema original\n2. Encontrar uma base inicial factível para o problema original que seja capaz de resolvê-lo\n\nO problema artificial é do tipo:\n\n$$\n\\begin{aligned}\n    & \\text{min} \\quad \\phi = & \\textbf{1} \\: x_a \\\\\n    & \\text{s. t.} & A x + x_a &= b \\\\\n    &              &       x   &\\geq 0 \\\\\n    &              &       x_a &\\geq 0 \\\\\n\\end{aligned}\n$$\n\nVamos resolvê-lo abaixo:",
      "metadata": {}
    },
    {
      "cell_type": "code",
      "source": "m, n = A.shape\n\n# adicionando variaveis artificiais à matriz de restricoes do problema\n# para substituir variaveis de excesso\n\np = n - m\ncolunas_variaveis_folga_excesso = range(p, n)\nvariaveis_artificiais = []\nfor c in colunas_variaveis_folga_excesso:\n    if np.any(A[:,c] < 0):\n        # estamos diante de uma variavel de excesso que demanda adicao de\n        # variavel artificial\n        variavel_artificial = -1 * np.copy(A[:,c])\n        variaveis_artificiais.append(variavel_artificial)\n\n# montando array de variaveis artificiais para concatenacao em A\nto_stack = np.zeros((m, len(variaveis_artificiais)))\nfor c, variavel_artificial in enumerate(variaveis_artificiais):\n    to_stack[:, c] = np.copy(variavel_artificial)\n# montando matriz de restricoes com variaveis artificiais\nA_artificial = np.hstack((A, to_stack))\n\n# construindo vetor C artificial\nC_artificial = np.zeros(n + len(variaveis_artificiais))\nfor i in range(n, n + len(variaveis_artificiais)):\n    C_artificial[i] = 1\n\nI = [4, 6]\n\n# resolvendo problema artificial com o simplex tableau revisado\nsolution = revised_simplex_tableau(A_artificial, B, C_artificial, I)\nresults_md = markdown_repr_T(solution)\n\ndisplay(\n    Markdown(results_md)\n)",
      "metadata": {
        "trusted": true,
        "scrolled": true
      },
      "outputs": [],
      "execution_count": null
    },
    {
      "cell_type": "markdown",
      "source": "Verificamos que $ \\phi^{*} = 0 $ e $x_4 $ (artificial) $ = 0$, o que caracteriza o problema original como factível.\n\nE na base ótima inexistem variáveis artificiais, portanto $ I = [4, 2] $ é base inicial para o problema original",
      "metadata": {}
    },
    {
      "cell_type": "code",
      "source": "I = [4, 2]\n\n# resolvendo problema original com o simplex tableau revisado\nsolution = revised_simplex_tableau(A, B, C, I)\nresults_md = markdown_repr_T(solution)\n\ndisplay(\n    Markdown(results_md)\n)",
      "metadata": {
        "trusted": true,
        "scrolled": true
      },
      "outputs": [],
      "execution_count": null
    },
    {
      "cell_type": "code",
      "source": "solution[2]['y_k']",
      "metadata": {
        "trusted": true
      },
      "outputs": [],
      "execution_count": null
    },
    {
      "cell_type": "markdown",
      "source": "## Result Comparison through scipy",
      "metadata": {}
    },
    {
      "cell_type": "code",
      "source": "result = linprog(C, A_eq = A, b_eq = B, method='highs')\nprint('Result comparison, we found the optimal solution through our tableaus')\ndisplay(result)",
      "metadata": {
        "trusted": true
      },
      "outputs": [],
      "execution_count": null
    },
    {
      "cell_type": "markdown",
      "source": "## Result Comparison through Simplex Two Phases (without tableaus)",
      "metadata": {}
    },
    {
      "cell_type": "code",
      "source": "I = [2, 0]\n_, n = A.shape\nX = np.zeros(n)\nz_star, x_star, I_star, A_I_star, A, iterations_count, solution_type, debug_info  = simplex_two_phases(A, B, C, I, debug=True)\nX[I_star] = x_star\n\nresult_md = f'''\nSolution Type: {solution_types[solution_type]}\n\n$ Z^{{*}} = {z_star} $\n\n$ X^{{*}} = \\\\begin{{bmatrix}}\n    { '\\n'.join([f'{x:.2f} \\\\\\\\' for x in X]) }\n\\\\end{{bmatrix}}\n$\n\n$ I^{{*}} = $ {I_star}\n\n'''\ndisplay(\n    Markdown(\n        result_md\n    )\n)",
      "metadata": {
        "trusted": true
      },
      "outputs": [],
      "execution_count": null
    },
    {
      "cell_type": "markdown",
      "source": "## Final Solution",
      "metadata": {}
    },
    {
      "cell_type": "code",
      "source": "I = [3, 0]\nx_2 = symbols('x_2')\nx_I = np.array([\n    2,\n    4\n]) - x_2 * np.array([\n    -1,\n    0\n])\nx_ = np.zeros(n, dtype=object)\nx_[I] = x_I\nx_[2] = x_2\ndisplay(C @ x_)",
      "metadata": {
        "trusted": true
      },
      "outputs": [],
      "execution_count": null
    },
    {
      "cell_type": "markdown",
      "source": "# Exercício 4.7",
      "metadata": {}
    },
    {
      "cell_type": "code",
      "source": "slack_excess_matrix = np.eye(3)\nexcess_indices = list(range(3))\nfor excess_index in excess_indices:\n    slack_excess_matrix[\n        excess_index, excess_index\n    ] = -1\n\nA = np.array([\n    [1, -2],\n    [1,  3],\n    [2,  1]\n])\n\nA = np.hstack((A, slack_excess_matrix))\n\nB = np.array([\n    2,\n    4,\n    6\n])\nC = np.array([\n    1, 1, 0, 0, 0\n])\nI = list(range(2,5))\n\nI_sanitized, A_I_sanitized, A_sanitized, B_sanitized, feasible, iters_count, debug_info = _simplex_find_feasible_initial_basis(A, B, C, I)\n\nsolution = revised_simplex_tableau(A, B, C, list(I_sanitized))\n\nresults_md = markdown_repr_T(solution)\n\ndisplay(\n    Markdown(results_md)\n)",
      "metadata": {
        "trusted": true
      },
      "outputs": [
        {
          "output_type": "display_data",
          "data": {
            "text/plain": "<IPython.core.display.Markdown object>",
            "text/markdown": "\n\n## Iteration 0\n\nStarting Tableau:\n\n|   |  | \\\\(A_I^{-1}\\\\) |   | RHS |\n|---|---|---|---|---|\n| Z | 0.000 | 0.200 | 0.400 | 3.200 |\n| \\\\(X_{0}\\\\) | 0.000 | -0.200 | 0.600 | 2.800 |\n| \\\\(X_{1}\\\\) | 0.000 | 0.400 | -0.200 | 0.400 |\n| \\\\(X_{2}\\\\) | -1.000 | -1.000 | 1.000 | 0.000 |\n\n\n## Solution for \n\n\\\\[\n    \\begin{aligned}\n    & \\text{Minimize} & C^{T} \\cdot X \\\\\n    & \\text{Subject to} & A \\cdot X & = B \\\\\n    & & X & \\geq 0\n    \\end{aligned}\n    \\\\]\n    where: \n    \\\\[\n    \\begin{aligned}\n    & & A = \\begin{bmatrix}\n1.000 & -2.000 & -1.000 & 0.000 & 0.000 \\\\\n1.000 & 3.000 & 0.000 & -1.000 & 0.000 \\\\\n2.000 & 1.000 & 0.000 & 0.000 & -1.000 \\\\\n\\end{bmatrix} \\\\\n    & & B = \\begin{bmatrix}\n2.000\\\\\n4.000\\\\\n6.000\n\\end{bmatrix} \\\\\n    & & C^{T} = \\begin{bmatrix}\n1.000 & 1.000 & 0.000 & 0.000 & 0.000\n\\end{bmatrix} \\\\\n    & & X = \\begin{bmatrix}\nX_{0}\\\\\nX_{1}\\\\\nX_{2}\\\\\nX_{3}\\\\\nX_{4}\n\\end{bmatrix}\n    \\end{aligned}\n    \\\\]\n\nSolution Type: Optimal unique solution\n\nOptimal Solution: \\\\(X^{*} = ['2.800', '0.400', '0.000', '0.000', '0.000']\\\\)\n\nOptimal Value: \\\\(Z^{*} = 3.200\\\\)\n\nOptimal Basis: \\\\([0, 1, 2]\\\\)\n\nFinal non-basic variables set J: \\\\([3, 4]\\\\)\n\n\\\\(\\hat{C}_{J}\\\\): \\\\([-0.2, -0.4]\\\\)\n\nNumber of Iterations: 1\n\n"
          },
          "metadata": {}
        }
      ],
      "execution_count": 11
    },
    {
      "cell_type": "markdown",
      "source": "## Result Comparison through scipy",
      "metadata": {}
    },
    {
      "cell_type": "code",
      "source": "result = linprog(C, A_eq = A, b_eq = B, method='highs')\nprint('Result comparison, we found the optimal solution through our tableaus')\ndisplay(result)",
      "metadata": {
        "trusted": true
      },
      "outputs": [
        {
          "name": "stdout",
          "text": "Result comparison, we found the optimal solution through our tableaus\n",
          "output_type": "stream"
        },
        {
          "output_type": "display_data",
          "data": {
            "text/plain": "        message: Optimization terminated successfully. (HiGHS Status 7: Optimal)\n        success: True\n         status: 0\n            fun: 3.1999999999999997\n              x: [ 2.800e+00  4.000e-01  0.000e+00  0.000e+00  0.000e+00]\n            nit: 1\n          lower:  residual: [ 2.800e+00  4.000e-01  0.000e+00  0.000e+00\n                              0.000e+00]\n                 marginals: [ 0.000e+00  0.000e+00  4.000e-01  6.000e-01\n                              0.000e+00]\n          upper:  residual: [       inf        inf        inf        inf\n                                    inf]\n                 marginals: [ 0.000e+00  0.000e+00  0.000e+00  0.000e+00\n                              0.000e+00]\n          eqlin:  residual: [ 0.000e+00  0.000e+00  0.000e+00]\n                 marginals: [ 4.000e-01  6.000e-01 -0.000e+00]\n        ineqlin:  residual: []\n                 marginals: []\n mip_node_count: 0\n mip_dual_bound: 0.0\n        mip_gap: 0.0"
          },
          "metadata": {}
        }
      ],
      "execution_count": 4
    },
    {
      "cell_type": "code",
      "source": "A @ solution[0]['X']",
      "metadata": {
        "trusted": true
      },
      "outputs": [
        {
          "execution_count": 10,
          "output_type": "execute_result",
          "data": {
            "text/plain": "array([2., 4., 6.])"
          },
          "metadata": {}
        }
      ],
      "execution_count": 10
    },
    {
      "cell_type": "markdown",
      "source": "# Exercício 4.28",
      "metadata": {}
    },
    {
      "cell_type": "code",
      "source": "slack_excess_matrix = np.eye(6)\nexcess_indices = list(range(3,6))\nfor excess_index in excess_indices:\n    slack_excess_matrix[\n        excess_index, excess_index\n    ] = -1\n\nA = np.array([\n    [0, 1, 2],\n    [1, 1, 1],\n    [2, 1, 1],\n    [1, 0, 0],\n    [0, 1, 0],\n    [0, 0, 1]\n])\n\nA = np.hstack((A, slack_excess_matrix))\n\nB = np.array([\n    240,\n    400,\n    380,\n    100,\n    80,\n    60\n])\n\nC = np.array([2, 3, 4, 0, 0, 0, 0, 0, 0])\n\nI = list(range(3, 9))\n\nA_I = A[:,I] # definição da matriz básica\nA_I_inv = np.linalg.inv(A_I)\n\nresult = f'Restrições de negatividade{\n    ' não ' if np.all(A_I_inv @ B >= 0) else ' '\n}violadas'\n\ndisplay(\n    Markdown(\n        result\n    )\n)",
      "metadata": {
        "trusted": true
      },
      "outputs": [
        {
          "output_type": "display_data",
          "data": {
            "text/plain": "<IPython.core.display.Markdown object>",
            "text/markdown": "Restrições de negatividade violadas"
          },
          "metadata": {}
        }
      ],
      "execution_count": 12
    },
    {
      "cell_type": "markdown",
      "source": "Como as restrições de negatividade foram violadas, devemos criar um problema artificial e resolvê-lo para:\n\n1. Verificar a factibilidade do problema original\n2. Encontrar uma base inicial factível para o problema original que seja capaz de resolvê-lo\n\nO problema artificial é do tipo:\n\n$$\n\\begin{aligned}\n    & \\text{min} \\quad \\phi = & \\textbf{1} \\: x_a \\\\\n    & \\text{s. t.} & A x + x_a &= b \\\\\n    &              &       x   &\\geq 0 \\\\\n    &              &       x_a &\\geq 0 \\\\\n\\end{aligned}\n$$\n\nVamos resolvê-lo abaixo:",
      "metadata": {}
    },
    {
      "cell_type": "code",
      "source": "\nm, n = A.shape\n\n# adicionando variaveis artificiais à matriz de restricoes do problema\n# para substituir variaveis de excesso\n\np = n - m\ncolunas_variaveis_folga_excesso = range(p, n)\nvariaveis_artificiais = []\nfor c in colunas_variaveis_folga_excesso:\n    if np.any(A[:,c] < 0):\n        # estamos diante de uma variavel de excesso que demanda adicao de\n        # variavel artificial\n        variavel_artificial = -1 * np.copy(A[:,c])\n        variaveis_artificiais.append(variavel_artificial)\n\n# montando array de variaveis artificiais para concatenacao em A\nto_stack = np.zeros((m, len(variaveis_artificiais)))\nfor c, variavel_artificial in enumerate(variaveis_artificiais):\n    to_stack[:, c] = np.copy(variavel_artificial)\n# montando matriz de restricoes com variaveis artificiais\nA_artificial = np.hstack((A, to_stack))\n\n# construindo vetor C artificial\nC_artificial = np.zeros(n + len(variaveis_artificiais))\nfor i in range(n, n + len(variaveis_artificiais)):\n    C_artificial[i] = 1\n\nI = [3, 4, 5, 9, 10, 11]\n\n# resolvendo problema artificial com o simplex tableau revisado\nsolution = revised_simplex_tableau(A_artificial, B, C_artificial, I)\nresults_md = markdown_repr_T(solution)\n\ndisplay(\n    Markdown(results_md)\n)",
      "metadata": {
        "trusted": true,
        "scrolled": true
      },
      "outputs": [
        {
          "output_type": "display_data",
          "data": {
            "text/plain": "<IPython.core.display.Markdown object>",
            "text/markdown": "\n\n## Iteration 0\n\nStarting Tableau:\n\n|   |  |   |   | \\\\(A_I^{-1}\\\\) |   |   | RHS |\n|---|---|---|---|---|---|---|---|\n| Z | 0.000 | 0.000 | 0.000 | 1.000 | 1.000 | 1.000 | 240.000 |\n| \\\\(X_{3}\\\\) | 1.000 | 0.000 | 0.000 | 0.000 | 0.000 | 0.000 | 240.000 |\n| \\\\(X_{4}\\\\) | 0.000 | 1.000 | 0.000 | 0.000 | 0.000 | 0.000 | 400.000 |\n| \\\\(X_{5}\\\\) | 0.000 | 0.000 | 1.000 | 0.000 | 0.000 | 0.000 | 380.000 |\n| \\\\(X_{9}\\\\) | 0.000 | 0.000 | 0.000 | 1.000 | 0.000 | 0.000 | 100.000 |\n| \\\\(X_{10}\\\\) | 0.000 | 0.000 | 0.000 | 0.000 | 1.000 | 0.000 | 80.000 |\n| \\\\(X_{11}\\\\) | 0.000 | 0.000 | 0.000 | 0.000 | 0.000 | 1.000 | 60.000 |\n\n\nExtended Tableau\n\n|   |  |   |   | \\\\(A_I^{-1}\\\\) |   |   | RHS | \\\\(X_{0}\\\\)\n|---|---|---|---|---|---|---|---|---|\n| Z | 0.000 | 0.000 | 0.000 | 1.000 | 1.000 | 1.000 | 240.000 | 1.000 |\n| \\\\(X_{3}\\\\) | 1.000 | 0.000 | 0.000 | 0.000 | 0.000 | 0.000 | 240.000 | 0.000 |\n| \\\\(X_{4}\\\\) | 0.000 | 1.000 | 0.000 | 0.000 | 0.000 | 0.000 | 400.000 | 1.000 |\n| \\\\(X_{5}\\\\) | 0.000 | 0.000 | 1.000 | 0.000 | 0.000 | 0.000 | 380.000 | 2.000 |\n| \\\\(X_{9}\\\\) | 0.000 | 0.000 | 0.000 | 1.000 | 0.000 | 0.000 | 100.000 | 1.000 |\n| \\\\(X_{10}\\\\) | 0.000 | 0.000 | 0.000 | 0.000 | 1.000 | 0.000 | 80.000 | 0.000 |\n| \\\\(X_{11}\\\\) | 0.000 | 0.000 | 0.000 | 0.000 | 0.000 | 1.000 | 60.000 | 0.000 |\n\n\n\\\\(Ĉ_J = \\ \\\\)array([ 1.,  1.,  1., -1., -1., -1.])\n\n\n\\\\(J = {[0, 1, 2, 6, 7, 8]}\\\\)\n\n### Pivot Operations\n\nVariable to enter: \\\\(X_{0}\\\\)\nVariable to leave: \\\\(X_{9}\\\\)\n#### Row Operations:\n\n1. \\\\(R_{X_{9}} \\leftarrow \\frac{R_{X_{9}}}{1.000}\\\\)\n1. \\\\(R_{Z} \\leftarrow R_{Z} - 1.000R_{X_{9}}\\\\)\n2. \\\\(R_{X_{3}} \\leftarrow R_{X_{3}} - 0.000R_{X_{9}}\\\\)\n3. \\\\(R_{X_{4}} \\leftarrow R_{X_{4}} - 1.000R_{X_{9}}\\\\)\n4. \\\\(R_{X_{5}} \\leftarrow R_{X_{5}} - 2.000R_{X_{9}}\\\\)\n5. \\\\(R_{X_{10}} \\leftarrow R_{X_{10}} - 0.000R_{X_{9}}\\\\)\n6. \\\\(R_{X_{11}} \\leftarrow R_{X_{11}} - 0.000R_{X_{9}}\\\\)\n\n\nComputed Tableau:\n\n|   |  |   |   | \\\\(A_I^{-1}\\\\) |   |   | RHS |\n|---|---|---|---|---|---|---|---|\n| Z | 0.000 | 0.000 | 0.000 | 0.000 | 1.000 | 1.000 | 140.000 |\n| \\\\(X_{3}\\\\) | 1.000 | 0.000 | 0.000 | 0.000 | 0.000 | 0.000 | 240.000 |\n| \\\\(X_{4}\\\\) | 0.000 | 1.000 | 0.000 | -1.000 | 0.000 | 0.000 | 300.000 |\n| \\\\(X_{5}\\\\) | 0.000 | 0.000 | 1.000 | -2.000 | 0.000 | 0.000 | 180.000 |\n| \\\\(X_{0}\\\\) | 0.000 | 0.000 | 0.000 | 1.000 | 0.000 | 0.000 | 100.000 |\n| \\\\(X_{10}\\\\) | 0.000 | 0.000 | 0.000 | 0.000 | 1.000 | 0.000 | 80.000 |\n| \\\\(X_{11}\\\\) | 0.000 | 0.000 | 0.000 | 0.000 | 0.000 | 1.000 | 60.000 |\n\n\n## Iteration 1\n\nStarting Tableau:\n\n|   |  |   |   | \\\\(A_I^{-1}\\\\) |   |   | RHS |\n|---|---|---|---|---|---|---|---|\n| Z | 0.000 | 0.000 | 0.000 | 0.000 | 1.000 | 1.000 | 140.000 |\n| \\\\(X_{3}\\\\) | 1.000 | 0.000 | 0.000 | 0.000 | 0.000 | 0.000 | 240.000 |\n| \\\\(X_{4}\\\\) | 0.000 | 1.000 | 0.000 | -1.000 | 0.000 | 0.000 | 300.000 |\n| \\\\(X_{5}\\\\) | 0.000 | 0.000 | 1.000 | -2.000 | 0.000 | 0.000 | 180.000 |\n| \\\\(X_{0}\\\\) | 0.000 | 0.000 | 0.000 | 1.000 | 0.000 | 0.000 | 100.000 |\n| \\\\(X_{10}\\\\) | 0.000 | 0.000 | 0.000 | 0.000 | 1.000 | 0.000 | 80.000 |\n| \\\\(X_{11}\\\\) | 0.000 | 0.000 | 0.000 | 0.000 | 0.000 | 1.000 | 60.000 |\n\n\nExtended Tableau\n\n|   |  |   |   | \\\\(A_I^{-1}\\\\) |   |   | RHS | \\\\(X_{1}\\\\)\n|---|---|---|---|---|---|---|---|---|\n| Z | 0.000 | 0.000 | 0.000 | 0.000 | 1.000 | 1.000 | 140.000 | 1.000 |\n| \\\\(X_{3}\\\\) | 1.000 | 0.000 | 0.000 | 0.000 | 0.000 | 0.000 | 240.000 | 1.000 |\n| \\\\(X_{4}\\\\) | 0.000 | 1.000 | 0.000 | -1.000 | 0.000 | 0.000 | 300.000 | 1.000 |\n| \\\\(X_{5}\\\\) | 0.000 | 0.000 | 1.000 | -2.000 | 0.000 | 0.000 | 180.000 | 1.000 |\n| \\\\(X_{0}\\\\) | 0.000 | 0.000 | 0.000 | 1.000 | 0.000 | 0.000 | 100.000 | 0.000 |\n| \\\\(X_{10}\\\\) | 0.000 | 0.000 | 0.000 | 0.000 | 1.000 | 0.000 | 80.000 | 1.000 |\n| \\\\(X_{11}\\\\) | 0.000 | 0.000 | 0.000 | 0.000 | 0.000 | 1.000 | 60.000 | 0.000 |\n\n\n\\\\(Ĉ_J = \\ \\\\)array([-1.,  1.,  1.,  0., -1., -1.])\n\n\n\\\\(J = {[9, 1, 2, 6, 7, 8]}\\\\)\n\n### Pivot Operations\n\nVariable to enter: \\\\(X_{1}\\\\)\nVariable to leave: \\\\(X_{10}\\\\)\n#### Row Operations:\n\n1. \\\\(R_{X_{10}} \\leftarrow \\frac{R_{X_{10}}}{1.000}\\\\)\n1. \\\\(R_{Z} \\leftarrow R_{Z} - 1.000R_{X_{10}}\\\\)\n2. \\\\(R_{X_{3}} \\leftarrow R_{X_{3}} - 1.000R_{X_{10}}\\\\)\n3. \\\\(R_{X_{4}} \\leftarrow R_{X_{4}} - 1.000R_{X_{10}}\\\\)\n4. \\\\(R_{X_{5}} \\leftarrow R_{X_{5}} - 1.000R_{X_{10}}\\\\)\n5. \\\\(R_{X_{0}} \\leftarrow R_{X_{0}} - 0.000R_{X_{10}}\\\\)\n6. \\\\(R_{X_{11}} \\leftarrow R_{X_{11}} - 0.000R_{X_{10}}\\\\)\n\n\nComputed Tableau:\n\n|   |  |   |   | \\\\(A_I^{-1}\\\\) |   |   | RHS |\n|---|---|---|---|---|---|---|---|\n| Z | 0.000 | 0.000 | 0.000 | 0.000 | 0.000 | 1.000 | 60.000 |\n| \\\\(X_{3}\\\\) | 1.000 | 0.000 | 0.000 | 0.000 | -1.000 | 0.000 | 160.000 |\n| \\\\(X_{4}\\\\) | 0.000 | 1.000 | 0.000 | -1.000 | -1.000 | 0.000 | 220.000 |\n| \\\\(X_{5}\\\\) | 0.000 | 0.000 | 1.000 | -2.000 | -1.000 | 0.000 | 100.000 |\n| \\\\(X_{0}\\\\) | 0.000 | 0.000 | 0.000 | 1.000 | 0.000 | 0.000 | 100.000 |\n| \\\\(X_{1}\\\\) | 0.000 | 0.000 | 0.000 | 0.000 | 1.000 | 0.000 | 80.000 |\n| \\\\(X_{11}\\\\) | 0.000 | 0.000 | 0.000 | 0.000 | 0.000 | 1.000 | 60.000 |\n\n\n## Iteration 2\n\nStarting Tableau:\n\n|   |  |   |   | \\\\(A_I^{-1}\\\\) |   |   | RHS |\n|---|---|---|---|---|---|---|---|\n| Z | 0.000 | 0.000 | 0.000 | 0.000 | 0.000 | 1.000 | 60.000 |\n| \\\\(X_{3}\\\\) | 1.000 | 0.000 | 0.000 | 0.000 | -1.000 | 0.000 | 160.000 |\n| \\\\(X_{4}\\\\) | 0.000 | 1.000 | 0.000 | -1.000 | -1.000 | 0.000 | 220.000 |\n| \\\\(X_{5}\\\\) | 0.000 | 0.000 | 1.000 | -2.000 | -1.000 | 0.000 | 100.000 |\n| \\\\(X_{0}\\\\) | 0.000 | 0.000 | 0.000 | 1.000 | 0.000 | 0.000 | 100.000 |\n| \\\\(X_{1}\\\\) | 0.000 | 0.000 | 0.000 | 0.000 | 1.000 | 0.000 | 80.000 |\n| \\\\(X_{11}\\\\) | 0.000 | 0.000 | 0.000 | 0.000 | 0.000 | 1.000 | 60.000 |\n\n\nExtended Tableau\n\n|   |  |   |   | \\\\(A_I^{-1}\\\\) |   |   | RHS | \\\\(X_{2}\\\\)\n|---|---|---|---|---|---|---|---|---|\n| Z | 0.000 | 0.000 | 0.000 | 0.000 | 0.000 | 1.000 | 60.000 | 1.000 |\n| \\\\(X_{3}\\\\) | 1.000 | 0.000 | 0.000 | 0.000 | -1.000 | 0.000 | 160.000 | 2.000 |\n| \\\\(X_{4}\\\\) | 0.000 | 1.000 | 0.000 | -1.000 | -1.000 | 0.000 | 220.000 | 1.000 |\n| \\\\(X_{5}\\\\) | 0.000 | 0.000 | 1.000 | -2.000 | -1.000 | 0.000 | 100.000 | 1.000 |\n| \\\\(X_{0}\\\\) | 0.000 | 0.000 | 0.000 | 1.000 | 0.000 | 0.000 | 100.000 | 0.000 |\n| \\\\(X_{1}\\\\) | 0.000 | 0.000 | 0.000 | 0.000 | 1.000 | 0.000 | 80.000 | 0.000 |\n| \\\\(X_{11}\\\\) | 0.000 | 0.000 | 0.000 | 0.000 | 0.000 | 1.000 | 60.000 | 1.000 |\n\n\n\\\\(Ĉ_J = \\ \\\\)array([-1., -1.,  1.,  0.,  0., -1.])\n\n\n\\\\(J = {[9, 10, 2, 6, 7, 8]}\\\\)\n\n### Pivot Operations\n\nVariable to enter: \\\\(X_{2}\\\\)\nVariable to leave: \\\\(X_{11}\\\\)\n#### Row Operations:\n\n1. \\\\(R_{X_{11}} \\leftarrow \\frac{R_{X_{11}}}{1.000}\\\\)\n1. \\\\(R_{Z} \\leftarrow R_{Z} - 1.000R_{X_{11}}\\\\)\n2. \\\\(R_{X_{3}} \\leftarrow R_{X_{3}} - 2.000R_{X_{11}}\\\\)\n3. \\\\(R_{X_{4}} \\leftarrow R_{X_{4}} - 1.000R_{X_{11}}\\\\)\n4. \\\\(R_{X_{5}} \\leftarrow R_{X_{5}} - 1.000R_{X_{11}}\\\\)\n5. \\\\(R_{X_{0}} \\leftarrow R_{X_{0}} - 0.000R_{X_{11}}\\\\)\n6. \\\\(R_{X_{1}} \\leftarrow R_{X_{1}} - 0.000R_{X_{11}}\\\\)\n\n\nComputed Tableau:\n\n|   |  |   |   | \\\\(A_I^{-1}\\\\) |   |   | RHS |\n|---|---|---|---|---|---|---|---|\n| Z | 0.000 | 0.000 | 0.000 | 0.000 | 0.000 | 0.000 | 0.000 |\n| \\\\(X_{3}\\\\) | 1.000 | 0.000 | 0.000 | 0.000 | -1.000 | -2.000 | 40.000 |\n| \\\\(X_{4}\\\\) | 0.000 | 1.000 | 0.000 | -1.000 | -1.000 | -1.000 | 160.000 |\n| \\\\(X_{5}\\\\) | 0.000 | 0.000 | 1.000 | -2.000 | -1.000 | -1.000 | 40.000 |\n| \\\\(X_{0}\\\\) | 0.000 | 0.000 | 0.000 | 1.000 | 0.000 | 0.000 | 100.000 |\n| \\\\(X_{1}\\\\) | 0.000 | 0.000 | 0.000 | 0.000 | 1.000 | 0.000 | 80.000 |\n| \\\\(X_{2}\\\\) | 0.000 | 0.000 | 0.000 | 0.000 | 0.000 | 1.000 | 60.000 |\n\n\n## Iteration 3\n\nStarting Tableau:\n\n|   |  |   |   | \\\\(A_I^{-1}\\\\) |   |   | RHS |\n|---|---|---|---|---|---|---|---|\n| Z | 0.000 | 0.000 | 0.000 | 0.000 | 0.000 | 0.000 | 0.000 |\n| \\\\(X_{3}\\\\) | 1.000 | 0.000 | 0.000 | 0.000 | -1.000 | -2.000 | 40.000 |\n| \\\\(X_{4}\\\\) | 0.000 | 1.000 | 0.000 | -1.000 | -1.000 | -1.000 | 160.000 |\n| \\\\(X_{5}\\\\) | 0.000 | 0.000 | 1.000 | -2.000 | -1.000 | -1.000 | 40.000 |\n| \\\\(X_{0}\\\\) | 0.000 | 0.000 | 0.000 | 1.000 | 0.000 | 0.000 | 100.000 |\n| \\\\(X_{1}\\\\) | 0.000 | 0.000 | 0.000 | 0.000 | 1.000 | 0.000 | 80.000 |\n| \\\\(X_{2}\\\\) | 0.000 | 0.000 | 0.000 | 0.000 | 0.000 | 1.000 | 60.000 |\n\n\n## Solution for \n\n\\\\[\n    \\begin{aligned}\n    & \\text{Minimize} & C^{T} \\cdot X \\\\\n    & \\text{Subject to} & A \\cdot X & = B \\\\\n    & & X & \\geq 0\n    \\end{aligned}\n    \\\\]\n    where: \n    \\\\[\n    \\begin{aligned}\n    & & A = \\begin{bmatrix}\n0.000 & 1.000 & 2.000 & 1.000 & 0.000 & 0.000 & 0.000 & 0.000 & 0.000 & -0.000 & -0.000 & -0.000 \\\\\n1.000 & 1.000 & 1.000 & 0.000 & 1.000 & 0.000 & 0.000 & 0.000 & 0.000 & -0.000 & -0.000 & -0.000 \\\\\n2.000 & 1.000 & 1.000 & 0.000 & 0.000 & 1.000 & 0.000 & 0.000 & 0.000 & -0.000 & -0.000 & -0.000 \\\\\n1.000 & 0.000 & 0.000 & 0.000 & 0.000 & 0.000 & -1.000 & 0.000 & 0.000 & 1.000 & -0.000 & -0.000 \\\\\n0.000 & 1.000 & 0.000 & 0.000 & 0.000 & 0.000 & 0.000 & -1.000 & 0.000 & -0.000 & 1.000 & -0.000 \\\\\n0.000 & 0.000 & 1.000 & 0.000 & 0.000 & 0.000 & 0.000 & 0.000 & -1.000 & -0.000 & -0.000 & 1.000 \\\\\n\\end{bmatrix} \\\\\n    & & B = \\begin{bmatrix}\n240.000\\\\\n400.000\\\\\n380.000\\\\\n100.000\\\\\n80.000\\\\\n60.000\n\\end{bmatrix} \\\\\n    & & C^{T} = \\begin{bmatrix}\n0.000 & 0.000 & 0.000 & 0.000 & 0.000 & 0.000 & 0.000 & 0.000 & 0.000 & 1.000 & 1.000 & 1.000\n\\end{bmatrix} \\\\\n    & & X = \\begin{bmatrix}\nX_{0}\\\\\nX_{1}\\\\\nX_{2}\\\\\nX_{3}\\\\\nX_{4}\\\\\nX_{5}\\\\\nX_{6}\\\\\nX_{7}\\\\\nX_{8}\\\\\nX_{9}\\\\\nX_{10}\\\\\nX_{11}\n\\end{bmatrix}\n    \\end{aligned}\n    \\\\]\n\nSolution Type: Optimal multiple solutions\n\nOptimal Solution: \\\\(X^{*} = ['100.000', '80.000', '60.000', '40.000', '160.000', '40.000', '0.000', '0.000', '0.000', '0.000', '0.000', '0.000']\\\\)\n\nOptimal Value: \\\\(Z^{*} = 0.000\\\\)\n\nOptimal Basis: \\\\([3, 4, 5, 0, 1, 2]\\\\)\n\nFinal non-basic variables set J: \\\\([9, 10, 11, 6, 7, 8]\\\\)\n\n\\\\(\\hat{C}_{J}\\\\): \\\\([-1.0, -1.0, -1.0, 0.0, 0.0, 0.0]\\\\)\n\nNumber of Iterations: 4\n\n"
          },
          "metadata": {}
        }
      ],
      "execution_count": 13
    },
    {
      "cell_type": "markdown",
      "source": "Verificamos que $ \\phi^{*} = 0 $ e $x_4 $ (artificial) $ = 0$, o que caracteriza o problema original como factível.\n\nE na base ótima inexistem variáveis artificiais, portanto $ I = [2, 0] $ é base inicial para o problema original",
      "metadata": {}
    },
    {
      "cell_type": "code",
      "source": "I = [3, 4, 5, 0, 1, 2]\n\n# resolvendo problema original com o simplex tableau revisado\nsolution = revised_simplex_tableau(A, B, C, I)\nresults_md = markdown_repr_T(solution)\n\ndisplay(\n    Markdown(results_md)\n)",
      "metadata": {
        "trusted": true,
        "scrolled": true
      },
      "outputs": [
        {
          "output_type": "display_data",
          "data": {
            "text/plain": "<IPython.core.display.Markdown object>",
            "text/markdown": "\n\n## Iteration 0\n\nStarting Tableau:\n\n|   |  |   |   | \\\\(A_I^{-1}\\\\) |   |   | RHS |\n|---|---|---|---|---|---|---|---|\n| Z | 0.000 | 0.000 | 0.000 | 2.000 | 3.000 | 4.000 | 680.000 |\n| \\\\(X_{3}\\\\) | 1.000 | 0.000 | 0.000 | 0.000 | -1.000 | -2.000 | 40.000 |\n| \\\\(X_{4}\\\\) | 0.000 | 1.000 | 0.000 | -1.000 | -1.000 | -1.000 | 160.000 |\n| \\\\(X_{5}\\\\) | 0.000 | 0.000 | 1.000 | -2.000 | -1.000 | -1.000 | 40.000 |\n| \\\\(X_{0}\\\\) | 0.000 | 0.000 | 0.000 | 1.000 | 0.000 | 0.000 | 100.000 |\n| \\\\(X_{1}\\\\) | 0.000 | 0.000 | 0.000 | 0.000 | 1.000 | 0.000 | 80.000 |\n| \\\\(X_{2}\\\\) | 0.000 | 0.000 | 0.000 | 0.000 | 0.000 | 1.000 | 60.000 |\n\n\n## Solution for \n\n\\\\[\n    \\begin{aligned}\n    & \\text{Minimize} & C^{T} \\cdot X \\\\\n    & \\text{Subject to} & A \\cdot X & = B \\\\\n    & & X & \\geq 0\n    \\end{aligned}\n    \\\\]\n    where: \n    \\\\[\n    \\begin{aligned}\n    & & A = \\begin{bmatrix}\n0.000 & 1.000 & 2.000 & 1.000 & 0.000 & 0.000 & 0.000 & 0.000 & 0.000 \\\\\n1.000 & 1.000 & 1.000 & 0.000 & 1.000 & 0.000 & 0.000 & 0.000 & 0.000 \\\\\n2.000 & 1.000 & 1.000 & 0.000 & 0.000 & 1.000 & 0.000 & 0.000 & 0.000 \\\\\n1.000 & 0.000 & 0.000 & 0.000 & 0.000 & 0.000 & -1.000 & 0.000 & 0.000 \\\\\n0.000 & 1.000 & 0.000 & 0.000 & 0.000 & 0.000 & 0.000 & -1.000 & 0.000 \\\\\n0.000 & 0.000 & 1.000 & 0.000 & 0.000 & 0.000 & 0.000 & 0.000 & -1.000 \\\\\n\\end{bmatrix} \\\\\n    & & B = \\begin{bmatrix}\n240.000\\\\\n400.000\\\\\n380.000\\\\\n100.000\\\\\n80.000\\\\\n60.000\n\\end{bmatrix} \\\\\n    & & C^{T} = \\begin{bmatrix}\n2.000 & 3.000 & 4.000 & 0.000 & 0.000 & 0.000 & 0.000 & 0.000 & 0.000\n\\end{bmatrix} \\\\\n    & & X = \\begin{bmatrix}\nX_{0}\\\\\nX_{1}\\\\\nX_{2}\\\\\nX_{3}\\\\\nX_{4}\\\\\nX_{5}\\\\\nX_{6}\\\\\nX_{7}\\\\\nX_{8}\n\\end{bmatrix}\n    \\end{aligned}\n    \\\\]\n\nSolution Type: Optimal unique solution\n\nOptimal Solution: \\\\(X^{*} = ['100.000', '80.000', '60.000', '40.000', '160.000', '40.000', '0.000', '0.000', '0.000']\\\\)\n\nOptimal Value: \\\\(Z^{*} = 680.000\\\\)\n\nOptimal Basis: \\\\([3, 4, 5, 0, 1, 2]\\\\)\n\nFinal non-basic variables set J: \\\\([6, 7, 8]\\\\)\n\n\\\\(\\hat{C}_{J}\\\\): \\\\([-2.0, -3.0, -4.0]\\\\)\n\nNumber of Iterations: 1\n\n"
          },
          "metadata": {}
        }
      ],
      "execution_count": 14
    },
    {
      "cell_type": "markdown",
      "source": "## Result Comparison through scipy",
      "metadata": {}
    },
    {
      "cell_type": "code",
      "source": "result = linprog(C, A_eq = A, b_eq = B, method='highs')\nprint('Result comparison, we found the optimal solution through our tableaus')\ndisplay(result)",
      "metadata": {
        "trusted": true
      },
      "outputs": [
        {
          "name": "stdout",
          "text": "Result comparison, we found the optimal solution through our tableaus\n",
          "output_type": "stream"
        },
        {
          "output_type": "display_data",
          "data": {
            "text/plain": "        message: Optimization terminated successfully. (HiGHS Status 7: Optimal)\n        success: True\n         status: 0\n            fun: 680.0\n              x: [ 1.000e+02  8.000e+01  6.000e+01  4.000e+01  1.600e+02\n                   4.000e+01  0.000e+00  0.000e+00  0.000e+00]\n            nit: 0\n          lower:  residual: [ 1.000e+02  8.000e+01  6.000e+01  4.000e+01\n                              1.600e+02  4.000e+01  0.000e+00  0.000e+00\n                              0.000e+00]\n                 marginals: [ 0.000e+00  0.000e+00  0.000e+00  0.000e+00\n                              0.000e+00  0.000e+00  2.000e+00  3.000e+00\n                              4.000e+00]\n          upper:  residual: [       inf        inf        inf        inf\n                                    inf        inf        inf        inf\n                                    inf]\n                 marginals: [ 0.000e+00  0.000e+00  0.000e+00  0.000e+00\n                              0.000e+00  0.000e+00  0.000e+00  0.000e+00\n                              0.000e+00]\n          eqlin:  residual: [ 0.000e+00  0.000e+00  0.000e+00  0.000e+00\n                              0.000e+00  0.000e+00]\n                 marginals: [-0.000e+00 -0.000e+00 -0.000e+00  2.000e+00\n                              3.000e+00  4.000e+00]\n        ineqlin:  residual: []\n                 marginals: []\n mip_node_count: 0\n mip_dual_bound: 0.0\n        mip_gap: 0.0"
          },
          "metadata": {}
        }
      ],
      "execution_count": 15
    },
    {
      "cell_type": "markdown",
      "source": "## Result Comparison through Simplex Two Phases (without tableaus)",
      "metadata": {}
    },
    {
      "cell_type": "code",
      "source": "I = list(range(3,9))\n_, n = A.shape\nX = np.zeros(n)\nz_star, x_star, I_star, A_I_star, A, iterations_count, solution_type, debug_info  = simplex_two_phases(A, B, C, I, debug=True)\nX[I_star] = x_star\n\nresult_md = f'''\nSolution Type: {solution_types[solution_type]}\n\n$ Z^{{*}} = {z_star} $\n\n$ X^{{*}} = \\\\begin{{bmatrix}}\n    { '\\n'.join([f'{x:.2f} \\\\\\\\' for x in X]) }\n\\\\end{{bmatrix}}\n$\n\n$ I^{{*}} = $ {I_star}\n\n'''\ndisplay(\n    Markdown(\n        result_md\n    )\n)",
      "metadata": {
        "trusted": true,
        "scrolled": true
      },
      "outputs": [
        {
          "output_type": "display_data",
          "data": {
            "text/plain": "<IPython.core.display.Markdown object>",
            "text/markdown": "\nSolution Type: Optimal finite solution found\n\n$ Z^{*} = 680.0 $\n\n$ X^{*} = \\begin{bmatrix}\n    100.00 \\\\\n80.00 \\\\\n60.00 \\\\\n40.00 \\\\\n160.00 \\\\\n40.00 \\\\\n0.00 \\\\\n0.00 \\\\\n0.00 \\\\\n\\end{bmatrix}\n$\n\n$ I^{*} = $ [3 4 5 0 1 2]\n\n"
          },
          "metadata": {}
        }
      ],
      "execution_count": 16
    },
    {
      "cell_type": "markdown",
      "source": "# Exercício 4.33",
      "metadata": {}
    },
    {
      "cell_type": "code",
      "source": "slack_excess_matrix = np.eye(10)\nexcess_indices = list(range(6,10))\nfor excess_index in excess_indices:\n    slack_excess_matrix[\n        excess_index, excess_index\n    ] = -1\n\nA = np.array([\n    np.concatenate((np.zeros(0), [1, 1], np.zeros(10))),\n    np.concatenate((np.zeros(2), [1, 1], np.zeros(8))),\n    np.concatenate((np.zeros(4), [1, 1], np.zeros(6))),\n    np.concatenate((np.zeros(6), [1, 1], np.zeros(4))),\n    np.concatenate((np.zeros(8), [1, 1], np.zeros(2))),\n    np.concatenate((np.zeros(10), [1, 1], np.zeros(0))),\n    np.concatenate((np.zeros(0), [1, 0, 1, 0, 1, 0], np.zeros(6))),\n    np.concatenate((np.zeros(0), [0, 1, 0, 1, 0, 1], np.zeros(6))),\n    np.concatenate((np.zeros(6), [1, 0, 1, 0, 1, 0], np.zeros(0))),\n    np.concatenate((np.zeros(6), [0, 1, 0, 1, 0, 1], np.zeros(0))),\n])\n\nA = np.hstack((A, slack_excess_matrix))\n\nB = np.array([\n    60,\n    80,\n    50,\n    80,\n    50,\n    50,\n    100,\n    90,\n    60,\n    120\n])\n\nC = np.array([4, 5, 2, 4, 5, 3, 4, 5, 2, 4, 5, 3, 0, 0, 0, 0, 0, 0, 0, 0, 0, 0])\n\nI = list(range(12,22))\n\nA_I = A[:,I] # definição da matriz básica\nA_I_inv = np.linalg.inv(A_I)\n\nresult = f'Restrições de negatividade{\n    ' não ' if np.all(A_I_inv @ B >= 0) else ' '\n}violadas'\n\ndisplay(\n    Markdown(\n        result\n    )\n)",
      "metadata": {
        "trusted": true,
        "scrolled": true
      },
      "outputs": [
        {
          "output_type": "display_data",
          "data": {
            "text/plain": "<IPython.core.display.Markdown object>",
            "text/markdown": "Restrições de negatividade violadas"
          },
          "metadata": {}
        }
      ],
      "execution_count": 24
    },
    {
      "cell_type": "markdown",
      "source": "## Result Comparison through Simplex Two Phases (without tableaus)",
      "metadata": {}
    },
    {
      "cell_type": "code",
      "source": "I = list(range(12,22))\n_, n = A.shape\nX = np.zeros(n)\nz_star, x_star, I_star, A_I_star, A, iterations_count, solution_type, debug_info  = simplex_two_phases(A, B, C, I, debug=True)\nX[I_star] = x_star\n\nresult_md = f'''\nSolution Type: {solution_types[solution_type]}\n\n$ Z^{{*}} = {z_star} $\n\n$ X^{{*}} = \\\\begin{{bmatrix}}\n    { '\\n'.join([f'{x:.2f} \\\\\\\\' for x in X]) }\n\\\\end{{bmatrix}}\n$\n\n$ I^{{*}} = $ {I_star}\n\n'''\ndisplay(\n    Markdown(\n        result_md\n    )\n)",
      "metadata": {
        "trusted": true
      },
      "outputs": [
        {
          "output_type": "display_data",
          "data": {
            "text/plain": "<IPython.core.display.Markdown object>",
            "text/markdown": "\nSolution Type: Optimal finite solution found\n\n$ Z^{*} = 1230.0 $\n\n$ X^{*} = \\begin{bmatrix}\n    20.00 \\\\\n40.00 \\\\\n80.00 \\\\\n0.00 \\\\\n0.00 \\\\\n50.00 \\\\\n10.00 \\\\\n70.00 \\\\\n50.00 \\\\\n0.00 \\\\\n0.00 \\\\\n50.00 \\\\\n0.00 \\\\\n0.00 \\\\\n0.00 \\\\\n0.00 \\\\\n0.00 \\\\\n0.00 \\\\\n0.00 \\\\\n0.00 \\\\\n0.00 \\\\\n0.00 \\\\\n\\end{bmatrix}\n$\n\n$ I^{*} = $ [0, 1, 5, 7, 8, 11, 2, 12, 6, 15]\n\n"
          },
          "metadata": {}
        }
      ],
      "execution_count": 25
    },
    {
      "cell_type": "markdown",
      "source": "## Result Comparison through scipy",
      "metadata": {}
    },
    {
      "cell_type": "code",
      "source": "result = linprog(C, A_eq = A, b_eq = B, method='highs')\nprint('Result comparison, we found the optimal solution through our tableaus')\ndisplay(result)",
      "metadata": {
        "trusted": true
      },
      "outputs": [
        {
          "name": "stdout",
          "text": "Result comparison, we found the optimal solution through our tableaus\n",
          "output_type": "stream"
        },
        {
          "output_type": "display_data",
          "data": {
            "text/plain": "        message: Optimization terminated successfully. (HiGHS Status 7: Optimal)\n        success: True\n         status: 0\n            fun: 1230.0\n              x: [ 2.000e+01  4.000e+01 ...  0.000e+00  0.000e+00]\n            nit: 12\n          lower:  residual: [ 2.000e+01  4.000e+01 ...  0.000e+00\n                              0.000e+00]\n                 marginals: [ 0.000e+00  0.000e+00 ...  4.000e+00\n                              5.000e+00]\n          upper:  residual: [       inf        inf ...        inf\n                                    inf]\n                 marginals: [ 0.000e+00  0.000e+00 ...  0.000e+00\n                              0.000e+00]\n          eqlin:  residual: [ 0.000e+00  0.000e+00  0.000e+00  0.000e+00\n                              0.000e+00  0.000e+00  0.000e+00  0.000e+00\n                              0.000e+00  0.000e+00]\n                 marginals: [-0.000e+00 -2.000e+00 -2.000e+00 -0.000e+00\n                             -2.000e+00 -2.000e+00  4.000e+00  5.000e+00\n                              4.000e+00  5.000e+00]\n        ineqlin:  residual: []\n                 marginals: []\n mip_node_count: 0\n mip_dual_bound: 0.0\n        mip_gap: 0.0"
          },
          "metadata": {}
        }
      ],
      "execution_count": 26
    },
    {
      "cell_type": "markdown",
      "source": "# Exercício 4.34",
      "metadata": {}
    },
    {
      "cell_type": "code",
      "source": "slack_excess_matrix = np.eye(4)\nexcess_indices = list(range(2,4))\nfor excess_index in excess_indices:\n    slack_excess_matrix[\n        excess_index, excess_index\n    ] = -1\n\nA = np.array([\n    [  1,   1,   1,  1,   1],\n    [120, 150, 100, 80, 120],\n    [ 10,   0,   0,  0,   0],\n    [  0,   4,   0,  0,   0],\n])\n\nA = np.hstack((A, slack_excess_matrix))\n\nB = np.array([\n    200,\n    18000,\n    250,\n    80\n])\n\nC = np.array([-1200, -600, -320, -480, -450, 0, 0, 0, 0])\n\nI = list(range(5, 9))\n\nA_I = A[:,I] # definição da matriz básica\nA_I_inv = np.linalg.inv(A_I)\n\nresult = f'Restrições de negatividade{\n    ' não ' if np.all(A_I_inv @ B >= 0) else ' '\n}violadas'\n\ndisplay(\n    Markdown(\n        result\n    )\n)",
      "metadata": {
        "trusted": true
      },
      "outputs": [
        {
          "output_type": "display_data",
          "data": {
            "text/plain": "<IPython.core.display.Markdown object>",
            "text/markdown": "Restrições de negatividade violadas"
          },
          "metadata": {}
        }
      ],
      "execution_count": 5
    },
    {
      "cell_type": "markdown",
      "source": "## Result Comparison through Simplex Two Phases (without tableaus)",
      "metadata": {}
    },
    {
      "cell_type": "code",
      "source": "_, n = A.shape\nX = np.zeros(n)\nz_star, x_star, I_star, A_I_star, A, iterations_count, solution_type, debug_info  = simplex_two_phases(A, B, C, I, debug=True)\nX[I_star] = x_star\n\nresult_md = f'''\nSolution Type: {solution_types[solution_type]}\n\n$ Z^{{*}} = {z_star} $\n\n$ X^{{*}} = \\\\begin{{bmatrix}}\n    { '\\n'.join([f'{x:.2f} \\\\\\\\' for x in X]) }\n\\\\end{{bmatrix}}\n$\n\n$ I^{{*}} = $ {I_star}\n\n'''\ndisplay(\n    Markdown(\n        result_md\n    )\n)",
      "metadata": {
        "trusted": true
      },
      "outputs": [
        {
          "output_type": "display_data",
          "data": {
            "text/plain": "<IPython.core.display.Markdown object>",
            "text/markdown": "\nSolution Type: Optimal finite solution found\n\n$ Z^{*} = -162000.0 $\n\n$ X^{*} = \\begin{bmatrix}\n    125.00 \\\\\n20.00 \\\\\n0.00 \\\\\n0.00 \\\\\n0.00 \\\\\n55.00 \\\\\n0.00 \\\\\n1000.00 \\\\\n0.00 \\\\\n\\end{bmatrix}\n$\n\n$ I^{*} = $ [5 7 0 1]\n\n"
          },
          "metadata": {}
        }
      ],
      "execution_count": 6
    },
    {
      "cell_type": "markdown",
      "source": "## Result Comparison through scipy",
      "metadata": {}
    },
    {
      "cell_type": "code",
      "source": "result = linprog(C, A_eq = A, b_eq = B, method='highs')\nprint('Result comparison, we found the optimal solution through our tableaus')\ndisplay(result)",
      "metadata": {
        "trusted": true
      },
      "outputs": [
        {
          "name": "stdout",
          "text": "Result comparison, we found the optimal solution through our tableaus\n",
          "output_type": "stream"
        },
        {
          "output_type": "display_data",
          "data": {
            "text/plain": "        message: Optimization terminated successfully. (HiGHS Status 7: Optimal)\n        success: True\n         status: 0\n            fun: -162000.0\n              x: [ 1.250e+02  2.000e+01  0.000e+00  0.000e+00  0.000e+00\n                   5.500e+01  0.000e+00  1.000e+03  0.000e+00]\n            nit: 2\n          lower:  residual: [ 1.250e+02  2.000e+01  0.000e+00  0.000e+00\n                              0.000e+00  5.500e+01  0.000e+00  1.000e+03\n                              0.000e+00]\n                 marginals: [ 0.000e+00  0.000e+00  6.800e+02  3.200e+02\n                              7.500e+02  0.000e+00  1.000e+01  0.000e+00\n                              2.250e+02]\n          upper:  residual: [       inf        inf        inf        inf\n                                    inf        inf        inf        inf\n                                    inf]\n                 marginals: [ 0.000e+00  0.000e+00  0.000e+00  0.000e+00\n                              0.000e+00  0.000e+00  0.000e+00  0.000e+00\n                              0.000e+00]\n          eqlin:  residual: [ 0.000e+00  0.000e+00  0.000e+00  0.000e+00]\n                 marginals: [-0.000e+00 -1.000e+01 -0.000e+00  2.250e+02]\n        ineqlin:  residual: []\n                 marginals: []\n mip_node_count: 0\n mip_dual_bound: 0.0\n        mip_gap: 0.0"
          },
          "metadata": {}
        }
      ],
      "execution_count": 7
    },
    {
      "cell_type": "markdown",
      "source": "# Comparing the simplex2 method as intended by Dr. Sergio Ricardo de Souza",
      "metadata": {}
    },
    {
      "cell_type": "code",
      "source": "from simplex_two_phases import simplex2\n\nz_star, x_star, I_star, A_I_star, A, iterations_count, solution_type, debug_info  = simplex2(A, B, C, debug=True)\n\nX[I_star] = x_star\n\nresult_md = f'''\nSolution Type: {solution_types[solution_type]}\n\n$ Z^{{*}} = {z_star} $\n\n$ X^{{*}} = \\\\begin{{bmatrix}}\n    { '\\n'.join([f'{x:.2f} \\\\\\\\' for x in X]) }\n\\\\end{{bmatrix}}\n$\n\n$ I^{{*}} = $ {I_star}\n\n'''\ndisplay(\n    Markdown(\n        result_md\n    )\n)",
      "metadata": {
        "trusted": true
      },
      "outputs": [
        {
          "output_type": "display_data",
          "data": {
            "text/plain": "<IPython.core.display.Markdown object>",
            "text/markdown": "\nSolution Type: Optimal finite solution found\n\n$ Z^{*} = -162000.0 $\n\n$ X^{*} = \\begin{bmatrix}\n    125.00 \\\\\n20.00 \\\\\n0.00 \\\\\n0.00 \\\\\n0.00 \\\\\n55.00 \\\\\n0.00 \\\\\n1000.00 \\\\\n0.00 \\\\\n\\end{bmatrix}\n$\n\n$ I^{*} = $ [5 7 0 1]\n\n"
          },
          "metadata": {}
        }
      ],
      "execution_count": 8
    },
    {
      "cell_type": "markdown",
      "source": "# Exemplo com restrições redundantes",
      "metadata": {}
    },
    {
      "cell_type": "code",
      "source": "A = np.array([\n    [1,  1, 1, -1,  0,  0, 0],\n    [-1, 1, 2,  0, -1,  0, 0],\n    [ 0, 2, 3,  0,  0, -1, 0],\n    [ 0, 0, 1,  0,  0,  0, 1]\n])\n\nB = np.array([\n    6,\n    4,\n    10,\n    2\n])\n\nC = np.array([\n    -1, 2, -3, 0, 0, 0, 0\n])\n\nI = [3, 4, 5, 6]\n\n_, n = A.shape\nX = np.zeros(n)\nz_star, x_star, I_star, A_I_star, A, iterations_count, solution_type, debug_info  = simplex_two_phases(A, B, C, I, debug=True)\nX[I_star] = x_star\n\nresult_md = f'''\nSolution Type: {solution_types[solution_type]}\n\n$ Z^{{*}} = {z_star} $\n\n$ X^{{*}} = \\\\begin{{bmatrix}}\n    { '\\n'.join([f'{x:.2f} \\\\\\\\' for x in X]) }\n\\\\end{{bmatrix}}\n$\n\n$ I^{{*}} = $ {I_star}\n\n'''\ndisplay(\n    Markdown(\n        result_md\n    )\n)",
      "metadata": {
        "trusted": true
      },
      "outputs": [
        {
          "name": "stdout",
          "text": "[7 8 9 6]\n[0 1 3 6]\n",
          "output_type": "stream"
        },
        {
          "output_type": "display_data",
          "data": {
            "text/plain": "<IPython.core.display.Markdown object>",
            "text/markdown": "\nSolution Type: Optimal finite solution found\n\n$ Z^{*} = -4.0 $\n\n$ X^{*} = \\begin{bmatrix}\n    2.00 \\\\\n2.00 \\\\\n2.00 \\\\\n0.00 \\\\\n0.00 \\\\\n0.00 \\\\\n0.00 \\\\\n\\end{bmatrix}\n$\n\n$ I^{*} = $ [0 1 3 2]\n\n"
          },
          "metadata": {}
        }
      ],
      "execution_count": 8
    },
    {
      "cell_type": "code",
      "source": "result = linprog(C, A_eq = A, b_eq = B, method='highs')\nprint('Result comparison, we found the optimal solution through our tableaus')\ndisplay(result)",
      "metadata": {
        "trusted": true
      },
      "outputs": [
        {
          "name": "stdout",
          "text": "Result comparison, we found the optimal solution through our tableaus\n",
          "output_type": "stream"
        },
        {
          "output_type": "display_data",
          "data": {
            "text/plain": "        message: Optimization terminated successfully. (HiGHS Status 7: Optimal)\n        success: True\n         status: 0\n            fun: -4.0\n              x: [ 2.000e+00  2.000e+00  2.000e+00 -0.000e+00  0.000e+00\n                   0.000e+00  0.000e+00]\n            nit: 2\n          lower:  residual: [ 2.000e+00  2.000e+00  2.000e+00 -0.000e+00\n                              0.000e+00  0.000e+00  0.000e+00]\n                 marginals: [ 0.000e+00  0.000e+00  0.000e+00  0.000e+00\n                              1.000e+00  5.000e-01  6.500e+00]\n          upper:  residual: [       inf        inf        inf        inf\n                                    inf        inf        inf]\n                 marginals: [ 0.000e+00  0.000e+00  0.000e+00  0.000e+00\n                              0.000e+00  0.000e+00  0.000e+00]\n          eqlin:  residual: [ 0.000e+00  0.000e+00  0.000e+00  0.000e+00]\n                 marginals: [-0.000e+00  1.000e+00  5.000e-01 -6.500e+00]\n        ineqlin:  residual: []\n                 marginals: []\n mip_node_count: 0\n mip_dual_bound: 0.0\n        mip_gap: 0.0"
          },
          "metadata": {}
        }
      ],
      "execution_count": 9
    },
    {
      "cell_type": "code",
      "source": "",
      "metadata": {
        "trusted": true
      },
      "outputs": [],
      "execution_count": null
    }
  ]
}