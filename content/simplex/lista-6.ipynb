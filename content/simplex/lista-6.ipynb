{
  "metadata": {
    "kernelspec": {
      "name": "python",
      "display_name": "Python (Pyodide)",
      "language": "python"
    },
    "language_info": {
      "codemirror_mode": {
        "name": "python",
        "version": 3
      },
      "file_extension": ".py",
      "mimetype": "text/x-python",
      "name": "python",
      "nbconvert_exporter": "python",
      "pygments_lexer": "ipython3",
      "version": "3.8"
    }
  },
  "nbformat_minor": 4,
  "nbformat": 4,
  "cells": [
    {
      "cell_type": "code",
      "source": "%pip install numpy\n%pip install sympy\n%pip install scipy\n%load_ext autoreload\n%autoreload 2\nfrom simplex_two_phases import simplex as simplex_two_phases, _simplex_find_feasible_initial_basis\nfrom simplex_tableau import simplex as simplex_tableau\n#from simplex_tableau import markdown_repr_T\nfrom simplex import simplex\nfrom revised_simplex_tableau import revised_simplex_tableau, markdown_repr_T\nfrom utils import array_to_markdown\n\n    \nimport numpy as np\nfrom pprint import pprint\nfrom IPython.display import Markdown, display\nfrom itertools import combinations\nfrom sympy import symbols, Matrix, solve\nfrom scipy.optimize import linprog\n\n\nsolution_types = {\n    -1: 'Unfeasible',\n    1: 'Optimal finite solution found',\n    2: 'Multiple optimal solutions found',\n    3: 'Unbounded'\n}",
      "metadata": {
        "trusted": true
      },
      "outputs": [],
      "execution_count": null
    },
    {
      "cell_type": "markdown",
      "source": "# Exercicio 4.1\n\nVerificando se as restrições de não negatividade para $ {A_{I}}^{-1} $ são violadas",
      "metadata": {}
    },
    {
      "cell_type": "code",
      "source": "A = np.array([\n    [ 1, 1, -1, 0, 0],\n    [-2, 3,  0, 1, 0],\n    [ 0, 1,  0, 0, 1]\n])\n\nB = np.array([\n    1,\n    6,\n    2\n])\n\nC = np.array([1, -3, 0, 0, 0])\n\nI = [2, 3, 4]\n\nA_I = A[:,I] # definição da matriz básica\nA_I_inv = np.linalg.inv(A_I)\n\nresult = f'Restrições de negatividade{\n    ' não ' if np.all(A_I_inv @ B >= 0) else ' '\n}violadas'\n\ndisplay(\n    Markdown(\n        result\n    )\n)",
      "metadata": {
        "trusted": true
      },
      "outputs": [],
      "execution_count": null
    },
    {
      "cell_type": "markdown",
      "source": "Como as restrições de negatividade foram violadas, devemos criar um problema artificial e resolvê-lo para:\n\n1. Verificar a factibilidade do problema original\n2. Encontrar uma base inicial factível para o problema original que seja capaz de resolvê-lo\n\nO problema artificial é do tipo:\n\n$$\n\\begin{aligned}\n    & \\text{min} \\quad \\phi = & \\textbf{1} \\: x_a \\\\\n    & \\text{s. t.} & A x + x_a &= b \\\\\n    &              &       x   &\\geq 0 \\\\\n    &              &       x_a &\\geq 0 \\\\\n\\end{aligned}\n$$\n\nVamos resolvê-lo abaixo:",
      "metadata": {}
    },
    {
      "cell_type": "code",
      "source": "\nm, n = A.shape\n\n# adicionando variaveis artificiais à matriz de restricoes do problema\n# para substituir variaveis de excesso\n\np = n - m\ncolunas_variaveis_folga_excesso = range(p, n)\nvariaveis_artificiais = []\nfor c in colunas_variaveis_folga_excesso:\n    if np.any(A[:,c] < 0):\n        # estamos diante de uma variavel de excesso que demanda adicao de\n        # variavel artificial\n        variavel_artificial = -1 * np.copy(A[:,c])\n        variaveis_artificiais.append(variavel_artificial)\n\n# montando array de variaveis artificiais para concatenacao em A\nto_stack = np.zeros((m, len(variaveis_artificiais)))\nfor c, variavel_artificial in enumerate(variaveis_artificiais):\n    to_stack[:, c] = np.copy(variavel_artificial)\n# montando matriz de restricoes com variaveis artificiais\nA_artificial = np.hstack((A, to_stack))\n\n# construindo vetor C artificial\nC_artificial = np.zeros(n + len(variaveis_artificiais))\nfor i in range(n, n + len(variaveis_artificiais)):\n    C_artificial[i] = 1\n\nI = [5, 3, 4]\n\n# resolvendo problema artificial com o simplex tableau revisado\nsolution = revised_simplex_tableau(A_artificial, B, C_artificial, I)\nresults_md = markdown_repr_T(solution)\n\ndisplay(\n    Markdown(results_md)\n)",
      "metadata": {
        "trusted": true,
        "scrolled": true
      },
      "outputs": [],
      "execution_count": null
    },
    {
      "cell_type": "markdown",
      "source": "Verificamos que $ \\phi^{*} = 0 $, o que caracteriza o problema original como factível.\n\nPortanto, vamos resolvê-lo à partir da base inicial facítvel obtida na resolução do artificial $ I = [0, 3, 4] $",
      "metadata": {}
    },
    {
      "cell_type": "code",
      "source": "I = [0, 3, 4]\n\n# resolvendo problema original com o simplex tableau revisado\nsolution = revised_simplex_tableau(A, B, C, I)\nresults_md = markdown_repr_T(solution)\n\ndisplay(\n    Markdown(results_md)\n)",
      "metadata": {
        "trusted": true
      },
      "outputs": [],
      "execution_count": null
    },
    {
      "cell_type": "markdown",
      "source": "## Result Comparison through scipy",
      "metadata": {}
    },
    {
      "cell_type": "code",
      "source": "result = linprog(C, A_eq = A, b_eq = B, method='highs')\nprint('Result comparison, we found the optimal solution through our tableaus')\ndisplay(result)",
      "metadata": {
        "trusted": true
      },
      "outputs": [],
      "execution_count": null
    },
    {
      "cell_type": "markdown",
      "source": "## Result Comparison through Simplex Two Phases (without tableaus)",
      "metadata": {}
    },
    {
      "cell_type": "code",
      "source": "I = [2, 3, 4]\n_, n = A.shape\nX = np.zeros(n)\nz_star, x_star, I_star, A_I_star, A, iterations_count, solution_type, debug_info  = simplex_two_phases(A, B, C, I, debug=True)\nX[I_star] = x_star\n\nresult_md = f'''\nSolution Type: {solution_types[solution_type]}\n\n$ Z^{{*}} = {z_star} $\n\n$ X^{{*}} = \\\\begin{{bmatrix}}\n    { '\\n'.join([f'{x:.2f} \\\\\\\\' for x in X]) }\n\\\\end{{bmatrix}}\n$\n\n$ I^{{*}} = $ {I_star.tolist()}\n\n'''\ndisplay(\n    Markdown(\n        result_md\n    )\n)",
      "metadata": {
        "trusted": true
      },
      "outputs": [],
      "execution_count": null
    },
    {
      "cell_type": "markdown",
      "source": "# Exercicio 4.2\n\nVerificando se as restrições de não negatividade para $ {A_{I}}^{-1} $ são violadas",
      "metadata": {}
    },
    {
      "cell_type": "code",
      "source": "A = np.array([\n    [ 2,  1, 3, -1,  0, 0],\n    [-1,  1, 0,  0, -1, 0],\n    [-1, -5, 1,  0,  0, 1]\n])\n\nB = np.array([\n    3,\n    1,\n    4\n])\n\nC = np.array([1, 3, -1, 0, 0, 0])\n\nI = [3, 4, 5]\n\nA_I = A[:,I] # definição da matriz básica\nA_I_inv = np.linalg.inv(A_I)\n\nresult = f'Restrições de negatividade{\n    ' não ' if np.all(A_I_inv @ B >= 0) else ' '\n}violadas'\n\ndisplay(\n    Markdown(\n        result\n    )\n)",
      "metadata": {
        "trusted": true
      },
      "outputs": [],
      "execution_count": null
    },
    {
      "cell_type": "markdown",
      "source": "Como as restrições de negatividade foram violadas, devemos criar um problema artificial e resolvê-lo para:\n\n1. Verificar a factibilidade do problema original\n2. Encontrar uma base inicial factível para o problema original que seja capaz de resolvê-lo\n\nO problema artificial é do tipo:\n\n$$\n\\begin{aligned}\n    & \\text{min} \\quad \\phi = & \\textbf{1} \\: x_a \\\\\n    & \\text{s. t.} & A x + x_a &= b \\\\\n    &              &       x   &\\geq 0 \\\\\n    &              &       x_a &\\geq 0 \\\\\n\\end{aligned}\n$$\n\nVamos resolvê-lo abaixo:",
      "metadata": {}
    },
    {
      "cell_type": "code",
      "source": "\nm, n = A.shape\n\n# adicionando variaveis artificiais à matriz de restricoes do problema\n# para substituir variaveis de excesso\n\np = n - m\ncolunas_variaveis_folga_excesso = range(p, n)\nvariaveis_artificiais = []\nfor c in colunas_variaveis_folga_excesso:\n    if np.any(A[:,c] < 0):\n        # estamos diante de uma variavel de excesso que demanda adicao de\n        # variavel artificial\n        variavel_artificial = -1 * np.copy(A[:,c])\n        variaveis_artificiais.append(variavel_artificial)\n\n# montando array de variaveis artificiais para concatenacao em A\nto_stack = np.zeros((m, len(variaveis_artificiais)))\nfor c, variavel_artificial in enumerate(variaveis_artificiais):\n    to_stack[:, c] = np.copy(variavel_artificial)\n# montando matriz de restricoes com variaveis artificiais\nA_artificial = np.hstack((A, to_stack))\n\n# construindo vetor C artificial\nC_artificial = np.zeros(n + len(variaveis_artificiais))\nfor i in range(n, n + len(variaveis_artificiais)):\n    C_artificial[i] = 1\n\nI = [6, 7, 5]\n\n# resolvendo problema artificial com o simplex tableau revisado\nsolution = revised_simplex_tableau(A_artificial, B, C_artificial, I)\nresults_md = markdown_repr_T(solution)\n\ndisplay(\n    Markdown(results_md)\n)",
      "metadata": {
        "trusted": true,
        "scrolled": true
      },
      "outputs": [],
      "execution_count": null
    },
    {
      "cell_type": "markdown",
      "source": "Verificamos que $ \\phi^{*} = 0 $, o que caracteriza o problema original como factível.\n\nPortanto, vamos resolvê-lo à partir da base inicial facítvel obtida na resolução do artificial $ I = [2, 1, 5] $ já que nessa base não existem variáveis artificiais",
      "metadata": {}
    },
    {
      "cell_type": "code",
      "source": "I = [2, 1, 5]\n\n# resolvendo problema original com o simplex tableau revisado\nsolution = revised_simplex_tableau(A, B, C, I)\nresults_md = markdown_repr_T(solution)\n\ndisplay(\n    Markdown(results_md)\n)",
      "metadata": {
        "trusted": true
      },
      "outputs": [],
      "execution_count": null
    },
    {
      "cell_type": "markdown",
      "source": "## Result Comparison through scipy",
      "metadata": {}
    },
    {
      "cell_type": "code",
      "source": "result = linprog(C, A_eq = A, b_eq = B, method='highs')\nprint('Result comparison, we found the optimal solution through our tableaus')\ndisplay(result)",
      "metadata": {
        "trusted": true
      },
      "outputs": [],
      "execution_count": null
    },
    {
      "cell_type": "markdown",
      "source": "## Result Comparison through Simplex Two Phases (without tableaus)",
      "metadata": {}
    },
    {
      "cell_type": "code",
      "source": "# I = [3, 4, 5]\n_, n = A.shape\nX = np.zeros(n)\nz_star, x_star, I_star, A_I_star, A, iterations_count, solution_type, debug_info  = simplex_two_phases(A, B, C, I, debug=True)\nX[I_star] = x_star\n\nresult_md = f'''\nSolution Type: {solution_types[solution_type]}\n\n$ Z^{{*}} = {z_star} $\n\n$ X^{{*}} = \\\\begin{{bmatrix}}\n    { '\\n'.join([f'{x:.2f} \\\\\\\\' for x in X]) }\n\\\\end{{bmatrix}}\n$\n\n$ I^{{*}} = $ {I_star.tolist()}\n\n'''\ndisplay(\n    Markdown(\n        result_md\n    )\n)",
      "metadata": {
        "trusted": true
      },
      "outputs": [],
      "execution_count": null
    },
    {
      "cell_type": "markdown",
      "source": "# Exercicio 4.3\n\nVerificando se as restrições de não negatividade para $ {A_{I}}^{-1} $ são violadas",
      "metadata": {}
    },
    {
      "cell_type": "code",
      "source": "A = np.array([\n    [3,  1, -1, 1,  0,  0],\n    [4, -1,  2, 0, -1,  0],\n    [2,  3, -2, 0,  0, -1]\n])\n\nB = np.array([\n    8,\n    2,\n    4\n])\n\nC = np.array([-2, 1, -1, 0, 0, 0])\n\nI = [3, 4, 5]\n\nA_I = A[:,I] # definição da matriz básica\nA_I_inv = np.linalg.inv(A_I)\n\nresult = f'Restrições de negatividade{\n    ' não ' if np.all(A_I_inv @ B >= 0) else ' '\n}violadas'\n\ndisplay(\n    Markdown(\n        result\n    )\n)",
      "metadata": {
        "trusted": true
      },
      "outputs": [],
      "execution_count": null
    },
    {
      "cell_type": "markdown",
      "source": "Como as restrições de negatividade foram violadas, devemos criar um problema artificial e resolvê-lo para:\n\n1. Verificar a factibilidade do problema original\n2. Encontrar uma base inicial factível para o problema original que seja capaz de resolvê-lo\n\nO problema artificial é do tipo:\n\n$$\n\\begin{aligned}\n    & \\text{min} \\quad \\phi = & \\textbf{1} \\: x_a \\\\\n    & \\text{s. t.} & A x + x_a &= b \\\\\n    &              &       x   &\\geq 0 \\\\\n    &              &       x_a &\\geq 0 \\\\\n\\end{aligned}\n$$\n\nVamos resolvê-lo abaixo:",
      "metadata": {}
    },
    {
      "cell_type": "code",
      "source": "\nm, n = A.shape\n\n# adicionando variaveis artificiais à matriz de restricoes do problema\n# para substituir variaveis de excesso\n\np = n - m\ncolunas_variaveis_folga_excesso = range(p, n)\nvariaveis_artificiais = []\nfor c in colunas_variaveis_folga_excesso:\n    if np.any(A[:,c] < 0):\n        # estamos diante de uma variavel de excesso que demanda adicao de\n        # variavel artificial\n        variavel_artificial = -1 * np.copy(A[:,c])\n        variaveis_artificiais.append(variavel_artificial)\n\n# montando array de variaveis artificiais para concatenacao em A\nto_stack = np.zeros((m, len(variaveis_artificiais)))\nfor c, variavel_artificial in enumerate(variaveis_artificiais):\n    to_stack[:, c] = np.copy(variavel_artificial)\n# montando matriz de restricoes com variaveis artificiais\nA_artificial = np.hstack((A, to_stack))\n\n# construindo vetor C artificial\nC_artificial = np.zeros(n + len(variaveis_artificiais))\nfor i in range(n, n + len(variaveis_artificiais)):\n    C_artificial[i] = 1\n\nI = [3, 6, 7]\n\n# resolvendo problema artificial com o simplex tableau revisado\nsolution = revised_simplex_tableau(A_artificial, B, C_artificial, I)\nresults_md = markdown_repr_T(solution)\n\ndisplay(\n    Markdown(results_md)\n)",
      "metadata": {
        "trusted": true,
        "scrolled": true
      },
      "outputs": [],
      "execution_count": null
    },
    {
      "cell_type": "markdown",
      "source": "Verificamos que $ \\phi^{*} = 0 $, o que caracteriza o problema original como factível.\n\nPortanto, vamos resolvê-lo à partir da base inicial facítvel obtida na resolução do artificial $ I = [3, 0, 1] $ já que nessa base não existem variáveis artificiais",
      "metadata": {}
    },
    {
      "cell_type": "code",
      "source": "I = [3, 0, 1]\n\n# resolvendo problema original com o simplex tableau revisado\nsolution = revised_simplex_tableau(A, B, C, I)\nresults_md = markdown_repr_T(solution)\n\ndisplay(\n    Markdown(results_md)\n)",
      "metadata": {
        "trusted": true
      },
      "outputs": [],
      "execution_count": null
    },
    {
      "cell_type": "markdown",
      "source": "## Result Comparison through scipy",
      "metadata": {}
    },
    {
      "cell_type": "code",
      "source": "result = linprog(C, A_eq = A, b_eq = B, method='highs')\nprint('Result comparison, we found the optimal solution through our tableaus')\ndisplay(result)",
      "metadata": {
        "trusted": true
      },
      "outputs": [],
      "execution_count": null
    },
    {
      "cell_type": "markdown",
      "source": "## Result Comparison through Simplex Two Phases (without tableaus)",
      "metadata": {}
    },
    {
      "cell_type": "code",
      "source": "I = [3, 4, 5]\n_, n = A.shape\nX = np.zeros(n)\nz_star, x_star, I_star, A_I_star, A, iterations_count, solution_type, debug_info  = simplex_two_phases(A, B, C, I, debug=True)\nX[I_star] = x_star\n\nresult_md = f'''\nSolution Type: {solution_types[solution_type]}\n\n$ Z^{{*}} = {z_star} $\n\n$ X^{{*}} = \\\\begin{{bmatrix}}\n    { '\\n'.join([f'{x:.2f} \\\\\\\\' for x in X]) }\n\\\\end{{bmatrix}}\n$\n\n$ I^{{*}} = $ {I_star.tolist()}\n\n'''\ndisplay(\n    Markdown(\n        result_md\n    )\n)",
      "metadata": {
        "trusted": true,
        "scrolled": true
      },
      "outputs": [],
      "execution_count": null
    },
    {
      "cell_type": "markdown",
      "source": "# Exercicio 4.4\n\nVerificando se as restrições de não negatividade para $ {A_{I}}^{-1} $ são violadas",
      "metadata": {}
    },
    {
      "cell_type": "code",
      "source": "A = np.array([\n    [1,  2, 1, 1,  0,  0, 0],\n    [1, -1, 0, 0, -1,  0, 0],\n    [1, -1, 0, 0,  0, -1, 0],\n    [1,  3, 1, 0,  0,  0, 1]\n])\n\nB = np.array([\n    10,\n    10,\n    6,\n    14\n])\n\nC = np.array([-4, -5, 3, 0, 0, 0, 0])\n\nI = list(range(3,7))\n\nA_I = A[:,I] # definição da matriz básica\nA_I_inv = np.linalg.inv(A_I)\n\nresult = f'Restrições de negatividade{\n    ' não ' if np.all(A_I_inv @ B >= 0) else ' '\n}violadas'\n\ndisplay(\n    Markdown(\n        result\n    )\n)",
      "metadata": {
        "trusted": true
      },
      "outputs": [],
      "execution_count": null
    },
    {
      "cell_type": "markdown",
      "source": "Como as restrições de negatividade foram violadas, devemos criar um problema artificial e resolvê-lo para:\n\n1. Verificar a factibilidade do problema original\n2. Encontrar uma base inicial factível para o problema original que seja capaz de resolvê-lo\n\nO problema artificial é do tipo:\n\n$$\n\\begin{aligned}\n    & \\text{min} \\quad \\phi = & \\textbf{1} \\: x_a \\\\\n    & \\text{s. t.} & A x + x_a &= b \\\\\n    &              &       x   &\\geq 0 \\\\\n    &              &       x_a &\\geq 0 \\\\\n\\end{aligned}\n$$\n\nVamos resolvê-lo abaixo:",
      "metadata": {}
    },
    {
      "cell_type": "code",
      "source": "\nm, n = A.shape\n\n# adicionando variaveis artificiais à matriz de restricoes do problema\n# para substituir variaveis de excesso\n\np = n - m\ncolunas_variaveis_folga_excesso = range(p, n)\nvariaveis_artificiais = []\nfor c in colunas_variaveis_folga_excesso:\n    if np.any(A[:,c] < 0):\n        # estamos diante de uma variavel de excesso que demanda adicao de\n        # variavel artificial\n        variavel_artificial = -1 * np.copy(A[:,c])\n        variaveis_artificiais.append(variavel_artificial)\n\n# montando array de variaveis artificiais para concatenacao em A\nto_stack = np.zeros((m, len(variaveis_artificiais)))\nfor c, variavel_artificial in enumerate(variaveis_artificiais):\n    to_stack[:, c] = np.copy(variavel_artificial)\n# montando matriz de restricoes com variaveis artificiais\nA_artificial = np.hstack((A, to_stack))\n\n# construindo vetor C artificial\nC_artificial = np.zeros(n + len(variaveis_artificiais))\nfor i in range(n, n + len(variaveis_artificiais)):\n    C_artificial[i] = 1\n\nI = [3, 7, 8, 6]\n\n# resolvendo problema artificial com o simplex tableau revisado\nsolution = revised_simplex_tableau(A_artificial, B, C_artificial, I)\nresults_md = markdown_repr_T(solution)\n\ndisplay(\n    Markdown(results_md)\n)",
      "metadata": {
        "trusted": true,
        "scrolled": true
      },
      "outputs": [],
      "execution_count": null
    },
    {
      "cell_type": "markdown",
      "source": "Verificamos que $ \\phi^{*} = 0 $, o que caracteriza o problema original como factível.\n\nVemos ainda que uma variável artificial está na base — $ x_7 $ — o que implica a necessidade de sua troca (ou remoção, se impossível, a partir da retirada de sua restrição equivalente) para resolver o problema original.\n\nVamos avaliar o conjunto $J$ das variáveis não básicas originais onde $ J = [1, 2, 3, 4] $ e seu respectivo $ \\hat{C_{J}} = [-3, -1, -1, -1] $\n\nApesar de todo $\\hat{C_{J}}$ ser negativo, podemos inserir uma variável não básica original que piore a solução do problema desde que o conjunto base $I$ resultante mantenha as restrições de factibilidade adequadas.\n\nPelo critério de entrada, do indice mais à esquerda (critério de bland) do maior valor de $\\hat{C_{J}}$, $k = 2$\n\nLogo, vamos tentar substituir $x_7$ artificial por $x_2$ não básica original.\n\nCritérios:\n\n1. $ {A_{\\text{artificial}}}_{[7,k]} \\neq 0 $\n\nLembrando que a linha da matriz de restrições correspondente à variável básica $x_7$ neste momento é a linha 2",
      "metadata": {}
    },
    {
      "cell_type": "code",
      "source": "md = f'''\n$x_2$ { 'pode' if A_artificial[1,2] else 'não pode '} entrar na base.\n\n$ {{A_{{\\\\text{{artificial}}}}}}_{{[7,2]}} = {A_artificial[1,2]}\n$ '''\ndisplay(Markdown(md))",
      "metadata": {
        "trusted": true
      },
      "outputs": [],
      "execution_count": null
    },
    {
      "cell_type": "markdown",
      "source": "Vamos testar agora com o próximo valor de $\\hat{C_J}$ que corresponde ao 3º índice, $k = 3$",
      "metadata": {}
    },
    {
      "cell_type": "code",
      "source": "md = f'''\n$x_3$ { 'pode' if A_artificial[1,3] else 'não pode '} entrar na base.\n\n$ {{A_{{\\\\text{{artificial}}}}}}_{{[7,3]}} = {A_artificial[1,3]}\n$ '''\ndisplay(Markdown(md))",
      "metadata": {
        "trusted": true,
        "scrolled": true
      },
      "outputs": [],
      "execution_count": null
    },
    {
      "cell_type": "markdown",
      "source": "Vamos testar agora com o último valor possível de $\\hat{C_J}$ que corresponde ao 4º índice, $k = 4$",
      "metadata": {}
    },
    {
      "cell_type": "code",
      "source": "md = f'''\n$x_4$ { 'pode' if A_artificial[1,4] else 'não pode '} entrar na base.\n\n$ {{A_{{\\\\text{{artificial}}}}}}_{{[7,4]}} = {A_artificial[1,4]}\n$ '''\ndisplay(Markdown(md))",
      "metadata": {
        "trusted": true,
        "scrolled": true
      },
      "outputs": [],
      "execution_count": null
    },
    {
      "cell_type": "markdown",
      "source": "Ainda existem mais critérios que devem ser levados em consideração:\n\n2. Se a matriz $A_I$ resultante é não-singular (invertível)",
      "metadata": {}
    },
    {
      "cell_type": "code",
      "source": "I = [5, 4, 0, 6]\nA_I = A_artificial[:,I]\n\nmd = f'''\n$A_I$ resultante é {\n    'singular.' if np.linalg.det(A_I) == 0 else 'não singular.'\n}\n'''\ndisplay(Markdown(md))",
      "metadata": {
        "trusted": true
      },
      "outputs": [],
      "execution_count": null
    },
    {
      "cell_type": "markdown",
      "source": "3. Por fim, se os critérios de não negatividade — $ X_I \\geq 0 $ — são respeitados, onde:\n\n$$\n    X_I = {A_I}^{-1} B\n$$",
      "metadata": {}
    },
    {
      "cell_type": "code",
      "source": "md = f'''\nOs critérios de negatividade{\n    ' não ' if np.any(np.linalg.inv(A_I).dot(B) < 0) else ' '\n}foram respeitados\n'''\ndisplay(Markdown(md))",
      "metadata": {
        "trusted": true
      },
      "outputs": [],
      "execution_count": null
    },
    {
      "cell_type": "markdown",
      "source": "Então, a substituição é de $x_7$ por $x_4$ é válida e vamos utilizar $ I = [5, 4, 0, 6] $ como base inicial factível para o simplex tableau revisto de forma a solucionar o problema original:",
      "metadata": {}
    },
    {
      "cell_type": "code",
      "source": "I = [5, 4, 0, 6]\n\n# resolvendo problema original com o simplex tableau revisado\nsolution = revised_simplex_tableau(A, B, C, I)\nresults_md = markdown_repr_T(solution)\n\ndisplay(\n    Markdown(results_md)\n)",
      "metadata": {
        "trusted": true
      },
      "outputs": [],
      "execution_count": null
    },
    {
      "cell_type": "markdown",
      "source": "## Result Comparison through scipy",
      "metadata": {}
    },
    {
      "cell_type": "code",
      "source": "result = linprog(C, A_eq = A, b_eq = B, method='highs')\nprint('Result comparison, we found the optimal solution through our tableaus')\ndisplay(result)",
      "metadata": {
        "trusted": true,
        "scrolled": true
      },
      "outputs": [],
      "execution_count": null
    },
    {
      "cell_type": "markdown",
      "source": "## Result Comparison through Simplex Two Phases (without tableaus)",
      "metadata": {}
    },
    {
      "cell_type": "code",
      "source": "I = [3, 4, 5, 6]\n_, n = A.shape\nX = np.zeros(n)\nz_star, x_star, I_star, A_I_star, A, iterations_count, solution_type, debug_info  = simplex_two_phases(A, B, C, I, debug=True)\nX[I_star] = x_star\n\nresult_md = f'''\nSolution Type: {solution_types[solution_type]}\n\n$ Z^{{*}} = {z_star} $\n\n$ X^{{*}} = \\\\begin{{bmatrix}}\n    { '\\n'.join([f'{x:.2f} \\\\\\\\' for x in X]) }\n\\\\end{{bmatrix}}\n$\n\n$ I^{{*}} = $ {I_star}\n\n'''\ndisplay(\n    Markdown(\n        result_md\n    )\n)",
      "metadata": {
        "trusted": true
      },
      "outputs": [],
      "execution_count": null
    }
  ]
}