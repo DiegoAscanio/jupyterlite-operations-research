{
  "metadata": {
    "kernelspec": {
      "name": "python",
      "display_name": "Python (Pyodide)",
      "language": "python"
    },
    "language_info": {
      "codemirror_mode": {
        "name": "python",
        "version": 3
      },
      "file_extension": ".py",
      "mimetype": "text/x-python",
      "name": "python",
      "nbconvert_exporter": "python",
      "pygments_lexer": "ipython3",
      "version": "3.8"
    }
  },
  "nbformat_minor": 4,
  "nbformat": 4,
  "cells": [
    {
      "cell_type": "code",
      "source": "%pip install numpy scipy\nfrom IPython.display import Markdown\nfrom scipy.optimize import linprog\nfrom simplex_bounded_variables import *\n%load_ext autoreload\n%autoreload 2\n\n# definindo A, B, c, I, J_1, J_2, lower e upper_bounds para cada\n# problema da lista\n\nproblems = {\n    '5.12': {\n        'A': np.array([\n            [ 2, -1,  1, -2, 1, 0,  0],\n            [-1,  2, -1,  1, 0, 1,  0],\n            [ 2,  1, -1,  0, 0, 0, -1]\n        ]),\n        'b': np.array([\n            6,\n            8,\n            2\n        ]),\n        'c': np.array([\n            1, 2, 3, -1, 0, 0, 0\n        ]),\n        'lower_bounds': np.array([0, 1, 0, 2, 0, 0, 0]),\n        'upper_bounds': np.array([3, 4, 8, 5, np.inf, np.inf, np.inf]),\n        'I': [4, 5, 1],\n        'J_1': [0, 6, 2, 3],\n        'J_2': []\n    },\n    '5.13': {\n        'A': np.array([\n            [ 3, 1, 1, 1, 0, 0],\n            [-1, 1, 0, 0, 1, 0],\n            [ 0, 1, 2, 0, 0, 1]\n        ]),\n        'b': np.array([\n            12,\n            4,\n            8\n        ]),\n        'c': np.array([\n            -2, -1, -3, 0, 0, 0\n        ]),\n        'lower_bounds': np.array([0, 0, 0, 0, 0, 0]),\n        'upper_bounds': np.array([3, 5, 4, np.inf, np.inf, np.inf]),\n        'I': [3, 4, 5],\n        'J_1': [0, 1, 2],\n        'J_2': []\n    },\n    '5.14': {\n        'A': np.array([\n            [1, 3,  1, 1,  0],\n            [2, 1, -1, 0, -1]\n        ]),\n        'b': np.array([\n            8,\n            3\n        ]),\n        'c': np.array([\n            -2, -3, 2, 0, 0\n        ]),\n        'lower_bounds': np.array([-np.inf, -2, 2, 0, 0]),\n        'upper_bounds': np.array([4, 3, np.inf, np.inf, np.inf]),\n        'I': [3, 0],\n        'J_1': [1, 2, 4],\n        'J_2': []\n    },\n    '5.24': {\n        'A': np.array([\n            [4, -3, 1, 1, 0],\n            [3, -2, 4, 0, 1]\n        ]),\n        'b': np.array([\n            6,\n            8\n        ]),\n        'c': np.array([\n            -6, -4, -2, 0, 0\n        ]),\n        'lower_bounds': np.array([0] * 5),\n        'upper_bounds': np.array([3, 2, np.inf, np.inf, np.inf]),\n        'I': [3, 4],\n        'J_1': [0, 1, 2],\n        'J_2': []\n    },\n}",
      "metadata": {
        "trusted": true
      },
      "outputs": [
        {
          "name": "stdout",
          "text": "The autoreload extension is already loaded. To reload it, use:\n  %reload_ext autoreload\n",
          "output_type": "stream"
        }
      ],
      "execution_count": 23
    },
    {
      "cell_type": "markdown",
      "source": "# Exercício 5.12",
      "metadata": {}
    },
    {
      "cell_type": "code",
      "source": "# definindo A, B, c, I, J_1, J_2, lower_bounds, upper_bounds para o prooblema\n# 5.12\nindex = '5.12'\nfor key in problems[index].keys():\n    locals()[key] = problems[index][key]\n# resolvendo o problema\nz_star, x_star, I_star, solution_type, iterations, tableau_steps = simplex(A, b, c, I, J_1, J_2, lower_bounds, upper_bounds)\nresult_md = markdown_repr_T(tableau_steps)\ndisplay(\n    Markdown(\n        result_md\n    )\n)",
      "metadata": {
        "trusted": true
      },
      "outputs": [],
      "execution_count": null
    },
    {
      "cell_type": "markdown",
      "source": "## Comparison with scipy",
      "metadata": {}
    },
    {
      "cell_type": "code",
      "source": "scipy_bounds = [\n    (lb, ub) for lb, ub in zip(lower_bounds, upper_bounds)\n]\nlinprog(c, A_eq=A, b_eq=b, bounds=scipy_bounds, method='highs')",
      "metadata": {
        "trusted": true,
        "scrolled": true
      },
      "outputs": [],
      "execution_count": null
    },
    {
      "cell_type": "markdown",
      "source": "# Exercício 5.13",
      "metadata": {}
    },
    {
      "cell_type": "code",
      "source": "# definindo A, B, c, I, J_1, J_2, lower_bounds, upper_bounds para o prooblema\n# 5.13\nindex = '5.13'\nfor key in problems[index].keys():\n    locals()[key] = problems[index][key]\n# resolvendo o problema\nz_star, x_star, I_star, solution_type, iterations, tableau_steps = simplex(A, b, c, I, J_1, J_2, lower_bounds, upper_bounds)\nresult_md = markdown_repr_T(tableau_steps)\ndisplay(\n    Markdown(\n        result_md\n    )\n)",
      "metadata": {
        "trusted": true
      },
      "outputs": [],
      "execution_count": null
    },
    {
      "cell_type": "markdown",
      "source": "## Comparison with scipy",
      "metadata": {}
    },
    {
      "cell_type": "code",
      "source": "scipy_bounds = [\n    (lb, ub) for lb, ub in zip(lower_bounds, upper_bounds)\n]\nlinprog(c, A_eq=A, b_eq=b, bounds=scipy_bounds, method='highs')",
      "metadata": {
        "trusted": true
      },
      "outputs": [],
      "execution_count": null
    },
    {
      "cell_type": "markdown",
      "source": "# Exercício 5.14",
      "metadata": {}
    },
    {
      "cell_type": "code",
      "source": "# definindo A, B, c, I, J_1, J_2, lower_bounds, upper_bounds para o prooblema\n# 5.14\nindex = '5.14'\nfor key in problems[index].keys():\n    locals()[key] = problems[index][key]\n# resolvendo o problema\nz_star, x_star, I_star, solution_type, iterations, tableau_steps = simplex(A, b, c, I, J_1, J_2, lower_bounds, upper_bounds)\nresult_md = markdown_repr_T(tableau_steps)\ndisplay(\n    Markdown(\n        result_md\n    )\n)",
      "metadata": {
        "trusted": true
      },
      "outputs": [],
      "execution_count": null
    },
    {
      "cell_type": "markdown",
      "source": "## Comparison with scipy",
      "metadata": {}
    },
    {
      "cell_type": "code",
      "source": "scipy_bounds = [\n    (lb, ub) for lb, ub in zip(lower_bounds, upper_bounds)\n]\nlinprog(c, A_eq=A, b_eq=b, bounds=scipy_bounds, method='highs')",
      "metadata": {
        "trusted": true
      },
      "outputs": [],
      "execution_count": null
    },
    {
      "cell_type": "markdown",
      "source": "# Exercício 5.15 - Construção do Problema com Problema Artificial\n\n## Problema Artificial",
      "metadata": {}
    },
    {
      "cell_type": "code",
      "source": "A_artificial = np.array([\n    [1, 0, 0, 0, 0, -1,  0,  0,  0, 0],\n    [0, 1, 0, 0, 0,  1, -1,  0,  0, 0],\n    [0, 0, 1, 0, 0,  0,  1, -1,  0, 1],\n    [0, 0, 0, 1, 1,  0,  0,  1, -1, 0]\n])\nA = A_artificial[:, :-1]\nc = np.array([\n    30, 30, 30, 30, 35, 5, 5, 5, 5\n])\nc_artificial = np.array(\n    [0] * 9 + [1]\n)\n# Termos independentes B\nb = np.array([\n    250,\n    600,\n    800,\n    1200\n])\n# limites inferiores\nlower_bounds = np.array([0, 0, 0, 0, 0, 0, 0, 0, 100, 0])\n# limites superiores\nupper_bounds = np.array([600] * 4 + [1200] + [400] * 4 + [np.inf])\n\nI_artificial = [0, 1, 9, 3]\nJ_1_artificial = [2, 5, 6, 7, 8]\nJ_1 = J_1_artificial.copy()[:-1]\nJ_2 = [4]\nJ_2_artificial = J_2.copy()\n\nz_star, x_star, I_star, solution_type, iterations, tableau_steps = simplex(\n    A_artificial,\n    b,\n    c_artificial,\n    I_artificial,\n    J_1_artificial,\n    J_2_artificial,\n    lower_bounds,\n    upper_bounds\n)\nresult_md = markdown_repr_T(tableau_steps)\ndisplay(\n    Markdown(\n        result_md\n    )\n)",
      "metadata": {
        "trusted": true
      },
      "outputs": [
        {
          "output_type": "display_data",
          "data": {
            "text/plain": "<IPython.core.display.Markdown object>",
            "text/markdown": "\n\n## Iteration 1\n\nPrevious Tableau:\n\n|   |\\\\(X_{0}\\\\) | \\\\(X_{1}\\\\) | \\\\(X_{2}\\\\) | \\\\(X_{3}\\\\) | \\\\(X_{4}\\\\) | \\\\(X_{5}\\\\) | \\\\(X_{6}\\\\) | \\\\(X_{7}\\\\) | \\\\(X_{8}\\\\) | \\\\(X_{9}\\\\) | RHS |\n|---|---|---|---|---|---|---|---|---|---|---|---|\n| Cost | 0.000 | 0.000 | 1.000 | 0.000 | 0.000 | 0.000 | 1.000 | -1.000 | 0.000 | 0.000 | 800.000 |\n| \\\\(X_{0}\\\\) | 1.000 | 0.000 | 0.000 | 0.000 | 0.000 | -1.000 | 0.000 | 0.000 | 0.000 | 0.000 | 250.000 |\n| \\\\(X_{1}\\\\) | 0.000 | 1.000 | 0.000 | 0.000 | 0.000 | 1.000 | -1.000 | 0.000 | 0.000 | 0.000 | 600.000 |\n| \\\\(X_{9}\\\\) | 0.000 | 0.000 | 1.000 | 0.000 | 0.000 | 0.000 | 1.000 | -1.000 | 0.000 | 1.000 | 800.000 |\n| \\\\(X_{3}\\\\) | 0.000 | 0.000 | 0.000 | 1.000 | 1.000 | 0.000 | 0.000 | 1.000 | -1.000 | 0.000 | 100.000 |\n### Pivot Operations\n\nVariable to enter: \\\\(2\\\\)\nVariable to leave: \\\\(None\\\\)\n#### Row Operations:\n\n1. \n\n\nComputed Tableau:\n\n|   |\\\\(X_{0}\\\\) | \\\\(X_{1}\\\\) | \\\\(X_{2}\\\\) | \\\\(X_{3}\\\\) | \\\\(X_{4}\\\\) | \\\\(X_{5}\\\\) | \\\\(X_{6}\\\\) | \\\\(X_{7}\\\\) | \\\\(X_{8}\\\\) | \\\\(X_{9}\\\\) | RHS |\n|---|---|---|---|---|---|---|---|---|---|---|---|\n| Cost | 0.000 | 0.000 | 1.000 | 0.000 | 0.000 | 0.000 | 1.000 | -1.000 | 0.000 | 0.000 | 200.000 |\n| \\\\(X_{0}\\\\) | 1.000 | 0.000 | 0.000 | 0.000 | 0.000 | -1.000 | 0.000 | 0.000 | 0.000 | 0.000 | 250.000 |\n| \\\\(X_{1}\\\\) | 0.000 | 1.000 | 0.000 | 0.000 | 0.000 | 1.000 | -1.000 | 0.000 | 0.000 | 0.000 | 600.000 |\n| \\\\(X_{9}\\\\) | 0.000 | 0.000 | 1.000 | 0.000 | 0.000 | 0.000 | 1.000 | -1.000 | 0.000 | 1.000 | 200.000 |\n| \\\\(X_{3}\\\\) | 0.000 | 0.000 | 0.000 | 1.000 | 1.000 | 0.000 | 0.000 | 1.000 | -1.000 | 0.000 | 100.000 |\n\n\n\\\\(J_1\\\\) (lower bounds variables): [8, 5, 6, 7]\n\n\n\\\\(J_2\\\\) (upper bounds variables): [2, 4]\n\n\n\n## Iteration 2\n\nPrevious Tableau:\n\n|   |\\\\(X_{0}\\\\) | \\\\(X_{1}\\\\) | \\\\(X_{2}\\\\) | \\\\(X_{3}\\\\) | \\\\(X_{4}\\\\) | \\\\(X_{5}\\\\) | \\\\(X_{6}\\\\) | \\\\(X_{7}\\\\) | \\\\(X_{8}\\\\) | \\\\(X_{9}\\\\) | RHS |\n|---|---|---|---|---|---|---|---|---|---|---|---|\n| Cost | 0.000 | 0.000 | 1.000 | 0.000 | 0.000 | 0.000 | 1.000 | -1.000 | 0.000 | 0.000 | 200.000 |\n| \\\\(X_{0}\\\\) | 1.000 | 0.000 | 0.000 | 0.000 | 0.000 | -1.000 | 0.000 | 0.000 | 0.000 | 0.000 | 250.000 |\n| \\\\(X_{1}\\\\) | 0.000 | 1.000 | 0.000 | 0.000 | 0.000 | 1.000 | -1.000 | 0.000 | 0.000 | 0.000 | 600.000 |\n| \\\\(X_{9}\\\\) | 0.000 | 0.000 | 1.000 | 0.000 | 0.000 | 0.000 | 1.000 | -1.000 | 0.000 | 1.000 | 200.000 |\n| \\\\(X_{3}\\\\) | 0.000 | 0.000 | 0.000 | 1.000 | 1.000 | 0.000 | 0.000 | 1.000 | -1.000 | 0.000 | 100.000 |\n### Pivot Operations\n\nVariable to enter: \\\\(6\\\\)\nVariable to leave: \\\\(1\\\\)\n#### Row Operations:\n\n1. \\\\(R_{X_{1}} \\leftarrow \\frac{R_{X_{1}}}{-1.000}\\\\)\n1. \\\\(R_{\\text{{Cost}}} \\leftarrow R_{\\text{{Cost}}} - 1.000R_{1}\\\\)\n2. \\\\(R_{X_{0}} \\leftarrow R_{X_{0}} - 0.000R_{1}\\\\)\n3. \\\\(R_{X_{9}} \\leftarrow R_{X_{9}} - 1.000R_{1}\\\\)\n4. \\\\(R_{X_{3}} \\leftarrow R_{X_{3}} - 0.000R_{1}\\\\)\n\n\nComputed Tableau:\n\n|   |\\\\(X_{0}\\\\) | \\\\(X_{1}\\\\) | \\\\(X_{2}\\\\) | \\\\(X_{3}\\\\) | \\\\(X_{4}\\\\) | \\\\(X_{5}\\\\) | \\\\(X_{6}\\\\) | \\\\(X_{7}\\\\) | \\\\(X_{8}\\\\) | \\\\(X_{9}\\\\) | RHS |\n|---|---|---|---|---|---|---|---|---|---|---|---|\n| Cost | 0.000 | 1.000 | 1.000 | 0.000 | 0.000 | 1.000 | 0.000 | -1.000 | 0.000 | 0.000 | 200.000 |\n| \\\\(X_{0}\\\\) | 1.000 | 0.000 | 0.000 | 0.000 | 0.000 | -1.000 | 0.000 | 0.000 | 0.000 | 0.000 | 250.000 |\n| \\\\(X_{6}\\\\) | -0.000 | -1.000 | -0.000 | -0.000 | -0.000 | -1.000 | 1.000 | -0.000 | -0.000 | -0.000 | 0.000 |\n| \\\\(X_{9}\\\\) | 0.000 | 1.000 | 1.000 | 0.000 | 0.000 | 1.000 | 0.000 | -1.000 | 0.000 | 1.000 | 200.000 |\n| \\\\(X_{3}\\\\) | 0.000 | 0.000 | 0.000 | 1.000 | 1.000 | 0.000 | 0.000 | 1.000 | -1.000 | 0.000 | 100.000 |\n\n\n\\\\(J_1\\\\) (lower bounds variables): [8, 5, 7]\n\n\n\\\\(J_2\\\\) (upper bounds variables): [1, 2, 4]\n\n\n\n## Iteration 3\n\nPrevious Tableau:\n\n|   |\\\\(X_{0}\\\\) | \\\\(X_{1}\\\\) | \\\\(X_{2}\\\\) | \\\\(X_{3}\\\\) | \\\\(X_{4}\\\\) | \\\\(X_{5}\\\\) | \\\\(X_{6}\\\\) | \\\\(X_{7}\\\\) | \\\\(X_{8}\\\\) | \\\\(X_{9}\\\\) | RHS |\n|---|---|---|---|---|---|---|---|---|---|---|---|\n| Cost | 0.000 | 1.000 | 1.000 | 0.000 | 0.000 | 1.000 | 0.000 | -1.000 | 0.000 | 0.000 | 200.000 |\n| \\\\(X_{0}\\\\) | 1.000 | 0.000 | 0.000 | 0.000 | 0.000 | -1.000 | 0.000 | 0.000 | 0.000 | 0.000 | 250.000 |\n| \\\\(X_{6}\\\\) | -0.000 | -1.000 | -0.000 | -0.000 | -0.000 | -1.000 | 1.000 | -0.000 | -0.000 | -0.000 | 0.000 |\n| \\\\(X_{9}\\\\) | 0.000 | 1.000 | 1.000 | 0.000 | 0.000 | 1.000 | 0.000 | -1.000 | 0.000 | 1.000 | 200.000 |\n| \\\\(X_{3}\\\\) | 0.000 | 0.000 | 0.000 | 1.000 | 1.000 | 0.000 | 0.000 | 1.000 | -1.000 | 0.000 | 100.000 |\n### Pivot Operations\n\nVariable to enter: \\\\(5\\\\)\nVariable to leave: \\\\(9\\\\)\n#### Row Operations:\n\n1. \\\\(R_{X_{9}} \\leftarrow \\frac{R_{X_{9}}}{1.000}\\\\)\n1. \\\\(R_{\\text{{Cost}}} \\leftarrow R_{\\text{{Cost}}} - 1.000R_{9}\\\\)\n2. \\\\(R_{X_{0}} \\leftarrow R_{X_{0}} + 1.000R_{9}\\\\)\n3. \\\\(R_{X_{6}} \\leftarrow R_{X_{6}} + 1.000R_{9}\\\\)\n4. \\\\(R_{X_{3}} \\leftarrow R_{X_{3}} - 0.000R_{9}\\\\)\n\n\nComputed Tableau:\n\n|   |\\\\(X_{0}\\\\) | \\\\(X_{1}\\\\) | \\\\(X_{2}\\\\) | \\\\(X_{3}\\\\) | \\\\(X_{4}\\\\) | \\\\(X_{5}\\\\) | \\\\(X_{6}\\\\) | \\\\(X_{7}\\\\) | \\\\(X_{8}\\\\) | \\\\(X_{9}\\\\) | RHS |\n|---|---|---|---|---|---|---|---|---|---|---|---|\n| Cost | 0.000 | 0.000 | 0.000 | 0.000 | 0.000 | 0.000 | 0.000 | 0.000 | 0.000 | -1.000 | 0.000 |\n| \\\\(X_{0}\\\\) | 1.000 | 1.000 | 1.000 | 0.000 | 0.000 | 0.000 | 0.000 | -1.000 | 0.000 | 1.000 | 450.000 |\n| \\\\(X_{6}\\\\) | 0.000 | 0.000 | 1.000 | 0.000 | 0.000 | 0.000 | 1.000 | -1.000 | 0.000 | 1.000 | 200.000 |\n| \\\\(X_{5}\\\\) | 0.000 | 1.000 | 1.000 | 0.000 | 0.000 | 1.000 | 0.000 | -1.000 | 0.000 | 1.000 | 200.000 |\n| \\\\(X_{3}\\\\) | 0.000 | 0.000 | 0.000 | 1.000 | 1.000 | 0.000 | 0.000 | 1.000 | -1.000 | 0.000 | 100.000 |\n\n\n\\\\(J_1\\\\) (lower bounds variables): [8, 9, 7]\n\n\n\\\\(J_2\\\\) (upper bounds variables): [1, 2, 4]\n\n\n\n## Iteration 4\n\nPrevious Tableau:\n\n|   |\\\\(X_{0}\\\\) | \\\\(X_{1}\\\\) | \\\\(X_{2}\\\\) | \\\\(X_{3}\\\\) | \\\\(X_{4}\\\\) | \\\\(X_{5}\\\\) | \\\\(X_{6}\\\\) | \\\\(X_{7}\\\\) | \\\\(X_{8}\\\\) | \\\\(X_{9}\\\\) | RHS |\n|---|---|---|---|---|---|---|---|---|---|---|---|\n| Cost | 0.000 | 0.000 | 0.000 | 0.000 | 0.000 | 0.000 | 0.000 | 0.000 | 0.000 | -1.000 | 0.000 |\n| \\\\(X_{0}\\\\) | 1.000 | 1.000 | 1.000 | 0.000 | 0.000 | 0.000 | 0.000 | -1.000 | 0.000 | 1.000 | 450.000 |\n| \\\\(X_{6}\\\\) | 0.000 | 0.000 | 1.000 | 0.000 | 0.000 | 0.000 | 1.000 | -1.000 | 0.000 | 1.000 | 200.000 |\n| \\\\(X_{5}\\\\) | 0.000 | 1.000 | 1.000 | 0.000 | 0.000 | 1.000 | 0.000 | -1.000 | 0.000 | 1.000 | 200.000 |\n| \\\\(X_{3}\\\\) | 0.000 | 0.000 | 0.000 | 1.000 | 1.000 | 0.000 | 0.000 | 1.000 | -1.000 | 0.000 | 100.000 |\n### Pivot Operations\n\nVariable to enter: \\\\(None\\\\)\nVariable to leave: \\\\(None\\\\)\n#### Row Operations:\n\n1. \n\n\nComputed Tableau:\n\n|   |\\\\(X_{0}\\\\) | \\\\(X_{1}\\\\) | \\\\(X_{2}\\\\) | \\\\(X_{3}\\\\) | \\\\(X_{4}\\\\) | \\\\(X_{5}\\\\) | \\\\(X_{6}\\\\) | \\\\(X_{7}\\\\) | \\\\(X_{8}\\\\) | \\\\(X_{9}\\\\) | RHS |\n|---|---|---|---|---|---|---|---|---|---|---|---|\n| Cost | 0.000 | 0.000 | 0.000 | 0.000 | 0.000 | 0.000 | 0.000 | 0.000 | 0.000 | -1.000 | 0.000 |\n| \\\\(X_{0}\\\\) | 1.000 | 1.000 | 1.000 | 0.000 | 0.000 | 0.000 | 0.000 | -1.000 | 0.000 | 1.000 | 450.000 |\n| \\\\(X_{6}\\\\) | 0.000 | 0.000 | 1.000 | 0.000 | 0.000 | 0.000 | 1.000 | -1.000 | 0.000 | 1.000 | 200.000 |\n| \\\\(X_{5}\\\\) | 0.000 | 1.000 | 1.000 | 0.000 | 0.000 | 1.000 | 0.000 | -1.000 | 0.000 | 1.000 | 200.000 |\n| \\\\(X_{3}\\\\) | 0.000 | 0.000 | 0.000 | 1.000 | 1.000 | 0.000 | 0.000 | 1.000 | -1.000 | 0.000 | 100.000 |\n\n\n\\\\(J_1\\\\) (lower bounds variables): [8, 9, 7]\n\n\n\\\\(J_2\\\\) (upper bounds variables): [1, 2, 4]\n\n\n\n## Solution for \n\n\\\\[\n    \\begin{aligned}\n    & \\text{Minimize} & C^{T} \\cdot X \\\\\n    & \\text{Subject to} & A \\cdot X & = B \\\\\n    & & L \\leq  X  \\leq U &\n    \\end{aligned}\n    \\\\]\n    where: \n    \\\\[\n    \\begin{aligned}\n    & & A = \\begin{bmatrix}\n1.000 & 0.000 & 0.000 & 0.000 & 0.000 & -1.000 & 0.000 & 0.000 & 0.000 & 0.000 \\\\\n0.000 & 1.000 & 0.000 & 0.000 & 0.000 & 1.000 & -1.000 & 0.000 & 0.000 & 0.000 \\\\\n0.000 & 0.000 & 1.000 & 0.000 & 0.000 & 0.000 & 1.000 & -1.000 & 0.000 & 1.000 \\\\\n0.000 & 0.000 & 0.000 & 1.000 & 1.000 & 0.000 & 0.000 & 1.000 & -1.000 & 0.000 \\\\\n\\end{bmatrix} \\\\\n    & & B = \\begin{bmatrix}\n250.000\\\\\n600.000\\\\\n800.000\\\\\n1200.000\n\\end{bmatrix} \\\\\n    & & C^{T} = \\begin{bmatrix}\n0.000 & 0.000 & 0.000 & 0.000 & 0.000 & 0.000 & 0.000 & 0.000 & 0.000 & 1.000\n\\end{bmatrix} \\\\\n    & & X = \\begin{bmatrix}\nX_{0}\\\\\nX_{1}\\\\\nX_{2}\\\\\nX_{3}\\\\\nX_{4}\\\\\nX_{5}\\\\\nX_{6}\\\\\nX_{7}\\\\\nX_{8}\\\\\nX_{9}\n\\end{bmatrix} \\\\\n    & & L = [ 0.00,\\ 0.00,\\ 0.00,\\ 0.00,\\ 0.00,\\ 0.00,\\ 0.00,\\ 0.00,\\ 100.00,\\ 0.00 ] \\\\\n    & & U = [ 600.00,\\ 600.00,\\ 600.00,\\ 600.00,\\ 1200.00,\\ 400.00,\\ 400.00,\\ 400.00,\\ 400.00,\\ ∞ ]\n    \\end{aligned}\n    \\\\]\n\nSolution Type: Optimal multiple solutions\n\nOptimal Solution: \\\\(X^{*} = [ 450.00,\\ 600.00,\\ 600.00,\\ 100.00,\\ 1200.00,\\ 200.00,\\ 200.00,\\ 0.00,\\ 100.00,\\ 0.00 ]\\\\)\n\nOptimal Value: \\\\(Z^{*} = 0.00\\\\)\n\nOptimal Basis: \\\\([0, 6, 5, 3]\\\\)\n\nFinal non-basic variables set at lower bounds \\\\(J_1\\\\): \\\\([8, 9, 7]\\\\)\n\nFinal non-basic variables set at upper bounds \\\\(J_2\\\\): \\\\([1, 2, 4]\\\\)\n\n\\\\(\\hat{C}_{J_1}\\\\): \\\\([0.0, -1.0, 0.0]\\\\)\n\n\\\\(\\hat{C}_{J_2}\\\\): \\\\([0.0, 0.0, 0.0]\\\\)\n\nNumber of Iterations: 5\n\n"
          },
          "metadata": {}
        }
      ],
      "execution_count": 19
    },
    {
      "cell_type": "markdown",
      "source": "## Problema Original",
      "metadata": {}
    },
    {
      "cell_type": "code",
      "source": "z_star, x_star, I_star, solution_type, iterations, tableau_steps = simplex(\n    A,\n    b,\n    c,\n    [0, 6, 5, 3],\n    [8, 7],\n    [1, 2, 4],\n    lower_bounds,\n    upper_bounds\n)\nresult_md = markdown_repr_T(tableau_steps)\ndisplay(\n    Markdown(\n        result_md\n    )\n)",
      "metadata": {
        "trusted": true
      },
      "outputs": [
        {
          "output_type": "display_data",
          "data": {
            "text/plain": "<IPython.core.display.Markdown object>",
            "text/markdown": "\n\n## Iteration 1\n\nPrevious Tableau:\n\n|   |\\\\(X_{0}\\\\) | \\\\(X_{1}\\\\) | \\\\(X_{2}\\\\) | \\\\(X_{3}\\\\) | \\\\(X_{4}\\\\) | \\\\(X_{5}\\\\) | \\\\(X_{6}\\\\) | \\\\(X_{7}\\\\) | \\\\(X_{8}\\\\) | RHS |\n|---|---|---|---|---|---|---|---|---|---|---|\n| Cost | 0.000 | 5.000 | 10.000 | 0.000 | -5.000 | 0.000 | 0.000 | -15.000 | -35.000 | 97000.000 |\n| \\\\(X_{0}\\\\) | 1.000 | 1.000 | 1.000 | 0.000 | 0.000 | 0.000 | 0.000 | -1.000 | 0.000 | 450.000 |\n| \\\\(X_{6}\\\\) | 0.000 | 0.000 | 1.000 | 0.000 | 0.000 | 0.000 | 1.000 | -1.000 | 0.000 | 200.000 |\n| \\\\(X_{5}\\\\) | 0.000 | 1.000 | 1.000 | 0.000 | 0.000 | 1.000 | 0.000 | -1.000 | 0.000 | 200.000 |\n| \\\\(X_{3}\\\\) | 0.000 | 0.000 | 0.000 | 1.000 | 1.000 | 0.000 | 0.000 | 1.000 | -1.000 | 100.000 |\n### Pivot Operations\n\nVariable to enter: \\\\(4\\\\)\nVariable to leave: \\\\(3\\\\)\n#### Row Operations:\n\n1. \\\\(R_{X_{3}} \\leftarrow \\frac{R_{X_{3}}}{1.000}\\\\)\n1. \\\\(R_{\\text{{Cost}}} \\leftarrow R_{\\text{{Cost}}} + 5.000R_{3}\\\\)\n2. \\\\(R_{X_{0}} \\leftarrow R_{X_{0}} - 0.000R_{3}\\\\)\n3. \\\\(R_{X_{6}} \\leftarrow R_{X_{6}} - 0.000R_{3}\\\\)\n4. \\\\(R_{X_{5}} \\leftarrow R_{X_{5}} - 0.000R_{3}\\\\)\n\n\nComputed Tableau:\n\n|   |\\\\(X_{0}\\\\) | \\\\(X_{1}\\\\) | \\\\(X_{2}\\\\) | \\\\(X_{3}\\\\) | \\\\(X_{4}\\\\) | \\\\(X_{5}\\\\) | \\\\(X_{6}\\\\) | \\\\(X_{7}\\\\) | \\\\(X_{8}\\\\) | RHS |\n|---|---|---|---|---|---|---|---|---|---|---|\n| Cost | 0.000 | 5.000 | 10.000 | 5.000 | 0.000 | 0.000 | 0.000 | -10.000 | -40.000 | 94500.000 |\n| \\\\(X_{0}\\\\) | 1.000 | 1.000 | 1.000 | 0.000 | 0.000 | 0.000 | 0.000 | -1.000 | 0.000 | 450.000 |\n| \\\\(X_{6}\\\\) | 0.000 | 0.000 | 1.000 | 0.000 | 0.000 | 0.000 | 1.000 | -1.000 | 0.000 | 200.000 |\n| \\\\(X_{5}\\\\) | 0.000 | 1.000 | 1.000 | 0.000 | 0.000 | 1.000 | 0.000 | -1.000 | 0.000 | 200.000 |\n| \\\\(X_{4}\\\\) | 0.000 | 0.000 | 0.000 | 1.000 | 1.000 | 0.000 | 0.000 | 1.000 | -1.000 | 700.000 |\n\n\n\\\\(J_1\\\\) (lower bounds variables): [8, 7]\n\n\n\\\\(J_2\\\\) (upper bounds variables): [1, 2, 3]\n\n\n\n## Iteration 2\n\nPrevious Tableau:\n\n|   |\\\\(X_{0}\\\\) | \\\\(X_{1}\\\\) | \\\\(X_{2}\\\\) | \\\\(X_{3}\\\\) | \\\\(X_{4}\\\\) | \\\\(X_{5}\\\\) | \\\\(X_{6}\\\\) | \\\\(X_{7}\\\\) | \\\\(X_{8}\\\\) | RHS |\n|---|---|---|---|---|---|---|---|---|---|---|\n| Cost | 0.000 | 5.000 | 10.000 | 5.000 | 0.000 | 0.000 | 0.000 | -10.000 | -40.000 | 94500.000 |\n| \\\\(X_{0}\\\\) | 1.000 | 1.000 | 1.000 | 0.000 | 0.000 | 0.000 | 0.000 | -1.000 | 0.000 | 450.000 |\n| \\\\(X_{6}\\\\) | 0.000 | 0.000 | 1.000 | 0.000 | 0.000 | 0.000 | 1.000 | -1.000 | 0.000 | 200.000 |\n| \\\\(X_{5}\\\\) | 0.000 | 1.000 | 1.000 | 0.000 | 0.000 | 1.000 | 0.000 | -1.000 | 0.000 | 200.000 |\n| \\\\(X_{4}\\\\) | 0.000 | 0.000 | 0.000 | 1.000 | 1.000 | 0.000 | 0.000 | 1.000 | -1.000 | 700.000 |\n### Pivot Operations\n\nVariable to enter: \\\\(None\\\\)\nVariable to leave: \\\\(None\\\\)\n#### Row Operations:\n\n1. \n\n\nComputed Tableau:\n\n|   |\\\\(X_{0}\\\\) | \\\\(X_{1}\\\\) | \\\\(X_{2}\\\\) | \\\\(X_{3}\\\\) | \\\\(X_{4}\\\\) | \\\\(X_{5}\\\\) | \\\\(X_{6}\\\\) | \\\\(X_{7}\\\\) | \\\\(X_{8}\\\\) | RHS |\n|---|---|---|---|---|---|---|---|---|---|---|\n| Cost | 0.000 | 5.000 | 10.000 | 5.000 | 0.000 | 0.000 | 0.000 | -10.000 | -40.000 | 94500.000 |\n| \\\\(X_{0}\\\\) | 1.000 | 1.000 | 1.000 | 0.000 | 0.000 | 0.000 | 0.000 | -1.000 | 0.000 | 450.000 |\n| \\\\(X_{6}\\\\) | 0.000 | 0.000 | 1.000 | 0.000 | 0.000 | 0.000 | 1.000 | -1.000 | 0.000 | 200.000 |\n| \\\\(X_{5}\\\\) | 0.000 | 1.000 | 1.000 | 0.000 | 0.000 | 1.000 | 0.000 | -1.000 | 0.000 | 200.000 |\n| \\\\(X_{4}\\\\) | 0.000 | 0.000 | 0.000 | 1.000 | 1.000 | 0.000 | 0.000 | 1.000 | -1.000 | 700.000 |\n\n\n\\\\(J_1\\\\) (lower bounds variables): [8, 7]\n\n\n\\\\(J_2\\\\) (upper bounds variables): [1, 2, 3]\n\n\n\n## Solution for \n\n\\\\[\n    \\begin{aligned}\n    & \\text{Minimize} & C^{T} \\cdot X \\\\\n    & \\text{Subject to} & A \\cdot X & = B \\\\\n    & & L \\leq  X  \\leq U &\n    \\end{aligned}\n    \\\\]\n    where: \n    \\\\[\n    \\begin{aligned}\n    & & A = \\begin{bmatrix}\n1.000 & 0.000 & 0.000 & 0.000 & 0.000 & -1.000 & 0.000 & 0.000 & 0.000 \\\\\n0.000 & 1.000 & 0.000 & 0.000 & 0.000 & 1.000 & -1.000 & 0.000 & 0.000 \\\\\n0.000 & 0.000 & 1.000 & 0.000 & 0.000 & 0.000 & 1.000 & -1.000 & 0.000 \\\\\n0.000 & 0.000 & 0.000 & 1.000 & 1.000 & 0.000 & 0.000 & 1.000 & -1.000 \\\\\n\\end{bmatrix} \\\\\n    & & B = \\begin{bmatrix}\n250.000\\\\\n600.000\\\\\n800.000\\\\\n1200.000\n\\end{bmatrix} \\\\\n    & & C^{T} = \\begin{bmatrix}\n30.000 & 30.000 & 30.000 & 30.000 & 35.000 & 5.000 & 5.000 & 5.000 & 5.000\n\\end{bmatrix} \\\\\n    & & X = \\begin{bmatrix}\nX_{0}\\\\\nX_{1}\\\\\nX_{2}\\\\\nX_{3}\\\\\nX_{4}\\\\\nX_{5}\\\\\nX_{6}\\\\\nX_{7}\\\\\nX_{8}\n\\end{bmatrix} \\\\\n    & & L = [ 0.00,\\ 0.00,\\ 0.00,\\ 0.00,\\ 0.00,\\ 0.00,\\ 0.00,\\ 0.00,\\ 100.00,\\ 0.00 ] \\\\\n    & & U = [ 600.00,\\ 600.00,\\ 600.00,\\ 600.00,\\ 1200.00,\\ 400.00,\\ 400.00,\\ 400.00,\\ 400.00,\\ ∞ ]\n    \\end{aligned}\n    \\\\]\n\nSolution Type: Optimal unique solution\n\nOptimal Solution: \\\\(X^{*} = [ 450.00,\\ 600.00,\\ 600.00,\\ 600.00,\\ 700.00,\\ 200.00,\\ 200.00,\\ 0.00,\\ 100.00 ]\\\\)\n\nOptimal Value: \\\\(Z^{*} = 94500.00\\\\)\n\nOptimal Basis: \\\\([0, 6, 5, 4]\\\\)\n\nFinal non-basic variables set at lower bounds \\\\(J_1\\\\): \\\\([8, 7]\\\\)\n\nFinal non-basic variables set at upper bounds \\\\(J_2\\\\): \\\\([1, 2, 3]\\\\)\n\n\\\\(\\hat{C}_{J_1}\\\\): \\\\([-40.0, -10.0]\\\\)\n\n\\\\(\\hat{C}_{J_2}\\\\): \\\\([5.0, 10.0, 5.0]\\\\)\n\nNumber of Iterations: 3\n\n"
          },
          "metadata": {}
        }
      ],
      "execution_count": 22
    },
    {
      "cell_type": "markdown",
      "source": "## Comparison with scipy",
      "metadata": {}
    },
    {
      "cell_type": "code",
      "source": "scipy_bounds = [\n    (lb, ub) for lb, ub in zip(lower_bounds[:-1], upper_bounds[:-1])\n]\nresult = linprog(c, A_eq=A, b_eq=b, bounds=scipy_bounds, method='highs')\ndisplay(result['fun'])\ndisplay(result['x'])",
      "metadata": {
        "trusted": true
      },
      "outputs": [
        {
          "output_type": "display_data",
          "data": {
            "text/plain": "94500.0"
          },
          "metadata": {}
        },
        {
          "output_type": "display_data",
          "data": {
            "text/plain": "array([450., 600., 600., 600., 700., 200., 200.,   0., 100.])"
          },
          "metadata": {}
        }
      ],
      "execution_count": 21
    },
    {
      "cell_type": "markdown",
      "source": "# Exercício 5.24",
      "metadata": {}
    },
    {
      "cell_type": "code",
      "source": "# definindo A, B, c, I, J_1, J_2, lower_bounds, upper_bounds para o prooblema\n# 5.24\nindex = '5.24'\nfor key in problems[index].keys():\n    locals()[key] = problems[index][key]\n# resolvendo o problema\nz_star, x_star, I_star, solution_type, iterations, tableau_steps = simplex(A, b, c, I, J_1, J_2, lower_bounds, upper_bounds)\nresult_md = markdown_repr_T(tableau_steps)\ndisplay(\n    Markdown(\n        result_md\n    )\n)",
      "metadata": {
        "trusted": true
      },
      "outputs": [
        {
          "output_type": "display_data",
          "data": {
            "text/plain": "<IPython.core.display.Markdown object>",
            "text/markdown": "\n\n## Iteration 1\n\nPrevious Tableau:\n\n|   |\\\\(X_{0}\\\\) | \\\\(X_{1}\\\\) | \\\\(X_{2}\\\\) | \\\\(X_{3}\\\\) | \\\\(X_{4}\\\\) | RHS |\n|---|---|---|---|---|---|---|\n| Cost | 6.000 | 4.000 | 2.000 | 0.000 | 0.000 | 0.000 |\n| \\\\(X_{3}\\\\) | 4.000 | -3.000 | 1.000 | 1.000 | 0.000 | 6.000 |\n| \\\\(X_{4}\\\\) | 3.000 | -2.000 | 4.000 | 0.000 | 1.000 | 8.000 |\n### Pivot Operations\n\nVariable to enter: \\\\(0\\\\)\nVariable to leave: \\\\(3\\\\)\n#### Row Operations:\n\n1. \\\\(R_{X_{3}} \\leftarrow \\frac{R_{X_{3}}}{4.000}\\\\)\n1. \\\\(R_{\\text{{Cost}}} \\leftarrow R_{\\text{{Cost}}} - 6.000R_{3}\\\\)\n2. \\\\(R_{X_{4}} \\leftarrow R_{X_{4}} - 3.000R_{3}\\\\)\n\n\nComputed Tableau:\n\n|   |\\\\(X_{0}\\\\) | \\\\(X_{1}\\\\) | \\\\(X_{2}\\\\) | \\\\(X_{3}\\\\) | \\\\(X_{4}\\\\) | RHS |\n|---|---|---|---|---|---|---|\n| Cost | 0.000 | 8.500 | 0.500 | -1.500 | 0.000 | -9.000 |\n| \\\\(X_{0}\\\\) | 1.000 | -0.750 | 0.250 | 0.250 | 0.000 | 1.500 |\n| \\\\(X_{4}\\\\) | 0.000 | 0.250 | 3.250 | -0.750 | 1.000 | 3.500 |\n\n\n\\\\(J_1\\\\) (lower bounds variables): [3, 1, 2]\n\n\n\\\\(J_2\\\\) (upper bounds variables): []\n\n\n\n## Iteration 2\n\nPrevious Tableau:\n\n|   |\\\\(X_{0}\\\\) | \\\\(X_{1}\\\\) | \\\\(X_{2}\\\\) | \\\\(X_{3}\\\\) | \\\\(X_{4}\\\\) | RHS |\n|---|---|---|---|---|---|---|\n| Cost | 0.000 | 8.500 | 0.500 | -1.500 | 0.000 | -9.000 |\n| \\\\(X_{0}\\\\) | 1.000 | -0.750 | 0.250 | 0.250 | 0.000 | 1.500 |\n| \\\\(X_{4}\\\\) | 0.000 | 0.250 | 3.250 | -0.750 | 1.000 | 3.500 |\n### Pivot Operations\n\nVariable to enter: \\\\(1\\\\)\nVariable to leave: \\\\(None\\\\)\n#### Row Operations:\n\n1. \n\n\nComputed Tableau:\n\n|   |\\\\(X_{0}\\\\) | \\\\(X_{1}\\\\) | \\\\(X_{2}\\\\) | \\\\(X_{3}\\\\) | \\\\(X_{4}\\\\) | RHS |\n|---|---|---|---|---|---|---|\n| Cost | 0.000 | 8.500 | 0.500 | -1.500 | 0.000 | -26.000 |\n| \\\\(X_{0}\\\\) | 1.000 | -0.750 | 0.250 | 0.250 | 0.000 | 3.000 |\n| \\\\(X_{4}\\\\) | 0.000 | 0.250 | 3.250 | -0.750 | 1.000 | 3.000 |\n\n\n\\\\(J_1\\\\) (lower bounds variables): [2, 3]\n\n\n\\\\(J_2\\\\) (upper bounds variables): [1]\n\n\n\n## Iteration 3\n\nPrevious Tableau:\n\n|   |\\\\(X_{0}\\\\) | \\\\(X_{1}\\\\) | \\\\(X_{2}\\\\) | \\\\(X_{3}\\\\) | \\\\(X_{4}\\\\) | RHS |\n|---|---|---|---|---|---|---|\n| Cost | 0.000 | 8.500 | 0.500 | -1.500 | 0.000 | -26.000 |\n| \\\\(X_{0}\\\\) | 1.000 | -0.750 | 0.250 | 0.250 | 0.000 | 3.000 |\n| \\\\(X_{4}\\\\) | 0.000 | 0.250 | 3.250 | -0.750 | 1.000 | 3.000 |\n### Pivot Operations\n\nVariable to enter: \\\\(2\\\\)\nVariable to leave: \\\\(4\\\\)\n#### Row Operations:\n\n1. \\\\(R_{X_{4}} \\leftarrow \\frac{R_{X_{4}}}{3.250}\\\\)\n1. \\\\(R_{\\text{{Cost}}} \\leftarrow R_{\\text{{Cost}}} - 0.500R_{4}\\\\)\n2. \\\\(R_{X_{0}} \\leftarrow R_{X_{0}} - 0.250R_{4}\\\\)\n\n\nComputed Tableau:\n\n|   |\\\\(X_{0}\\\\) | \\\\(X_{1}\\\\) | \\\\(X_{2}\\\\) | \\\\(X_{3}\\\\) | \\\\(X_{4}\\\\) | RHS |\n|---|---|---|---|---|---|---|\n| Cost | 0.000 | 8.462 | 0.000 | -1.385 | -0.154 | -26.462 |\n| \\\\(X_{0}\\\\) | 1.000 | -0.769 | 0.000 | 0.308 | -0.077 | 2.769 |\n| \\\\(X_{2}\\\\) | 0.000 | 0.077 | 1.000 | -0.231 | 0.308 | 0.923 |\n\n\n\\\\(J_1\\\\) (lower bounds variables): [4, 3]\n\n\n\\\\(J_2\\\\) (upper bounds variables): [1]\n\n\n\n## Iteration 4\n\nPrevious Tableau:\n\n|   |\\\\(X_{0}\\\\) | \\\\(X_{1}\\\\) | \\\\(X_{2}\\\\) | \\\\(X_{3}\\\\) | \\\\(X_{4}\\\\) | RHS |\n|---|---|---|---|---|---|---|\n| Cost | 0.000 | 8.462 | 0.000 | -1.385 | -0.154 | -26.462 |\n| \\\\(X_{0}\\\\) | 1.000 | -0.769 | 0.000 | 0.308 | -0.077 | 2.769 |\n| \\\\(X_{2}\\\\) | 0.000 | 0.077 | 1.000 | -0.231 | 0.308 | 0.923 |\n### Pivot Operations\n\nVariable to enter: \\\\(None\\\\)\nVariable to leave: \\\\(None\\\\)\n#### Row Operations:\n\n1. \n\n\nComputed Tableau:\n\n|   |\\\\(X_{0}\\\\) | \\\\(X_{1}\\\\) | \\\\(X_{2}\\\\) | \\\\(X_{3}\\\\) | \\\\(X_{4}\\\\) | RHS |\n|---|---|---|---|---|---|---|\n| Cost | 0.000 | 8.462 | 0.000 | -1.385 | -0.154 | -26.462 |\n| \\\\(X_{0}\\\\) | 1.000 | -0.769 | 0.000 | 0.308 | -0.077 | 2.769 |\n| \\\\(X_{2}\\\\) | 0.000 | 0.077 | 1.000 | -0.231 | 0.308 | 0.923 |\n\n\n\\\\(J_1\\\\) (lower bounds variables): [4, 3]\n\n\n\\\\(J_2\\\\) (upper bounds variables): [1]\n\n\n\n## Solution for \n\n\\\\[\n    \\begin{aligned}\n    & \\text{Minimize} & C^{T} \\cdot X \\\\\n    & \\text{Subject to} & A \\cdot X & = B \\\\\n    & & L \\leq  X  \\leq U &\n    \\end{aligned}\n    \\\\]\n    where: \n    \\\\[\n    \\begin{aligned}\n    & & A = \\begin{bmatrix}\n4.000 & -3.000 & 1.000 & 1.000 & 0.000 \\\\\n3.000 & -2.000 & 4.000 & 0.000 & 1.000 \\\\\n\\end{bmatrix} \\\\\n    & & B = \\begin{bmatrix}\n6.000\\\\\n8.000\n\\end{bmatrix} \\\\\n    & & C^{T} = \\begin{bmatrix}\n-6.000 & -4.000 & -2.000 & 0.000 & 0.000\n\\end{bmatrix} \\\\\n    & & X = \\begin{bmatrix}\nX_{0}\\\\\nX_{1}\\\\\nX_{2}\\\\\nX_{3}\\\\\nX_{4}\n\\end{bmatrix} \\\\\n    & & L = [ 0.00,\\ 0.00,\\ 0.00,\\ 0.00,\\ 0.00 ] \\\\\n    & & U = [ 3.00,\\ 2.00,\\ ∞,\\ ∞,\\ ∞ ]\n    \\end{aligned}\n    \\\\]\n\nSolution Type: Optimal unique solution\n\nOptimal Solution: \\\\(X^{*} = [ 2.77,\\ 2.00,\\ 0.92,\\ 0.00,\\ 0.00 ]\\\\)\n\nOptimal Value: \\\\(Z^{*} = -26.46\\\\)\n\nOptimal Basis: \\\\([0, 2]\\\\)\n\nFinal non-basic variables set at lower bounds \\\\(J_1\\\\): \\\\([4, 3]\\\\)\n\nFinal non-basic variables set at upper bounds \\\\(J_2\\\\): \\\\([1]\\\\)\n\n\\\\(\\hat{C}_{J_1}\\\\): \\\\([-0.15384615384615385, -1.3846153846153846]\\\\)\n\n\\\\(\\hat{C}_{J_2}\\\\): \\\\([8.461538461538462]\\\\)\n\nNumber of Iterations: 5\n\n"
          },
          "metadata": {}
        }
      ],
      "execution_count": 24
    },
    {
      "cell_type": "markdown",
      "source": "## Comparison with scipy",
      "metadata": {}
    },
    {
      "cell_type": "code",
      "source": "scipy_bounds = [\n    (lb, ub) for lb, ub in zip(lower_bounds, upper_bounds)\n]\nlinprog(c, A_eq=A, b_eq=b, bounds=scipy_bounds, method='highs')",
      "metadata": {
        "trusted": true,
        "scrolled": true
      },
      "outputs": [
        {
          "execution_count": 25,
          "output_type": "execute_result",
          "data": {
            "text/plain": "        message: Optimization terminated successfully. (HiGHS Status 7: Optimal)\n        success: True\n         status: 0\n            fun: -26.46153846153846\n              x: [ 2.769e+00  2.000e+00  9.231e-01  0.000e+00  0.000e+00]\n            nit: 2\n          lower:  residual: [ 2.769e+00  2.000e+00  9.231e-01  0.000e+00\n                              0.000e+00]\n                 marginals: [ 0.000e+00  0.000e+00  0.000e+00  1.385e+00\n                              1.538e-01]\n          upper:  residual: [ 2.308e-01  0.000e+00        inf        inf\n                                    inf]\n                 marginals: [ 0.000e+00 -8.462e+00  0.000e+00  0.000e+00\n                              0.000e+00]\n          eqlin:  residual: [ 0.000e+00  0.000e+00]\n                 marginals: [-1.385e+00 -1.538e-01]\n        ineqlin:  residual: []\n                 marginals: []\n mip_node_count: 0\n mip_dual_bound: 0.0\n        mip_gap: 0.0"
          },
          "metadata": {}
        }
      ],
      "execution_count": 25
    },
    {
      "cell_type": "markdown",
      "source": "# 5.25\n## Problema Artificial",
      "metadata": {}
    },
    {
      "cell_type": "code",
      "source": "A_artificial = np.array([\n    [2, 1,  4, 1, 1, 1,  0, 0],\n    [2, 8, -3, 1, 0, 0, -1, 1]\n])\nA = A_artificial[:, :-3]\nc = np.array([\n    2, 6, -1, -4, 1\n])\nc_artificial = np.array(\n    [0] * 5 + [1] * 3\n)\n# Termos independentes B\nb = np.array([\n    10,\n    7\n])\n# limites inferiores\nlower_bounds = np.array([0, 1, 0, 1, 0, 0, 0, 0])\n# limites superiores\nupper_bounds = np.array([3, 4, 8, 2, 4] + [np.inf] * 3)\n\nI_artificial = [5, 7]\nJ_1_artificial = [0, 1, 2, 3, 4, 6]\nJ_1 = J_1_artificial.copy()[:-3]\nJ_2 = []\nJ_2_artificial = J_2.copy()\n\nz_star, x_star, I_star, solution_type, iterations, tableau_steps = simplex(\n    A_artificial,\n    b,\n    c_artificial,\n    I_artificial,\n    J_1_artificial,\n    J_2_artificial,\n    lower_bounds,\n    upper_bounds\n)\nresult_md = markdown_repr_T(tableau_steps)\ndisplay(\n    Markdown(\n        result_md\n    )\n)",
      "metadata": {
        "trusted": true
      },
      "outputs": [
        {
          "output_type": "display_data",
          "data": {
            "text/plain": "<IPython.core.display.Markdown object>",
            "text/markdown": "\n\n## Iteration 1\n\nPrevious Tableau:\n\n|   |\\\\(X_{0}\\\\) | \\\\(X_{1}\\\\) | \\\\(X_{2}\\\\) | \\\\(X_{3}\\\\) | \\\\(X_{4}\\\\) | \\\\(X_{5}\\\\) | \\\\(X_{6}\\\\) | \\\\(X_{7}\\\\) | RHS |\n|---|---|---|---|---|---|---|---|---|---|\n| Cost | 4.000 | 9.000 | 1.000 | 2.000 | 1.000 | 0.000 | -2.000 | 0.000 | 6.000 |\n| \\\\(X_{5}\\\\) | 2.000 | 1.000 | 4.000 | 1.000 | 1.000 | 1.000 | 0.000 | 0.000 | 8.000 |\n| \\\\(X_{7}\\\\) | 2.000 | 8.000 | -3.000 | 1.000 | 0.000 | 0.000 | -1.000 | 1.000 | -2.000 |\n### Pivot Operations\n\nVariable to enter: \\\\(1\\\\)\nVariable to leave: \\\\(7\\\\)\n#### Row Operations:\n\n1. \\\\(R_{X_{7}} \\leftarrow \\frac{R_{X_{7}}}{8.000}\\\\)\n1. \\\\(R_{\\text{{Cost}}} \\leftarrow R_{\\text{{Cost}}} - 9.000R_{7}\\\\)\n2. \\\\(R_{X_{5}} \\leftarrow R_{X_{5}} - 1.000R_{7}\\\\)\n\n\nComputed Tableau:\n\n|   |\\\\(X_{0}\\\\) | \\\\(X_{1}\\\\) | \\\\(X_{2}\\\\) | \\\\(X_{3}\\\\) | \\\\(X_{4}\\\\) | \\\\(X_{5}\\\\) | \\\\(X_{6}\\\\) | \\\\(X_{7}\\\\) | RHS |\n|---|---|---|---|---|---|---|---|---|---|\n| Cost | 1.750 | 0.000 | 4.375 | 0.875 | 1.000 | 0.000 | -0.875 | -1.125 | 8.250 |\n| \\\\(X_{5}\\\\) | 1.750 | 0.000 | 4.375 | 0.875 | 1.000 | 1.000 | 0.125 | -0.125 | 8.250 |\n| \\\\(X_{1}\\\\) | 0.250 | 1.000 | -0.375 | 0.125 | 0.000 | 0.000 | -0.125 | 0.125 | 0.750 |\n\n\n\\\\(J_1\\\\) (lower bounds variables): [0, 7, 2, 3, 4, 6]\n\n\n\\\\(J_2\\\\) (upper bounds variables): []\n\n\n\n## Iteration 2\n\nPrevious Tableau:\n\n|   |\\\\(X_{0}\\\\) | \\\\(X_{1}\\\\) | \\\\(X_{2}\\\\) | \\\\(X_{3}\\\\) | \\\\(X_{4}\\\\) | \\\\(X_{5}\\\\) | \\\\(X_{6}\\\\) | \\\\(X_{7}\\\\) | RHS |\n|---|---|---|---|---|---|---|---|---|---|\n| Cost | 1.750 | 0.000 | 4.375 | 0.875 | 1.000 | 0.000 | -0.875 | -1.125 | 8.250 |\n| \\\\(X_{5}\\\\) | 1.750 | 0.000 | 4.375 | 0.875 | 1.000 | 1.000 | 0.125 | -0.125 | 8.250 |\n| \\\\(X_{1}\\\\) | 0.250 | 1.000 | -0.375 | 0.125 | 0.000 | 0.000 | -0.125 | 0.125 | 0.750 |\n### Pivot Operations\n\nVariable to enter: \\\\(2\\\\)\nVariable to leave: \\\\(5\\\\)\n#### Row Operations:\n\n1. \\\\(R_{X_{5}} \\leftarrow \\frac{R_{X_{5}}}{4.375}\\\\)\n1. \\\\(R_{\\text{{Cost}}} \\leftarrow R_{\\text{{Cost}}} - 4.375R_{5}\\\\)\n2. \\\\(R_{X_{1}} \\leftarrow R_{X_{1}} + 0.375R_{5}\\\\)\n\n\nComputed Tableau:\n\n|   |\\\\(X_{0}\\\\) | \\\\(X_{1}\\\\) | \\\\(X_{2}\\\\) | \\\\(X_{3}\\\\) | \\\\(X_{4}\\\\) | \\\\(X_{5}\\\\) | \\\\(X_{6}\\\\) | \\\\(X_{7}\\\\) | RHS |\n|---|---|---|---|---|---|---|---|---|---|\n| Cost | 0.000 | 0.000 | 0.000 | 0.000 | 0.000 | -1.000 | -1.000 | -1.000 | 0.000 |\n| \\\\(X_{2}\\\\) | 0.400 | 0.000 | 1.000 | 0.200 | 0.229 | 0.229 | 0.029 | -0.029 | 1.886 |\n| \\\\(X_{1}\\\\) | 0.400 | 1.000 | 0.000 | 0.200 | 0.086 | 0.086 | -0.114 | 0.114 | 1.457 |\n\n\n\\\\(J_1\\\\) (lower bounds variables): [0, 7, 5, 3, 4, 6]\n\n\n\\\\(J_2\\\\) (upper bounds variables): []\n\n\n\n## Iteration 3\n\nPrevious Tableau:\n\n|   |\\\\(X_{0}\\\\) | \\\\(X_{1}\\\\) | \\\\(X_{2}\\\\) | \\\\(X_{3}\\\\) | \\\\(X_{4}\\\\) | \\\\(X_{5}\\\\) | \\\\(X_{6}\\\\) | \\\\(X_{7}\\\\) | RHS |\n|---|---|---|---|---|---|---|---|---|---|\n| Cost | 0.000 | 0.000 | 0.000 | 0.000 | 0.000 | -1.000 | -1.000 | -1.000 | 0.000 |\n| \\\\(X_{2}\\\\) | 0.400 | 0.000 | 1.000 | 0.200 | 0.229 | 0.229 | 0.029 | -0.029 | 1.886 |\n| \\\\(X_{1}\\\\) | 0.400 | 1.000 | 0.000 | 0.200 | 0.086 | 0.086 | -0.114 | 0.114 | 1.457 |\n### Pivot Operations\n\nVariable to enter: \\\\(None\\\\)\nVariable to leave: \\\\(None\\\\)\n#### Row Operations:\n\n1. \n\n\nComputed Tableau:\n\n|   |\\\\(X_{0}\\\\) | \\\\(X_{1}\\\\) | \\\\(X_{2}\\\\) | \\\\(X_{3}\\\\) | \\\\(X_{4}\\\\) | \\\\(X_{5}\\\\) | \\\\(X_{6}\\\\) | \\\\(X_{7}\\\\) | RHS |\n|---|---|---|---|---|---|---|---|---|---|\n| Cost | 0.000 | 0.000 | 0.000 | 0.000 | 0.000 | -1.000 | -1.000 | -1.000 | 0.000 |\n| \\\\(X_{2}\\\\) | 0.400 | 0.000 | 1.000 | 0.200 | 0.229 | 0.229 | 0.029 | -0.029 | 1.886 |\n| \\\\(X_{1}\\\\) | 0.400 | 1.000 | 0.000 | 0.200 | 0.086 | 0.086 | -0.114 | 0.114 | 1.457 |\n\n\n\\\\(J_1\\\\) (lower bounds variables): [0, 7, 5, 3, 4, 6]\n\n\n\\\\(J_2\\\\) (upper bounds variables): []\n\n\n\n## Solution for \n\n\\\\[\n    \\begin{aligned}\n    & \\text{Minimize} & C^{T} \\cdot X \\\\\n    & \\text{Subject to} & A \\cdot X & = B \\\\\n    & & L \\leq  X  \\leq U &\n    \\end{aligned}\n    \\\\]\n    where: \n    \\\\[\n    \\begin{aligned}\n    & & A = \\begin{bmatrix}\n2.000 & 1.000 & 4.000 & 1.000 & 1.000 & 1.000 & 0.000 & 0.000 \\\\\n2.000 & 8.000 & -3.000 & 1.000 & 0.000 & 0.000 & -1.000 & 1.000 \\\\\n\\end{bmatrix} \\\\\n    & & B = \\begin{bmatrix}\n10.000\\\\\n7.000\n\\end{bmatrix} \\\\\n    & & C^{T} = \\begin{bmatrix}\n0.000 & 0.000 & 0.000 & 0.000 & 0.000 & 1.000 & 1.000 & 1.000\n\\end{bmatrix} \\\\\n    & & X = \\begin{bmatrix}\nX_{0}\\\\\nX_{1}\\\\\nX_{2}\\\\\nX_{3}\\\\\nX_{4}\\\\\nX_{5}\\\\\nX_{6}\\\\\nX_{7}\n\\end{bmatrix} \\\\\n    & & L = [ 0.00,\\ 1.00,\\ 0.00,\\ 1.00,\\ 0.00,\\ 0.00,\\ 0.00,\\ 0.00 ] \\\\\n    & & U = [ 3.00,\\ 4.00,\\ 8.00,\\ 2.00,\\ 4.00,\\ ∞,\\ ∞,\\ ∞ ]\n    \\end{aligned}\n    \\\\]\n\nSolution Type: Optimal multiple solutions\n\nOptimal Solution: \\\\(X^{*} = [ 0.00,\\ 1.46,\\ 1.89,\\ 1.00,\\ 0.00,\\ 0.00,\\ 0.00,\\ 0.00 ]\\\\)\n\nOptimal Value: \\\\(Z^{*} = 0.00\\\\)\n\nOptimal Basis: \\\\([2, 1]\\\\)\n\nFinal non-basic variables set at lower bounds \\\\(J_1\\\\): \\\\([0, 7, 5, 3, 4, 6]\\\\)\n\nFinal non-basic variables set at upper bounds \\\\(J_2\\\\): \\\\([]\\\\)\n\n\\\\(\\hat{C}_{J_1}\\\\): \\\\([0.0, -1.0, -1.0, 0.0, 0.0, -1.0]\\\\)\n\n\\\\(\\hat{C}_{J_2}\\\\): \\\\([]\\\\)\n\nNumber of Iterations: 4\n\n"
          },
          "metadata": {}
        }
      ],
      "execution_count": 28
    },
    {
      "cell_type": "markdown",
      "source": "## Problema Original",
      "metadata": {}
    },
    {
      "cell_type": "code",
      "source": "z_star, x_star, I_star, solution_type, iterations, tableau_steps = simplex(\n    A,\n    b,\n    c,\n    [2, 1],\n    [0, 3, 4],\n    [],\n    lower_bounds,\n    upper_bounds\n)\nresult_md = markdown_repr_T(tableau_steps)\ndisplay(\n    Markdown(\n        result_md\n    )\n)",
      "metadata": {
        "trusted": true
      },
      "outputs": [
        {
          "output_type": "display_data",
          "data": {
            "text/plain": "<IPython.core.display.Markdown object>",
            "text/markdown": "\n\n## Iteration 1\n\nPrevious Tableau:\n\n|   |\\\\(X_{0}\\\\) | \\\\(X_{1}\\\\) | \\\\(X_{2}\\\\) | \\\\(X_{3}\\\\) | \\\\(X_{4}\\\\) | RHS |\n|---|---|---|---|---|---|---|\n| Cost | 0.000 | 0.000 | 0.000 | 5.000 | -0.714 | 2.857 |\n| \\\\(X_{2}\\\\) | 0.400 | 0.000 | 1.000 | 0.200 | 0.229 | 1.886 |\n| \\\\(X_{1}\\\\) | 0.400 | 1.000 | 0.000 | 0.200 | 0.086 | 1.457 |\n### Pivot Operations\n\nVariable to enter: \\\\(3\\\\)\nVariable to leave: \\\\(None\\\\)\n#### Row Operations:\n\n1. \n\n\nComputed Tableau:\n\n|   |\\\\(X_{0}\\\\) | \\\\(X_{1}\\\\) | \\\\(X_{2}\\\\) | \\\\(X_{3}\\\\) | \\\\(X_{4}\\\\) | RHS |\n|---|---|---|---|---|---|---|\n| Cost | 0.000 | 0.000 | 0.000 | 5.000 | -0.714 | -2.143 |\n| \\\\(X_{2}\\\\) | 0.400 | 0.000 | 1.000 | 0.200 | 0.229 | 1.686 |\n| \\\\(X_{1}\\\\) | 0.400 | 1.000 | 0.000 | 0.200 | 0.086 | 1.257 |\n\n\n\\\\(J_1\\\\) (lower bounds variables): [0, 4]\n\n\n\\\\(J_2\\\\) (upper bounds variables): [3]\n\n\n\n## Iteration 2\n\nPrevious Tableau:\n\n|   |\\\\(X_{0}\\\\) | \\\\(X_{1}\\\\) | \\\\(X_{2}\\\\) | \\\\(X_{3}\\\\) | \\\\(X_{4}\\\\) | RHS |\n|---|---|---|---|---|---|---|\n| Cost | 0.000 | 0.000 | 0.000 | 5.000 | -0.714 | -2.143 |\n| \\\\(X_{2}\\\\) | 0.400 | 0.000 | 1.000 | 0.200 | 0.229 | 1.686 |\n| \\\\(X_{1}\\\\) | 0.400 | 1.000 | 0.000 | 0.200 | 0.086 | 1.257 |\n### Pivot Operations\n\nVariable to enter: \\\\(None\\\\)\nVariable to leave: \\\\(None\\\\)\n#### Row Operations:\n\n1. \n\n\nComputed Tableau:\n\n|   |\\\\(X_{0}\\\\) | \\\\(X_{1}\\\\) | \\\\(X_{2}\\\\) | \\\\(X_{3}\\\\) | \\\\(X_{4}\\\\) | RHS |\n|---|---|---|---|---|---|---|\n| Cost | 0.000 | 0.000 | 0.000 | 5.000 | -0.714 | -2.143 |\n| \\\\(X_{2}\\\\) | 0.400 | 0.000 | 1.000 | 0.200 | 0.229 | 1.686 |\n| \\\\(X_{1}\\\\) | 0.400 | 1.000 | 0.000 | 0.200 | 0.086 | 1.257 |\n\n\n\\\\(J_1\\\\) (lower bounds variables): [0, 4]\n\n\n\\\\(J_2\\\\) (upper bounds variables): [3]\n\n\n\n## Solution for \n\n\\\\[\n    \\begin{aligned}\n    & \\text{Minimize} & C^{T} \\cdot X \\\\\n    & \\text{Subject to} & A \\cdot X & = B \\\\\n    & & L \\leq  X  \\leq U &\n    \\end{aligned}\n    \\\\]\n    where: \n    \\\\[\n    \\begin{aligned}\n    & & A = \\begin{bmatrix}\n2.000 & 1.000 & 4.000 & 1.000 & 1.000 \\\\\n2.000 & 8.000 & -3.000 & 1.000 & 0.000 \\\\\n\\end{bmatrix} \\\\\n    & & B = \\begin{bmatrix}\n10.000\\\\\n7.000\n\\end{bmatrix} \\\\\n    & & C^{T} = \\begin{bmatrix}\n2.000 & 6.000 & -1.000 & -4.000 & 1.000\n\\end{bmatrix} \\\\\n    & & X = \\begin{bmatrix}\nX_{0}\\\\\nX_{1}\\\\\nX_{2}\\\\\nX_{3}\\\\\nX_{4}\n\\end{bmatrix} \\\\\n    & & L = [ 0.00,\\ 1.00,\\ 0.00,\\ 1.00,\\ 0.00,\\ 0.00,\\ 0.00,\\ 0.00 ] \\\\\n    & & U = [ 3.00,\\ 4.00,\\ 8.00,\\ 2.00,\\ 4.00,\\ ∞,\\ ∞,\\ ∞ ]\n    \\end{aligned}\n    \\\\]\n\nSolution Type: Optimal multiple solutions\n\nOptimal Solution: \\\\(X^{*} = [ 0.00,\\ 1.26,\\ 1.69,\\ 2.00,\\ 0.00 ]\\\\)\n\nOptimal Value: \\\\(Z^{*} = -2.14\\\\)\n\nOptimal Basis: \\\\([2, 1]\\\\)\n\nFinal non-basic variables set at lower bounds \\\\(J_1\\\\): \\\\([0, 4]\\\\)\n\nFinal non-basic variables set at upper bounds \\\\(J_2\\\\): \\\\([3]\\\\)\n\n\\\\(\\hat{C}_{J_1}\\\\): \\\\([0.0, -0.7142857142857143]\\\\)\n\n\\\\(\\hat{C}_{J_2}\\\\): \\\\([5.0]\\\\)\n\nNumber of Iterations: 3\n\n"
          },
          "metadata": {}
        }
      ],
      "execution_count": 31
    },
    {
      "cell_type": "markdown",
      "source": "## Comparison with scipy",
      "metadata": {}
    },
    {
      "cell_type": "code",
      "source": "scipy_bounds = [\n    (lb, ub) for lb, ub in zip(lower_bounds[:-3], upper_bounds[:-3])\n]\nresult = linprog(c, A_eq=A, b_eq=b, bounds=scipy_bounds, method='highs')\ndisplay(result['fun'])\ndisplay(result['x'])",
      "metadata": {
        "trusted": true
      },
      "outputs": [
        {
          "output_type": "display_data",
          "data": {
            "text/plain": "-2.1428571428571423"
          },
          "metadata": {}
        },
        {
          "output_type": "display_data",
          "data": {
            "text/plain": "array([0.64285714, 1.        , 1.42857143, 2.        , 0.        ])"
          },
          "metadata": {}
        }
      ],
      "execution_count": 32
    },
    {
      "cell_type": "markdown",
      "source": "# 5.27\n## Problema Artificial",
      "metadata": {}
    },
    {
      "cell_type": "code",
      "source": "A_artificial = np.array([\n    [1,  1, -1, 0, 1],\n    [1, -2,  0, 1, 0]\n])\nA = A_artificial[:, :-1]\nc = np.array([\n    2, 1, 0, 0\n])\nc_artificial = np.array(\n    [0] * 4 + [1] * 1\n)\n# Termos independentes B\nb = np.array([\n    4,\n    0\n])\n# limites inferiores\nlower_bounds = np.array([2, 1, 0, 0, 0])\n# limites superiores\nupper_bounds = np.array([np.inf] * 5)\n\nI_artificial = [4, 3]\nJ_1_artificial = [0, 1, 2]\nJ_2_artificial = []\n\nz_star, x_star, I_star, solution_type, iterations, tableau_steps = simplex(\n    A_artificial,\n    b,\n    c_artificial,\n    I_artificial,\n    J_1_artificial,\n    J_2_artificial,\n    lower_bounds,\n    upper_bounds\n)\nresult_md = markdown_repr_T(tableau_steps)\ndisplay(\n    Markdown(\n        result_md\n    )\n)",
      "metadata": {
        "trusted": true
      },
      "outputs": [
        {
          "output_type": "display_data",
          "data": {
            "text/plain": "<IPython.core.display.Markdown object>",
            "text/markdown": "\n\n## Iteration 1\n\nPrevious Tableau:\n\n|   |\\\\(X_{0}\\\\) | \\\\(X_{1}\\\\) | \\\\(X_{2}\\\\) | \\\\(X_{3}\\\\) | \\\\(X_{4}\\\\) | RHS |\n|---|---|---|---|---|---|---|\n| Cost | 1.000 | 1.000 | -1.000 | 0.000 | 0.000 | 1.000 |\n| \\\\(X_{4}\\\\) | 1.000 | 1.000 | -1.000 | 0.000 | 1.000 | 1.000 |\n| \\\\(X_{3}\\\\) | 1.000 | -2.000 | 0.000 | 1.000 | 0.000 | 0.000 |\n### Pivot Operations\n\nVariable to enter: \\\\(0\\\\)\nVariable to leave: \\\\(3\\\\)\n#### Row Operations:\n\n1. \\\\(R_{X_{3}} \\leftarrow \\frac{R_{X_{3}}}{1.000}\\\\)\n1. \\\\(R_{\\text{{Cost}}} \\leftarrow R_{\\text{{Cost}}} - 1.000R_{3}\\\\)\n2. \\\\(R_{X_{4}} \\leftarrow R_{X_{4}} - 1.000R_{3}\\\\)\n\n\nComputed Tableau:\n\n|   |\\\\(X_{0}\\\\) | \\\\(X_{1}\\\\) | \\\\(X_{2}\\\\) | \\\\(X_{3}\\\\) | \\\\(X_{4}\\\\) | RHS |\n|---|---|---|---|---|---|---|\n| Cost | 0.000 | 3.000 | -1.000 | -1.000 | 0.000 | 1.000 |\n| \\\\(X_{4}\\\\) | 0.000 | 3.000 | -1.000 | -1.000 | 1.000 | 1.000 |\n| \\\\(X_{0}\\\\) | 1.000 | -2.000 | 0.000 | 1.000 | 0.000 | 2.000 |\n\n\n\\\\(J_1\\\\) (lower bounds variables): [3, 1, 2]\n\n\n\\\\(J_2\\\\) (upper bounds variables): []\n\n\n\n## Iteration 2\n\nPrevious Tableau:\n\n|   |\\\\(X_{0}\\\\) | \\\\(X_{1}\\\\) | \\\\(X_{2}\\\\) | \\\\(X_{3}\\\\) | \\\\(X_{4}\\\\) | RHS |\n|---|---|---|---|---|---|---|\n| Cost | 0.000 | 3.000 | -1.000 | -1.000 | 0.000 | 1.000 |\n| \\\\(X_{4}\\\\) | 0.000 | 3.000 | -1.000 | -1.000 | 1.000 | 1.000 |\n| \\\\(X_{0}\\\\) | 1.000 | -2.000 | 0.000 | 1.000 | 0.000 | 2.000 |\n### Pivot Operations\n\nVariable to enter: \\\\(1\\\\)\nVariable to leave: \\\\(4\\\\)\n#### Row Operations:\n\n1. \\\\(R_{X_{4}} \\leftarrow \\frac{R_{X_{4}}}{3.000}\\\\)\n1. \\\\(R_{\\text{{Cost}}} \\leftarrow R_{\\text{{Cost}}} - 3.000R_{4}\\\\)\n2. \\\\(R_{X_{0}} \\leftarrow R_{X_{0}} + 2.000R_{4}\\\\)\n\n\nComputed Tableau:\n\n|   |\\\\(X_{0}\\\\) | \\\\(X_{1}\\\\) | \\\\(X_{2}\\\\) | \\\\(X_{3}\\\\) | \\\\(X_{4}\\\\) | RHS |\n|---|---|---|---|---|---|---|\n| Cost | 0.000 | 0.000 | 0.000 | 0.000 | -1.000 | 0.000 |\n| \\\\(X_{1}\\\\) | 0.000 | 1.000 | -0.333 | -0.333 | 0.333 | 1.333 |\n| \\\\(X_{0}\\\\) | 1.000 | 0.000 | -0.667 | 0.333 | 0.667 | 2.667 |\n\n\n\\\\(J_1\\\\) (lower bounds variables): [3, 4, 2]\n\n\n\\\\(J_2\\\\) (upper bounds variables): []\n\n\n\n## Iteration 3\n\nPrevious Tableau:\n\n|   |\\\\(X_{0}\\\\) | \\\\(X_{1}\\\\) | \\\\(X_{2}\\\\) | \\\\(X_{3}\\\\) | \\\\(X_{4}\\\\) | RHS |\n|---|---|---|---|---|---|---|\n| Cost | 0.000 | 0.000 | 0.000 | 0.000 | -1.000 | 0.000 |\n| \\\\(X_{1}\\\\) | 0.000 | 1.000 | -0.333 | -0.333 | 0.333 | 1.333 |\n| \\\\(X_{0}\\\\) | 1.000 | 0.000 | -0.667 | 0.333 | 0.667 | 2.667 |\n### Pivot Operations\n\nVariable to enter: \\\\(None\\\\)\nVariable to leave: \\\\(None\\\\)\n#### Row Operations:\n\n1. \n\n\nComputed Tableau:\n\n|   |\\\\(X_{0}\\\\) | \\\\(X_{1}\\\\) | \\\\(X_{2}\\\\) | \\\\(X_{3}\\\\) | \\\\(X_{4}\\\\) | RHS |\n|---|---|---|---|---|---|---|\n| Cost | 0.000 | 0.000 | 0.000 | 0.000 | -1.000 | 0.000 |\n| \\\\(X_{1}\\\\) | 0.000 | 1.000 | -0.333 | -0.333 | 0.333 | 1.333 |\n| \\\\(X_{0}\\\\) | 1.000 | 0.000 | -0.667 | 0.333 | 0.667 | 2.667 |\n\n\n\\\\(J_1\\\\) (lower bounds variables): [3, 4, 2]\n\n\n\\\\(J_2\\\\) (upper bounds variables): []\n\n\n\n## Solution for \n\n\\\\[\n    \\begin{aligned}\n    & \\text{Minimize} & C^{T} \\cdot X \\\\\n    & \\text{Subject to} & A \\cdot X & = B \\\\\n    & & L \\leq  X  \\leq U &\n    \\end{aligned}\n    \\\\]\n    where: \n    \\\\[\n    \\begin{aligned}\n    & & A = \\begin{bmatrix}\n1.000 & 1.000 & -1.000 & 0.000 & 1.000 \\\\\n1.000 & -2.000 & 0.000 & 1.000 & 0.000 \\\\\n\\end{bmatrix} \\\\\n    & & B = \\begin{bmatrix}\n4.000\\\\\n0.000\n\\end{bmatrix} \\\\\n    & & C^{T} = \\begin{bmatrix}\n0.000 & 0.000 & 0.000 & 0.000 & 1.000\n\\end{bmatrix} \\\\\n    & & X = \\begin{bmatrix}\nX_{0}\\\\\nX_{1}\\\\\nX_{2}\\\\\nX_{3}\\\\\nX_{4}\n\\end{bmatrix} \\\\\n    & & L = [ 2.00,\\ 1.00,\\ 0.00,\\ 0.00,\\ 0.00 ] \\\\\n    & & U = [ ∞,\\ ∞,\\ ∞,\\ ∞,\\ ∞ ]\n    \\end{aligned}\n    \\\\]\n\nSolution Type: Optimal multiple solutions\n\nOptimal Solution: \\\\(X^{*} = [ 2.67,\\ 1.33,\\ 0.00,\\ 0.00,\\ 0.00 ]\\\\)\n\nOptimal Value: \\\\(Z^{*} = 0.00\\\\)\n\nOptimal Basis: \\\\([1, 0]\\\\)\n\nFinal non-basic variables set at lower bounds \\\\(J_1\\\\): \\\\([3, 4, 2]\\\\)\n\nFinal non-basic variables set at upper bounds \\\\(J_2\\\\): \\\\([]\\\\)\n\n\\\\(\\hat{C}_{J_1}\\\\): \\\\([0.0, -1.0, 0.0]\\\\)\n\n\\\\(\\hat{C}_{J_2}\\\\): \\\\([]\\\\)\n\nNumber of Iterations: 4\n\n"
          },
          "metadata": {}
        }
      ],
      "execution_count": 37
    },
    {
      "cell_type": "markdown",
      "source": "## Problema Original",
      "metadata": {}
    },
    {
      "cell_type": "code",
      "source": "z_star, x_star, I_star, solution_type, iterations, tableau_steps = simplex(\n    A,\n    b,\n    c,\n    [1, 0],\n    [3, 2],\n    [],\n    lower_bounds,\n    upper_bounds\n)\nresult_md = markdown_repr_T(tableau_steps)\ndisplay(\n    Markdown(\n        result_md\n    )\n)",
      "metadata": {
        "trusted": true
      },
      "outputs": [
        {
          "output_type": "display_data",
          "data": {
            "text/plain": "<IPython.core.display.Markdown object>",
            "text/markdown": "\n\n## Iteration 1\n\nPrevious Tableau:\n\n|   |\\\\(X_{0}\\\\) | \\\\(X_{1}\\\\) | \\\\(X_{2}\\\\) | \\\\(X_{3}\\\\) | RHS |\n|---|---|---|---|---|---|\n| Cost | 0.000 | 0.000 | -1.667 | 0.333 | 6.667 |\n| \\\\(X_{1}\\\\) | 0.000 | 1.000 | -0.333 | -0.333 | 1.333 |\n| \\\\(X_{0}\\\\) | 1.000 | 0.000 | -0.667 | 0.333 | 2.667 |\n### Pivot Operations\n\nVariable to enter: \\\\(3\\\\)\nVariable to leave: \\\\(0\\\\)\n#### Row Operations:\n\n1. \\\\(R_{X_{0}} \\leftarrow \\frac{R_{X_{0}}}{0.333}\\\\)\n1. \\\\(R_{\\text{{Cost}}} \\leftarrow R_{\\text{{Cost}}} - 0.333R_{0}\\\\)\n2. \\\\(R_{X_{1}} \\leftarrow R_{X_{1}} + 0.333R_{0}\\\\)\n\n\nComputed Tableau:\n\n|   |\\\\(X_{0}\\\\) | \\\\(X_{1}\\\\) | \\\\(X_{2}\\\\) | \\\\(X_{3}\\\\) | RHS |\n|---|---|---|---|---|---|\n| Cost | -1.000 | 0.000 | -1.000 | 0.000 | 6.000 |\n| \\\\(X_{1}\\\\) | 1.000 | 1.000 | -1.000 | 0.000 | 2.000 |\n| \\\\(X_{3}\\\\) | 3.000 | 0.000 | -2.000 | 1.000 | 2.000 |\n\n\n\\\\(J_1\\\\) (lower bounds variables): [0, 2]\n\n\n\\\\(J_2\\\\) (upper bounds variables): []\n\n\n\n## Iteration 2\n\nPrevious Tableau:\n\n|   |\\\\(X_{0}\\\\) | \\\\(X_{1}\\\\) | \\\\(X_{2}\\\\) | \\\\(X_{3}\\\\) | RHS |\n|---|---|---|---|---|---|\n| Cost | -1.000 | 0.000 | -1.000 | 0.000 | 6.000 |\n| \\\\(X_{1}\\\\) | 1.000 | 1.000 | -1.000 | 0.000 | 2.000 |\n| \\\\(X_{3}\\\\) | 3.000 | 0.000 | -2.000 | 1.000 | 2.000 |\n### Pivot Operations\n\nVariable to enter: \\\\(None\\\\)\nVariable to leave: \\\\(None\\\\)\n#### Row Operations:\n\n1. \n\n\nComputed Tableau:\n\n|   |\\\\(X_{0}\\\\) | \\\\(X_{1}\\\\) | \\\\(X_{2}\\\\) | \\\\(X_{3}\\\\) | RHS |\n|---|---|---|---|---|---|\n| Cost | -1.000 | 0.000 | -1.000 | 0.000 | 6.000 |\n| \\\\(X_{1}\\\\) | 1.000 | 1.000 | -1.000 | 0.000 | 2.000 |\n| \\\\(X_{3}\\\\) | 3.000 | 0.000 | -2.000 | 1.000 | 2.000 |\n\n\n\\\\(J_1\\\\) (lower bounds variables): [0, 2]\n\n\n\\\\(J_2\\\\) (upper bounds variables): []\n\n\n\n## Solution for \n\n\\\\[\n    \\begin{aligned}\n    & \\text{Minimize} & C^{T} \\cdot X \\\\\n    & \\text{Subject to} & A \\cdot X & = B \\\\\n    & & L \\leq  X  \\leq U &\n    \\end{aligned}\n    \\\\]\n    where: \n    \\\\[\n    \\begin{aligned}\n    & & A = \\begin{bmatrix}\n1.000 & 1.000 & -1.000 & 0.000 \\\\\n1.000 & -2.000 & 0.000 & 1.000 \\\\\n\\end{bmatrix} \\\\\n    & & B = \\begin{bmatrix}\n4.000\\\\\n0.000\n\\end{bmatrix} \\\\\n    & & C^{T} = \\begin{bmatrix}\n2.000 & 1.000 & 0.000 & 0.000\n\\end{bmatrix} \\\\\n    & & X = \\begin{bmatrix}\nX_{0}\\\\\nX_{1}\\\\\nX_{2}\\\\\nX_{3}\n\\end{bmatrix} \\\\\n    & & L = [ 2.00,\\ 1.00,\\ 0.00,\\ 0.00,\\ 0.00 ] \\\\\n    & & U = [ ∞,\\ ∞,\\ ∞,\\ ∞,\\ ∞ ]\n    \\end{aligned}\n    \\\\]\n\nSolution Type: Optimal unique solution\n\nOptimal Solution: \\\\(X^{*} = [ 2.00,\\ 2.00,\\ 0.00,\\ 2.00 ]\\\\)\n\nOptimal Value: \\\\(Z^{*} = 6.00\\\\)\n\nOptimal Basis: \\\\([1, 3]\\\\)\n\nFinal non-basic variables set at lower bounds \\\\(J_1\\\\): \\\\([0, 2]\\\\)\n\nFinal non-basic variables set at upper bounds \\\\(J_2\\\\): \\\\([]\\\\)\n\n\\\\(\\hat{C}_{J_1}\\\\): \\\\([-0.9999999999999998, -1.0]\\\\)\n\n\\\\(\\hat{C}_{J_2}\\\\): \\\\([]\\\\)\n\nNumber of Iterations: 3\n\n"
          },
          "metadata": {}
        }
      ],
      "execution_count": 38
    },
    {
      "cell_type": "markdown",
      "source": "## Comparison with scipy",
      "metadata": {}
    },
    {
      "cell_type": "code",
      "source": "scipy_bounds = [\n    (lb, ub) for lb, ub in zip(lower_bounds[:-1], upper_bounds[:-1])\n]\nresult = linprog(c, A_eq=A, b_eq=b, bounds=scipy_bounds, method='highs')\ndisplay(result['fun'])\ndisplay(result['x'])",
      "metadata": {
        "trusted": true
      },
      "outputs": [
        {
          "output_type": "display_data",
          "data": {
            "text/plain": "6.0"
          },
          "metadata": {}
        },
        {
          "output_type": "display_data",
          "data": {
            "text/plain": "array([2., 2., 0., 2.])"
          },
          "metadata": {}
        }
      ],
      "execution_count": 39
    },
    {
      "cell_type": "markdown",
      "source": "# 5.30\n## Problema Artificial",
      "metadata": {}
    },
    {
      "cell_type": "code",
      "source": "A_artificial = np.array([\n    [8, 4, 4, -1, 0, 0, 1],\n    [4, 2, 4, 0, -1, 0, 0],\n    [2, 3, 4, 0, 0, -1, 0]\n])\nA = A_artificial[:, :-1]\nc = np.array([\n    0.15, 0.08, 0.05, 0, 0, 0\n])\nc_artificial = np.array(\n    [0] * 6 + [1] * 1\n)\n# Termos independentes B\nb = np.array([\n    10,\n    6,\n    5\n])\n# limites inferiores\nlower_bounds = np.array([0] * 7)\n# limites superiores\nupper_bounds = np.array([np.inf] * 7)\n\nI_artificial = [6, 0, 1]\nJ_1_artificial = [2, 3, 4, 5]\nJ_2_artificial = []\n\nz_star, x_star, I_star, solution_type, iterations, tableau_steps = simplex(\n    A_artificial,\n    b,\n    c_artificial,\n    I_artificial,\n    J_1_artificial,\n    J_2_artificial,\n    lower_bounds,\n    upper_bounds\n)\nresult_md = markdown_repr_T(tableau_steps)\ndisplay(\n    Markdown(\n        result_md\n    )\n)",
      "metadata": {
        "trusted": true
      },
      "outputs": [
        {
          "output_type": "display_data",
          "data": {
            "text/plain": "<IPython.core.display.Markdown object>",
            "text/markdown": "\n\n## Iteration 1\n\nPrevious Tableau:\n\n|   |\\\\(X_{0}\\\\) | \\\\(X_{1}\\\\) | \\\\(X_{2}\\\\) | \\\\(X_{3}\\\\) | \\\\(X_{4}\\\\) | \\\\(X_{5}\\\\) | \\\\(X_{6}\\\\) | RHS |\n|---|---|---|---|---|---|---|---|---|\n| Cost | 0.000 | 0.000 | -4.000 | -1.000 | 2.000 | 0.000 | 0.000 | -2.000 |\n| \\\\(X_{6}\\\\) | 0.000 | 0.000 | -4.000 | -1.000 | 2.000 | 0.000 | 1.000 | -2.000 |\n| \\\\(X_{0}\\\\) | 1.000 | 0.000 | 0.500 | 0.000 | -0.375 | 0.250 | 0.000 | 1.000 |\n| \\\\(X_{1}\\\\) | 0.000 | 1.000 | 1.000 | 0.000 | 0.250 | -0.500 | 0.000 | 1.000 |\n### Pivot Operations\n\nVariable to enter: \\\\(4\\\\)\nVariable to leave: \\\\(6\\\\)\n#### Row Operations:\n\n1. \\\\(R_{X_{6}} \\leftarrow \\frac{R_{X_{6}}}{2.000}\\\\)\n1. \\\\(R_{\\text{{Cost}}} \\leftarrow R_{\\text{{Cost}}} - 2.000R_{6}\\\\)\n2. \\\\(R_{X_{0}} \\leftarrow R_{X_{0}} + 0.375R_{6}\\\\)\n3. \\\\(R_{X_{1}} \\leftarrow R_{X_{1}} - 0.250R_{6}\\\\)\n\n\nComputed Tableau:\n\n|   |\\\\(X_{0}\\\\) | \\\\(X_{1}\\\\) | \\\\(X_{2}\\\\) | \\\\(X_{3}\\\\) | \\\\(X_{4}\\\\) | \\\\(X_{5}\\\\) | \\\\(X_{6}\\\\) | RHS |\n|---|---|---|---|---|---|---|---|---|\n| Cost | 0.000 | 0.000 | 0.000 | 0.000 | 0.000 | 0.000 | -1.000 | 0.000 |\n| \\\\(X_{4}\\\\) | 0.000 | 0.000 | -2.000 | -0.500 | 1.000 | 0.000 | 0.500 | -1.000 |\n| \\\\(X_{0}\\\\) | 1.000 | 0.000 | -0.250 | -0.188 | 0.000 | 0.250 | 0.188 | 0.625 |\n| \\\\(X_{1}\\\\) | 0.000 | 1.000 | 1.500 | 0.125 | 0.000 | -0.500 | -0.125 | 1.250 |\n\n\n\\\\(J_1\\\\) (lower bounds variables): [2, 3, 6, 5]\n\n\n\\\\(J_2\\\\) (upper bounds variables): []\n\n\n\n## Iteration 2\n\nPrevious Tableau:\n\n|   |\\\\(X_{0}\\\\) | \\\\(X_{1}\\\\) | \\\\(X_{2}\\\\) | \\\\(X_{3}\\\\) | \\\\(X_{4}\\\\) | \\\\(X_{5}\\\\) | \\\\(X_{6}\\\\) | RHS |\n|---|---|---|---|---|---|---|---|---|\n| Cost | 0.000 | 0.000 | 0.000 | 0.000 | 0.000 | 0.000 | -1.000 | 0.000 |\n| \\\\(X_{4}\\\\) | 0.000 | 0.000 | -2.000 | -0.500 | 1.000 | 0.000 | 0.500 | -1.000 |\n| \\\\(X_{0}\\\\) | 1.000 | 0.000 | -0.250 | -0.188 | 0.000 | 0.250 | 0.188 | 0.625 |\n| \\\\(X_{1}\\\\) | 0.000 | 1.000 | 1.500 | 0.125 | 0.000 | -0.500 | -0.125 | 1.250 |\n### Pivot Operations\n\nVariable to enter: \\\\(None\\\\)\nVariable to leave: \\\\(None\\\\)\n#### Row Operations:\n\n1. \n\n\nComputed Tableau:\n\n|   |\\\\(X_{0}\\\\) | \\\\(X_{1}\\\\) | \\\\(X_{2}\\\\) | \\\\(X_{3}\\\\) | \\\\(X_{4}\\\\) | \\\\(X_{5}\\\\) | \\\\(X_{6}\\\\) | RHS |\n|---|---|---|---|---|---|---|---|---|\n| Cost | 0.000 | 0.000 | 0.000 | 0.000 | 0.000 | 0.000 | -1.000 | 0.000 |\n| \\\\(X_{4}\\\\) | 0.000 | 0.000 | -2.000 | -0.500 | 1.000 | 0.000 | 0.500 | -1.000 |\n| \\\\(X_{0}\\\\) | 1.000 | 0.000 | -0.250 | -0.188 | 0.000 | 0.250 | 0.188 | 0.625 |\n| \\\\(X_{1}\\\\) | 0.000 | 1.000 | 1.500 | 0.125 | 0.000 | -0.500 | -0.125 | 1.250 |\n\n\n\\\\(J_1\\\\) (lower bounds variables): [2, 3, 6, 5]\n\n\n\\\\(J_2\\\\) (upper bounds variables): []\n\n\n\n## Solution for \n\n\\\\[\n    \\begin{aligned}\n    & \\text{Minimize} & C^{T} \\cdot X \\\\\n    & \\text{Subject to} & A \\cdot X & = B \\\\\n    & & L \\leq  X  \\leq U &\n    \\end{aligned}\n    \\\\]\n    where: \n    \\\\[\n    \\begin{aligned}\n    & & A = \\begin{bmatrix}\n8.000 & 4.000 & 4.000 & -1.000 & 0.000 & 0.000 & 1.000 \\\\\n4.000 & 2.000 & 4.000 & 0.000 & -1.000 & 0.000 & 0.000 \\\\\n2.000 & 3.000 & 4.000 & 0.000 & 0.000 & -1.000 & 0.000 \\\\\n\\end{bmatrix} \\\\\n    & & B = \\begin{bmatrix}\n10.000\\\\\n6.000\\\\\n5.000\n\\end{bmatrix} \\\\\n    & & C^{T} = \\begin{bmatrix}\n0.000 & 0.000 & 0.000 & 0.000 & 0.000 & 0.000 & 1.000\n\\end{bmatrix} \\\\\n    & & X = \\begin{bmatrix}\nX_{0}\\\\\nX_{1}\\\\\nX_{2}\\\\\nX_{3}\\\\\nX_{4}\\\\\nX_{5}\\\\\nX_{6}\n\\end{bmatrix} \\\\\n    & & L = [ 0.00,\\ 0.00,\\ 0.00,\\ 0.00,\\ 0.00,\\ 0.00,\\ 0.00 ] \\\\\n    & & U = [ ∞,\\ ∞,\\ ∞,\\ ∞,\\ ∞,\\ ∞,\\ ∞ ]\n    \\end{aligned}\n    \\\\]\n\nSolution Type: Optimal multiple solutions\n\nOptimal Solution: \\\\(X^{*} = [ 0.62,\\ 1.25,\\ 0.00,\\ 0.00,\\ -1.00,\\ 0.00,\\ 0.00 ]\\\\)\n\nOptimal Value: \\\\(Z^{*} = 0.00\\\\)\n\nOptimal Basis: \\\\([4, 0, 1]\\\\)\n\nFinal non-basic variables set at lower bounds \\\\(J_1\\\\): \\\\([2, 3, 6, 5]\\\\)\n\nFinal non-basic variables set at upper bounds \\\\(J_2\\\\): \\\\([]\\\\)\n\n\\\\(\\hat{C}_{J_1}\\\\): \\\\([0.0, 0.0, -1.0, 0.0]\\\\)\n\n\\\\(\\hat{C}_{J_2}\\\\): \\\\([]\\\\)\n\nNumber of Iterations: 3\n\n"
          },
          "metadata": {}
        }
      ],
      "execution_count": 42
    },
    {
      "cell_type": "markdown",
      "source": "## Problema Original",
      "metadata": {}
    },
    {
      "cell_type": "code",
      "source": "z_star, x_star, I_star, solution_type, iterations, tableau_steps = simplex(\n    A,\n    b,\n    c,\n    [4, 0, 1],\n    [2, 3, 5],\n    [],\n    lower_bounds,\n    upper_bounds\n)\nresult_md = markdown_repr_T(tableau_steps)\ndisplay(\n    Markdown(\n        result_md\n    )\n)",
      "metadata": {
        "trusted": true
      },
      "outputs": [
        {
          "output_type": "display_data",
          "data": {
            "text/plain": "<IPython.core.display.Markdown object>",
            "text/markdown": "\n\n## Iteration 1\n\nPrevious Tableau:\n\n|   |\\\\(X_{0}\\\\) | \\\\(X_{1}\\\\) | \\\\(X_{2}\\\\) | \\\\(X_{3}\\\\) | \\\\(X_{4}\\\\) | \\\\(X_{5}\\\\) | RHS |\n|---|---|---|---|---|---|---|---|\n| Cost | 0.000 | 0.000 | 0.032 | -0.018 | 0.000 | -0.003 | 0.194 |\n| \\\\(X_{4}\\\\) | 0.000 | 0.000 | -2.000 | -0.500 | 1.000 | 0.000 | -1.000 |\n| \\\\(X_{0}\\\\) | 1.000 | 0.000 | -0.250 | -0.188 | 0.000 | 0.250 | 0.625 |\n| \\\\(X_{1}\\\\) | 0.000 | 1.000 | 1.500 | 0.125 | 0.000 | -0.500 | 1.250 |\n### Pivot Operations\n\nVariable to enter: \\\\(2\\\\)\nVariable to leave: \\\\(1\\\\)\n#### Row Operations:\n\n1. \\\\(R_{X_{1}} \\leftarrow \\frac{R_{X_{1}}}{1.500}\\\\)\n1. \\\\(R_{\\text{{Cost}}} \\leftarrow R_{\\text{{Cost}}} - 0.032R_{1}\\\\)\n2. \\\\(R_{X_{4}} \\leftarrow R_{X_{4}} + 2.000R_{1}\\\\)\n3. \\\\(R_{X_{0}} \\leftarrow R_{X_{0}} + 0.250R_{1}\\\\)\n\n\nComputed Tableau:\n\n|   |\\\\(X_{0}\\\\) | \\\\(X_{1}\\\\) | \\\\(X_{2}\\\\) | \\\\(X_{3}\\\\) | \\\\(X_{4}\\\\) | \\\\(X_{5}\\\\) | RHS |\n|---|---|---|---|---|---|---|---|\n| Cost | 0.000 | -0.022 | 0.000 | -0.021 | 0.000 | 0.008 | 0.167 |\n| \\\\(X_{4}\\\\) | 0.000 | 1.333 | 0.000 | -0.333 | 1.000 | -0.667 | 0.667 |\n| \\\\(X_{0}\\\\) | 1.000 | 0.167 | 0.000 | -0.167 | 0.000 | 0.167 | 0.833 |\n| \\\\(X_{2}\\\\) | 0.000 | 0.667 | 1.000 | 0.083 | 0.000 | -0.333 | 0.833 |\n\n\n\\\\(J_1\\\\) (lower bounds variables): [1, 3, 5]\n\n\n\\\\(J_2\\\\) (upper bounds variables): []\n\n\n\n## Iteration 2\n\nPrevious Tableau:\n\n|   |\\\\(X_{0}\\\\) | \\\\(X_{1}\\\\) | \\\\(X_{2}\\\\) | \\\\(X_{3}\\\\) | \\\\(X_{4}\\\\) | \\\\(X_{5}\\\\) | RHS |\n|---|---|---|---|---|---|---|---|\n| Cost | 0.000 | -0.022 | 0.000 | -0.021 | 0.000 | 0.008 | 0.167 |\n| \\\\(X_{4}\\\\) | 0.000 | 1.333 | 0.000 | -0.333 | 1.000 | -0.667 | 0.667 |\n| \\\\(X_{0}\\\\) | 1.000 | 0.167 | 0.000 | -0.167 | 0.000 | 0.167 | 0.833 |\n| \\\\(X_{2}\\\\) | 0.000 | 0.667 | 1.000 | 0.083 | 0.000 | -0.333 | 0.833 |\n### Pivot Operations\n\nVariable to enter: \\\\(5\\\\)\nVariable to leave: \\\\(0\\\\)\n#### Row Operations:\n\n1. \\\\(R_{X_{0}} \\leftarrow \\frac{R_{X_{0}}}{0.167}\\\\)\n1. \\\\(R_{\\text{{Cost}}} \\leftarrow R_{\\text{{Cost}}} - 0.008R_{0}\\\\)\n2. \\\\(R_{X_{4}} \\leftarrow R_{X_{4}} + 0.667R_{0}\\\\)\n3. \\\\(R_{X_{2}} \\leftarrow R_{X_{2}} + 0.333R_{0}\\\\)\n\n\nComputed Tableau:\n\n|   |\\\\(X_{0}\\\\) | \\\\(X_{1}\\\\) | \\\\(X_{2}\\\\) | \\\\(X_{3}\\\\) | \\\\(X_{4}\\\\) | \\\\(X_{5}\\\\) | RHS |\n|---|---|---|---|---|---|---|---|\n| Cost | -0.050 | -0.030 | 0.000 | -0.013 | 0.000 | 0.000 | 0.125 |\n| \\\\(X_{4}\\\\) | 4.000 | 2.000 | 0.000 | -1.000 | 1.000 | 0.000 | 4.000 |\n| \\\\(X_{5}\\\\) | 6.000 | 1.000 | 0.000 | -1.000 | 0.000 | 1.000 | 5.000 |\n| \\\\(X_{2}\\\\) | 2.000 | 1.000 | 1.000 | -0.250 | 0.000 | 0.000 | 2.500 |\n\n\n\\\\(J_1\\\\) (lower bounds variables): [1, 3, 0]\n\n\n\\\\(J_2\\\\) (upper bounds variables): []\n\n\n\n## Iteration 3\n\nPrevious Tableau:\n\n|   |\\\\(X_{0}\\\\) | \\\\(X_{1}\\\\) | \\\\(X_{2}\\\\) | \\\\(X_{3}\\\\) | \\\\(X_{4}\\\\) | \\\\(X_{5}\\\\) | RHS |\n|---|---|---|---|---|---|---|---|\n| Cost | -0.050 | -0.030 | 0.000 | -0.013 | 0.000 | 0.000 | 0.125 |\n| \\\\(X_{4}\\\\) | 4.000 | 2.000 | 0.000 | -1.000 | 1.000 | 0.000 | 4.000 |\n| \\\\(X_{5}\\\\) | 6.000 | 1.000 | 0.000 | -1.000 | 0.000 | 1.000 | 5.000 |\n| \\\\(X_{2}\\\\) | 2.000 | 1.000 | 1.000 | -0.250 | 0.000 | 0.000 | 2.500 |\n### Pivot Operations\n\nVariable to enter: \\\\(None\\\\)\nVariable to leave: \\\\(None\\\\)\n#### Row Operations:\n\n1. \n\n\nComputed Tableau:\n\n|   |\\\\(X_{0}\\\\) | \\\\(X_{1}\\\\) | \\\\(X_{2}\\\\) | \\\\(X_{3}\\\\) | \\\\(X_{4}\\\\) | \\\\(X_{5}\\\\) | RHS |\n|---|---|---|---|---|---|---|---|\n| Cost | -0.050 | -0.030 | 0.000 | -0.013 | 0.000 | 0.000 | 0.125 |\n| \\\\(X_{4}\\\\) | 4.000 | 2.000 | 0.000 | -1.000 | 1.000 | 0.000 | 4.000 |\n| \\\\(X_{5}\\\\) | 6.000 | 1.000 | 0.000 | -1.000 | 0.000 | 1.000 | 5.000 |\n| \\\\(X_{2}\\\\) | 2.000 | 1.000 | 1.000 | -0.250 | 0.000 | 0.000 | 2.500 |\n\n\n\\\\(J_1\\\\) (lower bounds variables): [1, 3, 0]\n\n\n\\\\(J_2\\\\) (upper bounds variables): []\n\n\n\n## Solution for \n\n\\\\[\n    \\begin{aligned}\n    & \\text{Minimize} & C^{T} \\cdot X \\\\\n    & \\text{Subject to} & A \\cdot X & = B \\\\\n    & & L \\leq  X  \\leq U &\n    \\end{aligned}\n    \\\\]\n    where: \n    \\\\[\n    \\begin{aligned}\n    & & A = \\begin{bmatrix}\n8.000 & 4.000 & 4.000 & -1.000 & 0.000 & 0.000 \\\\\n4.000 & 2.000 & 4.000 & 0.000 & -1.000 & 0.000 \\\\\n2.000 & 3.000 & 4.000 & 0.000 & 0.000 & -1.000 \\\\\n\\end{bmatrix} \\\\\n    & & B = \\begin{bmatrix}\n10.000\\\\\n6.000\\\\\n5.000\n\\end{bmatrix} \\\\\n    & & C^{T} = \\begin{bmatrix}\n0.150 & 0.080 & 0.050 & 0.000 & 0.000 & 0.000\n\\end{bmatrix} \\\\\n    & & X = \\begin{bmatrix}\nX_{0}\\\\\nX_{1}\\\\\nX_{2}\\\\\nX_{3}\\\\\nX_{4}\\\\\nX_{5}\n\\end{bmatrix} \\\\\n    & & L = [ 0.00,\\ 0.00,\\ 0.00,\\ 0.00,\\ 0.00,\\ 0.00,\\ 0.00 ] \\\\\n    & & U = [ ∞,\\ ∞,\\ ∞,\\ ∞,\\ ∞,\\ ∞,\\ ∞ ]\n    \\end{aligned}\n    \\\\]\n\nSolution Type: Optimal unique solution\n\nOptimal Solution: \\\\(X^{*} = [ 0.00,\\ 0.00,\\ 2.50,\\ 0.00,\\ 4.00,\\ 5.00 ]\\\\)\n\nOptimal Value: \\\\(Z^{*} = 0.13\\\\)\n\nOptimal Basis: \\\\([4, 5, 2]\\\\)\n\nFinal non-basic variables set at lower bounds \\\\(J_1\\\\): \\\\([1, 3, 0]\\\\)\n\nFinal non-basic variables set at upper bounds \\\\(J_2\\\\): \\\\([]\\\\)\n\n\\\\(\\hat{C}_{J_1}\\\\): \\\\([-0.02999999999999998, -0.012500000000000004, -0.04999999999999995]\\\\)\n\n\\\\(\\hat{C}_{J_2}\\\\): \\\\([]\\\\)\n\nNumber of Iterations: 4\n\n"
          },
          "metadata": {}
        }
      ],
      "execution_count": 43
    },
    {
      "cell_type": "markdown",
      "source": "## Comparison with scipy",
      "metadata": {}
    },
    {
      "cell_type": "code",
      "source": "scipy_bounds = [\n    (lb, ub) for lb, ub in zip(lower_bounds[:-1], upper_bounds[:-1])\n]\nresult = linprog(c, A_eq=A, b_eq=b, bounds=scipy_bounds, method='highs')\ndisplay(result['fun'])\ndisplay(result['x'])",
      "metadata": {
        "trusted": true
      },
      "outputs": [
        {
          "output_type": "display_data",
          "data": {
            "text/plain": "0.125"
          },
          "metadata": {}
        },
        {
          "output_type": "display_data",
          "data": {
            "text/plain": "array([0. , 0. , 2.5, 0. , 4. , 5. ])"
          },
          "metadata": {}
        }
      ],
      "execution_count": 44
    },
    {
      "cell_type": "markdown",
      "source": "# 5.31",
      "metadata": {}
    },
    {
      "cell_type": "markdown",
      "source": "## Problema Original",
      "metadata": {}
    },
    {
      "cell_type": "code",
      "source": "z_star, x_star, I_star, solution_type, iterations, tableau_steps = simplex(\n    np.array([\n        [1,  1, 1, 0],\n        [3, -5, 0, 1]\n    ]),\n    np.array([\n        4,\n        2\n    ]),\n    np.array([\n        3, -4, 0, 0\n    ]),\n    [2, 3],\n    [0, 1],\n    [],\n    np.array([0] * 4),\n    np.array([np.inf] * 2 + [1, 17])\n)\nresult_md = markdown_repr_T(tableau_steps)\ndisplay(\n    Markdown(\n        result_md\n    )\n)",
      "metadata": {
        "trusted": true
      },
      "outputs": [
        {
          "output_type": "display_data",
          "data": {
            "text/plain": "<IPython.core.display.Markdown object>",
            "text/markdown": "\n\n## Iteration 1\n\nPrevious Tableau:\n\n|   |\\\\(X_{0}\\\\) | \\\\(X_{1}\\\\) | \\\\(X_{2}\\\\) | \\\\(X_{3}\\\\) | RHS |\n|---|---|---|---|---|---|\n| Cost | -3.000 | 4.000 | 0.000 | 0.000 | 0.000 |\n| \\\\(X_{2}\\\\) | 1.000 | 1.000 | 1.000 | 0.000 | 4.000 |\n| \\\\(X_{3}\\\\) | 3.000 | -5.000 | 0.000 | 1.000 | 2.000 |\n### Pivot Operations\n\nVariable to enter: \\\\(1\\\\)\nVariable to leave: \\\\(3\\\\)\n#### Row Operations:\n\n1. \\\\(R_{X_{3}} \\leftarrow \\frac{R_{X_{3}}}{-5.000}\\\\)\n1. \\\\(R_{\\text{{Cost}}} \\leftarrow R_{\\text{{Cost}}} - 4.000R_{3}\\\\)\n2. \\\\(R_{X_{2}} \\leftarrow R_{X_{2}} - 1.000R_{3}\\\\)\n\n\nComputed Tableau:\n\n|   |\\\\(X_{0}\\\\) | \\\\(X_{1}\\\\) | \\\\(X_{2}\\\\) | \\\\(X_{3}\\\\) | RHS |\n|---|---|---|---|---|---|\n| Cost | -0.600 | 0.000 | 0.000 | 0.800 | -12.000 |\n| \\\\(X_{2}\\\\) | 1.600 | 0.000 | 1.000 | 0.200 | 1.000 |\n| \\\\(X_{1}\\\\) | -0.600 | 1.000 | -0.000 | -0.200 | 3.000 |\n\n\n\\\\(J_1\\\\) (lower bounds variables): [0]\n\n\n\\\\(J_2\\\\) (upper bounds variables): [3]\n\n\n\n## Iteration 2\n\nPrevious Tableau:\n\n|   |\\\\(X_{0}\\\\) | \\\\(X_{1}\\\\) | \\\\(X_{2}\\\\) | \\\\(X_{3}\\\\) | RHS |\n|---|---|---|---|---|---|\n| Cost | -0.600 | 0.000 | 0.000 | 0.800 | -12.000 |\n| \\\\(X_{2}\\\\) | 1.600 | 0.000 | 1.000 | 0.200 | 1.000 |\n| \\\\(X_{1}\\\\) | -0.600 | 1.000 | -0.000 | -0.200 | 3.000 |\n### Pivot Operations\n\nVariable to enter: \\\\(None\\\\)\nVariable to leave: \\\\(None\\\\)\n#### Row Operations:\n\n1. \n\n\nComputed Tableau:\n\n|   |\\\\(X_{0}\\\\) | \\\\(X_{1}\\\\) | \\\\(X_{2}\\\\) | \\\\(X_{3}\\\\) | RHS |\n|---|---|---|---|---|---|\n| Cost | -0.600 | 0.000 | 0.000 | 0.800 | -12.000 |\n| \\\\(X_{2}\\\\) | 1.600 | 0.000 | 1.000 | 0.200 | 1.000 |\n| \\\\(X_{1}\\\\) | -0.600 | 1.000 | -0.000 | -0.200 | 3.000 |\n\n\n\\\\(J_1\\\\) (lower bounds variables): [0]\n\n\n\\\\(J_2\\\\) (upper bounds variables): [3]\n\n\n\n## Solution for \n\n\\\\[\n    \\begin{aligned}\n    & \\text{Minimize} & C^{T} \\cdot X \\\\\n    & \\text{Subject to} & A \\cdot X & = B \\\\\n    & & L \\leq  X  \\leq U &\n    \\end{aligned}\n    \\\\]\n    where: \n    \\\\[\n    \\begin{aligned}\n    & & A = \\begin{bmatrix}\n1.000 & 1.000 & 1.000 & 0.000 \\\\\n3.000 & -5.000 & 0.000 & 1.000 \\\\\n\\end{bmatrix} \\\\\n    & & B = \\begin{bmatrix}\n4.000\\\\\n2.000\n\\end{bmatrix} \\\\\n    & & C^{T} = \\begin{bmatrix}\n3.000 & -4.000 & 0.000 & 0.000\n\\end{bmatrix} \\\\\n    & & X = \\begin{bmatrix}\nX_{0}\\\\\nX_{1}\\\\\nX_{2}\\\\\nX_{3}\n\\end{bmatrix} \\\\\n    & & L = [ 0.00,\\ 0.00,\\ 0.00,\\ 0.00 ] \\\\\n    & & U = [ ∞,\\ ∞,\\ 1.00,\\ 17.00 ]\n    \\end{aligned}\n    \\\\]\n\nSolution Type: Optimal unique solution\n\nOptimal Solution: \\\\(X^{*} = [ 0.00,\\ 3.00,\\ 1.00,\\ 17.00 ]\\\\)\n\nOptimal Value: \\\\(Z^{*} = -12.00\\\\)\n\nOptimal Basis: \\\\([2, 1]\\\\)\n\nFinal non-basic variables set at lower bounds \\\\(J_1\\\\): \\\\([0]\\\\)\n\nFinal non-basic variables set at upper bounds \\\\(J_2\\\\): \\\\([3]\\\\)\n\n\\\\(\\hat{C}_{J_1}\\\\): \\\\([-0.6000000000000001]\\\\)\n\n\\\\(\\hat{C}_{J_2}\\\\): \\\\([0.8]\\\\)\n\nNumber of Iterations: 3\n\n"
          },
          "metadata": {}
        }
      ],
      "execution_count": 45
    },
    {
      "cell_type": "markdown",
      "source": "## Comparison with scipy",
      "metadata": {}
    },
    {
      "cell_type": "code",
      "source": "A, b, c = (\n    np.array([\n        [1,  1, 1, 0],\n        [3, -5, 0, 1]\n    ]),\n    np.array([\n        4,\n        2\n    ]),\n    np.array([\n        3, -4, 0, 0\n    ])\n)\n\nlower_bounds, upper_bounds = (\n    np.array([0] * 4),\n    np.array([np.inf] * 2 + [1, 17])\n)\n\nscipy_bounds = [\n    (lb, ub) for lb, ub in zip(lower_bounds, upper_bounds)\n]\nresult = linprog(c, A_eq=A, b_eq=b, bounds=scipy_bounds, method='highs')\ndisplay(result['fun'])\ndisplay(result['x'])",
      "metadata": {
        "trusted": true
      },
      "outputs": [
        {
          "output_type": "display_data",
          "data": {
            "text/plain": "-12.0"
          },
          "metadata": {}
        },
        {
          "output_type": "display_data",
          "data": {
            "text/plain": "array([ 0.,  3.,  1., 17.])"
          },
          "metadata": {}
        }
      ],
      "execution_count": 49
    }
  ]
}