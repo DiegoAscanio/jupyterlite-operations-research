{
  "metadata": {
    "kernelspec": {
      "name": "python",
      "display_name": "Python (Pyodide)",
      "language": "python"
    },
    "language_info": {
      "codemirror_mode": {
        "name": "python",
        "version": 3
      },
      "file_extension": ".py",
      "mimetype": "text/x-python",
      "name": "python",
      "nbconvert_exporter": "python",
      "pygments_lexer": "ipython3",
      "version": "3.8"
    }
  },
  "nbformat_minor": 4,
  "nbformat": 4,
  "cells": [
    {
      "cell_type": "code",
      "source": "%pip install numpy scipy\nfrom simplex_bounded_variables import *",
      "metadata": {
        "trusted": true
      },
      "outputs": [],
      "execution_count": null
    },
    {
      "cell_type": "markdown",
      "source": "# Exercício 5.12",
      "metadata": {}
    },
    {
      "cell_type": "code",
      "source": "A =  np.array([\n        [ 2, -1,  1, -2, 1, 0,  0],\n        [-1,  2, -1,  1, 0, 1,  0],\n        [ 2,  1, -1,  0, 0, 0, -1]\n])\nb = np.array([\n        6,\n        8,\n        2\n])\nc = np.array([\n        1, 2, 3, -1, 0, 0, 0\n])\n\nlower_bounds = np.array([0, 1, 0, 2, 0, 0, 0])\nupper_bounds = np.array([3, 4, 8, 5, np.inf, np.inf, np.inf])\nI = [4, 5, 1]\nJ_1 = [0, 6, 2, 3]\nJ_2 = []\n_simplex_main_loop(A, b, c, I, J_1, J_2, lower_bounds, upper_bounds)",
      "metadata": {
        "trusted": true
      },
      "outputs": [],
      "execution_count": null
    }
  ]
}