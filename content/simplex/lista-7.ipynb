{
  "metadata": {
    "kernelspec": {
      "name": "python",
      "display_name": "Python (Pyodide)",
      "language": "python"
    },
    "language_info": {
      "codemirror_mode": {
        "name": "python",
        "version": 3
      },
      "file_extension": ".py",
      "mimetype": "text/x-python",
      "name": "python",
      "nbconvert_exporter": "python",
      "pygments_lexer": "ipython3",
      "version": "3.8"
    }
  },
  "nbformat_minor": 4,
  "nbformat": 4,
  "cells": [
    {
      "cell_type": "code",
      "source": "%pip install numpy scipy\nfrom IPython.display import Markdown\nfrom scipy.optimize import linprog\nfrom simplex_bounded_variables import *\n%load_ext autoreload\n%autoreload 2\n\n# definindo A, B, c, I, J_1, J_2, lower e upper_bounds para cada\n# problema da lista\n\nproblems = {\n    '5.12': {\n        'A': np.array([\n            [ 2, -1,  1, -2, 1, 0,  0],\n            [-1,  2, -1,  1, 0, 1,  0],\n            [ 2,  1, -1,  0, 0, 0, -1]\n        ]),\n        'b': np.array([\n            6,\n            8,\n            2\n        ]),\n        'c': np.array([\n            1, 2, 3, -1, 0, 0, 0\n        ]),\n        'lower_bounds': np.array([0, 1, 0, 2, 0, 0, 0]),\n        'upper_bounds': np.array([3, 4, 8, 5, np.inf, np.inf, np.inf]),\n        'I': [4, 5, 1],\n        'J_1': [0, 6, 2, 3],\n        'J_2': []\n    },\n    '5.13': {\n        'A': np.array([\n            [ 3, 1, 1, 1, 0, 0],\n            [-1, 1, 0, 0, 1, 0],\n            [ 0, 1, 2, 0, 0, 1]\n        ]),\n        'b': np.array([\n            12,\n            4,\n            8\n        ]),\n        'c': np.array([\n            -2, -1, -3, 0, 0, 0\n        ]),\n        'lower_bounds': np.array([0, 0, 0, 0, 0, 0]),\n        'upper_bounds': np.array([3, 5, 4, np.inf, np.inf, np.inf]),\n        'I': [3, 4, 5],\n        'J_1': [0, 1, 2],\n        'J_2': []\n    },\n    '5.14': {\n        'A': np.array([\n            [1, 3,  1, 1,  0],\n            [2, 1, -1, 0, -1]\n        ]),\n        'b': np.array([\n            8,\n            3\n        ]),\n        'c': np.array([\n            -2, -3, 2, 0, 0\n        ]),\n        'lower_bounds': np.array([-np.inf, -2, 2, 0, 0]),\n        'upper_bounds': np.array([4, 3, np.inf, np.inf, np.inf]),\n        'I': [3, 0],\n        'J_1': [1, 2, 4],\n        'J_2': []\n    },\n    '5.15': {\n        'A': np.array([\n           [ 0,  1,  0,  0,  0,  1,  0,  0,  0, -1,  0,  0],\n           [ 1,  0,  0,  0,  0, -1,  0,  0,  0,  0,  0,  0],\n           [ 0,  0,  1,  0,  0,  0,  1,  0,  0,  0, -1,  0],\n           [ 0,  1,  0,  0,  0,  1, -1,  0,  0,  0,  0,  0],\n           [ 0,  0,  0,  1,  1,  0,  0,  1,  0,  0,  0, -1],\n           [ 0,  0,  1,  0,  0,  0,  1, -1,  0,  0,  0,  0],\n           [ 0,  0,  0,  1,  1,  0,  0,  1, -1,  0,  0,  0]\n        ]),\n        'b': np.array([\n            600,\n            250,\n            800,\n            600,\n            1200,\n            800,\n            1300\n        ]),\n        'c': np.array([\n            30, 30, 30, 30, 35, 5, 5, 5, 5, 0, 0, 0\n        ]),\n        'lower_bounds': np.array([\n            250, 0, 0, 0, 0, 0, 0, 0, 100, 0, 0, 0\n        ]),\n        'upper_bounds': np.array([\n            600, 600, 600, 600, 1200, 350, 400, 400, 400, np.inf, np.inf, np.inf\n        ]),\n        'I': [],\n        'J_1': [],\n        'J_2': []\n    }\n}",
      "metadata": {
        "trusted": true
      },
      "outputs": [],
      "execution_count": 1
    },
    {
      "cell_type": "markdown",
      "source": "# Exercício 5.12",
      "metadata": {}
    },
    {
      "cell_type": "code",
      "source": "# definindo A, B, c, I, J_1, J_2, lower_bounds, upper_bounds para o prooblema\n# 5.12\nindex = '5.12'\nfor key in problems[index].keys():\n    locals()[key] = problems[index][key]\n# resolvendo o problema\nz_star, x_star, I_star, solution_type, iterations, tableau_steps = simplex(A, b, c, I, J_1, J_2, lower_bounds, upper_bounds)\nresult_md = markdown_repr_T(tableau_steps)\ndisplay(\n    Markdown(\n        result_md\n    )\n)",
      "metadata": {
        "trusted": true
      },
      "outputs": [
        {
          "output_type": "display_data",
          "data": {
            "text/plain": "<IPython.core.display.Markdown object>",
            "text/markdown": "\n\n## Iteration 1\n\nPrevious Tableau:\n\n|   |\\\\(X_{0}\\\\) | \\\\(X_{1}\\\\) | \\\\(X_{2}\\\\) | \\\\(X_{3}\\\\) | \\\\(X_{4}\\\\) | \\\\(X_{5}\\\\) | \\\\(X_{6}\\\\) | RHS |\n|---|---|---|---|---|---|---|---|---|\n| Cost | 3.000 | 0.000 | -5.000 | 1.000 | 0.000 | 0.000 | -2.000 | 2.000 |\n| \\\\(X_{4}\\\\) | 4.000 | 0.000 | 0.000 | -2.000 | 1.000 | 0.000 | -1.000 | 12.000 |\n| \\\\(X_{5}\\\\) | -5.000 | 0.000 | 1.000 | 1.000 | 0.000 | 1.000 | 2.000 | 2.000 |\n| \\\\(X_{1}\\\\) | 2.000 | 1.000 | -1.000 | 0.000 | 0.000 | 0.000 | -1.000 | 2.000 |\n### Pivot Operations\n\nVariable to enter: \\\\(0\\\\)\nVariable to leave: \\\\(1\\\\)\n#### Row Operations:\n\n1. \\\\(R_{X_{1}} \\leftarrow \\frac{R_{X_{1}}}{2.000}\\\\)\n1. \\\\(R_{\\text{{Cost}}} \\leftarrow R_{\\text{{Cost}}} - 3.000R_{1}\\\\)\n2. \\\\(R_{X_{4}} \\leftarrow R_{X_{4}} - 4.000R_{1}\\\\)\n3. \\\\(R_{X_{5}} \\leftarrow R_{X_{5}} + 5.000R_{1}\\\\)\n\n\nComputed Tableau:\n\n|   |\\\\(X_{0}\\\\) | \\\\(X_{1}\\\\) | \\\\(X_{2}\\\\) | \\\\(X_{3}\\\\) | \\\\(X_{4}\\\\) | \\\\(X_{5}\\\\) | \\\\(X_{6}\\\\) | RHS |\n|---|---|---|---|---|---|---|---|---|\n| Cost | 0.000 | -1.500 | -3.500 | 1.000 | 0.000 | 0.000 | -0.500 | 0.500 |\n| \\\\(X_{4}\\\\) | 0.000 | -2.000 | 2.000 | -2.000 | 1.000 | 0.000 | 1.000 | 10.000 |\n| \\\\(X_{5}\\\\) | 0.000 | 2.500 | -1.500 | 1.000 | 0.000 | 1.000 | -0.500 | 4.500 |\n| \\\\(X_{0}\\\\) | 1.000 | 0.500 | -0.500 | 0.000 | 0.000 | 0.000 | -0.500 | 0.500 |\n\n\n\\\\(J_1\\\\) (lower bounds variables): [1, 6, 2, 3]\n\n\n\\\\(J_2\\\\) (upper bounds variables): []\n\n\n\n## Iteration 2\n\nPrevious Tableau:\n\n|   |\\\\(X_{0}\\\\) | \\\\(X_{1}\\\\) | \\\\(X_{2}\\\\) | \\\\(X_{3}\\\\) | \\\\(X_{4}\\\\) | \\\\(X_{5}\\\\) | \\\\(X_{6}\\\\) | RHS |\n|---|---|---|---|---|---|---|---|---|\n| Cost | 0.000 | -1.500 | -3.500 | 1.000 | 0.000 | 0.000 | -0.500 | 0.500 |\n| \\\\(X_{4}\\\\) | 0.000 | -2.000 | 2.000 | -2.000 | 1.000 | 0.000 | 1.000 | 10.000 |\n| \\\\(X_{5}\\\\) | 0.000 | 2.500 | -1.500 | 1.000 | 0.000 | 1.000 | -0.500 | 4.500 |\n| \\\\(X_{0}\\\\) | 1.000 | 0.500 | -0.500 | 0.000 | 0.000 | 0.000 | -0.500 | 0.500 |\n### Pivot Operations\n\nVariable to enter: \\\\(3\\\\)\nVariable to leave: \\\\(None\\\\)\n#### Row Operations:\n\n1. \n\n\nComputed Tableau:\n\n|   |\\\\(X_{0}\\\\) | \\\\(X_{1}\\\\) | \\\\(X_{2}\\\\) | \\\\(X_{3}\\\\) | \\\\(X_{4}\\\\) | \\\\(X_{5}\\\\) | \\\\(X_{6}\\\\) | RHS |\n|---|---|---|---|---|---|---|---|---|\n| Cost | 0.000 | -1.500 | -3.500 | 1.000 | 0.000 | 0.000 | -0.500 | -2.500 |\n| \\\\(X_{4}\\\\) | 0.000 | -2.000 | 2.000 | -2.000 | 1.000 | 0.000 | 1.000 | 16.000 |\n| \\\\(X_{5}\\\\) | 0.000 | 2.500 | -1.500 | 1.000 | 0.000 | 1.000 | -0.500 | 1.500 |\n| \\\\(X_{0}\\\\) | 1.000 | 0.500 | -0.500 | 0.000 | 0.000 | 0.000 | -0.500 | 0.500 |\n\n\n\\\\(J_1\\\\) (lower bounds variables): [1, 2, 6]\n\n\n\\\\(J_2\\\\) (upper bounds variables): [3]\n\n\n\n## Iteration 3\n\nPrevious Tableau:\n\n|   |\\\\(X_{0}\\\\) | \\\\(X_{1}\\\\) | \\\\(X_{2}\\\\) | \\\\(X_{3}\\\\) | \\\\(X_{4}\\\\) | \\\\(X_{5}\\\\) | \\\\(X_{6}\\\\) | RHS |\n|---|---|---|---|---|---|---|---|---|\n| Cost | 0.000 | -1.500 | -3.500 | 1.000 | 0.000 | 0.000 | -0.500 | -2.500 |\n| \\\\(X_{4}\\\\) | 0.000 | -2.000 | 2.000 | -2.000 | 1.000 | 0.000 | 1.000 | 16.000 |\n| \\\\(X_{5}\\\\) | 0.000 | 2.500 | -1.500 | 1.000 | 0.000 | 1.000 | -0.500 | 1.500 |\n| \\\\(X_{0}\\\\) | 1.000 | 0.500 | -0.500 | 0.000 | 0.000 | 0.000 | -0.500 | 0.500 |\n### Pivot Operations\n\nVariable to enter: \\\\(None\\\\)\nVariable to leave: \\\\(None\\\\)\n#### Row Operations:\n\n1. \n\n\nComputed Tableau:\n\n|   |\\\\(X_{0}\\\\) | \\\\(X_{1}\\\\) | \\\\(X_{2}\\\\) | \\\\(X_{3}\\\\) | \\\\(X_{4}\\\\) | \\\\(X_{5}\\\\) | \\\\(X_{6}\\\\) | RHS |\n|---|---|---|---|---|---|---|---|---|\n| Cost | 0.000 | -1.500 | -3.500 | 1.000 | 0.000 | 0.000 | -0.500 | -2.500 |\n| \\\\(X_{4}\\\\) | 0.000 | -2.000 | 2.000 | -2.000 | 1.000 | 0.000 | 1.000 | 16.000 |\n| \\\\(X_{5}\\\\) | 0.000 | 2.500 | -1.500 | 1.000 | 0.000 | 1.000 | -0.500 | 1.500 |\n| \\\\(X_{0}\\\\) | 1.000 | 0.500 | -0.500 | 0.000 | 0.000 | 0.000 | -0.500 | 0.500 |\n\n\n\\\\(J_1\\\\) (lower bounds variables): [1, 2, 6]\n\n\n\\\\(J_2\\\\) (upper bounds variables): [3]\n\n\n\n## Solution for \n\n\\\\[\n    \\begin{aligned}\n    & \\text{Minimize} & C^{T} \\cdot X \\\\\n    & \\text{Subject to} & A \\cdot X & = B \\\\\n    & & L \\leq  X  \\leq U &\n    \\end{aligned}\n    \\\\]\n    where: \n    \\\\[\n    \\begin{aligned}\n    & & A = \\begin{bmatrix}\n2.000 & -1.000 & 1.000 & -2.000 & 1.000 & 0.000 & 0.000 \\\\\n-1.000 & 2.000 & -1.000 & 1.000 & 0.000 & 1.000 & 0.000 \\\\\n2.000 & 1.000 & -1.000 & 0.000 & 0.000 & 0.000 & -1.000 \\\\\n\\end{bmatrix} \\\\\n    & & B = \\begin{bmatrix}\n6.000\\\\\n8.000\\\\\n2.000\n\\end{bmatrix} \\\\\n    & & C^{T} = \\begin{bmatrix}\n1.000 & 2.000 & 3.000 & -1.000 & 0.000 & 0.000 & 0.000\n\\end{bmatrix} \\\\\n    & & X = \\begin{bmatrix}\nX_{0}\\\\\nX_{1}\\\\\nX_{2}\\\\\nX_{3}\\\\\nX_{4}\\\\\nX_{5}\\\\\nX_{6}\n\\end{bmatrix} \\\\\n    & & L = [ 0.00,\\ 1.00,\\ 0.00,\\ 2.00,\\ 0.00,\\ 0.00,\\ 0.00 ] \\\\\n    & & U = [ 3.00,\\ 4.00,\\ 8.00,\\ 5.00,\\ ∞,\\ ∞,\\ ∞ ]\n    \\end{aligned}\n    \\\\]\n\nSolution Type: Optimal unique solution\n\nOptimal Solution: \\\\(X^{*} = [ 0.50,\\ 1.00,\\ 0.00,\\ 5.00,\\ 16.00,\\ 1.50,\\ 0.00 ]\\\\)\n\nOptimal Value: \\\\(Z^{*} = -2.50\\\\)\n\nOptimal Basis: \\\\([4, 5, 0]\\\\)\n\nFinal non-basic variables set at lower bounds \\\\(J_1\\\\): \\\\([1, 2, 6]\\\\)\n\nFinal non-basic variables set at upper bounds \\\\(J_2\\\\): \\\\([3]\\\\)\n\n\\\\(\\hat{C}_{J_1}\\\\): \\\\([-1.5, -3.5, -0.5]\\\\)\n\n\\\\(\\hat{C}_{J_2}\\\\): \\\\([1.0]\\\\)\n\nNumber of Iterations: 4\n\n"
          },
          "metadata": {}
        }
      ],
      "execution_count": 2
    },
    {
      "cell_type": "markdown",
      "source": "## Comparison with scipy",
      "metadata": {}
    },
    {
      "cell_type": "code",
      "source": "scipy_bounds = [\n    (lb, ub) for lb, ub in zip(lower_bounds, upper_bounds)\n]\nlinprog(c, A_eq=A, b_eq=b, bounds=scipy_bounds, method='highs')",
      "metadata": {
        "trusted": true,
        "scrolled": true
      },
      "outputs": [
        {
          "execution_count": 3,
          "output_type": "execute_result",
          "data": {
            "text/plain": "        message: Optimization terminated successfully. (HiGHS Status 7: Optimal)\n        success: True\n         status: 0\n            fun: -2.5\n              x: [ 5.000e-01  1.000e+00  0.000e+00  5.000e+00  1.600e+01\n                   1.500e+00  0.000e+00]\n            nit: 3\n          lower:  residual: [ 5.000e-01  0.000e+00  0.000e+00  3.000e+00\n                              1.600e+01  1.500e+00  0.000e+00]\n                 marginals: [ 0.000e+00  1.500e+00  3.500e+00  0.000e+00\n                              0.000e+00  0.000e+00  5.000e-01]\n          upper:  residual: [ 2.500e+00  3.000e+00  8.000e+00  0.000e+00\n                                    inf        inf        inf]\n                 marginals: [ 0.000e+00  0.000e+00  0.000e+00 -1.000e+00\n                              0.000e+00  0.000e+00  0.000e+00]\n          eqlin:  residual: [ 0.000e+00  0.000e+00  0.000e+00]\n                 marginals: [-0.000e+00 -0.000e+00  5.000e-01]\n        ineqlin:  residual: []\n                 marginals: []\n mip_node_count: 0\n mip_dual_bound: 0.0\n        mip_gap: 0.0"
          },
          "metadata": {}
        }
      ],
      "execution_count": 3
    },
    {
      "cell_type": "markdown",
      "source": "# Exercício 5.13",
      "metadata": {}
    },
    {
      "cell_type": "code",
      "source": "# definindo A, B, c, I, J_1, J_2, lower_bounds, upper_bounds para o prooblema\n# 5.13\nindex = '5.13'\nfor key in problems[index].keys():\n    locals()[key] = problems[index][key]\n# resolvendo o problema\nz_star, x_star, I_star, solution_type, iterations, tableau_steps = simplex(A, b, c, I, J_1, J_2, lower_bounds, upper_bounds)\nresult_md = markdown_repr_T(tableau_steps)\ndisplay(\n    Markdown(\n        result_md\n    )\n)",
      "metadata": {
        "trusted": true
      },
      "outputs": [
        {
          "output_type": "display_data",
          "data": {
            "text/plain": "<IPython.core.display.Markdown object>",
            "text/markdown": "\n\n## Iteration 1\n\nPrevious Tableau:\n\n|   |\\\\(X_{0}\\\\) | \\\\(X_{1}\\\\) | \\\\(X_{2}\\\\) | \\\\(X_{3}\\\\) | \\\\(X_{4}\\\\) | \\\\(X_{5}\\\\) | RHS |\n|---|---|---|---|---|---|---|---|\n| Cost | 2.000 | 1.000 | 3.000 | 0.000 | 0.000 | 0.000 | 0.000 |\n| \\\\(X_{3}\\\\) | 3.000 | 1.000 | 1.000 | 1.000 | 0.000 | 0.000 | 12.000 |\n| \\\\(X_{4}\\\\) | -1.000 | 1.000 | 0.000 | 0.000 | 1.000 | 0.000 | 4.000 |\n| \\\\(X_{5}\\\\) | 0.000 | 1.000 | 2.000 | 0.000 | 0.000 | 1.000 | 8.000 |\n### Pivot Operations\n\nVariable to enter: \\\\(2\\\\)\nVariable to leave: \\\\(None\\\\)\n#### Row Operations:\n\n1. \n\n\nComputed Tableau:\n\n|   |\\\\(X_{0}\\\\) | \\\\(X_{1}\\\\) | \\\\(X_{2}\\\\) | \\\\(X_{3}\\\\) | \\\\(X_{4}\\\\) | \\\\(X_{5}\\\\) | RHS |\n|---|---|---|---|---|---|---|---|\n| Cost | 2.000 | 1.000 | 3.000 | 0.000 | 0.000 | 0.000 | -12.000 |\n| \\\\(X_{3}\\\\) | 3.000 | 1.000 | 1.000 | 1.000 | 0.000 | 0.000 | 8.000 |\n| \\\\(X_{4}\\\\) | -1.000 | 1.000 | 0.000 | 0.000 | 1.000 | 0.000 | 4.000 |\n| \\\\(X_{5}\\\\) | 0.000 | 1.000 | 2.000 | 0.000 | 0.000 | 1.000 | 0.000 |\n\n\n\\\\(J_1\\\\) (lower bounds variables): [0, 1]\n\n\n\\\\(J_2\\\\) (upper bounds variables): [2]\n\n\n\n## Iteration 2\n\nPrevious Tableau:\n\n|   |\\\\(X_{0}\\\\) | \\\\(X_{1}\\\\) | \\\\(X_{2}\\\\) | \\\\(X_{3}\\\\) | \\\\(X_{4}\\\\) | \\\\(X_{5}\\\\) | RHS |\n|---|---|---|---|---|---|---|---|\n| Cost | 2.000 | 1.000 | 3.000 | 0.000 | 0.000 | 0.000 | -12.000 |\n| \\\\(X_{3}\\\\) | 3.000 | 1.000 | 1.000 | 1.000 | 0.000 | 0.000 | 8.000 |\n| \\\\(X_{4}\\\\) | -1.000 | 1.000 | 0.000 | 0.000 | 1.000 | 0.000 | 4.000 |\n| \\\\(X_{5}\\\\) | 0.000 | 1.000 | 2.000 | 0.000 | 0.000 | 1.000 | 0.000 |\n### Pivot Operations\n\nVariable to enter: \\\\(0\\\\)\nVariable to leave: \\\\(3\\\\)\n#### Row Operations:\n\n1. \\\\(R_{X_{3}} \\leftarrow \\frac{R_{X_{3}}}{3.000}\\\\)\n1. \\\\(R_{\\text{{Cost}}} \\leftarrow R_{\\text{{Cost}}} - 2.000R_{3}\\\\)\n2. \\\\(R_{X_{4}} \\leftarrow R_{X_{4}} + 1.000R_{3}\\\\)\n3. \\\\(R_{X_{5}} \\leftarrow R_{X_{5}} - 0.000R_{3}\\\\)\n\n\nComputed Tableau:\n\n|   |\\\\(X_{0}\\\\) | \\\\(X_{1}\\\\) | \\\\(X_{2}\\\\) | \\\\(X_{3}\\\\) | \\\\(X_{4}\\\\) | \\\\(X_{5}\\\\) | RHS |\n|---|---|---|---|---|---|---|---|\n| Cost | 0.000 | 0.333 | 2.333 | -0.667 | 0.000 | 0.000 | -17.333 |\n| \\\\(X_{0}\\\\) | 1.000 | 0.333 | 0.333 | 0.333 | 0.000 | 0.000 | 2.667 |\n| \\\\(X_{4}\\\\) | 0.000 | 1.333 | 0.333 | 0.333 | 1.000 | 0.000 | 6.667 |\n| \\\\(X_{5}\\\\) | 0.000 | 1.000 | 2.000 | 0.000 | 0.000 | 1.000 | 0.000 |\n\n\n\\\\(J_1\\\\) (lower bounds variables): [3, 1]\n\n\n\\\\(J_2\\\\) (upper bounds variables): [2]\n\n\n\n## Iteration 3\n\nPrevious Tableau:\n\n|   |\\\\(X_{0}\\\\) | \\\\(X_{1}\\\\) | \\\\(X_{2}\\\\) | \\\\(X_{3}\\\\) | \\\\(X_{4}\\\\) | \\\\(X_{5}\\\\) | RHS |\n|---|---|---|---|---|---|---|---|\n| Cost | 0.000 | 0.333 | 2.333 | -0.667 | 0.000 | 0.000 | -17.333 |\n| \\\\(X_{0}\\\\) | 1.000 | 0.333 | 0.333 | 0.333 | 0.000 | 0.000 | 2.667 |\n| \\\\(X_{4}\\\\) | 0.000 | 1.333 | 0.333 | 0.333 | 1.000 | 0.000 | 6.667 |\n| \\\\(X_{5}\\\\) | 0.000 | 1.000 | 2.000 | 0.000 | 0.000 | 1.000 | 0.000 |\n### Pivot Operations\n\nVariable to enter: \\\\(1\\\\)\nVariable to leave: \\\\(5\\\\)\n#### Row Operations:\n\n1. \\\\(R_{X_{5}} \\leftarrow \\frac{R_{X_{5}}}{1.000}\\\\)\n1. \\\\(R_{\\text{{Cost}}} \\leftarrow R_{\\text{{Cost}}} - 0.333R_{5}\\\\)\n2. \\\\(R_{X_{0}} \\leftarrow R_{X_{0}} - 0.333R_{5}\\\\)\n3. \\\\(R_{X_{4}} \\leftarrow R_{X_{4}} - 1.333R_{5}\\\\)\n\n\nComputed Tableau:\n\n|   |\\\\(X_{0}\\\\) | \\\\(X_{1}\\\\) | \\\\(X_{2}\\\\) | \\\\(X_{3}\\\\) | \\\\(X_{4}\\\\) | \\\\(X_{5}\\\\) | RHS |\n|---|---|---|---|---|---|---|---|\n| Cost | 0.000 | 0.000 | 1.667 | -0.667 | 0.000 | -0.333 | -17.333 |\n| \\\\(X_{0}\\\\) | 1.000 | 0.000 | -0.333 | 0.333 | 0.000 | -0.333 | 2.667 |\n| \\\\(X_{4}\\\\) | 0.000 | 0.000 | -2.333 | 0.333 | 1.000 | -1.333 | 6.667 |\n| \\\\(X_{1}\\\\) | 0.000 | 1.000 | 2.000 | 0.000 | 0.000 | 1.000 | 0.000 |\n\n\n\\\\(J_1\\\\) (lower bounds variables): [3, 5]\n\n\n\\\\(J_2\\\\) (upper bounds variables): [2]\n\n\n\n## Iteration 4\n\nPrevious Tableau:\n\n|   |\\\\(X_{0}\\\\) | \\\\(X_{1}\\\\) | \\\\(X_{2}\\\\) | \\\\(X_{3}\\\\) | \\\\(X_{4}\\\\) | \\\\(X_{5}\\\\) | RHS |\n|---|---|---|---|---|---|---|---|\n| Cost | 0.000 | 0.000 | 1.667 | -0.667 | 0.000 | -0.333 | -17.333 |\n| \\\\(X_{0}\\\\) | 1.000 | 0.000 | -0.333 | 0.333 | 0.000 | -0.333 | 2.667 |\n| \\\\(X_{4}\\\\) | 0.000 | 0.000 | -2.333 | 0.333 | 1.000 | -1.333 | 6.667 |\n| \\\\(X_{1}\\\\) | 0.000 | 1.000 | 2.000 | 0.000 | 0.000 | 1.000 | 0.000 |\n### Pivot Operations\n\nVariable to enter: \\\\(None\\\\)\nVariable to leave: \\\\(None\\\\)\n#### Row Operations:\n\n1. \n\n\nComputed Tableau:\n\n|   |\\\\(X_{0}\\\\) | \\\\(X_{1}\\\\) | \\\\(X_{2}\\\\) | \\\\(X_{3}\\\\) | \\\\(X_{4}\\\\) | \\\\(X_{5}\\\\) | RHS |\n|---|---|---|---|---|---|---|---|\n| Cost | 0.000 | 0.000 | 1.667 | -0.667 | 0.000 | -0.333 | -17.333 |\n| \\\\(X_{0}\\\\) | 1.000 | 0.000 | -0.333 | 0.333 | 0.000 | -0.333 | 2.667 |\n| \\\\(X_{4}\\\\) | 0.000 | 0.000 | -2.333 | 0.333 | 1.000 | -1.333 | 6.667 |\n| \\\\(X_{1}\\\\) | 0.000 | 1.000 | 2.000 | 0.000 | 0.000 | 1.000 | 0.000 |\n\n\n\\\\(J_1\\\\) (lower bounds variables): [3, 5]\n\n\n\\\\(J_2\\\\) (upper bounds variables): [2]\n\n\n\n## Solution for \n\n\\\\[\n    \\begin{aligned}\n    & \\text{Minimize} & C^{T} \\cdot X \\\\\n    & \\text{Subject to} & A \\cdot X & = B \\\\\n    & & L \\leq  X  \\leq U &\n    \\end{aligned}\n    \\\\]\n    where: \n    \\\\[\n    \\begin{aligned}\n    & & A = \\begin{bmatrix}\n3.000 & 1.000 & 1.000 & 1.000 & 0.000 & 0.000 \\\\\n-1.000 & 1.000 & 0.000 & 0.000 & 1.000 & 0.000 \\\\\n0.000 & 1.000 & 2.000 & 0.000 & 0.000 & 1.000 \\\\\n\\end{bmatrix} \\\\\n    & & B = \\begin{bmatrix}\n12.000\\\\\n4.000\\\\\n8.000\n\\end{bmatrix} \\\\\n    & & C^{T} = \\begin{bmatrix}\n-2.000 & -1.000 & -3.000 & 0.000 & 0.000 & 0.000\n\\end{bmatrix} \\\\\n    & & X = \\begin{bmatrix}\nX_{0}\\\\\nX_{1}\\\\\nX_{2}\\\\\nX_{3}\\\\\nX_{4}\\\\\nX_{5}\n\\end{bmatrix} \\\\\n    & & L = [ 0.00,\\ 0.00,\\ 0.00,\\ 0.00,\\ 0.00,\\ 0.00 ] \\\\\n    & & U = [ 3.00,\\ 5.00,\\ 4.00,\\ ∞,\\ ∞,\\ ∞ ]\n    \\end{aligned}\n    \\\\]\n\nSolution Type: Optimal unique solution\n\nOptimal Solution: \\\\(X^{*} = [ 2.67,\\ 0.00,\\ 4.00,\\ 0.00,\\ 6.67,\\ 0.00 ]\\\\)\n\nOptimal Value: \\\\(Z^{*} = -17.33\\\\)\n\nOptimal Basis: \\\\([0, 4, 1]\\\\)\n\nFinal non-basic variables set at lower bounds \\\\(J_1\\\\): \\\\([3, 5]\\\\)\n\nFinal non-basic variables set at upper bounds \\\\(J_2\\\\): \\\\([2]\\\\)\n\n\\\\(\\hat{C}_{J_1}\\\\): \\\\([-0.6666666666666666, -0.33333333333333337]\\\\)\n\n\\\\(\\hat{C}_{J_2}\\\\): \\\\([1.6666666666666667]\\\\)\n\nNumber of Iterations: 5\n\n"
          },
          "metadata": {}
        }
      ],
      "execution_count": 4
    },
    {
      "cell_type": "markdown",
      "source": "## Comparison with scipy",
      "metadata": {}
    },
    {
      "cell_type": "code",
      "source": "scipy_bounds = [\n    (lb, ub) for lb, ub in zip(lower_bounds, upper_bounds)\n]\nlinprog(c, A_eq=A, b_eq=b, bounds=scipy_bounds, method='highs')",
      "metadata": {
        "trusted": true
      },
      "outputs": [
        {
          "execution_count": 5,
          "output_type": "execute_result",
          "data": {
            "text/plain": "        message: Optimization terminated successfully. (HiGHS Status 7: Optimal)\n        success: True\n         status: 0\n            fun: -17.333333333333332\n              x: [ 2.667e+00 -0.000e+00  4.000e+00  0.000e+00  6.667e+00\n                   0.000e+00]\n            nit: 3\n          lower:  residual: [ 2.667e+00 -0.000e+00  4.000e+00  0.000e+00\n                              6.667e+00  0.000e+00]\n                 marginals: [ 0.000e+00  0.000e+00  0.000e+00  6.667e-01\n                              0.000e+00  3.333e-01]\n          upper:  residual: [ 3.333e-01  5.000e+00  0.000e+00        inf\n                                    inf        inf]\n                 marginals: [ 0.000e+00  0.000e+00 -1.667e+00  0.000e+00\n                              0.000e+00  0.000e+00]\n          eqlin:  residual: [ 0.000e+00  0.000e+00  0.000e+00]\n                 marginals: [-6.667e-01 -0.000e+00 -3.333e-01]\n        ineqlin:  residual: []\n                 marginals: []\n mip_node_count: 0\n mip_dual_bound: 0.0\n        mip_gap: 0.0"
          },
          "metadata": {}
        }
      ],
      "execution_count": 5
    },
    {
      "cell_type": "markdown",
      "source": "# Exercício 5.14",
      "metadata": {}
    },
    {
      "cell_type": "code",
      "source": "# definindo A, B, c, I, J_1, J_2, lower_bounds, upper_bounds para o prooblema\n# 5.14\nindex = '5.14'\nfor key in problems[index].keys():\n    locals()[key] = problems[index][key]\n# resolvendo o problema\nz_star, x_star, I_star, solution_type, iterations, tableau_steps = simplex(A, b, c, I, J_1, J_2, lower_bounds, upper_bounds)\nresult_md = markdown_repr_T(tableau_steps)\ndisplay(\n    Markdown(\n        result_md\n    )\n)",
      "metadata": {
        "trusted": true
      },
      "outputs": [
        {
          "output_type": "display_data",
          "data": {
            "text/plain": "<IPython.core.display.Markdown object>",
            "text/markdown": "\n\n## Iteration 1\n\nPrevious Tableau:\n\n|   |\\\\(X_{0}\\\\) | \\\\(X_{1}\\\\) | \\\\(X_{2}\\\\) | \\\\(X_{3}\\\\) | \\\\(X_{4}\\\\) | RHS |\n|---|---|---|---|---|---|---|\n| Cost | 0.000 | 2.000 | -1.000 | 0.000 | 1.000 | 3.000 |\n| \\\\(X_{3}\\\\) | 0.000 | 2.500 | 1.500 | 1.000 | 0.500 | 8.500 |\n| \\\\(X_{0}\\\\) | 1.000 | 0.500 | -0.500 | 0.000 | -0.500 | 3.500 |\n### Pivot Operations\n\nVariable to enter: \\\\(1\\\\)\nVariable to leave: \\\\(3\\\\)\n#### Row Operations:\n\n1. \\\\(R_{X_{3}} \\leftarrow \\frac{R_{X_{3}}}{2.500}\\\\)\n1. \\\\(R_{\\text{{Cost}}} \\leftarrow R_{\\text{{Cost}}} - 2.000R_{3}\\\\)\n2. \\\\(R_{X_{0}} \\leftarrow R_{X_{0}} - 0.500R_{3}\\\\)\n\n\nComputed Tableau:\n\n|   |\\\\(X_{0}\\\\) | \\\\(X_{1}\\\\) | \\\\(X_{2}\\\\) | \\\\(X_{3}\\\\) | \\\\(X_{4}\\\\) | RHS |\n|---|---|---|---|---|---|---|\n| Cost | 0.000 | 0.000 | -2.200 | -0.800 | 0.600 | -3.800 |\n| \\\\(X_{1}\\\\) | 0.000 | 1.000 | 0.600 | 0.400 | 0.200 | 1.400 |\n| \\\\(X_{0}\\\\) | 1.000 | 0.000 | -0.800 | -0.200 | -0.600 | 1.800 |\n\n\n\\\\(J_1\\\\) (lower bounds variables): [3, 2, 4]\n\n\n\\\\(J_2\\\\) (upper bounds variables): []\n\n\n\n## Iteration 2\n\nPrevious Tableau:\n\n|   |\\\\(X_{0}\\\\) | \\\\(X_{1}\\\\) | \\\\(X_{2}\\\\) | \\\\(X_{3}\\\\) | \\\\(X_{4}\\\\) | RHS |\n|---|---|---|---|---|---|---|\n| Cost | 0.000 | 0.000 | -2.200 | -0.800 | 0.600 | -3.800 |\n| \\\\(X_{1}\\\\) | 0.000 | 1.000 | 0.600 | 0.400 | 0.200 | 1.400 |\n| \\\\(X_{0}\\\\) | 1.000 | 0.000 | -0.800 | -0.200 | -0.600 | 1.800 |\n### Pivot Operations\n\nVariable to enter: \\\\(4\\\\)\nVariable to leave: \\\\(0\\\\)\n#### Row Operations:\n\n1. \\\\(R_{X_{0}} \\leftarrow \\frac{R_{X_{0}}}{-0.600}\\\\)\n1. \\\\(R_{\\text{{Cost}}} \\leftarrow R_{\\text{{Cost}}} - 0.600R_{0}\\\\)\n2. \\\\(R_{X_{1}} \\leftarrow R_{X_{1}} - 0.200R_{0}\\\\)\n\n\nComputed Tableau:\n\n|   |\\\\(X_{0}\\\\) | \\\\(X_{1}\\\\) | \\\\(X_{2}\\\\) | \\\\(X_{3}\\\\) | \\\\(X_{4}\\\\) | RHS |\n|---|---|---|---|---|---|---|\n| Cost | 1.000 | 0.000 | -3.000 | -1.000 | 0.000 | -6.000 |\n| \\\\(X_{1}\\\\) | 0.333 | 1.000 | 0.333 | 0.333 | 0.000 | 0.667 |\n| \\\\(X_{4}\\\\) | -1.667 | -0.000 | 1.333 | 0.333 | 1.000 | 3.667 |\n\n\n\\\\(J_1\\\\) (lower bounds variables): [2, 3]\n\n\n\\\\(J_2\\\\) (upper bounds variables): [0]\n\n\n\n## Iteration 3\n\nPrevious Tableau:\n\n|   |\\\\(X_{0}\\\\) | \\\\(X_{1}\\\\) | \\\\(X_{2}\\\\) | \\\\(X_{3}\\\\) | \\\\(X_{4}\\\\) | RHS |\n|---|---|---|---|---|---|---|\n| Cost | 1.000 | 0.000 | -3.000 | -1.000 | 0.000 | -6.000 |\n| \\\\(X_{1}\\\\) | 0.333 | 1.000 | 0.333 | 0.333 | 0.000 | 0.667 |\n| \\\\(X_{4}\\\\) | -1.667 | -0.000 | 1.333 | 0.333 | 1.000 | 3.667 |\n### Pivot Operations\n\nVariable to enter: \\\\(None\\\\)\nVariable to leave: \\\\(None\\\\)\n#### Row Operations:\n\n1. \n\n\nComputed Tableau:\n\n|   |\\\\(X_{0}\\\\) | \\\\(X_{1}\\\\) | \\\\(X_{2}\\\\) | \\\\(X_{3}\\\\) | \\\\(X_{4}\\\\) | RHS |\n|---|---|---|---|---|---|---|\n| Cost | 1.000 | 0.000 | -3.000 | -1.000 | 0.000 | -6.000 |\n| \\\\(X_{1}\\\\) | 0.333 | 1.000 | 0.333 | 0.333 | 0.000 | 0.667 |\n| \\\\(X_{4}\\\\) | -1.667 | -0.000 | 1.333 | 0.333 | 1.000 | 3.667 |\n\n\n\\\\(J_1\\\\) (lower bounds variables): [2, 3]\n\n\n\\\\(J_2\\\\) (upper bounds variables): [0]\n\n\n\n## Solution for \n\n\\\\[\n    \\begin{aligned}\n    & \\text{Minimize} & C^{T} \\cdot X \\\\\n    & \\text{Subject to} & A \\cdot X & = B \\\\\n    & & L \\leq  X  \\leq U &\n    \\end{aligned}\n    \\\\]\n    where: \n    \\\\[\n    \\begin{aligned}\n    & & A = \\begin{bmatrix}\n1.000 & 3.000 & 1.000 & 1.000 & 0.000 \\\\\n2.000 & 1.000 & -1.000 & 0.000 & -1.000 \\\\\n\\end{bmatrix} \\\\\n    & & B = \\begin{bmatrix}\n8.000\\\\\n3.000\n\\end{bmatrix} \\\\\n    & & C^{T} = \\begin{bmatrix}\n-2.000 & -3.000 & 2.000 & 0.000 & 0.000\n\\end{bmatrix} \\\\\n    & & X = \\begin{bmatrix}\nX_{0}\\\\\nX_{1}\\\\\nX_{2}\\\\\nX_{3}\\\\\nX_{4}\n\\end{bmatrix} \\\\\n    & & L = [ -∞,\\ -2.00,\\ 2.00,\\ 0.00,\\ 0.00 ] \\\\\n    & & U = [ 4.00,\\ 3.00,\\ ∞,\\ ∞,\\ ∞ ]\n    \\end{aligned}\n    \\\\]\n\nSolution Type: Optimal unique solution\n\nOptimal Solution: \\\\(X^{*} = [ 4.00,\\ 0.67,\\ 2.00,\\ 0.00,\\ 3.67 ]\\\\)\n\nOptimal Value: \\\\(Z^{*} = -6.00\\\\)\n\nOptimal Basis: \\\\([1, 4]\\\\)\n\nFinal non-basic variables set at lower bounds \\\\(J_1\\\\): \\\\([2, 3]\\\\)\n\nFinal non-basic variables set at upper bounds \\\\(J_2\\\\): \\\\([0]\\\\)\n\n\\\\(\\hat{C}_{J_1}\\\\): \\\\([-3.0, -1.0]\\\\)\n\n\\\\(\\hat{C}_{J_2}\\\\): \\\\([1.0]\\\\)\n\nNumber of Iterations: 4\n\n"
          },
          "metadata": {}
        }
      ],
      "execution_count": 6
    },
    {
      "cell_type": "markdown",
      "source": "## Comparison with scipy",
      "metadata": {}
    },
    {
      "cell_type": "code",
      "source": "scipy_bounds = [\n    (lb, ub) for lb, ub in zip(lower_bounds, upper_bounds)\n]\nlinprog(c, A_eq=A, b_eq=b, bounds=scipy_bounds, method='highs')",
      "metadata": {
        "trusted": true
      },
      "outputs": [
        {
          "execution_count": 7,
          "output_type": "execute_result",
          "data": {
            "text/plain": "        message: Optimization terminated successfully. (HiGHS Status 7: Optimal)\n        success: True\n         status: 0\n            fun: -6.0\n              x: [ 4.000e+00  6.667e-01  2.000e+00  0.000e+00  3.667e+00]\n            nit: 2\n          lower:  residual: [       inf  2.667e+00  0.000e+00  0.000e+00\n                              3.667e+00]\n                 marginals: [ 0.000e+00  0.000e+00  3.000e+00  1.000e+00\n                              0.000e+00]\n          upper:  residual: [ 0.000e+00  2.333e+00        inf        inf\n                                    inf]\n                 marginals: [-1.000e+00  0.000e+00  0.000e+00  0.000e+00\n                              0.000e+00]\n          eqlin:  residual: [ 0.000e+00  0.000e+00]\n                 marginals: [-1.000e+00 -0.000e+00]\n        ineqlin:  residual: []\n                 marginals: []\n mip_node_count: 0\n mip_dual_bound: 0.0\n        mip_gap: 0.0"
          },
          "metadata": {}
        }
      ],
      "execution_count": 7
    },
    {
      "cell_type": "markdown",
      "source": "# Exercício 5.15",
      "metadata": {}
    },
    {
      "cell_type": "code",
      "source": "# definindo A, B, c, I, J_1, J_2, lower_bounds, upper_bounds para o prooblema\n# 5.15\nindex = '5.15'\nfor key in problems[index].keys():\n    locals()[key] = problems[index][key]\n# resolvendo um problema artificial\nm, n = A.shape\nc_artificial = np.hstack((np.zeros(n), np.ones(3)))\nA_artificial = np.zeros((m,3))\nA_artificial[0,0] = 1\nA_artificial[2,1] = 1\nA_artificial[4,2] = 1\nA_artificial = np.hstack((A, A_artificial))\nlower_bounds_artificial = np.hstack((lower_bounds, [0, 0, 0]))\nupper_bounds_artificial = np.hstack((upper_bounds, [np.inf, np.inf, np.inf]))\nI_artificial = [12, 0, 13, 1, 14, 2, 3]\nJ_1_artificial = list(set(range(15)) - set(I_artificial))\nJ_2_artificial = []\nz_star, x_star, I_star, solution_type, iterations, tableau_steps = simplex(A_artificial, b, c_artificial, I_artificial, J_1_artificial, J_2_artificial, lower_bounds_artificial, upper_bounds_artificial)\nresult_md = markdown_repr_T(tableau_steps)\ndisplay(\n    Markdown(\n        result_md\n    )\n)",
      "metadata": {
        "trusted": true
      },
      "outputs": [
        {
          "ename": "<class 'IndexError'>",
          "evalue": "list index out of range",
          "traceback": [
            "\u001b[0;31m---------------------------------------------------------------------------\u001b[0m",
            "\u001b[0;31mIndexError\u001b[0m                                Traceback (most recent call last)",
            "Cell \u001b[0;32mIn[3], line 19\u001b[0m\n\u001b[1;32m     17\u001b[0m J_1_artificial \u001b[38;5;241m=\u001b[39m \u001b[38;5;28mlist\u001b[39m(\u001b[38;5;28mset\u001b[39m(\u001b[38;5;28mrange\u001b[39m(\u001b[38;5;241m15\u001b[39m)) \u001b[38;5;241m-\u001b[39m \u001b[38;5;28mset\u001b[39m(I_artificial))\n\u001b[1;32m     18\u001b[0m J_2_artificial \u001b[38;5;241m=\u001b[39m []\n\u001b[0;32m---> 19\u001b[0m z_star, x_star, I_star, solution_type, iterations, tableau_steps \u001b[38;5;241m=\u001b[39m \u001b[43msimplex\u001b[49m\u001b[43m(\u001b[49m\u001b[43mA_artificial\u001b[49m\u001b[43m,\u001b[49m\u001b[43m \u001b[49m\u001b[43mb\u001b[49m\u001b[43m,\u001b[49m\u001b[43m \u001b[49m\u001b[43mc_artificial\u001b[49m\u001b[43m,\u001b[49m\u001b[43m \u001b[49m\u001b[43mI_artificial\u001b[49m\u001b[43m,\u001b[49m\u001b[43m \u001b[49m\u001b[43mJ_1_artificial\u001b[49m\u001b[43m,\u001b[49m\u001b[43m \u001b[49m\u001b[43mJ_2_artificial\u001b[49m\u001b[43m,\u001b[49m\u001b[43m \u001b[49m\u001b[43mlower_bounds_artificial\u001b[49m\u001b[43m,\u001b[49m\u001b[43m \u001b[49m\u001b[43mupper_bounds_artificial\u001b[49m\u001b[43m)\u001b[49m\n\u001b[1;32m     20\u001b[0m result_md \u001b[38;5;241m=\u001b[39m markdown_repr_T(tableau_steps)\n\u001b[1;32m     21\u001b[0m display(\n\u001b[1;32m     22\u001b[0m     Markdown(\n\u001b[1;32m     23\u001b[0m         result_md\n\u001b[1;32m     24\u001b[0m     )\n\u001b[1;32m     25\u001b[0m )\n",
            "File \u001b[0;32m/drive/simplex/simplex_bounded_variables.py:1128\u001b[0m, in \u001b[0;36msimplex\u001b[0;34m(A, b, c, I, J_1, J_2, lower_bounds, upper_bounds)\u001b[0m\n\u001b[1;32m   1108\u001b[0m \u001b[38;5;28;01mdef\u001b[39;00m \u001b[38;5;21msimplex\u001b[39m(A, b, c, I, J_1, J_2, lower_bounds, upper_bounds):\n\u001b[1;32m   1109\u001b[0m \u001b[38;5;250m    \u001b[39m\u001b[38;5;124;03m\"\"\"\u001b[39;00m\n\u001b[1;32m   1110\u001b[0m \u001b[38;5;124;03m    Solves the linear programming problem using the simplex algorithm for bounded variables.\u001b[39;00m\n\u001b[1;32m   1111\u001b[0m \u001b[38;5;124;03m    Args:\u001b[39;00m\n\u001b[0;32m   (...)\u001b[0m\n\u001b[1;32m   1126\u001b[0m \u001b[38;5;124;03m        tableau_steps: the steps of the simplex algorithm.\u001b[39;00m\n\u001b[1;32m   1127\u001b[0m \u001b[38;5;124;03m    \"\"\"\u001b[39;00m\n\u001b[0;32m-> 1128\u001b[0m     \u001b[38;5;28;01mreturn\u001b[39;00m \u001b[43m_simplex_main_loop\u001b[49m\u001b[43m(\u001b[49m\u001b[43mA\u001b[49m\u001b[43m,\u001b[49m\u001b[43m \u001b[49m\u001b[43mb\u001b[49m\u001b[43m,\u001b[49m\u001b[43m \u001b[49m\u001b[43mc\u001b[49m\u001b[43m,\u001b[49m\u001b[43m \u001b[49m\u001b[43mI\u001b[49m\u001b[43m,\u001b[49m\u001b[43m \u001b[49m\u001b[43mJ_1\u001b[49m\u001b[43m,\u001b[49m\u001b[43m \u001b[49m\u001b[43mJ_2\u001b[49m\u001b[43m,\u001b[49m\u001b[43m \u001b[49m\u001b[43mlower_bounds\u001b[49m\u001b[43m,\u001b[49m\u001b[43m \u001b[49m\u001b[43mupper_bounds\u001b[49m\u001b[43m)\u001b[49m\n",
            "File \u001b[0;32m/drive/simplex/simplex_bounded_variables.py:1060\u001b[0m, in \u001b[0;36m_simplex_main_loop\u001b[0;34m(A, b, c, I, J_1, J_2, lower_bounds, upper_bounds)\u001b[0m\n\u001b[1;32m   1057\u001b[0m args \u001b[38;5;241m=\u001b[39m (I, J_1, J_2, k, np\u001b[38;5;241m.\u001b[39mcopy(T), lower_bounds, upper_bounds)\n\u001b[1;32m   1058\u001b[0m \u001b[38;5;66;03m# 5. call next step through the pipeline (to avoid computing r and Δ_k\u001b[39;00m\n\u001b[1;32m   1059\u001b[0m \u001b[38;5;66;03m#    if a solution was found in step 1)\u001b[39;00m\n\u001b[0;32m-> 1060\u001b[0m T, I, J_1, J_2, pivot_operations, proceed \u001b[38;5;241m=\u001b[39m \u001b[43mstep_functions\u001b[49m\u001b[43m[\u001b[49m\n\u001b[1;32m   1061\u001b[0m \u001b[43m    \u001b[49m\u001b[38;5;28;43mtuple\u001b[39;49m\u001b[43m(\u001b[49m\u001b[43mk_set\u001b[49m\u001b[43m)\u001b[49m\n\u001b[1;32m   1062\u001b[0m \u001b[43m\u001b[49m\u001b[43m]\u001b[49m\u001b[43m(\u001b[49m\u001b[43mproceed\u001b[49m\u001b[43m,\u001b[49m\u001b[43m \u001b[49m\u001b[38;5;241;43m*\u001b[39;49m\u001b[43margs\u001b[49m\u001b[43m)\u001b[49m\n\u001b[1;32m   1063\u001b[0m \u001b[38;5;66;03m# 5.1 set unbounded flag if unbounded solution was found\u001b[39;00m\n\u001b[1;32m   1064\u001b[0m unbouded \u001b[38;5;241m=\u001b[39m \u001b[38;5;129;01mnot\u001b[39;00m proceed\n",
            "File \u001b[0;32m/drive/simplex/simplex_bounded_variables.py:913\u001b[0m, in \u001b[0;36m_simplex_step_2_pipeline\u001b[0;34m(proceed, *args, **kwargs)\u001b[0m\n\u001b[1;32m    911\u001b[0m \u001b[38;5;28;01mdef\u001b[39;00m \u001b[38;5;21m_simplex_step_2_pipeline\u001b[39m(proceed, \u001b[38;5;241m*\u001b[39margs, \u001b[38;5;241m*\u001b[39m\u001b[38;5;241m*\u001b[39mkwargs):\n\u001b[1;32m    912\u001b[0m     \u001b[38;5;28;01mif\u001b[39;00m proceed:\n\u001b[0;32m--> 913\u001b[0m         T, I, J_1, J_2, pivot_operations, proceed \u001b[38;5;241m=\u001b[39m \u001b[43m_simplex_step_2_k_enters_from_lower_bounds\u001b[49m\u001b[43m(\u001b[49m\u001b[38;5;241;43m*\u001b[39;49m\u001b[43margs\u001b[49m\u001b[43m,\u001b[49m\u001b[43m \u001b[49m\u001b[38;5;241;43m*\u001b[39;49m\u001b[38;5;241;43m*\u001b[39;49m\u001b[43mkwargs\u001b[49m\u001b[43m)\u001b[49m\n\u001b[1;32m    914\u001b[0m         _store_at_pipeline_memory(T, I, J_1, J_2)\n\u001b[1;32m    915\u001b[0m         \u001b[38;5;28;01mreturn\u001b[39;00m T, I, J_1, J_2, pivot_operations, proceed\n",
            "File \u001b[0;32m/drive/simplex/simplex_bounded_variables.py:881\u001b[0m, in \u001b[0;36m_simplex_step_2_k_enters_from_lower_bounds\u001b[0;34m(I, J_1, J_2, k, T, lower_bounds, upper_bounds)\u001b[0m\n\u001b[1;32m    879\u001b[0m     S_1 \u001b[38;5;241m=\u001b[39m _build_s_1_set_x_k_enters_from_lower_bounds(candidate_I, A, b, lower_bounds, y_k)\n\u001b[1;32m    880\u001b[0m     S_2 \u001b[38;5;241m=\u001b[39m _build_s_2_set_x_k_enters_from_lower_bounds(candidate_I, A, b, upper_bounds, y_k)\n\u001b[0;32m--> 881\u001b[0m     r \u001b[38;5;241m=\u001b[39m \u001b[43m_find_r_to_leave_for_k_entering_from_lower_bound_cycle_proof\u001b[49m\u001b[43m(\u001b[49m\n\u001b[1;32m    882\u001b[0m \u001b[43m        \u001b[49m\u001b[43mS_1\u001b[49m\u001b[43m,\u001b[49m\u001b[43m \u001b[49m\u001b[43mS_2\u001b[49m\u001b[43m,\u001b[49m\u001b[43m \u001b[49m\u001b[43mI\u001b[49m\u001b[43m,\u001b[49m\u001b[43m \u001b[49m\u001b[43my_k\u001b[49m\u001b[43m,\u001b[49m\u001b[43m \u001b[49m\u001b[43mA_I_inv\u001b[49m\n\u001b[1;32m    883\u001b[0m \u001b[43m    \u001b[49m\u001b[43m)\u001b[49m \u001b[38;5;66;03m# the lexico-rule will properly select a valid r to leave\u001b[39;00m\n\u001b[1;32m    884\u001b[0m \u001b[38;5;66;03m# 6. Now that we have a valid r, we can update the basis\u001b[39;00m\n\u001b[1;32m    885\u001b[0m J_1_before \u001b[38;5;241m=\u001b[39m J_1\u001b[38;5;241m.\u001b[39mcopy()\n",
            "File \u001b[0;32m/drive/simplex/simplex_bounded_variables.py:578\u001b[0m, in \u001b[0;36m_find_r_to_leave_for_k_entering_from_lower_bound_cycle_proof\u001b[0;34m(S_1, S_2, I, y_k, A_I_inv)\u001b[0m\n\u001b[1;32m    574\u001b[0m lexicographic_rule\u001b[38;5;241m.\u001b[39msort()\n\u001b[1;32m    576\u001b[0m \u001b[38;5;66;03m# now we're interested at the minimum value of the lexicographically ordered\u001b[39;00m\n\u001b[1;32m    577\u001b[0m \u001b[38;5;66;03m# so the first element of lexicographic_rule is the one we're interested at\u001b[39;00m\n\u001b[0;32m--> 578\u001b[0m lexicographically_minimum_row \u001b[38;5;241m=\u001b[39m \u001b[43mlexicographic_rule\u001b[49m\u001b[43m[\u001b[49m\u001b[38;5;241;43m0\u001b[39;49m\u001b[43m]\u001b[49m\n\u001b[1;32m    580\u001b[0m \u001b[38;5;66;03m# the index is the index of r_candidates_to_leave that contains the minimum\u001b[39;00m\n\u001b[1;32m    581\u001b[0m \u001b[38;5;66;03m# row\u001b[39;00m\n\u001b[1;32m    582\u001b[0m \u001b[38;5;66;03m# now we find the row in A_I_inv that contains the lexicographically minimum\u001b[39;00m\n\u001b[1;32m    583\u001b[0m A_I_inv_aux \u001b[38;5;241m=\u001b[39m np\u001b[38;5;241m.\u001b[39mcopy(A_I_inv)\n",
            "\u001b[0;31mIndexError\u001b[0m: list index out of range"
          ],
          "output_type": "error"
        }
      ],
      "execution_count": 3
    },
    {
      "cell_type": "markdown",
      "source": "## Comparison with scipy",
      "metadata": {}
    },
    {
      "cell_type": "code",
      "source": "scipy_bounds = [\n    (lb, ub) for lb, ub in zip(lower_bounds, upper_bounds)\n]\nresult = linprog(c, A_eq=A, b_eq=b, bounds=scipy_bounds, method='highs')\ndisplay(result['fun'])\ndisplay(result['x'])",
      "metadata": {
        "trusted": true
      },
      "outputs": [
        {
          "output_type": "display_data",
          "data": {
            "text/plain": "98000.0"
          },
          "metadata": {}
        },
        {
          "output_type": "display_data",
          "data": {
            "text/plain": "array([450., 600., 600., 600., 800., 200., 200.,   0., 100., 200.,  -0.,\n       200.])"
          },
          "metadata": {}
        }
      ],
      "execution_count": 4
    },
    {
      "cell_type": "code",
      "source": "",
      "metadata": {
        "trusted": true
      },
      "outputs": [],
      "execution_count": null
    }
  ]
}