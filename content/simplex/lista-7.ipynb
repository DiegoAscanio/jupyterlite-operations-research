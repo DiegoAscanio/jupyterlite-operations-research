{
  "metadata": {
    "kernelspec": {
      "name": "python",
      "display_name": "Python (Pyodide)",
      "language": "python"
    },
    "language_info": {
      "codemirror_mode": {
        "name": "python",
        "version": 3
      },
      "file_extension": ".py",
      "mimetype": "text/x-python",
      "name": "python",
      "nbconvert_exporter": "python",
      "pygments_lexer": "ipython3",
      "version": "3.8"
    }
  },
  "nbformat_minor": 4,
  "nbformat": 4,
  "cells": [
    {
      "cell_type": "code",
      "source": "%pip install numpy scipy\nfrom IPython.display import Markdown\nfrom scipy.optimize import linprog\nfrom simplex_bounded_variables import *\n%load_ext autoreload\n%autoreload 2\n\n# definindo A, B, c, I, J_1, J_2, lower e upper_bounds para cada\n# problema da lista\n\nproblems = {\n    '5.12': {\n        'A': np.array([\n            [ 2, -1,  1, -2, 1, 0,  0],\n            [-1,  2, -1,  1, 0, 1,  0],\n            [ 2,  1, -1,  0, 0, 0, -1]\n        ]),\n        'b': np.array([\n            6,\n            8,\n            2\n        ]),\n        'c': np.array([\n            1, 2, 3, -1, 0, 0, 0\n        ]),\n        'lower_bounds': np.array([0, 1, 0, 2, 0, 0, 0]),\n        'upper_bounds': np.array([3, 4, 8, 5, np.inf, np.inf, np.inf]),\n        'I': [4, 5, 1],\n        'J_1': [0, 6, 2, 3],\n        'J_2': []\n    },\n    '5.13': {\n        'A': np.array([\n            [ 3, 1, 1, 1, 0, 0],\n            [-1, 1, 0, 0, 1, 0],\n            [ 0, 1, 2, 0, 0, 1]\n        ]),\n        'b': np.array([\n            12,\n            4,\n            8\n        ]),\n        'c': np.array([\n            -2, -1, -3, 0, 0, 0\n        ]),\n        'lower_bounds': np.array([0, 0, 0, 0, 0, 0]),\n        'upper_bounds': np.array([3, 5, 4, np.inf, np.inf, np.inf]),\n        'I': [3, 4, 5],\n        'J_1': [0, 1, 2],\n        'J_2': []\n    },\n    '5.14': {\n        'A': np.array([\n            [1, 3,  1, 1,  0],\n            [2, 1, -1, 0, -1]\n        ]),\n        'b': np.array([\n            8,\n            3\n        ]),\n        'c': np.array([\n            -2, -3, 2, 0, 0\n        ]),\n        'lower_bounds': np.array([-np.inf, -2, 2, 0, 0]),\n        'upper_bounds': np.array([4, 3, np.inf, np.inf, np.inf]),\n        'I': [3, 0],\n        'J_1': [1, 2, 4],\n        'J_2': []\n    }\n}",
      "metadata": {
        "trusted": true
      },
      "outputs": [
        {
          "name": "stdout",
          "text": "The autoreload extension is already loaded. To reload it, use:\n  %reload_ext autoreload\n",
          "output_type": "stream"
        }
      ],
      "execution_count": 21
    },
    {
      "cell_type": "markdown",
      "source": "# Exercício 5.12",
      "metadata": {}
    },
    {
      "cell_type": "code",
      "source": "# definindo A, B, c, I, J_1, J_2, lower_bounds, upper_bounds para o prooblema\n# 5.12\nindex = '5.12'\nfor key in problems[index].keys():\n    locals()[key] = problems[index][key]\n# resolvendo o problema\nz_star, x_star, I_star, solution_type, iterations, tableau_steps = simplex(A, b, c, I, J_1, J_2, lower_bounds, upper_bounds)\nresult_md = markdown_repr_T(tableau_steps)\ndisplay(\n    Markdown(\n        result_md\n    )\n)",
      "metadata": {
        "trusted": true
      },
      "outputs": [
        {
          "output_type": "display_data",
          "data": {
            "text/plain": "<IPython.core.display.Markdown object>",
            "text/markdown": "\n\n## Iteration 1\n\nPrevious Tableau:\n\n|   |\\\\(X_{0}\\\\) | \\\\(X_{1}\\\\) | \\\\(X_{2}\\\\) | \\\\(X_{3}\\\\) | \\\\(X_{4}\\\\) | \\\\(X_{5}\\\\) | \\\\(X_{6}\\\\) | RHS |\n|---|---|---|---|---|---|---|---|---|\n| Cost | 3.000 | 0.000 | -5.000 | 1.000 | 0.000 | 0.000 | -2.000 | 2.000 |\n| \\\\(X_{4}\\\\) | 4.000 | 0.000 | 0.000 | -2.000 | 1.000 | 0.000 | -1.000 | 12.000 |\n| \\\\(X_{5}\\\\) | -5.000 | 0.000 | 1.000 | 1.000 | 0.000 | 1.000 | 2.000 | 2.000 |\n| \\\\(X_{1}\\\\) | 2.000 | 1.000 | -1.000 | 0.000 | 0.000 | 0.000 | -1.000 | 2.000 |\n### Pivot Operations\n\nVariable to enter: \\\\(0\\\\)\nVariable to leave: \\\\(1\\\\)\n#### Row Operations:\n\n1. \\\\(R_{X_{1}} \\leftarrow \\frac{R_{X_{1}}}{2.000}\\\\)\n1. \\\\(R_{\\text{{Cost}}} \\leftarrow R_{\\text{{Cost}}} - 3.000R_{1}\\\\)\n2. \\\\(R_{X_{4}} \\leftarrow R_{X_{4}} - 4.000R_{1}\\\\)\n3. \\\\(R_{X_{5}} \\leftarrow R_{X_{5}} + 5.000R_{1}\\\\)\n\n\nComputed Tableau:\n\n|   |\\\\(X_{0}\\\\) | \\\\(X_{1}\\\\) | \\\\(X_{2}\\\\) | \\\\(X_{3}\\\\) | \\\\(X_{4}\\\\) | \\\\(X_{5}\\\\) | \\\\(X_{6}\\\\) | RHS |\n|---|---|---|---|---|---|---|---|---|\n| Cost | 0.000 | -1.500 | -3.500 | 1.000 | 0.000 | 0.000 | -0.500 | 0.500 |\n| \\\\(X_{4}\\\\) | 0.000 | -2.000 | 2.000 | -2.000 | 1.000 | 0.000 | 1.000 | 10.000 |\n| \\\\(X_{5}\\\\) | 0.000 | 2.500 | -1.500 | 1.000 | 0.000 | 1.000 | -0.500 | 4.500 |\n| \\\\(X_{0}\\\\) | 1.000 | 0.500 | -0.500 | 0.000 | 0.000 | 0.000 | -0.500 | 0.500 |\n\n\n\\\\(J_1\\\\) (lower bounds variables): [1, 6, 2, 3]\n\n\n\\\\(J_2\\\\) (upper bounds variables): []\n\n\n\n## Iteration 2\n\nPrevious Tableau:\n\n|   |\\\\(X_{0}\\\\) | \\\\(X_{1}\\\\) | \\\\(X_{2}\\\\) | \\\\(X_{3}\\\\) | \\\\(X_{4}\\\\) | \\\\(X_{5}\\\\) | \\\\(X_{6}\\\\) | RHS |\n|---|---|---|---|---|---|---|---|---|\n| Cost | 0.000 | -1.500 | -3.500 | 1.000 | 0.000 | 0.000 | -0.500 | 0.500 |\n| \\\\(X_{4}\\\\) | 0.000 | -2.000 | 2.000 | -2.000 | 1.000 | 0.000 | 1.000 | 10.000 |\n| \\\\(X_{5}\\\\) | 0.000 | 2.500 | -1.500 | 1.000 | 0.000 | 1.000 | -0.500 | 4.500 |\n| \\\\(X_{0}\\\\) | 1.000 | 0.500 | -0.500 | 0.000 | 0.000 | 0.000 | -0.500 | 0.500 |\n### Pivot Operations\n\nVariable to enter: \\\\(3\\\\)\nVariable to leave: \\\\(None\\\\)\n#### Row Operations:\n\n1. \n\n\nComputed Tableau:\n\n|   |\\\\(X_{0}\\\\) | \\\\(X_{1}\\\\) | \\\\(X_{2}\\\\) | \\\\(X_{3}\\\\) | \\\\(X_{4}\\\\) | \\\\(X_{5}\\\\) | \\\\(X_{6}\\\\) | RHS |\n|---|---|---|---|---|---|---|---|---|\n| Cost | 0.000 | -1.500 | -3.500 | 1.000 | 0.000 | 0.000 | -0.500 | -2.500 |\n| \\\\(X_{4}\\\\) | 0.000 | -2.000 | 2.000 | -2.000 | 1.000 | 0.000 | 1.000 | 16.000 |\n| \\\\(X_{5}\\\\) | 0.000 | 2.500 | -1.500 | 1.000 | 0.000 | 1.000 | -0.500 | 1.500 |\n| \\\\(X_{0}\\\\) | 1.000 | 0.500 | -0.500 | 0.000 | 0.000 | 0.000 | -0.500 | 0.500 |\n\n\n\\\\(J_1\\\\) (lower bounds variables): [1, 2, 6]\n\n\n\\\\(J_2\\\\) (upper bounds variables): [3]\n\n\n\n## Iteration 3\n\nPrevious Tableau:\n\n|   |\\\\(X_{0}\\\\) | \\\\(X_{1}\\\\) | \\\\(X_{2}\\\\) | \\\\(X_{3}\\\\) | \\\\(X_{4}\\\\) | \\\\(X_{5}\\\\) | \\\\(X_{6}\\\\) | RHS |\n|---|---|---|---|---|---|---|---|---|\n| Cost | 0.000 | -1.500 | -3.500 | 1.000 | 0.000 | 0.000 | -0.500 | -2.500 |\n| \\\\(X_{4}\\\\) | 0.000 | -2.000 | 2.000 | -2.000 | 1.000 | 0.000 | 1.000 | 16.000 |\n| \\\\(X_{5}\\\\) | 0.000 | 2.500 | -1.500 | 1.000 | 0.000 | 1.000 | -0.500 | 1.500 |\n| \\\\(X_{0}\\\\) | 1.000 | 0.500 | -0.500 | 0.000 | 0.000 | 0.000 | -0.500 | 0.500 |\n### Pivot Operations\n\nVariable to enter: \\\\(None\\\\)\nVariable to leave: \\\\(None\\\\)\n#### Row Operations:\n\n1. \n\n\nComputed Tableau:\n\n|   |\\\\(X_{0}\\\\) | \\\\(X_{1}\\\\) | \\\\(X_{2}\\\\) | \\\\(X_{3}\\\\) | \\\\(X_{4}\\\\) | \\\\(X_{5}\\\\) | \\\\(X_{6}\\\\) | RHS |\n|---|---|---|---|---|---|---|---|---|\n| Cost | 0.000 | -1.500 | -3.500 | 1.000 | 0.000 | 0.000 | -0.500 | -2.500 |\n| \\\\(X_{4}\\\\) | 0.000 | -2.000 | 2.000 | -2.000 | 1.000 | 0.000 | 1.000 | 16.000 |\n| \\\\(X_{5}\\\\) | 0.000 | 2.500 | -1.500 | 1.000 | 0.000 | 1.000 | -0.500 | 1.500 |\n| \\\\(X_{0}\\\\) | 1.000 | 0.500 | -0.500 | 0.000 | 0.000 | 0.000 | -0.500 | 0.500 |\n\n\n\\\\(J_1\\\\) (lower bounds variables): [1, 2, 6]\n\n\n\\\\(J_2\\\\) (upper bounds variables): [3]\n\n\n\n## Solution for \n\n\\\\[\n    \\begin{aligned}\n    & \\text{Minimize} & C^{T} \\cdot X \\\\\n    & \\text{Subject to} & A \\cdot X & = B \\\\\n    & & L \\leq  X  \\leq U &\n    \\end{aligned}\n    \\\\]\n    where: \n    \\\\[\n    \\begin{aligned}\n    & & A = \\begin{bmatrix}\n2.000 & -1.000 & 1.000 & -2.000 & 1.000 & 0.000 & 0.000 \\\\\n-1.000 & 2.000 & -1.000 & 1.000 & 0.000 & 1.000 & 0.000 \\\\\n2.000 & 1.000 & -1.000 & 0.000 & 0.000 & 0.000 & -1.000 \\\\\n\\end{bmatrix} \\\\\n    & & B = \\begin{bmatrix}\n6.000\\\\\n8.000\\\\\n2.000\n\\end{bmatrix} \\\\\n    & & C^{T} = \\begin{bmatrix}\n1.000 & 2.000 & 3.000 & -1.000 & 0.000 & 0.000 & 0.000\n\\end{bmatrix} \\\\\n    & & X = \\begin{bmatrix}\nX_{0}\\\\\nX_{1}\\\\\nX_{2}\\\\\nX_{3}\\\\\nX_{4}\\\\\nX_{5}\\\\\nX_{6}\n\\end{bmatrix} \\\\\n    & & L = [ 0.00,\\ 1.00,\\ 0.00,\\ 2.00,\\ 0.00,\\ 0.00,\\ 0.00 ] \\\\\n    & & U = [ 3.00,\\ 4.00,\\ 8.00,\\ 5.00,\\ ∞,\\ ∞,\\ ∞ ]\n    \\end{aligned}\n    \\\\]\n\nSolution Type: Optimal unique solution\n\nOptimal Solution: \\\\(X^{*} = [ 0.50,\\ 1.00,\\ 0.00,\\ 5.00,\\ 16.00,\\ 1.50,\\ 0.00 ]\\\\)\n\nOptimal Value: \\\\(Z^{*} = -2.50\\\\)\n\nOptimal Basis: \\\\([4, 5, 0]\\\\)\n\nFinal non-basic variables set at lower bounds \\\\(J_1\\\\): \\\\([1, 2, 6]\\\\)\n\nFinal non-basic variables set at upper bounds \\\\(J_2\\\\): \\\\([3]\\\\)\n\n\\\\(\\hat{C}_{J_1}\\\\): \\\\([-1.5, -3.5, -0.5]\\\\)\n\n\\\\(\\hat{C}_{J_2}\\\\): \\\\([1.0]\\\\)\n\nNumber of Iterations: 4\n\n"
          },
          "metadata": {}
        }
      ],
      "execution_count": 20
    },
    {
      "cell_type": "markdown",
      "source": "## Comparison with scipy",
      "metadata": {}
    },
    {
      "cell_type": "code",
      "source": "scipy_bounds = [\n    (lb, ub) for lb, ub in zip(lower_bounds, upper_bounds)\n]\nlinprog(c, A_eq=A, b_eq=b, bounds=scipy_bounds, method='highs')",
      "metadata": {
        "trusted": true,
        "scrolled": true
      },
      "outputs": [
        {
          "execution_count": 16,
          "output_type": "execute_result",
          "data": {
            "text/plain": "        message: Optimization terminated successfully. (HiGHS Status 7: Optimal)\n        success: True\n         status: 0\n            fun: -2.5\n              x: [ 5.000e-01  1.000e+00  0.000e+00  5.000e+00  1.600e+01\n                   1.500e+00  0.000e+00]\n            nit: 3\n          lower:  residual: [ 5.000e-01  0.000e+00  0.000e+00  3.000e+00\n                              1.600e+01  1.500e+00  0.000e+00]\n                 marginals: [ 0.000e+00  1.500e+00  3.500e+00  0.000e+00\n                              0.000e+00  0.000e+00  5.000e-01]\n          upper:  residual: [ 2.500e+00  3.000e+00  8.000e+00  0.000e+00\n                                    inf        inf        inf]\n                 marginals: [ 0.000e+00  0.000e+00  0.000e+00 -1.000e+00\n                              0.000e+00  0.000e+00  0.000e+00]\n          eqlin:  residual: [ 0.000e+00  0.000e+00  0.000e+00]\n                 marginals: [-0.000e+00 -0.000e+00  5.000e-01]\n        ineqlin:  residual: []\n                 marginals: []\n mip_node_count: 0\n mip_dual_bound: 0.0\n        mip_gap: 0.0"
          },
          "metadata": {}
        }
      ],
      "execution_count": 16
    },
    {
      "cell_type": "markdown",
      "source": "# Exercício 5.13",
      "metadata": {}
    },
    {
      "cell_type": "code",
      "source": "# definindo A, B, c, I, J_1, J_2, lower_bounds, upper_bounds para o prooblema\n# 5.13\nindex = '5.13'\nfor key in problems[index].keys():\n    locals()[key] = problems[index][key]\n# resolvendo o problema\nz_star, x_star, I_star, solution_type, iterations, tableau_steps = simplex(A, b, c, I, J_1, J_2, lower_bounds, upper_bounds)\nresult_md = markdown_repr_T(tableau_steps)\ndisplay(\n    Markdown(\n        result_md\n    )\n)",
      "metadata": {
        "trusted": true
      },
      "outputs": [
        {
          "output_type": "display_data",
          "data": {
            "text/plain": "<IPython.core.display.Markdown object>",
            "text/markdown": "\n\n## Iteration 1\n\nPrevious Tableau:\n\n|   |\\\\(X_{0}\\\\) | \\\\(X_{1}\\\\) | \\\\(X_{2}\\\\) | \\\\(X_{3}\\\\) | \\\\(X_{4}\\\\) | \\\\(X_{5}\\\\) | RHS |\n|---|---|---|---|---|---|---|---|\n| Cost | 2.000 | 1.000 | 3.000 | 0.000 | 0.000 | 0.000 | 0.000 |\n| \\\\(X_{3}\\\\) | 3.000 | 1.000 | 1.000 | 1.000 | 0.000 | 0.000 | 12.000 |\n| \\\\(X_{4}\\\\) | -1.000 | 1.000 | 0.000 | 0.000 | 1.000 | 0.000 | 4.000 |\n| \\\\(X_{5}\\\\) | 0.000 | 1.000 | 2.000 | 0.000 | 0.000 | 1.000 | 8.000 |\n### Pivot Operations\n\nVariable to enter: \\\\(2\\\\)\nVariable to leave: \\\\(None\\\\)\n#### Row Operations:\n\n1. \n\n\nComputed Tableau:\n\n|   |\\\\(X_{0}\\\\) | \\\\(X_{1}\\\\) | \\\\(X_{2}\\\\) | \\\\(X_{3}\\\\) | \\\\(X_{4}\\\\) | \\\\(X_{5}\\\\) | RHS |\n|---|---|---|---|---|---|---|---|\n| Cost | 2.000 | 1.000 | 3.000 | 0.000 | 0.000 | 0.000 | -12.000 |\n| \\\\(X_{3}\\\\) | 3.000 | 1.000 | 1.000 | 1.000 | 0.000 | 0.000 | 8.000 |\n| \\\\(X_{4}\\\\) | -1.000 | 1.000 | 0.000 | 0.000 | 1.000 | 0.000 | 4.000 |\n| \\\\(X_{5}\\\\) | 0.000 | 1.000 | 2.000 | 0.000 | 0.000 | 1.000 | 0.000 |\n\n\n\\\\(J_1\\\\) (lower bounds variables): [0, 1]\n\n\n\\\\(J_2\\\\) (upper bounds variables): [2]\n\n\n\n## Iteration 2\n\nPrevious Tableau:\n\n|   |\\\\(X_{0}\\\\) | \\\\(X_{1}\\\\) | \\\\(X_{2}\\\\) | \\\\(X_{3}\\\\) | \\\\(X_{4}\\\\) | \\\\(X_{5}\\\\) | RHS |\n|---|---|---|---|---|---|---|---|\n| Cost | 2.000 | 1.000 | 3.000 | 0.000 | 0.000 | 0.000 | -12.000 |\n| \\\\(X_{3}\\\\) | 3.000 | 1.000 | 1.000 | 1.000 | 0.000 | 0.000 | 8.000 |\n| \\\\(X_{4}\\\\) | -1.000 | 1.000 | 0.000 | 0.000 | 1.000 | 0.000 | 4.000 |\n| \\\\(X_{5}\\\\) | 0.000 | 1.000 | 2.000 | 0.000 | 0.000 | 1.000 | 0.000 |\n### Pivot Operations\n\nVariable to enter: \\\\(0\\\\)\nVariable to leave: \\\\(3\\\\)\n#### Row Operations:\n\n1. \\\\(R_{X_{3}} \\leftarrow \\frac{R_{X_{3}}}{3.000}\\\\)\n1. \\\\(R_{\\text{{Cost}}} \\leftarrow R_{\\text{{Cost}}} - 2.000R_{3}\\\\)\n2. \\\\(R_{X_{4}} \\leftarrow R_{X_{4}} + 1.000R_{3}\\\\)\n3. \\\\(R_{X_{5}} \\leftarrow R_{X_{5}} - 0.000R_{3}\\\\)\n\n\nComputed Tableau:\n\n|   |\\\\(X_{0}\\\\) | \\\\(X_{1}\\\\) | \\\\(X_{2}\\\\) | \\\\(X_{3}\\\\) | \\\\(X_{4}\\\\) | \\\\(X_{5}\\\\) | RHS |\n|---|---|---|---|---|---|---|---|\n| Cost | 0.000 | 0.333 | 2.333 | -0.667 | 0.000 | 0.000 | -17.333 |\n| \\\\(X_{0}\\\\) | 1.000 | 0.333 | 0.333 | 0.333 | 0.000 | 0.000 | 2.667 |\n| \\\\(X_{4}\\\\) | 0.000 | 1.333 | 0.333 | 0.333 | 1.000 | 0.000 | 6.667 |\n| \\\\(X_{5}\\\\) | 0.000 | 1.000 | 2.000 | 0.000 | 0.000 | 1.000 | 0.000 |\n\n\n\\\\(J_1\\\\) (lower bounds variables): [3, 1]\n\n\n\\\\(J_2\\\\) (upper bounds variables): [2]\n\n\n\n## Iteration 3\n\nPrevious Tableau:\n\n|   |\\\\(X_{0}\\\\) | \\\\(X_{1}\\\\) | \\\\(X_{2}\\\\) | \\\\(X_{3}\\\\) | \\\\(X_{4}\\\\) | \\\\(X_{5}\\\\) | RHS |\n|---|---|---|---|---|---|---|---|\n| Cost | 0.000 | 0.333 | 2.333 | -0.667 | 0.000 | 0.000 | -17.333 |\n| \\\\(X_{0}\\\\) | 1.000 | 0.333 | 0.333 | 0.333 | 0.000 | 0.000 | 2.667 |\n| \\\\(X_{4}\\\\) | 0.000 | 1.333 | 0.333 | 0.333 | 1.000 | 0.000 | 6.667 |\n| \\\\(X_{5}\\\\) | 0.000 | 1.000 | 2.000 | 0.000 | 0.000 | 1.000 | 0.000 |\n### Pivot Operations\n\nVariable to enter: \\\\(1\\\\)\nVariable to leave: \\\\(5\\\\)\n#### Row Operations:\n\n1. \\\\(R_{X_{5}} \\leftarrow \\frac{R_{X_{5}}}{1.000}\\\\)\n1. \\\\(R_{\\text{{Cost}}} \\leftarrow R_{\\text{{Cost}}} - 0.333R_{5}\\\\)\n2. \\\\(R_{X_{0}} \\leftarrow R_{X_{0}} - 0.333R_{5}\\\\)\n3. \\\\(R_{X_{4}} \\leftarrow R_{X_{4}} - 1.333R_{5}\\\\)\n\n\nComputed Tableau:\n\n|   |\\\\(X_{0}\\\\) | \\\\(X_{1}\\\\) | \\\\(X_{2}\\\\) | \\\\(X_{3}\\\\) | \\\\(X_{4}\\\\) | \\\\(X_{5}\\\\) | RHS |\n|---|---|---|---|---|---|---|---|\n| Cost | 0.000 | 0.000 | 1.667 | -0.667 | 0.000 | -0.333 | -17.333 |\n| \\\\(X_{0}\\\\) | 1.000 | 0.000 | -0.333 | 0.333 | 0.000 | -0.333 | 2.667 |\n| \\\\(X_{4}\\\\) | 0.000 | 0.000 | -2.333 | 0.333 | 1.000 | -1.333 | 6.667 |\n| \\\\(X_{1}\\\\) | 0.000 | 1.000 | 2.000 | 0.000 | 0.000 | 1.000 | 0.000 |\n\n\n\\\\(J_1\\\\) (lower bounds variables): [3, 5]\n\n\n\\\\(J_2\\\\) (upper bounds variables): [2]\n\n\n\n## Iteration 4\n\nPrevious Tableau:\n\n|   |\\\\(X_{0}\\\\) | \\\\(X_{1}\\\\) | \\\\(X_{2}\\\\) | \\\\(X_{3}\\\\) | \\\\(X_{4}\\\\) | \\\\(X_{5}\\\\) | RHS |\n|---|---|---|---|---|---|---|---|\n| Cost | 0.000 | 0.000 | 1.667 | -0.667 | 0.000 | -0.333 | -17.333 |\n| \\\\(X_{0}\\\\) | 1.000 | 0.000 | -0.333 | 0.333 | 0.000 | -0.333 | 2.667 |\n| \\\\(X_{4}\\\\) | 0.000 | 0.000 | -2.333 | 0.333 | 1.000 | -1.333 | 6.667 |\n| \\\\(X_{1}\\\\) | 0.000 | 1.000 | 2.000 | 0.000 | 0.000 | 1.000 | 0.000 |\n### Pivot Operations\n\nVariable to enter: \\\\(None\\\\)\nVariable to leave: \\\\(None\\\\)\n#### Row Operations:\n\n1. \n\n\nComputed Tableau:\n\n|   |\\\\(X_{0}\\\\) | \\\\(X_{1}\\\\) | \\\\(X_{2}\\\\) | \\\\(X_{3}\\\\) | \\\\(X_{4}\\\\) | \\\\(X_{5}\\\\) | RHS |\n|---|---|---|---|---|---|---|---|\n| Cost | 0.000 | 0.000 | 1.667 | -0.667 | 0.000 | -0.333 | -17.333 |\n| \\\\(X_{0}\\\\) | 1.000 | 0.000 | -0.333 | 0.333 | 0.000 | -0.333 | 2.667 |\n| \\\\(X_{4}\\\\) | 0.000 | 0.000 | -2.333 | 0.333 | 1.000 | -1.333 | 6.667 |\n| \\\\(X_{1}\\\\) | 0.000 | 1.000 | 2.000 | 0.000 | 0.000 | 1.000 | 0.000 |\n\n\n\\\\(J_1\\\\) (lower bounds variables): [3, 5]\n\n\n\\\\(J_2\\\\) (upper bounds variables): [2]\n\n\n\n## Solution for \n\n\\\\[\n    \\begin{aligned}\n    & \\text{Minimize} & C^{T} \\cdot X \\\\\n    & \\text{Subject to} & A \\cdot X & = B \\\\\n    & & L \\leq  X  \\leq U &\n    \\end{aligned}\n    \\\\]\n    where: \n    \\\\[\n    \\begin{aligned}\n    & & A = \\begin{bmatrix}\n3.000 & 1.000 & 1.000 & 1.000 & 0.000 & 0.000 \\\\\n-1.000 & 1.000 & 0.000 & 0.000 & 1.000 & 0.000 \\\\\n0.000 & 1.000 & 2.000 & 0.000 & 0.000 & 1.000 \\\\\n\\end{bmatrix} \\\\\n    & & B = \\begin{bmatrix}\n12.000\\\\\n4.000\\\\\n8.000\n\\end{bmatrix} \\\\\n    & & C^{T} = \\begin{bmatrix}\n-2.000 & -1.000 & -3.000 & 0.000 & 0.000 & 0.000\n\\end{bmatrix} \\\\\n    & & X = \\begin{bmatrix}\nX_{0}\\\\\nX_{1}\\\\\nX_{2}\\\\\nX_{3}\\\\\nX_{4}\\\\\nX_{5}\n\\end{bmatrix} \\\\\n    & & L = [ 0.00,\\ 0.00,\\ 0.00,\\ 0.00,\\ 0.00,\\ 0.00 ] \\\\\n    & & U = [ 3.00,\\ 5.00,\\ 4.00,\\ ∞,\\ ∞,\\ ∞ ]\n    \\end{aligned}\n    \\\\]\n\nSolution Type: Optimal unique solution\n\nOptimal Solution: \\\\(X^{*} = [ 2.67,\\ 0.00,\\ 4.00,\\ 0.00,\\ 6.67,\\ 0.00 ]\\\\)\n\nOptimal Value: \\\\(Z^{*} = -17.33\\\\)\n\nOptimal Basis: \\\\([0, 4, 1]\\\\)\n\nFinal non-basic variables set at lower bounds \\\\(J_1\\\\): \\\\([3, 5]\\\\)\n\nFinal non-basic variables set at upper bounds \\\\(J_2\\\\): \\\\([2]\\\\)\n\n\\\\(\\hat{C}_{J_1}\\\\): \\\\([-0.6666666666666666, -0.33333333333333337]\\\\)\n\n\\\\(\\hat{C}_{J_2}\\\\): \\\\([1.6666666666666667]\\\\)\n\nNumber of Iterations: 5\n\n"
          },
          "metadata": {}
        }
      ],
      "execution_count": 22
    },
    {
      "cell_type": "markdown",
      "source": "## Comparison with scipy",
      "metadata": {}
    },
    {
      "cell_type": "code",
      "source": "scipy_bounds = [\n    (lb, ub) for lb, ub in zip(lower_bounds, upper_bounds)\n]\nlinprog(c, A_eq=A, b_eq=b, bounds=scipy_bounds, method='highs')",
      "metadata": {
        "trusted": true
      },
      "outputs": [
        {
          "execution_count": 23,
          "output_type": "execute_result",
          "data": {
            "text/plain": "        message: Optimization terminated successfully. (HiGHS Status 7: Optimal)\n        success: True\n         status: 0\n            fun: -17.333333333333332\n              x: [ 2.667e+00 -0.000e+00  4.000e+00  0.000e+00  6.667e+00\n                   0.000e+00]\n            nit: 3\n          lower:  residual: [ 2.667e+00 -0.000e+00  4.000e+00  0.000e+00\n                              6.667e+00  0.000e+00]\n                 marginals: [ 0.000e+00  0.000e+00  0.000e+00  6.667e-01\n                              0.000e+00  3.333e-01]\n          upper:  residual: [ 3.333e-01  5.000e+00  0.000e+00        inf\n                                    inf        inf]\n                 marginals: [ 0.000e+00  0.000e+00 -1.667e+00  0.000e+00\n                              0.000e+00  0.000e+00]\n          eqlin:  residual: [ 0.000e+00  0.000e+00  0.000e+00]\n                 marginals: [-6.667e-01 -0.000e+00 -3.333e-01]\n        ineqlin:  residual: []\n                 marginals: []\n mip_node_count: 0\n mip_dual_bound: 0.0\n        mip_gap: 0.0"
          },
          "metadata": {}
        }
      ],
      "execution_count": 23
    },
    {
      "cell_type": "markdown",
      "source": "# Exercício 5.14",
      "metadata": {}
    },
    {
      "cell_type": "code",
      "source": "# definindo A, B, c, I, J_1, J_2, lower_bounds, upper_bounds para o prooblema\n# 5.14\nindex = '5.14'\nfor key in problems[index].keys():\n    locals()[key] = problems[index][key]\n# resolvendo o problema\nz_star, x_star, I_star, solution_type, iterations, tableau_steps = simplex(A, b, c, I, J_1, J_2, lower_bounds, upper_bounds)\nresult_md = markdown_repr_T(tableau_steps)\ndisplay(\n    Markdown(\n        result_md\n    )\n)",
      "metadata": {
        "trusted": true
      },
      "outputs": [
        {
          "output_type": "display_data",
          "data": {
            "text/plain": "<IPython.core.display.Markdown object>",
            "text/markdown": "\n\n## Iteration 1\n\nPrevious Tableau:\n\n|   |\\\\(X_{0}\\\\) | \\\\(X_{1}\\\\) | \\\\(X_{2}\\\\) | \\\\(X_{3}\\\\) | \\\\(X_{4}\\\\) | RHS |\n|---|---|---|---|---|---|---|\n| Cost | 0.000 | 2.000 | -1.000 | 0.000 | 1.000 | 3.000 |\n| \\\\(X_{3}\\\\) | 0.000 | 2.500 | 1.500 | 1.000 | 0.500 | 8.500 |\n| \\\\(X_{0}\\\\) | 1.000 | 0.500 | -0.500 | 0.000 | -0.500 | 3.500 |\n### Pivot Operations\n\nVariable to enter: \\\\(1\\\\)\nVariable to leave: \\\\(3\\\\)\n#### Row Operations:\n\n1. \\\\(R_{X_{3}} \\leftarrow \\frac{R_{X_{3}}}{2.500}\\\\)\n1. \\\\(R_{\\text{{Cost}}} \\leftarrow R_{\\text{{Cost}}} - 2.000R_{3}\\\\)\n2. \\\\(R_{X_{0}} \\leftarrow R_{X_{0}} - 0.500R_{3}\\\\)\n\n\nComputed Tableau:\n\n|   |\\\\(X_{0}\\\\) | \\\\(X_{1}\\\\) | \\\\(X_{2}\\\\) | \\\\(X_{3}\\\\) | \\\\(X_{4}\\\\) | RHS |\n|---|---|---|---|---|---|---|\n| Cost | 0.000 | 0.000 | -2.200 | -0.800 | 0.600 | -3.800 |\n| \\\\(X_{1}\\\\) | 0.000 | 1.000 | 0.600 | 0.400 | 0.200 | 1.400 |\n| \\\\(X_{0}\\\\) | 1.000 | 0.000 | -0.800 | -0.200 | -0.600 | 1.800 |\n\n\n\\\\(J_1\\\\) (lower bounds variables): [3, 2, 4]\n\n\n\\\\(J_2\\\\) (upper bounds variables): []\n\n\n\n## Iteration 2\n\nPrevious Tableau:\n\n|   |\\\\(X_{0}\\\\) | \\\\(X_{1}\\\\) | \\\\(X_{2}\\\\) | \\\\(X_{3}\\\\) | \\\\(X_{4}\\\\) | RHS |\n|---|---|---|---|---|---|---|\n| Cost | 0.000 | 0.000 | -2.200 | -0.800 | 0.600 | -3.800 |\n| \\\\(X_{1}\\\\) | 0.000 | 1.000 | 0.600 | 0.400 | 0.200 | 1.400 |\n| \\\\(X_{0}\\\\) | 1.000 | 0.000 | -0.800 | -0.200 | -0.600 | 1.800 |\n### Pivot Operations\n\nVariable to enter: \\\\(4\\\\)\nVariable to leave: \\\\(0\\\\)\n#### Row Operations:\n\n1. \\\\(R_{X_{0}} \\leftarrow \\frac{R_{X_{0}}}{-0.600}\\\\)\n1. \\\\(R_{\\text{{Cost}}} \\leftarrow R_{\\text{{Cost}}} - 0.600R_{0}\\\\)\n2. \\\\(R_{X_{1}} \\leftarrow R_{X_{1}} - 0.200R_{0}\\\\)\n\n\nComputed Tableau:\n\n|   |\\\\(X_{0}\\\\) | \\\\(X_{1}\\\\) | \\\\(X_{2}\\\\) | \\\\(X_{3}\\\\) | \\\\(X_{4}\\\\) | RHS |\n|---|---|---|---|---|---|---|\n| Cost | 1.000 | 0.000 | -3.000 | -1.000 | 0.000 | -6.000 |\n| \\\\(X_{1}\\\\) | 0.333 | 1.000 | 0.333 | 0.333 | 0.000 | 0.667 |\n| \\\\(X_{4}\\\\) | -1.667 | -0.000 | 1.333 | 0.333 | 1.000 | 3.667 |\n\n\n\\\\(J_1\\\\) (lower bounds variables): [2, 3]\n\n\n\\\\(J_2\\\\) (upper bounds variables): [0]\n\n\n\n## Iteration 3\n\nPrevious Tableau:\n\n|   |\\\\(X_{0}\\\\) | \\\\(X_{1}\\\\) | \\\\(X_{2}\\\\) | \\\\(X_{3}\\\\) | \\\\(X_{4}\\\\) | RHS |\n|---|---|---|---|---|---|---|\n| Cost | 1.000 | 0.000 | -3.000 | -1.000 | 0.000 | -6.000 |\n| \\\\(X_{1}\\\\) | 0.333 | 1.000 | 0.333 | 0.333 | 0.000 | 0.667 |\n| \\\\(X_{4}\\\\) | -1.667 | -0.000 | 1.333 | 0.333 | 1.000 | 3.667 |\n### Pivot Operations\n\nVariable to enter: \\\\(None\\\\)\nVariable to leave: \\\\(None\\\\)\n#### Row Operations:\n\n1. \n\n\nComputed Tableau:\n\n|   |\\\\(X_{0}\\\\) | \\\\(X_{1}\\\\) | \\\\(X_{2}\\\\) | \\\\(X_{3}\\\\) | \\\\(X_{4}\\\\) | RHS |\n|---|---|---|---|---|---|---|\n| Cost | 1.000 | 0.000 | -3.000 | -1.000 | 0.000 | -6.000 |\n| \\\\(X_{1}\\\\) | 0.333 | 1.000 | 0.333 | 0.333 | 0.000 | 0.667 |\n| \\\\(X_{4}\\\\) | -1.667 | -0.000 | 1.333 | 0.333 | 1.000 | 3.667 |\n\n\n\\\\(J_1\\\\) (lower bounds variables): [2, 3]\n\n\n\\\\(J_2\\\\) (upper bounds variables): [0]\n\n\n\n## Solution for \n\n\\\\[\n    \\begin{aligned}\n    & \\text{Minimize} & C^{T} \\cdot X \\\\\n    & \\text{Subject to} & A \\cdot X & = B \\\\\n    & & L \\leq  X  \\leq U &\n    \\end{aligned}\n    \\\\]\n    where: \n    \\\\[\n    \\begin{aligned}\n    & & A = \\begin{bmatrix}\n1.000 & 3.000 & 1.000 & 1.000 & 0.000 \\\\\n2.000 & 1.000 & -1.000 & 0.000 & -1.000 \\\\\n\\end{bmatrix} \\\\\n    & & B = \\begin{bmatrix}\n8.000\\\\\n3.000\n\\end{bmatrix} \\\\\n    & & C^{T} = \\begin{bmatrix}\n-2.000 & -3.000 & 2.000 & 0.000 & 0.000\n\\end{bmatrix} \\\\\n    & & X = \\begin{bmatrix}\nX_{0}\\\\\nX_{1}\\\\\nX_{2}\\\\\nX_{3}\\\\\nX_{4}\n\\end{bmatrix} \\\\\n    & & L = [ -∞,\\ -2.00,\\ 2.00,\\ 0.00,\\ 0.00 ] \\\\\n    & & U = [ 4.00,\\ 3.00,\\ ∞,\\ ∞,\\ ∞ ]\n    \\end{aligned}\n    \\\\]\n\nSolution Type: Optimal unique solution\n\nOptimal Solution: \\\\(X^{*} = [ 4.00,\\ 0.67,\\ 2.00,\\ 0.00,\\ 3.67 ]\\\\)\n\nOptimal Value: \\\\(Z^{*} = -6.00\\\\)\n\nOptimal Basis: \\\\([1, 4]\\\\)\n\nFinal non-basic variables set at lower bounds \\\\(J_1\\\\): \\\\([2, 3]\\\\)\n\nFinal non-basic variables set at upper bounds \\\\(J_2\\\\): \\\\([0]\\\\)\n\n\\\\(\\hat{C}_{J_1}\\\\): \\\\([-3.0, -1.0]\\\\)\n\n\\\\(\\hat{C}_{J_2}\\\\): \\\\([1.0]\\\\)\n\nNumber of Iterations: 4\n\n"
          },
          "metadata": {}
        }
      ],
      "execution_count": 24
    },
    {
      "cell_type": "markdown",
      "source": "## Comparison with scipy",
      "metadata": {}
    },
    {
      "cell_type": "code",
      "source": "scipy_bounds = [\n    (lb, ub) for lb, ub in zip(lower_bounds, upper_bounds)\n]\nlinprog(c, A_eq=A, b_eq=b, bounds=scipy_bounds, method='highs')",
      "metadata": {
        "trusted": true
      },
      "outputs": [
        {
          "execution_count": 25,
          "output_type": "execute_result",
          "data": {
            "text/plain": "        message: Optimization terminated successfully. (HiGHS Status 7: Optimal)\n        success: True\n         status: 0\n            fun: -6.0\n              x: [ 4.000e+00  6.667e-01  2.000e+00  0.000e+00  3.667e+00]\n            nit: 2\n          lower:  residual: [       inf  2.667e+00  0.000e+00  0.000e+00\n                              3.667e+00]\n                 marginals: [ 0.000e+00  0.000e+00  3.000e+00  1.000e+00\n                              0.000e+00]\n          upper:  residual: [ 0.000e+00  2.333e+00        inf        inf\n                                    inf]\n                 marginals: [-1.000e+00  0.000e+00  0.000e+00  0.000e+00\n                              0.000e+00]\n          eqlin:  residual: [ 0.000e+00  0.000e+00]\n                 marginals: [-1.000e+00 -0.000e+00]\n        ineqlin:  residual: []\n                 marginals: []\n mip_node_count: 0\n mip_dual_bound: 0.0\n        mip_gap: 0.0"
          },
          "metadata": {}
        }
      ],
      "execution_count": 25
    }
  ]
}