{
  "metadata": {
    "kernelspec": {
      "name": "python",
      "display_name": "Python (Pyodide)",
      "language": "python"
    },
    "language_info": {
      "codemirror_mode": {
        "name": "python",
        "version": 3
      },
      "file_extension": ".py",
      "mimetype": "text/x-python",
      "name": "python",
      "nbconvert_exporter": "python",
      "pygments_lexer": "ipython3",
      "version": "3.8"
    }
  },
  "nbformat_minor": 4,
  "nbformat": 4,
  "cells": [
    {
      "cell_type": "code",
      "source": "%pip install numpy\nimport simplex\nimport numpy as np\n\nsolution_types = {\n    -1: 'Unfeasible',\n    1: 'Optimal finite solution found',\n    2: 'Multiple optimal solutions found',\n    3: 'Unbounded'\n}",
      "metadata": {
        "trusted": true
      },
      "outputs": [],
      "execution_count": null
    },
    {
      "cell_type": "markdown",
      "source": "# Letra a)",
      "metadata": {}
    },
    {
      "cell_type": "code",
      "source": "A = np.array([\n    [2, 3, 1, 0, 0],\n    [2, 1, 0, 1, 0],\n    [3, 3, 0, 0, 1]\n])\nb = np.array([\n    18,\n    12,\n    24\n])\nc = np.array([\n    -5,\n    -6,\n    0,\n    0,\n    0\n])\nI = [2, 3, 4]\nZ_star, x_star, I_star, iterations, solution_type = simplex.simplex(A, b, c, I, debug = True)\nresult_repr = f'''\nLetra a):\n\nZ_star = {Z_star}\nx_star = {x_star}\nI_star = {I_star}\niterations = {iterations}\nsolution_type = {solution_type} - {solution_types[solution_type]}\n'''\nprint(result_repr)",
      "metadata": {
        "trusted": true
      },
      "outputs": [],
      "execution_count": null
    },
    {
      "cell_type": "markdown",
      "source": "# Letra b)",
      "metadata": {}
    },
    {
      "cell_type": "code",
      "source": "A = np.array([\n    [2, 1, 5, 6, 1, 0, 0],\n    [3, 1, 3, 1, 0, 1, 0],\n    [7, 0, 0, 1, 0, 0, 1]\n])\nb = np.array([\n    20,\n    24,\n    70\n])\nc = np.array([\n    -15,\n    -6,\n    -9,\n    -2,\n    0,\n    0,\n    0\n])\nI = [4, 5, 6]\nZ_star, x_star, I_star, iterations, solution_type = simplex.simplex(A, b, c, I, debug = True)\nresult_repr = f'''\nLetra b):\n\nZ_star = {Z_star}\nx_star = {x_star}\nI_star = {I_star}\niterations = {iterations}\nsolution_type = {solution_type} - {solution_types[solution_type]}\n'''\nprint(result_repr)",
      "metadata": {
        "trusted": true
      },
      "outputs": [],
      "execution_count": null
    },
    {
      "cell_type": "markdown",
      "source": "# Letra c)",
      "metadata": {}
    },
    {
      "cell_type": "code",
      "source": "A = np.array([\n    [1, 3, 1, 0, 0, 0],\n    [2, 2, 0, 1, 0, 0],\n    [1, 1, 0, 0, 1, 0],\n    [0, 1, 0, 0, 0, 1]\n])\nb = np.array([\n    7,\n    8,\n    3,\n    2\n])\nc = np.array([\n    -4,\n    -3,\n    0,\n    0,\n    0,\n    0\n])\nI = [2, 3, 4, 5]\nZ_star, x_star, I_star, iterations, solution_type = simplex.simplex(A, b, c, I, debug = True)\nresult_repr = f'''\nLetra c):\n\nZ_star = {Z_star}\nx_star = {x_star}\nI_star = {I_star}\niterations = {iterations}\nsolution_type = {solution_type} - {solution_types[solution_type]}\n'''\nprint(result_repr)",
      "metadata": {
        "trusted": true
      },
      "outputs": [],
      "execution_count": null
    },
    {
      "cell_type": "code",
      "source": "",
      "metadata": {
        "trusted": true
      },
      "outputs": [],
      "execution_count": null
    }
  ]
}