{
  "metadata": {
    "kernelspec": {
      "name": "python",
      "display_name": "Python (Pyodide)",
      "language": "python"
    },
    "language_info": {
      "codemirror_mode": {
        "name": "python",
        "version": 3
      },
      "file_extension": ".py",
      "mimetype": "text/x-python",
      "name": "python",
      "nbconvert_exporter": "python",
      "pygments_lexer": "ipython3",
      "version": "3.8"
    }
  },
  "nbformat_minor": 4,
  "nbformat": 4,
  "cells": [
    {
      "cell_type": "code",
      "source": "%pip install numpy\nimport simplex\nimport numpy as np\n\nsolution_types = {\n    -1: 'Unfeasible',\n    1: 'Optimal finite solution found',\n    2: 'Multiple optimal solutions found',\n    3: 'Unbounded'\n}",
      "metadata": {
        "trusted": true
      },
      "outputs": [],
      "execution_count": 1
    },
    {
      "cell_type": "markdown",
      "source": "# Letra a)",
      "metadata": {}
    },
    {
      "cell_type": "code",
      "source": "A = np.array([\n    [2, 3, 1, 0, 0],\n    [2, 1, 0, 1, 0],\n    [3, 3, 0, 0, 1]\n])\nb = np.array([\n    18,\n    12,\n    24\n])\nc = np.array([\n    -5,\n    -6,\n    0,\n    0,\n    0\n])\nI = [2, 3, 4]\nZ_star, x_star, I_star, iterations, solution_type = simplex.simplex(A, b, c, I, debug = True)\nresult_repr = f'''\nLetra a):\n\nZ_star = {Z_star}\nx_star = {x_star}\nI_star = {I_star}\niterations = {iterations}\nsolution_type = {solution_type} - {solution_types[solution_type]}\n'''\nprint(result_repr)",
      "metadata": {
        "trusted": true
      },
      "outputs": [],
      "execution_count": null
    },
    {
      "cell_type": "markdown",
      "source": "# Letra b)",
      "metadata": {}
    },
    {
      "cell_type": "code",
      "source": "A = np.array([\n    [2, 1, 5, 6, 1, 0, 0],\n    [3, 1, 3, 1, 0, 1, 0],\n    [7, 0, 0, 1, 0, 0, 1]\n])\nb = np.array([\n    20,\n    24,\n    70\n])\nc = np.array([\n    -15,\n    -6,\n    -9,\n    -2,\n    0,\n    0,\n    0\n])\nI = [4, 5, 6]\nZ_star, x_star, I_star, iterations, solution_type = simplex.simplex(A, b, c, I, debug = True)\nresult_repr = f'''\nLetra b):\n\nZ_star = {Z_star}\nx_star = {x_star}\nI_star = {I_star}\niterations = {iterations}\nsolution_type = {solution_type} - {solution_types[solution_type]}\n'''\nprint(result_repr)",
      "metadata": {
        "trusted": true
      },
      "outputs": [],
      "execution_count": null
    },
    {
      "cell_type": "markdown",
      "source": "# Letra c)",
      "metadata": {}
    },
    {
      "cell_type": "code",
      "source": "A = np.array([\n    [1, 3, 1, 0, 0, 0],\n    [2, 2, 0, 1, 0, 0],\n    [1, 1, 0, 0, 1, 0],\n    [0, 1, 0, 0, 0, 1]\n])\nb = np.array([\n    7,\n    8,\n    3,\n    2\n])\nc = np.array([\n    -4,\n    -3,\n    0,\n    0,\n    0,\n    0\n])\nI = [2, 3, 4, 5]\nZ_star, x_star, I_star, iterations, solution_type = simplex.simplex(A, b, c, I, debug = True)\nresult_repr = f'''\nLetra c):\n\nZ_star = {Z_star}\nx_star = {x_star}\nI_star = {I_star}\niterations = {iterations}\nsolution_type = {solution_type} - {solution_types[solution_type]}\n'''\nprint(result_repr)",
      "metadata": {
        "trusted": true
      },
      "outputs": [
        {
          "name": "stdout",
          "text": "\n--------------------------------------------------------------------------------\nSolution for:\n\nmin cᵀx\nsubject to:\nAx = b\n\nwhere \n\nc=[-4 -3  0  0  0  0],\nx=['x_0' 'x_1' 'x_2' 'x_3' 'x_4' 'x_5'],\nA=\n[[1 3 1 0 0 0]\n [2 2 0 1 0 0]\n [1 1 0 0 1 0]\n [0 1 0 0 0 1]],\nb=\n[[7]\n [8]\n [3]\n [2]]\n\n\nAfter Iteration 1:\nBasic variables indices before: [2 3 4 5]\nNon-basic variables indices before: [0 1]\nBasic variables indices after: [2, 3, 0, 5]\nNon-basic variables indices after: [4, 1]\nx_I = [7. 8. 3. 2.]\nA_I =\n[[1 0 0 0]\n [0 1 0 0]\n [0 0 1 0]\n [0 0 0 1]]\nA_I^-1 =\n[[1. 0. 0. 0.]\n [0. 1. 0. 0.]\n [0. 0. 1. 0.]\n [0. 0. 0. 1.]]\nA_J =\n[[1 3]\n [2 2]\n [1 1]\n [0 1]]\nπ = [0. 0. 0. 0.]\nz_0 = 0.0\nc_hat_J = [4. 3.]\ny_k = [1. 2. 1. 0.]\nVariable to enter the basis: x_0\nVariable to leave the basis: x_4\n\nAfter Iteration 2:\nBasic variables indices before: [2 3 0 5]\nNon-basic variables indices before: [4 1]\nBasic variables indices after: [2, 3, 0, 5]\nNon-basic variables indices after: [4, 1]\nx_I = [4. 2. 3. 2.]\nA_I =\n[[1 0 1 0]\n [0 1 2 0]\n [0 0 1 0]\n [0 0 0 1]]\nA_I^-1 =\n[[ 1.  0. -1.  0.]\n [ 0.  1. -2.  0.]\n [ 0.  0.  1.  0.]\n [ 0.  0.  0.  1.]]\nA_J =\n[[0 3]\n [0 2]\n [1 1]\n [0 1]]\nπ = [ 0.  0. -4.  0.]\nz_0 = -12.0\nc_hat_J = [-4. -1.]\ny_k = [1. 2. 1. 0.]\nVariable to enter the basis: x_None\nVariable to leave the basis: x_None\n\n\nLetra c):\n\nZ_star = -12.0\nx_star = [3. 0. 4. 2. 0. 2.]\nI_star = [2, 3, 0, 5]\niterations = 2\nsolution_type = 1 - Optimal finite solution found\n\n",
          "output_type": "stream"
        }
      ],
      "execution_count": 2
    },
    {
      "cell_type": "markdown",
      "source": "# Letra d)",
      "metadata": {}
    },
    {
      "cell_type": "code",
      "source": "A = np.array([\n    [3, 1, 1, 1, 0, 0],\n    [1,-1, 2, 0, 1, 0],\n    [1, 1,-1, 0, 0, 1],\n])\nb = np.array([\n    60,\n    10,\n    20\n])\nc = np.array([\n    -2,\n    1,\n    -1,\n    0,\n    0,\n    0\n])\nI = [3, 4, 5]\nZ_star, x_star, I_star, iterations, solution_type = simplex.simplex(A, b, c, I, debug = True)\nresult_repr = f'''\nLetra d):\n\nZ_star = {Z_star}\nx_star = {x_star}\nI_star = {I_star}\niterations = {iterations}\nsolution_type = {solution_type} - {solution_types[solution_type]}\n'''\nprint(result_repr)",
      "metadata": {
        "trusted": true
      },
      "outputs": [
        {
          "name": "stdout",
          "text": "\n--------------------------------------------------------------------------------\nSolution for:\n\nmin cᵀx\nsubject to:\nAx = b\n\nwhere \n\nc=[-2  1 -1  0  0  0],\nx=['x_0' 'x_1' 'x_2' 'x_3' 'x_4' 'x_5'],\nA=\n[[ 3  1  1  1  0  0]\n [ 1 -1  2  0  1  0]\n [ 1  1 -1  0  0  1]],\nb=\n[[60]\n [10]\n [20]]\n\n\nAfter Iteration 1:\nBasic variables indices before: [3 4 5]\nNon-basic variables indices before: [0 1 2]\nBasic variables indices after: [3, 0, 5]\nNon-basic variables indices after: [4, 1, 2]\nx_I = [60. 10. 20.]\nA_I =\n[[1 0 0]\n [0 1 0]\n [0 0 1]]\nA_I^-1 =\n[[1. 0. 0.]\n [0. 1. 0.]\n [0. 0. 1.]]\nA_J =\n[[ 3  1  1]\n [ 1 -1  2]\n [ 1  1 -1]]\nπ = [0. 0. 0.]\nz_0 = 0.0\nc_hat_J = [ 2. -1.  1.]\ny_k = [3. 1. 1.]\nVariable to enter the basis: x_0\nVariable to leave the basis: x_4\n\nAfter Iteration 2:\nBasic variables indices before: [3 0 5]\nNon-basic variables indices before: [4 1 2]\nBasic variables indices after: [3, 0, 1]\nNon-basic variables indices after: [4, 5, 2]\nx_I = [30. 10. 10.]\nA_I =\n[[1 3 0]\n [0 1 0]\n [0 1 1]]\nA_I^-1 =\n[[ 1. -3.  0.]\n [ 0.  1.  0.]\n [ 0. -1.  1.]]\nA_J =\n[[ 0  1  1]\n [ 1 -1  2]\n [ 0  1 -1]]\nπ = [ 0. -2.  0.]\nz_0 = -20.0\nc_hat_J = [-2.  1. -3.]\ny_k = [ 4. -1.  2.]\nVariable to enter the basis: x_1\nVariable to leave the basis: x_5\n\nAfter Iteration 3:\nBasic variables indices before: [3 0 1]\nNon-basic variables indices before: [4 5 2]\nBasic variables indices after: [3, 0, 1]\nNon-basic variables indices after: [4, 5, 2]\nx_I = [10. 15.  5.]\nA_I =\n[[ 1  3  1]\n [ 0  1 -1]\n [ 0  1  1]]\nA_I^-1 =\n[[ 1.  -1.  -2. ]\n [ 0.   0.5  0.5]\n [ 0.  -0.5  0.5]]\nA_J =\n[[ 0  0  1]\n [ 1  0  2]\n [ 0  1 -1]]\nπ = [ 0.  -1.5 -0.5]\nz_0 = -25.0\nc_hat_J = [-1.5 -0.5 -1.5]\ny_k = [ 4. -1.  2.]\nVariable to enter the basis: x_None\nVariable to leave the basis: x_None\n\n\nLetra d):\n\nZ_star = -25.0\nx_star = [15.  5.  0. 10.  0.  0.]\nI_star = [3, 0, 1]\niterations = 3\nsolution_type = 1 - Optimal finite solution found\n\n",
          "output_type": "stream"
        }
      ],
      "execution_count": 4
    },
    {
      "cell_type": "markdown",
      "source": "# Letra e)",
      "metadata": {}
    },
    {
      "cell_type": "code",
      "source": "A = np.array([\n    [2, 3, 1, 1, 0, 0],\n    [4, 2, 2, 0, 1, 0],\n    [3, 2, 2, 0, 0, 1],\n])\nb = np.array([\n     5,\n    11,\n     8\n])\nc = np.array([\n    -5,\n    -4,\n    -3,\n     0,\n     0,\n     0\n])\nI = [3, 4, 5]\nZ_star, x_star, I_star, iterations, solution_type = simplex.simplex(A, b, c, I, debug = True)\nresult_repr = f'''\nLetra e):\n\nZ_star = {Z_star}\nx_star = {x_star}\nI_star = {I_star}\niterations = {iterations}\nsolution_type = {solution_type} - {solution_types[solution_type]}\n'''\nprint(result_repr)",
      "metadata": {
        "trusted": true
      },
      "outputs": [
        {
          "name": "stdout",
          "text": "\n--------------------------------------------------------------------------------\nSolution for:\n\nmin cᵀx\nsubject to:\nAx = b\n\nwhere \n\nc=[-5 -4 -3  0  0  0],\nx=['x_0' 'x_1' 'x_2' 'x_3' 'x_4' 'x_5'],\nA=\n[[2 3 1 1 0 0]\n [4 2 2 0 1 0]\n [3 2 2 0 0 1]],\nb=\n[[ 5]\n [11]\n [ 8]]\n\n\nAfter Iteration 1:\nBasic variables indices before: [3 4 5]\nNon-basic variables indices before: [0 1 2]\nBasic variables indices after: [0, 4, 5]\nNon-basic variables indices after: [3, 1, 2]\nx_I = [ 5. 11.  8.]\nA_I =\n[[1 0 0]\n [0 1 0]\n [0 0 1]]\nA_I^-1 =\n[[1. 0. 0.]\n [0. 1. 0.]\n [0. 0. 1.]]\nA_J =\n[[2 3 1]\n [4 2 2]\n [3 2 2]]\nπ = [0. 0. 0.]\nz_0 = 0.0\nc_hat_J = [5. 4. 3.]\ny_k = [2. 4. 3.]\nVariable to enter the basis: x_0\nVariable to leave the basis: x_3\n\nAfter Iteration 2:\nBasic variables indices before: [0 4 5]\nNon-basic variables indices before: [3 1 2]\nBasic variables indices after: [0, 4, 2]\nNon-basic variables indices after: [3, 1, 5]\nx_I = [2.5 1.  0.5]\nA_I =\n[[2 0 0]\n [4 1 0]\n [3 0 1]]\nA_I^-1 =\n[[ 0.5  0.   0. ]\n [-2.   1.   0. ]\n [-1.5  0.   1. ]]\nA_J =\n[[1 3 1]\n [0 2 2]\n [0 2 2]]\nπ = [-2.5  0.   0. ]\nz_0 = -12.5\nc_hat_J = [-2.5 -3.5  0.5]\ny_k = [0.5 0.  0.5]\nVariable to enter the basis: x_2\nVariable to leave the basis: x_5\n\nAfter Iteration 3:\nBasic variables indices before: [0 4 2]\nNon-basic variables indices before: [3 1 5]\nBasic variables indices after: [0, 4, 2]\nNon-basic variables indices after: [3, 1, 5]\nx_I = [2. 1. 1.]\nA_I =\n[[2 0 1]\n [4 1 2]\n [3 0 2]]\nA_I^-1 =\n[[ 2.  0. -1.]\n [-2.  1.  0.]\n [-3.  0.  2.]]\nA_J =\n[[1 3 0]\n [0 2 0]\n [0 2 1]]\nπ = [-1.  0. -1.]\nz_0 = -13.0\nc_hat_J = [-1. -1. -1.]\ny_k = [0.5 0.  0.5]\nVariable to enter the basis: x_None\nVariable to leave the basis: x_None\n\n\nLetra e):\n\nZ_star = -13.0\nx_star = [2. 0. 1. 0. 1. 0.]\nI_star = [0, 4, 2]\niterations = 3\nsolution_type = 1 - Optimal finite solution found\n\n",
          "output_type": "stream"
        }
      ],
      "execution_count": 5
    },
    {
      "cell_type": "code",
      "source": "",
      "metadata": {
        "trusted": true
      },
      "outputs": [],
      "execution_count": null
    }
  ]
}