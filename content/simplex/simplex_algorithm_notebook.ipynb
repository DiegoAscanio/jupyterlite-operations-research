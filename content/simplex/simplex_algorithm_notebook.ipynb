{
  "metadata": {
    "kernelspec": {
      "name": "python",
      "display_name": "Python (Pyodide)",
      "language": "python"
    },
    "language_info": {
      "codemirror_mode": {
        "name": "python",
        "version": 3
      },
      "file_extension": ".py",
      "mimetype": "text/x-python",
      "name": "python",
      "nbconvert_exporter": "python",
      "pygments_lexer": "ipython3",
      "version": "3.8"
    }
  },
  "nbformat_minor": 4,
  "nbformat": 4,
  "cells": [
    {
      "cell_type": "code",
      "source": "%pip install numpy\n%load_ext autoreload\n%autoreload 2\nfrom simplex_two_phases import simplex as simplex_two_phases\nfrom simplex import simplex\n    \nimport numpy as np\n\nsolution_types = {\n    -1: 'Unfeasible',\n    1: 'Optimal finite solution found',\n    2: 'Multiple optimal solutions found',\n    3: 'Unbounded'\n}",
      "metadata": {
        "trusted": true
      },
      "outputs": [
        {
          "name": "stdout",
          "text": "The autoreload extension is already loaded. To reload it, use:\n  %reload_ext autoreload\n",
          "output_type": "stream"
        }
      ],
      "execution_count": 74
    },
    {
      "cell_type": "markdown",
      "source": "# Exemplo",
      "metadata": {}
    },
    {
      "cell_type": "code",
      "source": "A = np.array([\n    [2, 3,  1,   0, 0],\n    [2, 1,  0,  -1, 0],\n    [3, 3,  0,   0, 1]\n])\nb = np.array([\n    180,\n    3,\n    24\n])\nc = np.array([\n    -5,\n    -6,\n    0,\n    0,\n    0\n])\nI = [2, 3, 4]\nZ_star, x_star, I_star, A_I, A, iterations, solution_type, debug_info = simplex_two_phases(A, b, c, I, debug = True)\n#Z_star, x_star, I_star, iterations, solution_type = simplex(A, b, c, I, debug = True)\nresult_repr = f'''\nLetra a):\n\nZ_star = {Z_star}\nx_star = {x_star}\nI_star = {I_star}\niterations = {iterations}\nsolution_type = {solution_type} - {solution_types[solution_type]}\n'''\nprint(result_repr)",
      "metadata": {
        "trusted": true
      },
      "outputs": [
        {
          "name": "stdout",
          "text": "\nLetra a):\n\nZ_star = -48.0\nx_star = [  0.   8. 156.   5.   0.]\nI_star = [2 1 3]\niterations = 3\nsolution_type = 1 - Optimal finite solution found\n\n",
          "output_type": "stream"
        }
      ],
      "execution_count": 83
    },
    {
      "cell_type": "code",
      "source": "debug_info",
      "metadata": {
        "trusted": true
      },
      "outputs": [
        {
          "execution_count": 84,
          "output_type": "execute_result",
          "data": {
            "text/plain": "{'first phase': {'first phase': {'first phase': {},\n   'second phase': {'iteration_00': {'trying to make x_5 to leave': {'y_k': array([2., 2., 3.]),\n      'ratios': array([90. ,  1.5,  8. ]),\n      'r': 5},\n     'general state': {'A_I': array([[1, 0, 0],\n             [0, 1, 0],\n             [0, 0, 1]]),\n      'A_I_Inv': array([[1., 0., 0.],\n             [0., 1., 0.],\n             [0., 0., 1.]]),\n      'x_I': array([180.,   3.,  24.]),\n      'π': array([0., 1., 0.]),\n      'z_0': 3.0,\n      'A_J': array([[ 2,  3,  0],\n             [ 2,  1, -1],\n             [ 3,  3,  0]]),\n      'c_hat_J': array([ 2.,  1., -1.]),\n      'k': 0,\n      'r': 1,\n      'y_k': array([2., 2., 3.]),\n      'I': array([2, 0, 4]),\n      'J': array([5, 1, 3])}},\n    'iteration_01': {}}}},\n 'second phase': {'iteration_01': {'trying to make x_0 to leave': {'y_k': array([2. , 0.5, 1.5]),\n    'ratios': array([88.5,  3. , 13. ]),\n    'r': 0},\n   'general state': {'A_I': array([[1, 2, 0],\n           [0, 2, 0],\n           [0, 3, 1]]),\n    'A_I_Inv': array([[ 1. , -1. ,  0. ],\n           [ 0. ,  0.5,  0. ],\n           [ 0. , -1.5,  1. ]]),\n    'x_I': array([177. ,   1.5,  19.5]),\n    'π': array([ 0. , -2.5,  0. ]),\n    'z_0': -7.5,\n    'A_J': array([[ 3,  0],\n           [ 1, -1],\n           [ 3,  0]]),\n    'c_hat_J': array([3.5, 2.5]),\n    'k': 0,\n    'r': 1,\n    'y_k': array([2. , 0.5, 1.5]),\n    'I': array([2, 1, 4]),\n    'J': array([0, 3])}},\n  'iteration_02': {'trying to make x_4 to leave': {'y_k': array([ 3., -1.,  3.]),\n    'ratios': array([57., inf,  5.]),\n    'r': 4},\n   'general state': {'A_I': array([[1, 3, 0],\n           [0, 1, 0],\n           [0, 3, 1]]),\n    'A_I_Inv': array([[ 1., -3.,  0.],\n           [ 0.,  1.,  0.],\n           [ 0., -3.,  1.]]),\n    'x_I': array([171.,   3.,  15.]),\n    'π': array([ 0., -6.,  0.]),\n    'z_0': -18.0,\n    'A_J': array([[ 2,  0],\n           [ 2, -1],\n           [ 3,  0]]),\n    'c_hat_J': array([-7.,  6.]),\n    'k': 1,\n    'r': 2,\n    'y_k': array([ 3., -1.,  3.]),\n    'I': array([2, 1, 3]),\n    'J': array([0, 4])}},\n  'iteration_03': {}}}"
          },
          "metadata": {}
        }
      ],
      "execution_count": 84
    },
    {
      "cell_type": "code",
      "source": "",
      "metadata": {
        "trusted": true
      },
      "outputs": [],
      "execution_count": null
    }
  ]
}