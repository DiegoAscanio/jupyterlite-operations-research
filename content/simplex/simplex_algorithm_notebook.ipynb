{
  "metadata": {
    "kernelspec": {
      "name": "python",
      "display_name": "Python (Pyodide)",
      "language": "python"
    },
    "language_info": {
      "codemirror_mode": {
        "name": "python",
        "version": 3
      },
      "file_extension": ".py",
      "mimetype": "text/x-python",
      "name": "python",
      "nbconvert_exporter": "python",
      "pygments_lexer": "ipython3",
      "version": "3.8"
    }
  },
  "nbformat_minor": 4,
  "nbformat": 4,
  "cells": [
    {
      "cell_type": "code",
      "source": "%pip install numpy\nimport simplex\nimport numpy as np\n\nsolution_types = {\n    -1: 'Unfeasible',\n    1: 'Optimal finite solution found',\n    2: 'Multiple optimal solutions found',\n    3: 'Unbounded'\n}",
      "metadata": {
        "trusted": true
      },
      "outputs": [],
      "execution_count": 1
    },
    {
      "cell_type": "markdown",
      "source": "# Exemplo",
      "metadata": {}
    },
    {
      "cell_type": "code",
      "source": "A = np.array([\n    [2, 3, 1, 0, 0],\n    [2, 1, 0, 1, 0],\n    [3, 3, 0, 0, 1]\n])\nb = np.array([\n    18,\n    12,\n    24\n])\nc = np.array([\n    -5,\n    -6,\n    0,\n    0,\n    0\n])\nI = [2, 3, 4]\nZ_star, x_star, I_star, iterations, solution_type = simplex.simplex(A, b, c, I, debug = True)\nresult_repr = f'''\nLetra a):\n\nZ_star = {Z_star}\nx_star = {x_star}\nI_star = {I_star}\niterations = {iterations}\nsolution_type = {solution_type} - {solution_types[solution_type]}\n'''\nprint(result_repr)",
      "metadata": {
        "trusted": true
      },
      "outputs": [
        {
          "name": "stdout",
          "text": "\n--------------------------------------------------------------------------------\nSolution for:\n\nmin cᵀx\nsubject to:\nAx = b\n\nwhere \n\nc=[-5 -6  0  0  0],\nx=['x_0' 'x_1' 'x_2'],\nA=\n[[2 3 1 0 0]\n [2 1 0 1 0]\n [3 3 0 0 1]],\nb=\n[[18]\n [12]\n [24]]\n\n\nAfter Iteration 1:\nBasic variables indices before: [2 3 4]\nNon-basic variables indices before: [0 1]\nBasic variables indices after: [1, 3, 4]\nNon-basic variables indices after: [0, 2]\nx_I = [18. 12. 24.]\nA_I =\n[[1 0 0]\n [0 1 0]\n [0 0 1]]\nA_I^-1 =\n[[1. 0. 0.]\n [0. 1. 0.]\n [0. 0. 1.]]\nA_J =\n[[2 3]\n [2 1]\n [3 3]]\nπ = [0. 0. 0.]\nz_0 = 0.0\nc_hat_J = [5. 6.]\nVariable to enter the basis: x_1\nVariable to leave the basis: x_2\n\nAfter Iteration 2:\nBasic variables indices before: [1 3 4]\nNon-basic variables indices before: [0 2]\nBasic variables indices after: [1, 0, 4]\nNon-basic variables indices after: [3, 2]\nx_I = [6. 6. 6.]\nA_I =\n[[3 0 0]\n [1 1 0]\n [3 0 1]]\nA_I^-1 =\n[[ 0.33333333  0.          0.        ]\n [-0.33333333  1.          0.        ]\n [-1.          0.          1.        ]]\nA_J =\n[[2 1]\n [2 0]\n [3 0]]\nπ = [-2.  0.  0.]\nz_0 = -36.0\nc_hat_J = [ 1. -2.]\nVariable to enter the basis: x_0\nVariable to leave the basis: x_3\n\nAfter Iteration 3:\nBasic variables indices before: [1 0 4]\nNon-basic variables indices before: [3 2]\nBasic variables indices after: [1, 0, 4]\nNon-basic variables indices after: [3, 2]\nx_I = [3.  4.5 1.5]\nA_I =\n[[3 2 0]\n [1 2 0]\n [3 3 1]]\nA_I^-1 =\n[[ 0.5  -0.5   0.  ]\n [-0.25  0.75  0.  ]\n [-0.75 -0.75  1.  ]]\nA_J =\n[[0 1]\n [1 0]\n [0 0]]\nπ = [-1.75 -0.75  0.  ]\nz_0 = -40.5\nc_hat_J = [-0.75 -1.75]\nVariable to enter the basis: x_None\nVariable to leave the basis: x_None\n\n\nLetra a):\n\nZ_star = -40.5\nx_star = [4.5 3.  0.  0.  1.5]\nI_star = [1, 0, 4]\niterations = 3\nsolution_type = 1 - Optimal finite solution found\n\n",
          "output_type": "stream"
        }
      ],
      "execution_count": 2
    }
  ]
}