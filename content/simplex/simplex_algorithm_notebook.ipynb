{
  "metadata": {
    "kernelspec": {
      "name": "python",
      "display_name": "Python (Pyodide)",
      "language": "python"
    },
    "language_info": {
      "codemirror_mode": {
        "name": "python",
        "version": 3
      },
      "file_extension": ".py",
      "mimetype": "text/x-python",
      "name": "python",
      "nbconvert_exporter": "python",
      "pygments_lexer": "ipython3",
      "version": "3.8"
    }
  },
  "nbformat_minor": 4,
  "nbformat": 4,
  "cells": [
    {
      "cell_type": "code",
      "source": "%pip install numpy\n%pip install sympy\n%load_ext autoreload\n%autoreload 2\nfrom simplex_two_phases import simplex as simplex_two_phases\nfrom simplex import simplex\n    \nimport numpy as np\n\nsolution_types = {\n    -1: 'Unfeasible',\n    1: 'Optimal finite solution found',\n    2: 'Multiple optimal solutions found',\n    3: 'Unbounded'\n}",
      "metadata": {
        "trusted": true
      },
      "outputs": [],
      "execution_count": 1
    },
    {
      "cell_type": "markdown",
      "source": "# Exemplo",
      "metadata": {}
    },
    {
      "cell_type": "code",
      "source": "# letra e\nA = np.array([\n    [-1, -5, 1, 0,-1, 0, 0, 0, 0, 0],\n    [-1, -5, 1, 0, 0, 1, 0, 0, 0, 0],\n    [-1, -3, 0, 1, 0, 0,-1, 0, 0, 0],\n    [-1, -3, 0, 1, 0, 0, 0, 1, 0, 0],\n    [-1, -5, 1, 0,-1, 0, 0, 0,-1, 0],\n    [-1, -5, 1, 0, 0, 1, 0, 0, 0,-1],\n])\nb = np.array([\n    4,\n    4,\n    2,\n    2,\n    4,\n    4,\n])\nc = np.array([\n    -2,\n    3,\n    4,\n    0,\n    0,\n    0,\n    0,\n    0,\n    0,\n    0\n])\nm, n = A.shape\nI = [4, 5, 6, 7, 8, 9]\nZ_star, x_I, I_star, A_I, A, iterations, solution_type, debug_info = simplex_two_phases(A, b, c, I, debug = True)\n#Z_star, x_star, I_star, iterations, solution_type = simplex(A, b, c, I, debug = True)\nx_star = np.zeros(n)\nx_star[I_star] = x_I\nresult_repr = f'''\nExercicio Livro):\n\nZ_star = {Z_star}\nx_star = {x_star}\nI_star = {I_star}\niterations = {iterations}\nsolution_type = {solution_type} - {solution_types[solution_type]}\n'''\nprint(result_repr)",
      "metadata": {
        "trusted": true
      },
      "outputs": [
        {
          "name": "stdout",
          "text": "\nExercicio Livro):\n\nZ_star = 16.0\nx_star = [0. 0. 4. 2. 0. 0. 0. 0. 0. 0.]\nI_star = [2 5 3 7 8 9]\niterations = 2\nsolution_type = 2 - Multiple optimal solutions found\n\n",
          "output_type": "stream"
        }
      ],
      "execution_count": 3
    },
    {
      "cell_type": "code",
      "source": "A = np.array([\n    [1, 1, 0, 1, 0, 0],\n    [0, 1,-1, 0,-1, 0],\n    [4, 2, 1, 0, 0, 1]\n])\nb = np.array([\n    6,\n    4,\n    15\n])\nc = np.array([\n    -2, -5, -1, 0, 0, 0\n])\nm, n = A.shape\nI = [3, 4, 5]\nZ_star, x_I, I_star, A_I, A, iterations, solution_type, debug_info = simplex_two_phases(A, b, c, I, debug = True)\n#Z_star, x_star, I_star, iterations, solution_type = simplex(A, b, c, I, debug = True)\nx_star = np.zeros(n)\nx_star[I_star] = x_I\nresult_repr = f'''\nExercicio 2 Lista Mara):\n\nZ_star = {Z_star}\nx_star = {x_star}\nI_star = {I_star}\niterations = {iterations}\nsolution_type = {solution_type} - {solution_types[solution_type]}\n'''\nprint(result_repr)",
      "metadata": {
        "trusted": true
      },
      "outputs": [
        {
          "name": "stdout",
          "text": "\nExercicio 2 Lista Mara):\n\nZ_star = -32.0\nx_star = [0. 6. 2. 0. 0. 1.]\nI_star = [2 1 5]\niterations = 2\nsolution_type = 1 - Optimal finite solution found\n\n",
          "output_type": "stream"
        }
      ],
      "execution_count": 6
    },
    {
      "cell_type": "code",
      "source": "A = np.array([\n    [ 1, 0, 0, 1, 1, 0, 0],\n    [ 0, 1, 1, 0, 0, 1, 0],\n    [-1, 1, 1, 1, 0, 0,-1]\n])\nb = np.array([\n    8,\n    8,\n    4\n])\nc = np.array([\n    1,\n   -3,\n   -5,\n   -1,\n    0,\n    0,\n    0,\n])\nm, n = A.shape\nI = [4, 5, 6]\nZ_star, x_I, I_star, A_I, A, iterations, solution_type, debug_info = simplex_two_phases(A, b, c, I, debug = True)\n#Z_star, x_star, I_star, iterations, solution_type = simplex(A, b, c, I, debug = True)\nx_star = np.zeros(n)\nx_star[I_star] = x_I\nresult_repr = f'''\nExercicio 3 Lista Mara):\n\nZ_star = {Z_star}\nx_star = {x_star}\nI_star = {I_star}\niterations = {iterations}\nsolution_type = {solution_type} - {solution_types[solution_type]}\n'''\nprint(result_repr)",
      "metadata": {
        "trusted": true
      },
      "outputs": [
        {
          "name": "stdout",
          "text": "\nExercicio 3 Lista Mara):\n\nZ_star = -48.0\nx_star = [ 0.  0.  8.  8.  0.  0. 12.]\nI_star = [3 6 2]\niterations = 4\nsolution_type = 1 - Optimal finite solution found\n\n",
          "output_type": "stream"
        }
      ],
      "execution_count": 7
    },
    {
      "cell_type": "code",
      "source": "A = np.array([\n    [0.2, 0.3, 0.4, 1, 0, 0, 0, 0],\n    [  1,   1,   1, 0, 1, 0, 0, 0],\n    [  1,   0,   0, 0, 0,-1, 0, 0],\n    [  0,   1,   0, 0, 0, 0,-1, 0],\n    [  0,   0,   1, 0, 0, 0, 0,-1]\n])\nb = np.array([\n    60000,\n    200000,\n    400,\n    800,\n    10000\n])\nc = np.array([\n    -2.16,\n    -1.26,\n    -0.8,\n    0,\n    0,\n    0,\n    0,\n    0\n])\nm, n = A.shape\nI = [3, 4, 5, 6, 7]\nZ_star, x_I, I_star, A_I, A, iterations, solution_type, debug_info = simplex_two_phases(A, b, c, I, debug = True)\n#Z_star, x_star, I_star, iterations, solution_type = simplex(A, b, c, I, debug = True)\nx_star = np.zeros(n)\nx_star[I_star] = x_I\nresult_repr = f'''\nExercicio 4 Lista Mara):\n\nZ_star = {Z_star}\nx_star = {x_star}\nI_star = {I_star}\niterations = {iterations}\nsolution_type = {solution_type} - {solution_types[solution_type]}\n'''\nprint(result_repr)",
      "metadata": {
        "trusted": true
      },
      "outputs": [
        {
          "name": "stdout",
          "text": "\nExercicio 4 Lista Mara):\n\nZ_star = -417680.0\nx_star = [189200.    800.  10000.  17920.      0. 188800.      0.      0.]\nI_star = [3 5 0 1 2]\niterations = 4\nsolution_type = 1 - Optimal finite solution found\n\n",
          "output_type": "stream"
        }
      ],
      "execution_count": 2
    }
  ]
}