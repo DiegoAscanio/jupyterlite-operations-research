{
 "cells": [
  {
   "cell_type": "code",
   "execution_count": 1,
   "metadata": {},
   "outputs": [
    {
     "name": "stdout",
     "output_type": "stream",
     "text": [
      "Requirement already satisfied: numpy in /home/diego/MMC/2024_2/OL/olenv/lib/python3.12/site-packages (2.2.0)\n",
      "\n",
      "\u001b[1m[\u001b[0m\u001b[34;49mnotice\u001b[0m\u001b[1;39;49m]\u001b[0m\u001b[39;49m A new release of pip is available: \u001b[0m\u001b[31;49m24.2\u001b[0m\u001b[39;49m -> \u001b[0m\u001b[32;49m24.3.1\u001b[0m\n",
      "\u001b[1m[\u001b[0m\u001b[34;49mnotice\u001b[0m\u001b[1;39;49m]\u001b[0m\u001b[39;49m To update, run: \u001b[0m\u001b[32;49mpip install --upgrade pip\u001b[0m\n",
      "Note: you may need to restart the kernel to use updated packages.\n",
      "Requirement already satisfied: sympy in /home/diego/MMC/2024_2/OL/olenv/lib/python3.12/site-packages (1.13.3)\n",
      "Requirement already satisfied: mpmath<1.4,>=1.1.0 in /home/diego/MMC/2024_2/OL/olenv/lib/python3.12/site-packages (from sympy) (1.3.0)\n",
      "\n",
      "\u001b[1m[\u001b[0m\u001b[34;49mnotice\u001b[0m\u001b[1;39;49m]\u001b[0m\u001b[39;49m A new release of pip is available: \u001b[0m\u001b[31;49m24.2\u001b[0m\u001b[39;49m -> \u001b[0m\u001b[32;49m24.3.1\u001b[0m\n",
      "\u001b[1m[\u001b[0m\u001b[34;49mnotice\u001b[0m\u001b[1;39;49m]\u001b[0m\u001b[39;49m To update, run: \u001b[0m\u001b[32;49mpip install --upgrade pip\u001b[0m\n",
      "Note: you may need to restart the kernel to use updated packages.\n"
     ]
    }
   ],
   "source": [
    "%pip install numpy\n",
    "%pip install sympy\n",
    "%load_ext autoreload\n",
    "%autoreload 2\n",
    "from simplex_two_phases import simplex as simplex_two_phases\n",
    "from simplex import simplex\n",
    "    \n",
    "import numpy as np\n",
    "\n",
    "solution_types = {\n",
    "    -1: 'Unfeasible',\n",
    "    1: 'Optimal finite solution found',\n",
    "    2: 'Multiple optimal solutions found',\n",
    "    3: 'Unbounded'\n",
    "}"
   ]
  },
  {
   "cell_type": "markdown",
   "metadata": {},
   "source": [
    "# Exemplo"
   ]
  },
  {
   "cell_type": "code",
   "execution_count": 4,
   "metadata": {},
   "outputs": [
    {
     "name": "stdout",
     "output_type": "stream",
     "text": [
      "\n",
      "Exercicio Livro):\n",
      "\n",
      "Z_star = 16.0\n",
      "x_star = [0. 0. 4. 2. 0. 0. 0. 0. 0. 0.]\n",
      "I_star = [2 5 3 7 8 9]\n",
      "iterations = 2\n",
      "solution_type = 2 - Multiple optimal solutions found\n",
      "\n"
     ]
    },
    {
     "name": "stderr",
     "output_type": "stream",
     "text": [
      "/home/diego/MMC/2024_2/OL/jupyterlite-operations-research/content/simplex/simplex_two_phases.py:87: RuntimeWarning: divide by zero encountered in divide\n",
      "  ratios = np.where((y_k > 0) & artificials_in_base, x_I / y_k, np.inf)\n",
      "/home/diego/MMC/2024_2/OL/jupyterlite-operations-research/content/simplex/simplex_two_phases.py:87: RuntimeWarning: invalid value encountered in divide\n",
      "  ratios = np.where((y_k > 0) & artificials_in_base, x_I / y_k, np.inf)\n",
      "/home/diego/MMC/2024_2/OL/jupyterlite-operations-research/content/simplex/simplex_two_phases.py:91: RuntimeWarning: divide by zero encountered in divide\n",
      "  ratios = np.where(y_k > 0, x_I / y_k, np.inf)\n",
      "/home/diego/MMC/2024_2/OL/jupyterlite-operations-research/content/simplex/simplex_two_phases.py:91: RuntimeWarning: invalid value encountered in divide\n",
      "  ratios = np.where(y_k > 0, x_I / y_k, np.inf)\n"
     ]
    }
   ],
   "source": [
    "# letra e\n",
    "A = np.array([\n",
    "    [-1, -5, 1, 0,-1, 0, 0, 0, 0, 0],\n",
    "    [-1, -5, 1, 0, 0, 1, 0, 0, 0, 0],\n",
    "    [-1, -3, 0, 1, 0, 0,-1, 0, 0, 0],\n",
    "    [-1, -3, 0, 1, 0, 0, 0, 1, 0, 0],\n",
    "    [-1, -5, 1, 0,-1, 0, 0, 0,-1, 0],\n",
    "    [-1, -5, 1, 0, 0, 1, 0, 0, 0,-1],\n",
    "])\n",
    "b = np.array([\n",
    "    4,\n",
    "    4,\n",
    "    2,\n",
    "    2,\n",
    "    4,\n",
    "    4,\n",
    "])\n",
    "c = np.array([\n",
    "    -2,\n",
    "    3,\n",
    "    4,\n",
    "    0,\n",
    "    0,\n",
    "    0,\n",
    "    0,\n",
    "    0,\n",
    "    0,\n",
    "    0\n",
    "])\n",
    "m, n = A.shape\n",
    "I = [4, 5, 6, 7, 8, 9]\n",
    "Z_star, x_I, I_star, A_I, A, iterations, solution_type, debug_info = simplex_two_phases(A, b, c, I, debug = True)\n",
    "#Z_star, x_star, I_star, iterations, solution_type = simplex(A, b, c, I, debug = True)\n",
    "x_star = np.zeros(n)\n",
    "x_star[I_star] = x_I\n",
    "result_repr = f'''\n",
    "Exercicio Livro):\n",
    "\n",
    "Z_star = {Z_star}\n",
    "x_star = {x_star}\n",
    "I_star = {I_star}\n",
    "iterations = {iterations}\n",
    "solution_type = {solution_type} - {solution_types[solution_type]}\n",
    "'''\n",
    "print(result_repr)"
   ]
  },
  {
   "cell_type": "code",
   "execution_count": 5,
   "metadata": {},
   "outputs": [
    {
     "name": "stdout",
     "output_type": "stream",
     "text": [
      "\n",
      "Exercicio 2 Lista Mara):\n",
      "\n",
      "Z_star = -32.0\n",
      "x_star = [0. 6. 2. 0. 0. 1.]\n",
      "I_star = [2 1 5]\n",
      "iterations = 2\n",
      "solution_type = 1 - Optimal finite solution found\n",
      "\n"
     ]
    }
   ],
   "source": [
    "A = np.array([\n",
    "    [1, 1, 0, 1, 0, 0],\n",
    "    [0, 1,-1, 0,-1, 0],\n",
    "    [4, 2, 1, 0, 0, 1]\n",
    "])\n",
    "b = np.array([\n",
    "    6,\n",
    "    4,\n",
    "    15\n",
    "])\n",
    "c = np.array([\n",
    "    -2, -5, -1, 0, 0, 0\n",
    "])\n",
    "m, n = A.shape\n",
    "I = [3, 4, 5]\n",
    "Z_star, x_I, I_star, A_I, A, iterations, solution_type, debug_info = simplex_two_phases(A, b, c, I, debug = True)\n",
    "#Z_star, x_star, I_star, iterations, solution_type = simplex(A, b, c, I, debug = True)\n",
    "x_star = np.zeros(n)\n",
    "x_star[I_star] = x_I\n",
    "result_repr = f'''\n",
    "Exercicio 2 Lista Mara):\n",
    "\n",
    "Z_star = {Z_star}\n",
    "x_star = {x_star}\n",
    "I_star = {I_star}\n",
    "iterations = {iterations}\n",
    "solution_type = {solution_type} - {solution_types[solution_type]}\n",
    "'''\n",
    "print(result_repr)"
   ]
  },
  {
   "cell_type": "code",
   "execution_count": 6,
   "metadata": {},
   "outputs": [
    {
     "name": "stdout",
     "output_type": "stream",
     "text": [
      "\n",
      "Exercicio 3 Lista Mara):\n",
      "\n",
      "Z_star = -48.0\n",
      "x_star = [ 0.  0.  8.  8.  0.  0. 12.]\n",
      "I_star = [3 6 2]\n",
      "iterations = 4\n",
      "solution_type = 1 - Optimal finite solution found\n",
      "\n"
     ]
    }
   ],
   "source": [
    "A = np.array([\n",
    "    [ 1, 0, 0, 1, 1, 0, 0],\n",
    "    [ 0, 1, 1, 0, 0, 1, 0],\n",
    "    [-1, 1, 1, 1, 0, 0,-1]\n",
    "])\n",
    "b = np.array([\n",
    "    8,\n",
    "    8,\n",
    "    4\n",
    "])\n",
    "c = np.array([\n",
    "    1,\n",
    "   -3,\n",
    "   -5,\n",
    "   -1,\n",
    "    0,\n",
    "    0,\n",
    "    0,\n",
    "])\n",
    "m, n = A.shape\n",
    "I = [4, 5, 6]\n",
    "Z_star, x_I, I_star, A_I, A, iterations, solution_type, debug_info = simplex_two_phases(A, b, c, I, debug = True)\n",
    "#Z_star, x_star, I_star, iterations, solution_type = simplex(A, b, c, I, debug = True)\n",
    "x_star = np.zeros(n)\n",
    "x_star[I_star] = x_I\n",
    "result_repr = f'''\n",
    "Exercicio 3 Lista Mara):\n",
    "\n",
    "Z_star = {Z_star}\n",
    "x_star = {x_star}\n",
    "I_star = {I_star}\n",
    "iterations = {iterations}\n",
    "solution_type = {solution_type} - {solution_types[solution_type]}\n",
    "'''\n",
    "print(result_repr)"
   ]
  },
  {
   "cell_type": "code",
   "execution_count": 7,
   "metadata": {},
   "outputs": [
    {
     "name": "stdout",
     "output_type": "stream",
     "text": [
      "\n",
      "Exercicio 4 Lista Mara):\n",
      "\n",
      "Z_star = -417680.0\n",
      "x_star = [189200.    800.  10000.  17920.      0. 188800.      0.      0.]\n",
      "I_star = [3 5 0 1 2]\n",
      "iterations = 4\n",
      "solution_type = 1 - Optimal finite solution found\n",
      "\n"
     ]
    }
   ],
   "source": [
    "A = np.array([\n",
    "    [0.2, 0.3, 0.4, 1, 0, 0, 0, 0],\n",
    "    [  1,   1,   1, 0, 1, 0, 0, 0],\n",
    "    [  1,   0,   0, 0, 0,-1, 0, 0],\n",
    "    [  0,   1,   0, 0, 0, 0,-1, 0],\n",
    "    [  0,   0,   1, 0, 0, 0, 0,-1]\n",
    "])\n",
    "b = np.array([\n",
    "    60000,\n",
    "    200000,\n",
    "    400,\n",
    "    800,\n",
    "    10000\n",
    "])\n",
    "c = np.array([\n",
    "    -2.16,\n",
    "    -1.26,\n",
    "    -0.8,\n",
    "    0,\n",
    "    0,\n",
    "    0,\n",
    "    0,\n",
    "    0\n",
    "])\n",
    "m, n = A.shape\n",
    "I = [3, 4, 5, 6, 7]\n",
    "Z_star, x_I, I_star, A_I, A, iterations, solution_type, debug_info = simplex_two_phases(A, b, c, I, debug = True)\n",
    "#Z_star, x_star, I_star, iterations, solution_type = simplex(A, b, c, I, debug = True)\n",
    "x_star = np.zeros(n)\n",
    "x_star[I_star] = x_I\n",
    "result_repr = f'''\n",
    "Exercicio 4 Lista Mara):\n",
    "\n",
    "Z_star = {Z_star}\n",
    "x_star = {x_star}\n",
    "I_star = {I_star}\n",
    "iterations = {iterations}\n",
    "solution_type = {solution_type} - {solution_types[solution_type]}\n",
    "'''\n",
    "print(result_repr)"
   ]
  }
 ],
 "metadata": {
  "kernelspec": {
   "display_name": "Python 3 (ipykernel)",
   "language": "python",
   "name": "python3"
  },
  "language_info": {
   "codemirror_mode": {
    "name": "ipython",
    "version": 3
   },
   "file_extension": ".py",
   "mimetype": "text/x-python",
   "name": "python",
   "nbconvert_exporter": "python",
   "pygments_lexer": "ipython3",
   "version": "3.12.7"
  }
 },
 "nbformat": 4,
 "nbformat_minor": 4
}
