{
  "metadata": {
    "kernelspec": {
      "name": "python",
      "display_name": "Python (Pyodide)",
      "language": "python"
    },
    "language_info": {
      "codemirror_mode": {
        "name": "python",
        "version": 3
      },
      "file_extension": ".py",
      "mimetype": "text/x-python",
      "name": "python",
      "nbconvert_exporter": "python",
      "pygments_lexer": "ipython3",
      "version": "3.8"
    }
  },
  "nbformat_minor": 4,
  "nbformat": 4,
  "cells": [
    {
      "cell_type": "markdown",
      "source": "# Exercício 3.4",
      "metadata": {}
    },
    {
      "cell_type": "code",
      "source": "%pip install numpy\nfrom simplex import simplex\nimport numpy as np\nfrom fractions import Fraction\n\nsolution_types = {\n    -1: 'Unfeasible',\n    1: 'Optimal finite solution found',\n    2: 'Multiple optimal solutions found',\n    3: 'Unbounded'\n}\n\nA = np.array([\n    [ 3,-3, 2, 1, 0],\n    [-1, 2, 1, 0, 1],\n])\nb = np.array([\n    3,\n    6\n])\nc = np.array([\n    -3,\n    -2,\n    -1,\n     0,\n     0\n])\nI = [3, 4]\nZ_star, x_star, I_star, iterations, solution_type = simplex(A, b, c, I, debug = True)\nresult_repr = f'''\nExercício 3.4:\n\nZ_star = {Z_star}\nx_star = {x_star}\nI_star = {I_star}\niterations = {iterations}\nsolution_type = {solution_type} - {solution_types[solution_type]}\n'''\nprint(result_repr)",
      "metadata": {
        "trusted": true
      },
      "outputs": [
        {
          "name": "stdout",
          "text": "\n--------------------------------------------------------------------------------\nSolution for:\n\nmin cᵀx\nsubject to:\nAx = b\n\nwhere \n\nc=[-3 -2 -1  0  0],\nx=['x_0' 'x_1' 'x_2' 'x_3' 'x_4'],\nA=\n[[ 3 -3  2  1  0]\n [-1  2  1  0  1]],\nb=\n[[3]\n [6]]\n\n\nAfter Iteration 1:\nBasic variables indices before: [3 4]\nNon-basic variables indices before: [0 1 2]\nBasic variables indices after: [0, 4]\nNon-basic variables indices after: [3, 1, 2]\nx_I = [3. 6.]\nA_I =\n[[1 0]\n [0 1]]\nA_I^-1 =\n[[1. 0.]\n [0. 1.]]\nA_J =\n[[ 3 -3  2]\n [-1  2  1]]\nπ = [0. 0.]\nz_0 = 0.0\nc_hat_J = [3. 2. 1.]\ny_k = [ 3. -1.]\nVariable to enter the basis: x_0\nVariable to leave the basis: x_3\n\nAfter Iteration 2:\nBasic variables indices before: [0 4]\nNon-basic variables indices before: [3 1 2]\nBasic variables indices after: [0, 1]\nNon-basic variables indices after: [3, 4, 2]\nx_I = [1. 7.]\nA_I =\n[[ 3  0]\n [-1  1]]\nA_I^-1 =\n[[0.33333333 0.        ]\n [0.33333333 1.        ]]\nA_J =\n[[ 1 -3  2]\n [ 0  2  1]]\nπ = [-1.  0.]\nz_0 = -3.0\nc_hat_J = [-1.  5. -1.]\ny_k = [-1.  1.]\nVariable to enter the basis: x_1\nVariable to leave the basis: x_4\n\nAfter Iteration 3:\nBasic variables indices before: [0 1]\nNon-basic variables indices before: [3 4 2]\nBasic variables indices after: [0, 1]\nNon-basic variables indices after: [3, 4, 2]\nx_I = [8. 7.]\nA_I =\n[[ 3 -3]\n [-1  2]]\nA_I^-1 =\n[[0.66666667 1.        ]\n [0.33333333 1.        ]]\nA_J =\n[[1 0 2]\n [0 1 1]]\nπ = [-2.66666667 -5.        ]\nz_0 = -38.0\nc_hat_J = [-2.66666667 -5.         -9.33333333]\ny_k = [-1.  1.]\nVariable to enter the basis: x_None\nVariable to leave the basis: x_None\n\n\nExercício 3.4:\n\nZ_star = -38.0\nx_star = [8. 7. 0. 0. 0.]\nI_star = [0, 1]\niterations = 3\nsolution_type = 1 - Optimal finite solution found\n\n",
          "output_type": "stream"
        }
      ],
      "execution_count": 1
    },
    {
      "cell_type": "code",
      "source": "",
      "metadata": {
        "trusted": true
      },
      "outputs": [],
      "execution_count": null
    }
  ]
}