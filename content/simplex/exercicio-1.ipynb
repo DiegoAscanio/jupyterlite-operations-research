{
  "metadata": {
    "kernelspec": {
      "name": "python",
      "display_name": "Python (Pyodide)",
      "language": "python"
    },
    "language_info": {
      "codemirror_mode": {
        "name": "python",
        "version": 3
      },
      "file_extension": ".py",
      "mimetype": "text/x-python",
      "name": "python",
      "nbconvert_exporter": "python",
      "pygments_lexer": "ipython3",
      "version": "3.8"
    }
  },
  "nbformat_minor": 4,
  "nbformat": 4,
  "cells": [
    {
      "cell_type": "code",
      "source": "%pip install numpy\nimport simplex\nimport numpy as np\n\nsolution_types = {\n    -1: 'Unfeasible',\n    1: 'Optimal finite solution found',\n    2: 'Multiple optimal solutions found',\n    3: 'Unbounded'\n}",
      "metadata": {
        "trusted": true
      },
      "outputs": [],
      "execution_count": 1
    },
    {
      "cell_type": "markdown",
      "source": "# Letra a)",
      "metadata": {}
    },
    {
      "cell_type": "code",
      "source": "# letra a\nA = np.array([\n    [2, 3, 1, 0, 0],\n    [2, 1, 0, 1, 0],\n    [3, 3, 0, 0, 1]\n])\nb = np.array([\n    18,\n    12,\n    24\n])\nc = np.array([\n    -5,\n    -6,\n    0,\n    0,\n    0\n])\nI = [2, 3, 4]\nZ_star, x_star, I_star, iterations, solution_type = simplex.simplex(A, b, c, I, debug = True)\nresult_repr = f'''\nLetra a):\n\nZ_star = {Z_star}\nx_star = {x_star}\nI_star = {I_star}\niterations = {iterations}\nsolution_type = {solution_type} - {solution_types[solution_type]}\n'''\nprint(result_repr)",
      "metadata": {
        "trusted": true
      },
      "outputs": [],
      "execution_count": null
    },
    {
      "cell_type": "markdown",
      "source": "# Letra b)",
      "metadata": {}
    },
    {
      "cell_type": "code",
      "source": "# letra b\nA = np.array([\n    [1, 3, 1, 0, 0, 0],\n    [2, 2, 0, 1, 0, 0],\n    [1,-1, 0, 0, 1, 0],\n    [0, 1, 0, 0, 0, 1]\n])\nb = np.array([\n    7,\n    8,\n    -3,\n    2\n])\nc = np.array([\n    4,\n    -2,\n    0,\n    0,\n    0,\n    0\n])\nI = [2, 3, 4, 5]\nZ_star, x_star, I_star, iterations, solution_type = simplex.simplex(A, b, c, I, debug = True)\nresult_repr = f'''\nLetra b):\n\nZ_star = {Z_star}\nx_star = {x_star}\nI_star = {I_star}\niterations = {iterations}\nsolution_type = {solution_type} - {solution_types[solution_type]}\n'''\nprint(result_repr)",
      "metadata": {
        "trusted": true
      },
      "outputs": [],
      "execution_count": null
    },
    {
      "cell_type": "markdown",
      "source": "# Letra c)",
      "metadata": {}
    },
    {
      "cell_type": "code",
      "source": "# letra c\nA = np.array([\n    [-1, -1, 1, 0, 0],\n    [-1,  1, 0, 1, 0],\n    [ 1,  2, 0, 0, 1]\n])\nb = np.array([\n    -3,\n    -1,\n    4\n])\nc = np.array([\n    -1,\n    -3,\n    0,\n    0,\n    0\n])\nI = [2, 3, 4]\nZ_star, x_star, I_star, iterations, solution_type = simplex.simplex(A, b, c, I, debug = True)\nresult_repr = f'''\nLetra c):\n\nZ_star = {Z_star}\nx_star = {x_star}\nI_star = {I_star}\niterations = {iterations}\nsolution_type = {solution_type} - {solution_types[solution_type]}\n'''\nprint(result_repr)",
      "metadata": {
        "trusted": true
      },
      "outputs": [],
      "execution_count": null
    },
    {
      "cell_type": "markdown",
      "source": "# Letra d)",
      "metadata": {}
    },
    {
      "cell_type": "code",
      "source": "# letra d\nA = np.array([\n    [2, 3, -3, 1, 0],\n    [4, 2, -2, 0, 1],\n])\nb = np.array([\n     6,\n    -8\n])\nc = np.array([\n     1,\n     5,\n    -5,\n     0,\n     0\n])\nI = [3, 4]\nZ_star, x_star, I_star, iterations, solution_type = simplex.simplex(A, b, c, I, debug = True)\nresult_repr = f'''\nLetra d):\n\nZ_star = {Z_star}\nx_star = {x_star}\nI_star = {I_star}\niterations = {iterations}\nsolution_type = {solution_type} - {solution_types[solution_type]}\n'''\nprint(result_repr)",
      "metadata": {
        "trusted": true
      },
      "outputs": [
        {
          "name": "stdout",
          "text": "\n--------------------------------------------------------------------------------\nSolution for:\n\nmin cᵀx\nsubject to:\nAx = b\n\nwhere \n\nc=[ 1  5 -5  0  0],\nx=['x_0' 'x_1' 'x_2' 'x_3' 'x_4'],\nA=\n[[ 2  3 -3  1  0]\n [ 4  2 -2  0  1]],\nb=\n[[ 6]\n [-8]]\n\n\nAfter Iteration 1:\nBasic variables indices before: [3 4]\nNon-basic variables indices before: [0 1 2]\nBasic variables indices after: [3, 4]\nNon-basic variables indices after: [0, 1, 2]\nx_I = [ 6. -8.]\nA_I =\n[[1 0]\n [0 1]]\nA_I^-1 =\n[[1. 0.]\n [0. 1.]]\nA_J =\n[[ 2  3 -3]\n [ 4  2 -2]]\nπ = [0. 0.]\nz_0 = 0.0\nc_hat_J = [-1. -5.  5.]\nVariable to enter the basis: x_2\nVariable to leave the basis: x_None\n\n\nLetra d):\n\nZ_star = 0.0\nx_star = [ 0.  0.  0.  6. -8.]\nI_star = [3, 4]\niterations = 1\nsolution_type = 3 - Unbounded\n\n",
          "output_type": "stream"
        }
      ],
      "execution_count": 2
    },
    {
      "cell_type": "code",
      "source": "",
      "metadata": {
        "trusted": true
      },
      "outputs": [],
      "execution_count": null
    }
  ]
}