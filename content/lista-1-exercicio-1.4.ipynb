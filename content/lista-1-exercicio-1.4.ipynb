{
  "metadata": {
    "kernelspec": {
      "name": "python",
      "display_name": "Python (Pyodide)",
      "language": "python"
    },
    "language_info": {
      "codemirror_mode": {
        "name": "python",
        "version": 3
      },
      "file_extension": ".py",
      "mimetype": "text/x-python",
      "name": "python",
      "nbconvert_exporter": "python",
      "pygments_lexer": "ipython3",
      "version": "3.8"
    }
  },
  "nbformat_minor": 4,
  "nbformat": 4,
  "cells": [
    {
      "cell_type": "markdown",
      "source": "# 1. Captura do console do javascript para obter resultados do glpk no wasm",
      "metadata": {}
    },
    {
      "cell_type": "code",
      "source": "import js\n# interceptar console\njs_code = r'''\n// Variável para armazenar as saídas capturadas\nvar console_output = \"\";\n\n// Função para interceptar console.log\nfunction extendLog(logger) {\n    var original = console.log;\n    console.log = function() {\n        logger(Array.prototype.slice.call(arguments));\n        return original.apply(this, arguments);\n    }\n}\nfunction recorder(args) {\n    console_output += args.join(' ') + '\\n'\n}\nfunction cls() {\n    console_output = '';\n}\nextendLog(recorder);\n'''\njs.eval(js_code)",
      "metadata": {
        "trusted": true
      },
      "outputs": [],
      "execution_count": 2
    },
    {
      "cell_type": "markdown",
      "source": "# 2. Importação do glpk wasm",
      "metadata": {}
    },
    {
      "cell_type": "code",
      "source": "with open('js/glpsol.js', 'r') as f:\n    js_code = f.read()\njs.eval(js_code)",
      "metadata": {
        "trusted": true
      },
      "outputs": [],
      "execution_count": 3
    },
    {
      "cell_type": "markdown",
      "source": "# 3. Formulação do problema a) no formato cplex para o solver glpk",
      "metadata": {}
    },
    {
      "cell_type": "code",
      "source": "from js import FS, callMain, console_output\nPPL = '''Minimize\n  d1 + d2 + d3 + d4 + d5 + d6 + d7 + d8\nSubject To\n   c1: d1 - X1 >= -3\n   c2: d1 + X1 >= 3\n   c3: d2 - X2 >= -1\n   c4: d2 + X2 >= 1\n   c5: d3 - X1 >= 0\n   c6: d3 + X1 >= 0\n   c7: d4 - X2 >= 3\n   c8: d4 + X2 >= -3\n   c9: d5 - X1 >= 2\n  c10: d5 + X1 >= -2\n  c11: d6 - X2 >= -2\n  c12: d6 + X2 >= 2\n  c13: d7 - X1 >= -1\n  c14: d7 + X1 >= 1\n  c15: d8 - X2 >= -4\n  c16: d8 + X2 >= 4\n  c17: -4 X1 + 3 X2 >= -9\n  c18: 5 X1  + 2 X2 >= -6\n  c19: 2 X1  - 3 X2 >= -10\n  c20: -3 X1 - 2 X2 >= -11\nBounds\n  X1 free\n  X2 free\n  d1 >= 0\n  d2 >= 0\n  d3 >= 0\n  d4 >= 0\n  d5 >= 0\n  d6 >= 0\n  d7 >= 0\n  d8 >= 0\nEnd'''\n\nFS.writeFile('/problem.lp', PPL)",
      "metadata": {
        "trusted": true
      },
      "outputs": [],
      "execution_count": 13
    },
    {
      "cell_type": "markdown",
      "source": "# Resolucao pelo GLPK:",
      "metadata": {}
    },
    {
      "cell_type": "code",
      "source": "js.eval('''callMain([\"--lp\", \"/problem.lp\", \"-o\", \"/solution\"])''')",
      "metadata": {
        "trusted": true
      },
      "outputs": [
        {
          "execution_count": 14,
          "output_type": "execute_result",
          "data": {
            "text/plain": "0"
          },
          "metadata": {}
        }
      ],
      "execution_count": 14
    },
    {
      "cell_type": "markdown",
      "source": "# Lendo a solução",
      "metadata": {}
    },
    {
      "cell_type": "code",
      "source": "print(\n    FS.readFile('/solution', encoding='utf8')\n)",
      "metadata": {
        "trusted": true
      },
      "outputs": [
        {
          "name": "stdout",
          "text": "Problem:    \nRows:       20\nColumns:    10\nNon-zeros:  40\nStatus:     OPTIMAL\nObjective:  obj = 14 (MINimum)\n\n   No.   Row name   St   Activity     Lower bound   Upper bound    Marginal\n------ ------------ -- ------------- ------------- ------------- -------------\n     1 c1           B              3            -3               \n     2 c2           NL             3             3                           1 \n     3 c3           NL            -1            -1                           1 \n     4 c4           B              3             1               \n     5 c5           NL             0             0                           1 \n     6 c6           B              0             0               \n     7 c7           NL             3             3                           1 \n     8 c8           B              7            -3               \n     9 c9           NL             2             2                           1 \n    10 c10          B              2            -2               \n    11 c11          B             -2            -2               \n    12 c12          NL             2             2                           1 \n    13 c13          B              1            -1               \n    14 c14          NL             1             1                           1 \n    15 c15          B              0            -4               \n    16 c16          NL             4             4                           1 \n    17 c17          B              6            -9               \n    18 c18          B              4            -6               \n    19 c19          B             -6           -10               \n    20 c20          B             -4           -11               \n\n   No. Column name  St   Activity     Lower bound   Upper bound    Marginal\n------ ------------ -- ------------- ------------- ------------- -------------\n     1 d1           B              3             0               \n     2 d2           B              1             0               \n     3 d3           NL             0             0                       < eps\n     4 d4           B              5             0               \n     5 d5           B              2             0               \n     6 d6           NL             0             0                       < eps\n     7 d7           B              1             0               \n     8 d8           B              2             0               \n     9 X1           B              0                             \n    10 X2           B              2                             \n\nKarush-Kuhn-Tucker optimality conditions:\n\nKKT.PE: max.abs.err = 0.00e+00 on row 0\n        max.rel.err = 0.00e+00 on row 0\n        High quality\n\nKKT.PB: max.abs.err = 0.00e+00 on row 0\n        max.rel.err = 0.00e+00 on row 0\n        High quality\n\nKKT.DE: max.abs.err = 0.00e+00 on column 0\n        max.rel.err = 0.00e+00 on column 0\n        High quality\n\nKKT.DB: max.abs.err = 0.00e+00 on row 0\n        max.rel.err = 0.00e+00 on row 0\n        High quality\n\nEnd of output\n\n",
          "output_type": "stream"
        }
      ],
      "execution_count": 15
    },
    {
      "cell_type": "code",
      "source": "",
      "metadata": {
        "trusted": true
      },
      "outputs": [],
      "execution_count": null
    }
  ]
}