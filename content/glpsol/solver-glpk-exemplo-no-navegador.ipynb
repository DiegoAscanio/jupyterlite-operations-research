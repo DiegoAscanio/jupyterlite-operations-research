{
  "metadata": {
    "kernelspec": {
      "name": "python",
      "display_name": "Python (Pyodide)",
      "language": "python"
    },
    "language_info": {
      "codemirror_mode": {
        "name": "python",
        "version": 3
      },
      "file_extension": ".py",
      "mimetype": "text/x-python",
      "name": "python",
      "nbconvert_exporter": "python",
      "pygments_lexer": "ipython3",
      "version": "3.8"
    }
  },
  "nbformat_minor": 4,
  "nbformat": 4,
  "cells": [
    {
      "cell_type": "code",
      "source": "import js\n# interceptar console\njs_code = r'''\n// Variável para armazenar as saídas capturadas\nvar console_output = \"\";\n\n// Função para interceptar console.log\nfunction extendLog(logger) {\n    var original = console.log;\n    console.log = function() {\n        logger(Array.prototype.slice.call(arguments));\n        return original.apply(this, arguments);\n    }\n}\nfunction recorder(args) {\n    console_output += args.join(' ') + '\\n'\n}\nfunction cls() {\n    console_output = '';\n}\nextendLog(recorder);\n'''\njs.eval(js_code)",
      "metadata": {
        "trusted": true
      },
      "outputs": [],
      "execution_count": 1
    },
    {
      "cell_type": "code",
      "source": "js.eval('''\n    console_output\n''')",
      "metadata": {
        "trusted": true
      },
      "outputs": [
        {
          "execution_count": 2,
          "output_type": "execute_result",
          "data": {
            "text/plain": "''"
          },
          "metadata": {}
        }
      ],
      "execution_count": 2
    },
    {
      "cell_type": "code",
      "source": "with open('glpsol.js', 'r') as f:\n    js_code = f.read()\njs.eval(js_code)",
      "metadata": {
        "trusted": true
      },
      "outputs": [],
      "execution_count": 3
    },
    {
      "cell_type": "code",
      "source": "js.eval('cls();');\njs.eval('''callMain(['--help']);''')",
      "metadata": {
        "trusted": true
      },
      "outputs": [
        {
          "ename": "<class 'pyodide.ffi.JsException'>",
          "evalue": "TypeError: __emscripten_stack_alloc is not a function",
          "traceback": [
            "\u001b[0;31m---------------------------------------------------------------------------\u001b[0m",
            "\u001b[0;31mJsException\u001b[0m                               Traceback (most recent call last)",
            "Cell \u001b[0;32mIn[5], line 2\u001b[0m\n\u001b[1;32m      1\u001b[0m js\u001b[38;5;241m.\u001b[39meval(\u001b[38;5;124m'\u001b[39m\u001b[38;5;124mcls();\u001b[39m\u001b[38;5;124m'\u001b[39m);\n\u001b[0;32m----> 2\u001b[0m \u001b[43mjs\u001b[49m\u001b[38;5;241;43m.\u001b[39;49m\u001b[43meval\u001b[49m\u001b[43m(\u001b[49m\u001b[38;5;124;43m'''\u001b[39;49m\u001b[38;5;124;43mcallMain([\u001b[39;49m\u001b[38;5;124;43m'\u001b[39;49m\u001b[38;5;124;43m--help\u001b[39;49m\u001b[38;5;124;43m'\u001b[39;49m\u001b[38;5;124;43m]);\u001b[39;49m\u001b[38;5;124;43m'''\u001b[39;49m\u001b[43m)\u001b[49m\n",
            "\u001b[0;31mJsException\u001b[0m: TypeError: __emscripten_stack_alloc is not a function"
          ],
          "output_type": "error"
        }
      ],
      "execution_count": 5
    },
    {
      "cell_type": "code",
      "source": "print(js.eval('''\n    console_output\n'''))",
      "metadata": {
        "trusted": true
      },
      "outputs": [
        {
          "name": "stdout",
          "text": "",
          "output_type": "stream"
        },
        {
          "name": "stdout",
          "text": "\n",
          "output_type": "stream"
        }
      ],
      "execution_count": 6
    },
    {
      "cell_type": "code",
      "source": "from js import FS, callMain\nbasic_problem = '''\nMaximize\n obj: 3 x + 2 y\nSubject To\n constraint1: x + y <= 17\n constraint2: x - y <= 0\n constraint3: -x + y <= 0\nBounds\n 0 <= x\n 0 <= y\nEnd\n'''\nFS.writeFile('/problem.lp', basic_problem)",
      "metadata": {
        "trusted": true
      },
      "outputs": [],
      "execution_count": 7
    },
    {
      "cell_type": "code",
      "source": "js.eval('''callMain([\"--lp\", \"/problem.lp\", \"-o\", \"/solution\"])''')",
      "metadata": {
        "trusted": true
      },
      "outputs": [
        {
          "ename": "<class 'pyodide.ffi.JsException'>",
          "evalue": "TypeError: __emscripten_stack_alloc is not a function",
          "traceback": [
            "\u001b[0;31m---------------------------------------------------------------------------\u001b[0m",
            "\u001b[0;31mJsException\u001b[0m                               Traceback (most recent call last)",
            "Cell \u001b[0;32mIn[8], line 1\u001b[0m\n\u001b[0;32m----> 1\u001b[0m \u001b[43mjs\u001b[49m\u001b[38;5;241;43m.\u001b[39;49m\u001b[43meval\u001b[49m\u001b[43m(\u001b[49m\u001b[38;5;124;43m'''\u001b[39;49m\u001b[38;5;124;43mcallMain([\u001b[39;49m\u001b[38;5;124;43m\"\u001b[39;49m\u001b[38;5;124;43m--lp\u001b[39;49m\u001b[38;5;124;43m\"\u001b[39;49m\u001b[38;5;124;43m, \u001b[39;49m\u001b[38;5;124;43m\"\u001b[39;49m\u001b[38;5;124;43m/problem.lp\u001b[39;49m\u001b[38;5;124;43m\"\u001b[39;49m\u001b[38;5;124;43m, \u001b[39;49m\u001b[38;5;124;43m\"\u001b[39;49m\u001b[38;5;124;43m-o\u001b[39;49m\u001b[38;5;124;43m\"\u001b[39;49m\u001b[38;5;124;43m, \u001b[39;49m\u001b[38;5;124;43m\"\u001b[39;49m\u001b[38;5;124;43m/solution\u001b[39;49m\u001b[38;5;124;43m\"\u001b[39;49m\u001b[38;5;124;43m])\u001b[39;49m\u001b[38;5;124;43m'''\u001b[39;49m\u001b[43m)\u001b[49m\n",
            "\u001b[0;31mJsException\u001b[0m: TypeError: __emscripten_stack_alloc is not a function"
          ],
          "output_type": "error"
        }
      ],
      "execution_count": 8
    },
    {
      "cell_type": "code",
      "source": "print(js.eval('console_output'))",
      "metadata": {
        "trusted": true
      },
      "outputs": [
        {
          "name": "stdout",
          "text": "",
          "output_type": "stream"
        },
        {
          "name": "stdout",
          "text": "\n",
          "output_type": "stream"
        }
      ],
      "execution_count": 9
    },
    {
      "cell_type": "code",
      "source": "print(FS.readFile('/solution', encoding='utf8'))",
      "metadata": {
        "trusted": true
      },
      "outputs": [
        {
          "ename": "<class 'pyodide.ffi.JsException'>",
          "evalue": "Error: A value of type object with tag [object Object] was thrown as an error!\nString interpolation of the thrown value gives \"\"\"[object Object]\"\"\".\nThe thrown value's toString method returns \"\"\"[object Object]\"\"\".",
          "traceback": [
            "\u001b[0;31m---------------------------------------------------------------------------\u001b[0m",
            "\u001b[0;31mJsException\u001b[0m                               Traceback (most recent call last)",
            "Cell \u001b[0;32mIn[10], line 1\u001b[0m\n\u001b[0;32m----> 1\u001b[0m \u001b[38;5;28mprint\u001b[39m(\u001b[43mFS\u001b[49m\u001b[38;5;241;43m.\u001b[39;49m\u001b[43mreadFile\u001b[49m\u001b[43m(\u001b[49m\u001b[38;5;124;43m'\u001b[39;49m\u001b[38;5;124;43m/solution\u001b[39;49m\u001b[38;5;124;43m'\u001b[39;49m\u001b[43m,\u001b[49m\u001b[43m \u001b[49m\u001b[43mencoding\u001b[49m\u001b[38;5;241;43m=\u001b[39;49m\u001b[38;5;124;43m'\u001b[39;49m\u001b[38;5;124;43mutf8\u001b[39;49m\u001b[38;5;124;43m'\u001b[39;49m\u001b[43m)\u001b[49m)\n",
            "\u001b[0;31mJsException\u001b[0m: Error: A value of type object with tag [object Object] was thrown as an error!\nString interpolation of the thrown value gives \"\"\"[object Object]\"\"\".\nThe thrown value's toString method returns \"\"\"[object Object]\"\"\"."
          ],
          "output_type": "error"
        }
      ],
      "execution_count": 10
    },
    {
      "cell_type": "code",
      "source": "",
      "metadata": {
        "trusted": true
      },
      "outputs": [],
      "execution_count": null
    }
  ]
}