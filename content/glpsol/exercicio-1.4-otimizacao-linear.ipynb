{
  "metadata": {
    "language_info": {
      "codemirror_mode": {
        "name": "python",
        "version": 3
      },
      "file_extension": ".py",
      "mimetype": "text/x-python",
      "name": "python",
      "nbconvert_exporter": "python",
      "pygments_lexer": "ipython3",
      "version": "3.8"
    },
    "kernelspec": {
      "name": "python",
      "display_name": "Python (Pyodide)",
      "language": "python"
    }
  },
  "nbformat_minor": 4,
  "nbformat": 4,
  "cells": [
    {
      "cell_type": "markdown",
      "source": "Instalar o Solver",
      "metadata": {}
    },
    {
      "cell_type": "code",
      "source": "%pip install pulp",
      "metadata": {},
      "execution_count": null,
      "outputs": []
    },
    {
      "cell_type": "markdown",
      "source": "Importar pacotes necessarios",
      "metadata": {}
    },
    {
      "cell_type": "code",
      "source": "from pulp import LpProblem, LpMinimize, LpVariable",
      "metadata": {
        "trusted": true
      },
      "execution_count": null,
      "outputs": []
    },
    {
      "cell_type": "code",
      "source": "# criando um problema\nproblema = LpProblem('Problema_Localizacao_Maquina_Nova', LpMinimize)\n# criando as variaveis\ncoordenadas_maquina_nova = LpVariable.dicts(\n    'maquina_nova',\n    ['X_{}'.format(i+1) for i in range(2)],\n    0\n)\nmanhattan_x = LpVariable.dicts(\n    '',\n    ['U_{}'.format(i+1) for i in range(4)],\n    0\n)\nmanhattan_y = LpVariable.dicts(\n    '',\n    ['V_{}'.format(i+1) for i in range(4)],\n    0\n)\n# funcao objetivo - minimizar soma das distancias U_1 até U_4, V_1 até V_4\ndistancias  = [manhattan_x[i] for i in manhattan_x]\ndistancias += [manhattan_y[i] for i in manhattan_y]\nproblema += (\n    lpSum(\n        distancias,\n    ),\n    'Soma das distancias de manhattan entre a maquina nova e as antigas'\n)\n# adicionar as restricoes\n# U_1\nproblema += (\n    coordenadas_maquina_nova['X_1'] - 3 >= manhattan_x['U_1'],\n    '1'\n)\nproblema += (\n    - (coordenadas_maquina_nova['X_1'] - 3) <= - manhattan_x['U_1'],\n    '2'\n)\n# U_2\nproblema += (\n    coordenadas_maquina_nova['X_1'] >= manhattan_x['U_2'],\n    '3'\n)\nproblema += (\n    - (coordenadas_maquina_nova['X_1']) <= - manhattan_x['U_2'],\n    '4'\n)\n# U_3\nproblema += (\n    coordenadas_maquina_nova['X_1'] + 2 >= manhattan_x['U_3'],\n    '5'\n)\nproblema += (\n    - (coordenadas_maquina_nova['X_1'] + 2) <= - manhattan_x['U_3'],\n    '6'\n)\n# U_4\nproblema += (\n    coordenadas_maquina_nova['X_1'] - 1 >= manhattan_x['U_4'],\n    '7'\n)\nproblema += (\n    - (coordenadas_maquina_nova['X_1'] - 1) <= - manhattan_x['U_4'],\n    '8'\n)\n# V_1\nproblema += (\n    coordenadas_maquina_nova['X_2'] - 1 >= manhattan_y['V_1'],\n    '9'\n)\nproblema += (\n    - (coordenadas_maquina_nova['X_2'] - 1) <= - manhattan_y['V_1'],\n    '10'\n)\n# V_2\nproblema += (\n    coordenadas_maquina_nova['X_2'] + 3 >= manhattan_y['V_2'],\n    '11'\n)\nproblema += (\n    - (coordenadas_maquina_nova['X_2'] + 3) <= - manhattan_y['V_2'],\n    '12'\n)\n# V_3\nproblema += (\n    coordenadas_maquina_nova['X_2'] - 2 >= manhattan_y['V_3'],\n    '13'\n)\nproblema += (\n    - (coordenadas_maquina_nova['X_2'] - 2) <= - manhattan_y['V_3'],\n    '14'\n)\n# V_4\nproblema += (\n    coordenadas_maquina_nova['X_2'] - 4 >= manhattan_y['V_4'],\n    '15'\n)\nproblema += (\n    - (coordenadas_maquina_nova['X_2'] - 4) <= - manhattan_y['V_4'],\n    '16'\n)\ndisplay(problema)",
      "metadata": {
        "trusted": true
      },
      "execution_count": null,
      "outputs": []
    },
    {
      "cell_type": "code",
      "source": "import js\n# interceptar console\njs_code = r'''\n// Variável para armazenar as saídas capturadas\nvar console_output = \"\";\n\n// Função para interceptar console.log\nfunction extendLog(logger) {\n    var original = console.log;\n    console.log = function() {\n        logger(Array.prototype.slice.call(arguments));\n        return original.apply(this, arguments);\n    }\n}\nfunction recorder(args) {\n    console_output += args.join(' ') + '\\n'\n}\nfunction cls() {\n    console_output = '';\n}\nextendLog(recorder);\n'''\njs.eval(js_code)",
      "metadata": {
        "trusted": true
      },
      "execution_count": 1,
      "outputs": []
    },
    {
      "cell_type": "code",
      "source": "js.eval('''\n    console_output\n''')",
      "metadata": {
        "trusted": true
      },
      "execution_count": 2,
      "outputs": [
        {
          "execution_count": 2,
          "output_type": "execute_result",
          "data": {
            "text/plain": "''"
          },
          "metadata": {}
        }
      ]
    },
    {
      "cell_type": "code",
      "source": "with open('glpsol.js', 'r') as f:\n    js_code = f.read()\njs.eval(js_code)",
      "metadata": {
        "trusted": true
      },
      "execution_count": 3,
      "outputs": []
    },
    {
      "cell_type": "code",
      "source": "js.eval('cls();');\njs.eval('''callMain(['--help']);''')",
      "metadata": {
        "trusted": true
      },
      "execution_count": 4,
      "outputs": [
        {
          "execution_count": 4,
          "output_type": "execute_result",
          "data": {
            "text/plain": "0"
          },
          "metadata": {}
        }
      ]
    },
    {
      "cell_type": "code",
      "source": "print(js.eval('''\n    console_output\n'''))",
      "metadata": {
        "trusted": true
      },
      "execution_count": 7,
      "outputs": [
        {
          "name": "stdout",
          "text": "",
          "output_type": "stream"
        },
        {
          "name": "stdout",
          "text": "\n",
          "output_type": "stream"
        }
      ]
    },
    {
      "cell_type": "code",
      "source": "from js import FS, callMain\nbasic_problem = '''\nMaximize\n obj: 3 x + 2 y\nSubject To\n constraint1: x + y <= 17\n constraint2: x - y <= 0\n constraint3: -x + y <= 0\nBounds\n 0 <= x\n 0 <= y\nEnd\n'''\nFS.writeFile('/problem.lp', basic_problem)",
      "metadata": {
        "trusted": true
      },
      "execution_count": 42,
      "outputs": []
    },
    {
      "cell_type": "code",
      "source": "js.eval('''callMain([\"--lp\", \"/problem.lp\", \"-o\", \"/solution\"])''')",
      "metadata": {
        "trusted": true
      },
      "execution_count": 43,
      "outputs": [
        {
          "execution_count": 43,
          "output_type": "execute_result",
          "data": {
            "text/plain": "0"
          },
          "metadata": {}
        }
      ]
    },
    {
      "cell_type": "code",
      "source": "print(js.eval('console_output'))",
      "metadata": {
        "trusted": true
      },
      "execution_count": 44,
      "outputs": [
        {
          "name": "stdout",
          "text": "GLPSOL--GLPK LP/MIP Solver 5.0\nParameter(s) specified in the command line:\n --lp /problem.lp\nReading problem data from '/problem.lp'...\n1 row, 2 columns, 2 non-zeros\n9 lines were read\nGLPK Simplex Optimizer 5.0\n1 row, 2 columns, 2 non-zeros\nPreprocessing...\n1 row, 2 columns, 2 non-zeros\nScaling...\n A: min|aij| =  1.000e+00  max|aij| =  1.000e+00  ratio =  1.000e+00\nProblem data seem to be well scaled\nConstructing initial basis...\nSize of triangular part is 1\n*     0: obj =  -0.000000000e+00 inf =   0.000e+00 (2)\n*     1: obj =   1.500000000e+01 inf =   0.000e+00 (0)\nOPTIMAL LP SOLUTION FOUND\nTime used:   0.0 secs\nMemory used: 0.0 Mb (30497 bytes)\nGLPSOL--GLPK LP/MIP Solver 5.0\nParameter(s) specified in the command line:\n --lp /problem.lp\nReading problem data from '/problem.lp'...\n1 row, 2 columns, 2 non-zeros\n9 lines were read\nGLPK Simplex Optimizer 5.0\n1 row, 2 columns, 2 non-zeros\nPreprocessing...\n1 row, 2 columns, 2 non-zeros\nScaling...\n A: min|aij| =  1.000e+00  max|aij| =  1.000e+00  ratio =  1.000e+00\nProblem data seem to be well scaled\nConstructing initial basis...\nSize of triangular part is 1\n*     0: obj =   0.000000000e+00 inf =   0.000e+00 (0)\nOPTIMAL LP SOLUTION FOUND\nTime used:   0.0 secs\nMemory used: 0.0 Mb (30497 bytes)\nGLPSOL--GLPK LP/MIP Solver 5.0\nParameter(s) specified in the command line:\n --lp /problem.lp\nReading problem data from '/problem.lp'...\n/problem.lp:6: invalid symbol(s) beyond right-hand side\nCPLEX LP file processing error\nGLPSOL--GLPK LP/MIP Solver 5.0\nParameter(s) specified in the command line:\n --lp /problem.lp\nReading problem data from '/problem.lp'...\n2 rows, 2 columns, 4 non-zeros\n10 lines were read\nGLPK Simplex Optimizer 5.0\n2 rows, 2 columns, 4 non-zeros\nPreprocessing...\n2 rows, 2 columns, 4 non-zeros\nScaling...\n A: min|aij| =  1.000e+00  max|aij| =  3.000e+00  ratio =  3.000e+00\nProblem data seem to be well scaled\nConstructing initial basis...\nSize of triangular part is 2\n*     0: obj =  -0.000000000e+00 inf =   0.000e+00 (1)\n*     1: obj =   1.200000000e+01 inf =   0.000e+00 (0)\nOPTIMAL LP SOLUTION FOUND\nTime used:   0.0 secs\nMemory used: 0.0 Mb (30497 bytes)\nGLPSOL--GLPK LP/MIP Solver 5.0\nParameter(s) specified in the command line:\n --lp /problem.lp -o /solution\nReading problem data from '/problem.lp'...\n2 rows, 2 columns, 4 non-zeros\n10 lines were read\nGLPK Simplex Optimizer 5.0\n2 rows, 2 columns, 4 non-zeros\nPreprocessing...\n2 rows, 2 columns, 4 non-zeros\nScaling...\n A: min|aij| =  1.000e+00  max|aij| =  3.000e+00  ratio =  3.000e+00\nProblem data seem to be well scaled\nConstructing initial basis...\nSize of triangular part is 2\n*     0: obj =  -0.000000000e+00 inf =   0.000e+00 (1)\n*     1: obj =   1.200000000e+01 inf =   0.000e+00 (0)\nOPTIMAL LP SOLUTION FOUND\nTime used:   0.0 secs\nMemory used: 0.0 Mb (30497 bytes)\nWriting basic solution to '/solution'...\nGLPSOL--GLPK LP/MIP Solver 5.0\nParameter(s) specified in the command line:\n --lp /problem.lp -o /solution\nReading problem data from '/problem.lp'...\n1 row, 2 columns, 2 non-zeros\n9 lines were read\nGLPK Simplex Optimizer 5.0\n1 row, 2 columns, 2 non-zeros\nPreprocessing...\n1 row, 2 columns, 2 non-zeros\nScaling...\n A: min|aij| =  1.000e+00  max|aij| =  1.000e+00  ratio =  1.000e+00\nProblem data seem to be well scaled\nConstructing initial basis...\nSize of triangular part is 1\n*     0: obj =  -0.000000000e+00 inf =   0.000e+00 (2)\n*     1: obj =   1.500000000e+01 inf =   0.000e+00 (0)\nOPTIMAL LP SOLUTION FOUND\nTime used:   0.0 secs\nMemory used: 0.0 Mb (30497 bytes)\nWriting basic solution to '/solution'...\nGLPSOL--GLPK LP/MIP Solver 5.0\nParameter(s) specified in the command line:\n --lp /problem.lp -o /solution\nReading problem data from '/problem.lp'...\n1 row, 2 columns, 2 non-zeros\n9 lines were read\nGLPK Simplex Optimizer 5.0\n1 row, 2 columns, 2 non-zeros\nPreprocessing...\n1 row, 2 columns, 2 non-zeros\nScaling...\n A: min|aij| =  1.000e+00  max|aij| =  1.000e+00  ratio =  1.000e+00\nProblem data seem to be well scaled\nConstructing initial basis...\nSize of triangular part is 1\n*     0: obj =  -0.000000000e+00 inf =   0.000e+00 (2)\n*     1: obj =   5.100000000e+01 inf =   0.000e+00 (0)\nOPTIMAL LP SOLUTION FOUND\nTime used:   0.0 secs\nMemory used: 0.0 Mb (30497 bytes)\nWriting basic solution to '/solution'...\nGLPSOL--GLPK LP/MIP Solver 5.0\nParameter(s) specified in the command line:\n --lp /problem.lp -o /solution\nReading problem data from '/problem.lp'...\n3 rows, 2 columns, 6 non-zeros\n11 lines were read\nGLPK Simplex Optimizer 5.0\n3 rows, 2 columns, 6 non-zeros\nPreprocessing...\n3 rows, 2 columns, 6 non-zeros\nScaling...\n A: min|aij| =  1.000e+00  max|aij| =  1.000e+00  ratio =  1.000e+00\nProblem data seem to be well scaled\nConstructing initial basis...\nSize of triangular part is 3\n*     0: obj =  -0.000000000e+00 inf =   0.000e+00 (2)\n*     2: obj =   4.250000000e+01 inf =   0.000e+00 (0)\nOPTIMAL LP SOLUTION FOUND\nTime used:   0.0 secs\nMemory used: 0.0 Mb (30497 bytes)\nWriting basic solution to '/solution'...\n\n",
          "output_type": "stream"
        }
      ]
    },
    {
      "cell_type": "code",
      "source": "print(FS.readFile('/solution', encoding='utf8'))",
      "metadata": {
        "trusted": true
      },
      "execution_count": 46,
      "outputs": [
        {
          "name": "stdout",
          "text": "Problem:    \nRows:       3\nColumns:    2\nNon-zeros:  6\nStatus:     OPTIMAL\nObjective:  obj = 42.5 (MAXimum)\n\n   No.   Row name   St   Activity     Lower bound   Upper bound    Marginal\n------ ------------ -- ------------- ------------- ------------- -------------\n     1 constraint1  NU            17                          17           2.5 \n     2 constraint2  NU             0                           0           0.5 \n     3 constraint3  B              0                           0 \n\n   No. Column name  St   Activity     Lower bound   Upper bound    Marginal\n------ ------------ -- ------------- ------------- ------------- -------------\n     1 x            B            8.5             0               \n     2 y            B            8.5             0               \n\nKarush-Kuhn-Tucker optimality conditions:\n\nKKT.PE: max.abs.err = 0.00e+00 on row 0\n        max.rel.err = 0.00e+00 on row 0\n        High quality\n\nKKT.PB: max.abs.err = 0.00e+00 on row 0\n        max.rel.err = 0.00e+00 on row 0\n        High quality\n\nKKT.DE: max.abs.err = 0.00e+00 on column 0\n        max.rel.err = 0.00e+00 on column 0\n        High quality\n\nKKT.DB: max.abs.err = 0.00e+00 on row 0\n        max.rel.err = 0.00e+00 on row 0\n        High quality\n\nEnd of output\n\n",
          "output_type": "stream"
        }
      ]
    },
    {
      "cell_type": "code",
      "source": "",
      "metadata": {},
      "execution_count": null,
      "outputs": []
    }
  ]
}