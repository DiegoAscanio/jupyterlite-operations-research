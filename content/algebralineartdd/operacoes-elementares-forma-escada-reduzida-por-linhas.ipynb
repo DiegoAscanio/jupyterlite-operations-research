{
  "metadata": {
    "kernelspec": {
      "name": "python",
      "display_name": "Python (Pyodide)",
      "language": "python"
    },
    "language_info": {
      "codemirror_mode": {
        "name": "python",
        "version": 3
      },
      "file_extension": ".py",
      "mimetype": "text/x-python",
      "name": "python",
      "nbconvert_exporter": "python",
      "pygments_lexer": "ipython3",
      "version": "3.8"
    }
  },
  "nbformat_minor": 4,
  "nbformat": 4,
  "cells": [
    {
      "cell_type": "markdown",
      "source": "# 1. Execute os imports e instalações necessários",
      "metadata": {}
    },
    {
      "cell_type": "code",
      "source": "%pip install numpy\nimport matriz.matriz as matriz\nMatriz = matriz.MatrizBiDimensional",
      "metadata": {
        "trusted": true
      },
      "outputs": [],
      "execution_count": 5
    },
    {
      "cell_type": "markdown",
      "source": "# 2. Defina aqui sua matriz",
      "metadata": {}
    },
    {
      "cell_type": "code",
      "source": "A = [\n    [0, 5, 5],\n    [-1, 3, 5/2],\n    [2, 2, 3],\n]\nM = Matriz(A)",
      "metadata": {
        "trusted": true
      },
      "outputs": [],
      "execution_count": 14
    },
    {
      "cell_type": "markdown",
      "source": "# 3. Calcule a FERL (forma escada reduzida por linhas) da matriz mantendo na memória as operações elementares realizadas",
      "metadata": {}
    },
    {
      "cell_type": "code",
      "source": "M.forma_escada_linha_reduzida(enfileirar_operacoes_elementares = True)",
      "metadata": {
        "trusted": true
      },
      "outputs": [
        {
          "execution_count": 15,
          "output_type": "execute_result",
          "data": {
            "text/plain": "[[1.0, 0.0, 0.5]\n [0.0, 1.0, 1.0]\n [0.0, 0.0, 0.0]]"
          },
          "metadata": {}
        }
      ],
      "execution_count": 15
    },
    {
      "cell_type": "markdown",
      "source": "# 4. Mostre aqui a sequência de operações elementares aplicadas",
      "metadata": {}
    },
    {
      "cell_type": "code",
      "source": "def _str_operacao_elementar_permutacao(elementos_a_serem_permutados):\n    origem, destino = elementos_a_serem_permutados\n    origem += 1\n    destino += 1\n    return f'L{origem}, L{destino} <- L{destino}, L{origem}'\n\ndef _str_operacao_elementar_multiplicar_linha_por_escalar(linha_escalar):\n    linha, escalar = linha_escalar\n    linha += 1\n    return f'L{linha} <- {escalar} * L{linha}'\n\ndef _str_operacao_linear_subtrair_linhas(linha_destino_linha_subtraida_escalar):\n    destino, subtraida, escalar = linha_destino_linha_subtraida_escalar\n    sinal = '+' if escalar < 0 else '-'\n    escalar = abs(escalar)\n    destino += 1\n    subtraida += 1\n    return f'L{destino} <- L{destino} {sinal} {escalar} * L{subtraida}'\n\nmapa_operacao_elementar_representacao_textual = {\n    '__operacao_elementar_permutar_duas_linhas': _str_operacao_elementar_permutacao,\n    '__operacao_elementar_multiplicar_linha_por_escalar': _str_operacao_elementar_multiplicar_linha_por_escalar,\n    '__operacao_elementar_combinacao_linear_subtrair_linhas': _str_operacao_linear_subtrair_linhas\n}\n    \ndef representacao_textual_operacoes_elementares(M : Matriz):\n    return '\\n'.join(\n        '{:03d}: '.format(i + 1) + mapa_operacao_elementar_representacao_textual[operacao](parametros) for i, (operacao, parametros) in enumerate(M.fila_operacoes_elementares)\n    )\n\nprint('ordem da operação: operação')\nprint(representacao_textual_operacoes_elementares(M))",
      "metadata": {
        "trusted": true
      },
      "outputs": [
        {
          "name": "stdout",
          "text": "ordem da operação: operação\n001: L1, L2 <- L2, L1\n002: L1 <- -1.0 * L1\n003: L3 <- L3 - 2 * L1\n004: L2 <- 0.2 * L2\n005: L1 <- L1 + 3.0 * L2\n006: L3 <- L3 - 8.0 * L2\n",
          "output_type": "stream"
        }
      ],
      "execution_count": 32
    },
    {
      "cell_type": "code",
      "source": "",
      "metadata": {
        "trusted": true
      },
      "outputs": [],
      "execution_count": null
    }
  ]
}